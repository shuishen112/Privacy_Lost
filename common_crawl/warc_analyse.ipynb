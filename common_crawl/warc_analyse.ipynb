{
 "metadata": {
  "language_info": {
   "codemirror_mode": {
    "name": "ipython",
    "version": 3
   },
   "file_extension": ".py",
   "mimetype": "text/x-python",
   "name": "python",
   "nbconvert_exporter": "python",
   "pygments_lexer": "ipython3",
   "version": "3.7.3-final"
  },
  "orig_nbformat": 2,
  "kernelspec": {
   "name": "python3",
   "display_name": "Python 3.7.3 64-bit",
   "metadata": {
    "interpreter": {
     "hash": "398dc28c06ad810e77de546bbdfa897a6ee0b83e59a5207339dda01a7843e01d"
    }
   }
  }
 },
 "nbformat": 4,
 "nbformat_minor": 2,
 "cells": [
  {
   "source": [
    "## print the url for each WARC file"
   ],
   "cell_type": "markdown",
   "metadata": {}
  },
  {
   "cell_type": "code",
   "execution_count": 4,
   "metadata": {},
   "outputs": [
    {
     "output_type": "stream",
     "name": "stdout",
     "text": [
      "ParseResult(scheme='http', netloc='news.bbc.co.uk', path='/2/hi/africa/3414345.stm', params='', query='', fragment='')\nhttp://news.bbc.co.uk/2/hi/africa/3414345.stm\n"
     ]
    }
   ],
   "source": [
    "from warcio.archiveiterator import ArchiveIterator\n",
    "from urllib.parse import urlparse\n",
    "with open('common_crawl_bbc_sample.warc', 'rb') as stream:\n",
    "    for record in ArchiveIterator(stream):\n",
    "        if record.rec_type == 'response':\n",
    "            url = record.rec_headers.get_header('WARC-Target-URI')\n",
    "            url_split = urlparse(url)\n",
    "            print(url_split)\n",
    "            print(record.rec_headers.get_header('WARC-Target-URI'))"
   ]
  },
  {
   "source": [
    "## WARC Writing"
   ],
   "cell_type": "markdown",
   "metadata": {}
  },
  {
   "cell_type": "code",
   "execution_count": 1,
   "metadata": {},
   "outputs": [],
   "source": [
    "from warcio.capture_http import capture_http\n",
    "from warcio import WARCWriter\n",
    "import requests  # requests *must* be imported after capture_http\n",
    "\n",
    "with open('example.warc.gz', 'wb') as fh:\n",
    "    warc_writer = WARCWriter(fh)\n",
    "    with capture_http(warc_writer):\n",
    "        requests.get('https://baidu.com/')"
   ]
  },
  {
   "cell_type": "code",
   "execution_count": 5,
   "metadata": {},
   "outputs": [
    {
     "output_type": "error",
     "ename": "ModuleNotFoundError",
     "evalue": "No module named 'warc'",
     "traceback": [
      "\u001b[0;31m---------------------------------------------------------------------------\u001b[0m",
      "\u001b[0;31mModuleNotFoundError\u001b[0m                       Traceback (most recent call last)",
      "\u001b[0;32m<ipython-input-5-4035bc931d97>\u001b[0m in \u001b[0;36m<module>\u001b[0;34m\u001b[0m\n\u001b[1;32m      1\u001b[0m \u001b[0;34m\u001b[0m\u001b[0m\n\u001b[0;32m----> 2\u001b[0;31m \u001b[0;32mimport\u001b[0m \u001b[0mwarc\u001b[0m\u001b[0;34m\u001b[0m\u001b[0;34m\u001b[0m\u001b[0m\n\u001b[0m\u001b[1;32m      3\u001b[0m \u001b[0;34m\u001b[0m\u001b[0m\n\u001b[1;32m      4\u001b[0m \u001b[0mccfile\u001b[0m \u001b[0;34m=\u001b[0m \u001b[0mwarc\u001b[0m\u001b[0;34m.\u001b[0m\u001b[0mWARCFile\u001b[0m\u001b[0;34m(\u001b[0m\u001b[0;34m'example.warc'\u001b[0m\u001b[0;34m)\u001b[0m\u001b[0;34m\u001b[0m\u001b[0;34m\u001b[0m\u001b[0m\n\u001b[1;32m      5\u001b[0m \u001b[0;34m\u001b[0m\u001b[0m\n",
      "\u001b[0;31mModuleNotFoundError\u001b[0m: No module named 'warc'"
     ]
    }
   ],
   "source": [
    "\n",
    "import warc \n",
    "\n",
    "ccfile = warc.WARCFile('example.warc')\n",
    "\n",
    "for i,record in enumerate(ccfile):\n",
    "    print(record)"
   ]
  },
  {
   "cell_type": "code",
   "execution_count": null,
   "metadata": {},
   "outputs": [],
   "source": []
  }
 ]
}