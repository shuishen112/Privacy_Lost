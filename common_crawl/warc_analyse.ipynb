{
 "metadata": {
  "language_info": {
   "codemirror_mode": {
    "name": "ipython",
    "version": 3
   },
   "file_extension": ".py",
   "mimetype": "text/x-python",
   "name": "python",
   "nbconvert_exporter": "python",
   "pygments_lexer": "ipython3",
   "version": "3.7.3-final"
  },
  "orig_nbformat": 2,
  "kernelspec": {
   "name": "python3",
   "display_name": "Python 3",
   "language": "python"
  }
 },
 "nbformat": 4,
 "nbformat_minor": 2,
 "cells": [
  {
   "source": [
    "## print the url for each WARC file"
   ],
   "cell_type": "markdown",
   "metadata": {}
  },
  {
   "cell_type": "code",
   "execution_count": 4,
   "metadata": {},
   "outputs": [
    {
     "output_type": "stream",
     "name": "stdout",
     "text": [
      "ParseResult(scheme='http', netloc='news.bbc.co.uk', path='/2/hi/africa/3414345.stm', params='', query='', fragment='')\nhttp://news.bbc.co.uk/2/hi/africa/3414345.stm\n"
     ]
    }
   ],
   "source": [
    "from warcio.archiveiterator import ArchiveIterator\n",
    "from urllib.parse import urlparse\n",
    "with open('common_crawl_bbc_sample.warc', 'rb') as stream:\n",
    "    for record in ArchiveIterator(stream):\n",
    "        if record.rec_type == 'response':\n",
    "            url = record.rec_headers.get_header('WARC-Target-URI')\n",
    "            url_split = urlparse(url)\n",
    "            print(url_split)\n",
    "            print(record.rec_headers.get_header('WARC-Target-URI'))"
   ]
  },
  {
   "source": [
    "## WARC Writing"
   ],
   "cell_type": "markdown",
   "metadata": {}
  },
  {
   "cell_type": "code",
   "execution_count": 1,
   "metadata": {},
   "outputs": [],
   "source": [
    "from warcio.capture_http import capture_http\n",
    "from warcio import WARCWriter\n",
    "import requests  # requests *must* be imported after capture_http\n",
    "\n",
    "with open('example.warc.gz', 'wb') as fh:\n",
    "    warc_writer = WARCWriter(fh)\n",
    "    with capture_http(warc_writer):\n",
    "        requests.get('https://baidu.com/')"
   ]
  },
  {
   "cell_type": "code",
   "execution_count": 17,
   "metadata": {
    "tags": []
   },
   "outputs": [
    {
     "output_type": "stream",
     "name": "stdout",
     "text": [
      "AW Aruba\nAF Afghanistan\nAO Angola\nAI Anguilla\nAX Åland Islands\nAL Albania\nAD Andorra\nAE United Arab Emirates\nAR Argentina\nAM Armenia\nAS American Samoa\nAQ Antarctica\nTF French Southern Territories\nAG Antigua and Barbuda\nAU Australia\nAT Austria\nAZ Azerbaijan\nBI Burundi\nBE Belgium\nBJ Benin\nBQ Bonaire, Sint Eustatius and Saba\nBF Burkina Faso\nBD Bangladesh\nBG Bulgaria\nBH Bahrain\nBS Bahamas\nBA Bosnia and Herzegovina\nBL Saint Barthélemy\nBY Belarus\nBZ Belize\nBM Bermuda\nBO Bolivia, Plurinational State of\nBR Brazil\nBB Barbados\nBN Brunei Darussalam\nBT Bhutan\nBV Bouvet Island\nBW Botswana\nCF Central African Republic\nCA Canada\nCC Cocos (Keeling) Islands\nCH Switzerland\nCL Chile\nCN China\nCI Côte d'Ivoire\nCM Cameroon\nCD Congo, The Democratic Republic of the\nCG Congo\nCK Cook Islands\nCO Colombia\nKM Comoros\nCV Cabo Verde\nCR Costa Rica\nCU Cuba\nCW Curaçao\nCX Christmas Island\nKY Cayman Islands\nCY Cyprus\nCZ Czechia\nDE Germany\nDJ Djibouti\nDM Dominica\nDK Denmark\nDO Dominican Republic\nDZ Algeria\nEC Ecuador\nEG Egypt\nER Eritrea\nEH Western Sahara\nES Spain\nEE Estonia\nET Ethiopia\nFI Finland\nFJ Fiji\nFK Falkland Islands (Malvinas)\nFR France\nFO Faroe Islands\nFM Micronesia, Federated States of\nGA Gabon\nGB United Kingdom\nGE Georgia\nGG Guernsey\nGH Ghana\nGI Gibraltar\nGN Guinea\nGP Guadeloupe\nGM Gambia\nGW Guinea-Bissau\nGQ Equatorial Guinea\nGR Greece\nGD Grenada\nGL Greenland\nGT Guatemala\nGF French Guiana\nGU Guam\nGY Guyana\nHK Hong Kong\nHM Heard Island and McDonald Islands\nHN Honduras\nHR Croatia\nHT Haiti\nHU Hungary\nID Indonesia\nIM Isle of Man\nIN India\nIO British Indian Ocean Territory\nIE Ireland\nIR Iran, Islamic Republic of\nIQ Iraq\nIS Iceland\nIL Israel\nIT Italy\nJM Jamaica\nJE Jersey\nJO Jordan\nJP Japan\nKZ Kazakhstan\nKE Kenya\nKG Kyrgyzstan\nKH Cambodia\nKI Kiribati\nKN Saint Kitts and Nevis\nKR Korea, Republic of\nKW Kuwait\nLA Lao People's Democratic Republic\nLB Lebanon\nLR Liberia\nLY Libya\nLC Saint Lucia\nLI Liechtenstein\nLK Sri Lanka\nLS Lesotho\nLT Lithuania\nLU Luxembourg\nLV Latvia\nMO Macao\nMF Saint Martin (French part)\nMA Morocco\nMC Monaco\nMD Moldova, Republic of\nMG Madagascar\nMV Maldives\nMX Mexico\nMH Marshall Islands\nMK North Macedonia\nML Mali\nMT Malta\nMM Myanmar\nME Montenegro\nMN Mongolia\nMP Northern Mariana Islands\nMZ Mozambique\nMR Mauritania\nMS Montserrat\nMQ Martinique\nMU Mauritius\nMW Malawi\nMY Malaysia\nYT Mayotte\nNA Namibia\nNC New Caledonia\nNE Niger\nNF Norfolk Island\nNG Nigeria\nNI Nicaragua\nNU Niue\nNL Netherlands\nNO Norway\nNP Nepal\nNR Nauru\nNZ New Zealand\nOM Oman\nPK Pakistan\nPA Panama\nPN Pitcairn\nPE Peru\nPH Philippines\nPW Palau\nPG Papua New Guinea\nPL Poland\nPR Puerto Rico\nKP Korea, Democratic People's Republic of\nPT Portugal\nPY Paraguay\nPS Palestine, State of\nPF French Polynesia\nQA Qatar\nRE Réunion\nRO Romania\nRU Russian Federation\nRW Rwanda\nSA Saudi Arabia\nSD Sudan\nSN Senegal\nSG Singapore\nGS South Georgia and the South Sandwich Islands\nSH Saint Helena, Ascension and Tristan da Cunha\nSJ Svalbard and Jan Mayen\nSB Solomon Islands\nSL Sierra Leone\nSV El Salvador\nSM San Marino\nSO Somalia\nPM Saint Pierre and Miquelon\nRS Serbia\nSS South Sudan\nST Sao Tome and Principe\nSR Suriname\nSK Slovakia\nSI Slovenia\nSE Sweden\nSZ Eswatini\nSX Sint Maarten (Dutch part)\nSC Seychelles\nSY Syrian Arab Republic\nTC Turks and Caicos Islands\nTD Chad\nTG Togo\nTH Thailand\nTJ Tajikistan\nTK Tokelau\nTM Turkmenistan\nTL Timor-Leste\nTO Tonga\nTT Trinidad and Tobago\nTN Tunisia\nTR Turkey\nTV Tuvalu\nTW Taiwan, Province of China\nTZ Tanzania, United Republic of\nUG Uganda\nUA Ukraine\nUM United States Minor Outlying Islands\nUY Uruguay\nUS United States\nUZ Uzbekistan\nVA Holy See (Vatican City State)\nVC Saint Vincent and the Grenadines\nVE Venezuela, Bolivarian Republic of\nVG Virgin Islands, British\nVI Virgin Islands, U.S.\nVN Viet Nam\nVU Vanuatu\nWF Wallis and Futuna\nWS Samoa\nYE Yemen\nZA South Africa\nZM Zambia\nZW Zimbabwe\n"
     ]
    }
   ],
   "source": [
    "import pycountry\n",
    "\n",
    "# print(len(pycountry.countries))\n",
    "\n",
    "country_dict = dict()\n",
    "for country in pycountry.countries:\n",
    "    print(country.alpha_2,country.name)\n"
   ]
  },
  {
   "cell_type": "code",
   "execution_count": null,
   "metadata": {},
   "outputs": [],
   "source": []
  }
 ]
}