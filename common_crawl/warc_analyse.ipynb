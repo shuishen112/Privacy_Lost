{
 "metadata": {
  "language_info": {
   "codemirror_mode": {
    "name": "ipython",
    "version": 3
   },
   "file_extension": ".py",
   "mimetype": "text/x-python",
   "name": "python",
   "nbconvert_exporter": "python",
   "pygments_lexer": "ipython3",
   "version": "3.7.3"
  },
  "orig_nbformat": 2,
  "kernelspec": {
   "name": "python373jvsc74a57bd0398dc28c06ad810e77de546bbdfa897a6ee0b83e59a5207339dda01a7843e01d",
   "display_name": "Python 3.7.3 64-bit ('anaconda3': virtualenv)",
   "language": "python"
  },
  "interpreter": {
   "hash": "398dc28c06ad810e77de546bbdfa897a6ee0b83e59a5207339dda01a7843e01d"
  }
 },
 "nbformat": 4,
 "nbformat_minor": 2,
 "cells": [
  {
   "source": [
    "## print the url for each WARC file"
   ],
   "cell_type": "markdown",
   "metadata": {}
  },
  {
   "cell_type": "code",
   "execution_count": null,
   "metadata": {},
   "outputs": [],
   "source": [
    "from urllib.parse import urlparse\n",
    "\n",
    "url_split = urlparse(\"https://www.coursera.org/$%7BvideoUrl%7D\")\n",
    "print(url)"
   ]
  },
  {
   "cell_type": "code",
   "execution_count": 6,
   "metadata": {
    "tags": [
     "outputPrepend"
    ]
   },
   "outputs": [
    {
     "output_type": "error",
     "ename": "Error",
     "evalue": "ModuleNotFoundError",
     "traceback": [
      "Error: ModuleNotFoundError",
      "at _.parseConnectInfo (/Users/zhansu/.vscode/extensions/ms-toolsai.jupyter-2021.6.999662501/out/client/extension.js:90:160608)",
      "at _.connectToLocal (/Users/zhansu/.vscode/extensions/ms-toolsai.jupyter-2021.6.999662501/out/client/extension.js:90:161211)",
      "at async _.connect (/Users/zhansu/.vscode/extensions/ms-toolsai.jupyter-2021.6.999662501/out/client/extension.js:90:159088)",
      "at async _.startDebugSession (/Users/zhansu/.vscode/extensions/ms-toolsai.jupyter-2021.6.999662501/out/client/extension.js:90:158235)",
      "at async D.submitCode (/Users/zhansu/.vscode/extensions/ms-toolsai.jupyter-2021.6.999662501/out/client/extension.js:37:636585)",
      "at async D.handleRunByLine (/Users/zhansu/.vscode/extensions/ms-toolsai.jupyter-2021.6.999662501/out/client/extension.js:37:624528)"
     ]
    }
   ],
   "source": [
    "from warcio.archiveiterator import ArchiveIterator\n",
    "from urllib.parse import urlparse\n",
    "with open('CC-MAIN-20210505203909-20210505233909-00000.warc.gz', 'rb') as stream:\n",
    "    for record in ArchiveIterator(stream):\n",
    "        if record.rec_type == 'response':\n",
    "            url = record.rec_headers.get_header('WARC-Target-URI')\n",
    "            url_split = urlparse(url)\n",
    "            domain = '.'.join(url_split.netloc.split('.')[-2:])\n",
    "            print(domain)\n",
    "        # if record.http_headers.get_header('Content-Type') == 'text/html':\n",
    "        #     print(record.rec_headers.get_header('WARC-Target-URI'))\n",
    "        #     print(record.content_stream().read())\n",
    "        #     print('')"
   ]
  },
  {
   "source": [
    "## WARC Writing"
   ],
   "cell_type": "markdown",
   "metadata": {}
  },
  {
   "cell_type": "code",
   "execution_count": 1,
   "metadata": {},
   "outputs": [],
   "source": [
    "from warcio.capture_http import capture_http\n",
    "from warcio import WARCWriter\n",
    "import requests  # requests *must* be imported after capture_http\n",
    "\n",
    "with open('example.warc.gz', 'wb') as fh:\n",
    "    warc_writer = WARCWriter(fh)\n",
    "    with capture_http(warc_writer):\n",
    "        requests.get('https://baidu.com/')"
   ]
  },
  {
   "cell_type": "code",
   "execution_count": 20,
   "metadata": {
    "tags": []
   },
   "outputs": [
    {
     "output_type": "stream",
     "name": "stdout",
     "text": [
      "{'AW': 'Aruba', 'AF': 'Afghanistan', 'AO': 'Angola', 'AI': 'Anguilla', 'AX': 'Åland Islands', 'AL': 'Albania', 'AD': 'Andorra', 'AE': 'United Arab Emirates', 'AR': 'Argentina', 'AM': 'Armenia', 'AS': 'American Samoa', 'AQ': 'Antarctica', 'TF': 'French Southern Territories', 'AG': 'Antigua and Barbuda', 'AU': 'Australia', 'AT': 'Austria', 'AZ': 'Azerbaijan', 'BI': 'Burundi', 'BE': 'Belgium', 'BJ': 'Benin', 'BQ': 'Bonaire, Sint Eustatius and Saba', 'BF': 'Burkina Faso', 'BD': 'Bangladesh', 'BG': 'Bulgaria', 'BH': 'Bahrain', 'BS': 'Bahamas', 'BA': 'Bosnia and Herzegovina', 'BL': 'Saint Barthélemy', 'BY': 'Belarus', 'BZ': 'Belize', 'BM': 'Bermuda', 'BO': 'Bolivia, Plurinational State of', 'BR': 'Brazil', 'BB': 'Barbados', 'BN': 'Brunei Darussalam', 'BT': 'Bhutan', 'BV': 'Bouvet Island', 'BW': 'Botswana', 'CF': 'Central African Republic', 'CA': 'Canada', 'CC': 'Cocos (Keeling) Islands', 'CH': 'Switzerland', 'CL': 'Chile', 'CN': 'China', 'CI': \"Côte d'Ivoire\", 'CM': 'Cameroon', 'CD': 'Congo, The Democratic Republic of the', 'CG': 'Congo', 'CK': 'Cook Islands', 'CO': 'Colombia', 'KM': 'Comoros', 'CV': 'Cabo Verde', 'CR': 'Costa Rica', 'CU': 'Cuba', 'CW': 'Curaçao', 'CX': 'Christmas Island', 'KY': 'Cayman Islands', 'CY': 'Cyprus', 'CZ': 'Czechia', 'DE': 'Germany', 'DJ': 'Djibouti', 'DM': 'Dominica', 'DK': 'Denmark', 'DO': 'Dominican Republic', 'DZ': 'Algeria', 'EC': 'Ecuador', 'EG': 'Egypt', 'ER': 'Eritrea', 'EH': 'Western Sahara', 'ES': 'Spain', 'EE': 'Estonia', 'ET': 'Ethiopia', 'FI': 'Finland', 'FJ': 'Fiji', 'FK': 'Falkland Islands (Malvinas)', 'FR': 'France', 'FO': 'Faroe Islands', 'FM': 'Micronesia, Federated States of', 'GA': 'Gabon', 'GB': 'United Kingdom', 'GE': 'Georgia', 'GG': 'Guernsey', 'GH': 'Ghana', 'GI': 'Gibraltar', 'GN': 'Guinea', 'GP': 'Guadeloupe', 'GM': 'Gambia', 'GW': 'Guinea-Bissau', 'GQ': 'Equatorial Guinea', 'GR': 'Greece', 'GD': 'Grenada', 'GL': 'Greenland', 'GT': 'Guatemala', 'GF': 'French Guiana', 'GU': 'Guam', 'GY': 'Guyana', 'HK': 'Hong Kong', 'HM': 'Heard Island and McDonald Islands', 'HN': 'Honduras', 'HR': 'Croatia', 'HT': 'Haiti', 'HU': 'Hungary', 'ID': 'Indonesia', 'IM': 'Isle of Man', 'IN': 'India', 'IO': 'British Indian Ocean Territory', 'IE': 'Ireland', 'IR': 'Iran, Islamic Republic of', 'IQ': 'Iraq', 'IS': 'Iceland', 'IL': 'Israel', 'IT': 'Italy', 'JM': 'Jamaica', 'JE': 'Jersey', 'JO': 'Jordan', 'JP': 'Japan', 'KZ': 'Kazakhstan', 'KE': 'Kenya', 'KG': 'Kyrgyzstan', 'KH': 'Cambodia', 'KI': 'Kiribati', 'KN': 'Saint Kitts and Nevis', 'KR': 'Korea, Republic of', 'KW': 'Kuwait', 'LA': \"Lao People's Democratic Republic\", 'LB': 'Lebanon', 'LR': 'Liberia', 'LY': 'Libya', 'LC': 'Saint Lucia', 'LI': 'Liechtenstein', 'LK': 'Sri Lanka', 'LS': 'Lesotho', 'LT': 'Lithuania', 'LU': 'Luxembourg', 'LV': 'Latvia', 'MO': 'Macao', 'MF': 'Saint Martin (French part)', 'MA': 'Morocco', 'MC': 'Monaco', 'MD': 'Moldova, Republic of', 'MG': 'Madagascar', 'MV': 'Maldives', 'MX': 'Mexico', 'MH': 'Marshall Islands', 'MK': 'North Macedonia', 'ML': 'Mali', 'MT': 'Malta', 'MM': 'Myanmar', 'ME': 'Montenegro', 'MN': 'Mongolia', 'MP': 'Northern Mariana Islands', 'MZ': 'Mozambique', 'MR': 'Mauritania', 'MS': 'Montserrat', 'MQ': 'Martinique', 'MU': 'Mauritius', 'MW': 'Malawi', 'MY': 'Malaysia', 'YT': 'Mayotte', 'NA': 'Namibia', 'NC': 'New Caledonia', 'NE': 'Niger', 'NF': 'Norfolk Island', 'NG': 'Nigeria', 'NI': 'Nicaragua', 'NU': 'Niue', 'NL': 'Netherlands', 'NO': 'Norway', 'NP': 'Nepal', 'NR': 'Nauru', 'NZ': 'New Zealand', 'OM': 'Oman', 'PK': 'Pakistan', 'PA': 'Panama', 'PN': 'Pitcairn', 'PE': 'Peru', 'PH': 'Philippines', 'PW': 'Palau', 'PG': 'Papua New Guinea', 'PL': 'Poland', 'PR': 'Puerto Rico', 'KP': \"Korea, Democratic People's Republic of\", 'PT': 'Portugal', 'PY': 'Paraguay', 'PS': 'Palestine, State of', 'PF': 'French Polynesia', 'QA': 'Qatar', 'RE': 'Réunion', 'RO': 'Romania', 'RU': 'Russian Federation', 'RW': 'Rwanda', 'SA': 'Saudi Arabia', 'SD': 'Sudan', 'SN': 'Senegal', 'SG': 'Singapore', 'GS': 'South Georgia and the South Sandwich Islands', 'SH': 'Saint Helena, Ascension and Tristan da Cunha', 'SJ': 'Svalbard and Jan Mayen', 'SB': 'Solomon Islands', 'SL': 'Sierra Leone', 'SV': 'El Salvador', 'SM': 'San Marino', 'SO': 'Somalia', 'PM': 'Saint Pierre and Miquelon', 'RS': 'Serbia', 'SS': 'South Sudan', 'ST': 'Sao Tome and Principe', 'SR': 'Suriname', 'SK': 'Slovakia', 'SI': 'Slovenia', 'SE': 'Sweden', 'SZ': 'Eswatini', 'SX': 'Sint Maarten (Dutch part)', 'SC': 'Seychelles', 'SY': 'Syrian Arab Republic', 'TC': 'Turks and Caicos Islands', 'TD': 'Chad', 'TG': 'Togo', 'TH': 'Thailand', 'TJ': 'Tajikistan', 'TK': 'Tokelau', 'TM': 'Turkmenistan', 'TL': 'Timor-Leste', 'TO': 'Tonga', 'TT': 'Trinidad and Tobago', 'TN': 'Tunisia', 'TR': 'Turkey', 'TV': 'Tuvalu', 'TW': 'Taiwan, Province of China', 'TZ': 'Tanzania, United Republic of', 'UG': 'Uganda', 'UA': 'Ukraine', 'UM': 'United States Minor Outlying Islands', 'UY': 'Uruguay', 'US': 'United States', 'UZ': 'Uzbekistan', 'VA': 'Holy See (Vatican City State)', 'VC': 'Saint Vincent and the Grenadines', 'VE': 'Venezuela, Bolivarian Republic of', 'VG': 'Virgin Islands, British', 'VI': 'Virgin Islands, U.S.', 'VN': 'Viet Nam', 'VU': 'Vanuatu', 'WF': 'Wallis and Futuna', 'WS': 'Samoa', 'YE': 'Yemen', 'ZA': 'South Africa', 'ZM': 'Zambia', 'ZW': 'Zimbabwe'}\n"
     ]
    }
   ],
   "source": [
    "import pycountry\n",
    "\n",
    "# print(len(pycountry.countries))\n",
    "\n",
    "country_dict  = {country.alpha_2:country.name for country in pycountry.countries}\n",
    "# for country in pycountry.countries:\n",
    "#     print(country.alpha_2,country.name)\n",
    "\n",
    "print(country_dict)\n"
   ]
  },
  {
   "source": [
    "## BeautifulSoup"
   ],
   "cell_type": "markdown",
   "metadata": {}
  },
  {
   "cell_type": "code",
   "execution_count": 24,
   "metadata": {},
   "outputs": [],
   "source": [
    "html_doc = \"\"\"\n",
    "<html><head><title>The Dormouse's story</title></head>\n",
    "<body>\n",
    "<p class=\"title\"><b>The Dormouse's story</b></p>\n",
    "\n",
    "<p class=\"story\">Once upon a time there were three little sisters; and their names were\n",
    "<a href=\"http://example.com/elsie\" class=\"sister\" id=\"link1\">Elsie</a>,\n",
    "<a href=\"http://example.com/lacie\" class=\"sister\" id=\"link2\">Lacie</a> and\n",
    "<a href=\"http://example.com/tillie\" class=\"sister\" id=\"link3\">Tillie</a>;\n",
    "and they lived at the bottom of a well.</p>\n",
    "\n",
    "<p class=\"story\">...</p>\n",
    "<script type=\"text/javascript\" src=\"http://www.google.com/jsapi\"></script>\n",
    "\"\"\""
   ]
  },
  {
   "cell_type": "code",
   "execution_count": 25,
   "metadata": {},
   "outputs": [],
   "source": [
    "from bs4 import BeautifulSoup\n",
    "soup = BeautifulSoup(html_doc, 'html.parser')"
   ]
  },
  {
   "cell_type": "code",
   "execution_count": 29,
   "metadata": {},
   "outputs": [
    {
     "output_type": "stream",
     "name": "stdout",
     "text": [
      "http://www.google.com/jsapi\nhttp://example.com/elsie\nhttp://example.com/lacie\nhttp://example.com/tillie\n"
     ]
    }
   ],
   "source": [
    "body = soup.body\n",
    "\n",
    "s = soup.find_all(\"script\")\n",
    "\n",
    "for ss in s:\n",
    "    print(ss.get('src'))\n",
    "\n",
    "l  = soup.find_all('a')\n",
    "for i in l:\n",
    "    print(i.get('href'))\n",
    "\n",
    "\n"
   ]
  },
  {
   "source": [
    "### 获得warc文件中的字段"
   ],
   "cell_type": "markdown",
   "metadata": {}
  },
  {
   "cell_type": "code",
   "execution_count": 33,
   "metadata": {
    "tags": [
     "outputPrepend"
    ]
   },
   "outputs": [
    {
     "output_type": "stream",
     "name": "stdout",
     "text": [
      "\"json\",\"json\":[254]},\"domainIds\":{\"type\":\"json\",\"json\":[\"business\"]},\"__typename\":\"DegreeListsV2_org_coursera_catalogp_degree_CatalogDegree\"},\"DegreeListsV2:PRODUCT_TYPE~DEGREE.degrees.8\":{\"name\":\"Master of Science in Electrical Engineering\",\"slug\":\"msee-boulder\",\"languageCode\":\"en\",\"bannerImage\":\"https://s3.amazonaws.com/coursera_assets/ddp/branding/msee-boulder/header.jpg\",\"marketingName\":\"Master of Science in Electrical Engineering\",\"catalogAvailabilityStatus\":\"LIVE\",\"partnerIds\":{\"type\":\"json\",\"json\":[71]},\"domainIds\":{\"type\":\"json\",\"json\":[\"physical-science-and-engineering\"]},\"__typename\":\"DegreeListsV2_org_coursera_catalogp_degree_CatalogDegree\"},\"DegreeListsV2:PRODUCT_TYPE~DEGREE.degrees.9\":{\"name\":\"Master of Public Health\",\"slug\":\"mph-umich\",\"languageCode\":\"en\",\"bannerImage\":\"https://s3.amazonaws.com/coursera_assets/premium_hub/mph-umich.jpg\",\"marketingName\":\"Master of Public Health\",\"catalogAvailabilityStatus\":\"LIVE\",\"partnerIds\":{\"type\":\"json\",\"json\":[3]},\"domainIds\":{\"type\":\"json\",\"json\":[\"business\",\"life-sciences\",\"social-sciences\"]},\"__typename\":\"DegreeListsV2_org_coursera_catalogp_degree_CatalogDegree\"},\"DegreeListsV2:PRODUCT_TYPE~DEGREE.degrees.10\":{\"name\":\"Master of Science in Population and Health Sciences\",\"slug\":\"master-of-population-science-umich\",\"languageCode\":\"en\",\"bannerImage\":\"https://s3.amazonaws.com/coursera_assets/ddp/branding/master-of-population-science-umich/banner.jpg\",\"marketingName\":\"Master of Science in Population and Health Sciences\",\"catalogAvailabilityStatus\":\"LIVE\",\"partnerIds\":{\"type\":\"json\",\"json\":[3]},\"domainIds\":{\"type\":\"json\",\"json\":[\"life-sciences\"]},\"__typename\":\"DegreeListsV2_org_coursera_catalogp_degree_CatalogDegree\"},\"DegreeListsV2:PRODUCT_TYPE~DEGREE.degrees.11\":{\"name\":\"Master of Science in Accountancy (iMSA)\",\"slug\":\"imsa\",\"languageCode\":\"en\",\"bannerImage\":\"https://s3.amazonaws.com/coursera_assets/ddp/branding/imsa/imsa-banner.jpg\",\"marketingName\":\"Master of Science in Accountancy (iMSA)\",\"catalogAvailabilityStatus\":\"LIVE\",\"partnerIds\":{\"type\":\"json\",\"json\":[17]},\"domainIds\":{\"type\":\"json\",\"json\":[\"business\"]},\"__typename\":\"DegreeListsV2_org_coursera_catalogp_degree_CatalogDegree\"},\"DegreeListsV2:PRODUCT_TYPE~DEGREE.degrees.12\":{\"name\":\"MSc in Innovation and Entrepreneurship\",\"slug\":\"omie\",\"languageCode\":\"en\",\"bannerImage\":\"https://s3.amazonaws.com/coursera_assets/degree-landing-pages/masters-innovation-entrepreneurship/croplogo.png\",\"marketingName\":\"MSc in Innovation and Entrepreneurship\",\"catalogAvailabilityStatus\":\"LIVE\",\"partnerIds\":{\"type\":\"json\",\"json\":[161]},\"domainIds\":{\"type\":\"json\",\"json\":[\"business\"]},\"__typename\":\"DegreeListsV2_org_coursera_catalogp_degree_CatalogDegree\"},\"DegreeListsV2:PRODUCT_TYPE~DEGREE.degrees.13\":{\"name\":\"Maestr\\xc3\\xada en Direcci\\xc3\\xb3n de Empresas (MBA)\",\"slug\":\"mba-palermo\",\"languageCode\":\"es\",\"bannerImage\":\"https://s3.amazonaws.com/coursera_assets/ddp/branding/mba-palermo/mba-palermo-banner.jpg\",\"marketingName\":\"Maestr\\xc3\\xada en Direcci\\xc3\\xb3n de Empresas (MBA)\",\"catalogAvailabilityStatus\":\"LIVE\",\"partnerIds\":{\"type\":\"json\",\"json\":[658]},\"domainIds\":{\"type\":\"json\",\"json\":[\"business\"]},\"__typename\":\"DegreeListsV2_org_coursera_catalogp_degree_CatalogDegree\"},\"DegreeListsV2:PRODUCT_TYPE~DEGREE.degrees.14\":{\"name\":\"Maestr\\xc3\\xada en Inteligencia Anal\\xc3\\xadtica de Datos\",\"slug\":\"maestria-analitica-de-datos-uniandes\",\"languageCode\":\"es\",\"bannerImage\":\"https://s3.amazonaws.com/coursera_assets/ddp/branding/miad/maid_banner.jpg\",\"marketingName\":\"Maestr\\xc3\\xada en Inteligencia Anal\\xc3\\xadtica de Datos\",\"catalogAvailabilityStatus\":\"LIVE\",\"partnerIds\":{\"type\":\"json\",\"json\":[273]},\"domainIds\":{\"type\":\"json\",\"json\":[\"data-science\"]},\"__typename\":\"DegreeListsV2_org_coursera_catalogp_degree_CatalogDegree\"},\"DegreeListsV2:PRODUCT_TYPE~DEGREE.degrees.15\":{\"name\":\"Master of Finance\",\"slug\":\"ms-finance-hse\",\"languageCode\":\"en\",\"bannerImage\":\"https://s3.amazonaws.com/coursera_assets/ddp/branding/ms-finance-hse/ms-finance-hse-banner.jpg\",\"marketingName\":\"Master of Finance\",\"catalogAvailabilityStatus\":\"LIVE\",\"partnerIds\":{\"type\":\"json\",\"json\":[160]},\"domainIds\":{\"type\":\"json\",\"json\":[\"business\"]},\"__typename\":\"DegreeListsV2_org_coursera_catalogp_degree_CatalogDegree\"},\"DegreeListsV2:PRODUCT_TYPE~DEGREE.degrees.16\":{\"name\":\"Master of Science in Data Science\",\"slug\":\"master-of-science-data-science-boulder\",\"languageCode\":\"en\",\"bannerImage\":\"https://s3.amazonaws.com/coursera_assets/ddp/branding/msds-boulder/header.jpg\",\"marketingName\":\"Master of Science in Data Science\",\"catalogAvailabilityStatus\":\"LIVE\",\"partnerIds\":{\"type\":\"json\",\"json\":[71]},\"domainIds\":{\"type\":\"json\",\"json\":[\"data-science\"]},\"__typename\":\"DegreeListsV2_org_coursera_catalogp_degree_CatalogDegree\"},\"DegreeListsV2:PRODUCT_TYPE~DEGREE.degrees.17\":{\"name\":\"Master of Computer and Information Technology\",\"slug\":\"mcit-penn\",\"languageCode\":\"en\",\"bannerImage\":\"https://s3.amazonaws.com/coursera_assets/ddp/branding/mcit-penn/headerv2.png\",\"marketingName\":\"Master of Computer and Information Technology\",\"catalogAvailabilityStatus\":\"LIVE\",\"partnerIds\":{\"type\":\"json\",\"json\":[534]},\"domainIds\":{\"type\":\"json\",\"json\":[\"computer-science\",\"information-technology\"]},\"__typename\":\"DegreeListsV2_org_coursera_catalogp_degree_CatalogDegree\"},\"DegreeListsV2:PRODUCT_TYPE~DEGREE.degrees.18\":{\"name\":\"Master of Computer Science\",\"slug\":\"master-of-computer-science-illinois\",\"languageCode\":\"en\",\"bannerImage\":\"https://s3.amazonaws.com/coursera_assets/premium_hub/mcs-illinois.jpg\",\"marketingName\":\"Master of Computer Science\",\"catalogAvailabilityStatus\":\"LIVE\",\"partnerIds\":{\"type\":\"json\",\"json\":[17]},\"domainIds\":{\"type\":\"json\",\"json\":[\"computer-science\",\"information-technology\"]},\"__typename\":\"DegreeListsV2_org_coursera_catalogp_degree_CatalogDegree\"},\"DegreeListsV2:PRODUCT_TYPE~DEGREE.degrees.19\":{\"name\":\"Master of Data Science\",\"slug\":\"master-of-data-science-hse\",\"languageCode\":\"en\",\"bannerImage\":\"https://s3.amazonaws.com/coursera_assets/ddp/branding/master-of-data-science-hse/banner.jpg\",\"marketingName\":\"Master of Data Science\",\"catalogAvailabilityStatus\":\"LIVE\",\"partnerIds\":{\"type\":\"json\",\"json\":[160]},\"domainIds\":{\"type\":\"json\",\"json\":[\"data-science\"]},\"__typename\":\"DegreeListsV2_org_coursera_catalogp_degree_CatalogDegree\"},\"DegreeListsV2:PRODUCT_TYPE~DEGREE.degrees.20\":{\"name\":\"MSc in Machine Learning\",\"slug\":\"msc-machine-learning-imperial\",\"languageCode\":\"en\",\"bannerImage\":\"https://s3.amazonaws.com/coursera_assets/ddp/branding/mscml-imperial/banner.jpg\",\"marketingName\":\"MSc in Machine Learning\",\"catalogAvailabilityStatus\":\"LIVE\",\"partnerIds\":{\"type\":\"json\",\"json\":[434]},\"domainIds\":{\"type\":\"json\",\"json\":[\"data-science\"]},\"__typename\":\"DegreeListsV2_org_coursera_catalogp_degree_CatalogDegree\"},\"DegreeListsV2:PRODUCT_TYPE~DEGREE.degrees.21\":{\"name\":\"Bachelor of Science in Computer Science\",\"slug\":\"bachelor-of-science-computer-science-london\",\"languageCode\":\"en\",\"bannerImage\":\"https://s3.amazonaws.com/coursera_assets/premium_hub/bscs-uol.jpg\",\"marketingName\":\"Bachelor of Science in Computer Science\",\"catalogAvailabilityStatus\":\"LIVE\",\"partnerIds\":{\"type\":\"json\",\"json\":[26]},\"domainIds\":{\"type\":\"json\",\"json\":[\"computer-science\",\"data-science\",\"information-technology\",\"math-and-logic\"]},\"__typename\":\"DegreeListsV2_org_coursera_catalogp_degree_CatalogDegree\"},\"DegreeListsV2:PRODUCT_TYPE~DEGREE.degrees.22\":{\"name\":\"Master of Business Analytics\",\"slug\":\"ms-business-analytics-hse\",\"languageCode\":\"en\",\"bannerImage\":\"https://s3.amazonaws.com/coursera_assets/ddp/branding/ms-business-analytics-hse/ms-business-analytics-hse-banner.jpg\",\"marketingName\":\"Master of Business Analytics\",\"catalogAvailabilityStatus\":\"LIVE\",\"partnerIds\":{\"type\":\"json\",\"json\":[160]},\"domainIds\":{\"type\":\"json\",\"json\":[\"business\"]},\"__typename\":\"DegreeListsV2_org_coursera_catalogp_degree_CatalogDegree\"},\"DegreeListsV2:PRODUCT_TYPE~DEGREE.degrees.23\":{\"name\":\"Master of Data and Network Analysis\",\"slug\":\"master-of-data-network-analytics-hse\",\"languageCode\":\"en\",\"bannerImage\":\"https://s3.amazonaws.com/coursera_assets/ddp/branding/master-of-data-network-analytics-hse/master-of-data-network-analytics-hse-banner.jpg\",\"marketingName\":\"Master of Data and Network Analysis\",\"catalogAvailabilityStatus\":\"LIVE\",\"partnerIds\":{\"type\":\"json\",\"json\":[160]},\"domainIds\":{\"type\":\"json\",\"json\":[\"data-science\"]},\"__typename\":\"DegreeListsV2_org_coursera_catalogp_degree_CatalogDegree\"},\"DegreeListsV2:PRODUCT_TYPE~DEGREE.degrees.24\":{\"name\":\"Master of Computer Vision\",\"slug\":\"ms-computer-vision-hse\",\"languageCode\":\"en\",\"bannerImage\":\"https://s3.amazonaws.com/coursera_assets/ddp/branding/ms-computer-vision-hse/ms-computer-vision-hse-banner.jpg\",\"marketingName\":\"Master of Computer Vision\",\"catalogAvailabilityStatus\":\"LIVE\",\"partnerIds\":{\"type\":\"json\",\"json\":[160]},\"domainIds\":{\"type\":\"json\",\"json\":[\"computer-science\"]},\"__typename\":\"DegreeListsV2_org_coursera_catalogp_degree_CatalogDegree\"},\"DegreeListsV2:PRODUCT_TYPE~DEGREE.degrees.25\":{\"name\":\"Maestr\\xc3\\xada en Ingenier\\xc3\\xada de Software\",\"slug\":\"maestria-ingenieria-software-uniandes\",\"languageCode\":\"es\",\"bannerImage\":\"https://s3.amazonaws.com/coursera_assets/ddp/branding/miso/banner.jpg\",\"marketingName\":\"Maestr\\xc3\\xada en Ingenier\\xc3\\xada de Software\",\"catalogAvailabilityStatus\":\"LIVE\",\"partnerIds\":{\"type\":\"json\",\"json\":[273]},\"domainIds\":{\"type\":\"json\",\"json\":[\"computer-science\"]},\"__typename\":\"DegreeListsV2_org_coursera_catalogp_degree_CatalogDegree\"},\"DegreeListsV2:PRODUCT_TYPE~DEGREE.degrees.26\":{\"name\":\"Master of Business Analytics\",\"slug\":\"ms-business-analytics-hse\",\"languageCode\":\"en\",\"bannerImage\":\"https://s3.amazonaws.com/coursera_assets/ddp/branding/ms-business-analytics-hse/ms-business-analytics-hse-banner.jpg\",\"marketingName\":\"Master of Business Analytics\",\"catalogAvailabilityStatus\":\"LIVE\",\"partnerIds\":{\"type\":\"json\",\"json\":[160]},\"domainIds\":{\"type\":\"json\",\"json\":[\"business\"]},\"__typename\":\"DegreeListsV2_org_coursera_catalogp_degree_CatalogDegree\"},\"DegreeListsV2:PRODUCT_TYPE~DEGREE.degrees.27\":{\"name\":\"Bachelor of Science in Marketing\",\"slug\":\"bsc-marketing-london\",\"languageCode\":\"en\",\"bannerImage\":\"https://s3.amazonaws.com/coursera_assets/ddp/branding/bsc-marketing-london/bsc-marketing-london-banner.jpg\",\"marketingName\":\"Bachelor of Science in Marketing\",\"catalogAvailabilityStatus\":\"LIVE\",\"partnerIds\":{\"type\":\"json\",\"json\":[26]},\"domainIds\":{\"type\":\"json\",\"json\":[\"business\"]},\"__typename\":\"DegreeListsV2_org_coursera_catalogp_degree_CatalogDegree\"},\"DegreeListsV2:PRODUCT_TYPE~DEGREE.degrees.28\":{\"name\":\"Master of Business Administration\",\"slug\":\"mba-fia\",\"languageCode\":\"en\",\"bannerImage\":\"https://s3.amazonaws.com/coursera_assets/ddp/branding/mba-fia/mba-fia-banner.jpg\",\"marketingName\":\"Master of Business Administration\",\"catalogAvailabilityStatus\":\"LIVE\",\"partnerIds\":{\"type\":\"json\",\"json\":[376]},\"domainIds\":{\"type\":\"json\",\"json\":[\"business\"]},\"__typename\":\"DegreeListsV2_org_coursera_catalogp_degree_CatalogDegree\"},\"DegreeListsV2:PRODUCT_TYPE~DEGREE.degrees.29\":{\"name\":\"MBA in Business Analytics\",\"slug\":\"mba-business-analytics-jgu\",\"languageCode\":\"en\",\"bannerImage\":\"https://s3.amazonaws.com/coursera_assets/ddp/branding/mba-business-analytics-jgu/mba-business-analytics-jgu-banner.jpg\",\"marketingName\":\"MBA in Business Analytics\",\"catalogAvailabilityStatus\":\"LIVE\",\"partnerIds\":{\"type\":\"json\",\"json\":[706]},\"domainIds\":{\"type\":\"json\",\"json\":[\"business\",\"data-science\"]},\"__typename\":\"DegreeListsV2_org_coursera_catalogp_degree_CatalogDegree\"},\"DegreeListsV2:PRODUCT_TYPE~DEGREE.degrees.30\":{\"name\":\"M.A. in International Relations, Security, and Strategy\",\"slug\":\"ma-international-relations-security-strategy-jgu\",\"languageCode\":\"en\",\"bannerImage\":\"https://s3.amazonaws.com/coursera_assets/ddp/branding/ma-international-relations-security-strategy-jgu/ma-international-relations-security-strategy-jgu-banner.jpg\",\"marketingName\":\"M.A. in International Relations, Security, and Strategy\",\"catalogAvailabilityStatus\":\"LIVE\",\"partnerIds\":{\"type\":\"json\",\"json\":[706]},\"domainIds\":{\"type\":\"json\",\"json\":[\"social-sciences\"]},\"__typename\":\"DegreeListsV2_org_coursera_catalogp_degree_CatalogDegree\"},\"DegreeListsV2:PRODUCT_TYPE~DEGREE.degrees.31\":{\"name\":\"M.A. in Public Policy\",\"slug\":\"ma-public-policy-jgu\",\"languageCode\":\"en\",\"bannerImage\":\"https://s3.amazonaws.com/coursera_assets/ddp/branding/ma-public-policy-jgu/ma-public-policy-jgu-banner.jpg\",\"marketingName\":\"M.A. in Public Policy\",\"catalogAvailabilityStatus\":\"LIVE\",\"partnerIds\":{\"type\":\"json\",\"json\":[706]},\"domainIds\":{\"type\":\"json\",\"json\":[\"social-sciences\"]},\"__typename\":\"DegreeListsV2_org_coursera_catalogp_degree_CatalogDegree\"},\"$DegreeListsV2:PRODUCT_TYPE~DEGREE.degreePartners\":{\"elements\":[{\"type\":\"id\",\"generated\":false,\"id\":\"PartnersV1:17\",\"typename\":\"PartnersV1\"},{\"type\":\"id\",\"generated\":false,\"id\":\"PartnersV1:287\",\"typename\":\"PartnersV1\"},{\"type\":\"id\",\"generated\":false,\"id\":\"PartnersV1:434\",\"typename\":\"PartnersV1\"},{\"type\":\"id\",\"generated\":false,\"id\":\"PartnersV1:3\",\"typename\":\"PartnersV1\"},{\"type\":\"id\",\"generated\":false,\"id\":\"PartnersV1:559\",\"typename\":\"PartnersV1\"},{\"type\":\"id\",\"generated\":false,\"id\":\"PartnersV1:254\",\"typename\":\"PartnersV1\"},{\"type\":\"id\",\"generated\":false,\"id\":\"PartnersV1:71\",\"typename\":\"PartnersV1\"},{\"type\":\"id\",\"generated\":false,\"id\":\"PartnersV1:161\",\"typename\":\"PartnersV1\"},{\"type\":\"id\",\"generated\":false,\"id\":\"PartnersV1:658\",\"typename\":\"PartnersV1\"},{\"type\":\"id\",\"generated\":false,\"id\":\"PartnersV1:273\",\"typename\":\"PartnersV1\"},{\"type\":\"id\",\"generated\":false,\"id\":\"PartnersV1:160\",\"typename\":\"PartnersV1\"},{\"type\":\"id\",\"generated\":false,\"id\":\"PartnersV1:534\",\"typename\":\"PartnersV1\"},{\"type\":\"id\",\"generated\":false,\"id\":\"PartnersV1:26\",\"typename\":\"PartnersV1\"},{\"type\":\"id\",\"generated\":false,\"id\":\"PartnersV1:376\",\"typename\":\"PartnersV1\"},{\"type\":\"id\",\"generated\":false,\"id\":\"PartnersV1:706\",\"typename\":\"PartnersV1\"}],\"__typename\":\"PartnersV1Connection\"},\"$DegreeListsV2:PRODUCT_TYPE~DEGREE.mastertrackPartners\":{\"elements\":[],\"__typename\":\"PartnersV1Connection\"},\"$ROOT_QUERY.DegreeListsV2Resource.getList({\\\\\"contextId\\\\\":\\\\\"DEGREE\\\\\",\\\\\"contextType\\\\\":\\\\\"PRODUCT_TYPE\\\\\"})\":{\"elements\":[{\"type\":\"id\",\"generated\":false,\"id\":\"DegreeListsV2:PRODUCT_TYPE~DEGREE\",\"typename\":\"DegreeListsV2\"}],\"__typename\":\"DegreeListsV2Connection\"},\"$ROOT_QUERY.DegreeListsV2Resource\":{\"getList({\\\\\"contextId\\\\\":\\\\\"DEGREE\\\\\",\\\\\"contextType\\\\\":\\\\\"PRODUCT_TYPE\\\\\"})\":{\"type\":\"id\",\"generated\":true,\"id\":\"$ROOT_QUERY.DegreeListsV2Resource.getList({\\\\\"contextId\\\\\":\\\\\"DEGREE\\\\\",\\\\\"contextType\\\\\":\\\\\"PRODUCT_TYPE\\\\\"})\",\"typename\":\"DegreeListsV2Connection\"},\"__typename\":\"DegreeListsV2Resource\"}},\"hitApolloCache\":true},\"page\":\"/\",\"query\":{\"network\":\"g\",\"utm_source\":\"gg\",\"creativeid\":\"433079694377\",\"matchtype\":\"b\",\"adgroupid\":\"102187343498\",\"gclid\":\"EAIaIQobChMInv250vKl7AIVFI_ICh3TJATPEAAYASAAEgJObvD_BwE\",\"keyword\":\"\",\"utm_content\":\"01-BrandedSearch-US\",\"hide_mobile_promo\":\"\",\"utm_campaign\":\"01-BrandedSearch-US\",\"campaignid\":\"380484307\",\"devicemodel\":\"\",\"adpostion\":\"\",\"utm_medium\":\"sem\",\"device\":\"c\"},\"buildId\":\"c40590ea0b503137af6cb8b6045d371f270af1aa\",\"assetPrefix\":\"https://d3njjcbhbojbot.cloudfront.net/webapps/r2-builds/next\",\"isFallback\":false,\"customServer\":true,\"gip\":true,\"appGip\":true}</script><script nomodule=\"\" src=\"https://d3njjcbhbojbot.cloudfront.net/webapps/r2-builds/next/_next/static/chunks/polyfills-c90f61e2f326d74edf58.js\"></script><script src=\"https://d3njjcbhbojbot.cloudfront.net/webapps/r2-builds/next/_next/static/chunks/main-256bdf12407ef969f9f4.js\" async=\"\"></script><script src=\"https://d3njjcbhbojbot.cloudfront.net/webapps/r2-builds/next/_next/static/chunks/webpack-abd64eaf56a32a6784c0.js\" async=\"\"></script><script src=\"https://d3njjcbhbojbot.cloudfront.net/webapps/r2-builds/next/_next/static/chunks/framework.26f76dfa6070ad7a0d96.js\" async=\"\"></script><script src=\"https://d3njjcbhbojbot.cloudfront.net/webapps/r2-builds/next/_next/static/chunks/commons.b8cde5a01eb2f76ef033.js\" async=\"\"></script><script src=\"https://d3njjcbhbojbot.cloudfront.net/webapps/r2-builds/next/_next/static/chunks/cf551ec4e7c2777f3a7d67d9e183ae08e158baf7.69230cc9a4880afb85cc.js\" async=\"\"></script><script src=\"https://d3njjcbhbojbot.cloudfront.net/webapps/r2-builds/next/_next/static/chunks/507a4503d848c2d799ed3f36349b91d13c74e36e.21e83c9b7578a763beac.js\" async=\"\"></script><script src=\"https://d3njjcbhbojbot.cloudfront.net/webapps/r2-builds/next/_next/static/chunks/21612e1ef74fc5baab5c49d9096e19db6c380936.e776a50cb423010ab969.js\" async=\"\"></script><script src=\"https://d3njjcbhbojbot.cloudfront.net/webapps/r2-builds/next/_next/static/chunks/pages/_app-4c65956c1aa390320faa.js\" async=\"\"></script><script src=\"https://d3njjcbhbojbot.cloudfront.net/webapps/r2-builds/next/_next/static/chunks/8c0dac7e.a574e2f39448e969f9ab.js\" async=\"\"></script><script src=\"https://d3njjcbhbojbot.cloudfront.net/webapps/r2-builds/next/_next/static/chunks/0e1d02aa.33fae6201fee986d0584.js\" async=\"\"></script><script src=\"https://d3njjcbhbojbot.cloudfront.net/webapps/r2-builds/next/_next/static/chunks/278bd3f5.0c49019e1a6ae45b97d2.js\" async=\"\"></script><script src=\"https://d3njjcbhbojbot.cloudfront.net/webapps/r2-builds/next/_next/static/chunks/ee82ef6d.56fde7807f52665918f8.js\" async=\"\"></script><script src=\"https://d3njjcbhbojbot.cloudfront.net/webapps/r2-builds/next/_next/static/chunks/0a5a0d6ac3313dada71bb7ed0f0bfe088c91a228.96003a9bb4f5b586d28e.js\" async=\"\"></script><script src=\"https://d3njjcbhbojbot.cloudfront.net/webapps/r2-builds/next/_next/static/chunks/774beb709157c6c8c74f3ef6cc510bb54dae26cd.05e4977fafb68b84240f.js\" async=\"\"></script><script src=\"https://d3njjcbhbojbot.cloudfront.net/webapps/r2-builds/next/_next/static/chunks/774beb709157c6c8c74f3ef6cc510bb54dae26cd_CSS.7b37a38a8911fc5fb44b.js\" async=\"\"></script><script src=\"https://d3njjcbhbojbot.cloudfront.net/webapps/r2-builds/next/_next/static/chunks/b2211c2b13a7f93fbaa049e33f599ccf667beac9.6b539876ad3f5c3e71e0.js\" async=\"\"></script><script src=\"https://d3njjcbhbojbot.cloudfront.net/webapps/r2-builds/next/_next/static/chunks/84afd3ba861b78d1ee8fdd5020b73ae8180797d2.968a974e131abe66cd68.js\" async=\"\"></script><script src=\"https://d3njjcbhbojbot.cloudfront.net/webapps/r2-builds/next/_next/static/chunks/pages/index-3104ff0004ca39baa574.js\" async=\"\"></script><script src=\"https://d3njjcbhbojbot.cloudfront.net/webapps/r2-builds/next/_next/static/c40590ea0b503137af6cb8b6045d371f270af1aa/_buildManifest.js\" async=\"\"></script><script src=\"https://d3njjcbhbojbot.cloudfront.net/webapps/r2-builds/next/_next/static/c40590ea0b503137af6cb8b6045d371f270af1aa/_ssgManifest.js\" async=\"\"></script><script>\\n                  window.__REHYDRATE_APHRODITE_IDS = [\"_1l1hu98\",\"_pu0m129\",\"_1j095b7\",\"_xcrq5m\",\"_r3zeoj\",\"_fvd8ru\",\"_1eb77806\",\"_1kz8b6i\",\"_ufjrdd\",\"_1ixrep9\",\"_1oz2suk\",\"_41qsc\",\"_l3lqkfz\",\"_1lutnh9y\",\"_1t9pzbn\",\"_1bmi48h\",\"_1ufnkzu\",\"_c4ecak\",\"_tocnv8\",\"_1dru2k9\",\"_1rrvnfw\",\"_ygt2bsh\",\"_1m3k1gr\",\"_61ccwn\",\"_1joqcnb\",\"_67717r\",\"_1v53p9m\",\"_18ozdrj\",\"_gxigg9\",\"_ajqms8\",\"_1dvzwtw\",\"_pwpms2\",\"_10eziy5\",\"_d8t0vt\",\"_1vri9u7\",\"_pklhv3\",\"_yoza43\",\"_154i90e\",\"_laqrpf\",\"_yyncah\",\"_jk6cph\",\"_gyvd0s\",\"_1lwxvya\",\"_n5iiiv\",\"_gtp2q1\",\"_1d2l3eb\",\"_hgqut1\",\"_huqwne\",\"_qdw02k\",\"_12hdj83\",\"_1vhrodh\",\"_16p6c6d\",\"_1nhfz2\",\"_1tk286il\",\"_b78otlk\",\"_19v39nf\",\"_13zd3uf\",\"_1m5vqgo\",\"_p9rylm\",\"_1ntfkf\",\"_25ge1o\",\"_ot33op\",\"_1cp26mw\",\"_1a7sdmu\",\"_1r60lt2\",\"_atn7s2\",\"_7plnu5f\",\"_979aq6\",\"_16fabyg\",\"_1403gtl\",\"_1kn0h4a\",\"_1dd4mq0\",\"_1xf3hcz\",\"_ynkimw\",\"_xmvzdy\",\"_1ymmwi\",\"_irgnui\",\"_1829r4g\",\"_fw6x9h\",\"_1spgmms\",\"_l9xvgl\",\"_19688v4\",\"_la2453\",\"_15ljpe2\",\"_lzz9kt\",\"_g9ej6l\",\"_nwb266\",\"_bnbnx2\",\"_p6jd8e\",\"_12zrx6i\",\"_he0eg1\",\"_1sjwac4\",\"_1p1byfm\",\"_17a1k1u\",\"_1o0ckqn\",\"_dlod29\",\"_11mzu6\",\"_1xjp0u4\",\"_13prlk8\",\"_ukugut\",\"_a18gsp\",\"_np8wi\",\"_fd0tib\",\"_l9zk11\",\"_174baii\",\"_zvg2yu\",\"_fpredl\",\"_1s8rt72\",\"_1lwkob4\",\"_192jy1b\",\"_1qj14mg\",\"_yusei2\",\"_kze5iu\",\"_gtlhfa\",\"_q13m3u\",\"_12dikri\",\"_1wndf9f\",\"_jyhj5r\",\"_1vbo4s\",\"_6zvbayr\",\"_pebu3zt\",\"_wwcfwz\",\"_8ekd2y\",\"_liimpa\"]\\n                </script></body></html>'\n"
     ]
    }
   ],
   "source": [
    "filename = 'crawl-data/CC-MAIN-2021-21/segments/1620243989914.60/warc/CC-MAIN-20210516201947-20210516231947-00411.warc.gz'\n",
    "offset = 746862658\n",
    "length = 107009\n",
    "\n",
    "import boto3 \n",
    "\n",
    "from botocore import UNSIGNED\n",
    "from botocore.client import Config\n",
    "import json\n",
    "from warcio.archiveiterator import ArchiveIterator\n",
    "# Boto3 anonymour login to common crawl\n",
    "s3 = boto3.client('s3',config = Config(signature_version = UNSIGNED))\n",
    "# Count the range\n",
    "offset_end = offset + length - 1\n",
    "byte_range = 'bytes={offset}-{end}'.format(offset=offset, end=offset_end)\n",
    "gzipped_text = s3.get_object(Bucket='commoncrawl', Key=filename, Range=byte_range)['Body']\n",
    "\n",
    "for record in ArchiveIterator(gzipped_text):\n",
    "    print(record.rec_type)\n",
    "    url = record.rec_headers.get_header('WARC-Target-URI')\n",
    "    text = record.content_stream().read()\n",
    "    print(url)\n",
    "    print(text)\n",
    "\n",
    "# args = {'Range':byte_range}\n",
    "# s3.download_file(\"commoncrawl\",filename,'hello.zip',ExtraArgs = args)\n",
    "\n",
    "\n",
    "# "
   ]
  },
  {
   "cell_type": "code",
   "execution_count": null,
   "metadata": {},
   "outputs": [],
   "source": []
  }
 ]
}