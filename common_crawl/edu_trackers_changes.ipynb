{
 "metadata": {
  "language_info": {
   "codemirror_mode": {
    "name": "ipython",
    "version": 3
   },
   "file_extension": ".py",
   "mimetype": "text/x-python",
   "name": "python",
   "nbconvert_exporter": "python",
   "pygments_lexer": "ipython3",
   "version": "3.7.3"
  },
  "orig_nbformat": 4,
  "kernelspec": {
   "name": "python3",
   "display_name": "Python 3.7.3 64-bit ('base': conda)"
  },
  "interpreter": {
   "hash": "d3241af192ca6bbb2a07d95a604a33d4ce752c1755b28e9e828d9c6d67377320"
  }
 },
 "nbformat": 4,
 "nbformat_minor": 2,
 "cells": [
  {
   "cell_type": "markdown",
   "source": [
    "# Analyse the develop of the trackers in edu websites"
   ],
   "metadata": {}
  },
  {
   "cell_type": "markdown",
   "source": [
    "## 数据介绍\n",
    "\n",
    "该数据从common project 中提取而来。收集了top 1000 edu websites中的trackers数据。Edu websites数据是提前收集好的。我们计算了教育网站的PageRank分布作为pay-level domains的ranking，然后我们用这个分布来评估第三股库的tracking capability. "
   ],
   "metadata": {}
  },
  {
   "cell_type": "code",
   "execution_count": null,
   "source": [],
   "outputs": [],
   "metadata": {}
  },
  {
   "cell_type": "code",
   "execution_count": 10,
   "source": [
    "# 将edu_trackers 中的domain 反转\n",
    "# import pandas as pd \n",
    "# edu_websites = open(\"educational_websites_unique.txt\").read().split(\"\\n\")\n",
    "# print(edu_websites[:10])\n",
    "\n",
    "# edu_websites_reverse = list(map(lambda x: '.'.join(reversed(x.split('.'))), edu_websites))\n",
    "\n",
    "# df_edu_websites_reverse = pd.DataFrame({\"edu_reverse\":edu_websites_reverse})\n",
    "\n",
    "# df_edu_websites_reverse.to_csv(\"df_edu_websites_reverse.csv\",header=None,index = None)\n",
    "# print(df_edu_websites_reverse.head())"
   ],
   "outputs": [
    {
     "output_type": "stream",
     "name": "stdout",
     "text": [
      "['iraparenting.com', 'learnthermo.com', 'plasma-therm.com', 'koreanteachers.org', 'dmwv.org', 'accuplacerpracticetest.com', 'soespanhol.com.br', 'fastlanguagemastery.com', 'stonepages.com', 'fpsct.org']\n",
      "          edu_reverse\n",
      "0    com.iraparenting\n",
      "1     com.learnthermo\n",
      "2    com.plasma-therm\n",
      "3  org.koreanteachers\n",
      "4            org.dmwv\n"
     ]
    }
   ],
   "metadata": {}
  },
  {
   "cell_type": "code",
   "execution_count": 1,
   "source": [
    "import pandas as pd \n",
    "\n",
    "import glob \n",
    "\n",
    "def frame_construct(time):\n",
    "\n",
    "    filenames = glob.glob('edu_trackers_{}_rank_1_new/*.csv'.format(time))\n",
    "    li = []\n",
    "    for filename in filenames:\n",
    "        df = pd.read_csv(filename,index_col=None,header = 0)\n",
    "        li.append(df)\n",
    "\n",
    "    frame = pd.concat(li,axis = 0,ignore_index=True)\n",
    "    return frame\n",
    "\n",
    "def frame_construct_baseline(time):\n",
    "    filenames = glob.glob('baseline_trackers_{}_rank_1/*.csv'.format(time))\n",
    "    li = []\n",
    "    for filename in filenames:\n",
    "        df = pd.read_csv(filename,index_col=None,header = 0)\n",
    "        li.append(df)\n",
    "\n",
    "    frame = pd.concat(li,axis = 0,ignore_index=True)\n",
    "    return frame\n",
    "\n"
   ],
   "outputs": [
    {
     "output_type": "stream",
     "name": "stderr",
     "text": [
      "/Users/zhansu/anaconda3/lib/python3.7/site-packages/pandas/compat/_optional.py:138: UserWarning: Pandas requires version '2.7.0' or newer of 'numexpr' (version '2.6.9' currently installed).\n",
      "  warnings.warn(msg, UserWarning)\n"
     ]
    }
   ],
   "metadata": {}
  },
  {
   "cell_type": "code",
   "execution_count": 2,
   "source": [
    "# 构建baseline的frame\n",
    "\n",
    "frame_201407_base_origin= frame_construct_baseline('201407')\n",
    "frame_201501_base_origin= frame_construct_baseline(\"201501\")\n",
    "frame_201507_base_origin= frame_construct_baseline(\"201507\")\n",
    "frame_201602_base_origin= frame_construct_baseline(\"201602\")\n",
    "frame_201607_base_origin= frame_construct_baseline(\"201607\")\n",
    "frame_201701_base_origin= frame_construct_baseline(\"201701\")\n",
    "frame_201707_base_origin= frame_construct_baseline(\"201707\")\n",
    "frame_201801_base_origin= frame_construct_baseline(\"201801\")\n",
    "frame_201807_base_origin= frame_construct_baseline(\"201807\")\n",
    "frame_201901_base_origin= frame_construct_baseline(\"201901\")\n",
    "frame_201907_base_origin= frame_construct_baseline(\"201907\")\n",
    "frame_202001_base_origin= frame_construct_baseline(\"202001\")\n",
    "frame_202007_base_origin= frame_construct_baseline(\"202007\")\n",
    "frame_202101_base_origin= frame_construct_baseline(\"202101\")\n",
    "\n",
    "\n",
    "frame_list_base_origin = [frame_201407_base_origin,frame_201501_base_origin,frame_201507_base_origin,\n",
    "frame_201602_base_origin,frame_201607_base_origin,frame_201701_base_origin,frame_201707_base_origin,frame_201801_base_origin,\n",
    "frame_201807_base_origin,frame_201901_base_origin,frame_201907_base_origin,frame_202001_base_origin,frame_202007_base_origin,frame_202101_base_origin]\n",
    "\n",
    "len_list = [len(frame) for frame in frame_list_base_origin]\n",
    "print(len_list)"
   ],
   "outputs": [
    {
     "output_type": "stream",
     "name": "stdout",
     "text": [
      "[14032, 13776, 14399, 14517, 16471, 19429, 19645, 19068, 18973, 18391, 17837, 17204, 16794, 16230]\n"
     ]
    }
   ],
   "metadata": {}
  },
  {
   "cell_type": "code",
   "execution_count": 3,
   "source": [
    "# 找出其中公共的网站\n",
    "frame_base = frame_201407_base_origin\n",
    "for item in frame_list_base_origin[1:]:\n",
    "    frame_base = frame_base.merge(item, on = \"url\", how = \"inner\")\n",
    "\n",
    "print(len(frame_base))\n",
    "frame_base.head()\n",
    "\n",
    "\n"
   ],
   "outputs": [
    {
     "output_type": "stream",
     "name": "stdout",
     "text": [
      "4584\n"
     ]
    },
    {
     "output_type": "stream",
     "name": "stderr",
     "text": [
      "/Users/zhansu/anaconda3/lib/python3.7/site-packages/pandas/core/frame.py:9199: FutureWarning: Passing 'suffixes' which cause duplicate columns {'trackers_x'} in the result is deprecated and will raise a MergeError in a future version.\n",
      "  validate=validate,\n"
     ]
    },
    {
     "output_type": "execute_result",
     "data": {
      "text/html": [
       "<div>\n",
       "<style scoped>\n",
       "    .dataframe tbody tr th:only-of-type {\n",
       "        vertical-align: middle;\n",
       "    }\n",
       "\n",
       "    .dataframe tbody tr th {\n",
       "        vertical-align: top;\n",
       "    }\n",
       "\n",
       "    .dataframe thead th {\n",
       "        text-align: right;\n",
       "    }\n",
       "</style>\n",
       "<table border=\"1\" class=\"dataframe\">\n",
       "  <thead>\n",
       "    <tr style=\"text-align: right;\">\n",
       "      <th></th>\n",
       "      <th>url</th>\n",
       "      <th>trackers_x</th>\n",
       "      <th>trackers_y</th>\n",
       "      <th>trackers_x</th>\n",
       "      <th>trackers_y</th>\n",
       "      <th>trackers_x</th>\n",
       "      <th>trackers_y</th>\n",
       "      <th>trackers_x</th>\n",
       "      <th>trackers_y</th>\n",
       "      <th>trackers_x</th>\n",
       "      <th>trackers_y</th>\n",
       "      <th>trackers_x</th>\n",
       "      <th>trackers_y</th>\n",
       "      <th>trackers_x</th>\n",
       "      <th>trackers_y</th>\n",
       "    </tr>\n",
       "  </thead>\n",
       "  <tbody>\n",
       "    <tr>\n",
       "      <th>0</th>\n",
       "      <td>leduchamp.com</td>\n",
       "      <td>google-analytics.com</td>\n",
       "      <td>google-analytics.com</td>\n",
       "      <td>google-analytics.com</td>\n",
       "      <td>google-analytics.com</td>\n",
       "      <td>google-analytics.com</td>\n",
       "      <td>google-analytics.com</td>\n",
       "      <td>google-analytics.com</td>\n",
       "      <td>google-analytics.com</td>\n",
       "      <td>google-analytics.com</td>\n",
       "      <td>google-analytics.com</td>\n",
       "      <td>google-analytics.com</td>\n",
       "      <td>google-analytics.com</td>\n",
       "      <td>google-analytics.com</td>\n",
       "      <td>google-analytics.com</td>\n",
       "    </tr>\n",
       "    <tr>\n",
       "      <th>1</th>\n",
       "      <td>caminoacasa.com</td>\n",
       "      <td>facebook.com,doubleclick.net,googleadservices....</td>\n",
       "      <td>facebook.com,doubleclick.net,googleadservices....</td>\n",
       "      <td>twitter.com,facebook.com,google-analytics.com</td>\n",
       "      <td>twitter.com,doubleclick.net,facebook.com,googl...</td>\n",
       "      <td>twitter.com,doubleclick.net,facebook.com,googl...</td>\n",
       "      <td>twitter.com,doubleclick.net,facebook.com,googl...</td>\n",
       "      <td>twitter.com,doubleclick.net,facebook.com,googl...</td>\n",
       "      <td>twitter.com,facebook.com,google-analytics.com</td>\n",
       "      <td>twitter.com,facebook.com,google-analytics.com</td>\n",
       "      <td>twitter.com,facebook.com,google-analytics.com</td>\n",
       "      <td>doubleclick.net,googleadservices.com,facebook.com</td>\n",
       "      <td>doubleclick.net,googleadservices.com,facebook.com</td>\n",
       "      <td>doubleclick.net,googleadservices.com,facebook.com</td>\n",
       "      <td>doubleclick.net,googleadservices.com,facebook.com</td>\n",
       "    </tr>\n",
       "    <tr>\n",
       "      <th>2</th>\n",
       "      <td>kbhome.com</td>\n",
       "      <td>twitter.com,addthis.com,facebook.com</td>\n",
       "      <td>twitter.com,addthis.com,facebook.com</td>\n",
       "      <td>twitter.com,googleadservices.com,facebook.com</td>\n",
       "      <td>twitter.com,googleadservices.com,facebook.com</td>\n",
       "      <td>twitter.com,googleadservices.com,facebook.com</td>\n",
       "      <td>twitter.com,googleadservices.com,facebook.com</td>\n",
       "      <td>twitter.com,facebook.com</td>\n",
       "      <td>twitter.com,googleadservices.com,facebook.com</td>\n",
       "      <td>twitter.com,facebook.com</td>\n",
       "      <td>twitter.com,facebook.com</td>\n",
       "      <td>twitter.com,facebook.com</td>\n",
       "      <td>twitter.com,facebook.com</td>\n",
       "      <td>twitter.com,facebook.com,google-analytics.com</td>\n",
       "      <td>twitter.com,facebook.com</td>\n",
       "    </tr>\n",
       "    <tr>\n",
       "      <th>3</th>\n",
       "      <td>fhlbdm.com</td>\n",
       "      <td>twitter.com,google-analytics.com</td>\n",
       "      <td>twitter.com,google-analytics.com</td>\n",
       "      <td>twitter.com,google-analytics.com</td>\n",
       "      <td>twitter.com,google-analytics.com</td>\n",
       "      <td>twitter.com,google-analytics.com</td>\n",
       "      <td>twitter.com,google-analytics.com</td>\n",
       "      <td>twitter.com,google-analytics.com</td>\n",
       "      <td>twitter.com</td>\n",
       "      <td>twitter.com,google-analytics.com</td>\n",
       "      <td>twitter.com,facebook.com</td>\n",
       "      <td>twitter.com,addthis.com,facebook.com</td>\n",
       "      <td>twitter.com,addthis.com,facebook.com</td>\n",
       "      <td>twitter.com,facebook.com</td>\n",
       "      <td>twitter.com,facebook.com</td>\n",
       "    </tr>\n",
       "    <tr>\n",
       "      <th>4</th>\n",
       "      <td>europages.it</td>\n",
       "      <td>sitestat.com,facebook.com,doubleclick.net,goog...</td>\n",
       "      <td>sitestat.com,facebook.com,adroll.com,twitter.c...</td>\n",
       "      <td>sitestat.com,facebook.com,doubleclick.net,goog...</td>\n",
       "      <td>sitestat.com,facebook.com,doubleclick.net,goog...</td>\n",
       "      <td>sitestat.com,facebook.com,doubleclick.net,goog...</td>\n",
       "      <td>twitter.com,sitestat.com,facebook.com,google-a...</td>\n",
       "      <td>twitter.com,sitestat.com,facebook.com,google-a...</td>\n",
       "      <td>twitter.com,facebook.com,google-analytics.com</td>\n",
       "      <td>facebook.com,doubleclick.net,googleadservices....</td>\n",
       "      <td>twitter.com,facebook.com,google-analytics.com</td>\n",
       "      <td>twitter.com,facebook.com,google-analytics.com</td>\n",
       "      <td>facebook.com,doubleclick.net,googleadservices....</td>\n",
       "      <td>twitter.com,facebook.com,google-analytics.com</td>\n",
       "      <td>facebook.com,doubleclick.net,googleadservices....</td>\n",
       "    </tr>\n",
       "  </tbody>\n",
       "</table>\n",
       "</div>"
      ],
      "text/plain": [
       "               url                                         trackers_x  \\\n",
       "0    leduchamp.com                               google-analytics.com   \n",
       "1  caminoacasa.com  facebook.com,doubleclick.net,googleadservices....   \n",
       "2       kbhome.com               twitter.com,addthis.com,facebook.com   \n",
       "3       fhlbdm.com                   twitter.com,google-analytics.com   \n",
       "4     europages.it  sitestat.com,facebook.com,doubleclick.net,goog...   \n",
       "\n",
       "                                          trackers_y  \\\n",
       "0                               google-analytics.com   \n",
       "1  facebook.com,doubleclick.net,googleadservices....   \n",
       "2               twitter.com,addthis.com,facebook.com   \n",
       "3                   twitter.com,google-analytics.com   \n",
       "4  sitestat.com,facebook.com,adroll.com,twitter.c...   \n",
       "\n",
       "                                          trackers_x  \\\n",
       "0                               google-analytics.com   \n",
       "1      twitter.com,facebook.com,google-analytics.com   \n",
       "2      twitter.com,googleadservices.com,facebook.com   \n",
       "3                   twitter.com,google-analytics.com   \n",
       "4  sitestat.com,facebook.com,doubleclick.net,goog...   \n",
       "\n",
       "                                          trackers_y  \\\n",
       "0                               google-analytics.com   \n",
       "1  twitter.com,doubleclick.net,facebook.com,googl...   \n",
       "2      twitter.com,googleadservices.com,facebook.com   \n",
       "3                   twitter.com,google-analytics.com   \n",
       "4  sitestat.com,facebook.com,doubleclick.net,goog...   \n",
       "\n",
       "                                          trackers_x  \\\n",
       "0                               google-analytics.com   \n",
       "1  twitter.com,doubleclick.net,facebook.com,googl...   \n",
       "2      twitter.com,googleadservices.com,facebook.com   \n",
       "3                   twitter.com,google-analytics.com   \n",
       "4  sitestat.com,facebook.com,doubleclick.net,goog...   \n",
       "\n",
       "                                          trackers_y  \\\n",
       "0                               google-analytics.com   \n",
       "1  twitter.com,doubleclick.net,facebook.com,googl...   \n",
       "2      twitter.com,googleadservices.com,facebook.com   \n",
       "3                   twitter.com,google-analytics.com   \n",
       "4  twitter.com,sitestat.com,facebook.com,google-a...   \n",
       "\n",
       "                                          trackers_x  \\\n",
       "0                               google-analytics.com   \n",
       "1  twitter.com,doubleclick.net,facebook.com,googl...   \n",
       "2                           twitter.com,facebook.com   \n",
       "3                   twitter.com,google-analytics.com   \n",
       "4  twitter.com,sitestat.com,facebook.com,google-a...   \n",
       "\n",
       "                                      trackers_y  \\\n",
       "0                           google-analytics.com   \n",
       "1  twitter.com,facebook.com,google-analytics.com   \n",
       "2  twitter.com,googleadservices.com,facebook.com   \n",
       "3                                    twitter.com   \n",
       "4  twitter.com,facebook.com,google-analytics.com   \n",
       "\n",
       "                                          trackers_x  \\\n",
       "0                               google-analytics.com   \n",
       "1      twitter.com,facebook.com,google-analytics.com   \n",
       "2                           twitter.com,facebook.com   \n",
       "3                   twitter.com,google-analytics.com   \n",
       "4  facebook.com,doubleclick.net,googleadservices....   \n",
       "\n",
       "                                      trackers_y  \\\n",
       "0                           google-analytics.com   \n",
       "1  twitter.com,facebook.com,google-analytics.com   \n",
       "2                       twitter.com,facebook.com   \n",
       "3                       twitter.com,facebook.com   \n",
       "4  twitter.com,facebook.com,google-analytics.com   \n",
       "\n",
       "                                          trackers_x  \\\n",
       "0                               google-analytics.com   \n",
       "1  doubleclick.net,googleadservices.com,facebook.com   \n",
       "2                           twitter.com,facebook.com   \n",
       "3               twitter.com,addthis.com,facebook.com   \n",
       "4      twitter.com,facebook.com,google-analytics.com   \n",
       "\n",
       "                                          trackers_y  \\\n",
       "0                               google-analytics.com   \n",
       "1  doubleclick.net,googleadservices.com,facebook.com   \n",
       "2                           twitter.com,facebook.com   \n",
       "3               twitter.com,addthis.com,facebook.com   \n",
       "4  facebook.com,doubleclick.net,googleadservices....   \n",
       "\n",
       "                                          trackers_x  \\\n",
       "0                               google-analytics.com   \n",
       "1  doubleclick.net,googleadservices.com,facebook.com   \n",
       "2      twitter.com,facebook.com,google-analytics.com   \n",
       "3                           twitter.com,facebook.com   \n",
       "4      twitter.com,facebook.com,google-analytics.com   \n",
       "\n",
       "                                          trackers_y  \n",
       "0                               google-analytics.com  \n",
       "1  doubleclick.net,googleadservices.com,facebook.com  \n",
       "2                           twitter.com,facebook.com  \n",
       "3                           twitter.com,facebook.com  \n",
       "4  facebook.com,doubleclick.net,googleadservices....  "
      ]
     },
     "metadata": {},
     "execution_count": 3
    }
   ],
   "metadata": {}
  },
  {
   "cell_type": "code",
   "execution_count": 4,
   "source": [
    "# 载入历史的\n",
    "frame_201407_edu_origin = frame_construct('201407')\n",
    "frame_201501_edu_origin = frame_construct('201501')\n",
    "frame_201507_edu_origin = frame_construct('201507')\n",
    "frame_201602_edu_origin = frame_construct('201602')\n",
    "frame_201607_edu_origin = frame_construct('201607')\n",
    "frame_201701_edu_origin = frame_construct('201701')\n",
    "frame_201707_edu_origin = frame_construct('201707')\n",
    "frame_201801_edu_origin = frame_construct(\"201801\")\n",
    "frame_201807_edu_origin = frame_construct(\"201807\")\n",
    "frame_201901_edu_origin = frame_construct(\"201901\")\n",
    "frame_201907_edu_origin = frame_construct(\"201907\")\n",
    "frame_202001_edu_origin = frame_construct(\"202001\")\n",
    "frame_202007_edu_origin = frame_construct(\"202007\")\n",
    "frame_202101_edu_origin = frame_construct(\"202101\")\n",
    "\n",
    "\n",
    "\n",
    "frame_list_edu_origin = [frame_201407_edu_origin,frame_201501_edu_origin,frame_201507_edu_origin,frame_201602_edu_origin,frame_201607_edu_origin,\n",
    "frame_201701_edu_origin,frame_201707_edu_origin,frame_201801_edu_origin,frame_201807_edu_origin,frame_201901_edu_origin,frame_201907_edu_origin,frame_202001_edu_origin,frame_202007_edu_origin,\n",
    "frame_202101_edu_origin]\n",
    "\n",
    "\n",
    "len_list = [len(frame) for frame in frame_list_edu_origin]\n",
    "print(len_list)\n",
    "\n",
    "frame_edu = frame_201407_edu_origin\n",
    "for item in frame_list_edu_origin[1:]:\n",
    "    frame_edu = frame_edu.merge(item, on = \"url\", how = \"inner\")\n",
    "\n",
    "print(len(frame_edu))\n",
    "frame_edu.head()"
   ],
   "outputs": [
    {
     "output_type": "stream",
     "name": "stdout",
     "text": [
      "[22461, 22173, 22787, 22928, 25105, 27243, 27572, 28138, 29025, 29771, 29806, 29965, 29801, 29137]\n",
      "9981\n"
     ]
    },
    {
     "output_type": "stream",
     "name": "stderr",
     "text": [
      "/Users/zhansu/anaconda3/lib/python3.7/site-packages/pandas/core/frame.py:9199: FutureWarning: Passing 'suffixes' which cause duplicate columns {'trackers_x'} in the result is deprecated and will raise a MergeError in a future version.\n",
      "  validate=validate,\n"
     ]
    },
    {
     "output_type": "execute_result",
     "data": {
      "text/html": [
       "<div>\n",
       "<style scoped>\n",
       "    .dataframe tbody tr th:only-of-type {\n",
       "        vertical-align: middle;\n",
       "    }\n",
       "\n",
       "    .dataframe tbody tr th {\n",
       "        vertical-align: top;\n",
       "    }\n",
       "\n",
       "    .dataframe thead th {\n",
       "        text-align: right;\n",
       "    }\n",
       "</style>\n",
       "<table border=\"1\" class=\"dataframe\">\n",
       "  <thead>\n",
       "    <tr style=\"text-align: right;\">\n",
       "      <th></th>\n",
       "      <th>url</th>\n",
       "      <th>trackers_x</th>\n",
       "      <th>trackers_y</th>\n",
       "      <th>trackers_x</th>\n",
       "      <th>trackers_y</th>\n",
       "      <th>trackers_x</th>\n",
       "      <th>trackers_y</th>\n",
       "      <th>trackers_x</th>\n",
       "      <th>trackers_y</th>\n",
       "      <th>trackers_x</th>\n",
       "      <th>trackers_y</th>\n",
       "      <th>trackers_x</th>\n",
       "      <th>trackers_y</th>\n",
       "      <th>trackers_x</th>\n",
       "      <th>trackers_y</th>\n",
       "    </tr>\n",
       "  </thead>\n",
       "  <tbody>\n",
       "    <tr>\n",
       "      <th>0</th>\n",
       "      <td>utfsm.cl</td>\n",
       "      <td>twitter.com,facebook.net,facebook.com</td>\n",
       "      <td>facebook.com</td>\n",
       "      <td>twitter.com,facebook.com</td>\n",
       "      <td>facebook.net,google-analytics.com</td>\n",
       "      <td>twitter.com,gravatar.com,facebook.net,facebook...</td>\n",
       "      <td>simplehitcounter.com</td>\n",
       "      <td>twitter.com,facebook.com</td>\n",
       "      <td>twitter.com,facebook.com,google-analytics.com</td>\n",
       "      <td>twitter.com,facebook.com</td>\n",
       "      <td>google-analytics.com</td>\n",
       "      <td>facebook.com</td>\n",
       "      <td>gravatar.com</td>\n",
       "      <td>sharethis.com,gravatar.com,facebook.com</td>\n",
       "      <td>google-analytics.com</td>\n",
       "    </tr>\n",
       "    <tr>\n",
       "      <th>1</th>\n",
       "      <td>misd.net</td>\n",
       "      <td>facebook.com</td>\n",
       "      <td>google-analytics.com</td>\n",
       "      <td>gigya.com,flagcounter.com,clustrmaps.com,weebl...</td>\n",
       "      <td>twitter.com,facebook.com,typekit.net</td>\n",
       "      <td>twitter.com,facebook.com,typekit.net</td>\n",
       "      <td>gravatar.com,twitter.com,clustrmaps.com,flagco...</td>\n",
       "      <td>twitter.com,google-analytics.com</td>\n",
       "      <td>google-analytics.com</td>\n",
       "      <td>twitter.com,facebook.com</td>\n",
       "      <td>facebook.com</td>\n",
       "      <td>statcounter.com</td>\n",
       "      <td>twitter.com,google-analytics.com</td>\n",
       "      <td>weebly.com</td>\n",
       "      <td>facebook.net</td>\n",
       "    </tr>\n",
       "    <tr>\n",
       "      <th>2</th>\n",
       "      <td>cfdreview.com</td>\n",
       "      <td>twitter.com</td>\n",
       "      <td>twitter.com</td>\n",
       "      <td>twitter.com</td>\n",
       "      <td>twitter.com</td>\n",
       "      <td>twitter.com</td>\n",
       "      <td>twitter.com</td>\n",
       "      <td>twitter.com</td>\n",
       "      <td>twitter.com</td>\n",
       "      <td>twitter.com</td>\n",
       "      <td>twitter.com</td>\n",
       "      <td>twitter.com</td>\n",
       "      <td>twitter.com</td>\n",
       "      <td>twitter.com</td>\n",
       "      <td>twitter.com</td>\n",
       "    </tr>\n",
       "    <tr>\n",
       "      <th>3</th>\n",
       "      <td>chem4kids.com</td>\n",
       "      <td>googlesyndication.com</td>\n",
       "      <td>googlesyndication.com</td>\n",
       "      <td>googlesyndication.com</td>\n",
       "      <td>googlesyndication.com</td>\n",
       "      <td>googlesyndication.com</td>\n",
       "      <td>googlesyndication.com</td>\n",
       "      <td>googlesyndication.com</td>\n",
       "      <td>googlesyndication.com</td>\n",
       "      <td>googlesyndication.com</td>\n",
       "      <td>googlesyndication.com</td>\n",
       "      <td>googlesyndication.com</td>\n",
       "      <td>googlesyndication.com</td>\n",
       "      <td>googlesyndication.com</td>\n",
       "      <td>googlesyndication.com</td>\n",
       "    </tr>\n",
       "    <tr>\n",
       "      <th>4</th>\n",
       "      <td>com.au</td>\n",
       "      <td>twitter.com,facebook.com</td>\n",
       "      <td>facebook.com,gravatar.com,feedburner.com,twitt...</td>\n",
       "      <td>google-analytics.com</td>\n",
       "      <td>facebook.com,doubleclick.net,adroll.com,twitte...</td>\n",
       "      <td>twitter.com,facebook.com,google-analytics.com</td>\n",
       "      <td>twitter.com,typekit.com,facebook.com</td>\n",
       "      <td>twitter.com,facebook.com,google-analytics.com</td>\n",
       "      <td>facebook.com,gravatar.com,feedburner.com,twitt...</td>\n",
       "      <td>google-analytics.com</td>\n",
       "      <td>twitter.com,facebook.com,google-analytics.com</td>\n",
       "      <td>twitter.com,facebook.com,google-analytics.com</td>\n",
       "      <td>google-analytics.com</td>\n",
       "      <td>twitter.com,facebook.com</td>\n",
       "      <td>typekit.net</td>\n",
       "    </tr>\n",
       "  </tbody>\n",
       "</table>\n",
       "</div>"
      ],
      "text/plain": [
       "             url                             trackers_x  \\\n",
       "0       utfsm.cl  twitter.com,facebook.net,facebook.com   \n",
       "1       misd.net                           facebook.com   \n",
       "2  cfdreview.com                            twitter.com   \n",
       "3  chem4kids.com                  googlesyndication.com   \n",
       "4         com.au               twitter.com,facebook.com   \n",
       "\n",
       "                                          trackers_y  \\\n",
       "0                                       facebook.com   \n",
       "1                               google-analytics.com   \n",
       "2                                        twitter.com   \n",
       "3                              googlesyndication.com   \n",
       "4  facebook.com,gravatar.com,feedburner.com,twitt...   \n",
       "\n",
       "                                          trackers_x  \\\n",
       "0                           twitter.com,facebook.com   \n",
       "1  gigya.com,flagcounter.com,clustrmaps.com,weebl...   \n",
       "2                                        twitter.com   \n",
       "3                              googlesyndication.com   \n",
       "4                               google-analytics.com   \n",
       "\n",
       "                                          trackers_y  \\\n",
       "0                  facebook.net,google-analytics.com   \n",
       "1               twitter.com,facebook.com,typekit.net   \n",
       "2                                        twitter.com   \n",
       "3                              googlesyndication.com   \n",
       "4  facebook.com,doubleclick.net,adroll.com,twitte...   \n",
       "\n",
       "                                          trackers_x  \\\n",
       "0  twitter.com,gravatar.com,facebook.net,facebook...   \n",
       "1               twitter.com,facebook.com,typekit.net   \n",
       "2                                        twitter.com   \n",
       "3                              googlesyndication.com   \n",
       "4      twitter.com,facebook.com,google-analytics.com   \n",
       "\n",
       "                                          trackers_y  \\\n",
       "0                               simplehitcounter.com   \n",
       "1  gravatar.com,twitter.com,clustrmaps.com,flagco...   \n",
       "2                                        twitter.com   \n",
       "3                              googlesyndication.com   \n",
       "4               twitter.com,typekit.com,facebook.com   \n",
       "\n",
       "                                      trackers_x  \\\n",
       "0                       twitter.com,facebook.com   \n",
       "1               twitter.com,google-analytics.com   \n",
       "2                                    twitter.com   \n",
       "3                          googlesyndication.com   \n",
       "4  twitter.com,facebook.com,google-analytics.com   \n",
       "\n",
       "                                          trackers_y  \\\n",
       "0      twitter.com,facebook.com,google-analytics.com   \n",
       "1                               google-analytics.com   \n",
       "2                                        twitter.com   \n",
       "3                              googlesyndication.com   \n",
       "4  facebook.com,gravatar.com,feedburner.com,twitt...   \n",
       "\n",
       "                 trackers_x                                     trackers_y  \\\n",
       "0  twitter.com,facebook.com                           google-analytics.com   \n",
       "1  twitter.com,facebook.com                                   facebook.com   \n",
       "2               twitter.com                                    twitter.com   \n",
       "3     googlesyndication.com                          googlesyndication.com   \n",
       "4      google-analytics.com  twitter.com,facebook.com,google-analytics.com   \n",
       "\n",
       "                                      trackers_x  \\\n",
       "0                                   facebook.com   \n",
       "1                                statcounter.com   \n",
       "2                                    twitter.com   \n",
       "3                          googlesyndication.com   \n",
       "4  twitter.com,facebook.com,google-analytics.com   \n",
       "\n",
       "                         trackers_y                               trackers_x  \\\n",
       "0                      gravatar.com  sharethis.com,gravatar.com,facebook.com   \n",
       "1  twitter.com,google-analytics.com                               weebly.com   \n",
       "2                       twitter.com                              twitter.com   \n",
       "3             googlesyndication.com                    googlesyndication.com   \n",
       "4              google-analytics.com                 twitter.com,facebook.com   \n",
       "\n",
       "              trackers_y  \n",
       "0   google-analytics.com  \n",
       "1           facebook.net  \n",
       "2            twitter.com  \n",
       "3  googlesyndication.com  \n",
       "4            typekit.net  "
      ]
     },
     "metadata": {},
     "execution_count": 4
    }
   ],
   "metadata": {}
  },
  {
   "cell_type": "code",
   "execution_count": 5,
   "source": [
    "#将分离后多frame剥离出来\n",
    "x_base = ['2014_07','2015_01','2015_07','2016_02','2016_07',\n",
    "'2017_01','2017_07',\"2018_01\",\"2018_07\",\"2019_01\",\"2019_07\",\"2020_01\",\"2020_07\"\n",
    ",\"2021_01\"]\n",
    "\n",
    "frame_base.columns = [\"url\"] + x_base\n",
    "frame_edu.columns = ['url'] + x_base\n",
    "\n",
    "frame_201407_base = frame_base[['url','2014_07']]\n",
    "frame_201501_base = frame_base[['url','2015_01']]\n",
    "frame_201507_base = frame_base[['url','2015_07']]\n",
    "frame_201602_base = frame_base[['url','2016_02']]\n",
    "frame_201607_base = frame_base[['url','2016_07']]\n",
    "frame_201701_base = frame_base[['url','2017_01']]\n",
    "frame_201707_base = frame_base[['url','2017_07']]\n",
    "frame_201801_base = frame_base[['url','2018_01']]\n",
    "frame_201807_base = frame_base[['url','2018_07']]\n",
    "frame_201901_base = frame_base[['url','2019_01']]\n",
    "frame_201907_base = frame_base[['url','2019_07']]\n",
    "frame_202001_base = frame_base[['url','2020_01']]\n",
    "frame_202007_base = frame_base[['url','2020_07']]\n",
    "frame_202101_base = frame_base[['url','2021_01']]\n",
    "\n",
    "frame_201407_edu = frame_edu[['url','2014_07']]\n",
    "frame_201501_edu = frame_edu[['url','2015_01']]\n",
    "frame_201507_edu = frame_edu[['url','2015_07']]\n",
    "frame_201602_edu = frame_edu[['url','2016_02']]\n",
    "frame_201607_edu = frame_edu[['url','2016_07']]\n",
    "frame_201701_edu = frame_edu[['url','2017_01']]\n",
    "frame_201707_edu = frame_edu[['url','2017_07']]\n",
    "frame_201801_edu = frame_edu[['url','2018_01']]\n",
    "frame_201807_edu = frame_edu[['url','2018_07']]\n",
    "frame_201901_edu = frame_edu[['url','2019_01']]\n",
    "frame_201907_edu = frame_edu[['url','2019_07']]\n",
    "frame_202001_edu = frame_edu[['url','2020_01']]\n",
    "frame_202007_edu = frame_edu[['url','2020_07']]\n",
    "frame_202101_edu = frame_edu[['url','2021_01']]\n",
    "\n",
    "frame_list_edu = [frame_201407_edu,frame_201501_edu,frame_201507_edu,frame_201602_edu,frame_201607_edu,\n",
    "frame_201701_edu,frame_201707_edu,frame_201801_edu,frame_201807_edu,frame_201901_edu,frame_201907_edu,frame_202001_edu,frame_202007_edu,frame_202101_edu]\n",
    "\n",
    "for item in frame_list_edu:\n",
    "    item.columns = ['url',\"trackers\"]\n",
    "\n",
    "frame_list_base = [frame_201407_base,frame_201501_base,frame_201507_base,\n",
    "frame_201602_base,frame_201607_base,frame_201701_base,frame_201707_base,frame_201801_base,\n",
    "frame_201807_base,frame_201901_base,frame_201907_base,frame_202001_base,frame_202007_base\n",
    ",frame_202101_base]\n",
    "\n",
    "for item in frame_list_base:\n",
    "    item.columns = ['url',\"trackers\"]\n",
    "\n",
    "frame_201407_edu.head()\n"
   ],
   "outputs": [
    {
     "output_type": "execute_result",
     "data": {
      "text/html": [
       "<div>\n",
       "<style scoped>\n",
       "    .dataframe tbody tr th:only-of-type {\n",
       "        vertical-align: middle;\n",
       "    }\n",
       "\n",
       "    .dataframe tbody tr th {\n",
       "        vertical-align: top;\n",
       "    }\n",
       "\n",
       "    .dataframe thead th {\n",
       "        text-align: right;\n",
       "    }\n",
       "</style>\n",
       "<table border=\"1\" class=\"dataframe\">\n",
       "  <thead>\n",
       "    <tr style=\"text-align: right;\">\n",
       "      <th></th>\n",
       "      <th>url</th>\n",
       "      <th>trackers</th>\n",
       "    </tr>\n",
       "  </thead>\n",
       "  <tbody>\n",
       "    <tr>\n",
       "      <th>0</th>\n",
       "      <td>utfsm.cl</td>\n",
       "      <td>twitter.com,facebook.net,facebook.com</td>\n",
       "    </tr>\n",
       "    <tr>\n",
       "      <th>1</th>\n",
       "      <td>misd.net</td>\n",
       "      <td>facebook.com</td>\n",
       "    </tr>\n",
       "    <tr>\n",
       "      <th>2</th>\n",
       "      <td>cfdreview.com</td>\n",
       "      <td>twitter.com</td>\n",
       "    </tr>\n",
       "    <tr>\n",
       "      <th>3</th>\n",
       "      <td>chem4kids.com</td>\n",
       "      <td>googlesyndication.com</td>\n",
       "    </tr>\n",
       "    <tr>\n",
       "      <th>4</th>\n",
       "      <td>com.au</td>\n",
       "      <td>twitter.com,facebook.com</td>\n",
       "    </tr>\n",
       "  </tbody>\n",
       "</table>\n",
       "</div>"
      ],
      "text/plain": [
       "             url                               trackers\n",
       "0       utfsm.cl  twitter.com,facebook.net,facebook.com\n",
       "1       misd.net                           facebook.com\n",
       "2  cfdreview.com                            twitter.com\n",
       "3  chem4kids.com                  googlesyndication.com\n",
       "4         com.au               twitter.com,facebook.com"
      ]
     },
     "metadata": {},
     "execution_count": 5
    }
   ],
   "metadata": {}
  },
  {
   "cell_type": "code",
   "execution_count": 6,
   "source": [
    "# 计算不同国家教育网站的trackres数量\n",
    "\n",
    "import pycountry\n",
    "\n",
    "country_dict = {c.alpha_2.lower():c.name for c in pycountry.countries}\n",
    "country_list = list(map(lambda x:x.alpha_2.lower(), list(pycountry.countries)))\n",
    "\n",
    "country_alpha_3 = {c.alpha_2.lower():c.alpha_3 for c in pycountry.countries}\n",
    "\n",
    "def get_country_name(row):\n",
    "    return country_dict[row['country']]\n",
    "def get_country(row):\n",
    "    return row['url'].split(\".\")[-1].split(\":\")[0]\n",
    "\n",
    "def get_country_alpha_3(row):\n",
    "    return country_alpha_3[row['country']]\n",
    "\n",
    "\n",
    "\n",
    "frame_202101['country'] = frame_202101.apply(get_country,axis = 1)\n",
    "# frame_202101[\"country_name\"] = frame_202101.apply(get_country_name,axis = 1)\n",
    "frame_202101_country_websites = frame_202101[frame_202101['country'].isin(country_list)].reset_index()\n",
    "# print(frame_202101_country_websites.head())\n",
    "\n",
    "edu_country_count = frame_202101_country_websites.groupby(\"country\").count().reset_index()\n",
    "edu_country_count['country_name'] = edu_country_count.apply(get_country_name,axis = 1)\n",
    "edu_country_count['alpha_3'] = edu_country_count.apply(get_country_alpha_3,axis = 1)\n",
    "\n",
    "edu_country_count.head()\n",
    "edu_country_count[[\"country_name\",\"alpha_3\",\"index\"]].to_csv(\"edu_country_count.csv\",index = None)\n",
    "\n"
   ],
   "outputs": [
    {
     "output_type": "error",
     "ename": "NameError",
     "evalue": "name 'frame_202101' is not defined",
     "traceback": [
      "\u001b[0;31m---------------------------------------------------------------------------\u001b[0m",
      "\u001b[0;31mNameError\u001b[0m                                 Traceback (most recent call last)",
      "\u001b[0;32m<ipython-input-6-d1e54502239c>\u001b[0m in \u001b[0;36m<module>\u001b[0;34m\u001b[0m\n\u001b[1;32m     18\u001b[0m \u001b[0;34m\u001b[0m\u001b[0m\n\u001b[1;32m     19\u001b[0m \u001b[0;34m\u001b[0m\u001b[0m\n\u001b[0;32m---> 20\u001b[0;31m \u001b[0mframe_202101\u001b[0m\u001b[0;34m[\u001b[0m\u001b[0;34m'country'\u001b[0m\u001b[0;34m]\u001b[0m \u001b[0;34m=\u001b[0m \u001b[0mframe_202101\u001b[0m\u001b[0;34m.\u001b[0m\u001b[0mapply\u001b[0m\u001b[0;34m(\u001b[0m\u001b[0mget_country\u001b[0m\u001b[0;34m,\u001b[0m\u001b[0maxis\u001b[0m \u001b[0;34m=\u001b[0m \u001b[0;36m1\u001b[0m\u001b[0;34m)\u001b[0m\u001b[0;34m\u001b[0m\u001b[0;34m\u001b[0m\u001b[0m\n\u001b[0m\u001b[1;32m     21\u001b[0m \u001b[0;31m# frame_202101[\"country_name\"] = frame_202101.apply(get_country_name,axis = 1)\u001b[0m\u001b[0;34m\u001b[0m\u001b[0;34m\u001b[0m\u001b[0;34m\u001b[0m\u001b[0m\n\u001b[1;32m     22\u001b[0m \u001b[0mframe_202101_country_websites\u001b[0m \u001b[0;34m=\u001b[0m \u001b[0mframe_202101\u001b[0m\u001b[0;34m[\u001b[0m\u001b[0mframe_202101\u001b[0m\u001b[0;34m[\u001b[0m\u001b[0;34m'country'\u001b[0m\u001b[0;34m]\u001b[0m\u001b[0;34m.\u001b[0m\u001b[0misin\u001b[0m\u001b[0;34m(\u001b[0m\u001b[0mcountry_list\u001b[0m\u001b[0;34m)\u001b[0m\u001b[0;34m]\u001b[0m\u001b[0;34m.\u001b[0m\u001b[0mreset_index\u001b[0m\u001b[0;34m(\u001b[0m\u001b[0;34m)\u001b[0m\u001b[0;34m\u001b[0m\u001b[0;34m\u001b[0m\u001b[0m\n",
      "\u001b[0;31mNameError\u001b[0m: name 'frame_202101' is not defined"
     ]
    }
   ],
   "metadata": {}
  },
  {
   "cell_type": "code",
   "execution_count": 27,
   "source": [
    "# 画出饼状图\n",
    "import plotly.express as px\n",
    "fig = px.pie(edu_country_count, values='index', names='country_name', title='educational_websites')\n",
    "fig.show()"
   ],
   "outputs": [
    {
     "output_type": "display_data",
     "data": {
      "application/vnd.plotly.v1+json": {
       "config": {
        "plotlyServerURL": "https://plot.ly"
       },
       "data": [
        {
         "domain": {
          "x": [
           0,
           1
          ],
          "y": [
           0,
           1
          ]
         },
         "hovertemplate": "country_name=%{label}<br>index=%{value}<extra></extra>",
         "labels": [
          "Albania",
          "Algeria",
          "American Samoa",
          "Anguilla",
          "Argentina",
          "Armenia",
          "Australia",
          "Austria",
          "Azerbaijan",
          "Bangladesh",
          "Belarus",
          "Belgium",
          "Belize",
          "Bolivia, Plurinational State of",
          "Bosnia and Herzegovina",
          "Brazil",
          "British Indian Ocean Territory",
          "Bulgaria",
          "Cabo Verde",
          "Cambodia",
          "Canada",
          "Chile",
          "China",
          "Cocos (Keeling) Islands",
          "Colombia",
          "Costa Rica",
          "Croatia",
          "Cuba",
          "Cyprus",
          "Czechia",
          "Côte d'Ivoire",
          "Denmark",
          "Dominican Republic",
          "Ecuador",
          "Egypt",
          "El Salvador",
          "Estonia",
          "Faroe Islands",
          "Finland",
          "France",
          "Georgia",
          "Germany",
          "Ghana",
          "Greece",
          "Greenland",
          "Guatemala",
          "Guernsey",
          "Honduras",
          "Hong Kong",
          "Hungary",
          "Iceland",
          "India",
          "Indonesia",
          "Iran, Islamic Republic of",
          "Iraq",
          "Ireland",
          "Isle of Man",
          "Israel",
          "Italy",
          "Japan",
          "Jordan",
          "Kazakhstan",
          "Kenya",
          "Korea, Republic of",
          "Kuwait",
          "Kyrgyzstan",
          "Lao People's Democratic Republic",
          "Latvia",
          "Lebanon",
          "Libya",
          "Liechtenstein",
          "Lithuania",
          "Luxembourg",
          "Macao",
          "Malaysia",
          "Mali",
          "Malta",
          "Martinique",
          "Mexico",
          "Micronesia, Federated States of",
          "Moldova, Republic of",
          "Mongolia",
          "Montenegro",
          "Montserrat",
          "Morocco",
          "Mozambique",
          "Nepal",
          "Netherlands",
          "New Zealand",
          "Nigeria",
          "Niue",
          "North Macedonia",
          "Norway",
          "Oman",
          "Pakistan",
          "Palau",
          "Palestine, State of",
          "Panama",
          "Peru",
          "Philippines",
          "Poland",
          "Portugal",
          "Qatar",
          "Romania",
          "Russian Federation",
          "Saint Vincent and the Grenadines",
          "Samoa",
          "Sao Tome and Principe",
          "Saudi Arabia",
          "Serbia",
          "Seychelles",
          "Singapore",
          "Slovakia",
          "Slovenia",
          "South Africa",
          "South Georgia and the South Sandwich Islands",
          "Spain",
          "Sri Lanka",
          "Sweden",
          "Switzerland",
          "Syrian Arab Republic",
          "Taiwan, Province of China",
          "Tanzania, United Republic of",
          "Thailand",
          "Tokelau",
          "Tonga",
          "Trinidad and Tobago",
          "Tunisia",
          "Turkey",
          "Tuvalu",
          "Ukraine",
          "United Arab Emirates",
          "United States",
          "Uruguay",
          "Venezuela, Bolivarian Republic of",
          "Viet Nam",
          "Zimbabwe",
          "Åland Islands"
         ],
         "legendgroup": "",
         "name": "",
         "showlegend": true,
         "type": "pie",
         "values": [
          1,
          12,
          1,
          21,
          6,
          4,
          7,
          60,
          1,
          1,
          12,
          39,
          2,
          2,
          1,
          32,
          72,
          12,
          1,
          1,
          219,
          28,
          70,
          24,
          78,
          1,
          17,
          2,
          1,
          59,
          2,
          633,
          3,
          4,
          2,
          2,
          11,
          1,
          175,
          380,
          1,
          524,
          1,
          50,
          1,
          1,
          1,
          2,
          7,
          53,
          14,
          558,
          10,
          51,
          1,
          57,
          2,
          5,
          220,
          78,
          1,
          12,
          1,
          19,
          1,
          1,
          3,
          6,
          1,
          3,
          2,
          53,
          5,
          2,
          9,
          1,
          1,
          1,
          54,
          1,
          4,
          3,
          60,
          2,
          14,
          1,
          2,
          193,
          12,
          2,
          23,
          3,
          87,
          2,
          8,
          1,
          4,
          1,
          5,
          6,
          134,
          51,
          1,
          61,
          543,
          2,
          15,
          1,
          3,
          9,
          2,
          16,
          21,
          12,
          3,
          1,
          186,
          2,
          393,
          76,
          4,
          14,
          1,
          3,
          4,
          3,
          1,
          5,
          6,
          21,
          34,
          7,
          174,
          3,
          5,
          21,
          2,
          3
         ]
        }
       ],
       "layout": {
        "legend": {
         "tracegroupgap": 0
        },
        "template": {
         "data": {
          "bar": [
           {
            "error_x": {
             "color": "#2a3f5f"
            },
            "error_y": {
             "color": "#2a3f5f"
            },
            "marker": {
             "line": {
              "color": "#E5ECF6",
              "width": 0.5
             },
             "pattern": {
              "fillmode": "overlay",
              "size": 10,
              "solidity": 0.2
             }
            },
            "type": "bar"
           }
          ],
          "barpolar": [
           {
            "marker": {
             "line": {
              "color": "#E5ECF6",
              "width": 0.5
             },
             "pattern": {
              "fillmode": "overlay",
              "size": 10,
              "solidity": 0.2
             }
            },
            "type": "barpolar"
           }
          ],
          "carpet": [
           {
            "aaxis": {
             "endlinecolor": "#2a3f5f",
             "gridcolor": "white",
             "linecolor": "white",
             "minorgridcolor": "white",
             "startlinecolor": "#2a3f5f"
            },
            "baxis": {
             "endlinecolor": "#2a3f5f",
             "gridcolor": "white",
             "linecolor": "white",
             "minorgridcolor": "white",
             "startlinecolor": "#2a3f5f"
            },
            "type": "carpet"
           }
          ],
          "choropleth": [
           {
            "colorbar": {
             "outlinewidth": 0,
             "ticks": ""
            },
            "type": "choropleth"
           }
          ],
          "contour": [
           {
            "colorbar": {
             "outlinewidth": 0,
             "ticks": ""
            },
            "colorscale": [
             [
              0,
              "#0d0887"
             ],
             [
              0.1111111111111111,
              "#46039f"
             ],
             [
              0.2222222222222222,
              "#7201a8"
             ],
             [
              0.3333333333333333,
              "#9c179e"
             ],
             [
              0.4444444444444444,
              "#bd3786"
             ],
             [
              0.5555555555555556,
              "#d8576b"
             ],
             [
              0.6666666666666666,
              "#ed7953"
             ],
             [
              0.7777777777777778,
              "#fb9f3a"
             ],
             [
              0.8888888888888888,
              "#fdca26"
             ],
             [
              1,
              "#f0f921"
             ]
            ],
            "type": "contour"
           }
          ],
          "contourcarpet": [
           {
            "colorbar": {
             "outlinewidth": 0,
             "ticks": ""
            },
            "type": "contourcarpet"
           }
          ],
          "heatmap": [
           {
            "colorbar": {
             "outlinewidth": 0,
             "ticks": ""
            },
            "colorscale": [
             [
              0,
              "#0d0887"
             ],
             [
              0.1111111111111111,
              "#46039f"
             ],
             [
              0.2222222222222222,
              "#7201a8"
             ],
             [
              0.3333333333333333,
              "#9c179e"
             ],
             [
              0.4444444444444444,
              "#bd3786"
             ],
             [
              0.5555555555555556,
              "#d8576b"
             ],
             [
              0.6666666666666666,
              "#ed7953"
             ],
             [
              0.7777777777777778,
              "#fb9f3a"
             ],
             [
              0.8888888888888888,
              "#fdca26"
             ],
             [
              1,
              "#f0f921"
             ]
            ],
            "type": "heatmap"
           }
          ],
          "heatmapgl": [
           {
            "colorbar": {
             "outlinewidth": 0,
             "ticks": ""
            },
            "colorscale": [
             [
              0,
              "#0d0887"
             ],
             [
              0.1111111111111111,
              "#46039f"
             ],
             [
              0.2222222222222222,
              "#7201a8"
             ],
             [
              0.3333333333333333,
              "#9c179e"
             ],
             [
              0.4444444444444444,
              "#bd3786"
             ],
             [
              0.5555555555555556,
              "#d8576b"
             ],
             [
              0.6666666666666666,
              "#ed7953"
             ],
             [
              0.7777777777777778,
              "#fb9f3a"
             ],
             [
              0.8888888888888888,
              "#fdca26"
             ],
             [
              1,
              "#f0f921"
             ]
            ],
            "type": "heatmapgl"
           }
          ],
          "histogram": [
           {
            "marker": {
             "pattern": {
              "fillmode": "overlay",
              "size": 10,
              "solidity": 0.2
             }
            },
            "type": "histogram"
           }
          ],
          "histogram2d": [
           {
            "colorbar": {
             "outlinewidth": 0,
             "ticks": ""
            },
            "colorscale": [
             [
              0,
              "#0d0887"
             ],
             [
              0.1111111111111111,
              "#46039f"
             ],
             [
              0.2222222222222222,
              "#7201a8"
             ],
             [
              0.3333333333333333,
              "#9c179e"
             ],
             [
              0.4444444444444444,
              "#bd3786"
             ],
             [
              0.5555555555555556,
              "#d8576b"
             ],
             [
              0.6666666666666666,
              "#ed7953"
             ],
             [
              0.7777777777777778,
              "#fb9f3a"
             ],
             [
              0.8888888888888888,
              "#fdca26"
             ],
             [
              1,
              "#f0f921"
             ]
            ],
            "type": "histogram2d"
           }
          ],
          "histogram2dcontour": [
           {
            "colorbar": {
             "outlinewidth": 0,
             "ticks": ""
            },
            "colorscale": [
             [
              0,
              "#0d0887"
             ],
             [
              0.1111111111111111,
              "#46039f"
             ],
             [
              0.2222222222222222,
              "#7201a8"
             ],
             [
              0.3333333333333333,
              "#9c179e"
             ],
             [
              0.4444444444444444,
              "#bd3786"
             ],
             [
              0.5555555555555556,
              "#d8576b"
             ],
             [
              0.6666666666666666,
              "#ed7953"
             ],
             [
              0.7777777777777778,
              "#fb9f3a"
             ],
             [
              0.8888888888888888,
              "#fdca26"
             ],
             [
              1,
              "#f0f921"
             ]
            ],
            "type": "histogram2dcontour"
           }
          ],
          "mesh3d": [
           {
            "colorbar": {
             "outlinewidth": 0,
             "ticks": ""
            },
            "type": "mesh3d"
           }
          ],
          "parcoords": [
           {
            "line": {
             "colorbar": {
              "outlinewidth": 0,
              "ticks": ""
             }
            },
            "type": "parcoords"
           }
          ],
          "pie": [
           {
            "automargin": true,
            "type": "pie"
           }
          ],
          "scatter": [
           {
            "marker": {
             "colorbar": {
              "outlinewidth": 0,
              "ticks": ""
             }
            },
            "type": "scatter"
           }
          ],
          "scatter3d": [
           {
            "line": {
             "colorbar": {
              "outlinewidth": 0,
              "ticks": ""
             }
            },
            "marker": {
             "colorbar": {
              "outlinewidth": 0,
              "ticks": ""
             }
            },
            "type": "scatter3d"
           }
          ],
          "scattercarpet": [
           {
            "marker": {
             "colorbar": {
              "outlinewidth": 0,
              "ticks": ""
             }
            },
            "type": "scattercarpet"
           }
          ],
          "scattergeo": [
           {
            "marker": {
             "colorbar": {
              "outlinewidth": 0,
              "ticks": ""
             }
            },
            "type": "scattergeo"
           }
          ],
          "scattergl": [
           {
            "marker": {
             "colorbar": {
              "outlinewidth": 0,
              "ticks": ""
             }
            },
            "type": "scattergl"
           }
          ],
          "scattermapbox": [
           {
            "marker": {
             "colorbar": {
              "outlinewidth": 0,
              "ticks": ""
             }
            },
            "type": "scattermapbox"
           }
          ],
          "scatterpolar": [
           {
            "marker": {
             "colorbar": {
              "outlinewidth": 0,
              "ticks": ""
             }
            },
            "type": "scatterpolar"
           }
          ],
          "scatterpolargl": [
           {
            "marker": {
             "colorbar": {
              "outlinewidth": 0,
              "ticks": ""
             }
            },
            "type": "scatterpolargl"
           }
          ],
          "scatterternary": [
           {
            "marker": {
             "colorbar": {
              "outlinewidth": 0,
              "ticks": ""
             }
            },
            "type": "scatterternary"
           }
          ],
          "surface": [
           {
            "colorbar": {
             "outlinewidth": 0,
             "ticks": ""
            },
            "colorscale": [
             [
              0,
              "#0d0887"
             ],
             [
              0.1111111111111111,
              "#46039f"
             ],
             [
              0.2222222222222222,
              "#7201a8"
             ],
             [
              0.3333333333333333,
              "#9c179e"
             ],
             [
              0.4444444444444444,
              "#bd3786"
             ],
             [
              0.5555555555555556,
              "#d8576b"
             ],
             [
              0.6666666666666666,
              "#ed7953"
             ],
             [
              0.7777777777777778,
              "#fb9f3a"
             ],
             [
              0.8888888888888888,
              "#fdca26"
             ],
             [
              1,
              "#f0f921"
             ]
            ],
            "type": "surface"
           }
          ],
          "table": [
           {
            "cells": {
             "fill": {
              "color": "#EBF0F8"
             },
             "line": {
              "color": "white"
             }
            },
            "header": {
             "fill": {
              "color": "#C8D4E3"
             },
             "line": {
              "color": "white"
             }
            },
            "type": "table"
           }
          ]
         },
         "layout": {
          "annotationdefaults": {
           "arrowcolor": "#2a3f5f",
           "arrowhead": 0,
           "arrowwidth": 1
          },
          "autotypenumbers": "strict",
          "coloraxis": {
           "colorbar": {
            "outlinewidth": 0,
            "ticks": ""
           }
          },
          "colorscale": {
           "diverging": [
            [
             0,
             "#8e0152"
            ],
            [
             0.1,
             "#c51b7d"
            ],
            [
             0.2,
             "#de77ae"
            ],
            [
             0.3,
             "#f1b6da"
            ],
            [
             0.4,
             "#fde0ef"
            ],
            [
             0.5,
             "#f7f7f7"
            ],
            [
             0.6,
             "#e6f5d0"
            ],
            [
             0.7,
             "#b8e186"
            ],
            [
             0.8,
             "#7fbc41"
            ],
            [
             0.9,
             "#4d9221"
            ],
            [
             1,
             "#276419"
            ]
           ],
           "sequential": [
            [
             0,
             "#0d0887"
            ],
            [
             0.1111111111111111,
             "#46039f"
            ],
            [
             0.2222222222222222,
             "#7201a8"
            ],
            [
             0.3333333333333333,
             "#9c179e"
            ],
            [
             0.4444444444444444,
             "#bd3786"
            ],
            [
             0.5555555555555556,
             "#d8576b"
            ],
            [
             0.6666666666666666,
             "#ed7953"
            ],
            [
             0.7777777777777778,
             "#fb9f3a"
            ],
            [
             0.8888888888888888,
             "#fdca26"
            ],
            [
             1,
             "#f0f921"
            ]
           ],
           "sequentialminus": [
            [
             0,
             "#0d0887"
            ],
            [
             0.1111111111111111,
             "#46039f"
            ],
            [
             0.2222222222222222,
             "#7201a8"
            ],
            [
             0.3333333333333333,
             "#9c179e"
            ],
            [
             0.4444444444444444,
             "#bd3786"
            ],
            [
             0.5555555555555556,
             "#d8576b"
            ],
            [
             0.6666666666666666,
             "#ed7953"
            ],
            [
             0.7777777777777778,
             "#fb9f3a"
            ],
            [
             0.8888888888888888,
             "#fdca26"
            ],
            [
             1,
             "#f0f921"
            ]
           ]
          },
          "colorway": [
           "#636efa",
           "#EF553B",
           "#00cc96",
           "#ab63fa",
           "#FFA15A",
           "#19d3f3",
           "#FF6692",
           "#B6E880",
           "#FF97FF",
           "#FECB52"
          ],
          "font": {
           "color": "#2a3f5f"
          },
          "geo": {
           "bgcolor": "white",
           "lakecolor": "white",
           "landcolor": "#E5ECF6",
           "showlakes": true,
           "showland": true,
           "subunitcolor": "white"
          },
          "hoverlabel": {
           "align": "left"
          },
          "hovermode": "closest",
          "mapbox": {
           "style": "light"
          },
          "paper_bgcolor": "white",
          "plot_bgcolor": "#E5ECF6",
          "polar": {
           "angularaxis": {
            "gridcolor": "white",
            "linecolor": "white",
            "ticks": ""
           },
           "bgcolor": "#E5ECF6",
           "radialaxis": {
            "gridcolor": "white",
            "linecolor": "white",
            "ticks": ""
           }
          },
          "scene": {
           "xaxis": {
            "backgroundcolor": "#E5ECF6",
            "gridcolor": "white",
            "gridwidth": 2,
            "linecolor": "white",
            "showbackground": true,
            "ticks": "",
            "zerolinecolor": "white"
           },
           "yaxis": {
            "backgroundcolor": "#E5ECF6",
            "gridcolor": "white",
            "gridwidth": 2,
            "linecolor": "white",
            "showbackground": true,
            "ticks": "",
            "zerolinecolor": "white"
           },
           "zaxis": {
            "backgroundcolor": "#E5ECF6",
            "gridcolor": "white",
            "gridwidth": 2,
            "linecolor": "white",
            "showbackground": true,
            "ticks": "",
            "zerolinecolor": "white"
           }
          },
          "shapedefaults": {
           "line": {
            "color": "#2a3f5f"
           }
          },
          "ternary": {
           "aaxis": {
            "gridcolor": "white",
            "linecolor": "white",
            "ticks": ""
           },
           "baxis": {
            "gridcolor": "white",
            "linecolor": "white",
            "ticks": ""
           },
           "bgcolor": "#E5ECF6",
           "caxis": {
            "gridcolor": "white",
            "linecolor": "white",
            "ticks": ""
           }
          },
          "title": {
           "x": 0.05
          },
          "xaxis": {
           "automargin": true,
           "gridcolor": "white",
           "linecolor": "white",
           "ticks": "",
           "title": {
            "standoff": 15
           },
           "zerolinecolor": "white",
           "zerolinewidth": 2
          },
          "yaxis": {
           "automargin": true,
           "gridcolor": "white",
           "linecolor": "white",
           "ticks": "",
           "title": {
            "standoff": 15
           },
           "zerolinecolor": "white",
           "zerolinewidth": 2
          }
         }
        },
        "title": {
         "text": "educational_websites"
        }
       }
      }
     },
     "metadata": {}
    }
   ],
   "metadata": {}
  },
  {
   "cell_type": "code",
   "execution_count": 31,
   "source": [
    "# 将数据构成bipartite graph\n",
    "from collections import Counter\n",
    "headlines = frame_202101['trackers'].tolist()\n",
    "headlines = [headline.split(',') for headline in headlines]\n",
    "# 将websites加入到bipartitle中\n",
    "websites = frame_202101['url'].to_list()\n",
    "\n",
    "unigram_counts = Counter(websites)\n",
    "num_of_website = len(unigram_counts)\n",
    "print(\"websites number {}\".format(len(unigram_counts)))\n",
    "for ii, headline in enumerate(headlines):\n",
    "    if ii % 200 == 0:\n",
    "        print(f'finished {ii/len(headlines):.2%} of headlines')\n",
    "    for token in headline:\n",
    "        unigram_counts[token] += 1\n",
    "\n",
    "tok2indx = {tok: indx for indx, tok in enumerate(unigram_counts.keys())}\n",
    "\n",
    "indx2tok = {indx: tok for tok,indx in tok2indx.items()}\n",
    "print('done')\n",
    "\n",
    "# 组建叶子节点\n",
    "df_node = pd.DataFrame(indx2tok.items())\n",
    "df_node.columns = ['id','label']\n",
    "attribute = [\"websites\"]*len(df_node)\n",
    "attribute[num_of_website:] = [\"trackers\"]*(len(df_node) - num_of_website)\n",
    "df_node['attribute'] = attribute\n",
    "print(df_node.head())\n",
    "\n",
    "edge = []\n",
    "# 组建边节点\n",
    "for i,item in frame_202101.iterrows():\n",
    "    website = item['url']\n",
    "    trackers = item['trackers'].split(',')\n",
    "    for t in trackers:\n",
    "        edge.append((tok2indx[website],tok2indx[t]))\n",
    "df_edge = pd.DataFrame(edge,columns= ['Source','Target'])\n",
    "print(df_edge.head())\n",
    "\n",
    "# df_node.to_csv(\"bipartite_node_202101.csv\",index = None)\n",
    "# df_edge.to_csv(\"bipartite_edge_202101.csv\",index = None)\n"
   ],
   "outputs": [
    {
     "output_type": "stream",
     "name": "stdout",
     "text": [
      "websites number 29137\n",
      "finished 0.00% of headlines\n",
      "finished 0.69% of headlines\n",
      "finished 1.37% of headlines\n",
      "finished 2.06% of headlines\n",
      "finished 2.75% of headlines\n",
      "finished 3.43% of headlines\n",
      "finished 4.12% of headlines\n",
      "finished 4.80% of headlines\n",
      "finished 5.49% of headlines\n",
      "finished 6.18% of headlines\n",
      "finished 6.86% of headlines\n",
      "finished 7.55% of headlines\n",
      "finished 8.24% of headlines\n",
      "finished 8.92% of headlines\n",
      "finished 9.61% of headlines\n",
      "finished 10.30% of headlines\n",
      "finished 10.98% of headlines\n",
      "finished 11.67% of headlines\n",
      "finished 12.36% of headlines\n",
      "finished 13.04% of headlines\n",
      "finished 13.73% of headlines\n",
      "finished 14.41% of headlines\n",
      "finished 15.10% of headlines\n",
      "finished 15.79% of headlines\n",
      "finished 16.47% of headlines\n",
      "finished 17.16% of headlines\n",
      "finished 17.85% of headlines\n",
      "finished 18.53% of headlines\n",
      "finished 19.22% of headlines\n",
      "finished 19.91% of headlines\n",
      "finished 20.59% of headlines\n",
      "finished 21.28% of headlines\n",
      "finished 21.97% of headlines\n",
      "finished 22.65% of headlines\n",
      "finished 23.34% of headlines\n",
      "finished 24.02% of headlines\n",
      "finished 24.71% of headlines\n",
      "finished 25.40% of headlines\n",
      "finished 26.08% of headlines\n",
      "finished 26.77% of headlines\n",
      "finished 27.46% of headlines\n",
      "finished 28.14% of headlines\n",
      "finished 28.83% of headlines\n",
      "finished 29.52% of headlines\n",
      "finished 30.20% of headlines\n",
      "finished 30.89% of headlines\n",
      "finished 31.57% of headlines\n",
      "finished 32.26% of headlines\n",
      "finished 32.95% of headlines\n",
      "finished 33.63% of headlines\n",
      "finished 34.32% of headlines\n",
      "finished 35.01% of headlines\n",
      "finished 35.69% of headlines\n",
      "finished 36.38% of headlines\n",
      "finished 37.07% of headlines\n",
      "finished 37.75% of headlines\n",
      "finished 38.44% of headlines\n",
      "finished 39.13% of headlines\n",
      "finished 39.81% of headlines\n",
      "finished 40.50% of headlines\n",
      "finished 41.18% of headlines\n",
      "finished 41.87% of headlines\n",
      "finished 42.56% of headlines\n",
      "finished 43.24% of headlines\n",
      "finished 43.93% of headlines\n",
      "finished 44.62% of headlines\n",
      "finished 45.30% of headlines\n",
      "finished 45.99% of headlines\n",
      "finished 46.68% of headlines\n",
      "finished 47.36% of headlines\n",
      "finished 48.05% of headlines\n",
      "finished 48.74% of headlines\n",
      "finished 49.42% of headlines\n",
      "finished 50.11% of headlines\n",
      "finished 50.79% of headlines\n",
      "finished 51.48% of headlines\n",
      "finished 52.17% of headlines\n",
      "finished 52.85% of headlines\n",
      "finished 53.54% of headlines\n",
      "finished 54.23% of headlines\n",
      "finished 54.91% of headlines\n",
      "finished 55.60% of headlines\n",
      "finished 56.29% of headlines\n",
      "finished 56.97% of headlines\n",
      "finished 57.66% of headlines\n",
      "finished 58.35% of headlines\n",
      "finished 59.03% of headlines\n",
      "finished 59.72% of headlines\n",
      "finished 60.40% of headlines\n",
      "finished 61.09% of headlines\n",
      "finished 61.78% of headlines\n",
      "finished 62.46% of headlines\n",
      "finished 63.15% of headlines\n",
      "finished 63.84% of headlines\n",
      "finished 64.52% of headlines\n",
      "finished 65.21% of headlines\n",
      "finished 65.90% of headlines\n",
      "finished 66.58% of headlines\n",
      "finished 67.27% of headlines\n",
      "finished 67.95% of headlines\n",
      "finished 68.64% of headlines\n",
      "finished 69.33% of headlines\n",
      "finished 70.01% of headlines\n",
      "finished 70.70% of headlines\n",
      "finished 71.39% of headlines\n",
      "finished 72.07% of headlines\n",
      "finished 72.76% of headlines\n",
      "finished 73.45% of headlines\n",
      "finished 74.13% of headlines\n",
      "finished 74.82% of headlines\n",
      "finished 75.51% of headlines\n",
      "finished 76.19% of headlines\n",
      "finished 76.88% of headlines\n",
      "finished 77.56% of headlines\n",
      "finished 78.25% of headlines\n",
      "finished 78.94% of headlines\n",
      "finished 79.62% of headlines\n",
      "finished 80.31% of headlines\n",
      "finished 81.00% of headlines\n",
      "finished 81.68% of headlines\n",
      "finished 82.37% of headlines\n",
      "finished 83.06% of headlines\n",
      "finished 83.74% of headlines\n",
      "finished 84.43% of headlines\n",
      "finished 85.12% of headlines\n",
      "finished 85.80% of headlines\n",
      "finished 86.49% of headlines\n",
      "finished 87.17% of headlines\n",
      "finished 87.86% of headlines\n",
      "finished 88.55% of headlines\n",
      "finished 89.23% of headlines\n",
      "finished 89.92% of headlines\n",
      "finished 90.61% of headlines\n",
      "finished 91.29% of headlines\n",
      "finished 91.98% of headlines\n",
      "finished 92.67% of headlines\n",
      "finished 93.35% of headlines\n",
      "finished 94.04% of headlines\n",
      "finished 94.72% of headlines\n",
      "finished 95.41% of headlines\n",
      "finished 96.10% of headlines\n",
      "finished 96.78% of headlines\n",
      "finished 97.47% of headlines\n",
      "finished 98.16% of headlines\n",
      "finished 98.84% of headlines\n",
      "finished 99.53% of headlines\n",
      "done\n",
      "   id             label attribute\n",
      "0   0  irbbarcelona.org  websites\n",
      "1   1      dnepredu.com  websites\n",
      "2   2      uticak12.org  websites\n",
      "3   3         gadoe.org  websites\n",
      "4   4            unb.br  websites\n",
      "   Source  Target\n",
      "0       0   29137\n",
      "1       1   29138\n",
      "2       1   29139\n",
      "3       2   29140\n",
      "4       2   29141\n"
     ]
    }
   ],
   "metadata": {}
  },
  {
   "cell_type": "markdown",
   "source": [
    "## 数量分析"
   ],
   "metadata": {}
  },
  {
   "cell_type": "code",
   "execution_count": 8,
   "source": [
    "def count_trackers(row):\n",
    "    return len(row.split(','))\n",
    "\n",
    "# for frame in frame_list_edu:\n",
    "#     frame['count_trackers'] = frame['trackers'].apply(count_trackers)\n",
    "\n",
    "trackers_count_edu = [frame['trackers'].apply(count_trackers).sum() for frame in frame_list_edu]\n",
    "trackers_average_edu = [frame['trackers'].apply(count_trackers).mean() for frame in frame_list_edu]\n",
    "\n",
    "print(\"trackers_count_edu\", trackers_count_edu)\n",
    "print(\"average degree_edu\", trackers_average_edu)\n",
    "\n",
    "trackers_count_base = [frame['trackers'].apply(count_trackers).sum() for frame in frame_list_base]\n",
    "trackers_average_base = [frame['trackers'].apply(count_trackers).mean() for frame in frame_list_base]\n",
    "print(\"trackers_count_base\", trackers_count_base)\n",
    "print(\"average degree_base\", trackers_average_base)\n",
    "\n"
   ],
   "outputs": [
    {
     "output_type": "stream",
     "name": "stdout",
     "text": [
      "trackers_count_edu [25111, 25340, 25386, 25300, 25596, 24968, 24771, 25057, 24587, 24139, 24245, 23917, 24222, 23937]\n",
      "average degree_edu [2.5158801723274222, 2.538823765153792, 2.5434325217914036, 2.534816150686304, 2.564472497745717, 2.501552950606152, 2.481815449353772, 2.510469892796313, 2.4633804228033265, 2.418495140767458, 2.429115319106302, 2.3962528804728986, 2.426810940787496, 2.3982566877066427]\n",
      "trackers_count_base [16274, 16095, 15944, 15718, 15593, 15144, 14820, 14751, 14568, 14348, 14219, 14142, 14267, 14175]\n",
      "average degree_base [3.550174520069808, 3.511125654450262, 3.4781849912739964, 3.4288830715532286, 3.401614310645724, 3.303664921465969, 3.2329842931937174, 3.217931937172775, 3.1780104712041886, 3.130017452006981, 3.1018760907504364, 3.0850785340314135, 3.112347294938918, 3.092277486910995]\n"
     ]
    }
   ],
   "metadata": {}
  },
  {
   "cell_type": "code",
   "execution_count": 9,
   "source": [
    "# 用图的方式表现出来\n",
    "import matplotlib.pyplot as plt\n",
    "import numpy as np\n",
    "x = ['201407','201501','201507','201602','201607',\n",
    "'201701','201707',\"201801\",\"201807\",\"201901\",\"201907\",\"202001\",\"202007\"\n",
    ",\"202101\"]\n",
    "\n",
    "y = trackers_count\n",
    "plt.plot(x,y,label = \"trackers in edu websites\")\n",
    "plt.grid(True)\n",
    "plt.xticks(rotation=270)\n",
    "plt.legend()\n",
    "plt.xlabel(\"year\")\n",
    "plt.ylabel(\"number of trackers\")\n",
    "plt.title(\"Change of Trackers\")\n",
    "\n",
    "# fig,ax = plt.subplots(2,1)\n",
    "\n",
    "# plt.subplots_adjust(wspace=0.5)\n",
    "\n",
    "# ax[0].plot(x,y)\n",
    "# ax[0].set_title(\"Change of Trackers\")\n",
    "# ax[0].set_xlabel(\"year\")\n",
    "# ax[0].set_ylabel(\"number of trackers\")\n",
    "# ax[0].grid(True)\n",
    "\n",
    "\n",
    "\n",
    "# y2 = trackers_count_base\n",
    "\n",
    "# ax[1].plot(x,y2)\n",
    "# ax[1].set_title(\"Change of average degree\")\n",
    "# ax[1].set_xlabel(\"year\")\n",
    "# ax[1].set_ylabel(\"Average degree of websites nodes\")\n",
    "# ax[1].grid(True)\n",
    "# plt.xticks(rotation=270)\n"
   ],
   "outputs": [
    {
     "output_type": "error",
     "ename": "NameError",
     "evalue": "name 'trackers_count' is not defined",
     "traceback": [
      "\u001b[0;31m---------------------------------------------------------------------------\u001b[0m",
      "\u001b[0;31mNameError\u001b[0m                                 Traceback (most recent call last)",
      "\u001b[0;32m<ipython-input-9-874e38998486>\u001b[0m in \u001b[0;36m<module>\u001b[0;34m\u001b[0m\n\u001b[1;32m      6\u001b[0m ,\"202101\"]\n\u001b[1;32m      7\u001b[0m \u001b[0;34m\u001b[0m\u001b[0m\n\u001b[0;32m----> 8\u001b[0;31m \u001b[0my\u001b[0m \u001b[0;34m=\u001b[0m \u001b[0mtrackers_count\u001b[0m\u001b[0;34m\u001b[0m\u001b[0;34m\u001b[0m\u001b[0m\n\u001b[0m\u001b[1;32m      9\u001b[0m \u001b[0mplt\u001b[0m\u001b[0;34m.\u001b[0m\u001b[0mplot\u001b[0m\u001b[0;34m(\u001b[0m\u001b[0mx\u001b[0m\u001b[0;34m,\u001b[0m\u001b[0my\u001b[0m\u001b[0;34m,\u001b[0m\u001b[0mlabel\u001b[0m \u001b[0;34m=\u001b[0m \u001b[0;34m\"trackers in edu websites\"\u001b[0m\u001b[0;34m)\u001b[0m\u001b[0;34m\u001b[0m\u001b[0;34m\u001b[0m\u001b[0m\n\u001b[1;32m     10\u001b[0m \u001b[0mplt\u001b[0m\u001b[0;34m.\u001b[0m\u001b[0mgrid\u001b[0m\u001b[0;34m(\u001b[0m\u001b[0;32mTrue\u001b[0m\u001b[0;34m)\u001b[0m\u001b[0;34m\u001b[0m\u001b[0;34m\u001b[0m\u001b[0m\n",
      "\u001b[0;31mNameError\u001b[0m: name 'trackers_count' is not defined"
     ]
    }
   ],
   "metadata": {}
  },
  {
   "cell_type": "code",
   "execution_count": 10,
   "source": [
    "x_base = ['2014_07','2015_01','2015_07','2016_02','2016_07',\n",
    "'2017_01','2017_07',\"2018_01\",\"2018_07\",\"2019_01\",\"2019_07\",\"2020_01\",\"2020_07\"\n",
    ",\"2021_01\"]\n",
    "\n",
    "y1 = trackers_count_base\n",
    "y2 = trackers_count\n",
    "plt.plot(x_base,y1, label = \"trackers in sample websites\")\n",
    "plt.plot(x_base,y2, label = \"trackers in edu websites\")\n",
    "\n",
    "\n",
    "plt.grid(True)\n",
    "plt.xticks(rotation=270)\n",
    "plt.xlabel(\"year\")\n",
    "plt.ylabel(\"number of trackers\")\n",
    "plt.legend()\n",
    "plt.title(\"Change of Trackers\")"
   ],
   "outputs": [
    {
     "output_type": "error",
     "ename": "NameError",
     "evalue": "name 'trackers_count' is not defined",
     "traceback": [
      "\u001b[0;31m---------------------------------------------------------------------------\u001b[0m",
      "\u001b[0;31mNameError\u001b[0m                                 Traceback (most recent call last)",
      "\u001b[0;32m<ipython-input-10-b7f66da6cedb>\u001b[0m in \u001b[0;36m<module>\u001b[0;34m\u001b[0m\n\u001b[1;32m      4\u001b[0m \u001b[0;34m\u001b[0m\u001b[0m\n\u001b[1;32m      5\u001b[0m \u001b[0my1\u001b[0m \u001b[0;34m=\u001b[0m \u001b[0mtrackers_count_base\u001b[0m\u001b[0;34m\u001b[0m\u001b[0;34m\u001b[0m\u001b[0m\n\u001b[0;32m----> 6\u001b[0;31m \u001b[0my2\u001b[0m \u001b[0;34m=\u001b[0m \u001b[0mtrackers_count\u001b[0m\u001b[0;34m\u001b[0m\u001b[0;34m\u001b[0m\u001b[0m\n\u001b[0m\u001b[1;32m      7\u001b[0m \u001b[0mplt\u001b[0m\u001b[0;34m.\u001b[0m\u001b[0mplot\u001b[0m\u001b[0;34m(\u001b[0m\u001b[0mx_base\u001b[0m\u001b[0;34m,\u001b[0m\u001b[0my1\u001b[0m\u001b[0;34m,\u001b[0m \u001b[0mlabel\u001b[0m \u001b[0;34m=\u001b[0m \u001b[0;34m\"trackers in sample websites\"\u001b[0m\u001b[0;34m)\u001b[0m\u001b[0;34m\u001b[0m\u001b[0;34m\u001b[0m\u001b[0m\n\u001b[1;32m      8\u001b[0m \u001b[0mplt\u001b[0m\u001b[0;34m.\u001b[0m\u001b[0mplot\u001b[0m\u001b[0;34m(\u001b[0m\u001b[0mx_base\u001b[0m\u001b[0;34m,\u001b[0m\u001b[0my2\u001b[0m\u001b[0;34m,\u001b[0m \u001b[0mlabel\u001b[0m \u001b[0;34m=\u001b[0m \u001b[0;34m\"trackers in edu websites\"\u001b[0m\u001b[0;34m)\u001b[0m\u001b[0;34m\u001b[0m\u001b[0;34m\u001b[0m\u001b[0m\n",
      "\u001b[0;31mNameError\u001b[0m: name 'trackers_count' is not defined"
     ]
    }
   ],
   "metadata": {}
  },
  {
   "cell_type": "code",
   "execution_count": 11,
   "source": [
    "import plotly.graph_objects as go\n",
    "\n",
    "months = x_base\n",
    "\n",
    "fig = go.Figure()\n",
    "fig.add_trace(go.Bar(\n",
    "    x=months,\n",
    "    y=trackers_count_base,\n",
    "    name='trackers count of sample websites',\n",
    "    marker_color='indianred'\n",
    "))\n",
    "fig.add_trace(go.Bar(\n",
    "    x=months,\n",
    "    y=trackers_count_edu,\n",
    "    name='trackers count of educational websites',\n",
    "    marker_color='lightsalmon'\n",
    "))\n",
    "\n",
    "# Here we modify the tickangle of the xaxis, resulting in rotated labels.\n",
    "fig.update_layout(barmode='group', xaxis_tickangle=-45,title_text = \"Change of Trackers from 2014 to 2021\")\n",
    "fig.show()"
   ],
   "outputs": [
    {
     "output_type": "display_data",
     "data": {
      "application/vnd.plotly.v1+json": {
       "config": {
        "plotlyServerURL": "https://plot.ly"
       },
       "data": [
        {
         "marker": {
          "color": "indianred"
         },
         "name": "trackers count of sample websites",
         "type": "bar",
         "x": [
          "2014_07",
          "2015_01",
          "2015_07",
          "2016_02",
          "2016_07",
          "2017_01",
          "2017_07",
          "2018_01",
          "2018_07",
          "2019_01",
          "2019_07",
          "2020_01",
          "2020_07",
          "2021_01"
         ],
         "y": [
          16274,
          16095,
          15944,
          15718,
          15593,
          15144,
          14820,
          14751,
          14568,
          14348,
          14219,
          14142,
          14267,
          14175
         ]
        },
        {
         "marker": {
          "color": "lightsalmon"
         },
         "name": "trackers count of educational websites",
         "type": "bar",
         "x": [
          "2014_07",
          "2015_01",
          "2015_07",
          "2016_02",
          "2016_07",
          "2017_01",
          "2017_07",
          "2018_01",
          "2018_07",
          "2019_01",
          "2019_07",
          "2020_01",
          "2020_07",
          "2021_01"
         ],
         "y": [
          25111,
          25340,
          25386,
          25300,
          25596,
          24968,
          24771,
          25057,
          24587,
          24139,
          24245,
          23917,
          24222,
          23937
         ]
        }
       ],
       "layout": {
        "barmode": "group",
        "template": {
         "data": {
          "bar": [
           {
            "error_x": {
             "color": "#2a3f5f"
            },
            "error_y": {
             "color": "#2a3f5f"
            },
            "marker": {
             "line": {
              "color": "#E5ECF6",
              "width": 0.5
             },
             "pattern": {
              "fillmode": "overlay",
              "size": 10,
              "solidity": 0.2
             }
            },
            "type": "bar"
           }
          ],
          "barpolar": [
           {
            "marker": {
             "line": {
              "color": "#E5ECF6",
              "width": 0.5
             },
             "pattern": {
              "fillmode": "overlay",
              "size": 10,
              "solidity": 0.2
             }
            },
            "type": "barpolar"
           }
          ],
          "carpet": [
           {
            "aaxis": {
             "endlinecolor": "#2a3f5f",
             "gridcolor": "white",
             "linecolor": "white",
             "minorgridcolor": "white",
             "startlinecolor": "#2a3f5f"
            },
            "baxis": {
             "endlinecolor": "#2a3f5f",
             "gridcolor": "white",
             "linecolor": "white",
             "minorgridcolor": "white",
             "startlinecolor": "#2a3f5f"
            },
            "type": "carpet"
           }
          ],
          "choropleth": [
           {
            "colorbar": {
             "outlinewidth": 0,
             "ticks": ""
            },
            "type": "choropleth"
           }
          ],
          "contour": [
           {
            "colorbar": {
             "outlinewidth": 0,
             "ticks": ""
            },
            "colorscale": [
             [
              0,
              "#0d0887"
             ],
             [
              0.1111111111111111,
              "#46039f"
             ],
             [
              0.2222222222222222,
              "#7201a8"
             ],
             [
              0.3333333333333333,
              "#9c179e"
             ],
             [
              0.4444444444444444,
              "#bd3786"
             ],
             [
              0.5555555555555556,
              "#d8576b"
             ],
             [
              0.6666666666666666,
              "#ed7953"
             ],
             [
              0.7777777777777778,
              "#fb9f3a"
             ],
             [
              0.8888888888888888,
              "#fdca26"
             ],
             [
              1,
              "#f0f921"
             ]
            ],
            "type": "contour"
           }
          ],
          "contourcarpet": [
           {
            "colorbar": {
             "outlinewidth": 0,
             "ticks": ""
            },
            "type": "contourcarpet"
           }
          ],
          "heatmap": [
           {
            "colorbar": {
             "outlinewidth": 0,
             "ticks": ""
            },
            "colorscale": [
             [
              0,
              "#0d0887"
             ],
             [
              0.1111111111111111,
              "#46039f"
             ],
             [
              0.2222222222222222,
              "#7201a8"
             ],
             [
              0.3333333333333333,
              "#9c179e"
             ],
             [
              0.4444444444444444,
              "#bd3786"
             ],
             [
              0.5555555555555556,
              "#d8576b"
             ],
             [
              0.6666666666666666,
              "#ed7953"
             ],
             [
              0.7777777777777778,
              "#fb9f3a"
             ],
             [
              0.8888888888888888,
              "#fdca26"
             ],
             [
              1,
              "#f0f921"
             ]
            ],
            "type": "heatmap"
           }
          ],
          "heatmapgl": [
           {
            "colorbar": {
             "outlinewidth": 0,
             "ticks": ""
            },
            "colorscale": [
             [
              0,
              "#0d0887"
             ],
             [
              0.1111111111111111,
              "#46039f"
             ],
             [
              0.2222222222222222,
              "#7201a8"
             ],
             [
              0.3333333333333333,
              "#9c179e"
             ],
             [
              0.4444444444444444,
              "#bd3786"
             ],
             [
              0.5555555555555556,
              "#d8576b"
             ],
             [
              0.6666666666666666,
              "#ed7953"
             ],
             [
              0.7777777777777778,
              "#fb9f3a"
             ],
             [
              0.8888888888888888,
              "#fdca26"
             ],
             [
              1,
              "#f0f921"
             ]
            ],
            "type": "heatmapgl"
           }
          ],
          "histogram": [
           {
            "marker": {
             "pattern": {
              "fillmode": "overlay",
              "size": 10,
              "solidity": 0.2
             }
            },
            "type": "histogram"
           }
          ],
          "histogram2d": [
           {
            "colorbar": {
             "outlinewidth": 0,
             "ticks": ""
            },
            "colorscale": [
             [
              0,
              "#0d0887"
             ],
             [
              0.1111111111111111,
              "#46039f"
             ],
             [
              0.2222222222222222,
              "#7201a8"
             ],
             [
              0.3333333333333333,
              "#9c179e"
             ],
             [
              0.4444444444444444,
              "#bd3786"
             ],
             [
              0.5555555555555556,
              "#d8576b"
             ],
             [
              0.6666666666666666,
              "#ed7953"
             ],
             [
              0.7777777777777778,
              "#fb9f3a"
             ],
             [
              0.8888888888888888,
              "#fdca26"
             ],
             [
              1,
              "#f0f921"
             ]
            ],
            "type": "histogram2d"
           }
          ],
          "histogram2dcontour": [
           {
            "colorbar": {
             "outlinewidth": 0,
             "ticks": ""
            },
            "colorscale": [
             [
              0,
              "#0d0887"
             ],
             [
              0.1111111111111111,
              "#46039f"
             ],
             [
              0.2222222222222222,
              "#7201a8"
             ],
             [
              0.3333333333333333,
              "#9c179e"
             ],
             [
              0.4444444444444444,
              "#bd3786"
             ],
             [
              0.5555555555555556,
              "#d8576b"
             ],
             [
              0.6666666666666666,
              "#ed7953"
             ],
             [
              0.7777777777777778,
              "#fb9f3a"
             ],
             [
              0.8888888888888888,
              "#fdca26"
             ],
             [
              1,
              "#f0f921"
             ]
            ],
            "type": "histogram2dcontour"
           }
          ],
          "mesh3d": [
           {
            "colorbar": {
             "outlinewidth": 0,
             "ticks": ""
            },
            "type": "mesh3d"
           }
          ],
          "parcoords": [
           {
            "line": {
             "colorbar": {
              "outlinewidth": 0,
              "ticks": ""
             }
            },
            "type": "parcoords"
           }
          ],
          "pie": [
           {
            "automargin": true,
            "type": "pie"
           }
          ],
          "scatter": [
           {
            "marker": {
             "colorbar": {
              "outlinewidth": 0,
              "ticks": ""
             }
            },
            "type": "scatter"
           }
          ],
          "scatter3d": [
           {
            "line": {
             "colorbar": {
              "outlinewidth": 0,
              "ticks": ""
             }
            },
            "marker": {
             "colorbar": {
              "outlinewidth": 0,
              "ticks": ""
             }
            },
            "type": "scatter3d"
           }
          ],
          "scattercarpet": [
           {
            "marker": {
             "colorbar": {
              "outlinewidth": 0,
              "ticks": ""
             }
            },
            "type": "scattercarpet"
           }
          ],
          "scattergeo": [
           {
            "marker": {
             "colorbar": {
              "outlinewidth": 0,
              "ticks": ""
             }
            },
            "type": "scattergeo"
           }
          ],
          "scattergl": [
           {
            "marker": {
             "colorbar": {
              "outlinewidth": 0,
              "ticks": ""
             }
            },
            "type": "scattergl"
           }
          ],
          "scattermapbox": [
           {
            "marker": {
             "colorbar": {
              "outlinewidth": 0,
              "ticks": ""
             }
            },
            "type": "scattermapbox"
           }
          ],
          "scatterpolar": [
           {
            "marker": {
             "colorbar": {
              "outlinewidth": 0,
              "ticks": ""
             }
            },
            "type": "scatterpolar"
           }
          ],
          "scatterpolargl": [
           {
            "marker": {
             "colorbar": {
              "outlinewidth": 0,
              "ticks": ""
             }
            },
            "type": "scatterpolargl"
           }
          ],
          "scatterternary": [
           {
            "marker": {
             "colorbar": {
              "outlinewidth": 0,
              "ticks": ""
             }
            },
            "type": "scatterternary"
           }
          ],
          "surface": [
           {
            "colorbar": {
             "outlinewidth": 0,
             "ticks": ""
            },
            "colorscale": [
             [
              0,
              "#0d0887"
             ],
             [
              0.1111111111111111,
              "#46039f"
             ],
             [
              0.2222222222222222,
              "#7201a8"
             ],
             [
              0.3333333333333333,
              "#9c179e"
             ],
             [
              0.4444444444444444,
              "#bd3786"
             ],
             [
              0.5555555555555556,
              "#d8576b"
             ],
             [
              0.6666666666666666,
              "#ed7953"
             ],
             [
              0.7777777777777778,
              "#fb9f3a"
             ],
             [
              0.8888888888888888,
              "#fdca26"
             ],
             [
              1,
              "#f0f921"
             ]
            ],
            "type": "surface"
           }
          ],
          "table": [
           {
            "cells": {
             "fill": {
              "color": "#EBF0F8"
             },
             "line": {
              "color": "white"
             }
            },
            "header": {
             "fill": {
              "color": "#C8D4E3"
             },
             "line": {
              "color": "white"
             }
            },
            "type": "table"
           }
          ]
         },
         "layout": {
          "annotationdefaults": {
           "arrowcolor": "#2a3f5f",
           "arrowhead": 0,
           "arrowwidth": 1
          },
          "autotypenumbers": "strict",
          "coloraxis": {
           "colorbar": {
            "outlinewidth": 0,
            "ticks": ""
           }
          },
          "colorscale": {
           "diverging": [
            [
             0,
             "#8e0152"
            ],
            [
             0.1,
             "#c51b7d"
            ],
            [
             0.2,
             "#de77ae"
            ],
            [
             0.3,
             "#f1b6da"
            ],
            [
             0.4,
             "#fde0ef"
            ],
            [
             0.5,
             "#f7f7f7"
            ],
            [
             0.6,
             "#e6f5d0"
            ],
            [
             0.7,
             "#b8e186"
            ],
            [
             0.8,
             "#7fbc41"
            ],
            [
             0.9,
             "#4d9221"
            ],
            [
             1,
             "#276419"
            ]
           ],
           "sequential": [
            [
             0,
             "#0d0887"
            ],
            [
             0.1111111111111111,
             "#46039f"
            ],
            [
             0.2222222222222222,
             "#7201a8"
            ],
            [
             0.3333333333333333,
             "#9c179e"
            ],
            [
             0.4444444444444444,
             "#bd3786"
            ],
            [
             0.5555555555555556,
             "#d8576b"
            ],
            [
             0.6666666666666666,
             "#ed7953"
            ],
            [
             0.7777777777777778,
             "#fb9f3a"
            ],
            [
             0.8888888888888888,
             "#fdca26"
            ],
            [
             1,
             "#f0f921"
            ]
           ],
           "sequentialminus": [
            [
             0,
             "#0d0887"
            ],
            [
             0.1111111111111111,
             "#46039f"
            ],
            [
             0.2222222222222222,
             "#7201a8"
            ],
            [
             0.3333333333333333,
             "#9c179e"
            ],
            [
             0.4444444444444444,
             "#bd3786"
            ],
            [
             0.5555555555555556,
             "#d8576b"
            ],
            [
             0.6666666666666666,
             "#ed7953"
            ],
            [
             0.7777777777777778,
             "#fb9f3a"
            ],
            [
             0.8888888888888888,
             "#fdca26"
            ],
            [
             1,
             "#f0f921"
            ]
           ]
          },
          "colorway": [
           "#636efa",
           "#EF553B",
           "#00cc96",
           "#ab63fa",
           "#FFA15A",
           "#19d3f3",
           "#FF6692",
           "#B6E880",
           "#FF97FF",
           "#FECB52"
          ],
          "font": {
           "color": "#2a3f5f"
          },
          "geo": {
           "bgcolor": "white",
           "lakecolor": "white",
           "landcolor": "#E5ECF6",
           "showlakes": true,
           "showland": true,
           "subunitcolor": "white"
          },
          "hoverlabel": {
           "align": "left"
          },
          "hovermode": "closest",
          "mapbox": {
           "style": "light"
          },
          "paper_bgcolor": "white",
          "plot_bgcolor": "#E5ECF6",
          "polar": {
           "angularaxis": {
            "gridcolor": "white",
            "linecolor": "white",
            "ticks": ""
           },
           "bgcolor": "#E5ECF6",
           "radialaxis": {
            "gridcolor": "white",
            "linecolor": "white",
            "ticks": ""
           }
          },
          "scene": {
           "xaxis": {
            "backgroundcolor": "#E5ECF6",
            "gridcolor": "white",
            "gridwidth": 2,
            "linecolor": "white",
            "showbackground": true,
            "ticks": "",
            "zerolinecolor": "white"
           },
           "yaxis": {
            "backgroundcolor": "#E5ECF6",
            "gridcolor": "white",
            "gridwidth": 2,
            "linecolor": "white",
            "showbackground": true,
            "ticks": "",
            "zerolinecolor": "white"
           },
           "zaxis": {
            "backgroundcolor": "#E5ECF6",
            "gridcolor": "white",
            "gridwidth": 2,
            "linecolor": "white",
            "showbackground": true,
            "ticks": "",
            "zerolinecolor": "white"
           }
          },
          "shapedefaults": {
           "line": {
            "color": "#2a3f5f"
           }
          },
          "ternary": {
           "aaxis": {
            "gridcolor": "white",
            "linecolor": "white",
            "ticks": ""
           },
           "baxis": {
            "gridcolor": "white",
            "linecolor": "white",
            "ticks": ""
           },
           "bgcolor": "#E5ECF6",
           "caxis": {
            "gridcolor": "white",
            "linecolor": "white",
            "ticks": ""
           }
          },
          "title": {
           "x": 0.05
          },
          "xaxis": {
           "automargin": true,
           "gridcolor": "white",
           "linecolor": "white",
           "ticks": "",
           "title": {
            "standoff": 15
           },
           "zerolinecolor": "white",
           "zerolinewidth": 2
          },
          "yaxis": {
           "automargin": true,
           "gridcolor": "white",
           "linecolor": "white",
           "ticks": "",
           "title": {
            "standoff": 15
           },
           "zerolinecolor": "white",
           "zerolinewidth": 2
          }
         }
        },
        "title": {
         "text": "Change of Trackers from 2014 to 2021"
        },
        "xaxis": {
         "tickangle": -45
        }
       }
      }
     },
     "metadata": {}
    }
   ],
   "metadata": {}
  },
  {
   "cell_type": "markdown",
   "source": [
    "### 结论\n",
    "\n",
    "从选取的top1000网站来看，我们可以发现两点：具有tracking的网站正在逐年减少。第二点，教育网站中的tracking数量也在逐年减少，这说明教育网站的隐私问题正在被关注，因为教育网站往往会涉及到个人隐私，为了保护用户的隐私安全，第三方的tracking也在逐步减少。"
   ],
   "metadata": {}
  },
  {
   "cell_type": "markdown",
   "source": [
    "## 第三方库的标识"
   ],
   "metadata": {}
  },
  {
   "cell_type": "code",
   "execution_count": 30,
   "source": [
    "df_domain_third_party = pd.read_csv(\"labeled-thirdparties.csv\",sep = '\\t', names = ['domain','registration_org','registration_country','num_embeddings','num_embeddings_javascript','num_embeddings_iframe','num_embeddings_image','num_embeddings_link','category','company'])\n",
    "\n",
    "df_domain = pd.read_csv(\"trackers_domain.csv\")\n",
    "\n",
    "df_domain = df_domain.merge(df_domain_third_party,how = \"left\",on = \"domain\")[['domain',\"registration_country\",\"category\"]]\n",
    "print(df_domain.head())\n",
    "print(len(df_domain))"
   ],
   "outputs": [
    {
     "output_type": "stream",
     "name": "stdout",
     "text": [
      "               domain registration_country   category\n",
      "0  123contactform.com                   RO     Widget\n",
      "1             2o7.net                   US  Analytics\n",
      "2           4stats.de                    #     Beacon\n",
      "3               4u.pl                    #  Analytics\n",
      "4               51.la                   CN  Analytics\n",
      "355\n"
     ]
    }
   ],
   "metadata": {
    "tags": []
   }
  },
  {
   "cell_type": "markdown",
   "source": [
    "### 获得每一个trackres中的使用率并逆序排\n",
    "\n"
   ],
   "metadata": {}
  },
  {
   "cell_type": "code",
   "execution_count": 31,
   "source": [
    "from collections import Counter\n",
    "trackers = df_domain['domain'].to_list()\n",
    "\n",
    "\n",
    "def trackers_count(trackers,web_list):\n",
    "    trackers_count_dict = Counter()\n",
    "    try:\n",
    "        for t in trackers:\n",
    "            for e,l in enumerate(web_list):\n",
    "                if t in l:\n",
    "                    if t in trackers_count_dict:\n",
    "                        trackers_count_dict[t] += 1\n",
    "                    else:\n",
    "                        trackers_count_dict[t] = 1\n",
    "    except Exception as e:\n",
    "        print(e)\n",
    "    return trackers_count_dict\n",
    "\n",
    "def get_trackers_count(frame):\n",
    "    \"\"\"\n",
    "    获得每个frame中trackers的字典\n",
    "        :param frame: \n",
    "    \"\"\"\n",
    "    frame['trackers_list'] = frame['trackers'].str.split(',')\n",
    "\n",
    "    trackers_count_frame = trackers_count(trackers, frame['trackers_list'])\n",
    "\n",
    "    return trackers_count_frame\n",
    "\n",
    "\n",
    "trackers_count_201407 = get_trackers_count(frame_201407_edu)\n",
    "trackers_count_202101 = get_trackers_count(frame_202101_edu)\n",
    "\n",
    "\n",
    "# frame_201401['tracker_list'] = frame_201401['trackers'].str.split(',')\n",
    "# frame_2020['tracker_list'] = frame_2020['trackers'].str.split(',')\n",
    "# frame_2019['tracker_list'] = frame_2019['trackers'].str.split(',')\n",
    "# frame_2018['tracker_list'] = frame_2018['trackers'].str.split(',')\n",
    "# frame_2017['tracker_list'] = frame_2017['trackers'].str.split(',')\n",
    "\n",
    "# 所有的trackers domain\n",
    "\n",
    "# trackers = df_domain['domain'].to_list()\n",
    "\n",
    "# def trackers_count(trackers,web_list):\n",
    "#     trackers_count_dict = Counter()\n",
    "#     try:\n",
    "#         for t in trackers:\n",
    "#             for e,l in enumerate(web_list):\n",
    "#                 if t in l:\n",
    "#                     if t in trackers_count_dict:\n",
    "#                         trackers_count_dict[t] += 1\n",
    "#                     else:\n",
    "#                         trackers_count_dict[t] = 1\n",
    "#     except Exception as e:\n",
    "#         print(e)\n",
    "\n",
    "\n",
    "#     return trackers_count_dict\n",
    "\n",
    "# trackers_201401 = trackers_count(trackers, frame_201401['tracker_list'])\n",
    "# trackers_201401_most_100 = trackers_201401.most_common(100)\n",
    "# print(trackers_201401_most_100)\n",
    "\n",
    "# trackers_2020 = trackers_count(trackers, frame_2020['tracker_list'])\n",
    "# trackers_2020_most_100 = trackers_2020.most_common(100)\n",
    "\n",
    "# trackers_2019 = trackers_count(trackers, frame_2019['tracker_list'])\n",
    "# trackers_2019_most_100 = trackers_2019.most_common(100)\n",
    "\n",
    "# trackers_2018 = trackers_count(trackers, frame_2018['tracker_list'])\n",
    "# trackers_2018_most_100 = trackers_2018.most_common(100)\n",
    "\n",
    "# trackers_2017 = trackers_count(trackers, frame_2017['tracker_list'])\n",
    "# trackers_2017_most_100 = trackers_2017.most_common(100)\n",
    "\n"
   ],
   "outputs": [
    {
     "output_type": "stream",
     "name": "stderr",
     "text": [
      "/anaconda3/lib/python3.7/site-packages/ipykernel_launcher.py:24: SettingWithCopyWarning:\n",
      "\n",
      "\n",
      "A value is trying to be set on a copy of a slice from a DataFrame.\n",
      "Try using .loc[row_indexer,col_indexer] = value instead\n",
      "\n",
      "See the caveats in the documentation: http://pandas.pydata.org/pandas-docs/stable/indexing.html#indexing-view-versus-copy\n",
      "\n"
     ]
    }
   ],
   "metadata": {}
  },
  {
   "cell_type": "code",
   "execution_count": 34,
   "source": [
    "# 计算比例\n",
    "import matplotlib.pyplot as plt\n",
    "import matplotlib\n",
    "def trackers_crawl_rate(trackers, list_len):\n",
    "    # print(\"len df is:{}\".format(list_len))\n",
    "    tracker, tracker_count = zip(*trackers)\n",
    "    tracker_rate = list(map(lambda x:x[1] / list_len, trackers))\n",
    "\n",
    "    df = pd.DataFrame({\"tracker\":tracker,'tracker_rate':tracker_rate})\n",
    "    return df\n",
    "\n",
    "def trackers_rate_dict(trackers, list_len):\n",
    "    d = {key:trackers[key] / list_len for key in trackers}\n",
    "    return d\n",
    "\n",
    "# df_trackers_202101 = trackers_crawl_rate(trackers_count_202101.most_common(1000),len(frame_202101))\n",
    "# df_trackers_201401 = trackers_crawl_rate(trackers_count_201401.most_common(1000),len(frame_201401))\n",
    "# df_trackers_201407 = trackers_crawl_rate(trackers_count_201407.most_common(1000),len(frame_201407))\n",
    "\n",
    "df_trackers_frame_list_edu = []\n",
    "for frame in frame_list_edu:\n",
    "    df_trackers_count = get_trackers_count(frame)\n",
    "    df_trackers_frame = trackers_crawl_rate(df_trackers_count.most_common(1000),len(frame))\n",
    "    df_trackers_frame_list_edu.append(df_trackers_frame)\n",
    "\n",
    "df_trackers_frame_list_base = []\n",
    "for frame in frame_list_base:\n",
    "    df_trackers_count = get_trackers_count(frame)\n",
    "    df_trackers_frame = trackers_crawl_rate(df_trackers_count.most_common(1000),len(frame))\n",
    "    df_trackers_frame_list_base.append(df_trackers_frame)\n",
    "\n",
    "\n",
    "df_rate_merge_edu = df_trackers_frame_list_edu[0]\n",
    "for e,df in enumerate(df_trackers_frame_list_edu[1:]):\n",
    "    df_rate_merge_edu = df_rate_merge_edu.merge(df,how = \"outer\",on = \"tracker\")\n",
    "\n",
    "df_rate_merge_base = df_trackers_frame_list_base[0]\n",
    "for e,df in enumerate(df_trackers_frame_list_base[1:]):\n",
    "    df_rate_merge_base = df_rate_merge_base.merge(df,how = \"outer\", on = \"tracker\")\n",
    "\n",
    "df_rate_merge_edu.columns = [\"trackers\"] + x_base\n",
    "df_rate_merge_edu.to_csv(\"df_rate_merge_edu.csv\",index = None)\n",
    "print(df_rate_merge_edu.head())\n",
    "\n",
    "df_rate_merge_base.columns = ['trackers'] + x_base\n",
    "df_rate_merge_base.to_csv(\"df_rate_merge_base.csv\",index = None)\n",
    "print(df_rate_merge_base.head())\n",
    "\n",
    "# def plot_rank_bath(trackers_most_common, frame):\n",
    "#     df = trackers_crawl_rate(trackers_most_common,len(frame))\n",
    "#     df[:10].iloc[::-1].plot.barh(x = 'tracker', y = 'tracker_rate')\n",
    "\n",
    "\n",
    "# for frame in frame_list:\n",
    "#     _ , trackers_most_100 = get_trackers_count(frame)\n",
    "#     plot_rank_bath(trackers_most_100,frame)\n"
   ],
   "outputs": [
    {
     "output_type": "stream",
     "name": "stderr",
     "text": [
      "/anaconda3/lib/python3.7/site-packages/ipykernel_launcher.py:24: SettingWithCopyWarning:\n",
      "\n",
      "\n",
      "A value is trying to be set on a copy of a slice from a DataFrame.\n",
      "Try using .loc[row_indexer,col_indexer] = value instead\n",
      "\n",
      "See the caveats in the documentation: http://pandas.pydata.org/pandas-docs/stable/indexing.html#indexing-view-versus-copy\n",
      "\n"
     ]
    },
    {
     "output_type": "stream",
     "name": "stdout",
     "text": [
      "                trackers   2014_07   2015_01   2015_07   2016_02   2016_07  \\\n",
      "0   google-analytics.com  0.662158  0.633103  0.595532  0.570384  0.545537   \n",
      "1           facebook.com  0.496143  0.517984  0.541329  0.560164  0.578399   \n",
      "2            twitter.com  0.465384  0.490231  0.511472  0.527101  0.544134   \n",
      "3  googlesyndication.com  0.139465  0.141268  0.141669  0.140467  0.142871   \n",
      "4            addthis.com  0.101493  0.106202  0.102595  0.096383  0.095381   \n",
      "\n",
      "    2017_01   2017_07   2018_01   2018_07   2019_01   2019_07   2020_01  \\\n",
      "0  0.505360  0.475403  0.469191  0.438433  0.412584  0.397856  0.387236   \n",
      "1  0.584010  0.595231  0.597435  0.604348  0.613265  0.620579  0.620679   \n",
      "2  0.549244  0.554353  0.557159  0.566176  0.574191  0.583809  0.573690   \n",
      "3  0.139866  0.140267  0.150085  0.147380  0.146178  0.145577  0.146679   \n",
      "4  0.086264  0.093778  0.086765  0.081956  0.077848  0.076445  0.072838   \n",
      "\n",
      "    2020_07   2021_01  \n",
      "0  0.385432  0.371706  \n",
      "1  0.627192  0.626691  \n",
      "2  0.578098  0.576896  \n",
      "3  0.147580  0.145076  \n",
      "4  0.073440  0.064723  \n",
      "                trackers   2014_07   2015_01   2015_07   2016_02   2016_07  \\\n",
      "0           facebook.com  0.638962  0.656195  0.680410  0.686518  0.708988   \n",
      "1   google-analytics.com  0.622382  0.568281  0.527705  0.499782  0.473386   \n",
      "2            twitter.com  0.594241  0.608857  0.621073  0.629145  0.644197   \n",
      "3  googlesyndication.com  0.244764  0.252182  0.253709  0.257199  0.261998   \n",
      "4            addthis.com  0.124346  0.123909  0.116928  0.108639  0.107984   \n",
      "\n",
      "    2017_01   2017_07   2018_01   2018_07   2019_01   2019_07   2020_01  \\\n",
      "0  0.711824  0.717059  0.720113  0.727749  0.731894  0.732112  0.735166   \n",
      "1  0.444808  0.411867  0.401178  0.381763  0.361257  0.347731  0.336169   \n",
      "2  0.642016  0.633944  0.642234  0.638307  0.632199  0.630672  0.620201   \n",
      "3  0.249782  0.251745  0.256108  0.256326  0.253927  0.261344  0.261562   \n",
      "4  0.099476  0.094459  0.093150  0.087260  0.082243  0.082243  0.074825   \n",
      "\n",
      "    2020_07   2021_01  \n",
      "0  0.742583  0.738438  \n",
      "1  0.331152  0.318717  \n",
      "2  0.621510  0.616274  \n",
      "3  0.269852  0.265271  \n",
      "4  0.076789  0.073953  \n"
     ]
    }
   ],
   "metadata": {}
  },
  {
   "cell_type": "code",
   "execution_count": 35,
   "source": [
    "# 对不同国家对trackers进行进一步分析\n",
    "def extract_domain(row):\n",
    "    return row.split(\".\")[-1]\n",
    "\n",
    "df_domain.columns = ['trackers',\"registration_country\",\"category\"]\n",
    "df_rate_edu = pd.read_csv(\"df_rate_merge_edu.csv\")\n",
    "\n",
    "df_rate_base = pd.read_csv(\"df_rate_merge_base.csv\")\n",
    "\n",
    "df_rate_edu = df_rate_edu.merge(df_domain,how = \"left\",on = \"trackers\")\n",
    "\n",
    "df_rate_base = df_rate_base.merge(df_domain,how = \"left\", on = \"trackers\")\n",
    "\n",
    "print(df_rate_edu.head())\n",
    "print(df_rate_base.head())\n",
    "\n",
    "df_rate_edu.to_csv(\"edu_df_rate_country.csv\",index = None)\n",
    "df_rate_merge_base.to_csv(\"baseline_df_rate_country.csv\",index = None)\n",
    "# print(df_rate[['trackers_domain',\"trackers\"]].groupby(\"trackers_domain\").count())\n"
   ],
   "outputs": [
    {
     "output_type": "stream",
     "name": "stdout",
     "text": [
      "                trackers   2014_07   2015_01   2015_07   2016_02   2016_07  \\\n",
      "0   google-analytics.com  0.662158  0.633103  0.595532  0.570384  0.545537   \n",
      "1           facebook.com  0.496143  0.517984  0.541329  0.560164  0.578399   \n",
      "2            twitter.com  0.465384  0.490231  0.511472  0.527101  0.544134   \n",
      "3  googlesyndication.com  0.139465  0.141268  0.141669  0.140467  0.142871   \n",
      "4            addthis.com  0.101493  0.106202  0.102595  0.096383  0.095381   \n",
      "\n",
      "    2017_01   2017_07   2018_01   2018_07   2019_01   2019_07   2020_01  \\\n",
      "0  0.505360  0.475403  0.469191  0.438433  0.412584  0.397856  0.387236   \n",
      "1  0.584010  0.595231  0.597435  0.604348  0.613265  0.620579  0.620679   \n",
      "2  0.549244  0.554353  0.557159  0.566176  0.574191  0.583809  0.573690   \n",
      "3  0.139866  0.140267  0.150085  0.147380  0.146178  0.145577  0.146679   \n",
      "4  0.086264  0.093778  0.086765  0.081956  0.077848  0.076445  0.072838   \n",
      "\n",
      "    2020_07   2021_01 registration_country     category  \n",
      "0  0.385432  0.371706                   US    Analytics  \n",
      "1  0.627192  0.626691                   US  Advertising  \n",
      "2  0.578098  0.576896                   US  Advertising  \n",
      "3  0.147580  0.145076                   US  Advertising  \n",
      "4  0.073440  0.064723                   US       Widget  \n",
      "                trackers   2014_07   2015_01   2015_07   2016_02   2016_07  \\\n",
      "0           facebook.com  0.638962  0.656195  0.680410  0.686518  0.708988   \n",
      "1   google-analytics.com  0.622382  0.568281  0.527705  0.499782  0.473386   \n",
      "2            twitter.com  0.594241  0.608857  0.621073  0.629145  0.644197   \n",
      "3  googlesyndication.com  0.244764  0.252182  0.253709  0.257199  0.261998   \n",
      "4            addthis.com  0.124346  0.123909  0.116928  0.108639  0.107984   \n",
      "\n",
      "    2017_01   2017_07   2018_01   2018_07   2019_01   2019_07   2020_01  \\\n",
      "0  0.711824  0.717059  0.720113  0.727749  0.731894  0.732112  0.735166   \n",
      "1  0.444808  0.411867  0.401178  0.381763  0.361257  0.347731  0.336169   \n",
      "2  0.642016  0.633944  0.642234  0.638307  0.632199  0.630672  0.620201   \n",
      "3  0.249782  0.251745  0.256108  0.256326  0.253927  0.261344  0.261562   \n",
      "4  0.099476  0.094459  0.093150  0.087260  0.082243  0.082243  0.074825   \n",
      "\n",
      "    2020_07   2021_01 registration_country     category  \n",
      "0  0.742583  0.738438                   US  Advertising  \n",
      "1  0.331152  0.318717                   US    Analytics  \n",
      "2  0.621510  0.616274                   US  Advertising  \n",
      "3  0.269852  0.265271                   US  Advertising  \n",
      "4  0.076789  0.073953                   US       Widget  \n"
     ]
    }
   ],
   "metadata": {}
  },
  {
   "cell_type": "code",
   "execution_count": 37,
   "source": [
    "# 画trackers的图\n",
    "\n",
    "import plotly.express as px\n",
    "import plotly.graph_objects as go\n",
    "from plotly.subplots import make_subplots\n",
    "\n",
    "\n",
    "df_base = pd.read_csv(\"baseline_df_rate_country.csv\")\n",
    "\n",
    "df_edu = pd.read_csv(\"edu_df_rate_country.csv\")\n",
    "\n",
    "fig = make_subplots(\n",
    "    rows = 2,cols = 1,\n",
    "    shared_xaxes = True,\n",
    "    specs=[\n",
    "           [{\"type\": \"scatter\"}],\n",
    "           [{\"type\": \"scatter\"}]]\n",
    ")\n",
    "\n",
    "\n",
    "\n",
    "for _,row in df_base[:5].iterrows():\n",
    "    y_list = [row[i] for i in x_base]\n",
    "    fig.add_trace(\n",
    "        go.Line(x = x_base,y = y_list,name = row['trackers']),\n",
    "        row = 1,col = 1\n",
    "    )\n",
    "\n",
    "for _,row in df_edu[:5].iterrows():\n",
    "    y_list = [row[i] for i in x_base]\n",
    "    fig.add_trace(\n",
    "        go.Line(x = x_base,y = y_list,name = row['trackers']),\n",
    "        row = 2,col = 1\n",
    "    )\n",
    "fig.update_xaxes(tickangle=-45)\n",
    "fig.show()\n",
    "\n",
    "\n",
    "\n",
    "\n",
    "\n",
    "# print(df['registration_country'].unique())\n",
    "\n",
    "# countrys = [\"US\",\"RU\",\"JP\",\"CN\",\"IN\",\"DE\"]\n",
    "\n",
    "# fig,ax = plt.subplots(3,2)\n",
    "\n",
    "\n",
    "# for e,country in enumerate(countrys):\n",
    "#     df_CN = df[df['registration_country'] == country]\n",
    "#     for _, row in df_CN[:5].iterrows():\n",
    "#         y_list = [row[i] for i in x]\n",
    "#         ax[e // 2][e % 2].plot(x,y_list,label = row['trackers'])\n",
    "#         ax[e // 2][e % 2].grid()\n",
    "#         ax[e // 2][e % 2].tick_params(labelrotation=270)\n",
    "#         ax[e // 2][e % 2].set_xlabel(fontsize = 18)\n",
    "\n",
    "\n",
    "\n",
    "# for country in countrys:\n",
    "\n",
    "#     df_CN = df[df['registration_country'] == country]\n",
    "\n",
    "#     for _, row in df_CN[:5].iterrows():\n",
    "#         y_list = [row[i] for i in x]\n",
    "#         plt.plot(x,y_list,label = row['trackers'])\n",
    "#     plt.xticks(rotation=270)\n",
    "#     plt.grid(True)\n",
    "#     plt.legend()\n",
    "#     plt.show()"
   ],
   "outputs": [
    {
     "output_type": "stream",
     "name": "stderr",
     "text": [
      "/anaconda3/lib/python3.7/site-packages/plotly/graph_objs/_deprecations.py:385: DeprecationWarning:\n",
      "\n",
      "plotly.graph_objs.Line is deprecated.\n",
      "Please replace it with one of the following more specific types\n",
      "  - plotly.graph_objs.scatter.Line\n",
      "  - plotly.graph_objs.layout.shape.Line\n",
      "  - etc.\n",
      "\n",
      "\n"
     ]
    },
    {
     "output_type": "display_data",
     "data": {
      "application/vnd.plotly.v1+json": {
       "config": {
        "plotlyServerURL": "https://plot.ly"
       },
       "data": [
        {
         "name": "facebook.com",
         "type": "scatter",
         "x": [
          "2014_07",
          "2015_01",
          "2015_07",
          "2016_02",
          "2016_07",
          "2017_01",
          "2017_07",
          "2018_01",
          "2018_07",
          "2019_01",
          "2019_07",
          "2020_01",
          "2020_07",
          "2021_01"
         ],
         "xaxis": "x",
         "y": [
          0.6389616055846422,
          0.6561954624781849,
          0.6804101221640488,
          0.6865183246073299,
          0.7089877835951134,
          0.7118237347294939,
          0.7170593368237347,
          0.7201134380453752,
          0.7277486910994765,
          0.7318935427574171,
          0.7321116928446771,
          0.7351657940663177,
          0.7425828970331588,
          0.7384380453752182
         ],
         "yaxis": "y"
        },
        {
         "name": "google-analytics.com",
         "type": "scatter",
         "x": [
          "2014_07",
          "2015_01",
          "2015_07",
          "2016_02",
          "2016_07",
          "2017_01",
          "2017_07",
          "2018_01",
          "2018_07",
          "2019_01",
          "2019_07",
          "2020_01",
          "2020_07",
          "2021_01"
         ],
         "xaxis": "x",
         "y": [
          0.6223821989528796,
          0.5682809773123909,
          0.5277050610820244,
          0.49978184991274,
          0.4733856893542757,
          0.4448080279232112,
          0.4118673647469459,
          0.4011780104712042,
          0.3817626527050611,
          0.3612565445026178,
          0.34773123909249565,
          0.33616928446771377,
          0.33115183246073304,
          0.31871727748691103
         ],
         "yaxis": "y"
        },
        {
         "name": "twitter.com",
         "type": "scatter",
         "x": [
          "2014_07",
          "2015_01",
          "2015_07",
          "2016_02",
          "2016_07",
          "2017_01",
          "2017_07",
          "2018_01",
          "2018_07",
          "2019_01",
          "2019_07",
          "2020_01",
          "2020_07",
          "2021_01"
         ],
         "xaxis": "x",
         "y": [
          0.5942408376963351,
          0.6088568935427574,
          0.6210732984293194,
          0.6291448516579407,
          0.6441972076788831,
          0.6420157068062827,
          0.6339441535776614,
          0.6422338568935427,
          0.6383071553228621,
          0.6321989528795812,
          0.6306719022687609,
          0.6202006980802792,
          0.6215095986038395,
          0.6162739965095986
         ],
         "yaxis": "y"
        },
        {
         "name": "googlesyndication.com",
         "type": "scatter",
         "x": [
          "2014_07",
          "2015_01",
          "2015_07",
          "2016_02",
          "2016_07",
          "2017_01",
          "2017_07",
          "2018_01",
          "2018_07",
          "2019_01",
          "2019_07",
          "2020_01",
          "2020_07",
          "2021_01"
         ],
         "xaxis": "x",
         "y": [
          0.2447643979057592,
          0.25218150087260033,
          0.2537085514834206,
          0.2571989528795812,
          0.26199825479930194,
          0.24978184991274,
          0.25174520069808026,
          0.25610820244328103,
          0.25632635253054104,
          0.25392670157068065,
          0.2613438045375218,
          0.2615619546247818,
          0.2698516579406632,
          0.2652705061082025
         ],
         "yaxis": "y"
        },
        {
         "name": "addthis.com",
         "type": "scatter",
         "x": [
          "2014_07",
          "2015_01",
          "2015_07",
          "2016_02",
          "2016_07",
          "2017_01",
          "2017_07",
          "2018_01",
          "2018_07",
          "2019_01",
          "2019_07",
          "2020_01",
          "2020_07",
          "2021_01"
         ],
         "xaxis": "x",
         "y": [
          0.1243455497382199,
          0.12390924956369982,
          0.1169284467713787,
          0.1086387434554974,
          0.10798429319371727,
          0.09947643979057592,
          0.09445898778359513,
          0.0931500872600349,
          0.08726003490401396,
          0.08224258289703316,
          0.08224258289703316,
          0.07482547993019198,
          0.07678883071553229,
          0.07395287958115182
         ],
         "yaxis": "y"
        },
        {
         "name": "google-analytics.com",
         "type": "scatter",
         "x": [
          "2014_07",
          "2015_01",
          "2015_07",
          "2016_02",
          "2016_07",
          "2017_01",
          "2017_07",
          "2018_01",
          "2018_07",
          "2019_01",
          "2019_07",
          "2020_01",
          "2020_07",
          "2021_01"
         ],
         "xaxis": "x2",
         "y": [
          0.6621581003907424,
          0.6331028955014527,
          0.5955315098687506,
          0.5703837290852621,
          0.545536519386835,
          0.5053601843502655,
          0.475403266205791,
          0.4691914637811842,
          0.4384330227432121,
          0.41258390942791295,
          0.3978559262598938,
          0.38723574792105,
          0.3854323214106803,
          0.3717062418595331
         ],
         "yaxis": "y2"
        },
        {
         "name": "facebook.com",
         "type": "scatter",
         "x": [
          "2014_07",
          "2015_01",
          "2015_07",
          "2016_02",
          "2016_07",
          "2017_01",
          "2017_07",
          "2018_01",
          "2018_07",
          "2019_01",
          "2019_07",
          "2020_01",
          "2020_07",
          "2021_01"
         ],
         "xaxis": "x2",
         "y": [
          0.4961426710750426,
          0.5179841699228535,
          0.5413285241959723,
          0.560164312193167,
          0.5783989580202384,
          0.584009618274722,
          0.595230938783689,
          0.5974351267408076,
          0.6043482616972248,
          0.6132652038873859,
          0.6205791002905521,
          0.6206792906522393,
          0.6271916641619076,
          0.6266907123534716
         ],
         "yaxis": "y2"
        },
        {
         "name": "twitter.com",
         "type": "scatter",
         "x": [
          "2014_07",
          "2015_01",
          "2015_07",
          "2016_02",
          "2016_07",
          "2017_01",
          "2017_07",
          "2018_01",
          "2018_07",
          "2019_01",
          "2019_07",
          "2020_01",
          "2020_07",
          "2021_01"
         ],
         "xaxis": "x2",
         "y": [
          0.4653842300370704,
          0.4902314397354974,
          0.5114717964131851,
          0.5271014928363892,
          0.5441338543232142,
          0.5492435627692616,
          0.5543532712153091,
          0.5571586013425508,
          0.5661757338943993,
          0.5741909628293758,
          0.5838092375513476,
          0.5736900110209397,
          0.5780983869351768,
          0.5768961025949304
         ],
         "yaxis": "y2"
        },
        {
         "name": "googlesyndication.com",
         "type": "scatter",
         "x": [
          "2014_07",
          "2015_01",
          "2015_07",
          "2016_02",
          "2016_07",
          "2017_01",
          "2017_07",
          "2018_01",
          "2018_07",
          "2019_01",
          "2019_07",
          "2020_01",
          "2020_07",
          "2021_01"
         ],
         "xaxis": "x2",
         "y": [
          0.13946498346859032,
          0.14126840997896006,
          0.14166917142570884,
          0.14046688708546234,
          0.1428714557659553,
          0.13986574491533915,
          0.14026650636208796,
          0.15008516180743411,
          0.14738002204187958,
          0.14617773770163311,
          0.14557659553150987,
          0.14667868951006913,
          0.14758040276525394,
          0.14507564372307385
         ],
         "yaxis": "y2"
        },
        {
         "name": "addthis.com",
         "type": "scatter",
         "x": [
          "2014_07",
          "2015_01",
          "2015_07",
          "2016_02",
          "2016_07",
          "2017_01",
          "2017_07",
          "2018_01",
          "2018_07",
          "2019_01",
          "2019_07",
          "2020_01",
          "2020_07",
          "2021_01"
         ],
         "xaxis": "x2",
         "y": [
          0.10149283638913936,
          0.10620178338843804,
          0.10259493036769862,
          0.09638312794309188,
          0.09538122432621984,
          0.0862639014126841,
          0.09377817853922453,
          0.08676485322112013,
          0.08195571586013425,
          0.07784791103095882,
          0.07644524596733794,
          0.07283839294659854,
          0.07343953511672177,
          0.06472297364993487
         ],
         "yaxis": "y2"
        }
       ],
       "layout": {
        "template": {
         "data": {
          "bar": [
           {
            "error_x": {
             "color": "#2a3f5f"
            },
            "error_y": {
             "color": "#2a3f5f"
            },
            "marker": {
             "line": {
              "color": "#E5ECF6",
              "width": 0.5
             },
             "pattern": {
              "fillmode": "overlay",
              "size": 10,
              "solidity": 0.2
             }
            },
            "type": "bar"
           }
          ],
          "barpolar": [
           {
            "marker": {
             "line": {
              "color": "#E5ECF6",
              "width": 0.5
             },
             "pattern": {
              "fillmode": "overlay",
              "size": 10,
              "solidity": 0.2
             }
            },
            "type": "barpolar"
           }
          ],
          "carpet": [
           {
            "aaxis": {
             "endlinecolor": "#2a3f5f",
             "gridcolor": "white",
             "linecolor": "white",
             "minorgridcolor": "white",
             "startlinecolor": "#2a3f5f"
            },
            "baxis": {
             "endlinecolor": "#2a3f5f",
             "gridcolor": "white",
             "linecolor": "white",
             "minorgridcolor": "white",
             "startlinecolor": "#2a3f5f"
            },
            "type": "carpet"
           }
          ],
          "choropleth": [
           {
            "colorbar": {
             "outlinewidth": 0,
             "ticks": ""
            },
            "type": "choropleth"
           }
          ],
          "contour": [
           {
            "colorbar": {
             "outlinewidth": 0,
             "ticks": ""
            },
            "colorscale": [
             [
              0,
              "#0d0887"
             ],
             [
              0.1111111111111111,
              "#46039f"
             ],
             [
              0.2222222222222222,
              "#7201a8"
             ],
             [
              0.3333333333333333,
              "#9c179e"
             ],
             [
              0.4444444444444444,
              "#bd3786"
             ],
             [
              0.5555555555555556,
              "#d8576b"
             ],
             [
              0.6666666666666666,
              "#ed7953"
             ],
             [
              0.7777777777777778,
              "#fb9f3a"
             ],
             [
              0.8888888888888888,
              "#fdca26"
             ],
             [
              1,
              "#f0f921"
             ]
            ],
            "type": "contour"
           }
          ],
          "contourcarpet": [
           {
            "colorbar": {
             "outlinewidth": 0,
             "ticks": ""
            },
            "type": "contourcarpet"
           }
          ],
          "heatmap": [
           {
            "colorbar": {
             "outlinewidth": 0,
             "ticks": ""
            },
            "colorscale": [
             [
              0,
              "#0d0887"
             ],
             [
              0.1111111111111111,
              "#46039f"
             ],
             [
              0.2222222222222222,
              "#7201a8"
             ],
             [
              0.3333333333333333,
              "#9c179e"
             ],
             [
              0.4444444444444444,
              "#bd3786"
             ],
             [
              0.5555555555555556,
              "#d8576b"
             ],
             [
              0.6666666666666666,
              "#ed7953"
             ],
             [
              0.7777777777777778,
              "#fb9f3a"
             ],
             [
              0.8888888888888888,
              "#fdca26"
             ],
             [
              1,
              "#f0f921"
             ]
            ],
            "type": "heatmap"
           }
          ],
          "heatmapgl": [
           {
            "colorbar": {
             "outlinewidth": 0,
             "ticks": ""
            },
            "colorscale": [
             [
              0,
              "#0d0887"
             ],
             [
              0.1111111111111111,
              "#46039f"
             ],
             [
              0.2222222222222222,
              "#7201a8"
             ],
             [
              0.3333333333333333,
              "#9c179e"
             ],
             [
              0.4444444444444444,
              "#bd3786"
             ],
             [
              0.5555555555555556,
              "#d8576b"
             ],
             [
              0.6666666666666666,
              "#ed7953"
             ],
             [
              0.7777777777777778,
              "#fb9f3a"
             ],
             [
              0.8888888888888888,
              "#fdca26"
             ],
             [
              1,
              "#f0f921"
             ]
            ],
            "type": "heatmapgl"
           }
          ],
          "histogram": [
           {
            "marker": {
             "pattern": {
              "fillmode": "overlay",
              "size": 10,
              "solidity": 0.2
             }
            },
            "type": "histogram"
           }
          ],
          "histogram2d": [
           {
            "colorbar": {
             "outlinewidth": 0,
             "ticks": ""
            },
            "colorscale": [
             [
              0,
              "#0d0887"
             ],
             [
              0.1111111111111111,
              "#46039f"
             ],
             [
              0.2222222222222222,
              "#7201a8"
             ],
             [
              0.3333333333333333,
              "#9c179e"
             ],
             [
              0.4444444444444444,
              "#bd3786"
             ],
             [
              0.5555555555555556,
              "#d8576b"
             ],
             [
              0.6666666666666666,
              "#ed7953"
             ],
             [
              0.7777777777777778,
              "#fb9f3a"
             ],
             [
              0.8888888888888888,
              "#fdca26"
             ],
             [
              1,
              "#f0f921"
             ]
            ],
            "type": "histogram2d"
           }
          ],
          "histogram2dcontour": [
           {
            "colorbar": {
             "outlinewidth": 0,
             "ticks": ""
            },
            "colorscale": [
             [
              0,
              "#0d0887"
             ],
             [
              0.1111111111111111,
              "#46039f"
             ],
             [
              0.2222222222222222,
              "#7201a8"
             ],
             [
              0.3333333333333333,
              "#9c179e"
             ],
             [
              0.4444444444444444,
              "#bd3786"
             ],
             [
              0.5555555555555556,
              "#d8576b"
             ],
             [
              0.6666666666666666,
              "#ed7953"
             ],
             [
              0.7777777777777778,
              "#fb9f3a"
             ],
             [
              0.8888888888888888,
              "#fdca26"
             ],
             [
              1,
              "#f0f921"
             ]
            ],
            "type": "histogram2dcontour"
           }
          ],
          "mesh3d": [
           {
            "colorbar": {
             "outlinewidth": 0,
             "ticks": ""
            },
            "type": "mesh3d"
           }
          ],
          "parcoords": [
           {
            "line": {
             "colorbar": {
              "outlinewidth": 0,
              "ticks": ""
             }
            },
            "type": "parcoords"
           }
          ],
          "pie": [
           {
            "automargin": true,
            "type": "pie"
           }
          ],
          "scatter": [
           {
            "marker": {
             "colorbar": {
              "outlinewidth": 0,
              "ticks": ""
             }
            },
            "type": "scatter"
           }
          ],
          "scatter3d": [
           {
            "line": {
             "colorbar": {
              "outlinewidth": 0,
              "ticks": ""
             }
            },
            "marker": {
             "colorbar": {
              "outlinewidth": 0,
              "ticks": ""
             }
            },
            "type": "scatter3d"
           }
          ],
          "scattercarpet": [
           {
            "marker": {
             "colorbar": {
              "outlinewidth": 0,
              "ticks": ""
             }
            },
            "type": "scattercarpet"
           }
          ],
          "scattergeo": [
           {
            "marker": {
             "colorbar": {
              "outlinewidth": 0,
              "ticks": ""
             }
            },
            "type": "scattergeo"
           }
          ],
          "scattergl": [
           {
            "marker": {
             "colorbar": {
              "outlinewidth": 0,
              "ticks": ""
             }
            },
            "type": "scattergl"
           }
          ],
          "scattermapbox": [
           {
            "marker": {
             "colorbar": {
              "outlinewidth": 0,
              "ticks": ""
             }
            },
            "type": "scattermapbox"
           }
          ],
          "scatterpolar": [
           {
            "marker": {
             "colorbar": {
              "outlinewidth": 0,
              "ticks": ""
             }
            },
            "type": "scatterpolar"
           }
          ],
          "scatterpolargl": [
           {
            "marker": {
             "colorbar": {
              "outlinewidth": 0,
              "ticks": ""
             }
            },
            "type": "scatterpolargl"
           }
          ],
          "scatterternary": [
           {
            "marker": {
             "colorbar": {
              "outlinewidth": 0,
              "ticks": ""
             }
            },
            "type": "scatterternary"
           }
          ],
          "surface": [
           {
            "colorbar": {
             "outlinewidth": 0,
             "ticks": ""
            },
            "colorscale": [
             [
              0,
              "#0d0887"
             ],
             [
              0.1111111111111111,
              "#46039f"
             ],
             [
              0.2222222222222222,
              "#7201a8"
             ],
             [
              0.3333333333333333,
              "#9c179e"
             ],
             [
              0.4444444444444444,
              "#bd3786"
             ],
             [
              0.5555555555555556,
              "#d8576b"
             ],
             [
              0.6666666666666666,
              "#ed7953"
             ],
             [
              0.7777777777777778,
              "#fb9f3a"
             ],
             [
              0.8888888888888888,
              "#fdca26"
             ],
             [
              1,
              "#f0f921"
             ]
            ],
            "type": "surface"
           }
          ],
          "table": [
           {
            "cells": {
             "fill": {
              "color": "#EBF0F8"
             },
             "line": {
              "color": "white"
             }
            },
            "header": {
             "fill": {
              "color": "#C8D4E3"
             },
             "line": {
              "color": "white"
             }
            },
            "type": "table"
           }
          ]
         },
         "layout": {
          "annotationdefaults": {
           "arrowcolor": "#2a3f5f",
           "arrowhead": 0,
           "arrowwidth": 1
          },
          "autotypenumbers": "strict",
          "coloraxis": {
           "colorbar": {
            "outlinewidth": 0,
            "ticks": ""
           }
          },
          "colorscale": {
           "diverging": [
            [
             0,
             "#8e0152"
            ],
            [
             0.1,
             "#c51b7d"
            ],
            [
             0.2,
             "#de77ae"
            ],
            [
             0.3,
             "#f1b6da"
            ],
            [
             0.4,
             "#fde0ef"
            ],
            [
             0.5,
             "#f7f7f7"
            ],
            [
             0.6,
             "#e6f5d0"
            ],
            [
             0.7,
             "#b8e186"
            ],
            [
             0.8,
             "#7fbc41"
            ],
            [
             0.9,
             "#4d9221"
            ],
            [
             1,
             "#276419"
            ]
           ],
           "sequential": [
            [
             0,
             "#0d0887"
            ],
            [
             0.1111111111111111,
             "#46039f"
            ],
            [
             0.2222222222222222,
             "#7201a8"
            ],
            [
             0.3333333333333333,
             "#9c179e"
            ],
            [
             0.4444444444444444,
             "#bd3786"
            ],
            [
             0.5555555555555556,
             "#d8576b"
            ],
            [
             0.6666666666666666,
             "#ed7953"
            ],
            [
             0.7777777777777778,
             "#fb9f3a"
            ],
            [
             0.8888888888888888,
             "#fdca26"
            ],
            [
             1,
             "#f0f921"
            ]
           ],
           "sequentialminus": [
            [
             0,
             "#0d0887"
            ],
            [
             0.1111111111111111,
             "#46039f"
            ],
            [
             0.2222222222222222,
             "#7201a8"
            ],
            [
             0.3333333333333333,
             "#9c179e"
            ],
            [
             0.4444444444444444,
             "#bd3786"
            ],
            [
             0.5555555555555556,
             "#d8576b"
            ],
            [
             0.6666666666666666,
             "#ed7953"
            ],
            [
             0.7777777777777778,
             "#fb9f3a"
            ],
            [
             0.8888888888888888,
             "#fdca26"
            ],
            [
             1,
             "#f0f921"
            ]
           ]
          },
          "colorway": [
           "#636efa",
           "#EF553B",
           "#00cc96",
           "#ab63fa",
           "#FFA15A",
           "#19d3f3",
           "#FF6692",
           "#B6E880",
           "#FF97FF",
           "#FECB52"
          ],
          "font": {
           "color": "#2a3f5f"
          },
          "geo": {
           "bgcolor": "white",
           "lakecolor": "white",
           "landcolor": "#E5ECF6",
           "showlakes": true,
           "showland": true,
           "subunitcolor": "white"
          },
          "hoverlabel": {
           "align": "left"
          },
          "hovermode": "closest",
          "mapbox": {
           "style": "light"
          },
          "paper_bgcolor": "white",
          "plot_bgcolor": "#E5ECF6",
          "polar": {
           "angularaxis": {
            "gridcolor": "white",
            "linecolor": "white",
            "ticks": ""
           },
           "bgcolor": "#E5ECF6",
           "radialaxis": {
            "gridcolor": "white",
            "linecolor": "white",
            "ticks": ""
           }
          },
          "scene": {
           "xaxis": {
            "backgroundcolor": "#E5ECF6",
            "gridcolor": "white",
            "gridwidth": 2,
            "linecolor": "white",
            "showbackground": true,
            "ticks": "",
            "zerolinecolor": "white"
           },
           "yaxis": {
            "backgroundcolor": "#E5ECF6",
            "gridcolor": "white",
            "gridwidth": 2,
            "linecolor": "white",
            "showbackground": true,
            "ticks": "",
            "zerolinecolor": "white"
           },
           "zaxis": {
            "backgroundcolor": "#E5ECF6",
            "gridcolor": "white",
            "gridwidth": 2,
            "linecolor": "white",
            "showbackground": true,
            "ticks": "",
            "zerolinecolor": "white"
           }
          },
          "shapedefaults": {
           "line": {
            "color": "#2a3f5f"
           }
          },
          "ternary": {
           "aaxis": {
            "gridcolor": "white",
            "linecolor": "white",
            "ticks": ""
           },
           "baxis": {
            "gridcolor": "white",
            "linecolor": "white",
            "ticks": ""
           },
           "bgcolor": "#E5ECF6",
           "caxis": {
            "gridcolor": "white",
            "linecolor": "white",
            "ticks": ""
           }
          },
          "title": {
           "x": 0.05
          },
          "xaxis": {
           "automargin": true,
           "gridcolor": "white",
           "linecolor": "white",
           "ticks": "",
           "title": {
            "standoff": 15
           },
           "zerolinecolor": "white",
           "zerolinewidth": 2
          },
          "yaxis": {
           "automargin": true,
           "gridcolor": "white",
           "linecolor": "white",
           "ticks": "",
           "title": {
            "standoff": 15
           },
           "zerolinecolor": "white",
           "zerolinewidth": 2
          }
         }
        },
        "xaxis": {
         "anchor": "y",
         "domain": [
          0,
          1
         ],
         "matches": "x2",
         "showticklabels": false,
         "tickangle": -45
        },
        "xaxis2": {
         "anchor": "y2",
         "domain": [
          0,
          1
         ],
         "tickangle": -45
        },
        "yaxis": {
         "anchor": "x",
         "domain": [
          0.575,
          1
         ]
        },
        "yaxis2": {
         "anchor": "x2",
         "domain": [
          0,
          0.425
         ]
        }
       }
      }
     },
     "metadata": {}
    }
   ],
   "metadata": {}
  },
  {
   "cell_type": "code",
   "execution_count": 22,
   "source": [
    "# 画trackers的图\n",
    "import plotpy.express as px\n",
    "\n",
    "df = pd.read_csv(\"edu_df_rate_country.csv\")\n",
    "df.head()\n",
    "\n",
    "\n",
    "print(df['registration_country'].unique())\n",
    "\n",
    "countrys = [\"US\",\"RU\",\"JP\",\"CN\",\"IN\",\"DE\"]\n",
    "\n",
    "# fig,ax = plt.subplots(3,2)\n",
    "\n",
    "\n",
    "# for e,country in enumerate(countrys):\n",
    "#     df_CN = df[df['registration_country'] == country]\n",
    "#     for _, row in df_CN[:10].iterrows():\n",
    "#         y_list = [row[i] for i in x]\n",
    "#     ax[e // 2][e % 2].plot(x,y_list)\n",
    "#     ax[e // 2][e % 2].xticks(rotation=270)\n",
    "\n",
    "\n",
    "# for country in countrys:\n",
    "\n",
    "#     df_CN = df[df['registration_country'] == country]\n",
    "\n",
    "#     for _, row in df_CN[:5].iterrows():\n",
    "#         y_list = [row[i] for i in x]\n",
    "#         plt.plot(x,y_list,label = row['trackers'])\n",
    "#     plt.xticks(rotation=270)\n",
    "#     plt.grid(True)\n",
    "#     plt.legend()\n",
    "#     plt.show()"
   ],
   "outputs": [
    {
     "output_type": "stream",
     "name": "stdout",
     "text": [
      "['US' 'IE' 'RU' 'UK' 'SK' 'GB' 'CN' '#' 'NL' 'DE' 'FR' 'IL' 'CA' 'IN' 'SE'\n",
      " 'IT' 'FI' 'CY' 'PK' 'RO' 'PL' 'SG' 'JP' 'CH' 'TR' 'BR' 'Switzerland']\n"
     ]
    },
    {
     "output_type": "display_data",
     "data": {
      "image/png": "[encoded data removed]",
      "image/svg+xml": "<?xml version=\"1.0\" encoding=\"utf-8\" standalone=\"no\"?>\n<!DOCTYPE svg PUBLIC \"-//W3C//DTD SVG 1.1//EN\"\n  \"http://www.w3.org/Graphics/SVG/1.1/DTD/svg11.dtd\">\n<!-- Created with matplotlib (https://matplotlib.org/) -->\n<svg height=\"280.515pt\" version=\"1.1\" viewBox=\"0 0 375.603125 280.515\" width=\"375.603125pt\" xmlns=\"http://www.w3.org/2000/svg\" xmlns:xlink=\"http://www.w3.org/1999/xlink\">\n <defs>\n  <style type=\"text/css\">\n*{stroke-linecap:butt;stroke-linejoin:round;}\n  </style>\n </defs>\n <g id=\"figure_1\">\n  <g id=\"patch_1\">\n   <path d=\"M 0 280.515 \nL 375.603125 280.515 \nL 375.603125 0 \nL 0 0 \nz\n\" style=\"fill:none;\"/>\n  </g>\n  <g id=\"axes_1\">\n   <g id=\"patch_2\">\n    <path d=\"M 30.103125 228.14 \nL 364.903125 228.14 \nL 364.903125 10.7 \nL 30.103125 10.7 \nz\n\" style=\"fill:#ffffff;\"/>\n   </g>\n   <g id=\"matplotlib.axis_1\">\n    <g id=\"xtick_1\">\n     <g id=\"line2d_1\">\n      <path clip-path=\"url(#p37f8354db1)\" d=\"M 45.321307 228.14 \nL 45.321307 10.7 \n\" style=\"fill:none;stroke:#b0b0b0;stroke-linecap:square;stroke-width:0.8;\"/>\n     </g>\n     <g id=\"line2d_2\">\n      <defs>\n       <path d=\"M 0 0 \nL 0 3.5 \n\" id=\"m19356ad1e0\" style=\"stroke:#000000;stroke-width:0.8;\"/>\n      </defs>\n      <g>\n       <use style=\"stroke:#000000;stroke-width:0.8;\" x=\"45.321307\" xlink:href=\"#m19356ad1e0\" y=\"228.14\"/>\n      </g>\n     </g>\n     <g id=\"text_1\">\n      <!-- 201407 -->\n      <defs>\n       <path d=\"M 19.1875 8.296875 \nL 53.609375 8.296875 \nL 53.609375 0 \nL 7.328125 0 \nL 7.328125 8.296875 \nQ 12.9375 14.109375 22.625 23.890625 \nQ 32.328125 33.6875 34.8125 36.53125 \nQ 39.546875 41.84375 41.421875 45.53125 \nQ 43.3125 49.21875 43.3125 52.78125 \nQ 43.3125 58.59375 39.234375 62.25 \nQ 35.15625 65.921875 28.609375 65.921875 \nQ 23.96875 65.921875 18.8125 64.3125 \nQ 13.671875 62.703125 7.8125 59.421875 \nL 7.8125 69.390625 \nQ 13.765625 71.78125 18.9375 73 \nQ 24.125 74.21875 28.421875 74.21875 \nQ 39.75 74.21875 46.484375 68.546875 \nQ 53.21875 62.890625 53.21875 53.421875 \nQ 53.21875 48.921875 51.53125 44.890625 \nQ 49.859375 40.875 45.40625 35.40625 \nQ 44.1875 33.984375 37.640625 27.21875 \nQ 31.109375 20.453125 19.1875 8.296875 \nz\n\" id=\"DejaVuSans-50\"/>\n       <path d=\"M 31.78125 66.40625 \nQ 24.171875 66.40625 20.328125 58.90625 \nQ 16.5 51.421875 16.5 36.375 \nQ 16.5 21.390625 20.328125 13.890625 \nQ 24.171875 6.390625 31.78125 6.390625 \nQ 39.453125 6.390625 43.28125 13.890625 \nQ 47.125 21.390625 47.125 36.375 \nQ 47.125 51.421875 43.28125 58.90625 \nQ 39.453125 66.40625 31.78125 66.40625 \nz\nM 31.78125 74.21875 \nQ 44.046875 74.21875 50.515625 64.515625 \nQ 56.984375 54.828125 56.984375 36.375 \nQ 56.984375 17.96875 50.515625 8.265625 \nQ 44.046875 -1.421875 31.78125 -1.421875 \nQ 19.53125 -1.421875 13.0625 8.265625 \nQ 6.59375 17.96875 6.59375 36.375 \nQ 6.59375 54.828125 13.0625 64.515625 \nQ 19.53125 74.21875 31.78125 74.21875 \nz\n\" id=\"DejaVuSans-48\"/>\n       <path d=\"M 12.40625 8.296875 \nL 28.515625 8.296875 \nL 28.515625 63.921875 \nL 10.984375 60.40625 \nL 10.984375 69.390625 \nL 28.421875 72.90625 \nL 38.28125 72.90625 \nL 38.28125 8.296875 \nL 54.390625 8.296875 \nL 54.390625 0 \nL 12.40625 0 \nz\n\" id=\"DejaVuSans-49\"/>\n       <path d=\"M 37.796875 64.3125 \nL 12.890625 25.390625 \nL 37.796875 25.390625 \nz\nM 35.203125 72.90625 \nL 47.609375 72.90625 \nL 47.609375 25.390625 \nL 58.015625 25.390625 \nL 58.015625 17.1875 \nL 47.609375 17.1875 \nL 47.609375 0 \nL 37.796875 0 \nL 37.796875 17.1875 \nL 4.890625 17.1875 \nL 4.890625 26.703125 \nz\n\" id=\"DejaVuSans-52\"/>\n       <path d=\"M 8.203125 72.90625 \nL 55.078125 72.90625 \nL 55.078125 68.703125 \nL 28.609375 0 \nL 18.3125 0 \nL 43.21875 64.59375 \nL 8.203125 64.59375 \nz\n\" id=\"DejaVuSans-55\"/>\n      </defs>\n      <g transform=\"translate(42.561932 235.14)rotate(-270)scale(0.1 -0.1)\">\n       <use xlink:href=\"#DejaVuSans-50\"/>\n       <use x=\"63.623047\" xlink:href=\"#DejaVuSans-48\"/>\n       <use x=\"127.246094\" xlink:href=\"#DejaVuSans-49\"/>\n       <use x=\"190.869141\" xlink:href=\"#DejaVuSans-52\"/>\n       <use x=\"254.492188\" xlink:href=\"#DejaVuSans-48\"/>\n       <use x=\"318.115234\" xlink:href=\"#DejaVuSans-55\"/>\n      </g>\n     </g>\n    </g>\n    <g id=\"xtick_2\">\n     <g id=\"line2d_3\">\n      <path clip-path=\"url(#p37f8354db1)\" d=\"M 68.733894 228.14 \nL 68.733894 10.7 \n\" style=\"fill:none;stroke:#b0b0b0;stroke-linecap:square;stroke-width:0.8;\"/>\n     </g>\n     <g id=\"line2d_4\">\n      <g>\n       <use style=\"stroke:#000000;stroke-width:0.8;\" x=\"68.733894\" xlink:href=\"#m19356ad1e0\" y=\"228.14\"/>\n      </g>\n     </g>\n     <g id=\"text_2\">\n      <!-- 201501 -->\n      <defs>\n       <path d=\"M 10.796875 72.90625 \nL 49.515625 72.90625 \nL 49.515625 64.59375 \nL 19.828125 64.59375 \nL 19.828125 46.734375 \nQ 21.96875 47.46875 24.109375 47.828125 \nQ 26.265625 48.1875 28.421875 48.1875 \nQ 40.625 48.1875 47.75 41.5 \nQ 54.890625 34.8125 54.890625 23.390625 \nQ 54.890625 11.625 47.5625 5.09375 \nQ 40.234375 -1.421875 26.90625 -1.421875 \nQ 22.3125 -1.421875 17.546875 -0.640625 \nQ 12.796875 0.140625 7.71875 1.703125 \nL 7.71875 11.625 \nQ 12.109375 9.234375 16.796875 8.0625 \nQ 21.484375 6.890625 26.703125 6.890625 \nQ 35.15625 6.890625 40.078125 11.328125 \nQ 45.015625 15.765625 45.015625 23.390625 \nQ 45.015625 31 40.078125 35.4375 \nQ 35.15625 39.890625 26.703125 39.890625 \nQ 22.75 39.890625 18.8125 39.015625 \nQ 14.890625 38.140625 10.796875 36.28125 \nz\n\" id=\"DejaVuSans-53\"/>\n      </defs>\n      <g transform=\"translate(65.974519 235.14)rotate(-270)scale(0.1 -0.1)\">\n       <use xlink:href=\"#DejaVuSans-50\"/>\n       <use x=\"63.623047\" xlink:href=\"#DejaVuSans-48\"/>\n       <use x=\"127.246094\" xlink:href=\"#DejaVuSans-49\"/>\n       <use x=\"190.869141\" xlink:href=\"#DejaVuSans-53\"/>\n       <use x=\"254.492188\" xlink:href=\"#DejaVuSans-48\"/>\n       <use x=\"318.115234\" xlink:href=\"#DejaVuSans-49\"/>\n      </g>\n     </g>\n    </g>\n    <g id=\"xtick_3\">\n     <g id=\"line2d_5\">\n      <path clip-path=\"url(#p37f8354db1)\" d=\"M 92.146482 228.14 \nL 92.146482 10.7 \n\" style=\"fill:none;stroke:#b0b0b0;stroke-linecap:square;stroke-width:0.8;\"/>\n     </g>\n     <g id=\"line2d_6\">\n      <g>\n       <use style=\"stroke:#000000;stroke-width:0.8;\" x=\"92.146482\" xlink:href=\"#m19356ad1e0\" y=\"228.14\"/>\n      </g>\n     </g>\n     <g id=\"text_3\">\n      <!-- 201507 -->\n      <g transform=\"translate(89.387107 235.14)rotate(-270)scale(0.1 -0.1)\">\n       <use xlink:href=\"#DejaVuSans-50\"/>\n       <use x=\"63.623047\" xlink:href=\"#DejaVuSans-48\"/>\n       <use x=\"127.246094\" xlink:href=\"#DejaVuSans-49\"/>\n       <use x=\"190.869141\" xlink:href=\"#DejaVuSans-53\"/>\n       <use x=\"254.492188\" xlink:href=\"#DejaVuSans-48\"/>\n       <use x=\"318.115234\" xlink:href=\"#DejaVuSans-55\"/>\n      </g>\n     </g>\n    </g>\n    <g id=\"xtick_4\">\n     <g id=\"line2d_7\">\n      <path clip-path=\"url(#p37f8354db1)\" d=\"M 115.559069 228.14 \nL 115.559069 10.7 \n\" style=\"fill:none;stroke:#b0b0b0;stroke-linecap:square;stroke-width:0.8;\"/>\n     </g>\n     <g id=\"line2d_8\">\n      <g>\n       <use style=\"stroke:#000000;stroke-width:0.8;\" x=\"115.559069\" xlink:href=\"#m19356ad1e0\" y=\"228.14\"/>\n      </g>\n     </g>\n     <g id=\"text_4\">\n      <!-- 201602 -->\n      <defs>\n       <path d=\"M 33.015625 40.375 \nQ 26.375 40.375 22.484375 35.828125 \nQ 18.609375 31.296875 18.609375 23.390625 \nQ 18.609375 15.53125 22.484375 10.953125 \nQ 26.375 6.390625 33.015625 6.390625 \nQ 39.65625 6.390625 43.53125 10.953125 \nQ 47.40625 15.53125 47.40625 23.390625 \nQ 47.40625 31.296875 43.53125 35.828125 \nQ 39.65625 40.375 33.015625 40.375 \nz\nM 52.59375 71.296875 \nL 52.59375 62.3125 \nQ 48.875 64.0625 45.09375 64.984375 \nQ 41.3125 65.921875 37.59375 65.921875 \nQ 27.828125 65.921875 22.671875 59.328125 \nQ 17.53125 52.734375 16.796875 39.40625 \nQ 19.671875 43.65625 24.015625 45.921875 \nQ 28.375 48.1875 33.59375 48.1875 \nQ 44.578125 48.1875 50.953125 41.515625 \nQ 57.328125 34.859375 57.328125 23.390625 \nQ 57.328125 12.15625 50.6875 5.359375 \nQ 44.046875 -1.421875 33.015625 -1.421875 \nQ 20.359375 -1.421875 13.671875 8.265625 \nQ 6.984375 17.96875 6.984375 36.375 \nQ 6.984375 53.65625 15.1875 63.9375 \nQ 23.390625 74.21875 37.203125 74.21875 \nQ 40.921875 74.21875 44.703125 73.484375 \nQ 48.484375 72.75 52.59375 71.296875 \nz\n\" id=\"DejaVuSans-54\"/>\n      </defs>\n      <g transform=\"translate(112.799694 235.14)rotate(-270)scale(0.1 -0.1)\">\n       <use xlink:href=\"#DejaVuSans-50\"/>\n       <use x=\"63.623047\" xlink:href=\"#DejaVuSans-48\"/>\n       <use x=\"127.246094\" xlink:href=\"#DejaVuSans-49\"/>\n       <use x=\"190.869141\" xlink:href=\"#DejaVuSans-54\"/>\n       <use x=\"254.492188\" xlink:href=\"#DejaVuSans-48\"/>\n       <use x=\"318.115234\" xlink:href=\"#DejaVuSans-50\"/>\n      </g>\n     </g>\n    </g>\n    <g id=\"xtick_5\">\n     <g id=\"line2d_9\">\n      <path clip-path=\"url(#p37f8354db1)\" d=\"M 138.971656 228.14 \nL 138.971656 10.7 \n\" style=\"fill:none;stroke:#b0b0b0;stroke-linecap:square;stroke-width:0.8;\"/>\n     </g>\n     <g id=\"line2d_10\">\n      <g>\n       <use style=\"stroke:#000000;stroke-width:0.8;\" x=\"138.971656\" xlink:href=\"#m19356ad1e0\" y=\"228.14\"/>\n      </g>\n     </g>\n     <g id=\"text_5\">\n      <!-- 201607 -->\n      <g transform=\"translate(136.212281 235.14)rotate(-270)scale(0.1 -0.1)\">\n       <use xlink:href=\"#DejaVuSans-50\"/>\n       <use x=\"63.623047\" xlink:href=\"#DejaVuSans-48\"/>\n       <use x=\"127.246094\" xlink:href=\"#DejaVuSans-49\"/>\n       <use x=\"190.869141\" xlink:href=\"#DejaVuSans-54\"/>\n       <use x=\"254.492188\" xlink:href=\"#DejaVuSans-48\"/>\n       <use x=\"318.115234\" xlink:href=\"#DejaVuSans-55\"/>\n      </g>\n     </g>\n    </g>\n    <g id=\"xtick_6\">\n     <g id=\"line2d_11\">\n      <path clip-path=\"url(#p37f8354db1)\" d=\"M 162.384244 228.14 \nL 162.384244 10.7 \n\" style=\"fill:none;stroke:#b0b0b0;stroke-linecap:square;stroke-width:0.8;\"/>\n     </g>\n     <g id=\"line2d_12\">\n      <g>\n       <use style=\"stroke:#000000;stroke-width:0.8;\" x=\"162.384244\" xlink:href=\"#m19356ad1e0\" y=\"228.14\"/>\n      </g>\n     </g>\n     <g id=\"text_6\">\n      <!-- 201701 -->\n      <g transform=\"translate(159.624869 235.14)rotate(-270)scale(0.1 -0.1)\">\n       <use xlink:href=\"#DejaVuSans-50\"/>\n       <use x=\"63.623047\" xlink:href=\"#DejaVuSans-48\"/>\n       <use x=\"127.246094\" xlink:href=\"#DejaVuSans-49\"/>\n       <use x=\"190.869141\" xlink:href=\"#DejaVuSans-55\"/>\n       <use x=\"254.492188\" xlink:href=\"#DejaVuSans-48\"/>\n       <use x=\"318.115234\" xlink:href=\"#DejaVuSans-49\"/>\n      </g>\n     </g>\n    </g>\n    <g id=\"xtick_7\">\n     <g id=\"line2d_13\">\n      <path clip-path=\"url(#p37f8354db1)\" d=\"M 185.796831 228.14 \nL 185.796831 10.7 \n\" style=\"fill:none;stroke:#b0b0b0;stroke-linecap:square;stroke-width:0.8;\"/>\n     </g>\n     <g id=\"line2d_14\">\n      <g>\n       <use style=\"stroke:#000000;stroke-width:0.8;\" x=\"185.796831\" xlink:href=\"#m19356ad1e0\" y=\"228.14\"/>\n      </g>\n     </g>\n     <g id=\"text_7\">\n      <!-- 201707 -->\n      <g transform=\"translate(183.037456 235.14)rotate(-270)scale(0.1 -0.1)\">\n       <use xlink:href=\"#DejaVuSans-50\"/>\n       <use x=\"63.623047\" xlink:href=\"#DejaVuSans-48\"/>\n       <use x=\"127.246094\" xlink:href=\"#DejaVuSans-49\"/>\n       <use x=\"190.869141\" xlink:href=\"#DejaVuSans-55\"/>\n       <use x=\"254.492188\" xlink:href=\"#DejaVuSans-48\"/>\n       <use x=\"318.115234\" xlink:href=\"#DejaVuSans-55\"/>\n      </g>\n     </g>\n    </g>\n    <g id=\"xtick_8\">\n     <g id=\"line2d_15\">\n      <path clip-path=\"url(#p37f8354db1)\" d=\"M 209.209419 228.14 \nL 209.209419 10.7 \n\" style=\"fill:none;stroke:#b0b0b0;stroke-linecap:square;stroke-width:0.8;\"/>\n     </g>\n     <g id=\"line2d_16\">\n      <g>\n       <use style=\"stroke:#000000;stroke-width:0.8;\" x=\"209.209419\" xlink:href=\"#m19356ad1e0\" y=\"228.14\"/>\n      </g>\n     </g>\n     <g id=\"text_8\">\n      <!-- 201801 -->\n      <defs>\n       <path d=\"M 31.78125 34.625 \nQ 24.75 34.625 20.71875 30.859375 \nQ 16.703125 27.09375 16.703125 20.515625 \nQ 16.703125 13.921875 20.71875 10.15625 \nQ 24.75 6.390625 31.78125 6.390625 \nQ 38.8125 6.390625 42.859375 10.171875 \nQ 46.921875 13.96875 46.921875 20.515625 \nQ 46.921875 27.09375 42.890625 30.859375 \nQ 38.875 34.625 31.78125 34.625 \nz\nM 21.921875 38.8125 \nQ 15.578125 40.375 12.03125 44.71875 \nQ 8.5 49.078125 8.5 55.328125 \nQ 8.5 64.0625 14.71875 69.140625 \nQ 20.953125 74.21875 31.78125 74.21875 \nQ 42.671875 74.21875 48.875 69.140625 \nQ 55.078125 64.0625 55.078125 55.328125 \nQ 55.078125 49.078125 51.53125 44.71875 \nQ 48 40.375 41.703125 38.8125 \nQ 48.828125 37.15625 52.796875 32.3125 \nQ 56.78125 27.484375 56.78125 20.515625 \nQ 56.78125 9.90625 50.3125 4.234375 \nQ 43.84375 -1.421875 31.78125 -1.421875 \nQ 19.734375 -1.421875 13.25 4.234375 \nQ 6.78125 9.90625 6.78125 20.515625 \nQ 6.78125 27.484375 10.78125 32.3125 \nQ 14.796875 37.15625 21.921875 38.8125 \nz\nM 18.3125 54.390625 \nQ 18.3125 48.734375 21.84375 45.5625 \nQ 25.390625 42.390625 31.78125 42.390625 \nQ 38.140625 42.390625 41.71875 45.5625 \nQ 45.3125 48.734375 45.3125 54.390625 \nQ 45.3125 60.0625 41.71875 63.234375 \nQ 38.140625 66.40625 31.78125 66.40625 \nQ 25.390625 66.40625 21.84375 63.234375 \nQ 18.3125 60.0625 18.3125 54.390625 \nz\n\" id=\"DejaVuSans-56\"/>\n      </defs>\n      <g transform=\"translate(206.450044 235.14)rotate(-270)scale(0.1 -0.1)\">\n       <use xlink:href=\"#DejaVuSans-50\"/>\n       <use x=\"63.623047\" xlink:href=\"#DejaVuSans-48\"/>\n       <use x=\"127.246094\" xlink:href=\"#DejaVuSans-49\"/>\n       <use x=\"190.869141\" xlink:href=\"#DejaVuSans-56\"/>\n       <use x=\"254.492188\" xlink:href=\"#DejaVuSans-48\"/>\n       <use x=\"318.115234\" xlink:href=\"#DejaVuSans-49\"/>\n      </g>\n     </g>\n    </g>\n    <g id=\"xtick_9\">\n     <g id=\"line2d_17\">\n      <path clip-path=\"url(#p37f8354db1)\" d=\"M 232.622006 228.14 \nL 232.622006 10.7 \n\" style=\"fill:none;stroke:#b0b0b0;stroke-linecap:square;stroke-width:0.8;\"/>\n     </g>\n     <g id=\"line2d_18\">\n      <g>\n       <use style=\"stroke:#000000;stroke-width:0.8;\" x=\"232.622006\" xlink:href=\"#m19356ad1e0\" y=\"228.14\"/>\n      </g>\n     </g>\n     <g id=\"text_9\">\n      <!-- 201807 -->\n      <g transform=\"translate(229.862631 235.14)rotate(-270)scale(0.1 -0.1)\">\n       <use xlink:href=\"#DejaVuSans-50\"/>\n       <use x=\"63.623047\" xlink:href=\"#DejaVuSans-48\"/>\n       <use x=\"127.246094\" xlink:href=\"#DejaVuSans-49\"/>\n       <use x=\"190.869141\" xlink:href=\"#DejaVuSans-56\"/>\n       <use x=\"254.492188\" xlink:href=\"#DejaVuSans-48\"/>\n       <use x=\"318.115234\" xlink:href=\"#DejaVuSans-55\"/>\n      </g>\n     </g>\n    </g>\n    <g id=\"xtick_10\">\n     <g id=\"line2d_19\">\n      <path clip-path=\"url(#p37f8354db1)\" d=\"M 256.034594 228.14 \nL 256.034594 10.7 \n\" style=\"fill:none;stroke:#b0b0b0;stroke-linecap:square;stroke-width:0.8;\"/>\n     </g>\n     <g id=\"line2d_20\">\n      <g>\n       <use style=\"stroke:#000000;stroke-width:0.8;\" x=\"256.034594\" xlink:href=\"#m19356ad1e0\" y=\"228.14\"/>\n      </g>\n     </g>\n     <g id=\"text_10\">\n      <!-- 201901 -->\n      <defs>\n       <path d=\"M 10.984375 1.515625 \nL 10.984375 10.5 \nQ 14.703125 8.734375 18.5 7.8125 \nQ 22.3125 6.890625 25.984375 6.890625 \nQ 35.75 6.890625 40.890625 13.453125 \nQ 46.046875 20.015625 46.78125 33.40625 \nQ 43.953125 29.203125 39.59375 26.953125 \nQ 35.25 24.703125 29.984375 24.703125 \nQ 19.046875 24.703125 12.671875 31.3125 \nQ 6.296875 37.9375 6.296875 49.421875 \nQ 6.296875 60.640625 12.9375 67.421875 \nQ 19.578125 74.21875 30.609375 74.21875 \nQ 43.265625 74.21875 49.921875 64.515625 \nQ 56.59375 54.828125 56.59375 36.375 \nQ 56.59375 19.140625 48.40625 8.859375 \nQ 40.234375 -1.421875 26.421875 -1.421875 \nQ 22.703125 -1.421875 18.890625 -0.6875 \nQ 15.09375 0.046875 10.984375 1.515625 \nz\nM 30.609375 32.421875 \nQ 37.25 32.421875 41.125 36.953125 \nQ 45.015625 41.5 45.015625 49.421875 \nQ 45.015625 57.28125 41.125 61.84375 \nQ 37.25 66.40625 30.609375 66.40625 \nQ 23.96875 66.40625 20.09375 61.84375 \nQ 16.21875 57.28125 16.21875 49.421875 \nQ 16.21875 41.5 20.09375 36.953125 \nQ 23.96875 32.421875 30.609375 32.421875 \nz\n\" id=\"DejaVuSans-57\"/>\n      </defs>\n      <g transform=\"translate(253.275219 235.14)rotate(-270)scale(0.1 -0.1)\">\n       <use xlink:href=\"#DejaVuSans-50\"/>\n       <use x=\"63.623047\" xlink:href=\"#DejaVuSans-48\"/>\n       <use x=\"127.246094\" xlink:href=\"#DejaVuSans-49\"/>\n       <use x=\"190.869141\" xlink:href=\"#DejaVuSans-57\"/>\n       <use x=\"254.492188\" xlink:href=\"#DejaVuSans-48\"/>\n       <use x=\"318.115234\" xlink:href=\"#DejaVuSans-49\"/>\n      </g>\n     </g>\n    </g>\n    <g id=\"xtick_11\">\n     <g id=\"line2d_21\">\n      <path clip-path=\"url(#p37f8354db1)\" d=\"M 279.447181 228.14 \nL 279.447181 10.7 \n\" style=\"fill:none;stroke:#b0b0b0;stroke-linecap:square;stroke-width:0.8;\"/>\n     </g>\n     <g id=\"line2d_22\">\n      <g>\n       <use style=\"stroke:#000000;stroke-width:0.8;\" x=\"279.447181\" xlink:href=\"#m19356ad1e0\" y=\"228.14\"/>\n      </g>\n     </g>\n     <g id=\"text_11\">\n      <!-- 201907 -->\n      <g transform=\"translate(276.687806 235.14)rotate(-270)scale(0.1 -0.1)\">\n       <use xlink:href=\"#DejaVuSans-50\"/>\n       <use x=\"63.623047\" xlink:href=\"#DejaVuSans-48\"/>\n       <use x=\"127.246094\" xlink:href=\"#DejaVuSans-49\"/>\n       <use x=\"190.869141\" xlink:href=\"#DejaVuSans-57\"/>\n       <use x=\"254.492188\" xlink:href=\"#DejaVuSans-48\"/>\n       <use x=\"318.115234\" xlink:href=\"#DejaVuSans-55\"/>\n      </g>\n     </g>\n    </g>\n    <g id=\"xtick_12\">\n     <g id=\"line2d_23\">\n      <path clip-path=\"url(#p37f8354db1)\" d=\"M 302.859768 228.14 \nL 302.859768 10.7 \n\" style=\"fill:none;stroke:#b0b0b0;stroke-linecap:square;stroke-width:0.8;\"/>\n     </g>\n     <g id=\"line2d_24\">\n      <g>\n       <use style=\"stroke:#000000;stroke-width:0.8;\" x=\"302.859768\" xlink:href=\"#m19356ad1e0\" y=\"228.14\"/>\n      </g>\n     </g>\n     <g id=\"text_12\">\n      <!-- 202001 -->\n      <g transform=\"translate(300.100393 235.14)rotate(-270)scale(0.1 -0.1)\">\n       <use xlink:href=\"#DejaVuSans-50\"/>\n       <use x=\"63.623047\" xlink:href=\"#DejaVuSans-48\"/>\n       <use x=\"127.246094\" xlink:href=\"#DejaVuSans-50\"/>\n       <use x=\"190.869141\" xlink:href=\"#DejaVuSans-48\"/>\n       <use x=\"254.492188\" xlink:href=\"#DejaVuSans-48\"/>\n       <use x=\"318.115234\" xlink:href=\"#DejaVuSans-49\"/>\n      </g>\n     </g>\n    </g>\n    <g id=\"xtick_13\">\n     <g id=\"line2d_25\">\n      <path clip-path=\"url(#p37f8354db1)\" d=\"M 326.272356 228.14 \nL 326.272356 10.7 \n\" style=\"fill:none;stroke:#b0b0b0;stroke-linecap:square;stroke-width:0.8;\"/>\n     </g>\n     <g id=\"line2d_26\">\n      <g>\n       <use style=\"stroke:#000000;stroke-width:0.8;\" x=\"326.272356\" xlink:href=\"#m19356ad1e0\" y=\"228.14\"/>\n      </g>\n     </g>\n     <g id=\"text_13\">\n      <!-- 202007 -->\n      <g transform=\"translate(323.512981 235.14)rotate(-270)scale(0.1 -0.1)\">\n       <use xlink:href=\"#DejaVuSans-50\"/>\n       <use x=\"63.623047\" xlink:href=\"#DejaVuSans-48\"/>\n       <use x=\"127.246094\" xlink:href=\"#DejaVuSans-50\"/>\n       <use x=\"190.869141\" xlink:href=\"#DejaVuSans-48\"/>\n       <use x=\"254.492188\" xlink:href=\"#DejaVuSans-48\"/>\n       <use x=\"318.115234\" xlink:href=\"#DejaVuSans-55\"/>\n      </g>\n     </g>\n    </g>\n    <g id=\"xtick_14\">\n     <g id=\"line2d_27\">\n      <path clip-path=\"url(#p37f8354db1)\" d=\"M 349.684943 228.14 \nL 349.684943 10.7 \n\" style=\"fill:none;stroke:#b0b0b0;stroke-linecap:square;stroke-width:0.8;\"/>\n     </g>\n     <g id=\"line2d_28\">\n      <g>\n       <use style=\"stroke:#000000;stroke-width:0.8;\" x=\"349.684943\" xlink:href=\"#m19356ad1e0\" y=\"228.14\"/>\n      </g>\n     </g>\n     <g id=\"text_14\">\n      <!-- 202101 -->\n      <g transform=\"translate(346.925568 235.14)rotate(-270)scale(0.1 -0.1)\">\n       <use xlink:href=\"#DejaVuSans-50\"/>\n       <use x=\"63.623047\" xlink:href=\"#DejaVuSans-48\"/>\n       <use x=\"127.246094\" xlink:href=\"#DejaVuSans-50\"/>\n       <use x=\"190.869141\" xlink:href=\"#DejaVuSans-49\"/>\n       <use x=\"254.492188\" xlink:href=\"#DejaVuSans-48\"/>\n       <use x=\"318.115234\" xlink:href=\"#DejaVuSans-49\"/>\n      </g>\n     </g>\n    </g>\n   </g>\n   <g id=\"matplotlib.axis_2\">\n    <g id=\"ytick_1\">\n     <g id=\"line2d_29\">\n      <path clip-path=\"url(#p37f8354db1)\" d=\"M 30.103125 201.857661 \nL 364.903125 201.857661 \n\" style=\"fill:none;stroke:#b0b0b0;stroke-linecap:square;stroke-width:0.8;\"/>\n     </g>\n     <g id=\"line2d_30\">\n      <defs>\n       <path d=\"M 0 0 \nL -3.5 0 \n\" id=\"m7a5d7a4c3f\" style=\"stroke:#000000;stroke-width:0.8;\"/>\n      </defs>\n      <g>\n       <use style=\"stroke:#000000;stroke-width:0.8;\" x=\"30.103125\" xlink:href=\"#m7a5d7a4c3f\" y=\"201.857661\"/>\n      </g>\n     </g>\n     <g id=\"text_15\">\n      <!-- 0.1 -->\n      <defs>\n       <path d=\"M 10.6875 12.40625 \nL 21 12.40625 \nL 21 0 \nL 10.6875 0 \nz\n\" id=\"DejaVuSans-46\"/>\n      </defs>\n      <g transform=\"translate(7.2 205.65688)scale(0.1 -0.1)\">\n       <use xlink:href=\"#DejaVuSans-48\"/>\n       <use x=\"63.623047\" xlink:href=\"#DejaVuSans-46\"/>\n       <use x=\"95.410156\" xlink:href=\"#DejaVuSans-49\"/>\n      </g>\n     </g>\n    </g>\n    <g id=\"ytick_2\">\n     <g id=\"line2d_31\">\n      <path clip-path=\"url(#p37f8354db1)\" d=\"M 30.103125 168.296587 \nL 364.903125 168.296587 \n\" style=\"fill:none;stroke:#b0b0b0;stroke-linecap:square;stroke-width:0.8;\"/>\n     </g>\n     <g id=\"line2d_32\">\n      <g>\n       <use style=\"stroke:#000000;stroke-width:0.8;\" x=\"30.103125\" xlink:href=\"#m7a5d7a4c3f\" y=\"168.296587\"/>\n      </g>\n     </g>\n     <g id=\"text_16\">\n      <!-- 0.2 -->\n      <g transform=\"translate(7.2 172.095806)scale(0.1 -0.1)\">\n       <use xlink:href=\"#DejaVuSans-48\"/>\n       <use x=\"63.623047\" xlink:href=\"#DejaVuSans-46\"/>\n       <use x=\"95.410156\" xlink:href=\"#DejaVuSans-50\"/>\n      </g>\n     </g>\n    </g>\n    <g id=\"ytick_3\">\n     <g id=\"line2d_33\">\n      <path clip-path=\"url(#p37f8354db1)\" d=\"M 30.103125 134.735514 \nL 364.903125 134.735514 \n\" style=\"fill:none;stroke:#b0b0b0;stroke-linecap:square;stroke-width:0.8;\"/>\n     </g>\n     <g id=\"line2d_34\">\n      <g>\n       <use style=\"stroke:#000000;stroke-width:0.8;\" x=\"30.103125\" xlink:href=\"#m7a5d7a4c3f\" y=\"134.735514\"/>\n      </g>\n     </g>\n     <g id=\"text_17\">\n      <!-- 0.3 -->\n      <defs>\n       <path d=\"M 40.578125 39.3125 \nQ 47.65625 37.796875 51.625 33 \nQ 55.609375 28.21875 55.609375 21.1875 \nQ 55.609375 10.40625 48.1875 4.484375 \nQ 40.765625 -1.421875 27.09375 -1.421875 \nQ 22.515625 -1.421875 17.65625 -0.515625 \nQ 12.796875 0.390625 7.625 2.203125 \nL 7.625 11.71875 \nQ 11.71875 9.328125 16.59375 8.109375 \nQ 21.484375 6.890625 26.8125 6.890625 \nQ 36.078125 6.890625 40.9375 10.546875 \nQ 45.796875 14.203125 45.796875 21.1875 \nQ 45.796875 27.640625 41.28125 31.265625 \nQ 36.765625 34.90625 28.71875 34.90625 \nL 20.21875 34.90625 \nL 20.21875 43.015625 \nL 29.109375 43.015625 \nQ 36.375 43.015625 40.234375 45.921875 \nQ 44.09375 48.828125 44.09375 54.296875 \nQ 44.09375 59.90625 40.109375 62.90625 \nQ 36.140625 65.921875 28.71875 65.921875 \nQ 24.65625 65.921875 20.015625 65.03125 \nQ 15.375 64.15625 9.8125 62.3125 \nL 9.8125 71.09375 \nQ 15.4375 72.65625 20.34375 73.4375 \nQ 25.25 74.21875 29.59375 74.21875 \nQ 40.828125 74.21875 47.359375 69.109375 \nQ 53.90625 64.015625 53.90625 55.328125 \nQ 53.90625 49.265625 50.4375 45.09375 \nQ 46.96875 40.921875 40.578125 39.3125 \nz\n\" id=\"DejaVuSans-51\"/>\n      </defs>\n      <g transform=\"translate(7.2 138.534733)scale(0.1 -0.1)\">\n       <use xlink:href=\"#DejaVuSans-48\"/>\n       <use x=\"63.623047\" xlink:href=\"#DejaVuSans-46\"/>\n       <use x=\"95.410156\" xlink:href=\"#DejaVuSans-51\"/>\n      </g>\n     </g>\n    </g>\n    <g id=\"ytick_4\">\n     <g id=\"line2d_35\">\n      <path clip-path=\"url(#p37f8354db1)\" d=\"M 30.103125 101.174441 \nL 364.903125 101.174441 \n\" style=\"fill:none;stroke:#b0b0b0;stroke-linecap:square;stroke-width:0.8;\"/>\n     </g>\n     <g id=\"line2d_36\">\n      <g>\n       <use style=\"stroke:#000000;stroke-width:0.8;\" x=\"30.103125\" xlink:href=\"#m7a5d7a4c3f\" y=\"101.174441\"/>\n      </g>\n     </g>\n     <g id=\"text_18\">\n      <!-- 0.4 -->\n      <g transform=\"translate(7.2 104.973659)scale(0.1 -0.1)\">\n       <use xlink:href=\"#DejaVuSans-48\"/>\n       <use x=\"63.623047\" xlink:href=\"#DejaVuSans-46\"/>\n       <use x=\"95.410156\" xlink:href=\"#DejaVuSans-52\"/>\n      </g>\n     </g>\n    </g>\n    <g id=\"ytick_5\">\n     <g id=\"line2d_37\">\n      <path clip-path=\"url(#p37f8354db1)\" d=\"M 30.103125 67.613367 \nL 364.903125 67.613367 \n\" style=\"fill:none;stroke:#b0b0b0;stroke-linecap:square;stroke-width:0.8;\"/>\n     </g>\n     <g id=\"line2d_38\">\n      <g>\n       <use style=\"stroke:#000000;stroke-width:0.8;\" x=\"30.103125\" xlink:href=\"#m7a5d7a4c3f\" y=\"67.613367\"/>\n      </g>\n     </g>\n     <g id=\"text_19\">\n      <!-- 0.5 -->\n      <g transform=\"translate(7.2 71.412586)scale(0.1 -0.1)\">\n       <use xlink:href=\"#DejaVuSans-48\"/>\n       <use x=\"63.623047\" xlink:href=\"#DejaVuSans-46\"/>\n       <use x=\"95.410156\" xlink:href=\"#DejaVuSans-53\"/>\n      </g>\n     </g>\n    </g>\n    <g id=\"ytick_6\">\n     <g id=\"line2d_39\">\n      <path clip-path=\"url(#p37f8354db1)\" d=\"M 30.103125 34.052294 \nL 364.903125 34.052294 \n\" style=\"fill:none;stroke:#b0b0b0;stroke-linecap:square;stroke-width:0.8;\"/>\n     </g>\n     <g id=\"line2d_40\">\n      <g>\n       <use style=\"stroke:#000000;stroke-width:0.8;\" x=\"30.103125\" xlink:href=\"#m7a5d7a4c3f\" y=\"34.052294\"/>\n      </g>\n     </g>\n     <g id=\"text_20\">\n      <!-- 0.6 -->\n      <g transform=\"translate(7.2 37.851513)scale(0.1 -0.1)\">\n       <use xlink:href=\"#DejaVuSans-48\"/>\n       <use x=\"63.623047\" xlink:href=\"#DejaVuSans-46\"/>\n       <use x=\"95.410156\" xlink:href=\"#DejaVuSans-54\"/>\n      </g>\n     </g>\n    </g>\n   </g>\n   <g id=\"line2d_41\">\n    <path clip-path=\"url(#p37f8354db1)\" d=\"M 45.321307 20.583636 \nL 68.733894 30.734481 \nL 92.146482 44.423869 \nL 115.559069 54.424896 \nL 138.971656 66.884796 \nL 162.384244 84.607641 \nL 185.796831 94.623385 \nL 209.209419 100.687806 \nL 232.622006 110.077809 \nL 256.034594 120.478455 \nL 279.447181 123.7324 \nL 302.859768 124.918634 \nL 326.272356 124.569553 \nL 349.684943 128.908371 \n\" style=\"fill:none;stroke:#1f77b4;stroke-linecap:square;stroke-width:1.5;\"/>\n   </g>\n   <g id=\"line2d_42\">\n    <path clip-path=\"url(#p37f8354db1)\" d=\"M 45.321307 84.071905 \nL 68.733894 77.80747 \nL 92.146482 69.24083 \nL 115.559069 62.870787 \nL 138.971656 55.321231 \nL 162.384244 51.284328 \nL 185.796831 46.543362 \nL 209.209419 43.925724 \nL 232.622006 38.746797 \nL 256.034594 36.279854 \nL 279.447181 33.676215 \nL 302.859768 34.029894 \nL 326.272356 32.899093 \nL 349.684943 32.891242 \n\" style=\"fill:none;stroke:#ff7f0e;stroke-linecap:square;stroke-width:1.5;\"/>\n   </g>\n   <g id=\"line2d_43\">\n    <path clip-path=\"url(#p37f8354db1)\" d=\"M 45.321307 95.801322 \nL 68.733894 87.994004 \nL 92.146482 78.873051 \nL 115.559069 73.117102 \nL 138.971656 67.098688 \nL 162.384244 64.354951 \nL 185.796831 58.569454 \nL 209.209419 58.238499 \nL 232.622006 52.888121 \nL 256.034594 51.374502 \nL 279.447181 47.537076 \nL 302.859768 50.78523 \nL 326.272356 49.600235 \nL 349.684943 50.399164 \n\" style=\"fill:none;stroke:#2ca02c;stroke-linecap:square;stroke-width:1.5;\"/>\n   </g>\n   <g id=\"line2d_44\">\n    <path clip-path=\"url(#p37f8354db1)\" d=\"M 45.321307 190.189506 \nL 68.733894 189.132818 \nL 92.146482 190.497826 \nL 115.559069 190.964364 \nL 138.971656 192.573389 \nL 162.384244 190.318309 \nL 185.796831 190.357406 \nL 209.209419 186.039658 \nL 232.622006 187.097726 \nL 256.034594 186.448494 \nL 279.447181 186.415919 \nL 302.859768 184.189517 \nL 326.272356 183.8175 \nL 349.684943 185.002831 \n\" style=\"fill:none;stroke:#d62728;stroke-linecap:square;stroke-width:1.5;\"/>\n   </g>\n   <g id=\"line2d_45\">\n    <path clip-path=\"url(#p37f8354db1)\" d=\"M 45.321307 204.847541 \nL 68.733894 205.086172 \nL 92.146482 205.977129 \nL 115.559069 207.446294 \nL 138.971656 208.976271 \nL 162.384244 211.815234 \nL 185.796831 210.697082 \nL 209.209419 211.993491 \nL 232.622006 213.888771 \nL 256.034594 214.777733 \nL 279.447181 215.398742 \nL 302.859768 216.344979 \nL 326.272356 216.240013 \nL 349.684943 218.256364 \n\" style=\"fill:none;stroke:#9467bd;stroke-linecap:square;stroke-width:1.5;\"/>\n   </g>\n   <g id=\"patch_3\">\n    <path d=\"M 30.103125 228.14 \nL 30.103125 10.7 \n\" style=\"fill:none;stroke:#000000;stroke-linecap:square;stroke-linejoin:miter;stroke-width:0.8;\"/>\n   </g>\n   <g id=\"patch_4\">\n    <path d=\"M 364.903125 228.14 \nL 364.903125 10.7 \n\" style=\"fill:none;stroke:#000000;stroke-linecap:square;stroke-linejoin:miter;stroke-width:0.8;\"/>\n   </g>\n   <g id=\"patch_5\">\n    <path d=\"M 30.103125 228.14 \nL 364.903125 228.14 \n\" style=\"fill:none;stroke:#000000;stroke-linecap:square;stroke-linejoin:miter;stroke-width:0.8;\"/>\n   </g>\n   <g id=\"patch_6\">\n    <path d=\"M 30.103125 10.7 \nL 364.903125 10.7 \n\" style=\"fill:none;stroke:#000000;stroke-linecap:square;stroke-linejoin:miter;stroke-width:0.8;\"/>\n   </g>\n   <g id=\"legend_1\">\n    <g id=\"patch_7\">\n     <path d=\"M 123.615625 157.615313 \nL 271.390625 157.615313 \nQ 273.390625 157.615313 273.390625 155.615313 \nL 273.390625 83.224688 \nQ 273.390625 81.224688 271.390625 81.224688 \nL 123.615625 81.224688 \nQ 121.615625 81.224688 121.615625 83.224688 \nL 121.615625 155.615313 \nQ 121.615625 157.615313 123.615625 157.615313 \nz\n\" style=\"fill:#ffffff;opacity:0.8;stroke:#cccccc;stroke-linejoin:miter;\"/>\n    </g>\n    <g id=\"line2d_46\">\n     <path d=\"M 125.615625 89.323125 \nL 145.615625 89.323125 \n\" style=\"fill:none;stroke:#1f77b4;stroke-linecap:square;stroke-width:1.5;\"/>\n    </g>\n    <g id=\"line2d_47\"/>\n    <g id=\"text_21\">\n     <!-- google-analytics.com -->\n     <defs>\n      <path d=\"M 45.40625 27.984375 \nQ 45.40625 37.75 41.375 43.109375 \nQ 37.359375 48.484375 30.078125 48.484375 \nQ 22.859375 48.484375 18.828125 43.109375 \nQ 14.796875 37.75 14.796875 27.984375 \nQ 14.796875 18.265625 18.828125 12.890625 \nQ 22.859375 7.515625 30.078125 7.515625 \nQ 37.359375 7.515625 41.375 12.890625 \nQ 45.40625 18.265625 45.40625 27.984375 \nz\nM 54.390625 6.78125 \nQ 54.390625 -7.171875 48.1875 -13.984375 \nQ 42 -20.796875 29.203125 -20.796875 \nQ 24.46875 -20.796875 20.265625 -20.09375 \nQ 16.0625 -19.390625 12.109375 -17.921875 \nL 12.109375 -9.1875 \nQ 16.0625 -11.328125 19.921875 -12.34375 \nQ 23.78125 -13.375 27.78125 -13.375 \nQ 36.625 -13.375 41.015625 -8.765625 \nQ 45.40625 -4.15625 45.40625 5.171875 \nL 45.40625 9.625 \nQ 42.625 4.78125 38.28125 2.390625 \nQ 33.9375 0 27.875 0 \nQ 17.828125 0 11.671875 7.65625 \nQ 5.515625 15.328125 5.515625 27.984375 \nQ 5.515625 40.671875 11.671875 48.328125 \nQ 17.828125 56 27.875 56 \nQ 33.9375 56 38.28125 53.609375 \nQ 42.625 51.21875 45.40625 46.390625 \nL 45.40625 54.6875 \nL 54.390625 54.6875 \nz\n\" id=\"DejaVuSans-103\"/>\n      <path d=\"M 30.609375 48.390625 \nQ 23.390625 48.390625 19.1875 42.75 \nQ 14.984375 37.109375 14.984375 27.296875 \nQ 14.984375 17.484375 19.15625 11.84375 \nQ 23.34375 6.203125 30.609375 6.203125 \nQ 37.796875 6.203125 41.984375 11.859375 \nQ 46.1875 17.53125 46.1875 27.296875 \nQ 46.1875 37.015625 41.984375 42.703125 \nQ 37.796875 48.390625 30.609375 48.390625 \nz\nM 30.609375 56 \nQ 42.328125 56 49.015625 48.375 \nQ 55.71875 40.765625 55.71875 27.296875 \nQ 55.71875 13.875 49.015625 6.21875 \nQ 42.328125 -1.421875 30.609375 -1.421875 \nQ 18.84375 -1.421875 12.171875 6.21875 \nQ 5.515625 13.875 5.515625 27.296875 \nQ 5.515625 40.765625 12.171875 48.375 \nQ 18.84375 56 30.609375 56 \nz\n\" id=\"DejaVuSans-111\"/>\n      <path d=\"M 9.421875 75.984375 \nL 18.40625 75.984375 \nL 18.40625 0 \nL 9.421875 0 \nz\n\" id=\"DejaVuSans-108\"/>\n      <path d=\"M 56.203125 29.59375 \nL 56.203125 25.203125 \nL 14.890625 25.203125 \nQ 15.484375 15.921875 20.484375 11.0625 \nQ 25.484375 6.203125 34.421875 6.203125 \nQ 39.59375 6.203125 44.453125 7.46875 \nQ 49.3125 8.734375 54.109375 11.28125 \nL 54.109375 2.78125 \nQ 49.265625 0.734375 44.1875 -0.34375 \nQ 39.109375 -1.421875 33.890625 -1.421875 \nQ 20.796875 -1.421875 13.15625 6.1875 \nQ 5.515625 13.8125 5.515625 26.8125 \nQ 5.515625 40.234375 12.765625 48.109375 \nQ 20.015625 56 32.328125 56 \nQ 43.359375 56 49.78125 48.890625 \nQ 56.203125 41.796875 56.203125 29.59375 \nz\nM 47.21875 32.234375 \nQ 47.125 39.59375 43.09375 43.984375 \nQ 39.0625 48.390625 32.421875 48.390625 \nQ 24.90625 48.390625 20.390625 44.140625 \nQ 15.875 39.890625 15.1875 32.171875 \nz\n\" id=\"DejaVuSans-101\"/>\n      <path d=\"M 4.890625 31.390625 \nL 31.203125 31.390625 \nL 31.203125 23.390625 \nL 4.890625 23.390625 \nz\n\" id=\"DejaVuSans-45\"/>\n      <path d=\"M 34.28125 27.484375 \nQ 23.390625 27.484375 19.1875 25 \nQ 14.984375 22.515625 14.984375 16.5 \nQ 14.984375 11.71875 18.140625 8.90625 \nQ 21.296875 6.109375 26.703125 6.109375 \nQ 34.1875 6.109375 38.703125 11.40625 \nQ 43.21875 16.703125 43.21875 25.484375 \nL 43.21875 27.484375 \nz\nM 52.203125 31.203125 \nL 52.203125 0 \nL 43.21875 0 \nL 43.21875 8.296875 \nQ 40.140625 3.328125 35.546875 0.953125 \nQ 30.953125 -1.421875 24.3125 -1.421875 \nQ 15.921875 -1.421875 10.953125 3.296875 \nQ 6 8.015625 6 15.921875 \nQ 6 25.140625 12.171875 29.828125 \nQ 18.359375 34.515625 30.609375 34.515625 \nL 43.21875 34.515625 \nL 43.21875 35.40625 \nQ 43.21875 41.609375 39.140625 45 \nQ 35.0625 48.390625 27.6875 48.390625 \nQ 23 48.390625 18.546875 47.265625 \nQ 14.109375 46.140625 10.015625 43.890625 \nL 10.015625 52.203125 \nQ 14.9375 54.109375 19.578125 55.046875 \nQ 24.21875 56 28.609375 56 \nQ 40.484375 56 46.34375 49.84375 \nQ 52.203125 43.703125 52.203125 31.203125 \nz\n\" id=\"DejaVuSans-97\"/>\n      <path d=\"M 54.890625 33.015625 \nL 54.890625 0 \nL 45.90625 0 \nL 45.90625 32.71875 \nQ 45.90625 40.484375 42.875 44.328125 \nQ 39.84375 48.1875 33.796875 48.1875 \nQ 26.515625 48.1875 22.3125 43.546875 \nQ 18.109375 38.921875 18.109375 30.90625 \nL 18.109375 0 \nL 9.078125 0 \nL 9.078125 54.6875 \nL 18.109375 54.6875 \nL 18.109375 46.1875 \nQ 21.34375 51.125 25.703125 53.5625 \nQ 30.078125 56 35.796875 56 \nQ 45.21875 56 50.046875 50.171875 \nQ 54.890625 44.34375 54.890625 33.015625 \nz\n\" id=\"DejaVuSans-110\"/>\n      <path d=\"M 32.171875 -5.078125 \nQ 28.375 -14.84375 24.75 -17.8125 \nQ 21.140625 -20.796875 15.09375 -20.796875 \nL 7.90625 -20.796875 \nL 7.90625 -13.28125 \nL 13.1875 -13.28125 \nQ 16.890625 -13.28125 18.9375 -11.515625 \nQ 21 -9.765625 23.484375 -3.21875 \nL 25.09375 0.875 \nL 2.984375 54.6875 \nL 12.5 54.6875 \nL 29.59375 11.921875 \nL 46.6875 54.6875 \nL 56.203125 54.6875 \nz\n\" id=\"DejaVuSans-121\"/>\n      <path d=\"M 18.3125 70.21875 \nL 18.3125 54.6875 \nL 36.8125 54.6875 \nL 36.8125 47.703125 \nL 18.3125 47.703125 \nL 18.3125 18.015625 \nQ 18.3125 11.328125 20.140625 9.421875 \nQ 21.96875 7.515625 27.59375 7.515625 \nL 36.8125 7.515625 \nL 36.8125 0 \nL 27.59375 0 \nQ 17.1875 0 13.234375 3.875 \nQ 9.28125 7.765625 9.28125 18.015625 \nL 9.28125 47.703125 \nL 2.6875 47.703125 \nL 2.6875 54.6875 \nL 9.28125 54.6875 \nL 9.28125 70.21875 \nz\n\" id=\"DejaVuSans-116\"/>\n      <path d=\"M 9.421875 54.6875 \nL 18.40625 54.6875 \nL 18.40625 0 \nL 9.421875 0 \nz\nM 9.421875 75.984375 \nL 18.40625 75.984375 \nL 18.40625 64.59375 \nL 9.421875 64.59375 \nz\n\" id=\"DejaVuSans-105\"/>\n      <path d=\"M 48.78125 52.59375 \nL 48.78125 44.1875 \nQ 44.96875 46.296875 41.140625 47.34375 \nQ 37.3125 48.390625 33.40625 48.390625 \nQ 24.65625 48.390625 19.8125 42.84375 \nQ 14.984375 37.3125 14.984375 27.296875 \nQ 14.984375 17.28125 19.8125 11.734375 \nQ 24.65625 6.203125 33.40625 6.203125 \nQ 37.3125 6.203125 41.140625 7.25 \nQ 44.96875 8.296875 48.78125 10.40625 \nL 48.78125 2.09375 \nQ 45.015625 0.34375 40.984375 -0.53125 \nQ 36.96875 -1.421875 32.421875 -1.421875 \nQ 20.0625 -1.421875 12.78125 6.34375 \nQ 5.515625 14.109375 5.515625 27.296875 \nQ 5.515625 40.671875 12.859375 48.328125 \nQ 20.21875 56 33.015625 56 \nQ 37.15625 56 41.109375 55.140625 \nQ 45.0625 54.296875 48.78125 52.59375 \nz\n\" id=\"DejaVuSans-99\"/>\n      <path d=\"M 44.28125 53.078125 \nL 44.28125 44.578125 \nQ 40.484375 46.53125 36.375 47.5 \nQ 32.28125 48.484375 27.875 48.484375 \nQ 21.1875 48.484375 17.84375 46.4375 \nQ 14.5 44.390625 14.5 40.28125 \nQ 14.5 37.15625 16.890625 35.375 \nQ 19.28125 33.59375 26.515625 31.984375 \nL 29.59375 31.296875 \nQ 39.15625 29.25 43.1875 25.515625 \nQ 47.21875 21.78125 47.21875 15.09375 \nQ 47.21875 7.46875 41.1875 3.015625 \nQ 35.15625 -1.421875 24.609375 -1.421875 \nQ 20.21875 -1.421875 15.453125 -0.5625 \nQ 10.6875 0.296875 5.421875 2 \nL 5.421875 11.28125 \nQ 10.40625 8.6875 15.234375 7.390625 \nQ 20.0625 6.109375 24.8125 6.109375 \nQ 31.15625 6.109375 34.5625 8.28125 \nQ 37.984375 10.453125 37.984375 14.40625 \nQ 37.984375 18.0625 35.515625 20.015625 \nQ 33.0625 21.96875 24.703125 23.78125 \nL 21.578125 24.515625 \nQ 13.234375 26.265625 9.515625 29.90625 \nQ 5.8125 33.546875 5.8125 39.890625 \nQ 5.8125 47.609375 11.28125 51.796875 \nQ 16.75 56 26.8125 56 \nQ 31.78125 56 36.171875 55.265625 \nQ 40.578125 54.546875 44.28125 53.078125 \nz\n\" id=\"DejaVuSans-115\"/>\n      <path d=\"M 52 44.1875 \nQ 55.375 50.25 60.0625 53.125 \nQ 64.75 56 71.09375 56 \nQ 79.640625 56 84.28125 50.015625 \nQ 88.921875 44.046875 88.921875 33.015625 \nL 88.921875 0 \nL 79.890625 0 \nL 79.890625 32.71875 \nQ 79.890625 40.578125 77.09375 44.375 \nQ 74.3125 48.1875 68.609375 48.1875 \nQ 61.625 48.1875 57.5625 43.546875 \nQ 53.515625 38.921875 53.515625 30.90625 \nL 53.515625 0 \nL 44.484375 0 \nL 44.484375 32.71875 \nQ 44.484375 40.625 41.703125 44.40625 \nQ 38.921875 48.1875 33.109375 48.1875 \nQ 26.21875 48.1875 22.15625 43.53125 \nQ 18.109375 38.875 18.109375 30.90625 \nL 18.109375 0 \nL 9.078125 0 \nL 9.078125 54.6875 \nL 18.109375 54.6875 \nL 18.109375 46.1875 \nQ 21.1875 51.21875 25.484375 53.609375 \nQ 29.78125 56 35.6875 56 \nQ 41.65625 56 45.828125 52.96875 \nQ 50 49.953125 52 44.1875 \nz\n\" id=\"DejaVuSans-109\"/>\n     </defs>\n     <g transform=\"translate(153.615625 92.823125)scale(0.1 -0.1)\">\n      <use xlink:href=\"#DejaVuSans-103\"/>\n      <use x=\"63.476562\" xlink:href=\"#DejaVuSans-111\"/>\n      <use x=\"124.658203\" xlink:href=\"#DejaVuSans-111\"/>\n      <use x=\"185.839844\" xlink:href=\"#DejaVuSans-103\"/>\n      <use x=\"249.316406\" xlink:href=\"#DejaVuSans-108\"/>\n      <use x=\"277.099609\" xlink:href=\"#DejaVuSans-101\"/>\n      <use x=\"338.623047\" xlink:href=\"#DejaVuSans-45\"/>\n      <use x=\"374.707031\" xlink:href=\"#DejaVuSans-97\"/>\n      <use x=\"435.986328\" xlink:href=\"#DejaVuSans-110\"/>\n      <use x=\"499.365234\" xlink:href=\"#DejaVuSans-97\"/>\n      <use x=\"560.644531\" xlink:href=\"#DejaVuSans-108\"/>\n      <use x=\"588.427734\" xlink:href=\"#DejaVuSans-121\"/>\n      <use x=\"647.607422\" xlink:href=\"#DejaVuSans-116\"/>\n      <use x=\"686.816406\" xlink:href=\"#DejaVuSans-105\"/>\n      <use x=\"714.599609\" xlink:href=\"#DejaVuSans-99\"/>\n      <use x=\"769.580078\" xlink:href=\"#DejaVuSans-115\"/>\n      <use x=\"821.679688\" xlink:href=\"#DejaVuSans-46\"/>\n      <use x=\"853.466797\" xlink:href=\"#DejaVuSans-99\"/>\n      <use x=\"908.447266\" xlink:href=\"#DejaVuSans-111\"/>\n      <use x=\"969.628906\" xlink:href=\"#DejaVuSans-109\"/>\n     </g>\n    </g>\n    <g id=\"line2d_48\">\n     <path d=\"M 125.615625 104.00125 \nL 145.615625 104.00125 \n\" style=\"fill:none;stroke:#ff7f0e;stroke-linecap:square;stroke-width:1.5;\"/>\n    </g>\n    <g id=\"line2d_49\"/>\n    <g id=\"text_22\">\n     <!-- facebook.com -->\n     <defs>\n      <path d=\"M 37.109375 75.984375 \nL 37.109375 68.5 \nL 28.515625 68.5 \nQ 23.6875 68.5 21.796875 66.546875 \nQ 19.921875 64.59375 19.921875 59.515625 \nL 19.921875 54.6875 \nL 34.71875 54.6875 \nL 34.71875 47.703125 \nL 19.921875 47.703125 \nL 19.921875 0 \nL 10.890625 0 \nL 10.890625 47.703125 \nL 2.296875 47.703125 \nL 2.296875 54.6875 \nL 10.890625 54.6875 \nL 10.890625 58.5 \nQ 10.890625 67.625 15.140625 71.796875 \nQ 19.390625 75.984375 28.609375 75.984375 \nz\n\" id=\"DejaVuSans-102\"/>\n      <path d=\"M 48.6875 27.296875 \nQ 48.6875 37.203125 44.609375 42.84375 \nQ 40.53125 48.484375 33.40625 48.484375 \nQ 26.265625 48.484375 22.1875 42.84375 \nQ 18.109375 37.203125 18.109375 27.296875 \nQ 18.109375 17.390625 22.1875 11.75 \nQ 26.265625 6.109375 33.40625 6.109375 \nQ 40.53125 6.109375 44.609375 11.75 \nQ 48.6875 17.390625 48.6875 27.296875 \nz\nM 18.109375 46.390625 \nQ 20.953125 51.265625 25.265625 53.625 \nQ 29.59375 56 35.59375 56 \nQ 45.5625 56 51.78125 48.09375 \nQ 58.015625 40.1875 58.015625 27.296875 \nQ 58.015625 14.40625 51.78125 6.484375 \nQ 45.5625 -1.421875 35.59375 -1.421875 \nQ 29.59375 -1.421875 25.265625 0.953125 \nQ 20.953125 3.328125 18.109375 8.203125 \nL 18.109375 0 \nL 9.078125 0 \nL 9.078125 75.984375 \nL 18.109375 75.984375 \nz\n\" id=\"DejaVuSans-98\"/>\n      <path d=\"M 9.078125 75.984375 \nL 18.109375 75.984375 \nL 18.109375 31.109375 \nL 44.921875 54.6875 \nL 56.390625 54.6875 \nL 27.390625 29.109375 \nL 57.625 0 \nL 45.90625 0 \nL 18.109375 26.703125 \nL 18.109375 0 \nL 9.078125 0 \nz\n\" id=\"DejaVuSans-107\"/>\n     </defs>\n     <g transform=\"translate(153.615625 107.50125)scale(0.1 -0.1)\">\n      <use xlink:href=\"#DejaVuSans-102\"/>\n      <use x=\"35.205078\" xlink:href=\"#DejaVuSans-97\"/>\n      <use x=\"96.484375\" xlink:href=\"#DejaVuSans-99\"/>\n      <use x=\"151.464844\" xlink:href=\"#DejaVuSans-101\"/>\n      <use x=\"212.988281\" xlink:href=\"#DejaVuSans-98\"/>\n      <use x=\"276.464844\" xlink:href=\"#DejaVuSans-111\"/>\n      <use x=\"337.646484\" xlink:href=\"#DejaVuSans-111\"/>\n      <use x=\"398.828125\" xlink:href=\"#DejaVuSans-107\"/>\n      <use x=\"456.738281\" xlink:href=\"#DejaVuSans-46\"/>\n      <use x=\"488.525391\" xlink:href=\"#DejaVuSans-99\"/>\n      <use x=\"543.505859\" xlink:href=\"#DejaVuSans-111\"/>\n      <use x=\"604.6875\" xlink:href=\"#DejaVuSans-109\"/>\n     </g>\n    </g>\n    <g id=\"line2d_50\">\n     <path d=\"M 125.615625 118.679375 \nL 145.615625 118.679375 \n\" style=\"fill:none;stroke:#2ca02c;stroke-linecap:square;stroke-width:1.5;\"/>\n    </g>\n    <g id=\"line2d_51\"/>\n    <g id=\"text_23\">\n     <!-- twitter.com -->\n     <defs>\n      <path d=\"M 4.203125 54.6875 \nL 13.1875 54.6875 \nL 24.421875 12.015625 \nL 35.59375 54.6875 \nL 46.1875 54.6875 \nL 57.421875 12.015625 \nL 68.609375 54.6875 \nL 77.59375 54.6875 \nL 63.28125 0 \nL 52.6875 0 \nL 40.921875 44.828125 \nL 29.109375 0 \nL 18.5 0 \nz\n\" id=\"DejaVuSans-119\"/>\n      <path d=\"M 41.109375 46.296875 \nQ 39.59375 47.171875 37.8125 47.578125 \nQ 36.03125 48 33.890625 48 \nQ 26.265625 48 22.1875 43.046875 \nQ 18.109375 38.09375 18.109375 28.8125 \nL 18.109375 0 \nL 9.078125 0 \nL 9.078125 54.6875 \nL 18.109375 54.6875 \nL 18.109375 46.1875 \nQ 20.953125 51.171875 25.484375 53.578125 \nQ 30.03125 56 36.53125 56 \nQ 37.453125 56 38.578125 55.875 \nQ 39.703125 55.765625 41.0625 55.515625 \nz\n\" id=\"DejaVuSans-114\"/>\n     </defs>\n     <g transform=\"translate(153.615625 122.179375)scale(0.1 -0.1)\">\n      <use xlink:href=\"#DejaVuSans-116\"/>\n      <use x=\"39.208984\" xlink:href=\"#DejaVuSans-119\"/>\n      <use x=\"120.996094\" xlink:href=\"#DejaVuSans-105\"/>\n      <use x=\"148.779297\" xlink:href=\"#DejaVuSans-116\"/>\n      <use x=\"187.988281\" xlink:href=\"#DejaVuSans-116\"/>\n      <use x=\"227.197266\" xlink:href=\"#DejaVuSans-101\"/>\n      <use x=\"288.720703\" xlink:href=\"#DejaVuSans-114\"/>\n      <use x=\"329.693359\" xlink:href=\"#DejaVuSans-46\"/>\n      <use x=\"361.480469\" xlink:href=\"#DejaVuSans-99\"/>\n      <use x=\"416.460938\" xlink:href=\"#DejaVuSans-111\"/>\n      <use x=\"477.642578\" xlink:href=\"#DejaVuSans-109\"/>\n     </g>\n    </g>\n    <g id=\"line2d_52\">\n     <path d=\"M 125.615625 133.3575 \nL 145.615625 133.3575 \n\" style=\"fill:none;stroke:#d62728;stroke-linecap:square;stroke-width:1.5;\"/>\n    </g>\n    <g id=\"line2d_53\"/>\n    <g id=\"text_24\">\n     <!-- googlesyndication.com -->\n     <defs>\n      <path d=\"M 45.40625 46.390625 \nL 45.40625 75.984375 \nL 54.390625 75.984375 \nL 54.390625 0 \nL 45.40625 0 \nL 45.40625 8.203125 \nQ 42.578125 3.328125 38.25 0.953125 \nQ 33.9375 -1.421875 27.875 -1.421875 \nQ 17.96875 -1.421875 11.734375 6.484375 \nQ 5.515625 14.40625 5.515625 27.296875 \nQ 5.515625 40.1875 11.734375 48.09375 \nQ 17.96875 56 27.875 56 \nQ 33.9375 56 38.25 53.625 \nQ 42.578125 51.265625 45.40625 46.390625 \nz\nM 14.796875 27.296875 \nQ 14.796875 17.390625 18.875 11.75 \nQ 22.953125 6.109375 30.078125 6.109375 \nQ 37.203125 6.109375 41.296875 11.75 \nQ 45.40625 17.390625 45.40625 27.296875 \nQ 45.40625 37.203125 41.296875 42.84375 \nQ 37.203125 48.484375 30.078125 48.484375 \nQ 22.953125 48.484375 18.875 42.84375 \nQ 14.796875 37.203125 14.796875 27.296875 \nz\n\" id=\"DejaVuSans-100\"/>\n     </defs>\n     <g transform=\"translate(153.615625 136.8575)scale(0.1 -0.1)\">\n      <use xlink:href=\"#DejaVuSans-103\"/>\n      <use x=\"63.476562\" xlink:href=\"#DejaVuSans-111\"/>\n      <use x=\"124.658203\" xlink:href=\"#DejaVuSans-111\"/>\n      <use x=\"185.839844\" xlink:href=\"#DejaVuSans-103\"/>\n      <use x=\"249.316406\" xlink:href=\"#DejaVuSans-108\"/>\n      <use x=\"277.099609\" xlink:href=\"#DejaVuSans-101\"/>\n      <use x=\"338.623047\" xlink:href=\"#DejaVuSans-115\"/>\n      <use x=\"390.722656\" xlink:href=\"#DejaVuSans-121\"/>\n      <use x=\"449.902344\" xlink:href=\"#DejaVuSans-110\"/>\n      <use x=\"513.28125\" xlink:href=\"#DejaVuSans-100\"/>\n      <use x=\"576.757812\" xlink:href=\"#DejaVuSans-105\"/>\n      <use x=\"604.541016\" xlink:href=\"#DejaVuSans-99\"/>\n      <use x=\"659.521484\" xlink:href=\"#DejaVuSans-97\"/>\n      <use x=\"720.800781\" xlink:href=\"#DejaVuSans-116\"/>\n      <use x=\"760.009766\" xlink:href=\"#DejaVuSans-105\"/>\n      <use x=\"787.792969\" xlink:href=\"#DejaVuSans-111\"/>\n      <use x=\"848.974609\" xlink:href=\"#DejaVuSans-110\"/>\n      <use x=\"912.353516\" xlink:href=\"#DejaVuSans-46\"/>\n      <use x=\"944.140625\" xlink:href=\"#DejaVuSans-99\"/>\n      <use x=\"999.121094\" xlink:href=\"#DejaVuSans-111\"/>\n      <use x=\"1060.302734\" xlink:href=\"#DejaVuSans-109\"/>\n     </g>\n    </g>\n    <g id=\"line2d_54\">\n     <path d=\"M 125.615625 148.035625 \nL 145.615625 148.035625 \n\" style=\"fill:none;stroke:#9467bd;stroke-linecap:square;stroke-width:1.5;\"/>\n    </g>\n    <g id=\"line2d_55\"/>\n    <g id=\"text_25\">\n     <!-- addthis.com -->\n     <defs>\n      <path d=\"M 54.890625 33.015625 \nL 54.890625 0 \nL 45.90625 0 \nL 45.90625 32.71875 \nQ 45.90625 40.484375 42.875 44.328125 \nQ 39.84375 48.1875 33.796875 48.1875 \nQ 26.515625 48.1875 22.3125 43.546875 \nQ 18.109375 38.921875 18.109375 30.90625 \nL 18.109375 0 \nL 9.078125 0 \nL 9.078125 75.984375 \nL 18.109375 75.984375 \nL 18.109375 46.1875 \nQ 21.34375 51.125 25.703125 53.5625 \nQ 30.078125 56 35.796875 56 \nQ 45.21875 56 50.046875 50.171875 \nQ 54.890625 44.34375 54.890625 33.015625 \nz\n\" id=\"DejaVuSans-104\"/>\n     </defs>\n     <g transform=\"translate(153.615625 151.535625)scale(0.1 -0.1)\">\n      <use xlink:href=\"#DejaVuSans-97\"/>\n      <use x=\"61.279297\" xlink:href=\"#DejaVuSans-100\"/>\n      <use x=\"124.755859\" xlink:href=\"#DejaVuSans-100\"/>\n      <use x=\"188.232422\" xlink:href=\"#DejaVuSans-116\"/>\n      <use x=\"227.441406\" xlink:href=\"#DejaVuSans-104\"/>\n      <use x=\"290.820312\" xlink:href=\"#DejaVuSans-105\"/>\n      <use x=\"318.603516\" xlink:href=\"#DejaVuSans-115\"/>\n      <use x=\"370.703125\" xlink:href=\"#DejaVuSans-46\"/>\n      <use x=\"402.490234\" xlink:href=\"#DejaVuSans-99\"/>\n      <use x=\"457.470703\" xlink:href=\"#DejaVuSans-111\"/>\n      <use x=\"518.652344\" xlink:href=\"#DejaVuSans-109\"/>\n     </g>\n    </g>\n   </g>\n  </g>\n </g>\n <defs>\n  <clipPath id=\"p37f8354db1\">\n   <rect height=\"217.44\" width=\"334.8\" x=\"30.103125\" y=\"10.7\"/>\n  </clipPath>\n </defs>\n</svg>\n",
      "text/plain": [
       "<Figure size 432x288 with 1 Axes>"
      ]
     },
     "metadata": {
      "needs_background": "light"
     }
    },
    {
     "output_type": "display_data",
     "data": {
      "image/png": "[encoded data removed]",
      "image/svg+xml": "<?xml version=\"1.0\" encoding=\"utf-8\" standalone=\"no\"?>\n<!DOCTYPE svg PUBLIC \"-//W3C//DTD SVG 1.1//EN\"\n  \"http://www.w3.org/Graphics/SVG/1.1/DTD/svg11.dtd\">\n<!-- Created with matplotlib (https://matplotlib.org/) -->\n<svg height=\"280.515pt\" version=\"1.1\" viewBox=\"0 0 388.328125 280.515\" width=\"388.328125pt\" xmlns=\"http://www.w3.org/2000/svg\" xmlns:xlink=\"http://www.w3.org/1999/xlink\">\n <defs>\n  <style type=\"text/css\">\n*{stroke-linecap:butt;stroke-linejoin:round;}\n  </style>\n </defs>\n <g id=\"figure_1\">\n  <g id=\"patch_1\">\n   <path d=\"M 0 280.515 \nL 388.328125 280.515 \nL 388.328125 0 \nL 0 0 \nz\n\" style=\"fill:none;\"/>\n  </g>\n  <g id=\"axes_1\">\n   <g id=\"patch_2\">\n    <path d=\"M 42.828125 228.14 \nL 377.628125 228.14 \nL 377.628125 10.7 \nL 42.828125 10.7 \nz\n\" style=\"fill:#ffffff;\"/>\n   </g>\n   <g id=\"matplotlib.axis_1\">\n    <g id=\"xtick_1\">\n     <g id=\"line2d_1\">\n      <path clip-path=\"url(#pcbfc57a6af)\" d=\"M 58.046307 228.14 \nL 58.046307 10.7 \n\" style=\"fill:none;stroke:#b0b0b0;stroke-linecap:square;stroke-width:0.8;\"/>\n     </g>\n     <g id=\"line2d_2\">\n      <defs>\n       <path d=\"M 0 0 \nL 0 3.5 \n\" id=\"m4fe2706fd6\" style=\"stroke:#000000;stroke-width:0.8;\"/>\n      </defs>\n      <g>\n       <use style=\"stroke:#000000;stroke-width:0.8;\" x=\"58.046307\" xlink:href=\"#m4fe2706fd6\" y=\"228.14\"/>\n      </g>\n     </g>\n     <g id=\"text_1\">\n      <!-- 201407 -->\n      <defs>\n       <path d=\"M 19.1875 8.296875 \nL 53.609375 8.296875 \nL 53.609375 0 \nL 7.328125 0 \nL 7.328125 8.296875 \nQ 12.9375 14.109375 22.625 23.890625 \nQ 32.328125 33.6875 34.8125 36.53125 \nQ 39.546875 41.84375 41.421875 45.53125 \nQ 43.3125 49.21875 43.3125 52.78125 \nQ 43.3125 58.59375 39.234375 62.25 \nQ 35.15625 65.921875 28.609375 65.921875 \nQ 23.96875 65.921875 18.8125 64.3125 \nQ 13.671875 62.703125 7.8125 59.421875 \nL 7.8125 69.390625 \nQ 13.765625 71.78125 18.9375 73 \nQ 24.125 74.21875 28.421875 74.21875 \nQ 39.75 74.21875 46.484375 68.546875 \nQ 53.21875 62.890625 53.21875 53.421875 \nQ 53.21875 48.921875 51.53125 44.890625 \nQ 49.859375 40.875 45.40625 35.40625 \nQ 44.1875 33.984375 37.640625 27.21875 \nQ 31.109375 20.453125 19.1875 8.296875 \nz\n\" id=\"DejaVuSans-50\"/>\n       <path d=\"M 31.78125 66.40625 \nQ 24.171875 66.40625 20.328125 58.90625 \nQ 16.5 51.421875 16.5 36.375 \nQ 16.5 21.390625 20.328125 13.890625 \nQ 24.171875 6.390625 31.78125 6.390625 \nQ 39.453125 6.390625 43.28125 13.890625 \nQ 47.125 21.390625 47.125 36.375 \nQ 47.125 51.421875 43.28125 58.90625 \nQ 39.453125 66.40625 31.78125 66.40625 \nz\nM 31.78125 74.21875 \nQ 44.046875 74.21875 50.515625 64.515625 \nQ 56.984375 54.828125 56.984375 36.375 \nQ 56.984375 17.96875 50.515625 8.265625 \nQ 44.046875 -1.421875 31.78125 -1.421875 \nQ 19.53125 -1.421875 13.0625 8.265625 \nQ 6.59375 17.96875 6.59375 36.375 \nQ 6.59375 54.828125 13.0625 64.515625 \nQ 19.53125 74.21875 31.78125 74.21875 \nz\n\" id=\"DejaVuSans-48\"/>\n       <path d=\"M 12.40625 8.296875 \nL 28.515625 8.296875 \nL 28.515625 63.921875 \nL 10.984375 60.40625 \nL 10.984375 69.390625 \nL 28.421875 72.90625 \nL 38.28125 72.90625 \nL 38.28125 8.296875 \nL 54.390625 8.296875 \nL 54.390625 0 \nL 12.40625 0 \nz\n\" id=\"DejaVuSans-49\"/>\n       <path d=\"M 37.796875 64.3125 \nL 12.890625 25.390625 \nL 37.796875 25.390625 \nz\nM 35.203125 72.90625 \nL 47.609375 72.90625 \nL 47.609375 25.390625 \nL 58.015625 25.390625 \nL 58.015625 17.1875 \nL 47.609375 17.1875 \nL 47.609375 0 \nL 37.796875 0 \nL 37.796875 17.1875 \nL 4.890625 17.1875 \nL 4.890625 26.703125 \nz\n\" id=\"DejaVuSans-52\"/>\n       <path d=\"M 8.203125 72.90625 \nL 55.078125 72.90625 \nL 55.078125 68.703125 \nL 28.609375 0 \nL 18.3125 0 \nL 43.21875 64.59375 \nL 8.203125 64.59375 \nz\n\" id=\"DejaVuSans-55\"/>\n      </defs>\n      <g transform=\"translate(55.286932 235.14)rotate(-270)scale(0.1 -0.1)\">\n       <use xlink:href=\"#DejaVuSans-50\"/>\n       <use x=\"63.623047\" xlink:href=\"#DejaVuSans-48\"/>\n       <use x=\"127.246094\" xlink:href=\"#DejaVuSans-49\"/>\n       <use x=\"190.869141\" xlink:href=\"#DejaVuSans-52\"/>\n       <use x=\"254.492188\" xlink:href=\"#DejaVuSans-48\"/>\n       <use x=\"318.115234\" xlink:href=\"#DejaVuSans-55\"/>\n      </g>\n     </g>\n    </g>\n    <g id=\"xtick_2\">\n     <g id=\"line2d_3\">\n      <path clip-path=\"url(#pcbfc57a6af)\" d=\"M 81.458894 228.14 \nL 81.458894 10.7 \n\" style=\"fill:none;stroke:#b0b0b0;stroke-linecap:square;stroke-width:0.8;\"/>\n     </g>\n     <g id=\"line2d_4\">\n      <g>\n       <use style=\"stroke:#000000;stroke-width:0.8;\" x=\"81.458894\" xlink:href=\"#m4fe2706fd6\" y=\"228.14\"/>\n      </g>\n     </g>\n     <g id=\"text_2\">\n      <!-- 201501 -->\n      <defs>\n       <path d=\"M 10.796875 72.90625 \nL 49.515625 72.90625 \nL 49.515625 64.59375 \nL 19.828125 64.59375 \nL 19.828125 46.734375 \nQ 21.96875 47.46875 24.109375 47.828125 \nQ 26.265625 48.1875 28.421875 48.1875 \nQ 40.625 48.1875 47.75 41.5 \nQ 54.890625 34.8125 54.890625 23.390625 \nQ 54.890625 11.625 47.5625 5.09375 \nQ 40.234375 -1.421875 26.90625 -1.421875 \nQ 22.3125 -1.421875 17.546875 -0.640625 \nQ 12.796875 0.140625 7.71875 1.703125 \nL 7.71875 11.625 \nQ 12.109375 9.234375 16.796875 8.0625 \nQ 21.484375 6.890625 26.703125 6.890625 \nQ 35.15625 6.890625 40.078125 11.328125 \nQ 45.015625 15.765625 45.015625 23.390625 \nQ 45.015625 31 40.078125 35.4375 \nQ 35.15625 39.890625 26.703125 39.890625 \nQ 22.75 39.890625 18.8125 39.015625 \nQ 14.890625 38.140625 10.796875 36.28125 \nz\n\" id=\"DejaVuSans-53\"/>\n      </defs>\n      <g transform=\"translate(78.699519 235.14)rotate(-270)scale(0.1 -0.1)\">\n       <use xlink:href=\"#DejaVuSans-50\"/>\n       <use x=\"63.623047\" xlink:href=\"#DejaVuSans-48\"/>\n       <use x=\"127.246094\" xlink:href=\"#DejaVuSans-49\"/>\n       <use x=\"190.869141\" xlink:href=\"#DejaVuSans-53\"/>\n       <use x=\"254.492188\" xlink:href=\"#DejaVuSans-48\"/>\n       <use x=\"318.115234\" xlink:href=\"#DejaVuSans-49\"/>\n      </g>\n     </g>\n    </g>\n    <g id=\"xtick_3\">\n     <g id=\"line2d_5\">\n      <path clip-path=\"url(#pcbfc57a6af)\" d=\"M 104.871482 228.14 \nL 104.871482 10.7 \n\" style=\"fill:none;stroke:#b0b0b0;stroke-linecap:square;stroke-width:0.8;\"/>\n     </g>\n     <g id=\"line2d_6\">\n      <g>\n       <use style=\"stroke:#000000;stroke-width:0.8;\" x=\"104.871482\" xlink:href=\"#m4fe2706fd6\" y=\"228.14\"/>\n      </g>\n     </g>\n     <g id=\"text_3\">\n      <!-- 201507 -->\n      <g transform=\"translate(102.112107 235.14)rotate(-270)scale(0.1 -0.1)\">\n       <use xlink:href=\"#DejaVuSans-50\"/>\n       <use x=\"63.623047\" xlink:href=\"#DejaVuSans-48\"/>\n       <use x=\"127.246094\" xlink:href=\"#DejaVuSans-49\"/>\n       <use x=\"190.869141\" xlink:href=\"#DejaVuSans-53\"/>\n       <use x=\"254.492188\" xlink:href=\"#DejaVuSans-48\"/>\n       <use x=\"318.115234\" xlink:href=\"#DejaVuSans-55\"/>\n      </g>\n     </g>\n    </g>\n    <g id=\"xtick_4\">\n     <g id=\"line2d_7\">\n      <path clip-path=\"url(#pcbfc57a6af)\" d=\"M 128.284069 228.14 \nL 128.284069 10.7 \n\" style=\"fill:none;stroke:#b0b0b0;stroke-linecap:square;stroke-width:0.8;\"/>\n     </g>\n     <g id=\"line2d_8\">\n      <g>\n       <use style=\"stroke:#000000;stroke-width:0.8;\" x=\"128.284069\" xlink:href=\"#m4fe2706fd6\" y=\"228.14\"/>\n      </g>\n     </g>\n     <g id=\"text_4\">\n      <!-- 201602 -->\n      <defs>\n       <path d=\"M 33.015625 40.375 \nQ 26.375 40.375 22.484375 35.828125 \nQ 18.609375 31.296875 18.609375 23.390625 \nQ 18.609375 15.53125 22.484375 10.953125 \nQ 26.375 6.390625 33.015625 6.390625 \nQ 39.65625 6.390625 43.53125 10.953125 \nQ 47.40625 15.53125 47.40625 23.390625 \nQ 47.40625 31.296875 43.53125 35.828125 \nQ 39.65625 40.375 33.015625 40.375 \nz\nM 52.59375 71.296875 \nL 52.59375 62.3125 \nQ 48.875 64.0625 45.09375 64.984375 \nQ 41.3125 65.921875 37.59375 65.921875 \nQ 27.828125 65.921875 22.671875 59.328125 \nQ 17.53125 52.734375 16.796875 39.40625 \nQ 19.671875 43.65625 24.015625 45.921875 \nQ 28.375 48.1875 33.59375 48.1875 \nQ 44.578125 48.1875 50.953125 41.515625 \nQ 57.328125 34.859375 57.328125 23.390625 \nQ 57.328125 12.15625 50.6875 5.359375 \nQ 44.046875 -1.421875 33.015625 -1.421875 \nQ 20.359375 -1.421875 13.671875 8.265625 \nQ 6.984375 17.96875 6.984375 36.375 \nQ 6.984375 53.65625 15.1875 63.9375 \nQ 23.390625 74.21875 37.203125 74.21875 \nQ 40.921875 74.21875 44.703125 73.484375 \nQ 48.484375 72.75 52.59375 71.296875 \nz\n\" id=\"DejaVuSans-54\"/>\n      </defs>\n      <g transform=\"translate(125.524694 235.14)rotate(-270)scale(0.1 -0.1)\">\n       <use xlink:href=\"#DejaVuSans-50\"/>\n       <use x=\"63.623047\" xlink:href=\"#DejaVuSans-48\"/>\n       <use x=\"127.246094\" xlink:href=\"#DejaVuSans-49\"/>\n       <use x=\"190.869141\" xlink:href=\"#DejaVuSans-54\"/>\n       <use x=\"254.492188\" xlink:href=\"#DejaVuSans-48\"/>\n       <use x=\"318.115234\" xlink:href=\"#DejaVuSans-50\"/>\n      </g>\n     </g>\n    </g>\n    <g id=\"xtick_5\">\n     <g id=\"line2d_9\">\n      <path clip-path=\"url(#pcbfc57a6af)\" d=\"M 151.696656 228.14 \nL 151.696656 10.7 \n\" style=\"fill:none;stroke:#b0b0b0;stroke-linecap:square;stroke-width:0.8;\"/>\n     </g>\n     <g id=\"line2d_10\">\n      <g>\n       <use style=\"stroke:#000000;stroke-width:0.8;\" x=\"151.696656\" xlink:href=\"#m4fe2706fd6\" y=\"228.14\"/>\n      </g>\n     </g>\n     <g id=\"text_5\">\n      <!-- 201607 -->\n      <g transform=\"translate(148.937281 235.14)rotate(-270)scale(0.1 -0.1)\">\n       <use xlink:href=\"#DejaVuSans-50\"/>\n       <use x=\"63.623047\" xlink:href=\"#DejaVuSans-48\"/>\n       <use x=\"127.246094\" xlink:href=\"#DejaVuSans-49\"/>\n       <use x=\"190.869141\" xlink:href=\"#DejaVuSans-54\"/>\n       <use x=\"254.492188\" xlink:href=\"#DejaVuSans-48\"/>\n       <use x=\"318.115234\" xlink:href=\"#DejaVuSans-55\"/>\n      </g>\n     </g>\n    </g>\n    <g id=\"xtick_6\">\n     <g id=\"line2d_11\">\n      <path clip-path=\"url(#pcbfc57a6af)\" d=\"M 175.109244 228.14 \nL 175.109244 10.7 \n\" style=\"fill:none;stroke:#b0b0b0;stroke-linecap:square;stroke-width:0.8;\"/>\n     </g>\n     <g id=\"line2d_12\">\n      <g>\n       <use style=\"stroke:#000000;stroke-width:0.8;\" x=\"175.109244\" xlink:href=\"#m4fe2706fd6\" y=\"228.14\"/>\n      </g>\n     </g>\n     <g id=\"text_6\">\n      <!-- 201701 -->\n      <g transform=\"translate(172.349869 235.14)rotate(-270)scale(0.1 -0.1)\">\n       <use xlink:href=\"#DejaVuSans-50\"/>\n       <use x=\"63.623047\" xlink:href=\"#DejaVuSans-48\"/>\n       <use x=\"127.246094\" xlink:href=\"#DejaVuSans-49\"/>\n       <use x=\"190.869141\" xlink:href=\"#DejaVuSans-55\"/>\n       <use x=\"254.492188\" xlink:href=\"#DejaVuSans-48\"/>\n       <use x=\"318.115234\" xlink:href=\"#DejaVuSans-49\"/>\n      </g>\n     </g>\n    </g>\n    <g id=\"xtick_7\">\n     <g id=\"line2d_13\">\n      <path clip-path=\"url(#pcbfc57a6af)\" d=\"M 198.521831 228.14 \nL 198.521831 10.7 \n\" style=\"fill:none;stroke:#b0b0b0;stroke-linecap:square;stroke-width:0.8;\"/>\n     </g>\n     <g id=\"line2d_14\">\n      <g>\n       <use style=\"stroke:#000000;stroke-width:0.8;\" x=\"198.521831\" xlink:href=\"#m4fe2706fd6\" y=\"228.14\"/>\n      </g>\n     </g>\n     <g id=\"text_7\">\n      <!-- 201707 -->\n      <g transform=\"translate(195.762456 235.14)rotate(-270)scale(0.1 -0.1)\">\n       <use xlink:href=\"#DejaVuSans-50\"/>\n       <use x=\"63.623047\" xlink:href=\"#DejaVuSans-48\"/>\n       <use x=\"127.246094\" xlink:href=\"#DejaVuSans-49\"/>\n       <use x=\"190.869141\" xlink:href=\"#DejaVuSans-55\"/>\n       <use x=\"254.492188\" xlink:href=\"#DejaVuSans-48\"/>\n       <use x=\"318.115234\" xlink:href=\"#DejaVuSans-55\"/>\n      </g>\n     </g>\n    </g>\n    <g id=\"xtick_8\">\n     <g id=\"line2d_15\">\n      <path clip-path=\"url(#pcbfc57a6af)\" d=\"M 221.934419 228.14 \nL 221.934419 10.7 \n\" style=\"fill:none;stroke:#b0b0b0;stroke-linecap:square;stroke-width:0.8;\"/>\n     </g>\n     <g id=\"line2d_16\">\n      <g>\n       <use style=\"stroke:#000000;stroke-width:0.8;\" x=\"221.934419\" xlink:href=\"#m4fe2706fd6\" y=\"228.14\"/>\n      </g>\n     </g>\n     <g id=\"text_8\">\n      <!-- 201801 -->\n      <defs>\n       <path d=\"M 31.78125 34.625 \nQ 24.75 34.625 20.71875 30.859375 \nQ 16.703125 27.09375 16.703125 20.515625 \nQ 16.703125 13.921875 20.71875 10.15625 \nQ 24.75 6.390625 31.78125 6.390625 \nQ 38.8125 6.390625 42.859375 10.171875 \nQ 46.921875 13.96875 46.921875 20.515625 \nQ 46.921875 27.09375 42.890625 30.859375 \nQ 38.875 34.625 31.78125 34.625 \nz\nM 21.921875 38.8125 \nQ 15.578125 40.375 12.03125 44.71875 \nQ 8.5 49.078125 8.5 55.328125 \nQ 8.5 64.0625 14.71875 69.140625 \nQ 20.953125 74.21875 31.78125 74.21875 \nQ 42.671875 74.21875 48.875 69.140625 \nQ 55.078125 64.0625 55.078125 55.328125 \nQ 55.078125 49.078125 51.53125 44.71875 \nQ 48 40.375 41.703125 38.8125 \nQ 48.828125 37.15625 52.796875 32.3125 \nQ 56.78125 27.484375 56.78125 20.515625 \nQ 56.78125 9.90625 50.3125 4.234375 \nQ 43.84375 -1.421875 31.78125 -1.421875 \nQ 19.734375 -1.421875 13.25 4.234375 \nQ 6.78125 9.90625 6.78125 20.515625 \nQ 6.78125 27.484375 10.78125 32.3125 \nQ 14.796875 37.15625 21.921875 38.8125 \nz\nM 18.3125 54.390625 \nQ 18.3125 48.734375 21.84375 45.5625 \nQ 25.390625 42.390625 31.78125 42.390625 \nQ 38.140625 42.390625 41.71875 45.5625 \nQ 45.3125 48.734375 45.3125 54.390625 \nQ 45.3125 60.0625 41.71875 63.234375 \nQ 38.140625 66.40625 31.78125 66.40625 \nQ 25.390625 66.40625 21.84375 63.234375 \nQ 18.3125 60.0625 18.3125 54.390625 \nz\n\" id=\"DejaVuSans-56\"/>\n      </defs>\n      <g transform=\"translate(219.175044 235.14)rotate(-270)scale(0.1 -0.1)\">\n       <use xlink:href=\"#DejaVuSans-50\"/>\n       <use x=\"63.623047\" xlink:href=\"#DejaVuSans-48\"/>\n       <use x=\"127.246094\" xlink:href=\"#DejaVuSans-49\"/>\n       <use x=\"190.869141\" xlink:href=\"#DejaVuSans-56\"/>\n       <use x=\"254.492188\" xlink:href=\"#DejaVuSans-48\"/>\n       <use x=\"318.115234\" xlink:href=\"#DejaVuSans-49\"/>\n      </g>\n     </g>\n    </g>\n    <g id=\"xtick_9\">\n     <g id=\"line2d_17\">\n      <path clip-path=\"url(#pcbfc57a6af)\" d=\"M 245.347006 228.14 \nL 245.347006 10.7 \n\" style=\"fill:none;stroke:#b0b0b0;stroke-linecap:square;stroke-width:0.8;\"/>\n     </g>\n     <g id=\"line2d_18\">\n      <g>\n       <use style=\"stroke:#000000;stroke-width:0.8;\" x=\"245.347006\" xlink:href=\"#m4fe2706fd6\" y=\"228.14\"/>\n      </g>\n     </g>\n     <g id=\"text_9\">\n      <!-- 201807 -->\n      <g transform=\"translate(242.587631 235.14)rotate(-270)scale(0.1 -0.1)\">\n       <use xlink:href=\"#DejaVuSans-50\"/>\n       <use x=\"63.623047\" xlink:href=\"#DejaVuSans-48\"/>\n       <use x=\"127.246094\" xlink:href=\"#DejaVuSans-49\"/>\n       <use x=\"190.869141\" xlink:href=\"#DejaVuSans-56\"/>\n       <use x=\"254.492188\" xlink:href=\"#DejaVuSans-48\"/>\n       <use x=\"318.115234\" xlink:href=\"#DejaVuSans-55\"/>\n      </g>\n     </g>\n    </g>\n    <g id=\"xtick_10\">\n     <g id=\"line2d_19\">\n      <path clip-path=\"url(#pcbfc57a6af)\" d=\"M 268.759594 228.14 \nL 268.759594 10.7 \n\" style=\"fill:none;stroke:#b0b0b0;stroke-linecap:square;stroke-width:0.8;\"/>\n     </g>\n     <g id=\"line2d_20\">\n      <g>\n       <use style=\"stroke:#000000;stroke-width:0.8;\" x=\"268.759594\" xlink:href=\"#m4fe2706fd6\" y=\"228.14\"/>\n      </g>\n     </g>\n     <g id=\"text_10\">\n      <!-- 201901 -->\n      <defs>\n       <path d=\"M 10.984375 1.515625 \nL 10.984375 10.5 \nQ 14.703125 8.734375 18.5 7.8125 \nQ 22.3125 6.890625 25.984375 6.890625 \nQ 35.75 6.890625 40.890625 13.453125 \nQ 46.046875 20.015625 46.78125 33.40625 \nQ 43.953125 29.203125 39.59375 26.953125 \nQ 35.25 24.703125 29.984375 24.703125 \nQ 19.046875 24.703125 12.671875 31.3125 \nQ 6.296875 37.9375 6.296875 49.421875 \nQ 6.296875 60.640625 12.9375 67.421875 \nQ 19.578125 74.21875 30.609375 74.21875 \nQ 43.265625 74.21875 49.921875 64.515625 \nQ 56.59375 54.828125 56.59375 36.375 \nQ 56.59375 19.140625 48.40625 8.859375 \nQ 40.234375 -1.421875 26.421875 -1.421875 \nQ 22.703125 -1.421875 18.890625 -0.6875 \nQ 15.09375 0.046875 10.984375 1.515625 \nz\nM 30.609375 32.421875 \nQ 37.25 32.421875 41.125 36.953125 \nQ 45.015625 41.5 45.015625 49.421875 \nQ 45.015625 57.28125 41.125 61.84375 \nQ 37.25 66.40625 30.609375 66.40625 \nQ 23.96875 66.40625 20.09375 61.84375 \nQ 16.21875 57.28125 16.21875 49.421875 \nQ 16.21875 41.5 20.09375 36.953125 \nQ 23.96875 32.421875 30.609375 32.421875 \nz\n\" id=\"DejaVuSans-57\"/>\n      </defs>\n      <g transform=\"translate(266.000219 235.14)rotate(-270)scale(0.1 -0.1)\">\n       <use xlink:href=\"#DejaVuSans-50\"/>\n       <use x=\"63.623047\" xlink:href=\"#DejaVuSans-48\"/>\n       <use x=\"127.246094\" xlink:href=\"#DejaVuSans-49\"/>\n       <use x=\"190.869141\" xlink:href=\"#DejaVuSans-57\"/>\n       <use x=\"254.492188\" xlink:href=\"#DejaVuSans-48\"/>\n       <use x=\"318.115234\" xlink:href=\"#DejaVuSans-49\"/>\n      </g>\n     </g>\n    </g>\n    <g id=\"xtick_11\">\n     <g id=\"line2d_21\">\n      <path clip-path=\"url(#pcbfc57a6af)\" d=\"M 292.172181 228.14 \nL 292.172181 10.7 \n\" style=\"fill:none;stroke:#b0b0b0;stroke-linecap:square;stroke-width:0.8;\"/>\n     </g>\n     <g id=\"line2d_22\">\n      <g>\n       <use style=\"stroke:#000000;stroke-width:0.8;\" x=\"292.172181\" xlink:href=\"#m4fe2706fd6\" y=\"228.14\"/>\n      </g>\n     </g>\n     <g id=\"text_11\">\n      <!-- 201907 -->\n      <g transform=\"translate(289.412806 235.14)rotate(-270)scale(0.1 -0.1)\">\n       <use xlink:href=\"#DejaVuSans-50\"/>\n       <use x=\"63.623047\" xlink:href=\"#DejaVuSans-48\"/>\n       <use x=\"127.246094\" xlink:href=\"#DejaVuSans-49\"/>\n       <use x=\"190.869141\" xlink:href=\"#DejaVuSans-57\"/>\n       <use x=\"254.492188\" xlink:href=\"#DejaVuSans-48\"/>\n       <use x=\"318.115234\" xlink:href=\"#DejaVuSans-55\"/>\n      </g>\n     </g>\n    </g>\n    <g id=\"xtick_12\">\n     <g id=\"line2d_23\">\n      <path clip-path=\"url(#pcbfc57a6af)\" d=\"M 315.584768 228.14 \nL 315.584768 10.7 \n\" style=\"fill:none;stroke:#b0b0b0;stroke-linecap:square;stroke-width:0.8;\"/>\n     </g>\n     <g id=\"line2d_24\">\n      <g>\n       <use style=\"stroke:#000000;stroke-width:0.8;\" x=\"315.584768\" xlink:href=\"#m4fe2706fd6\" y=\"228.14\"/>\n      </g>\n     </g>\n     <g id=\"text_12\">\n      <!-- 202001 -->\n      <g transform=\"translate(312.825393 235.14)rotate(-270)scale(0.1 -0.1)\">\n       <use xlink:href=\"#DejaVuSans-50\"/>\n       <use x=\"63.623047\" xlink:href=\"#DejaVuSans-48\"/>\n       <use x=\"127.246094\" xlink:href=\"#DejaVuSans-50\"/>\n       <use x=\"190.869141\" xlink:href=\"#DejaVuSans-48\"/>\n       <use x=\"254.492188\" xlink:href=\"#DejaVuSans-48\"/>\n       <use x=\"318.115234\" xlink:href=\"#DejaVuSans-49\"/>\n      </g>\n     </g>\n    </g>\n    <g id=\"xtick_13\">\n     <g id=\"line2d_25\">\n      <path clip-path=\"url(#pcbfc57a6af)\" d=\"M 338.997356 228.14 \nL 338.997356 10.7 \n\" style=\"fill:none;stroke:#b0b0b0;stroke-linecap:square;stroke-width:0.8;\"/>\n     </g>\n     <g id=\"line2d_26\">\n      <g>\n       <use style=\"stroke:#000000;stroke-width:0.8;\" x=\"338.997356\" xlink:href=\"#m4fe2706fd6\" y=\"228.14\"/>\n      </g>\n     </g>\n     <g id=\"text_13\">\n      <!-- 202007 -->\n      <g transform=\"translate(336.237981 235.14)rotate(-270)scale(0.1 -0.1)\">\n       <use xlink:href=\"#DejaVuSans-50\"/>\n       <use x=\"63.623047\" xlink:href=\"#DejaVuSans-48\"/>\n       <use x=\"127.246094\" xlink:href=\"#DejaVuSans-50\"/>\n       <use x=\"190.869141\" xlink:href=\"#DejaVuSans-48\"/>\n       <use x=\"254.492188\" xlink:href=\"#DejaVuSans-48\"/>\n       <use x=\"318.115234\" xlink:href=\"#DejaVuSans-55\"/>\n      </g>\n     </g>\n    </g>\n    <g id=\"xtick_14\">\n     <g id=\"line2d_27\">\n      <path clip-path=\"url(#pcbfc57a6af)\" d=\"M 362.409943 228.14 \nL 362.409943 10.7 \n\" style=\"fill:none;stroke:#b0b0b0;stroke-linecap:square;stroke-width:0.8;\"/>\n     </g>\n     <g id=\"line2d_28\">\n      <g>\n       <use style=\"stroke:#000000;stroke-width:0.8;\" x=\"362.409943\" xlink:href=\"#m4fe2706fd6\" y=\"228.14\"/>\n      </g>\n     </g>\n     <g id=\"text_14\">\n      <!-- 202101 -->\n      <g transform=\"translate(359.650568 235.14)rotate(-270)scale(0.1 -0.1)\">\n       <use xlink:href=\"#DejaVuSans-50\"/>\n       <use x=\"63.623047\" xlink:href=\"#DejaVuSans-48\"/>\n       <use x=\"127.246094\" xlink:href=\"#DejaVuSans-50\"/>\n       <use x=\"190.869141\" xlink:href=\"#DejaVuSans-49\"/>\n       <use x=\"254.492188\" xlink:href=\"#DejaVuSans-48\"/>\n       <use x=\"318.115234\" xlink:href=\"#DejaVuSans-49\"/>\n      </g>\n     </g>\n    </g>\n   </g>\n   <g id=\"matplotlib.axis_2\">\n    <g id=\"ytick_1\">\n     <g id=\"line2d_29\">\n      <path clip-path=\"url(#pcbfc57a6af)\" d=\"M 42.828125 188.549561 \nL 377.628125 188.549561 \n\" style=\"fill:none;stroke:#b0b0b0;stroke-linecap:square;stroke-width:0.8;\"/>\n     </g>\n     <g id=\"line2d_30\">\n      <defs>\n       <path d=\"M 0 0 \nL -3.5 0 \n\" id=\"mc62ea21197\" style=\"stroke:#000000;stroke-width:0.8;\"/>\n      </defs>\n      <g>\n       <use style=\"stroke:#000000;stroke-width:0.8;\" x=\"42.828125\" xlink:href=\"#mc62ea21197\" y=\"188.549561\"/>\n      </g>\n     </g>\n     <g id=\"text_15\">\n      <!-- 0.005 -->\n      <defs>\n       <path d=\"M 10.6875 12.40625 \nL 21 12.40625 \nL 21 0 \nL 10.6875 0 \nz\n\" id=\"DejaVuSans-46\"/>\n      </defs>\n      <g transform=\"translate(7.2 192.34878)scale(0.1 -0.1)\">\n       <use xlink:href=\"#DejaVuSans-48\"/>\n       <use x=\"63.623047\" xlink:href=\"#DejaVuSans-46\"/>\n       <use x=\"95.410156\" xlink:href=\"#DejaVuSans-48\"/>\n       <use x=\"159.033203\" xlink:href=\"#DejaVuSans-48\"/>\n       <use x=\"222.65625\" xlink:href=\"#DejaVuSans-53\"/>\n      </g>\n     </g>\n    </g>\n    <g id=\"ytick_2\">\n     <g id=\"line2d_31\">\n      <path clip-path=\"url(#pcbfc57a6af)\" d=\"M 42.828125 141.855539 \nL 377.628125 141.855539 \n\" style=\"fill:none;stroke:#b0b0b0;stroke-linecap:square;stroke-width:0.8;\"/>\n     </g>\n     <g id=\"line2d_32\">\n      <g>\n       <use style=\"stroke:#000000;stroke-width:0.8;\" x=\"42.828125\" xlink:href=\"#mc62ea21197\" y=\"141.855539\"/>\n      </g>\n     </g>\n     <g id=\"text_16\">\n      <!-- 0.010 -->\n      <g transform=\"translate(7.2 145.654758)scale(0.1 -0.1)\">\n       <use xlink:href=\"#DejaVuSans-48\"/>\n       <use x=\"63.623047\" xlink:href=\"#DejaVuSans-46\"/>\n       <use x=\"95.410156\" xlink:href=\"#DejaVuSans-48\"/>\n       <use x=\"159.033203\" xlink:href=\"#DejaVuSans-49\"/>\n       <use x=\"222.65625\" xlink:href=\"#DejaVuSans-48\"/>\n      </g>\n     </g>\n    </g>\n    <g id=\"ytick_3\">\n     <g id=\"line2d_33\">\n      <path clip-path=\"url(#pcbfc57a6af)\" d=\"M 42.828125 95.161516 \nL 377.628125 95.161516 \n\" style=\"fill:none;stroke:#b0b0b0;stroke-linecap:square;stroke-width:0.8;\"/>\n     </g>\n     <g id=\"line2d_34\">\n      <g>\n       <use style=\"stroke:#000000;stroke-width:0.8;\" x=\"42.828125\" xlink:href=\"#mc62ea21197\" y=\"95.161516\"/>\n      </g>\n     </g>\n     <g id=\"text_17\">\n      <!-- 0.015 -->\n      <g transform=\"translate(7.2 98.960735)scale(0.1 -0.1)\">\n       <use xlink:href=\"#DejaVuSans-48\"/>\n       <use x=\"63.623047\" xlink:href=\"#DejaVuSans-46\"/>\n       <use x=\"95.410156\" xlink:href=\"#DejaVuSans-48\"/>\n       <use x=\"159.033203\" xlink:href=\"#DejaVuSans-49\"/>\n       <use x=\"222.65625\" xlink:href=\"#DejaVuSans-53\"/>\n      </g>\n     </g>\n    </g>\n    <g id=\"ytick_4\">\n     <g id=\"line2d_35\">\n      <path clip-path=\"url(#pcbfc57a6af)\" d=\"M 42.828125 48.467494 \nL 377.628125 48.467494 \n\" style=\"fill:none;stroke:#b0b0b0;stroke-linecap:square;stroke-width:0.8;\"/>\n     </g>\n     <g id=\"line2d_36\">\n      <g>\n       <use style=\"stroke:#000000;stroke-width:0.8;\" x=\"42.828125\" xlink:href=\"#mc62ea21197\" y=\"48.467494\"/>\n      </g>\n     </g>\n     <g id=\"text_18\">\n      <!-- 0.020 -->\n      <g transform=\"translate(7.2 52.266712)scale(0.1 -0.1)\">\n       <use xlink:href=\"#DejaVuSans-48\"/>\n       <use x=\"63.623047\" xlink:href=\"#DejaVuSans-46\"/>\n       <use x=\"95.410156\" xlink:href=\"#DejaVuSans-48\"/>\n       <use x=\"159.033203\" xlink:href=\"#DejaVuSans-50\"/>\n       <use x=\"222.65625\" xlink:href=\"#DejaVuSans-48\"/>\n      </g>\n     </g>\n    </g>\n   </g>\n   <g id=\"line2d_37\">\n    <path clip-path=\"url(#pcbfc57a6af)\" d=\"M 58.046307 99.69974 \nL 81.458894 96.675655 \nL 104.871482 97.950412 \nL 128.284069 93.907001 \nL 151.696656 62.640306 \nL 175.109244 40.192386 \nL 198.521831 50.310055 \nL 221.934419 48.055946 \nL 245.347006 47.019617 \nL 268.759594 29.464276 \nL 292.172181 30.332554 \nL 315.584768 28.926594 \nL 338.997356 20.583636 \nL 362.409943 22.743073 \n\" style=\"fill:none;stroke:#1f77b4;stroke-linecap:square;stroke-width:1.5;\"/>\n   </g>\n   <g id=\"line2d_38\">\n    <path clip-path=\"url(#pcbfc57a6af)\" d=\"M 58.046307 145.019614 \nL 81.458894 152.271298 \nL 104.871482 159.424966 \nL 128.284069 163.964328 \nL 151.696656 166.797456 \nL 175.109244 162.227934 \nL 198.521831 174.953899 \nL 221.934419 174.50717 \nL 245.347006 181.511272 \nL 268.759594 187.249325 \nL 292.172181 190.125559 \nL 315.584768 192.858221 \nL 338.997356 198.89241 \nL 362.409943 196.781953 \n\" style=\"fill:none;stroke:#ff7f0e;stroke-linecap:square;stroke-width:1.5;\"/>\n   </g>\n   <g id=\"line2d_39\">\n    <path clip-path=\"url(#pcbfc57a6af)\" d=\"M 58.046307 178.697686 \nL 81.458894 178.805583 \nL 104.871482 182.785297 \nL 128.284069 181.885969 \nL 151.696656 181.677049 \nL 175.109244 180.738944 \nL 198.521831 183.421551 \nL 221.934419 187.450996 \nL 245.347006 187.624529 \nL 268.759594 192.268332 \nL 292.172181 192.005477 \nL 315.584768 192.858221 \nL 338.997356 194.818572 \nL 362.409943 194.217844 \n\" style=\"fill:none;stroke:#2ca02c;stroke-linecap:square;stroke-width:1.5;\"/>\n   </g>\n   <g id=\"line2d_40\">\n    <path clip-path=\"url(#pcbfc57a6af)\" d=\"M 58.046307 184.518587 \nL 81.458894 186.807986 \nL 104.871482 187.703262 \nL 128.284069 187.58831 \nL 151.696656 188.000876 \nL 175.109244 192.394024 \nL 198.521831 194.598852 \nL 221.934419 197.407785 \nL 245.347006 197.598791 \nL 268.759594 205.756915 \nL 292.172181 205.47822 \nL 315.584768 208.752732 \nL 338.997356 209.860437 \nL 362.409943 209.92301 \n\" style=\"fill:none;stroke:#d62728;stroke-linecap:square;stroke-width:1.5;\"/>\n   </g>\n   <g id=\"line2d_41\">\n    <path clip-path=\"url(#pcbfc57a6af)\" d=\"M 58.046307 200.733955 \nL 81.458894 203.65515 \nL 104.871482 202.866985 \nL 128.284069 203.066091 \nL 151.696656 205.112408 \nL 175.109244 206.105883 \nL 198.521831 209.501921 \nL 221.934419 211.679183 \nL 245.347006 214.32981 \nL 268.759594 216.108618 \nL 292.172181 216.444407 \nL 315.584768 214.985874 \nL 338.997356 218.008114 \nL 362.409943 218.256364 \n\" style=\"fill:none;stroke:#9467bd;stroke-linecap:square;stroke-width:1.5;\"/>\n   </g>\n   <g id=\"patch_3\">\n    <path d=\"M 42.828125 228.14 \nL 42.828125 10.7 \n\" style=\"fill:none;stroke:#000000;stroke-linecap:square;stroke-linejoin:miter;stroke-width:0.8;\"/>\n   </g>\n   <g id=\"patch_4\">\n    <path d=\"M 377.628125 228.14 \nL 377.628125 10.7 \n\" style=\"fill:none;stroke:#000000;stroke-linecap:square;stroke-linejoin:miter;stroke-width:0.8;\"/>\n   </g>\n   <g id=\"patch_5\">\n    <path d=\"M 42.828125 228.14 \nL 377.628125 228.14 \n\" style=\"fill:none;stroke:#000000;stroke-linecap:square;stroke-linejoin:miter;stroke-width:0.8;\"/>\n   </g>\n   <g id=\"patch_6\">\n    <path d=\"M 42.828125 10.7 \nL 377.628125 10.7 \n\" style=\"fill:none;stroke:#000000;stroke-linecap:square;stroke-linejoin:miter;stroke-width:0.8;\"/>\n   </g>\n   <g id=\"legend_1\">\n    <g id=\"patch_7\">\n     <path d=\"M 267.664062 157.615313 \nL 370.628125 157.615313 \nQ 372.628125 157.615313 372.628125 155.615313 \nL 372.628125 83.224688 \nQ 372.628125 81.224688 370.628125 81.224688 \nL 267.664062 81.224688 \nQ 265.664062 81.224688 265.664062 83.224688 \nL 265.664062 155.615313 \nQ 265.664062 157.615313 267.664062 157.615313 \nz\n\" style=\"fill:#ffffff;opacity:0.8;stroke:#cccccc;stroke-linejoin:miter;\"/>\n    </g>\n    <g id=\"line2d_42\">\n     <path d=\"M 269.664062 89.323125 \nL 289.664062 89.323125 \n\" style=\"fill:none;stroke:#1f77b4;stroke-linecap:square;stroke-width:1.5;\"/>\n    </g>\n    <g id=\"line2d_43\"/>\n    <g id=\"text_19\">\n     <!-- yandex.ru -->\n     <defs>\n      <path d=\"M 32.171875 -5.078125 \nQ 28.375 -14.84375 24.75 -17.8125 \nQ 21.140625 -20.796875 15.09375 -20.796875 \nL 7.90625 -20.796875 \nL 7.90625 -13.28125 \nL 13.1875 -13.28125 \nQ 16.890625 -13.28125 18.9375 -11.515625 \nQ 21 -9.765625 23.484375 -3.21875 \nL 25.09375 0.875 \nL 2.984375 54.6875 \nL 12.5 54.6875 \nL 29.59375 11.921875 \nL 46.6875 54.6875 \nL 56.203125 54.6875 \nz\n\" id=\"DejaVuSans-121\"/>\n      <path d=\"M 34.28125 27.484375 \nQ 23.390625 27.484375 19.1875 25 \nQ 14.984375 22.515625 14.984375 16.5 \nQ 14.984375 11.71875 18.140625 8.90625 \nQ 21.296875 6.109375 26.703125 6.109375 \nQ 34.1875 6.109375 38.703125 11.40625 \nQ 43.21875 16.703125 43.21875 25.484375 \nL 43.21875 27.484375 \nz\nM 52.203125 31.203125 \nL 52.203125 0 \nL 43.21875 0 \nL 43.21875 8.296875 \nQ 40.140625 3.328125 35.546875 0.953125 \nQ 30.953125 -1.421875 24.3125 -1.421875 \nQ 15.921875 -1.421875 10.953125 3.296875 \nQ 6 8.015625 6 15.921875 \nQ 6 25.140625 12.171875 29.828125 \nQ 18.359375 34.515625 30.609375 34.515625 \nL 43.21875 34.515625 \nL 43.21875 35.40625 \nQ 43.21875 41.609375 39.140625 45 \nQ 35.0625 48.390625 27.6875 48.390625 \nQ 23 48.390625 18.546875 47.265625 \nQ 14.109375 46.140625 10.015625 43.890625 \nL 10.015625 52.203125 \nQ 14.9375 54.109375 19.578125 55.046875 \nQ 24.21875 56 28.609375 56 \nQ 40.484375 56 46.34375 49.84375 \nQ 52.203125 43.703125 52.203125 31.203125 \nz\n\" id=\"DejaVuSans-97\"/>\n      <path d=\"M 54.890625 33.015625 \nL 54.890625 0 \nL 45.90625 0 \nL 45.90625 32.71875 \nQ 45.90625 40.484375 42.875 44.328125 \nQ 39.84375 48.1875 33.796875 48.1875 \nQ 26.515625 48.1875 22.3125 43.546875 \nQ 18.109375 38.921875 18.109375 30.90625 \nL 18.109375 0 \nL 9.078125 0 \nL 9.078125 54.6875 \nL 18.109375 54.6875 \nL 18.109375 46.1875 \nQ 21.34375 51.125 25.703125 53.5625 \nQ 30.078125 56 35.796875 56 \nQ 45.21875 56 50.046875 50.171875 \nQ 54.890625 44.34375 54.890625 33.015625 \nz\n\" id=\"DejaVuSans-110\"/>\n      <path d=\"M 45.40625 46.390625 \nL 45.40625 75.984375 \nL 54.390625 75.984375 \nL 54.390625 0 \nL 45.40625 0 \nL 45.40625 8.203125 \nQ 42.578125 3.328125 38.25 0.953125 \nQ 33.9375 -1.421875 27.875 -1.421875 \nQ 17.96875 -1.421875 11.734375 6.484375 \nQ 5.515625 14.40625 5.515625 27.296875 \nQ 5.515625 40.1875 11.734375 48.09375 \nQ 17.96875 56 27.875 56 \nQ 33.9375 56 38.25 53.625 \nQ 42.578125 51.265625 45.40625 46.390625 \nz\nM 14.796875 27.296875 \nQ 14.796875 17.390625 18.875 11.75 \nQ 22.953125 6.109375 30.078125 6.109375 \nQ 37.203125 6.109375 41.296875 11.75 \nQ 45.40625 17.390625 45.40625 27.296875 \nQ 45.40625 37.203125 41.296875 42.84375 \nQ 37.203125 48.484375 30.078125 48.484375 \nQ 22.953125 48.484375 18.875 42.84375 \nQ 14.796875 37.203125 14.796875 27.296875 \nz\n\" id=\"DejaVuSans-100\"/>\n      <path d=\"M 56.203125 29.59375 \nL 56.203125 25.203125 \nL 14.890625 25.203125 \nQ 15.484375 15.921875 20.484375 11.0625 \nQ 25.484375 6.203125 34.421875 6.203125 \nQ 39.59375 6.203125 44.453125 7.46875 \nQ 49.3125 8.734375 54.109375 11.28125 \nL 54.109375 2.78125 \nQ 49.265625 0.734375 44.1875 -0.34375 \nQ 39.109375 -1.421875 33.890625 -1.421875 \nQ 20.796875 -1.421875 13.15625 6.1875 \nQ 5.515625 13.8125 5.515625 26.8125 \nQ 5.515625 40.234375 12.765625 48.109375 \nQ 20.015625 56 32.328125 56 \nQ 43.359375 56 49.78125 48.890625 \nQ 56.203125 41.796875 56.203125 29.59375 \nz\nM 47.21875 32.234375 \nQ 47.125 39.59375 43.09375 43.984375 \nQ 39.0625 48.390625 32.421875 48.390625 \nQ 24.90625 48.390625 20.390625 44.140625 \nQ 15.875 39.890625 15.1875 32.171875 \nz\n\" id=\"DejaVuSans-101\"/>\n      <path d=\"M 54.890625 54.6875 \nL 35.109375 28.078125 \nL 55.90625 0 \nL 45.3125 0 \nL 29.390625 21.484375 \nL 13.484375 0 \nL 2.875 0 \nL 24.125 28.609375 \nL 4.6875 54.6875 \nL 15.28125 54.6875 \nL 29.78125 35.203125 \nL 44.28125 54.6875 \nz\n\" id=\"DejaVuSans-120\"/>\n      <path d=\"M 41.109375 46.296875 \nQ 39.59375 47.171875 37.8125 47.578125 \nQ 36.03125 48 33.890625 48 \nQ 26.265625 48 22.1875 43.046875 \nQ 18.109375 38.09375 18.109375 28.8125 \nL 18.109375 0 \nL 9.078125 0 \nL 9.078125 54.6875 \nL 18.109375 54.6875 \nL 18.109375 46.1875 \nQ 20.953125 51.171875 25.484375 53.578125 \nQ 30.03125 56 36.53125 56 \nQ 37.453125 56 38.578125 55.875 \nQ 39.703125 55.765625 41.0625 55.515625 \nz\n\" id=\"DejaVuSans-114\"/>\n      <path d=\"M 8.5 21.578125 \nL 8.5 54.6875 \nL 17.484375 54.6875 \nL 17.484375 21.921875 \nQ 17.484375 14.15625 20.5 10.265625 \nQ 23.53125 6.390625 29.59375 6.390625 \nQ 36.859375 6.390625 41.078125 11.03125 \nQ 45.3125 15.671875 45.3125 23.6875 \nL 45.3125 54.6875 \nL 54.296875 54.6875 \nL 54.296875 0 \nL 45.3125 0 \nL 45.3125 8.40625 \nQ 42.046875 3.421875 37.71875 1 \nQ 33.40625 -1.421875 27.6875 -1.421875 \nQ 18.265625 -1.421875 13.375 4.4375 \nQ 8.5 10.296875 8.5 21.578125 \nz\nM 31.109375 56 \nz\n\" id=\"DejaVuSans-117\"/>\n     </defs>\n     <g transform=\"translate(297.664062 92.823125)scale(0.1 -0.1)\">\n      <use xlink:href=\"#DejaVuSans-121\"/>\n      <use x=\"59.179688\" xlink:href=\"#DejaVuSans-97\"/>\n      <use x=\"120.458984\" xlink:href=\"#DejaVuSans-110\"/>\n      <use x=\"183.837891\" xlink:href=\"#DejaVuSans-100\"/>\n      <use x=\"247.314453\" xlink:href=\"#DejaVuSans-101\"/>\n      <use x=\"308.822266\" xlink:href=\"#DejaVuSans-120\"/>\n      <use x=\"368.001953\" xlink:href=\"#DejaVuSans-46\"/>\n      <use x=\"399.789062\" xlink:href=\"#DejaVuSans-114\"/>\n      <use x=\"440.902344\" xlink:href=\"#DejaVuSans-117\"/>\n     </g>\n    </g>\n    <g id=\"line2d_44\">\n     <path d=\"M 269.664062 104.00125 \nL 289.664062 104.00125 \n\" style=\"fill:none;stroke:#ff7f0e;stroke-linecap:square;stroke-width:1.5;\"/>\n    </g>\n    <g id=\"line2d_45\"/>\n    <g id=\"text_20\">\n     <!-- liveinternet.ru -->\n     <defs>\n      <path d=\"M 9.421875 75.984375 \nL 18.40625 75.984375 \nL 18.40625 0 \nL 9.421875 0 \nz\n\" id=\"DejaVuSans-108\"/>\n      <path d=\"M 9.421875 54.6875 \nL 18.40625 54.6875 \nL 18.40625 0 \nL 9.421875 0 \nz\nM 9.421875 75.984375 \nL 18.40625 75.984375 \nL 18.40625 64.59375 \nL 9.421875 64.59375 \nz\n\" id=\"DejaVuSans-105\"/>\n      <path d=\"M 2.984375 54.6875 \nL 12.5 54.6875 \nL 29.59375 8.796875 \nL 46.6875 54.6875 \nL 56.203125 54.6875 \nL 35.6875 0 \nL 23.484375 0 \nz\n\" id=\"DejaVuSans-118\"/>\n      <path d=\"M 18.3125 70.21875 \nL 18.3125 54.6875 \nL 36.8125 54.6875 \nL 36.8125 47.703125 \nL 18.3125 47.703125 \nL 18.3125 18.015625 \nQ 18.3125 11.328125 20.140625 9.421875 \nQ 21.96875 7.515625 27.59375 7.515625 \nL 36.8125 7.515625 \nL 36.8125 0 \nL 27.59375 0 \nQ 17.1875 0 13.234375 3.875 \nQ 9.28125 7.765625 9.28125 18.015625 \nL 9.28125 47.703125 \nL 2.6875 47.703125 \nL 2.6875 54.6875 \nL 9.28125 54.6875 \nL 9.28125 70.21875 \nz\n\" id=\"DejaVuSans-116\"/>\n     </defs>\n     <g transform=\"translate(297.664062 107.50125)scale(0.1 -0.1)\">\n      <use xlink:href=\"#DejaVuSans-108\"/>\n      <use x=\"27.783203\" xlink:href=\"#DejaVuSans-105\"/>\n      <use x=\"55.566406\" xlink:href=\"#DejaVuSans-118\"/>\n      <use x=\"114.746094\" xlink:href=\"#DejaVuSans-101\"/>\n      <use x=\"176.269531\" xlink:href=\"#DejaVuSans-105\"/>\n      <use x=\"204.052734\" xlink:href=\"#DejaVuSans-110\"/>\n      <use x=\"267.431641\" xlink:href=\"#DejaVuSans-116\"/>\n      <use x=\"306.640625\" xlink:href=\"#DejaVuSans-101\"/>\n      <use x=\"368.164062\" xlink:href=\"#DejaVuSans-114\"/>\n      <use x=\"409.261719\" xlink:href=\"#DejaVuSans-110\"/>\n      <use x=\"472.640625\" xlink:href=\"#DejaVuSans-101\"/>\n      <use x=\"534.164062\" xlink:href=\"#DejaVuSans-116\"/>\n      <use x=\"573.373047\" xlink:href=\"#DejaVuSans-46\"/>\n      <use x=\"605.160156\" xlink:href=\"#DejaVuSans-114\"/>\n      <use x=\"646.273438\" xlink:href=\"#DejaVuSans-117\"/>\n     </g>\n    </g>\n    <g id=\"line2d_46\">\n     <path d=\"M 269.664062 118.679375 \nL 289.664062 118.679375 \n\" style=\"fill:none;stroke:#2ca02c;stroke-linecap:square;stroke-width:1.5;\"/>\n    </g>\n    <g id=\"line2d_47\"/>\n    <g id=\"text_21\">\n     <!-- mail.ru -->\n     <defs>\n      <path d=\"M 52 44.1875 \nQ 55.375 50.25 60.0625 53.125 \nQ 64.75 56 71.09375 56 \nQ 79.640625 56 84.28125 50.015625 \nQ 88.921875 44.046875 88.921875 33.015625 \nL 88.921875 0 \nL 79.890625 0 \nL 79.890625 32.71875 \nQ 79.890625 40.578125 77.09375 44.375 \nQ 74.3125 48.1875 68.609375 48.1875 \nQ 61.625 48.1875 57.5625 43.546875 \nQ 53.515625 38.921875 53.515625 30.90625 \nL 53.515625 0 \nL 44.484375 0 \nL 44.484375 32.71875 \nQ 44.484375 40.625 41.703125 44.40625 \nQ 38.921875 48.1875 33.109375 48.1875 \nQ 26.21875 48.1875 22.15625 43.53125 \nQ 18.109375 38.875 18.109375 30.90625 \nL 18.109375 0 \nL 9.078125 0 \nL 9.078125 54.6875 \nL 18.109375 54.6875 \nL 18.109375 46.1875 \nQ 21.1875 51.21875 25.484375 53.609375 \nQ 29.78125 56 35.6875 56 \nQ 41.65625 56 45.828125 52.96875 \nQ 50 49.953125 52 44.1875 \nz\n\" id=\"DejaVuSans-109\"/>\n     </defs>\n     <g transform=\"translate(297.664062 122.179375)scale(0.1 -0.1)\">\n      <use xlink:href=\"#DejaVuSans-109\"/>\n      <use x=\"97.412109\" xlink:href=\"#DejaVuSans-97\"/>\n      <use x=\"158.691406\" xlink:href=\"#DejaVuSans-105\"/>\n      <use x=\"186.474609\" xlink:href=\"#DejaVuSans-108\"/>\n      <use x=\"214.257812\" xlink:href=\"#DejaVuSans-46\"/>\n      <use x=\"246.044922\" xlink:href=\"#DejaVuSans-114\"/>\n      <use x=\"287.158203\" xlink:href=\"#DejaVuSans-117\"/>\n     </g>\n    </g>\n    <g id=\"line2d_48\">\n     <path d=\"M 269.664062 133.3575 \nL 289.664062 133.3575 \n\" style=\"fill:none;stroke:#d62728;stroke-linecap:square;stroke-width:1.5;\"/>\n    </g>\n    <g id=\"line2d_49\"/>\n    <g id=\"text_22\">\n     <!-- rambler.ru -->\n     <defs>\n      <path d=\"M 48.6875 27.296875 \nQ 48.6875 37.203125 44.609375 42.84375 \nQ 40.53125 48.484375 33.40625 48.484375 \nQ 26.265625 48.484375 22.1875 42.84375 \nQ 18.109375 37.203125 18.109375 27.296875 \nQ 18.109375 17.390625 22.1875 11.75 \nQ 26.265625 6.109375 33.40625 6.109375 \nQ 40.53125 6.109375 44.609375 11.75 \nQ 48.6875 17.390625 48.6875 27.296875 \nz\nM 18.109375 46.390625 \nQ 20.953125 51.265625 25.265625 53.625 \nQ 29.59375 56 35.59375 56 \nQ 45.5625 56 51.78125 48.09375 \nQ 58.015625 40.1875 58.015625 27.296875 \nQ 58.015625 14.40625 51.78125 6.484375 \nQ 45.5625 -1.421875 35.59375 -1.421875 \nQ 29.59375 -1.421875 25.265625 0.953125 \nQ 20.953125 3.328125 18.109375 8.203125 \nL 18.109375 0 \nL 9.078125 0 \nL 9.078125 75.984375 \nL 18.109375 75.984375 \nz\n\" id=\"DejaVuSans-98\"/>\n     </defs>\n     <g transform=\"translate(297.664062 136.8575)scale(0.1 -0.1)\">\n      <use xlink:href=\"#DejaVuSans-114\"/>\n      <use x=\"41.113281\" xlink:href=\"#DejaVuSans-97\"/>\n      <use x=\"102.392578\" xlink:href=\"#DejaVuSans-109\"/>\n      <use x=\"199.804688\" xlink:href=\"#DejaVuSans-98\"/>\n      <use x=\"263.28125\" xlink:href=\"#DejaVuSans-108\"/>\n      <use x=\"291.064453\" xlink:href=\"#DejaVuSans-101\"/>\n      <use x=\"352.587891\" xlink:href=\"#DejaVuSans-114\"/>\n      <use x=\"393.560547\" xlink:href=\"#DejaVuSans-46\"/>\n      <use x=\"425.347656\" xlink:href=\"#DejaVuSans-114\"/>\n      <use x=\"466.460938\" xlink:href=\"#DejaVuSans-117\"/>\n     </g>\n    </g>\n    <g id=\"line2d_50\">\n     <path d=\"M 269.664062 148.035625 \nL 289.664062 148.035625 \n\" style=\"fill:none;stroke:#9467bd;stroke-linecap:square;stroke-width:1.5;\"/>\n    </g>\n    <g id=\"line2d_51\"/>\n    <g id=\"text_23\">\n     <!-- yadro.ru -->\n     <defs>\n      <path d=\"M 30.609375 48.390625 \nQ 23.390625 48.390625 19.1875 42.75 \nQ 14.984375 37.109375 14.984375 27.296875 \nQ 14.984375 17.484375 19.15625 11.84375 \nQ 23.34375 6.203125 30.609375 6.203125 \nQ 37.796875 6.203125 41.984375 11.859375 \nQ 46.1875 17.53125 46.1875 27.296875 \nQ 46.1875 37.015625 41.984375 42.703125 \nQ 37.796875 48.390625 30.609375 48.390625 \nz\nM 30.609375 56 \nQ 42.328125 56 49.015625 48.375 \nQ 55.71875 40.765625 55.71875 27.296875 \nQ 55.71875 13.875 49.015625 6.21875 \nQ 42.328125 -1.421875 30.609375 -1.421875 \nQ 18.84375 -1.421875 12.171875 6.21875 \nQ 5.515625 13.875 5.515625 27.296875 \nQ 5.515625 40.765625 12.171875 48.375 \nQ 18.84375 56 30.609375 56 \nz\n\" id=\"DejaVuSans-111\"/>\n     </defs>\n     <g transform=\"translate(297.664062 151.535625)scale(0.1 -0.1)\">\n      <use xlink:href=\"#DejaVuSans-121\"/>\n      <use x=\"59.179688\" xlink:href=\"#DejaVuSans-97\"/>\n      <use x=\"120.458984\" xlink:href=\"#DejaVuSans-100\"/>\n      <use x=\"183.935547\" xlink:href=\"#DejaVuSans-114\"/>\n      <use x=\"225.017578\" xlink:href=\"#DejaVuSans-111\"/>\n      <use x=\"286.183594\" xlink:href=\"#DejaVuSans-46\"/>\n      <use x=\"317.970703\" xlink:href=\"#DejaVuSans-114\"/>\n      <use x=\"359.083984\" xlink:href=\"#DejaVuSans-117\"/>\n     </g>\n    </g>\n   </g>\n  </g>\n </g>\n <defs>\n  <clipPath id=\"pcbfc57a6af\">\n   <rect height=\"217.44\" width=\"334.8\" x=\"42.828125\" y=\"10.7\"/>\n  </clipPath>\n </defs>\n</svg>\n",
      "text/plain": [
       "<Figure size 432x288 with 1 Axes>"
      ]
     },
     "metadata": {
      "needs_background": "light"
     }
    },
    {
     "output_type": "display_data",
     "data": {
      "image/png": "[encoded data removed]",
      "image/svg+xml": "<?xml version=\"1.0\" encoding=\"utf-8\" standalone=\"no\"?>\n<!DOCTYPE svg PUBLIC \"-//W3C//DTD SVG 1.1//EN\"\n  \"http://www.w3.org/Graphics/SVG/1.1/DTD/svg11.dtd\">\n<!-- Created with matplotlib (https://matplotlib.org/) -->\n<svg height=\"280.515pt\" version=\"1.1\" viewBox=\"0 0 394.690625 280.515\" width=\"394.690625pt\" xmlns=\"http://www.w3.org/2000/svg\" xmlns:xlink=\"http://www.w3.org/1999/xlink\">\n <defs>\n  <style type=\"text/css\">\n*{stroke-linecap:butt;stroke-linejoin:round;}\n  </style>\n </defs>\n <g id=\"figure_1\">\n  <g id=\"patch_1\">\n   <path d=\"M 0 280.515 \nL 394.690625 280.515 \nL 394.690625 0 \nL 0 0 \nz\n\" style=\"fill:none;\"/>\n  </g>\n  <g id=\"axes_1\">\n   <g id=\"patch_2\">\n    <path d=\"M 49.190625 228.14 \nL 383.990625 228.14 \nL 383.990625 10.7 \nL 49.190625 10.7 \nz\n\" style=\"fill:#ffffff;\"/>\n   </g>\n   <g id=\"matplotlib.axis_1\">\n    <g id=\"xtick_1\">\n     <g id=\"line2d_1\">\n      <path clip-path=\"url(#p6b25d18e8e)\" d=\"M 64.408807 228.14 \nL 64.408807 10.7 \n\" style=\"fill:none;stroke:#b0b0b0;stroke-linecap:square;stroke-width:0.8;\"/>\n     </g>\n     <g id=\"line2d_2\">\n      <defs>\n       <path d=\"M 0 0 \nL 0 3.5 \n\" id=\"m40f99dd833\" style=\"stroke:#000000;stroke-width:0.8;\"/>\n      </defs>\n      <g>\n       <use style=\"stroke:#000000;stroke-width:0.8;\" x=\"64.408807\" xlink:href=\"#m40f99dd833\" y=\"228.14\"/>\n      </g>\n     </g>\n     <g id=\"text_1\">\n      <!-- 201407 -->\n      <defs>\n       <path d=\"M 19.1875 8.296875 \nL 53.609375 8.296875 \nL 53.609375 0 \nL 7.328125 0 \nL 7.328125 8.296875 \nQ 12.9375 14.109375 22.625 23.890625 \nQ 32.328125 33.6875 34.8125 36.53125 \nQ 39.546875 41.84375 41.421875 45.53125 \nQ 43.3125 49.21875 43.3125 52.78125 \nQ 43.3125 58.59375 39.234375 62.25 \nQ 35.15625 65.921875 28.609375 65.921875 \nQ 23.96875 65.921875 18.8125 64.3125 \nQ 13.671875 62.703125 7.8125 59.421875 \nL 7.8125 69.390625 \nQ 13.765625 71.78125 18.9375 73 \nQ 24.125 74.21875 28.421875 74.21875 \nQ 39.75 74.21875 46.484375 68.546875 \nQ 53.21875 62.890625 53.21875 53.421875 \nQ 53.21875 48.921875 51.53125 44.890625 \nQ 49.859375 40.875 45.40625 35.40625 \nQ 44.1875 33.984375 37.640625 27.21875 \nQ 31.109375 20.453125 19.1875 8.296875 \nz\n\" id=\"DejaVuSans-50\"/>\n       <path d=\"M 31.78125 66.40625 \nQ 24.171875 66.40625 20.328125 58.90625 \nQ 16.5 51.421875 16.5 36.375 \nQ 16.5 21.390625 20.328125 13.890625 \nQ 24.171875 6.390625 31.78125 6.390625 \nQ 39.453125 6.390625 43.28125 13.890625 \nQ 47.125 21.390625 47.125 36.375 \nQ 47.125 51.421875 43.28125 58.90625 \nQ 39.453125 66.40625 31.78125 66.40625 \nz\nM 31.78125 74.21875 \nQ 44.046875 74.21875 50.515625 64.515625 \nQ 56.984375 54.828125 56.984375 36.375 \nQ 56.984375 17.96875 50.515625 8.265625 \nQ 44.046875 -1.421875 31.78125 -1.421875 \nQ 19.53125 -1.421875 13.0625 8.265625 \nQ 6.59375 17.96875 6.59375 36.375 \nQ 6.59375 54.828125 13.0625 64.515625 \nQ 19.53125 74.21875 31.78125 74.21875 \nz\n\" id=\"DejaVuSans-48\"/>\n       <path d=\"M 12.40625 8.296875 \nL 28.515625 8.296875 \nL 28.515625 63.921875 \nL 10.984375 60.40625 \nL 10.984375 69.390625 \nL 28.421875 72.90625 \nL 38.28125 72.90625 \nL 38.28125 8.296875 \nL 54.390625 8.296875 \nL 54.390625 0 \nL 12.40625 0 \nz\n\" id=\"DejaVuSans-49\"/>\n       <path d=\"M 37.796875 64.3125 \nL 12.890625 25.390625 \nL 37.796875 25.390625 \nz\nM 35.203125 72.90625 \nL 47.609375 72.90625 \nL 47.609375 25.390625 \nL 58.015625 25.390625 \nL 58.015625 17.1875 \nL 47.609375 17.1875 \nL 47.609375 0 \nL 37.796875 0 \nL 37.796875 17.1875 \nL 4.890625 17.1875 \nL 4.890625 26.703125 \nz\n\" id=\"DejaVuSans-52\"/>\n       <path d=\"M 8.203125 72.90625 \nL 55.078125 72.90625 \nL 55.078125 68.703125 \nL 28.609375 0 \nL 18.3125 0 \nL 43.21875 64.59375 \nL 8.203125 64.59375 \nz\n\" id=\"DejaVuSans-55\"/>\n      </defs>\n      <g transform=\"translate(61.649432 235.14)rotate(-270)scale(0.1 -0.1)\">\n       <use xlink:href=\"#DejaVuSans-50\"/>\n       <use x=\"63.623047\" xlink:href=\"#DejaVuSans-48\"/>\n       <use x=\"127.246094\" xlink:href=\"#DejaVuSans-49\"/>\n       <use x=\"190.869141\" xlink:href=\"#DejaVuSans-52\"/>\n       <use x=\"254.492188\" xlink:href=\"#DejaVuSans-48\"/>\n       <use x=\"318.115234\" xlink:href=\"#DejaVuSans-55\"/>\n      </g>\n     </g>\n    </g>\n    <g id=\"xtick_2\">\n     <g id=\"line2d_3\">\n      <path clip-path=\"url(#p6b25d18e8e)\" d=\"M 87.821394 228.14 \nL 87.821394 10.7 \n\" style=\"fill:none;stroke:#b0b0b0;stroke-linecap:square;stroke-width:0.8;\"/>\n     </g>\n     <g id=\"line2d_4\">\n      <g>\n       <use style=\"stroke:#000000;stroke-width:0.8;\" x=\"87.821394\" xlink:href=\"#m40f99dd833\" y=\"228.14\"/>\n      </g>\n     </g>\n     <g id=\"text_2\">\n      <!-- 201501 -->\n      <defs>\n       <path d=\"M 10.796875 72.90625 \nL 49.515625 72.90625 \nL 49.515625 64.59375 \nL 19.828125 64.59375 \nL 19.828125 46.734375 \nQ 21.96875 47.46875 24.109375 47.828125 \nQ 26.265625 48.1875 28.421875 48.1875 \nQ 40.625 48.1875 47.75 41.5 \nQ 54.890625 34.8125 54.890625 23.390625 \nQ 54.890625 11.625 47.5625 5.09375 \nQ 40.234375 -1.421875 26.90625 -1.421875 \nQ 22.3125 -1.421875 17.546875 -0.640625 \nQ 12.796875 0.140625 7.71875 1.703125 \nL 7.71875 11.625 \nQ 12.109375 9.234375 16.796875 8.0625 \nQ 21.484375 6.890625 26.703125 6.890625 \nQ 35.15625 6.890625 40.078125 11.328125 \nQ 45.015625 15.765625 45.015625 23.390625 \nQ 45.015625 31 40.078125 35.4375 \nQ 35.15625 39.890625 26.703125 39.890625 \nQ 22.75 39.890625 18.8125 39.015625 \nQ 14.890625 38.140625 10.796875 36.28125 \nz\n\" id=\"DejaVuSans-53\"/>\n      </defs>\n      <g transform=\"translate(85.062019 235.14)rotate(-270)scale(0.1 -0.1)\">\n       <use xlink:href=\"#DejaVuSans-50\"/>\n       <use x=\"63.623047\" xlink:href=\"#DejaVuSans-48\"/>\n       <use x=\"127.246094\" xlink:href=\"#DejaVuSans-49\"/>\n       <use x=\"190.869141\" xlink:href=\"#DejaVuSans-53\"/>\n       <use x=\"254.492188\" xlink:href=\"#DejaVuSans-48\"/>\n       <use x=\"318.115234\" xlink:href=\"#DejaVuSans-49\"/>\n      </g>\n     </g>\n    </g>\n    <g id=\"xtick_3\">\n     <g id=\"line2d_5\">\n      <path clip-path=\"url(#p6b25d18e8e)\" d=\"M 111.233982 228.14 \nL 111.233982 10.7 \n\" style=\"fill:none;stroke:#b0b0b0;stroke-linecap:square;stroke-width:0.8;\"/>\n     </g>\n     <g id=\"line2d_6\">\n      <g>\n       <use style=\"stroke:#000000;stroke-width:0.8;\" x=\"111.233982\" xlink:href=\"#m40f99dd833\" y=\"228.14\"/>\n      </g>\n     </g>\n     <g id=\"text_3\">\n      <!-- 201507 -->\n      <g transform=\"translate(108.474607 235.14)rotate(-270)scale(0.1 -0.1)\">\n       <use xlink:href=\"#DejaVuSans-50\"/>\n       <use x=\"63.623047\" xlink:href=\"#DejaVuSans-48\"/>\n       <use x=\"127.246094\" xlink:href=\"#DejaVuSans-49\"/>\n       <use x=\"190.869141\" xlink:href=\"#DejaVuSans-53\"/>\n       <use x=\"254.492188\" xlink:href=\"#DejaVuSans-48\"/>\n       <use x=\"318.115234\" xlink:href=\"#DejaVuSans-55\"/>\n      </g>\n     </g>\n    </g>\n    <g id=\"xtick_4\">\n     <g id=\"line2d_7\">\n      <path clip-path=\"url(#p6b25d18e8e)\" d=\"M 134.646569 228.14 \nL 134.646569 10.7 \n\" style=\"fill:none;stroke:#b0b0b0;stroke-linecap:square;stroke-width:0.8;\"/>\n     </g>\n     <g id=\"line2d_8\">\n      <g>\n       <use style=\"stroke:#000000;stroke-width:0.8;\" x=\"134.646569\" xlink:href=\"#m40f99dd833\" y=\"228.14\"/>\n      </g>\n     </g>\n     <g id=\"text_4\">\n      <!-- 201602 -->\n      <defs>\n       <path d=\"M 33.015625 40.375 \nQ 26.375 40.375 22.484375 35.828125 \nQ 18.609375 31.296875 18.609375 23.390625 \nQ 18.609375 15.53125 22.484375 10.953125 \nQ 26.375 6.390625 33.015625 6.390625 \nQ 39.65625 6.390625 43.53125 10.953125 \nQ 47.40625 15.53125 47.40625 23.390625 \nQ 47.40625 31.296875 43.53125 35.828125 \nQ 39.65625 40.375 33.015625 40.375 \nz\nM 52.59375 71.296875 \nL 52.59375 62.3125 \nQ 48.875 64.0625 45.09375 64.984375 \nQ 41.3125 65.921875 37.59375 65.921875 \nQ 27.828125 65.921875 22.671875 59.328125 \nQ 17.53125 52.734375 16.796875 39.40625 \nQ 19.671875 43.65625 24.015625 45.921875 \nQ 28.375 48.1875 33.59375 48.1875 \nQ 44.578125 48.1875 50.953125 41.515625 \nQ 57.328125 34.859375 57.328125 23.390625 \nQ 57.328125 12.15625 50.6875 5.359375 \nQ 44.046875 -1.421875 33.015625 -1.421875 \nQ 20.359375 -1.421875 13.671875 8.265625 \nQ 6.984375 17.96875 6.984375 36.375 \nQ 6.984375 53.65625 15.1875 63.9375 \nQ 23.390625 74.21875 37.203125 74.21875 \nQ 40.921875 74.21875 44.703125 73.484375 \nQ 48.484375 72.75 52.59375 71.296875 \nz\n\" id=\"DejaVuSans-54\"/>\n      </defs>\n      <g transform=\"translate(131.887194 235.14)rotate(-270)scale(0.1 -0.1)\">\n       <use xlink:href=\"#DejaVuSans-50\"/>\n       <use x=\"63.623047\" xlink:href=\"#DejaVuSans-48\"/>\n       <use x=\"127.246094\" xlink:href=\"#DejaVuSans-49\"/>\n       <use x=\"190.869141\" xlink:href=\"#DejaVuSans-54\"/>\n       <use x=\"254.492188\" xlink:href=\"#DejaVuSans-48\"/>\n       <use x=\"318.115234\" xlink:href=\"#DejaVuSans-50\"/>\n      </g>\n     </g>\n    </g>\n    <g id=\"xtick_5\">\n     <g id=\"line2d_9\">\n      <path clip-path=\"url(#p6b25d18e8e)\" d=\"M 158.059156 228.14 \nL 158.059156 10.7 \n\" style=\"fill:none;stroke:#b0b0b0;stroke-linecap:square;stroke-width:0.8;\"/>\n     </g>\n     <g id=\"line2d_10\">\n      <g>\n       <use style=\"stroke:#000000;stroke-width:0.8;\" x=\"158.059156\" xlink:href=\"#m40f99dd833\" y=\"228.14\"/>\n      </g>\n     </g>\n     <g id=\"text_5\">\n      <!-- 201607 -->\n      <g transform=\"translate(155.299781 235.14)rotate(-270)scale(0.1 -0.1)\">\n       <use xlink:href=\"#DejaVuSans-50\"/>\n       <use x=\"63.623047\" xlink:href=\"#DejaVuSans-48\"/>\n       <use x=\"127.246094\" xlink:href=\"#DejaVuSans-49\"/>\n       <use x=\"190.869141\" xlink:href=\"#DejaVuSans-54\"/>\n       <use x=\"254.492188\" xlink:href=\"#DejaVuSans-48\"/>\n       <use x=\"318.115234\" xlink:href=\"#DejaVuSans-55\"/>\n      </g>\n     </g>\n    </g>\n    <g id=\"xtick_6\">\n     <g id=\"line2d_11\">\n      <path clip-path=\"url(#p6b25d18e8e)\" d=\"M 181.471744 228.14 \nL 181.471744 10.7 \n\" style=\"fill:none;stroke:#b0b0b0;stroke-linecap:square;stroke-width:0.8;\"/>\n     </g>\n     <g id=\"line2d_12\">\n      <g>\n       <use style=\"stroke:#000000;stroke-width:0.8;\" x=\"181.471744\" xlink:href=\"#m40f99dd833\" y=\"228.14\"/>\n      </g>\n     </g>\n     <g id=\"text_6\">\n      <!-- 201701 -->\n      <g transform=\"translate(178.712369 235.14)rotate(-270)scale(0.1 -0.1)\">\n       <use xlink:href=\"#DejaVuSans-50\"/>\n       <use x=\"63.623047\" xlink:href=\"#DejaVuSans-48\"/>\n       <use x=\"127.246094\" xlink:href=\"#DejaVuSans-49\"/>\n       <use x=\"190.869141\" xlink:href=\"#DejaVuSans-55\"/>\n       <use x=\"254.492188\" xlink:href=\"#DejaVuSans-48\"/>\n       <use x=\"318.115234\" xlink:href=\"#DejaVuSans-49\"/>\n      </g>\n     </g>\n    </g>\n    <g id=\"xtick_7\">\n     <g id=\"line2d_13\">\n      <path clip-path=\"url(#p6b25d18e8e)\" d=\"M 204.884331 228.14 \nL 204.884331 10.7 \n\" style=\"fill:none;stroke:#b0b0b0;stroke-linecap:square;stroke-width:0.8;\"/>\n     </g>\n     <g id=\"line2d_14\">\n      <g>\n       <use style=\"stroke:#000000;stroke-width:0.8;\" x=\"204.884331\" xlink:href=\"#m40f99dd833\" y=\"228.14\"/>\n      </g>\n     </g>\n     <g id=\"text_7\">\n      <!-- 201707 -->\n      <g transform=\"translate(202.124956 235.14)rotate(-270)scale(0.1 -0.1)\">\n       <use xlink:href=\"#DejaVuSans-50\"/>\n       <use x=\"63.623047\" xlink:href=\"#DejaVuSans-48\"/>\n       <use x=\"127.246094\" xlink:href=\"#DejaVuSans-49\"/>\n       <use x=\"190.869141\" xlink:href=\"#DejaVuSans-55\"/>\n       <use x=\"254.492188\" xlink:href=\"#DejaVuSans-48\"/>\n       <use x=\"318.115234\" xlink:href=\"#DejaVuSans-55\"/>\n      </g>\n     </g>\n    </g>\n    <g id=\"xtick_8\">\n     <g id=\"line2d_15\">\n      <path clip-path=\"url(#p6b25d18e8e)\" d=\"M 228.296919 228.14 \nL 228.296919 10.7 \n\" style=\"fill:none;stroke:#b0b0b0;stroke-linecap:square;stroke-width:0.8;\"/>\n     </g>\n     <g id=\"line2d_16\">\n      <g>\n       <use style=\"stroke:#000000;stroke-width:0.8;\" x=\"228.296919\" xlink:href=\"#m40f99dd833\" y=\"228.14\"/>\n      </g>\n     </g>\n     <g id=\"text_8\">\n      <!-- 201801 -->\n      <defs>\n       <path d=\"M 31.78125 34.625 \nQ 24.75 34.625 20.71875 30.859375 \nQ 16.703125 27.09375 16.703125 20.515625 \nQ 16.703125 13.921875 20.71875 10.15625 \nQ 24.75 6.390625 31.78125 6.390625 \nQ 38.8125 6.390625 42.859375 10.171875 \nQ 46.921875 13.96875 46.921875 20.515625 \nQ 46.921875 27.09375 42.890625 30.859375 \nQ 38.875 34.625 31.78125 34.625 \nz\nM 21.921875 38.8125 \nQ 15.578125 40.375 12.03125 44.71875 \nQ 8.5 49.078125 8.5 55.328125 \nQ 8.5 64.0625 14.71875 69.140625 \nQ 20.953125 74.21875 31.78125 74.21875 \nQ 42.671875 74.21875 48.875 69.140625 \nQ 55.078125 64.0625 55.078125 55.328125 \nQ 55.078125 49.078125 51.53125 44.71875 \nQ 48 40.375 41.703125 38.8125 \nQ 48.828125 37.15625 52.796875 32.3125 \nQ 56.78125 27.484375 56.78125 20.515625 \nQ 56.78125 9.90625 50.3125 4.234375 \nQ 43.84375 -1.421875 31.78125 -1.421875 \nQ 19.734375 -1.421875 13.25 4.234375 \nQ 6.78125 9.90625 6.78125 20.515625 \nQ 6.78125 27.484375 10.78125 32.3125 \nQ 14.796875 37.15625 21.921875 38.8125 \nz\nM 18.3125 54.390625 \nQ 18.3125 48.734375 21.84375 45.5625 \nQ 25.390625 42.390625 31.78125 42.390625 \nQ 38.140625 42.390625 41.71875 45.5625 \nQ 45.3125 48.734375 45.3125 54.390625 \nQ 45.3125 60.0625 41.71875 63.234375 \nQ 38.140625 66.40625 31.78125 66.40625 \nQ 25.390625 66.40625 21.84375 63.234375 \nQ 18.3125 60.0625 18.3125 54.390625 \nz\n\" id=\"DejaVuSans-56\"/>\n      </defs>\n      <g transform=\"translate(225.537544 235.14)rotate(-270)scale(0.1 -0.1)\">\n       <use xlink:href=\"#DejaVuSans-50\"/>\n       <use x=\"63.623047\" xlink:href=\"#DejaVuSans-48\"/>\n       <use x=\"127.246094\" xlink:href=\"#DejaVuSans-49\"/>\n       <use x=\"190.869141\" xlink:href=\"#DejaVuSans-56\"/>\n       <use x=\"254.492188\" xlink:href=\"#DejaVuSans-48\"/>\n       <use x=\"318.115234\" xlink:href=\"#DejaVuSans-49\"/>\n      </g>\n     </g>\n    </g>\n    <g id=\"xtick_9\">\n     <g id=\"line2d_17\">\n      <path clip-path=\"url(#p6b25d18e8e)\" d=\"M 251.709506 228.14 \nL 251.709506 10.7 \n\" style=\"fill:none;stroke:#b0b0b0;stroke-linecap:square;stroke-width:0.8;\"/>\n     </g>\n     <g id=\"line2d_18\">\n      <g>\n       <use style=\"stroke:#000000;stroke-width:0.8;\" x=\"251.709506\" xlink:href=\"#m40f99dd833\" y=\"228.14\"/>\n      </g>\n     </g>\n     <g id=\"text_9\">\n      <!-- 201807 -->\n      <g transform=\"translate(248.950131 235.14)rotate(-270)scale(0.1 -0.1)\">\n       <use xlink:href=\"#DejaVuSans-50\"/>\n       <use x=\"63.623047\" xlink:href=\"#DejaVuSans-48\"/>\n       <use x=\"127.246094\" xlink:href=\"#DejaVuSans-49\"/>\n       <use x=\"190.869141\" xlink:href=\"#DejaVuSans-56\"/>\n       <use x=\"254.492188\" xlink:href=\"#DejaVuSans-48\"/>\n       <use x=\"318.115234\" xlink:href=\"#DejaVuSans-55\"/>\n      </g>\n     </g>\n    </g>\n    <g id=\"xtick_10\">\n     <g id=\"line2d_19\">\n      <path clip-path=\"url(#p6b25d18e8e)\" d=\"M 275.122094 228.14 \nL 275.122094 10.7 \n\" style=\"fill:none;stroke:#b0b0b0;stroke-linecap:square;stroke-width:0.8;\"/>\n     </g>\n     <g id=\"line2d_20\">\n      <g>\n       <use style=\"stroke:#000000;stroke-width:0.8;\" x=\"275.122094\" xlink:href=\"#m40f99dd833\" y=\"228.14\"/>\n      </g>\n     </g>\n     <g id=\"text_10\">\n      <!-- 201901 -->\n      <defs>\n       <path d=\"M 10.984375 1.515625 \nL 10.984375 10.5 \nQ 14.703125 8.734375 18.5 7.8125 \nQ 22.3125 6.890625 25.984375 6.890625 \nQ 35.75 6.890625 40.890625 13.453125 \nQ 46.046875 20.015625 46.78125 33.40625 \nQ 43.953125 29.203125 39.59375 26.953125 \nQ 35.25 24.703125 29.984375 24.703125 \nQ 19.046875 24.703125 12.671875 31.3125 \nQ 6.296875 37.9375 6.296875 49.421875 \nQ 6.296875 60.640625 12.9375 67.421875 \nQ 19.578125 74.21875 30.609375 74.21875 \nQ 43.265625 74.21875 49.921875 64.515625 \nQ 56.59375 54.828125 56.59375 36.375 \nQ 56.59375 19.140625 48.40625 8.859375 \nQ 40.234375 -1.421875 26.421875 -1.421875 \nQ 22.703125 -1.421875 18.890625 -0.6875 \nQ 15.09375 0.046875 10.984375 1.515625 \nz\nM 30.609375 32.421875 \nQ 37.25 32.421875 41.125 36.953125 \nQ 45.015625 41.5 45.015625 49.421875 \nQ 45.015625 57.28125 41.125 61.84375 \nQ 37.25 66.40625 30.609375 66.40625 \nQ 23.96875 66.40625 20.09375 61.84375 \nQ 16.21875 57.28125 16.21875 49.421875 \nQ 16.21875 41.5 20.09375 36.953125 \nQ 23.96875 32.421875 30.609375 32.421875 \nz\n\" id=\"DejaVuSans-57\"/>\n      </defs>\n      <g transform=\"translate(272.362719 235.14)rotate(-270)scale(0.1 -0.1)\">\n       <use xlink:href=\"#DejaVuSans-50\"/>\n       <use x=\"63.623047\" xlink:href=\"#DejaVuSans-48\"/>\n       <use x=\"127.246094\" xlink:href=\"#DejaVuSans-49\"/>\n       <use x=\"190.869141\" xlink:href=\"#DejaVuSans-57\"/>\n       <use x=\"254.492188\" xlink:href=\"#DejaVuSans-48\"/>\n       <use x=\"318.115234\" xlink:href=\"#DejaVuSans-49\"/>\n      </g>\n     </g>\n    </g>\n    <g id=\"xtick_11\">\n     <g id=\"line2d_21\">\n      <path clip-path=\"url(#p6b25d18e8e)\" d=\"M 298.534681 228.14 \nL 298.534681 10.7 \n\" style=\"fill:none;stroke:#b0b0b0;stroke-linecap:square;stroke-width:0.8;\"/>\n     </g>\n     <g id=\"line2d_22\">\n      <g>\n       <use style=\"stroke:#000000;stroke-width:0.8;\" x=\"298.534681\" xlink:href=\"#m40f99dd833\" y=\"228.14\"/>\n      </g>\n     </g>\n     <g id=\"text_11\">\n      <!-- 201907 -->\n      <g transform=\"translate(295.775306 235.14)rotate(-270)scale(0.1 -0.1)\">\n       <use xlink:href=\"#DejaVuSans-50\"/>\n       <use x=\"63.623047\" xlink:href=\"#DejaVuSans-48\"/>\n       <use x=\"127.246094\" xlink:href=\"#DejaVuSans-49\"/>\n       <use x=\"190.869141\" xlink:href=\"#DejaVuSans-57\"/>\n       <use x=\"254.492188\" xlink:href=\"#DejaVuSans-48\"/>\n       <use x=\"318.115234\" xlink:href=\"#DejaVuSans-55\"/>\n      </g>\n     </g>\n    </g>\n    <g id=\"xtick_12\">\n     <g id=\"line2d_23\">\n      <path clip-path=\"url(#p6b25d18e8e)\" d=\"M 321.947268 228.14 \nL 321.947268 10.7 \n\" style=\"fill:none;stroke:#b0b0b0;stroke-linecap:square;stroke-width:0.8;\"/>\n     </g>\n     <g id=\"line2d_24\">\n      <g>\n       <use style=\"stroke:#000000;stroke-width:0.8;\" x=\"321.947268\" xlink:href=\"#m40f99dd833\" y=\"228.14\"/>\n      </g>\n     </g>\n     <g id=\"text_12\">\n      <!-- 202001 -->\n      <g transform=\"translate(319.187893 235.14)rotate(-270)scale(0.1 -0.1)\">\n       <use xlink:href=\"#DejaVuSans-50\"/>\n       <use x=\"63.623047\" xlink:href=\"#DejaVuSans-48\"/>\n       <use x=\"127.246094\" xlink:href=\"#DejaVuSans-50\"/>\n       <use x=\"190.869141\" xlink:href=\"#DejaVuSans-48\"/>\n       <use x=\"254.492188\" xlink:href=\"#DejaVuSans-48\"/>\n       <use x=\"318.115234\" xlink:href=\"#DejaVuSans-49\"/>\n      </g>\n     </g>\n    </g>\n    <g id=\"xtick_13\">\n     <g id=\"line2d_25\">\n      <path clip-path=\"url(#p6b25d18e8e)\" d=\"M 345.359856 228.14 \nL 345.359856 10.7 \n\" style=\"fill:none;stroke:#b0b0b0;stroke-linecap:square;stroke-width:0.8;\"/>\n     </g>\n     <g id=\"line2d_26\">\n      <g>\n       <use style=\"stroke:#000000;stroke-width:0.8;\" x=\"345.359856\" xlink:href=\"#m40f99dd833\" y=\"228.14\"/>\n      </g>\n     </g>\n     <g id=\"text_13\">\n      <!-- 202007 -->\n      <g transform=\"translate(342.600481 235.14)rotate(-270)scale(0.1 -0.1)\">\n       <use xlink:href=\"#DejaVuSans-50\"/>\n       <use x=\"63.623047\" xlink:href=\"#DejaVuSans-48\"/>\n       <use x=\"127.246094\" xlink:href=\"#DejaVuSans-50\"/>\n       <use x=\"190.869141\" xlink:href=\"#DejaVuSans-48\"/>\n       <use x=\"254.492188\" xlink:href=\"#DejaVuSans-48\"/>\n       <use x=\"318.115234\" xlink:href=\"#DejaVuSans-55\"/>\n      </g>\n     </g>\n    </g>\n    <g id=\"xtick_14\">\n     <g id=\"line2d_27\">\n      <path clip-path=\"url(#p6b25d18e8e)\" d=\"M 368.772443 228.14 \nL 368.772443 10.7 \n\" style=\"fill:none;stroke:#b0b0b0;stroke-linecap:square;stroke-width:0.8;\"/>\n     </g>\n     <g id=\"line2d_28\">\n      <g>\n       <use style=\"stroke:#000000;stroke-width:0.8;\" x=\"368.772443\" xlink:href=\"#m40f99dd833\" y=\"228.14\"/>\n      </g>\n     </g>\n     <g id=\"text_14\">\n      <!-- 202101 -->\n      <g transform=\"translate(366.013068 235.14)rotate(-270)scale(0.1 -0.1)\">\n       <use xlink:href=\"#DejaVuSans-50\"/>\n       <use x=\"63.623047\" xlink:href=\"#DejaVuSans-48\"/>\n       <use x=\"127.246094\" xlink:href=\"#DejaVuSans-50\"/>\n       <use x=\"190.869141\" xlink:href=\"#DejaVuSans-49\"/>\n       <use x=\"254.492188\" xlink:href=\"#DejaVuSans-48\"/>\n       <use x=\"318.115234\" xlink:href=\"#DejaVuSans-49\"/>\n      </g>\n     </g>\n    </g>\n   </g>\n   <g id=\"matplotlib.axis_2\">\n    <g id=\"ytick_1\">\n     <g id=\"line2d_29\">\n      <path clip-path=\"url(#p6b25d18e8e)\" d=\"M 49.190625 226.538505 \nL 383.990625 226.538505 \n\" style=\"fill:none;stroke:#b0b0b0;stroke-linecap:square;stroke-width:0.8;\"/>\n     </g>\n     <g id=\"line2d_30\">\n      <defs>\n       <path d=\"M 0 0 \nL -3.5 0 \n\" id=\"m703b22356f\" style=\"stroke:#000000;stroke-width:0.8;\"/>\n      </defs>\n      <g>\n       <use style=\"stroke:#000000;stroke-width:0.8;\" x=\"49.190625\" xlink:href=\"#m703b22356f\" y=\"226.538505\"/>\n      </g>\n     </g>\n     <g id=\"text_15\">\n      <!-- 0.0000 -->\n      <defs>\n       <path d=\"M 10.6875 12.40625 \nL 21 12.40625 \nL 21 0 \nL 10.6875 0 \nz\n\" id=\"DejaVuSans-46\"/>\n      </defs>\n      <g transform=\"translate(7.2 230.337724)scale(0.1 -0.1)\">\n       <use xlink:href=\"#DejaVuSans-48\"/>\n       <use x=\"63.623047\" xlink:href=\"#DejaVuSans-46\"/>\n       <use x=\"95.410156\" xlink:href=\"#DejaVuSans-48\"/>\n       <use x=\"159.033203\" xlink:href=\"#DejaVuSans-48\"/>\n       <use x=\"222.65625\" xlink:href=\"#DejaVuSans-48\"/>\n       <use x=\"286.279297\" xlink:href=\"#DejaVuSans-48\"/>\n      </g>\n     </g>\n    </g>\n    <g id=\"ytick_2\">\n     <g id=\"line2d_31\">\n      <path clip-path=\"url(#p6b25d18e8e)\" d=\"M 49.190625 201.852754 \nL 383.990625 201.852754 \n\" style=\"fill:none;stroke:#b0b0b0;stroke-linecap:square;stroke-width:0.8;\"/>\n     </g>\n     <g id=\"line2d_32\">\n      <g>\n       <use style=\"stroke:#000000;stroke-width:0.8;\" x=\"49.190625\" xlink:href=\"#m703b22356f\" y=\"201.852754\"/>\n      </g>\n     </g>\n     <g id=\"text_16\">\n      <!-- 0.0001 -->\n      <g transform=\"translate(7.2 205.651973)scale(0.1 -0.1)\">\n       <use xlink:href=\"#DejaVuSans-48\"/>\n       <use x=\"63.623047\" xlink:href=\"#DejaVuSans-46\"/>\n       <use x=\"95.410156\" xlink:href=\"#DejaVuSans-48\"/>\n       <use x=\"159.033203\" xlink:href=\"#DejaVuSans-48\"/>\n       <use x=\"222.65625\" xlink:href=\"#DejaVuSans-48\"/>\n       <use x=\"286.279297\" xlink:href=\"#DejaVuSans-49\"/>\n      </g>\n     </g>\n    </g>\n    <g id=\"ytick_3\">\n     <g id=\"line2d_33\">\n      <path clip-path=\"url(#p6b25d18e8e)\" d=\"M 49.190625 177.167004 \nL 383.990625 177.167004 \n\" style=\"fill:none;stroke:#b0b0b0;stroke-linecap:square;stroke-width:0.8;\"/>\n     </g>\n     <g id=\"line2d_34\">\n      <g>\n       <use style=\"stroke:#000000;stroke-width:0.8;\" x=\"49.190625\" xlink:href=\"#m703b22356f\" y=\"177.167004\"/>\n      </g>\n     </g>\n     <g id=\"text_17\">\n      <!-- 0.0002 -->\n      <g transform=\"translate(7.2 180.966223)scale(0.1 -0.1)\">\n       <use xlink:href=\"#DejaVuSans-48\"/>\n       <use x=\"63.623047\" xlink:href=\"#DejaVuSans-46\"/>\n       <use x=\"95.410156\" xlink:href=\"#DejaVuSans-48\"/>\n       <use x=\"159.033203\" xlink:href=\"#DejaVuSans-48\"/>\n       <use x=\"222.65625\" xlink:href=\"#DejaVuSans-48\"/>\n       <use x=\"286.279297\" xlink:href=\"#DejaVuSans-50\"/>\n      </g>\n     </g>\n    </g>\n    <g id=\"ytick_4\">\n     <g id=\"line2d_35\">\n      <path clip-path=\"url(#p6b25d18e8e)\" d=\"M 49.190625 152.481253 \nL 383.990625 152.481253 \n\" style=\"fill:none;stroke:#b0b0b0;stroke-linecap:square;stroke-width:0.8;\"/>\n     </g>\n     <g id=\"line2d_36\">\n      <g>\n       <use style=\"stroke:#000000;stroke-width:0.8;\" x=\"49.190625\" xlink:href=\"#m703b22356f\" y=\"152.481253\"/>\n      </g>\n     </g>\n     <g id=\"text_18\">\n      <!-- 0.0003 -->\n      <defs>\n       <path d=\"M 40.578125 39.3125 \nQ 47.65625 37.796875 51.625 33 \nQ 55.609375 28.21875 55.609375 21.1875 \nQ 55.609375 10.40625 48.1875 4.484375 \nQ 40.765625 -1.421875 27.09375 -1.421875 \nQ 22.515625 -1.421875 17.65625 -0.515625 \nQ 12.796875 0.390625 7.625 2.203125 \nL 7.625 11.71875 \nQ 11.71875 9.328125 16.59375 8.109375 \nQ 21.484375 6.890625 26.8125 6.890625 \nQ 36.078125 6.890625 40.9375 10.546875 \nQ 45.796875 14.203125 45.796875 21.1875 \nQ 45.796875 27.640625 41.28125 31.265625 \nQ 36.765625 34.90625 28.71875 34.90625 \nL 20.21875 34.90625 \nL 20.21875 43.015625 \nL 29.109375 43.015625 \nQ 36.375 43.015625 40.234375 45.921875 \nQ 44.09375 48.828125 44.09375 54.296875 \nQ 44.09375 59.90625 40.109375 62.90625 \nQ 36.140625 65.921875 28.71875 65.921875 \nQ 24.65625 65.921875 20.015625 65.03125 \nQ 15.375 64.15625 9.8125 62.3125 \nL 9.8125 71.09375 \nQ 15.4375 72.65625 20.34375 73.4375 \nQ 25.25 74.21875 29.59375 74.21875 \nQ 40.828125 74.21875 47.359375 69.109375 \nQ 53.90625 64.015625 53.90625 55.328125 \nQ 53.90625 49.265625 50.4375 45.09375 \nQ 46.96875 40.921875 40.578125 39.3125 \nz\n\" id=\"DejaVuSans-51\"/>\n      </defs>\n      <g transform=\"translate(7.2 156.280472)scale(0.1 -0.1)\">\n       <use xlink:href=\"#DejaVuSans-48\"/>\n       <use x=\"63.623047\" xlink:href=\"#DejaVuSans-46\"/>\n       <use x=\"95.410156\" xlink:href=\"#DejaVuSans-48\"/>\n       <use x=\"159.033203\" xlink:href=\"#DejaVuSans-48\"/>\n       <use x=\"222.65625\" xlink:href=\"#DejaVuSans-48\"/>\n       <use x=\"286.279297\" xlink:href=\"#DejaVuSans-51\"/>\n      </g>\n     </g>\n    </g>\n    <g id=\"ytick_5\">\n     <g id=\"line2d_37\">\n      <path clip-path=\"url(#p6b25d18e8e)\" d=\"M 49.190625 127.795503 \nL 383.990625 127.795503 \n\" style=\"fill:none;stroke:#b0b0b0;stroke-linecap:square;stroke-width:0.8;\"/>\n     </g>\n     <g id=\"line2d_38\">\n      <g>\n       <use style=\"stroke:#000000;stroke-width:0.8;\" x=\"49.190625\" xlink:href=\"#m703b22356f\" y=\"127.795503\"/>\n      </g>\n     </g>\n     <g id=\"text_19\">\n      <!-- 0.0004 -->\n      <g transform=\"translate(7.2 131.594722)scale(0.1 -0.1)\">\n       <use xlink:href=\"#DejaVuSans-48\"/>\n       <use x=\"63.623047\" xlink:href=\"#DejaVuSans-46\"/>\n       <use x=\"95.410156\" xlink:href=\"#DejaVuSans-48\"/>\n       <use x=\"159.033203\" xlink:href=\"#DejaVuSans-48\"/>\n       <use x=\"222.65625\" xlink:href=\"#DejaVuSans-48\"/>\n       <use x=\"286.279297\" xlink:href=\"#DejaVuSans-52\"/>\n      </g>\n     </g>\n    </g>\n    <g id=\"ytick_6\">\n     <g id=\"line2d_39\">\n      <path clip-path=\"url(#p6b25d18e8e)\" d=\"M 49.190625 103.109752 \nL 383.990625 103.109752 \n\" style=\"fill:none;stroke:#b0b0b0;stroke-linecap:square;stroke-width:0.8;\"/>\n     </g>\n     <g id=\"line2d_40\">\n      <g>\n       <use style=\"stroke:#000000;stroke-width:0.8;\" x=\"49.190625\" xlink:href=\"#m703b22356f\" y=\"103.109752\"/>\n      </g>\n     </g>\n     <g id=\"text_20\">\n      <!-- 0.0005 -->\n      <g transform=\"translate(7.2 106.908971)scale(0.1 -0.1)\">\n       <use xlink:href=\"#DejaVuSans-48\"/>\n       <use x=\"63.623047\" xlink:href=\"#DejaVuSans-46\"/>\n       <use x=\"95.410156\" xlink:href=\"#DejaVuSans-48\"/>\n       <use x=\"159.033203\" xlink:href=\"#DejaVuSans-48\"/>\n       <use x=\"222.65625\" xlink:href=\"#DejaVuSans-48\"/>\n       <use x=\"286.279297\" xlink:href=\"#DejaVuSans-53\"/>\n      </g>\n     </g>\n    </g>\n    <g id=\"ytick_7\">\n     <g id=\"line2d_41\">\n      <path clip-path=\"url(#p6b25d18e8e)\" d=\"M 49.190625 78.424002 \nL 383.990625 78.424002 \n\" style=\"fill:none;stroke:#b0b0b0;stroke-linecap:square;stroke-width:0.8;\"/>\n     </g>\n     <g id=\"line2d_42\">\n      <g>\n       <use style=\"stroke:#000000;stroke-width:0.8;\" x=\"49.190625\" xlink:href=\"#m703b22356f\" y=\"78.424002\"/>\n      </g>\n     </g>\n     <g id=\"text_21\">\n      <!-- 0.0006 -->\n      <g transform=\"translate(7.2 82.22322)scale(0.1 -0.1)\">\n       <use xlink:href=\"#DejaVuSans-48\"/>\n       <use x=\"63.623047\" xlink:href=\"#DejaVuSans-46\"/>\n       <use x=\"95.410156\" xlink:href=\"#DejaVuSans-48\"/>\n       <use x=\"159.033203\" xlink:href=\"#DejaVuSans-48\"/>\n       <use x=\"222.65625\" xlink:href=\"#DejaVuSans-48\"/>\n       <use x=\"286.279297\" xlink:href=\"#DejaVuSans-54\"/>\n      </g>\n     </g>\n    </g>\n    <g id=\"ytick_8\">\n     <g id=\"line2d_43\">\n      <path clip-path=\"url(#p6b25d18e8e)\" d=\"M 49.190625 53.738251 \nL 383.990625 53.738251 \n\" style=\"fill:none;stroke:#b0b0b0;stroke-linecap:square;stroke-width:0.8;\"/>\n     </g>\n     <g id=\"line2d_44\">\n      <g>\n       <use style=\"stroke:#000000;stroke-width:0.8;\" x=\"49.190625\" xlink:href=\"#m703b22356f\" y=\"53.738251\"/>\n      </g>\n     </g>\n     <g id=\"text_22\">\n      <!-- 0.0007 -->\n      <g transform=\"translate(7.2 57.53747)scale(0.1 -0.1)\">\n       <use xlink:href=\"#DejaVuSans-48\"/>\n       <use x=\"63.623047\" xlink:href=\"#DejaVuSans-46\"/>\n       <use x=\"95.410156\" xlink:href=\"#DejaVuSans-48\"/>\n       <use x=\"159.033203\" xlink:href=\"#DejaVuSans-48\"/>\n       <use x=\"222.65625\" xlink:href=\"#DejaVuSans-48\"/>\n       <use x=\"286.279297\" xlink:href=\"#DejaVuSans-55\"/>\n      </g>\n     </g>\n    </g>\n    <g id=\"ytick_9\">\n     <g id=\"line2d_45\">\n      <path clip-path=\"url(#p6b25d18e8e)\" d=\"M 49.190625 29.052501 \nL 383.990625 29.052501 \n\" style=\"fill:none;stroke:#b0b0b0;stroke-linecap:square;stroke-width:0.8;\"/>\n     </g>\n     <g id=\"line2d_46\">\n      <g>\n       <use style=\"stroke:#000000;stroke-width:0.8;\" x=\"49.190625\" xlink:href=\"#m703b22356f\" y=\"29.052501\"/>\n      </g>\n     </g>\n     <g id=\"text_23\">\n      <!-- 0.0008 -->\n      <g transform=\"translate(7.2 32.851719)scale(0.1 -0.1)\">\n       <use xlink:href=\"#DejaVuSans-48\"/>\n       <use x=\"63.623047\" xlink:href=\"#DejaVuSans-46\"/>\n       <use x=\"95.410156\" xlink:href=\"#DejaVuSans-48\"/>\n       <use x=\"159.033203\" xlink:href=\"#DejaVuSans-48\"/>\n       <use x=\"222.65625\" xlink:href=\"#DejaVuSans-48\"/>\n       <use x=\"286.279297\" xlink:href=\"#DejaVuSans-56\"/>\n      </g>\n     </g>\n    </g>\n   </g>\n   <g id=\"line2d_47\">\n    <path clip-path=\"url(#p6b25d18e8e)\" d=\"M 64.408807 182.576525 \nL 87.821394 215.405257 \nL 111.233982 215.705245 \nL 134.646569 194.238587 \nL 158.059156 206.872502 \nL 181.471744 199.354549 \nL 204.884331 190.725723 \nL 228.296919 200.219203 \nL 251.709506 184.013526 \nL 275.122094 201.66287 \nL 298.534681 193.40994 \nL 321.947268 185.347531 \nL 345.359856 185.12085 \nL 368.772443 192.649291 \n\" style=\"fill:none;stroke:#1f77b4;stroke-linecap:square;stroke-width:1.5;\"/>\n   </g>\n   <g id=\"line2d_48\">\n    <path clip-path=\"url(#p6b25d18e8e)\" d=\"M 64.408807 193.56702 \nL 87.821394 193.138761 \nL 111.233982 194.038724 \nL 134.646569 183.471948 \nL 158.059156 157.707494 \nL 181.471744 72.496087 \nL 204.884331 83.287377 \nL 228.296919 77.395794 \nL 251.709506 47.933591 \nL 275.122094 44.117185 \nL 298.534681 44.331395 \nL 321.947268 20.583636 \nL 345.359856 77.434948 \nL 368.772443 40.147829 \n\" style=\"fill:none;stroke:#ff7f0e;stroke-linecap:square;stroke-width:1.5;\"/>\n   </g>\n   <g id=\"line2d_49\">\n    <path clip-path=\"url(#p6b25d18e8e)\" d=\"M 64.408807 215.54801 \nL 87.821394 215.405257 \nL 111.233982 215.705245 \nL 134.646569 215.771866 \nL 158.059156 197.0395 \nL 181.471744 199.354549 \nL 204.884331 199.678919 \nL 228.296919 191.446102 \nL 251.709506 167.003534 \nL 275.122094 168.495358 \nL 298.534681 168.563515 \nL 321.947268 177.109337 \nL 345.359856 185.12085 \nL 368.772443 184.176988 \n\" style=\"fill:none;stroke:#2ca02c;stroke-linecap:square;stroke-width:1.5;\"/>\n   </g>\n   <g id=\"line2d_50\">\n    <path clip-path=\"url(#p6b25d18e8e)\" d=\"M 64.408807 215.54801 \nL 87.821394 193.138761 \nL 111.233982 215.705245 \nL 134.646569 205.005226 \nL 158.059156 187.206499 \nL 181.471744 181.231911 \nL 204.884331 208.632114 \nL 228.296919 200.219203 \nL 251.709506 201.023517 \nL 275.122094 176.787236 \nL 298.534681 176.845657 \nL 321.947268 160.632947 \nL 345.359856 127.136134 \nL 368.772443 124.870864 \n\" style=\"fill:none;stroke:#d62728;stroke-linecap:square;stroke-width:1.5;\"/>\n   </g>\n   <g id=\"line2d_51\">\n    <path clip-path=\"url(#p6b25d18e8e)\" d=\"M 228.296919 217.765404 \nM 298.534681 218.256364 \nM 368.772443 218.066202 \n\" style=\"fill:none;stroke:#9467bd;stroke-linecap:square;stroke-width:1.5;\"/>\n   </g>\n   <g id=\"patch_3\">\n    <path d=\"M 49.190625 228.14 \nL 49.190625 10.7 \n\" style=\"fill:none;stroke:#000000;stroke-linecap:square;stroke-linejoin:miter;stroke-width:0.8;\"/>\n   </g>\n   <g id=\"patch_4\">\n    <path d=\"M 383.990625 228.14 \nL 383.990625 10.7 \n\" style=\"fill:none;stroke:#000000;stroke-linecap:square;stroke-linejoin:miter;stroke-width:0.8;\"/>\n   </g>\n   <g id=\"patch_5\">\n    <path d=\"M 49.190625 228.14 \nL 383.990625 228.14 \n\" style=\"fill:none;stroke:#000000;stroke-linecap:square;stroke-linejoin:miter;stroke-width:0.8;\"/>\n   </g>\n   <g id=\"patch_6\">\n    <path d=\"M 49.190625 10.7 \nL 383.990625 10.7 \n\" style=\"fill:none;stroke:#000000;stroke-linecap:square;stroke-linejoin:miter;stroke-width:0.8;\"/>\n   </g>\n   <g id=\"legend_1\">\n    <g id=\"patch_7\">\n     <path d=\"M 56.190625 157.615313 \nL 193.053125 157.615313 \nQ 195.053125 157.615313 195.053125 155.615313 \nL 195.053125 83.224688 \nQ 195.053125 81.224688 193.053125 81.224688 \nL 56.190625 81.224688 \nQ 54.190625 81.224688 54.190625 83.224688 \nL 54.190625 155.615313 \nQ 54.190625 157.615313 56.190625 157.615313 \nz\n\" style=\"fill:#ffffff;opacity:0.8;stroke:#cccccc;stroke-linejoin:miter;\"/>\n    </g>\n    <g id=\"line2d_52\">\n     <path d=\"M 58.190625 89.323125 \nL 78.190625 89.323125 \n\" style=\"fill:none;stroke:#1f77b4;stroke-linecap:square;stroke-width:1.5;\"/>\n    </g>\n    <g id=\"line2d_53\"/>\n    <g id=\"text_24\">\n     <!-- shinobi.jp -->\n     <defs>\n      <path d=\"M 44.28125 53.078125 \nL 44.28125 44.578125 \nQ 40.484375 46.53125 36.375 47.5 \nQ 32.28125 48.484375 27.875 48.484375 \nQ 21.1875 48.484375 17.84375 46.4375 \nQ 14.5 44.390625 14.5 40.28125 \nQ 14.5 37.15625 16.890625 35.375 \nQ 19.28125 33.59375 26.515625 31.984375 \nL 29.59375 31.296875 \nQ 39.15625 29.25 43.1875 25.515625 \nQ 47.21875 21.78125 47.21875 15.09375 \nQ 47.21875 7.46875 41.1875 3.015625 \nQ 35.15625 -1.421875 24.609375 -1.421875 \nQ 20.21875 -1.421875 15.453125 -0.5625 \nQ 10.6875 0.296875 5.421875 2 \nL 5.421875 11.28125 \nQ 10.40625 8.6875 15.234375 7.390625 \nQ 20.0625 6.109375 24.8125 6.109375 \nQ 31.15625 6.109375 34.5625 8.28125 \nQ 37.984375 10.453125 37.984375 14.40625 \nQ 37.984375 18.0625 35.515625 20.015625 \nQ 33.0625 21.96875 24.703125 23.78125 \nL 21.578125 24.515625 \nQ 13.234375 26.265625 9.515625 29.90625 \nQ 5.8125 33.546875 5.8125 39.890625 \nQ 5.8125 47.609375 11.28125 51.796875 \nQ 16.75 56 26.8125 56 \nQ 31.78125 56 36.171875 55.265625 \nQ 40.578125 54.546875 44.28125 53.078125 \nz\n\" id=\"DejaVuSans-115\"/>\n      <path d=\"M 54.890625 33.015625 \nL 54.890625 0 \nL 45.90625 0 \nL 45.90625 32.71875 \nQ 45.90625 40.484375 42.875 44.328125 \nQ 39.84375 48.1875 33.796875 48.1875 \nQ 26.515625 48.1875 22.3125 43.546875 \nQ 18.109375 38.921875 18.109375 30.90625 \nL 18.109375 0 \nL 9.078125 0 \nL 9.078125 75.984375 \nL 18.109375 75.984375 \nL 18.109375 46.1875 \nQ 21.34375 51.125 25.703125 53.5625 \nQ 30.078125 56 35.796875 56 \nQ 45.21875 56 50.046875 50.171875 \nQ 54.890625 44.34375 54.890625 33.015625 \nz\n\" id=\"DejaVuSans-104\"/>\n      <path d=\"M 9.421875 54.6875 \nL 18.40625 54.6875 \nL 18.40625 0 \nL 9.421875 0 \nz\nM 9.421875 75.984375 \nL 18.40625 75.984375 \nL 18.40625 64.59375 \nL 9.421875 64.59375 \nz\n\" id=\"DejaVuSans-105\"/>\n      <path d=\"M 54.890625 33.015625 \nL 54.890625 0 \nL 45.90625 0 \nL 45.90625 32.71875 \nQ 45.90625 40.484375 42.875 44.328125 \nQ 39.84375 48.1875 33.796875 48.1875 \nQ 26.515625 48.1875 22.3125 43.546875 \nQ 18.109375 38.921875 18.109375 30.90625 \nL 18.109375 0 \nL 9.078125 0 \nL 9.078125 54.6875 \nL 18.109375 54.6875 \nL 18.109375 46.1875 \nQ 21.34375 51.125 25.703125 53.5625 \nQ 30.078125 56 35.796875 56 \nQ 45.21875 56 50.046875 50.171875 \nQ 54.890625 44.34375 54.890625 33.015625 \nz\n\" id=\"DejaVuSans-110\"/>\n      <path d=\"M 30.609375 48.390625 \nQ 23.390625 48.390625 19.1875 42.75 \nQ 14.984375 37.109375 14.984375 27.296875 \nQ 14.984375 17.484375 19.15625 11.84375 \nQ 23.34375 6.203125 30.609375 6.203125 \nQ 37.796875 6.203125 41.984375 11.859375 \nQ 46.1875 17.53125 46.1875 27.296875 \nQ 46.1875 37.015625 41.984375 42.703125 \nQ 37.796875 48.390625 30.609375 48.390625 \nz\nM 30.609375 56 \nQ 42.328125 56 49.015625 48.375 \nQ 55.71875 40.765625 55.71875 27.296875 \nQ 55.71875 13.875 49.015625 6.21875 \nQ 42.328125 -1.421875 30.609375 -1.421875 \nQ 18.84375 -1.421875 12.171875 6.21875 \nQ 5.515625 13.875 5.515625 27.296875 \nQ 5.515625 40.765625 12.171875 48.375 \nQ 18.84375 56 30.609375 56 \nz\n\" id=\"DejaVuSans-111\"/>\n      <path d=\"M 48.6875 27.296875 \nQ 48.6875 37.203125 44.609375 42.84375 \nQ 40.53125 48.484375 33.40625 48.484375 \nQ 26.265625 48.484375 22.1875 42.84375 \nQ 18.109375 37.203125 18.109375 27.296875 \nQ 18.109375 17.390625 22.1875 11.75 \nQ 26.265625 6.109375 33.40625 6.109375 \nQ 40.53125 6.109375 44.609375 11.75 \nQ 48.6875 17.390625 48.6875 27.296875 \nz\nM 18.109375 46.390625 \nQ 20.953125 51.265625 25.265625 53.625 \nQ 29.59375 56 35.59375 56 \nQ 45.5625 56 51.78125 48.09375 \nQ 58.015625 40.1875 58.015625 27.296875 \nQ 58.015625 14.40625 51.78125 6.484375 \nQ 45.5625 -1.421875 35.59375 -1.421875 \nQ 29.59375 -1.421875 25.265625 0.953125 \nQ 20.953125 3.328125 18.109375 8.203125 \nL 18.109375 0 \nL 9.078125 0 \nL 9.078125 75.984375 \nL 18.109375 75.984375 \nz\n\" id=\"DejaVuSans-98\"/>\n      <path d=\"M 9.421875 54.6875 \nL 18.40625 54.6875 \nL 18.40625 -0.984375 \nQ 18.40625 -11.421875 14.421875 -16.109375 \nQ 10.453125 -20.796875 1.609375 -20.796875 \nL -1.8125 -20.796875 \nL -1.8125 -13.1875 \nL 0.59375 -13.1875 \nQ 5.71875 -13.1875 7.5625 -10.8125 \nQ 9.421875 -8.453125 9.421875 -0.984375 \nz\nM 9.421875 75.984375 \nL 18.40625 75.984375 \nL 18.40625 64.59375 \nL 9.421875 64.59375 \nz\n\" id=\"DejaVuSans-106\"/>\n      <path d=\"M 18.109375 8.203125 \nL 18.109375 -20.796875 \nL 9.078125 -20.796875 \nL 9.078125 54.6875 \nL 18.109375 54.6875 \nL 18.109375 46.390625 \nQ 20.953125 51.265625 25.265625 53.625 \nQ 29.59375 56 35.59375 56 \nQ 45.5625 56 51.78125 48.09375 \nQ 58.015625 40.1875 58.015625 27.296875 \nQ 58.015625 14.40625 51.78125 6.484375 \nQ 45.5625 -1.421875 35.59375 -1.421875 \nQ 29.59375 -1.421875 25.265625 0.953125 \nQ 20.953125 3.328125 18.109375 8.203125 \nz\nM 48.6875 27.296875 \nQ 48.6875 37.203125 44.609375 42.84375 \nQ 40.53125 48.484375 33.40625 48.484375 \nQ 26.265625 48.484375 22.1875 42.84375 \nQ 18.109375 37.203125 18.109375 27.296875 \nQ 18.109375 17.390625 22.1875 11.75 \nQ 26.265625 6.109375 33.40625 6.109375 \nQ 40.53125 6.109375 44.609375 11.75 \nQ 48.6875 17.390625 48.6875 27.296875 \nz\n\" id=\"DejaVuSans-112\"/>\n     </defs>\n     <g transform=\"translate(86.190625 92.823125)scale(0.1 -0.1)\">\n      <use xlink:href=\"#DejaVuSans-115\"/>\n      <use x=\"52.099609\" xlink:href=\"#DejaVuSans-104\"/>\n      <use x=\"115.478516\" xlink:href=\"#DejaVuSans-105\"/>\n      <use x=\"143.261719\" xlink:href=\"#DejaVuSans-110\"/>\n      <use x=\"206.640625\" xlink:href=\"#DejaVuSans-111\"/>\n      <use x=\"267.822266\" xlink:href=\"#DejaVuSans-98\"/>\n      <use x=\"331.298828\" xlink:href=\"#DejaVuSans-105\"/>\n      <use x=\"359.082031\" xlink:href=\"#DejaVuSans-46\"/>\n      <use x=\"390.869141\" xlink:href=\"#DejaVuSans-106\"/>\n      <use x=\"418.652344\" xlink:href=\"#DejaVuSans-112\"/>\n     </g>\n    </g>\n    <g id=\"line2d_54\">\n     <path d=\"M 58.190625 104.00125 \nL 78.190625 104.00125 \n\" style=\"fill:none;stroke:#ff7f0e;stroke-linecap:square;stroke-width:1.5;\"/>\n    </g>\n    <g id=\"line2d_55\"/>\n    <g id=\"text_25\">\n     <!-- st-hatena.com -->\n     <defs>\n      <path d=\"M 18.3125 70.21875 \nL 18.3125 54.6875 \nL 36.8125 54.6875 \nL 36.8125 47.703125 \nL 18.3125 47.703125 \nL 18.3125 18.015625 \nQ 18.3125 11.328125 20.140625 9.421875 \nQ 21.96875 7.515625 27.59375 7.515625 \nL 36.8125 7.515625 \nL 36.8125 0 \nL 27.59375 0 \nQ 17.1875 0 13.234375 3.875 \nQ 9.28125 7.765625 9.28125 18.015625 \nL 9.28125 47.703125 \nL 2.6875 47.703125 \nL 2.6875 54.6875 \nL 9.28125 54.6875 \nL 9.28125 70.21875 \nz\n\" id=\"DejaVuSans-116\"/>\n      <path d=\"M 4.890625 31.390625 \nL 31.203125 31.390625 \nL 31.203125 23.390625 \nL 4.890625 23.390625 \nz\n\" id=\"DejaVuSans-45\"/>\n      <path d=\"M 34.28125 27.484375 \nQ 23.390625 27.484375 19.1875 25 \nQ 14.984375 22.515625 14.984375 16.5 \nQ 14.984375 11.71875 18.140625 8.90625 \nQ 21.296875 6.109375 26.703125 6.109375 \nQ 34.1875 6.109375 38.703125 11.40625 \nQ 43.21875 16.703125 43.21875 25.484375 \nL 43.21875 27.484375 \nz\nM 52.203125 31.203125 \nL 52.203125 0 \nL 43.21875 0 \nL 43.21875 8.296875 \nQ 40.140625 3.328125 35.546875 0.953125 \nQ 30.953125 -1.421875 24.3125 -1.421875 \nQ 15.921875 -1.421875 10.953125 3.296875 \nQ 6 8.015625 6 15.921875 \nQ 6 25.140625 12.171875 29.828125 \nQ 18.359375 34.515625 30.609375 34.515625 \nL 43.21875 34.515625 \nL 43.21875 35.40625 \nQ 43.21875 41.609375 39.140625 45 \nQ 35.0625 48.390625 27.6875 48.390625 \nQ 23 48.390625 18.546875 47.265625 \nQ 14.109375 46.140625 10.015625 43.890625 \nL 10.015625 52.203125 \nQ 14.9375 54.109375 19.578125 55.046875 \nQ 24.21875 56 28.609375 56 \nQ 40.484375 56 46.34375 49.84375 \nQ 52.203125 43.703125 52.203125 31.203125 \nz\n\" id=\"DejaVuSans-97\"/>\n      <path d=\"M 56.203125 29.59375 \nL 56.203125 25.203125 \nL 14.890625 25.203125 \nQ 15.484375 15.921875 20.484375 11.0625 \nQ 25.484375 6.203125 34.421875 6.203125 \nQ 39.59375 6.203125 44.453125 7.46875 \nQ 49.3125 8.734375 54.109375 11.28125 \nL 54.109375 2.78125 \nQ 49.265625 0.734375 44.1875 -0.34375 \nQ 39.109375 -1.421875 33.890625 -1.421875 \nQ 20.796875 -1.421875 13.15625 6.1875 \nQ 5.515625 13.8125 5.515625 26.8125 \nQ 5.515625 40.234375 12.765625 48.109375 \nQ 20.015625 56 32.328125 56 \nQ 43.359375 56 49.78125 48.890625 \nQ 56.203125 41.796875 56.203125 29.59375 \nz\nM 47.21875 32.234375 \nQ 47.125 39.59375 43.09375 43.984375 \nQ 39.0625 48.390625 32.421875 48.390625 \nQ 24.90625 48.390625 20.390625 44.140625 \nQ 15.875 39.890625 15.1875 32.171875 \nz\n\" id=\"DejaVuSans-101\"/>\n      <path d=\"M 48.78125 52.59375 \nL 48.78125 44.1875 \nQ 44.96875 46.296875 41.140625 47.34375 \nQ 37.3125 48.390625 33.40625 48.390625 \nQ 24.65625 48.390625 19.8125 42.84375 \nQ 14.984375 37.3125 14.984375 27.296875 \nQ 14.984375 17.28125 19.8125 11.734375 \nQ 24.65625 6.203125 33.40625 6.203125 \nQ 37.3125 6.203125 41.140625 7.25 \nQ 44.96875 8.296875 48.78125 10.40625 \nL 48.78125 2.09375 \nQ 45.015625 0.34375 40.984375 -0.53125 \nQ 36.96875 -1.421875 32.421875 -1.421875 \nQ 20.0625 -1.421875 12.78125 6.34375 \nQ 5.515625 14.109375 5.515625 27.296875 \nQ 5.515625 40.671875 12.859375 48.328125 \nQ 20.21875 56 33.015625 56 \nQ 37.15625 56 41.109375 55.140625 \nQ 45.0625 54.296875 48.78125 52.59375 \nz\n\" id=\"DejaVuSans-99\"/>\n      <path d=\"M 52 44.1875 \nQ 55.375 50.25 60.0625 53.125 \nQ 64.75 56 71.09375 56 \nQ 79.640625 56 84.28125 50.015625 \nQ 88.921875 44.046875 88.921875 33.015625 \nL 88.921875 0 \nL 79.890625 0 \nL 79.890625 32.71875 \nQ 79.890625 40.578125 77.09375 44.375 \nQ 74.3125 48.1875 68.609375 48.1875 \nQ 61.625 48.1875 57.5625 43.546875 \nQ 53.515625 38.921875 53.515625 30.90625 \nL 53.515625 0 \nL 44.484375 0 \nL 44.484375 32.71875 \nQ 44.484375 40.625 41.703125 44.40625 \nQ 38.921875 48.1875 33.109375 48.1875 \nQ 26.21875 48.1875 22.15625 43.53125 \nQ 18.109375 38.875 18.109375 30.90625 \nL 18.109375 0 \nL 9.078125 0 \nL 9.078125 54.6875 \nL 18.109375 54.6875 \nL 18.109375 46.1875 \nQ 21.1875 51.21875 25.484375 53.609375 \nQ 29.78125 56 35.6875 56 \nQ 41.65625 56 45.828125 52.96875 \nQ 50 49.953125 52 44.1875 \nz\n\" id=\"DejaVuSans-109\"/>\n     </defs>\n     <g transform=\"translate(86.190625 107.50125)scale(0.1 -0.1)\">\n      <use xlink:href=\"#DejaVuSans-115\"/>\n      <use x=\"52.099609\" xlink:href=\"#DejaVuSans-116\"/>\n      <use x=\"91.308594\" xlink:href=\"#DejaVuSans-45\"/>\n      <use x=\"127.392578\" xlink:href=\"#DejaVuSans-104\"/>\n      <use x=\"190.771484\" xlink:href=\"#DejaVuSans-97\"/>\n      <use x=\"252.050781\" xlink:href=\"#DejaVuSans-116\"/>\n      <use x=\"291.259766\" xlink:href=\"#DejaVuSans-101\"/>\n      <use x=\"352.783203\" xlink:href=\"#DejaVuSans-110\"/>\n      <use x=\"416.162109\" xlink:href=\"#DejaVuSans-97\"/>\n      <use x=\"477.441406\" xlink:href=\"#DejaVuSans-46\"/>\n      <use x=\"509.228516\" xlink:href=\"#DejaVuSans-99\"/>\n      <use x=\"564.208984\" xlink:href=\"#DejaVuSans-111\"/>\n      <use x=\"625.390625\" xlink:href=\"#DejaVuSans-109\"/>\n     </g>\n    </g>\n    <g id=\"line2d_56\">\n     <path d=\"M 58.190625 118.679375 \nL 78.190625 118.679375 \n\" style=\"fill:none;stroke:#2ca02c;stroke-linecap:square;stroke-width:1.5;\"/>\n    </g>\n    <g id=\"line2d_57\"/>\n    <g id=\"text_26\">\n     <!-- a8.net -->\n     <g transform=\"translate(86.190625 122.179375)scale(0.1 -0.1)\">\n      <use xlink:href=\"#DejaVuSans-97\"/>\n      <use x=\"61.279297\" xlink:href=\"#DejaVuSans-56\"/>\n      <use x=\"124.902344\" xlink:href=\"#DejaVuSans-46\"/>\n      <use x=\"156.689453\" xlink:href=\"#DejaVuSans-110\"/>\n      <use x=\"220.068359\" xlink:href=\"#DejaVuSans-101\"/>\n      <use x=\"281.591797\" xlink:href=\"#DejaVuSans-116\"/>\n     </g>\n    </g>\n    <g id=\"line2d_58\">\n     <path d=\"M 58.190625 133.3575 \nL 78.190625 133.3575 \n\" style=\"fill:none;stroke:#d62728;stroke-linecap:square;stroke-width:1.5;\"/>\n    </g>\n    <g id=\"line2d_59\"/>\n    <g id=\"text_27\">\n     <!-- valuecommerce.com -->\n     <defs>\n      <path d=\"M 2.984375 54.6875 \nL 12.5 54.6875 \nL 29.59375 8.796875 \nL 46.6875 54.6875 \nL 56.203125 54.6875 \nL 35.6875 0 \nL 23.484375 0 \nz\n\" id=\"DejaVuSans-118\"/>\n      <path d=\"M 9.421875 75.984375 \nL 18.40625 75.984375 \nL 18.40625 0 \nL 9.421875 0 \nz\n\" id=\"DejaVuSans-108\"/>\n      <path d=\"M 8.5 21.578125 \nL 8.5 54.6875 \nL 17.484375 54.6875 \nL 17.484375 21.921875 \nQ 17.484375 14.15625 20.5 10.265625 \nQ 23.53125 6.390625 29.59375 6.390625 \nQ 36.859375 6.390625 41.078125 11.03125 \nQ 45.3125 15.671875 45.3125 23.6875 \nL 45.3125 54.6875 \nL 54.296875 54.6875 \nL 54.296875 0 \nL 45.3125 0 \nL 45.3125 8.40625 \nQ 42.046875 3.421875 37.71875 1 \nQ 33.40625 -1.421875 27.6875 -1.421875 \nQ 18.265625 -1.421875 13.375 4.4375 \nQ 8.5 10.296875 8.5 21.578125 \nz\nM 31.109375 56 \nz\n\" id=\"DejaVuSans-117\"/>\n      <path d=\"M 41.109375 46.296875 \nQ 39.59375 47.171875 37.8125 47.578125 \nQ 36.03125 48 33.890625 48 \nQ 26.265625 48 22.1875 43.046875 \nQ 18.109375 38.09375 18.109375 28.8125 \nL 18.109375 0 \nL 9.078125 0 \nL 9.078125 54.6875 \nL 18.109375 54.6875 \nL 18.109375 46.1875 \nQ 20.953125 51.171875 25.484375 53.578125 \nQ 30.03125 56 36.53125 56 \nQ 37.453125 56 38.578125 55.875 \nQ 39.703125 55.765625 41.0625 55.515625 \nz\n\" id=\"DejaVuSans-114\"/>\n     </defs>\n     <g transform=\"translate(86.190625 136.8575)scale(0.1 -0.1)\">\n      <use xlink:href=\"#DejaVuSans-118\"/>\n      <use x=\"59.179688\" xlink:href=\"#DejaVuSans-97\"/>\n      <use x=\"120.458984\" xlink:href=\"#DejaVuSans-108\"/>\n      <use x=\"148.242188\" xlink:href=\"#DejaVuSans-117\"/>\n      <use x=\"211.621094\" xlink:href=\"#DejaVuSans-101\"/>\n      <use x=\"273.144531\" xlink:href=\"#DejaVuSans-99\"/>\n      <use x=\"328.125\" xlink:href=\"#DejaVuSans-111\"/>\n      <use x=\"389.306641\" xlink:href=\"#DejaVuSans-109\"/>\n      <use x=\"486.71875\" xlink:href=\"#DejaVuSans-109\"/>\n      <use x=\"584.130859\" xlink:href=\"#DejaVuSans-101\"/>\n      <use x=\"645.654297\" xlink:href=\"#DejaVuSans-114\"/>\n      <use x=\"686.736328\" xlink:href=\"#DejaVuSans-99\"/>\n      <use x=\"741.716797\" xlink:href=\"#DejaVuSans-101\"/>\n      <use x=\"803.240234\" xlink:href=\"#DejaVuSans-46\"/>\n      <use x=\"835.027344\" xlink:href=\"#DejaVuSans-99\"/>\n      <use x=\"890.007812\" xlink:href=\"#DejaVuSans-111\"/>\n      <use x=\"951.189453\" xlink:href=\"#DejaVuSans-109\"/>\n     </g>\n    </g>\n    <g id=\"line2d_60\">\n     <path d=\"M 58.190625 148.035625 \nL 78.190625 148.035625 \n\" style=\"fill:none;stroke:#9467bd;stroke-linecap:square;stroke-width:1.5;\"/>\n    </g>\n    <g id=\"line2d_61\"/>\n    <g id=\"text_28\">\n     <!-- affiliate-b.com -->\n     <defs>\n      <path d=\"M 37.109375 75.984375 \nL 37.109375 68.5 \nL 28.515625 68.5 \nQ 23.6875 68.5 21.796875 66.546875 \nQ 19.921875 64.59375 19.921875 59.515625 \nL 19.921875 54.6875 \nL 34.71875 54.6875 \nL 34.71875 47.703125 \nL 19.921875 47.703125 \nL 19.921875 0 \nL 10.890625 0 \nL 10.890625 47.703125 \nL 2.296875 47.703125 \nL 2.296875 54.6875 \nL 10.890625 54.6875 \nL 10.890625 58.5 \nQ 10.890625 67.625 15.140625 71.796875 \nQ 19.390625 75.984375 28.609375 75.984375 \nz\n\" id=\"DejaVuSans-102\"/>\n     </defs>\n     <g transform=\"translate(86.190625 151.535625)scale(0.1 -0.1)\">\n      <use xlink:href=\"#DejaVuSans-97\"/>\n      <use x=\"61.279297\" xlink:href=\"#DejaVuSans-102\"/>\n      <use x=\"96.484375\" xlink:href=\"#DejaVuSans-102\"/>\n      <use x=\"131.689453\" xlink:href=\"#DejaVuSans-105\"/>\n      <use x=\"159.472656\" xlink:href=\"#DejaVuSans-108\"/>\n      <use x=\"187.255859\" xlink:href=\"#DejaVuSans-105\"/>\n      <use x=\"215.039062\" xlink:href=\"#DejaVuSans-97\"/>\n      <use x=\"276.318359\" xlink:href=\"#DejaVuSans-116\"/>\n      <use x=\"315.527344\" xlink:href=\"#DejaVuSans-101\"/>\n      <use x=\"377.050781\" xlink:href=\"#DejaVuSans-45\"/>\n      <use x=\"413.134766\" xlink:href=\"#DejaVuSans-98\"/>\n      <use x=\"476.611328\" xlink:href=\"#DejaVuSans-46\"/>\n      <use x=\"508.398438\" xlink:href=\"#DejaVuSans-99\"/>\n      <use x=\"563.378906\" xlink:href=\"#DejaVuSans-111\"/>\n      <use x=\"624.560547\" xlink:href=\"#DejaVuSans-109\"/>\n     </g>\n    </g>\n   </g>\n  </g>\n </g>\n <defs>\n  <clipPath id=\"p6b25d18e8e\">\n   <rect height=\"217.44\" width=\"334.8\" x=\"49.190625\" y=\"10.7\"/>\n  </clipPath>\n </defs>\n</svg>\n",
      "text/plain": [
       "<Figure size 432x288 with 1 Axes>"
      ]
     },
     "metadata": {
      "needs_background": "light"
     }
    },
    {
     "output_type": "display_data",
     "data": {
      "image/png": "[encoded data removed]",
      "image/svg+xml": "<?xml version=\"1.0\" encoding=\"utf-8\" standalone=\"no\"?>\n<!DOCTYPE svg PUBLIC \"-//W3C//DTD SVG 1.1//EN\"\n  \"http://www.w3.org/Graphics/SVG/1.1/DTD/svg11.dtd\">\n<!-- Created with matplotlib (https://matplotlib.org/) -->\n<svg height=\"280.515pt\" version=\"1.1\" viewBox=\"0 0 388.328125 280.515\" width=\"388.328125pt\" xmlns=\"http://www.w3.org/2000/svg\" xmlns:xlink=\"http://www.w3.org/1999/xlink\">\n <defs>\n  <style type=\"text/css\">\n*{stroke-linecap:butt;stroke-linejoin:round;}\n  </style>\n </defs>\n <g id=\"figure_1\">\n  <g id=\"patch_1\">\n   <path d=\"M 0 280.515 \nL 388.328125 280.515 \nL 388.328125 0 \nL 0 0 \nz\n\" style=\"fill:none;\"/>\n  </g>\n  <g id=\"axes_1\">\n   <g id=\"patch_2\">\n    <path d=\"M 42.828125 228.14 \nL 377.628125 228.14 \nL 377.628125 10.7 \nL 42.828125 10.7 \nz\n\" style=\"fill:#ffffff;\"/>\n   </g>\n   <g id=\"matplotlib.axis_1\">\n    <g id=\"xtick_1\">\n     <g id=\"line2d_1\">\n      <path clip-path=\"url(#pb9e992319c)\" d=\"M 58.046307 228.14 \nL 58.046307 10.7 \n\" style=\"fill:none;stroke:#b0b0b0;stroke-linecap:square;stroke-width:0.8;\"/>\n     </g>\n     <g id=\"line2d_2\">\n      <defs>\n       <path d=\"M 0 0 \nL 0 3.5 \n\" id=\"m24aae2e55a\" style=\"stroke:#000000;stroke-width:0.8;\"/>\n      </defs>\n      <g>\n       <use style=\"stroke:#000000;stroke-width:0.8;\" x=\"58.046307\" xlink:href=\"#m24aae2e55a\" y=\"228.14\"/>\n      </g>\n     </g>\n     <g id=\"text_1\">\n      <!-- 201407 -->\n      <defs>\n       <path d=\"M 19.1875 8.296875 \nL 53.609375 8.296875 \nL 53.609375 0 \nL 7.328125 0 \nL 7.328125 8.296875 \nQ 12.9375 14.109375 22.625 23.890625 \nQ 32.328125 33.6875 34.8125 36.53125 \nQ 39.546875 41.84375 41.421875 45.53125 \nQ 43.3125 49.21875 43.3125 52.78125 \nQ 43.3125 58.59375 39.234375 62.25 \nQ 35.15625 65.921875 28.609375 65.921875 \nQ 23.96875 65.921875 18.8125 64.3125 \nQ 13.671875 62.703125 7.8125 59.421875 \nL 7.8125 69.390625 \nQ 13.765625 71.78125 18.9375 73 \nQ 24.125 74.21875 28.421875 74.21875 \nQ 39.75 74.21875 46.484375 68.546875 \nQ 53.21875 62.890625 53.21875 53.421875 \nQ 53.21875 48.921875 51.53125 44.890625 \nQ 49.859375 40.875 45.40625 35.40625 \nQ 44.1875 33.984375 37.640625 27.21875 \nQ 31.109375 20.453125 19.1875 8.296875 \nz\n\" id=\"DejaVuSans-50\"/>\n       <path d=\"M 31.78125 66.40625 \nQ 24.171875 66.40625 20.328125 58.90625 \nQ 16.5 51.421875 16.5 36.375 \nQ 16.5 21.390625 20.328125 13.890625 \nQ 24.171875 6.390625 31.78125 6.390625 \nQ 39.453125 6.390625 43.28125 13.890625 \nQ 47.125 21.390625 47.125 36.375 \nQ 47.125 51.421875 43.28125 58.90625 \nQ 39.453125 66.40625 31.78125 66.40625 \nz\nM 31.78125 74.21875 \nQ 44.046875 74.21875 50.515625 64.515625 \nQ 56.984375 54.828125 56.984375 36.375 \nQ 56.984375 17.96875 50.515625 8.265625 \nQ 44.046875 -1.421875 31.78125 -1.421875 \nQ 19.53125 -1.421875 13.0625 8.265625 \nQ 6.59375 17.96875 6.59375 36.375 \nQ 6.59375 54.828125 13.0625 64.515625 \nQ 19.53125 74.21875 31.78125 74.21875 \nz\n\" id=\"DejaVuSans-48\"/>\n       <path d=\"M 12.40625 8.296875 \nL 28.515625 8.296875 \nL 28.515625 63.921875 \nL 10.984375 60.40625 \nL 10.984375 69.390625 \nL 28.421875 72.90625 \nL 38.28125 72.90625 \nL 38.28125 8.296875 \nL 54.390625 8.296875 \nL 54.390625 0 \nL 12.40625 0 \nz\n\" id=\"DejaVuSans-49\"/>\n       <path d=\"M 37.796875 64.3125 \nL 12.890625 25.390625 \nL 37.796875 25.390625 \nz\nM 35.203125 72.90625 \nL 47.609375 72.90625 \nL 47.609375 25.390625 \nL 58.015625 25.390625 \nL 58.015625 17.1875 \nL 47.609375 17.1875 \nL 47.609375 0 \nL 37.796875 0 \nL 37.796875 17.1875 \nL 4.890625 17.1875 \nL 4.890625 26.703125 \nz\n\" id=\"DejaVuSans-52\"/>\n       <path d=\"M 8.203125 72.90625 \nL 55.078125 72.90625 \nL 55.078125 68.703125 \nL 28.609375 0 \nL 18.3125 0 \nL 43.21875 64.59375 \nL 8.203125 64.59375 \nz\n\" id=\"DejaVuSans-55\"/>\n      </defs>\n      <g transform=\"translate(55.286932 235.14)rotate(-270)scale(0.1 -0.1)\">\n       <use xlink:href=\"#DejaVuSans-50\"/>\n       <use x=\"63.623047\" xlink:href=\"#DejaVuSans-48\"/>\n       <use x=\"127.246094\" xlink:href=\"#DejaVuSans-49\"/>\n       <use x=\"190.869141\" xlink:href=\"#DejaVuSans-52\"/>\n       <use x=\"254.492188\" xlink:href=\"#DejaVuSans-48\"/>\n       <use x=\"318.115234\" xlink:href=\"#DejaVuSans-55\"/>\n      </g>\n     </g>\n    </g>\n    <g id=\"xtick_2\">\n     <g id=\"line2d_3\">\n      <path clip-path=\"url(#pb9e992319c)\" d=\"M 81.458894 228.14 \nL 81.458894 10.7 \n\" style=\"fill:none;stroke:#b0b0b0;stroke-linecap:square;stroke-width:0.8;\"/>\n     </g>\n     <g id=\"line2d_4\">\n      <g>\n       <use style=\"stroke:#000000;stroke-width:0.8;\" x=\"81.458894\" xlink:href=\"#m24aae2e55a\" y=\"228.14\"/>\n      </g>\n     </g>\n     <g id=\"text_2\">\n      <!-- 201501 -->\n      <defs>\n       <path d=\"M 10.796875 72.90625 \nL 49.515625 72.90625 \nL 49.515625 64.59375 \nL 19.828125 64.59375 \nL 19.828125 46.734375 \nQ 21.96875 47.46875 24.109375 47.828125 \nQ 26.265625 48.1875 28.421875 48.1875 \nQ 40.625 48.1875 47.75 41.5 \nQ 54.890625 34.8125 54.890625 23.390625 \nQ 54.890625 11.625 47.5625 5.09375 \nQ 40.234375 -1.421875 26.90625 -1.421875 \nQ 22.3125 -1.421875 17.546875 -0.640625 \nQ 12.796875 0.140625 7.71875 1.703125 \nL 7.71875 11.625 \nQ 12.109375 9.234375 16.796875 8.0625 \nQ 21.484375 6.890625 26.703125 6.890625 \nQ 35.15625 6.890625 40.078125 11.328125 \nQ 45.015625 15.765625 45.015625 23.390625 \nQ 45.015625 31 40.078125 35.4375 \nQ 35.15625 39.890625 26.703125 39.890625 \nQ 22.75 39.890625 18.8125 39.015625 \nQ 14.890625 38.140625 10.796875 36.28125 \nz\n\" id=\"DejaVuSans-53\"/>\n      </defs>\n      <g transform=\"translate(78.699519 235.14)rotate(-270)scale(0.1 -0.1)\">\n       <use xlink:href=\"#DejaVuSans-50\"/>\n       <use x=\"63.623047\" xlink:href=\"#DejaVuSans-48\"/>\n       <use x=\"127.246094\" xlink:href=\"#DejaVuSans-49\"/>\n       <use x=\"190.869141\" xlink:href=\"#DejaVuSans-53\"/>\n       <use x=\"254.492188\" xlink:href=\"#DejaVuSans-48\"/>\n       <use x=\"318.115234\" xlink:href=\"#DejaVuSans-49\"/>\n      </g>\n     </g>\n    </g>\n    <g id=\"xtick_3\">\n     <g id=\"line2d_5\">\n      <path clip-path=\"url(#pb9e992319c)\" d=\"M 104.871482 228.14 \nL 104.871482 10.7 \n\" style=\"fill:none;stroke:#b0b0b0;stroke-linecap:square;stroke-width:0.8;\"/>\n     </g>\n     <g id=\"line2d_6\">\n      <g>\n       <use style=\"stroke:#000000;stroke-width:0.8;\" x=\"104.871482\" xlink:href=\"#m24aae2e55a\" y=\"228.14\"/>\n      </g>\n     </g>\n     <g id=\"text_3\">\n      <!-- 201507 -->\n      <g transform=\"translate(102.112107 235.14)rotate(-270)scale(0.1 -0.1)\">\n       <use xlink:href=\"#DejaVuSans-50\"/>\n       <use x=\"63.623047\" xlink:href=\"#DejaVuSans-48\"/>\n       <use x=\"127.246094\" xlink:href=\"#DejaVuSans-49\"/>\n       <use x=\"190.869141\" xlink:href=\"#DejaVuSans-53\"/>\n       <use x=\"254.492188\" xlink:href=\"#DejaVuSans-48\"/>\n       <use x=\"318.115234\" xlink:href=\"#DejaVuSans-55\"/>\n      </g>\n     </g>\n    </g>\n    <g id=\"xtick_4\">\n     <g id=\"line2d_7\">\n      <path clip-path=\"url(#pb9e992319c)\" d=\"M 128.284069 228.14 \nL 128.284069 10.7 \n\" style=\"fill:none;stroke:#b0b0b0;stroke-linecap:square;stroke-width:0.8;\"/>\n     </g>\n     <g id=\"line2d_8\">\n      <g>\n       <use style=\"stroke:#000000;stroke-width:0.8;\" x=\"128.284069\" xlink:href=\"#m24aae2e55a\" y=\"228.14\"/>\n      </g>\n     </g>\n     <g id=\"text_4\">\n      <!-- 201602 -->\n      <defs>\n       <path d=\"M 33.015625 40.375 \nQ 26.375 40.375 22.484375 35.828125 \nQ 18.609375 31.296875 18.609375 23.390625 \nQ 18.609375 15.53125 22.484375 10.953125 \nQ 26.375 6.390625 33.015625 6.390625 \nQ 39.65625 6.390625 43.53125 10.953125 \nQ 47.40625 15.53125 47.40625 23.390625 \nQ 47.40625 31.296875 43.53125 35.828125 \nQ 39.65625 40.375 33.015625 40.375 \nz\nM 52.59375 71.296875 \nL 52.59375 62.3125 \nQ 48.875 64.0625 45.09375 64.984375 \nQ 41.3125 65.921875 37.59375 65.921875 \nQ 27.828125 65.921875 22.671875 59.328125 \nQ 17.53125 52.734375 16.796875 39.40625 \nQ 19.671875 43.65625 24.015625 45.921875 \nQ 28.375 48.1875 33.59375 48.1875 \nQ 44.578125 48.1875 50.953125 41.515625 \nQ 57.328125 34.859375 57.328125 23.390625 \nQ 57.328125 12.15625 50.6875 5.359375 \nQ 44.046875 -1.421875 33.015625 -1.421875 \nQ 20.359375 -1.421875 13.671875 8.265625 \nQ 6.984375 17.96875 6.984375 36.375 \nQ 6.984375 53.65625 15.1875 63.9375 \nQ 23.390625 74.21875 37.203125 74.21875 \nQ 40.921875 74.21875 44.703125 73.484375 \nQ 48.484375 72.75 52.59375 71.296875 \nz\n\" id=\"DejaVuSans-54\"/>\n      </defs>\n      <g transform=\"translate(125.524694 235.14)rotate(-270)scale(0.1 -0.1)\">\n       <use xlink:href=\"#DejaVuSans-50\"/>\n       <use x=\"63.623047\" xlink:href=\"#DejaVuSans-48\"/>\n       <use x=\"127.246094\" xlink:href=\"#DejaVuSans-49\"/>\n       <use x=\"190.869141\" xlink:href=\"#DejaVuSans-54\"/>\n       <use x=\"254.492188\" xlink:href=\"#DejaVuSans-48\"/>\n       <use x=\"318.115234\" xlink:href=\"#DejaVuSans-50\"/>\n      </g>\n     </g>\n    </g>\n    <g id=\"xtick_5\">\n     <g id=\"line2d_9\">\n      <path clip-path=\"url(#pb9e992319c)\" d=\"M 151.696656 228.14 \nL 151.696656 10.7 \n\" style=\"fill:none;stroke:#b0b0b0;stroke-linecap:square;stroke-width:0.8;\"/>\n     </g>\n     <g id=\"line2d_10\">\n      <g>\n       <use style=\"stroke:#000000;stroke-width:0.8;\" x=\"151.696656\" xlink:href=\"#m24aae2e55a\" y=\"228.14\"/>\n      </g>\n     </g>\n     <g id=\"text_5\">\n      <!-- 201607 -->\n      <g transform=\"translate(148.937281 235.14)rotate(-270)scale(0.1 -0.1)\">\n       <use xlink:href=\"#DejaVuSans-50\"/>\n       <use x=\"63.623047\" xlink:href=\"#DejaVuSans-48\"/>\n       <use x=\"127.246094\" xlink:href=\"#DejaVuSans-49\"/>\n       <use x=\"190.869141\" xlink:href=\"#DejaVuSans-54\"/>\n       <use x=\"254.492188\" xlink:href=\"#DejaVuSans-48\"/>\n       <use x=\"318.115234\" xlink:href=\"#DejaVuSans-55\"/>\n      </g>\n     </g>\n    </g>\n    <g id=\"xtick_6\">\n     <g id=\"line2d_11\">\n      <path clip-path=\"url(#pb9e992319c)\" d=\"M 175.109244 228.14 \nL 175.109244 10.7 \n\" style=\"fill:none;stroke:#b0b0b0;stroke-linecap:square;stroke-width:0.8;\"/>\n     </g>\n     <g id=\"line2d_12\">\n      <g>\n       <use style=\"stroke:#000000;stroke-width:0.8;\" x=\"175.109244\" xlink:href=\"#m24aae2e55a\" y=\"228.14\"/>\n      </g>\n     </g>\n     <g id=\"text_6\">\n      <!-- 201701 -->\n      <g transform=\"translate(172.349869 235.14)rotate(-270)scale(0.1 -0.1)\">\n       <use xlink:href=\"#DejaVuSans-50\"/>\n       <use x=\"63.623047\" xlink:href=\"#DejaVuSans-48\"/>\n       <use x=\"127.246094\" xlink:href=\"#DejaVuSans-49\"/>\n       <use x=\"190.869141\" xlink:href=\"#DejaVuSans-55\"/>\n       <use x=\"254.492188\" xlink:href=\"#DejaVuSans-48\"/>\n       <use x=\"318.115234\" xlink:href=\"#DejaVuSans-49\"/>\n      </g>\n     </g>\n    </g>\n    <g id=\"xtick_7\">\n     <g id=\"line2d_13\">\n      <path clip-path=\"url(#pb9e992319c)\" d=\"M 198.521831 228.14 \nL 198.521831 10.7 \n\" style=\"fill:none;stroke:#b0b0b0;stroke-linecap:square;stroke-width:0.8;\"/>\n     </g>\n     <g id=\"line2d_14\">\n      <g>\n       <use style=\"stroke:#000000;stroke-width:0.8;\" x=\"198.521831\" xlink:href=\"#m24aae2e55a\" y=\"228.14\"/>\n      </g>\n     </g>\n     <g id=\"text_7\">\n      <!-- 201707 -->\n      <g transform=\"translate(195.762456 235.14)rotate(-270)scale(0.1 -0.1)\">\n       <use xlink:href=\"#DejaVuSans-50\"/>\n       <use x=\"63.623047\" xlink:href=\"#DejaVuSans-48\"/>\n       <use x=\"127.246094\" xlink:href=\"#DejaVuSans-49\"/>\n       <use x=\"190.869141\" xlink:href=\"#DejaVuSans-55\"/>\n       <use x=\"254.492188\" xlink:href=\"#DejaVuSans-48\"/>\n       <use x=\"318.115234\" xlink:href=\"#DejaVuSans-55\"/>\n      </g>\n     </g>\n    </g>\n    <g id=\"xtick_8\">\n     <g id=\"line2d_15\">\n      <path clip-path=\"url(#pb9e992319c)\" d=\"M 221.934419 228.14 \nL 221.934419 10.7 \n\" style=\"fill:none;stroke:#b0b0b0;stroke-linecap:square;stroke-width:0.8;\"/>\n     </g>\n     <g id=\"line2d_16\">\n      <g>\n       <use style=\"stroke:#000000;stroke-width:0.8;\" x=\"221.934419\" xlink:href=\"#m24aae2e55a\" y=\"228.14\"/>\n      </g>\n     </g>\n     <g id=\"text_8\">\n      <!-- 201801 -->\n      <defs>\n       <path d=\"M 31.78125 34.625 \nQ 24.75 34.625 20.71875 30.859375 \nQ 16.703125 27.09375 16.703125 20.515625 \nQ 16.703125 13.921875 20.71875 10.15625 \nQ 24.75 6.390625 31.78125 6.390625 \nQ 38.8125 6.390625 42.859375 10.171875 \nQ 46.921875 13.96875 46.921875 20.515625 \nQ 46.921875 27.09375 42.890625 30.859375 \nQ 38.875 34.625 31.78125 34.625 \nz\nM 21.921875 38.8125 \nQ 15.578125 40.375 12.03125 44.71875 \nQ 8.5 49.078125 8.5 55.328125 \nQ 8.5 64.0625 14.71875 69.140625 \nQ 20.953125 74.21875 31.78125 74.21875 \nQ 42.671875 74.21875 48.875 69.140625 \nQ 55.078125 64.0625 55.078125 55.328125 \nQ 55.078125 49.078125 51.53125 44.71875 \nQ 48 40.375 41.703125 38.8125 \nQ 48.828125 37.15625 52.796875 32.3125 \nQ 56.78125 27.484375 56.78125 20.515625 \nQ 56.78125 9.90625 50.3125 4.234375 \nQ 43.84375 -1.421875 31.78125 -1.421875 \nQ 19.734375 -1.421875 13.25 4.234375 \nQ 6.78125 9.90625 6.78125 20.515625 \nQ 6.78125 27.484375 10.78125 32.3125 \nQ 14.796875 37.15625 21.921875 38.8125 \nz\nM 18.3125 54.390625 \nQ 18.3125 48.734375 21.84375 45.5625 \nQ 25.390625 42.390625 31.78125 42.390625 \nQ 38.140625 42.390625 41.71875 45.5625 \nQ 45.3125 48.734375 45.3125 54.390625 \nQ 45.3125 60.0625 41.71875 63.234375 \nQ 38.140625 66.40625 31.78125 66.40625 \nQ 25.390625 66.40625 21.84375 63.234375 \nQ 18.3125 60.0625 18.3125 54.390625 \nz\n\" id=\"DejaVuSans-56\"/>\n      </defs>\n      <g transform=\"translate(219.175044 235.14)rotate(-270)scale(0.1 -0.1)\">\n       <use xlink:href=\"#DejaVuSans-50\"/>\n       <use x=\"63.623047\" xlink:href=\"#DejaVuSans-48\"/>\n       <use x=\"127.246094\" xlink:href=\"#DejaVuSans-49\"/>\n       <use x=\"190.869141\" xlink:href=\"#DejaVuSans-56\"/>\n       <use x=\"254.492188\" xlink:href=\"#DejaVuSans-48\"/>\n       <use x=\"318.115234\" xlink:href=\"#DejaVuSans-49\"/>\n      </g>\n     </g>\n    </g>\n    <g id=\"xtick_9\">\n     <g id=\"line2d_17\">\n      <path clip-path=\"url(#pb9e992319c)\" d=\"M 245.347006 228.14 \nL 245.347006 10.7 \n\" style=\"fill:none;stroke:#b0b0b0;stroke-linecap:square;stroke-width:0.8;\"/>\n     </g>\n     <g id=\"line2d_18\">\n      <g>\n       <use style=\"stroke:#000000;stroke-width:0.8;\" x=\"245.347006\" xlink:href=\"#m24aae2e55a\" y=\"228.14\"/>\n      </g>\n     </g>\n     <g id=\"text_9\">\n      <!-- 201807 -->\n      <g transform=\"translate(242.587631 235.14)rotate(-270)scale(0.1 -0.1)\">\n       <use xlink:href=\"#DejaVuSans-50\"/>\n       <use x=\"63.623047\" xlink:href=\"#DejaVuSans-48\"/>\n       <use x=\"127.246094\" xlink:href=\"#DejaVuSans-49\"/>\n       <use x=\"190.869141\" xlink:href=\"#DejaVuSans-56\"/>\n       <use x=\"254.492188\" xlink:href=\"#DejaVuSans-48\"/>\n       <use x=\"318.115234\" xlink:href=\"#DejaVuSans-55\"/>\n      </g>\n     </g>\n    </g>\n    <g id=\"xtick_10\">\n     <g id=\"line2d_19\">\n      <path clip-path=\"url(#pb9e992319c)\" d=\"M 268.759594 228.14 \nL 268.759594 10.7 \n\" style=\"fill:none;stroke:#b0b0b0;stroke-linecap:square;stroke-width:0.8;\"/>\n     </g>\n     <g id=\"line2d_20\">\n      <g>\n       <use style=\"stroke:#000000;stroke-width:0.8;\" x=\"268.759594\" xlink:href=\"#m24aae2e55a\" y=\"228.14\"/>\n      </g>\n     </g>\n     <g id=\"text_10\">\n      <!-- 201901 -->\n      <defs>\n       <path d=\"M 10.984375 1.515625 \nL 10.984375 10.5 \nQ 14.703125 8.734375 18.5 7.8125 \nQ 22.3125 6.890625 25.984375 6.890625 \nQ 35.75 6.890625 40.890625 13.453125 \nQ 46.046875 20.015625 46.78125 33.40625 \nQ 43.953125 29.203125 39.59375 26.953125 \nQ 35.25 24.703125 29.984375 24.703125 \nQ 19.046875 24.703125 12.671875 31.3125 \nQ 6.296875 37.9375 6.296875 49.421875 \nQ 6.296875 60.640625 12.9375 67.421875 \nQ 19.578125 74.21875 30.609375 74.21875 \nQ 43.265625 74.21875 49.921875 64.515625 \nQ 56.59375 54.828125 56.59375 36.375 \nQ 56.59375 19.140625 48.40625 8.859375 \nQ 40.234375 -1.421875 26.421875 -1.421875 \nQ 22.703125 -1.421875 18.890625 -0.6875 \nQ 15.09375 0.046875 10.984375 1.515625 \nz\nM 30.609375 32.421875 \nQ 37.25 32.421875 41.125 36.953125 \nQ 45.015625 41.5 45.015625 49.421875 \nQ 45.015625 57.28125 41.125 61.84375 \nQ 37.25 66.40625 30.609375 66.40625 \nQ 23.96875 66.40625 20.09375 61.84375 \nQ 16.21875 57.28125 16.21875 49.421875 \nQ 16.21875 41.5 20.09375 36.953125 \nQ 23.96875 32.421875 30.609375 32.421875 \nz\n\" id=\"DejaVuSans-57\"/>\n      </defs>\n      <g transform=\"translate(266.000219 235.14)rotate(-270)scale(0.1 -0.1)\">\n       <use xlink:href=\"#DejaVuSans-50\"/>\n       <use x=\"63.623047\" xlink:href=\"#DejaVuSans-48\"/>\n       <use x=\"127.246094\" xlink:href=\"#DejaVuSans-49\"/>\n       <use x=\"190.869141\" xlink:href=\"#DejaVuSans-57\"/>\n       <use x=\"254.492188\" xlink:href=\"#DejaVuSans-48\"/>\n       <use x=\"318.115234\" xlink:href=\"#DejaVuSans-49\"/>\n      </g>\n     </g>\n    </g>\n    <g id=\"xtick_11\">\n     <g id=\"line2d_21\">\n      <path clip-path=\"url(#pb9e992319c)\" d=\"M 292.172181 228.14 \nL 292.172181 10.7 \n\" style=\"fill:none;stroke:#b0b0b0;stroke-linecap:square;stroke-width:0.8;\"/>\n     </g>\n     <g id=\"line2d_22\">\n      <g>\n       <use style=\"stroke:#000000;stroke-width:0.8;\" x=\"292.172181\" xlink:href=\"#m24aae2e55a\" y=\"228.14\"/>\n      </g>\n     </g>\n     <g id=\"text_11\">\n      <!-- 201907 -->\n      <g transform=\"translate(289.412806 235.14)rotate(-270)scale(0.1 -0.1)\">\n       <use xlink:href=\"#DejaVuSans-50\"/>\n       <use x=\"63.623047\" xlink:href=\"#DejaVuSans-48\"/>\n       <use x=\"127.246094\" xlink:href=\"#DejaVuSans-49\"/>\n       <use x=\"190.869141\" xlink:href=\"#DejaVuSans-57\"/>\n       <use x=\"254.492188\" xlink:href=\"#DejaVuSans-48\"/>\n       <use x=\"318.115234\" xlink:href=\"#DejaVuSans-55\"/>\n      </g>\n     </g>\n    </g>\n    <g id=\"xtick_12\">\n     <g id=\"line2d_23\">\n      <path clip-path=\"url(#pb9e992319c)\" d=\"M 315.584768 228.14 \nL 315.584768 10.7 \n\" style=\"fill:none;stroke:#b0b0b0;stroke-linecap:square;stroke-width:0.8;\"/>\n     </g>\n     <g id=\"line2d_24\">\n      <g>\n       <use style=\"stroke:#000000;stroke-width:0.8;\" x=\"315.584768\" xlink:href=\"#m24aae2e55a\" y=\"228.14\"/>\n      </g>\n     </g>\n     <g id=\"text_12\">\n      <!-- 202001 -->\n      <g transform=\"translate(312.825393 235.14)rotate(-270)scale(0.1 -0.1)\">\n       <use xlink:href=\"#DejaVuSans-50\"/>\n       <use x=\"63.623047\" xlink:href=\"#DejaVuSans-48\"/>\n       <use x=\"127.246094\" xlink:href=\"#DejaVuSans-50\"/>\n       <use x=\"190.869141\" xlink:href=\"#DejaVuSans-48\"/>\n       <use x=\"254.492188\" xlink:href=\"#DejaVuSans-48\"/>\n       <use x=\"318.115234\" xlink:href=\"#DejaVuSans-49\"/>\n      </g>\n     </g>\n    </g>\n    <g id=\"xtick_13\">\n     <g id=\"line2d_25\">\n      <path clip-path=\"url(#pb9e992319c)\" d=\"M 338.997356 228.14 \nL 338.997356 10.7 \n\" style=\"fill:none;stroke:#b0b0b0;stroke-linecap:square;stroke-width:0.8;\"/>\n     </g>\n     <g id=\"line2d_26\">\n      <g>\n       <use style=\"stroke:#000000;stroke-width:0.8;\" x=\"338.997356\" xlink:href=\"#m24aae2e55a\" y=\"228.14\"/>\n      </g>\n     </g>\n     <g id=\"text_13\">\n      <!-- 202007 -->\n      <g transform=\"translate(336.237981 235.14)rotate(-270)scale(0.1 -0.1)\">\n       <use xlink:href=\"#DejaVuSans-50\"/>\n       <use x=\"63.623047\" xlink:href=\"#DejaVuSans-48\"/>\n       <use x=\"127.246094\" xlink:href=\"#DejaVuSans-50\"/>\n       <use x=\"190.869141\" xlink:href=\"#DejaVuSans-48\"/>\n       <use x=\"254.492188\" xlink:href=\"#DejaVuSans-48\"/>\n       <use x=\"318.115234\" xlink:href=\"#DejaVuSans-55\"/>\n      </g>\n     </g>\n    </g>\n    <g id=\"xtick_14\">\n     <g id=\"line2d_27\">\n      <path clip-path=\"url(#pb9e992319c)\" d=\"M 362.409943 228.14 \nL 362.409943 10.7 \n\" style=\"fill:none;stroke:#b0b0b0;stroke-linecap:square;stroke-width:0.8;\"/>\n     </g>\n     <g id=\"line2d_28\">\n      <g>\n       <use style=\"stroke:#000000;stroke-width:0.8;\" x=\"362.409943\" xlink:href=\"#m24aae2e55a\" y=\"228.14\"/>\n      </g>\n     </g>\n     <g id=\"text_14\">\n      <!-- 202101 -->\n      <g transform=\"translate(359.650568 235.14)rotate(-270)scale(0.1 -0.1)\">\n       <use xlink:href=\"#DejaVuSans-50\"/>\n       <use x=\"63.623047\" xlink:href=\"#DejaVuSans-48\"/>\n       <use x=\"127.246094\" xlink:href=\"#DejaVuSans-50\"/>\n       <use x=\"190.869141\" xlink:href=\"#DejaVuSans-49\"/>\n       <use x=\"254.492188\" xlink:href=\"#DejaVuSans-48\"/>\n       <use x=\"318.115234\" xlink:href=\"#DejaVuSans-49\"/>\n      </g>\n     </g>\n    </g>\n   </g>\n   <g id=\"matplotlib.axis_2\">\n    <g id=\"ytick_1\">\n     <g id=\"line2d_29\">\n      <path clip-path=\"url(#pb9e992319c)\" d=\"M 42.828125 219.670441 \nL 377.628125 219.670441 \n\" style=\"fill:none;stroke:#b0b0b0;stroke-linecap:square;stroke-width:0.8;\"/>\n     </g>\n     <g id=\"line2d_30\">\n      <defs>\n       <path d=\"M 0 0 \nL -3.5 0 \n\" id=\"m267ff9d524\" style=\"stroke:#000000;stroke-width:0.8;\"/>\n      </defs>\n      <g>\n       <use style=\"stroke:#000000;stroke-width:0.8;\" x=\"42.828125\" xlink:href=\"#m267ff9d524\" y=\"219.670441\"/>\n      </g>\n     </g>\n     <g id=\"text_15\">\n      <!-- 0.000 -->\n      <defs>\n       <path d=\"M 10.6875 12.40625 \nL 21 12.40625 \nL 21 0 \nL 10.6875 0 \nz\n\" id=\"DejaVuSans-46\"/>\n      </defs>\n      <g transform=\"translate(7.2 223.46966)scale(0.1 -0.1)\">\n       <use xlink:href=\"#DejaVuSans-48\"/>\n       <use x=\"63.623047\" xlink:href=\"#DejaVuSans-46\"/>\n       <use x=\"95.410156\" xlink:href=\"#DejaVuSans-48\"/>\n       <use x=\"159.033203\" xlink:href=\"#DejaVuSans-48\"/>\n       <use x=\"222.65625\" xlink:href=\"#DejaVuSans-48\"/>\n      </g>\n     </g>\n    </g>\n    <g id=\"ytick_2\">\n     <g id=\"line2d_31\">\n      <path clip-path=\"url(#pb9e992319c)\" d=\"M 42.828125 177.297614 \nL 377.628125 177.297614 \n\" style=\"fill:none;stroke:#b0b0b0;stroke-linecap:square;stroke-width:0.8;\"/>\n     </g>\n     <g id=\"line2d_32\">\n      <g>\n       <use style=\"stroke:#000000;stroke-width:0.8;\" x=\"42.828125\" xlink:href=\"#m267ff9d524\" y=\"177.297614\"/>\n      </g>\n     </g>\n     <g id=\"text_16\">\n      <!-- 0.001 -->\n      <g transform=\"translate(7.2 181.096833)scale(0.1 -0.1)\">\n       <use xlink:href=\"#DejaVuSans-48\"/>\n       <use x=\"63.623047\" xlink:href=\"#DejaVuSans-46\"/>\n       <use x=\"95.410156\" xlink:href=\"#DejaVuSans-48\"/>\n       <use x=\"159.033203\" xlink:href=\"#DejaVuSans-48\"/>\n       <use x=\"222.65625\" xlink:href=\"#DejaVuSans-49\"/>\n      </g>\n     </g>\n    </g>\n    <g id=\"ytick_3\">\n     <g id=\"line2d_33\">\n      <path clip-path=\"url(#pb9e992319c)\" d=\"M 42.828125 134.924788 \nL 377.628125 134.924788 \n\" style=\"fill:none;stroke:#b0b0b0;stroke-linecap:square;stroke-width:0.8;\"/>\n     </g>\n     <g id=\"line2d_34\">\n      <g>\n       <use style=\"stroke:#000000;stroke-width:0.8;\" x=\"42.828125\" xlink:href=\"#m267ff9d524\" y=\"134.924788\"/>\n      </g>\n     </g>\n     <g id=\"text_17\">\n      <!-- 0.002 -->\n      <g transform=\"translate(7.2 138.724006)scale(0.1 -0.1)\">\n       <use xlink:href=\"#DejaVuSans-48\"/>\n       <use x=\"63.623047\" xlink:href=\"#DejaVuSans-46\"/>\n       <use x=\"95.410156\" xlink:href=\"#DejaVuSans-48\"/>\n       <use x=\"159.033203\" xlink:href=\"#DejaVuSans-48\"/>\n       <use x=\"222.65625\" xlink:href=\"#DejaVuSans-50\"/>\n      </g>\n     </g>\n    </g>\n    <g id=\"ytick_4\">\n     <g id=\"line2d_35\">\n      <path clip-path=\"url(#pb9e992319c)\" d=\"M 42.828125 92.551961 \nL 377.628125 92.551961 \n\" style=\"fill:none;stroke:#b0b0b0;stroke-linecap:square;stroke-width:0.8;\"/>\n     </g>\n     <g id=\"line2d_36\">\n      <g>\n       <use style=\"stroke:#000000;stroke-width:0.8;\" x=\"42.828125\" xlink:href=\"#m267ff9d524\" y=\"92.551961\"/>\n      </g>\n     </g>\n     <g id=\"text_18\">\n      <!-- 0.003 -->\n      <defs>\n       <path d=\"M 40.578125 39.3125 \nQ 47.65625 37.796875 51.625 33 \nQ 55.609375 28.21875 55.609375 21.1875 \nQ 55.609375 10.40625 48.1875 4.484375 \nQ 40.765625 -1.421875 27.09375 -1.421875 \nQ 22.515625 -1.421875 17.65625 -0.515625 \nQ 12.796875 0.390625 7.625 2.203125 \nL 7.625 11.71875 \nQ 11.71875 9.328125 16.59375 8.109375 \nQ 21.484375 6.890625 26.8125 6.890625 \nQ 36.078125 6.890625 40.9375 10.546875 \nQ 45.796875 14.203125 45.796875 21.1875 \nQ 45.796875 27.640625 41.28125 31.265625 \nQ 36.765625 34.90625 28.71875 34.90625 \nL 20.21875 34.90625 \nL 20.21875 43.015625 \nL 29.109375 43.015625 \nQ 36.375 43.015625 40.234375 45.921875 \nQ 44.09375 48.828125 44.09375 54.296875 \nQ 44.09375 59.90625 40.109375 62.90625 \nQ 36.140625 65.921875 28.71875 65.921875 \nQ 24.65625 65.921875 20.015625 65.03125 \nQ 15.375 64.15625 9.8125 62.3125 \nL 9.8125 71.09375 \nQ 15.4375 72.65625 20.34375 73.4375 \nQ 25.25 74.21875 29.59375 74.21875 \nQ 40.828125 74.21875 47.359375 69.109375 \nQ 53.90625 64.015625 53.90625 55.328125 \nQ 53.90625 49.265625 50.4375 45.09375 \nQ 46.96875 40.921875 40.578125 39.3125 \nz\n\" id=\"DejaVuSans-51\"/>\n      </defs>\n      <g transform=\"translate(7.2 96.35118)scale(0.1 -0.1)\">\n       <use xlink:href=\"#DejaVuSans-48\"/>\n       <use x=\"63.623047\" xlink:href=\"#DejaVuSans-46\"/>\n       <use x=\"95.410156\" xlink:href=\"#DejaVuSans-48\"/>\n       <use x=\"159.033203\" xlink:href=\"#DejaVuSans-48\"/>\n       <use x=\"222.65625\" xlink:href=\"#DejaVuSans-51\"/>\n      </g>\n     </g>\n    </g>\n    <g id=\"ytick_5\">\n     <g id=\"line2d_37\">\n      <path clip-path=\"url(#pb9e992319c)\" d=\"M 42.828125 50.179134 \nL 377.628125 50.179134 \n\" style=\"fill:none;stroke:#b0b0b0;stroke-linecap:square;stroke-width:0.8;\"/>\n     </g>\n     <g id=\"line2d_38\">\n      <g>\n       <use style=\"stroke:#000000;stroke-width:0.8;\" x=\"42.828125\" xlink:href=\"#m267ff9d524\" y=\"50.179134\"/>\n      </g>\n     </g>\n     <g id=\"text_19\">\n      <!-- 0.004 -->\n      <g transform=\"translate(7.2 53.978353)scale(0.1 -0.1)\">\n       <use xlink:href=\"#DejaVuSans-48\"/>\n       <use x=\"63.623047\" xlink:href=\"#DejaVuSans-46\"/>\n       <use x=\"95.410156\" xlink:href=\"#DejaVuSans-48\"/>\n       <use x=\"159.033203\" xlink:href=\"#DejaVuSans-48\"/>\n       <use x=\"222.65625\" xlink:href=\"#DejaVuSans-52\"/>\n      </g>\n     </g>\n    </g>\n   </g>\n   <g id=\"line2d_39\">\n    <path clip-path=\"url(#pb9e992319c)\" d=\"M 58.046307 78.182439 \nL 81.458894 95.454785 \nL 104.871482 95.082764 \nL 128.284069 108.785514 \nL 151.696656 59.327141 \nL 175.109244 20.583636 \nL 198.521831 47.548122 \nL 221.934419 44.986814 \nL 245.347006 29.886893 \nL 268.759594 50.298691 \nL 292.172181 59.027301 \nL 315.584768 45.738931 \nL 338.997356 60.422208 \nL 362.409943 55.338855 \n\" style=\"fill:none;stroke:#1f77b4;stroke-linecap:square;stroke-width:1.5;\"/>\n   </g>\n   <g id=\"line2d_40\">\n    <path clip-path=\"url(#pb9e992319c)\" d=\"M 58.046307 164.961747 \nL 81.458894 171.895189 \nL 104.871482 173.182502 \nL 128.284069 184.556881 \nL 151.696656 169.035715 \nL 175.109244 155.900449 \nL 198.521831 167.419023 \nL 221.934419 168.470068 \nL 245.347006 164.19525 \nL 268.759594 174.125096 \nL 292.172181 178.443441 \nL 315.584768 182.904431 \nL 338.997356 168.483509 \nL 362.409943 167.317015 \n\" style=\"fill:none;stroke:#ff7f0e;stroke-linecap:square;stroke-width:1.5;\"/>\n   </g>\n   <g id=\"line2d_41\">\n    <path clip-path=\"url(#pb9e992319c)\" d=\"M 58.046307 204.578387 \nL 81.458894 204.38236 \nL 104.871482 204.7943 \nL 128.284069 210.43003 \nL 151.696656 209.543496 \nL 175.109244 211.893613 \nL 198.521831 218.133635 \nM 245.347006 215.290821 \nL 268.759594 218.247149 \nL 292.172181 218.24882 \nL 315.584768 218.256364 \nL 338.997356 218.248582 \nL 362.409943 216.761917 \n\" style=\"fill:none;stroke:#2ca02c;stroke-linecap:square;stroke-width:1.5;\"/>\n   </g>\n   <g id=\"line2d_42\">\n    <path clip-path=\"url(#pb9e992319c)\" d=\"M 58.046307 208.351401 \nL 81.458894 204.38236 \nL 104.871482 206.653818 \nL 128.284069 206.733866 \nL 151.696656 197.728726 \nL 175.109244 190.118493 \nL 198.521831 195.081538 \nL 221.934419 195.576148 \nL 245.347006 190.472972 \nL 268.759594 191.204601 \nL 292.172181 188.394785 \nL 315.584768 188.56074 \nL 338.997356 188.389538 \nL 362.409943 186.222419 \n\" style=\"fill:none;stroke:#d62728;stroke-linecap:square;stroke-width:1.5;\"/>\n   </g>\n   <g id=\"patch_3\">\n    <path d=\"M 42.828125 228.14 \nL 42.828125 10.7 \n\" style=\"fill:none;stroke:#000000;stroke-linecap:square;stroke-linejoin:miter;stroke-width:0.8;\"/>\n   </g>\n   <g id=\"patch_4\">\n    <path d=\"M 377.628125 228.14 \nL 377.628125 10.7 \n\" style=\"fill:none;stroke:#000000;stroke-linecap:square;stroke-linejoin:miter;stroke-width:0.8;\"/>\n   </g>\n   <g id=\"patch_5\">\n    <path d=\"M 42.828125 228.14 \nL 377.628125 228.14 \n\" style=\"fill:none;stroke:#000000;stroke-linecap:square;stroke-linejoin:miter;stroke-width:0.8;\"/>\n   </g>\n   <g id=\"patch_6\">\n    <path d=\"M 42.828125 10.7 \nL 377.628125 10.7 \n\" style=\"fill:none;stroke:#000000;stroke-linecap:square;stroke-linejoin:miter;stroke-width:0.8;\"/>\n   </g>\n   <g id=\"legend_1\">\n    <g id=\"patch_7\">\n     <path d=\"M 275.332813 150.27625 \nL 370.628125 150.27625 \nQ 372.628125 150.27625 372.628125 148.27625 \nL 372.628125 90.56375 \nQ 372.628125 88.56375 370.628125 88.56375 \nL 275.332813 88.56375 \nQ 273.332813 88.56375 273.332813 90.56375 \nL 273.332813 148.27625 \nQ 273.332813 150.27625 275.332813 150.27625 \nz\n\" style=\"fill:#ffffff;opacity:0.8;stroke:#cccccc;stroke-linejoin:miter;\"/>\n    </g>\n    <g id=\"line2d_43\">\n     <path d=\"M 277.332813 96.662188 \nL 297.332813 96.662188 \n\" style=\"fill:none;stroke:#1f77b4;stroke-linecap:square;stroke-width:1.5;\"/>\n    </g>\n    <g id=\"line2d_44\"/>\n    <g id=\"text_20\">\n     <!-- cnzz.com -->\n     <defs>\n      <path d=\"M 48.78125 52.59375 \nL 48.78125 44.1875 \nQ 44.96875 46.296875 41.140625 47.34375 \nQ 37.3125 48.390625 33.40625 48.390625 \nQ 24.65625 48.390625 19.8125 42.84375 \nQ 14.984375 37.3125 14.984375 27.296875 \nQ 14.984375 17.28125 19.8125 11.734375 \nQ 24.65625 6.203125 33.40625 6.203125 \nQ 37.3125 6.203125 41.140625 7.25 \nQ 44.96875 8.296875 48.78125 10.40625 \nL 48.78125 2.09375 \nQ 45.015625 0.34375 40.984375 -0.53125 \nQ 36.96875 -1.421875 32.421875 -1.421875 \nQ 20.0625 -1.421875 12.78125 6.34375 \nQ 5.515625 14.109375 5.515625 27.296875 \nQ 5.515625 40.671875 12.859375 48.328125 \nQ 20.21875 56 33.015625 56 \nQ 37.15625 56 41.109375 55.140625 \nQ 45.0625 54.296875 48.78125 52.59375 \nz\n\" id=\"DejaVuSans-99\"/>\n      <path d=\"M 54.890625 33.015625 \nL 54.890625 0 \nL 45.90625 0 \nL 45.90625 32.71875 \nQ 45.90625 40.484375 42.875 44.328125 \nQ 39.84375 48.1875 33.796875 48.1875 \nQ 26.515625 48.1875 22.3125 43.546875 \nQ 18.109375 38.921875 18.109375 30.90625 \nL 18.109375 0 \nL 9.078125 0 \nL 9.078125 54.6875 \nL 18.109375 54.6875 \nL 18.109375 46.1875 \nQ 21.34375 51.125 25.703125 53.5625 \nQ 30.078125 56 35.796875 56 \nQ 45.21875 56 50.046875 50.171875 \nQ 54.890625 44.34375 54.890625 33.015625 \nz\n\" id=\"DejaVuSans-110\"/>\n      <path d=\"M 5.515625 54.6875 \nL 48.1875 54.6875 \nL 48.1875 46.484375 \nL 14.40625 7.171875 \nL 48.1875 7.171875 \nL 48.1875 0 \nL 4.296875 0 \nL 4.296875 8.203125 \nL 38.09375 47.515625 \nL 5.515625 47.515625 \nz\n\" id=\"DejaVuSans-122\"/>\n      <path d=\"M 30.609375 48.390625 \nQ 23.390625 48.390625 19.1875 42.75 \nQ 14.984375 37.109375 14.984375 27.296875 \nQ 14.984375 17.484375 19.15625 11.84375 \nQ 23.34375 6.203125 30.609375 6.203125 \nQ 37.796875 6.203125 41.984375 11.859375 \nQ 46.1875 17.53125 46.1875 27.296875 \nQ 46.1875 37.015625 41.984375 42.703125 \nQ 37.796875 48.390625 30.609375 48.390625 \nz\nM 30.609375 56 \nQ 42.328125 56 49.015625 48.375 \nQ 55.71875 40.765625 55.71875 27.296875 \nQ 55.71875 13.875 49.015625 6.21875 \nQ 42.328125 -1.421875 30.609375 -1.421875 \nQ 18.84375 -1.421875 12.171875 6.21875 \nQ 5.515625 13.875 5.515625 27.296875 \nQ 5.515625 40.765625 12.171875 48.375 \nQ 18.84375 56 30.609375 56 \nz\n\" id=\"DejaVuSans-111\"/>\n      <path d=\"M 52 44.1875 \nQ 55.375 50.25 60.0625 53.125 \nQ 64.75 56 71.09375 56 \nQ 79.640625 56 84.28125 50.015625 \nQ 88.921875 44.046875 88.921875 33.015625 \nL 88.921875 0 \nL 79.890625 0 \nL 79.890625 32.71875 \nQ 79.890625 40.578125 77.09375 44.375 \nQ 74.3125 48.1875 68.609375 48.1875 \nQ 61.625 48.1875 57.5625 43.546875 \nQ 53.515625 38.921875 53.515625 30.90625 \nL 53.515625 0 \nL 44.484375 0 \nL 44.484375 32.71875 \nQ 44.484375 40.625 41.703125 44.40625 \nQ 38.921875 48.1875 33.109375 48.1875 \nQ 26.21875 48.1875 22.15625 43.53125 \nQ 18.109375 38.875 18.109375 30.90625 \nL 18.109375 0 \nL 9.078125 0 \nL 9.078125 54.6875 \nL 18.109375 54.6875 \nL 18.109375 46.1875 \nQ 21.1875 51.21875 25.484375 53.609375 \nQ 29.78125 56 35.6875 56 \nQ 41.65625 56 45.828125 52.96875 \nQ 50 49.953125 52 44.1875 \nz\n\" id=\"DejaVuSans-109\"/>\n     </defs>\n     <g transform=\"translate(305.332813 100.162188)scale(0.1 -0.1)\">\n      <use xlink:href=\"#DejaVuSans-99\"/>\n      <use x=\"54.980469\" xlink:href=\"#DejaVuSans-110\"/>\n      <use x=\"118.359375\" xlink:href=\"#DejaVuSans-122\"/>\n      <use x=\"170.849609\" xlink:href=\"#DejaVuSans-122\"/>\n      <use x=\"223.339844\" xlink:href=\"#DejaVuSans-46\"/>\n      <use x=\"255.126953\" xlink:href=\"#DejaVuSans-99\"/>\n      <use x=\"310.107422\" xlink:href=\"#DejaVuSans-111\"/>\n      <use x=\"371.289062\" xlink:href=\"#DejaVuSans-109\"/>\n     </g>\n    </g>\n    <g id=\"line2d_45\">\n     <path d=\"M 277.332813 111.340313 \nL 297.332813 111.340313 \n\" style=\"fill:none;stroke:#ff7f0e;stroke-linecap:square;stroke-width:1.5;\"/>\n    </g>\n    <g id=\"line2d_46\"/>\n    <g id=\"text_21\">\n     <!-- 51.la -->\n     <defs>\n      <path d=\"M 9.421875 75.984375 \nL 18.40625 75.984375 \nL 18.40625 0 \nL 9.421875 0 \nz\n\" id=\"DejaVuSans-108\"/>\n      <path d=\"M 34.28125 27.484375 \nQ 23.390625 27.484375 19.1875 25 \nQ 14.984375 22.515625 14.984375 16.5 \nQ 14.984375 11.71875 18.140625 8.90625 \nQ 21.296875 6.109375 26.703125 6.109375 \nQ 34.1875 6.109375 38.703125 11.40625 \nQ 43.21875 16.703125 43.21875 25.484375 \nL 43.21875 27.484375 \nz\nM 52.203125 31.203125 \nL 52.203125 0 \nL 43.21875 0 \nL 43.21875 8.296875 \nQ 40.140625 3.328125 35.546875 0.953125 \nQ 30.953125 -1.421875 24.3125 -1.421875 \nQ 15.921875 -1.421875 10.953125 3.296875 \nQ 6 8.015625 6 15.921875 \nQ 6 25.140625 12.171875 29.828125 \nQ 18.359375 34.515625 30.609375 34.515625 \nL 43.21875 34.515625 \nL 43.21875 35.40625 \nQ 43.21875 41.609375 39.140625 45 \nQ 35.0625 48.390625 27.6875 48.390625 \nQ 23 48.390625 18.546875 47.265625 \nQ 14.109375 46.140625 10.015625 43.890625 \nL 10.015625 52.203125 \nQ 14.9375 54.109375 19.578125 55.046875 \nQ 24.21875 56 28.609375 56 \nQ 40.484375 56 46.34375 49.84375 \nQ 52.203125 43.703125 52.203125 31.203125 \nz\n\" id=\"DejaVuSans-97\"/>\n     </defs>\n     <g transform=\"translate(305.332813 114.840313)scale(0.1 -0.1)\">\n      <use xlink:href=\"#DejaVuSans-53\"/>\n      <use x=\"63.623047\" xlink:href=\"#DejaVuSans-49\"/>\n      <use x=\"127.246094\" xlink:href=\"#DejaVuSans-46\"/>\n      <use x=\"159.033203\" xlink:href=\"#DejaVuSans-108\"/>\n      <use x=\"186.816406\" xlink:href=\"#DejaVuSans-97\"/>\n     </g>\n    </g>\n    <g id=\"line2d_47\">\n     <path d=\"M 277.332813 126.018438 \nL 297.332813 126.018438 \n\" style=\"fill:none;stroke:#2ca02c;stroke-linecap:square;stroke-width:1.5;\"/>\n    </g>\n    <g id=\"line2d_48\"/>\n    <g id=\"text_22\">\n     <!-- linezing.com -->\n     <defs>\n      <path d=\"M 9.421875 54.6875 \nL 18.40625 54.6875 \nL 18.40625 0 \nL 9.421875 0 \nz\nM 9.421875 75.984375 \nL 18.40625 75.984375 \nL 18.40625 64.59375 \nL 9.421875 64.59375 \nz\n\" id=\"DejaVuSans-105\"/>\n      <path d=\"M 56.203125 29.59375 \nL 56.203125 25.203125 \nL 14.890625 25.203125 \nQ 15.484375 15.921875 20.484375 11.0625 \nQ 25.484375 6.203125 34.421875 6.203125 \nQ 39.59375 6.203125 44.453125 7.46875 \nQ 49.3125 8.734375 54.109375 11.28125 \nL 54.109375 2.78125 \nQ 49.265625 0.734375 44.1875 -0.34375 \nQ 39.109375 -1.421875 33.890625 -1.421875 \nQ 20.796875 -1.421875 13.15625 6.1875 \nQ 5.515625 13.8125 5.515625 26.8125 \nQ 5.515625 40.234375 12.765625 48.109375 \nQ 20.015625 56 32.328125 56 \nQ 43.359375 56 49.78125 48.890625 \nQ 56.203125 41.796875 56.203125 29.59375 \nz\nM 47.21875 32.234375 \nQ 47.125 39.59375 43.09375 43.984375 \nQ 39.0625 48.390625 32.421875 48.390625 \nQ 24.90625 48.390625 20.390625 44.140625 \nQ 15.875 39.890625 15.1875 32.171875 \nz\n\" id=\"DejaVuSans-101\"/>\n      <path d=\"M 45.40625 27.984375 \nQ 45.40625 37.75 41.375 43.109375 \nQ 37.359375 48.484375 30.078125 48.484375 \nQ 22.859375 48.484375 18.828125 43.109375 \nQ 14.796875 37.75 14.796875 27.984375 \nQ 14.796875 18.265625 18.828125 12.890625 \nQ 22.859375 7.515625 30.078125 7.515625 \nQ 37.359375 7.515625 41.375 12.890625 \nQ 45.40625 18.265625 45.40625 27.984375 \nz\nM 54.390625 6.78125 \nQ 54.390625 -7.171875 48.1875 -13.984375 \nQ 42 -20.796875 29.203125 -20.796875 \nQ 24.46875 -20.796875 20.265625 -20.09375 \nQ 16.0625 -19.390625 12.109375 -17.921875 \nL 12.109375 -9.1875 \nQ 16.0625 -11.328125 19.921875 -12.34375 \nQ 23.78125 -13.375 27.78125 -13.375 \nQ 36.625 -13.375 41.015625 -8.765625 \nQ 45.40625 -4.15625 45.40625 5.171875 \nL 45.40625 9.625 \nQ 42.625 4.78125 38.28125 2.390625 \nQ 33.9375 0 27.875 0 \nQ 17.828125 0 11.671875 7.65625 \nQ 5.515625 15.328125 5.515625 27.984375 \nQ 5.515625 40.671875 11.671875 48.328125 \nQ 17.828125 56 27.875 56 \nQ 33.9375 56 38.28125 53.609375 \nQ 42.625 51.21875 45.40625 46.390625 \nL 45.40625 54.6875 \nL 54.390625 54.6875 \nz\n\" id=\"DejaVuSans-103\"/>\n     </defs>\n     <g transform=\"translate(305.332813 129.518438)scale(0.1 -0.1)\">\n      <use xlink:href=\"#DejaVuSans-108\"/>\n      <use x=\"27.783203\" xlink:href=\"#DejaVuSans-105\"/>\n      <use x=\"55.566406\" xlink:href=\"#DejaVuSans-110\"/>\n      <use x=\"118.945312\" xlink:href=\"#DejaVuSans-101\"/>\n      <use x=\"180.46875\" xlink:href=\"#DejaVuSans-122\"/>\n      <use x=\"232.958984\" xlink:href=\"#DejaVuSans-105\"/>\n      <use x=\"260.742188\" xlink:href=\"#DejaVuSans-110\"/>\n      <use x=\"324.121094\" xlink:href=\"#DejaVuSans-103\"/>\n      <use x=\"387.597656\" xlink:href=\"#DejaVuSans-46\"/>\n      <use x=\"419.384766\" xlink:href=\"#DejaVuSans-99\"/>\n      <use x=\"474.365234\" xlink:href=\"#DejaVuSans-111\"/>\n      <use x=\"535.546875\" xlink:href=\"#DejaVuSans-109\"/>\n     </g>\n    </g>\n    <g id=\"line2d_49\">\n     <path d=\"M 277.332813 140.696563 \nL 297.332813 140.696563 \n\" style=\"fill:none;stroke:#d62728;stroke-linecap:square;stroke-width:1.5;\"/>\n    </g>\n    <g id=\"line2d_50\"/>\n    <g id=\"text_23\">\n     <!-- sohu.com -->\n     <defs>\n      <path d=\"M 44.28125 53.078125 \nL 44.28125 44.578125 \nQ 40.484375 46.53125 36.375 47.5 \nQ 32.28125 48.484375 27.875 48.484375 \nQ 21.1875 48.484375 17.84375 46.4375 \nQ 14.5 44.390625 14.5 40.28125 \nQ 14.5 37.15625 16.890625 35.375 \nQ 19.28125 33.59375 26.515625 31.984375 \nL 29.59375 31.296875 \nQ 39.15625 29.25 43.1875 25.515625 \nQ 47.21875 21.78125 47.21875 15.09375 \nQ 47.21875 7.46875 41.1875 3.015625 \nQ 35.15625 -1.421875 24.609375 -1.421875 \nQ 20.21875 -1.421875 15.453125 -0.5625 \nQ 10.6875 0.296875 5.421875 2 \nL 5.421875 11.28125 \nQ 10.40625 8.6875 15.234375 7.390625 \nQ 20.0625 6.109375 24.8125 6.109375 \nQ 31.15625 6.109375 34.5625 8.28125 \nQ 37.984375 10.453125 37.984375 14.40625 \nQ 37.984375 18.0625 35.515625 20.015625 \nQ 33.0625 21.96875 24.703125 23.78125 \nL 21.578125 24.515625 \nQ 13.234375 26.265625 9.515625 29.90625 \nQ 5.8125 33.546875 5.8125 39.890625 \nQ 5.8125 47.609375 11.28125 51.796875 \nQ 16.75 56 26.8125 56 \nQ 31.78125 56 36.171875 55.265625 \nQ 40.578125 54.546875 44.28125 53.078125 \nz\n\" id=\"DejaVuSans-115\"/>\n      <path d=\"M 54.890625 33.015625 \nL 54.890625 0 \nL 45.90625 0 \nL 45.90625 32.71875 \nQ 45.90625 40.484375 42.875 44.328125 \nQ 39.84375 48.1875 33.796875 48.1875 \nQ 26.515625 48.1875 22.3125 43.546875 \nQ 18.109375 38.921875 18.109375 30.90625 \nL 18.109375 0 \nL 9.078125 0 \nL 9.078125 75.984375 \nL 18.109375 75.984375 \nL 18.109375 46.1875 \nQ 21.34375 51.125 25.703125 53.5625 \nQ 30.078125 56 35.796875 56 \nQ 45.21875 56 50.046875 50.171875 \nQ 54.890625 44.34375 54.890625 33.015625 \nz\n\" id=\"DejaVuSans-104\"/>\n      <path d=\"M 8.5 21.578125 \nL 8.5 54.6875 \nL 17.484375 54.6875 \nL 17.484375 21.921875 \nQ 17.484375 14.15625 20.5 10.265625 \nQ 23.53125 6.390625 29.59375 6.390625 \nQ 36.859375 6.390625 41.078125 11.03125 \nQ 45.3125 15.671875 45.3125 23.6875 \nL 45.3125 54.6875 \nL 54.296875 54.6875 \nL 54.296875 0 \nL 45.3125 0 \nL 45.3125 8.40625 \nQ 42.046875 3.421875 37.71875 1 \nQ 33.40625 -1.421875 27.6875 -1.421875 \nQ 18.265625 -1.421875 13.375 4.4375 \nQ 8.5 10.296875 8.5 21.578125 \nz\nM 31.109375 56 \nz\n\" id=\"DejaVuSans-117\"/>\n     </defs>\n     <g transform=\"translate(305.332813 144.196563)scale(0.1 -0.1)\">\n      <use xlink:href=\"#DejaVuSans-115\"/>\n      <use x=\"52.099609\" xlink:href=\"#DejaVuSans-111\"/>\n      <use x=\"113.28125\" xlink:href=\"#DejaVuSans-104\"/>\n      <use x=\"176.660156\" xlink:href=\"#DejaVuSans-117\"/>\n      <use x=\"240.039062\" xlink:href=\"#DejaVuSans-46\"/>\n      <use x=\"271.826172\" xlink:href=\"#DejaVuSans-99\"/>\n      <use x=\"326.806641\" xlink:href=\"#DejaVuSans-111\"/>\n      <use x=\"387.988281\" xlink:href=\"#DejaVuSans-109\"/>\n     </g>\n    </g>\n   </g>\n  </g>\n </g>\n <defs>\n  <clipPath id=\"pb9e992319c\">\n   <rect height=\"217.44\" width=\"334.8\" x=\"42.828125\" y=\"10.7\"/>\n  </clipPath>\n </defs>\n</svg>\n",
      "text/plain": [
       "<Figure size 432x288 with 1 Axes>"
      ]
     },
     "metadata": {
      "needs_background": "light"
     }
    },
    {
     "output_type": "display_data",
     "data": {
      "image/png": "[encoded data removed]",
      "image/svg+xml": "<?xml version=\"1.0\" encoding=\"utf-8\" standalone=\"no\"?>\n<!DOCTYPE svg PUBLIC \"-//W3C//DTD SVG 1.1//EN\"\n  \"http://www.w3.org/Graphics/SVG/1.1/DTD/svg11.dtd\">\n<!-- Created with matplotlib (https://matplotlib.org/) -->\n<svg height=\"280.515pt\" version=\"1.1\" viewBox=\"0 0 394.690625 280.515\" width=\"394.690625pt\" xmlns=\"http://www.w3.org/2000/svg\" xmlns:xlink=\"http://www.w3.org/1999/xlink\">\n <defs>\n  <style type=\"text/css\">\n*{stroke-linecap:butt;stroke-linejoin:round;}\n  </style>\n </defs>\n <g id=\"figure_1\">\n  <g id=\"patch_1\">\n   <path d=\"M 0 280.515 \nL 394.690625 280.515 \nL 394.690625 0 \nL 0 0 \nz\n\" style=\"fill:none;\"/>\n  </g>\n  <g id=\"axes_1\">\n   <g id=\"patch_2\">\n    <path d=\"M 49.190625 228.14 \nL 383.990625 228.14 \nL 383.990625 10.7 \nL 49.190625 10.7 \nz\n\" style=\"fill:#ffffff;\"/>\n   </g>\n   <g id=\"matplotlib.axis_1\">\n    <g id=\"xtick_1\">\n     <g id=\"line2d_1\">\n      <path clip-path=\"url(#p91d5979641)\" d=\"M 64.408807 228.14 \nL 64.408807 10.7 \n\" style=\"fill:none;stroke:#b0b0b0;stroke-linecap:square;stroke-width:0.8;\"/>\n     </g>\n     <g id=\"line2d_2\">\n      <defs>\n       <path d=\"M 0 0 \nL 0 3.5 \n\" id=\"m8b144e0327\" style=\"stroke:#000000;stroke-width:0.8;\"/>\n      </defs>\n      <g>\n       <use style=\"stroke:#000000;stroke-width:0.8;\" x=\"64.408807\" xlink:href=\"#m8b144e0327\" y=\"228.14\"/>\n      </g>\n     </g>\n     <g id=\"text_1\">\n      <!-- 201407 -->\n      <defs>\n       <path d=\"M 19.1875 8.296875 \nL 53.609375 8.296875 \nL 53.609375 0 \nL 7.328125 0 \nL 7.328125 8.296875 \nQ 12.9375 14.109375 22.625 23.890625 \nQ 32.328125 33.6875 34.8125 36.53125 \nQ 39.546875 41.84375 41.421875 45.53125 \nQ 43.3125 49.21875 43.3125 52.78125 \nQ 43.3125 58.59375 39.234375 62.25 \nQ 35.15625 65.921875 28.609375 65.921875 \nQ 23.96875 65.921875 18.8125 64.3125 \nQ 13.671875 62.703125 7.8125 59.421875 \nL 7.8125 69.390625 \nQ 13.765625 71.78125 18.9375 73 \nQ 24.125 74.21875 28.421875 74.21875 \nQ 39.75 74.21875 46.484375 68.546875 \nQ 53.21875 62.890625 53.21875 53.421875 \nQ 53.21875 48.921875 51.53125 44.890625 \nQ 49.859375 40.875 45.40625 35.40625 \nQ 44.1875 33.984375 37.640625 27.21875 \nQ 31.109375 20.453125 19.1875 8.296875 \nz\n\" id=\"DejaVuSans-50\"/>\n       <path d=\"M 31.78125 66.40625 \nQ 24.171875 66.40625 20.328125 58.90625 \nQ 16.5 51.421875 16.5 36.375 \nQ 16.5 21.390625 20.328125 13.890625 \nQ 24.171875 6.390625 31.78125 6.390625 \nQ 39.453125 6.390625 43.28125 13.890625 \nQ 47.125 21.390625 47.125 36.375 \nQ 47.125 51.421875 43.28125 58.90625 \nQ 39.453125 66.40625 31.78125 66.40625 \nz\nM 31.78125 74.21875 \nQ 44.046875 74.21875 50.515625 64.515625 \nQ 56.984375 54.828125 56.984375 36.375 \nQ 56.984375 17.96875 50.515625 8.265625 \nQ 44.046875 -1.421875 31.78125 -1.421875 \nQ 19.53125 -1.421875 13.0625 8.265625 \nQ 6.59375 17.96875 6.59375 36.375 \nQ 6.59375 54.828125 13.0625 64.515625 \nQ 19.53125 74.21875 31.78125 74.21875 \nz\n\" id=\"DejaVuSans-48\"/>\n       <path d=\"M 12.40625 8.296875 \nL 28.515625 8.296875 \nL 28.515625 63.921875 \nL 10.984375 60.40625 \nL 10.984375 69.390625 \nL 28.421875 72.90625 \nL 38.28125 72.90625 \nL 38.28125 8.296875 \nL 54.390625 8.296875 \nL 54.390625 0 \nL 12.40625 0 \nz\n\" id=\"DejaVuSans-49\"/>\n       <path d=\"M 37.796875 64.3125 \nL 12.890625 25.390625 \nL 37.796875 25.390625 \nz\nM 35.203125 72.90625 \nL 47.609375 72.90625 \nL 47.609375 25.390625 \nL 58.015625 25.390625 \nL 58.015625 17.1875 \nL 47.609375 17.1875 \nL 47.609375 0 \nL 37.796875 0 \nL 37.796875 17.1875 \nL 4.890625 17.1875 \nL 4.890625 26.703125 \nz\n\" id=\"DejaVuSans-52\"/>\n       <path d=\"M 8.203125 72.90625 \nL 55.078125 72.90625 \nL 55.078125 68.703125 \nL 28.609375 0 \nL 18.3125 0 \nL 43.21875 64.59375 \nL 8.203125 64.59375 \nz\n\" id=\"DejaVuSans-55\"/>\n      </defs>\n      <g transform=\"translate(61.649432 235.14)rotate(-270)scale(0.1 -0.1)\">\n       <use xlink:href=\"#DejaVuSans-50\"/>\n       <use x=\"63.623047\" xlink:href=\"#DejaVuSans-48\"/>\n       <use x=\"127.246094\" xlink:href=\"#DejaVuSans-49\"/>\n       <use x=\"190.869141\" xlink:href=\"#DejaVuSans-52\"/>\n       <use x=\"254.492188\" xlink:href=\"#DejaVuSans-48\"/>\n       <use x=\"318.115234\" xlink:href=\"#DejaVuSans-55\"/>\n      </g>\n     </g>\n    </g>\n    <g id=\"xtick_2\">\n     <g id=\"line2d_3\">\n      <path clip-path=\"url(#p91d5979641)\" d=\"M 87.821394 228.14 \nL 87.821394 10.7 \n\" style=\"fill:none;stroke:#b0b0b0;stroke-linecap:square;stroke-width:0.8;\"/>\n     </g>\n     <g id=\"line2d_4\">\n      <g>\n       <use style=\"stroke:#000000;stroke-width:0.8;\" x=\"87.821394\" xlink:href=\"#m8b144e0327\" y=\"228.14\"/>\n      </g>\n     </g>\n     <g id=\"text_2\">\n      <!-- 201501 -->\n      <defs>\n       <path d=\"M 10.796875 72.90625 \nL 49.515625 72.90625 \nL 49.515625 64.59375 \nL 19.828125 64.59375 \nL 19.828125 46.734375 \nQ 21.96875 47.46875 24.109375 47.828125 \nQ 26.265625 48.1875 28.421875 48.1875 \nQ 40.625 48.1875 47.75 41.5 \nQ 54.890625 34.8125 54.890625 23.390625 \nQ 54.890625 11.625 47.5625 5.09375 \nQ 40.234375 -1.421875 26.90625 -1.421875 \nQ 22.3125 -1.421875 17.546875 -0.640625 \nQ 12.796875 0.140625 7.71875 1.703125 \nL 7.71875 11.625 \nQ 12.109375 9.234375 16.796875 8.0625 \nQ 21.484375 6.890625 26.703125 6.890625 \nQ 35.15625 6.890625 40.078125 11.328125 \nQ 45.015625 15.765625 45.015625 23.390625 \nQ 45.015625 31 40.078125 35.4375 \nQ 35.15625 39.890625 26.703125 39.890625 \nQ 22.75 39.890625 18.8125 39.015625 \nQ 14.890625 38.140625 10.796875 36.28125 \nz\n\" id=\"DejaVuSans-53\"/>\n      </defs>\n      <g transform=\"translate(85.062019 235.14)rotate(-270)scale(0.1 -0.1)\">\n       <use xlink:href=\"#DejaVuSans-50\"/>\n       <use x=\"63.623047\" xlink:href=\"#DejaVuSans-48\"/>\n       <use x=\"127.246094\" xlink:href=\"#DejaVuSans-49\"/>\n       <use x=\"190.869141\" xlink:href=\"#DejaVuSans-53\"/>\n       <use x=\"254.492188\" xlink:href=\"#DejaVuSans-48\"/>\n       <use x=\"318.115234\" xlink:href=\"#DejaVuSans-49\"/>\n      </g>\n     </g>\n    </g>\n    <g id=\"xtick_3\">\n     <g id=\"line2d_5\">\n      <path clip-path=\"url(#p91d5979641)\" d=\"M 111.233982 228.14 \nL 111.233982 10.7 \n\" style=\"fill:none;stroke:#b0b0b0;stroke-linecap:square;stroke-width:0.8;\"/>\n     </g>\n     <g id=\"line2d_6\">\n      <g>\n       <use style=\"stroke:#000000;stroke-width:0.8;\" x=\"111.233982\" xlink:href=\"#m8b144e0327\" y=\"228.14\"/>\n      </g>\n     </g>\n     <g id=\"text_3\">\n      <!-- 201507 -->\n      <g transform=\"translate(108.474607 235.14)rotate(-270)scale(0.1 -0.1)\">\n       <use xlink:href=\"#DejaVuSans-50\"/>\n       <use x=\"63.623047\" xlink:href=\"#DejaVuSans-48\"/>\n       <use x=\"127.246094\" xlink:href=\"#DejaVuSans-49\"/>\n       <use x=\"190.869141\" xlink:href=\"#DejaVuSans-53\"/>\n       <use x=\"254.492188\" xlink:href=\"#DejaVuSans-48\"/>\n       <use x=\"318.115234\" xlink:href=\"#DejaVuSans-55\"/>\n      </g>\n     </g>\n    </g>\n    <g id=\"xtick_4\">\n     <g id=\"line2d_7\">\n      <path clip-path=\"url(#p91d5979641)\" d=\"M 134.646569 228.14 \nL 134.646569 10.7 \n\" style=\"fill:none;stroke:#b0b0b0;stroke-linecap:square;stroke-width:0.8;\"/>\n     </g>\n     <g id=\"line2d_8\">\n      <g>\n       <use style=\"stroke:#000000;stroke-width:0.8;\" x=\"134.646569\" xlink:href=\"#m8b144e0327\" y=\"228.14\"/>\n      </g>\n     </g>\n     <g id=\"text_4\">\n      <!-- 201602 -->\n      <defs>\n       <path d=\"M 33.015625 40.375 \nQ 26.375 40.375 22.484375 35.828125 \nQ 18.609375 31.296875 18.609375 23.390625 \nQ 18.609375 15.53125 22.484375 10.953125 \nQ 26.375 6.390625 33.015625 6.390625 \nQ 39.65625 6.390625 43.53125 10.953125 \nQ 47.40625 15.53125 47.40625 23.390625 \nQ 47.40625 31.296875 43.53125 35.828125 \nQ 39.65625 40.375 33.015625 40.375 \nz\nM 52.59375 71.296875 \nL 52.59375 62.3125 \nQ 48.875 64.0625 45.09375 64.984375 \nQ 41.3125 65.921875 37.59375 65.921875 \nQ 27.828125 65.921875 22.671875 59.328125 \nQ 17.53125 52.734375 16.796875 39.40625 \nQ 19.671875 43.65625 24.015625 45.921875 \nQ 28.375 48.1875 33.59375 48.1875 \nQ 44.578125 48.1875 50.953125 41.515625 \nQ 57.328125 34.859375 57.328125 23.390625 \nQ 57.328125 12.15625 50.6875 5.359375 \nQ 44.046875 -1.421875 33.015625 -1.421875 \nQ 20.359375 -1.421875 13.671875 8.265625 \nQ 6.984375 17.96875 6.984375 36.375 \nQ 6.984375 53.65625 15.1875 63.9375 \nQ 23.390625 74.21875 37.203125 74.21875 \nQ 40.921875 74.21875 44.703125 73.484375 \nQ 48.484375 72.75 52.59375 71.296875 \nz\n\" id=\"DejaVuSans-54\"/>\n      </defs>\n      <g transform=\"translate(131.887194 235.14)rotate(-270)scale(0.1 -0.1)\">\n       <use xlink:href=\"#DejaVuSans-50\"/>\n       <use x=\"63.623047\" xlink:href=\"#DejaVuSans-48\"/>\n       <use x=\"127.246094\" xlink:href=\"#DejaVuSans-49\"/>\n       <use x=\"190.869141\" xlink:href=\"#DejaVuSans-54\"/>\n       <use x=\"254.492188\" xlink:href=\"#DejaVuSans-48\"/>\n       <use x=\"318.115234\" xlink:href=\"#DejaVuSans-50\"/>\n      </g>\n     </g>\n    </g>\n    <g id=\"xtick_5\">\n     <g id=\"line2d_9\">\n      <path clip-path=\"url(#p91d5979641)\" d=\"M 158.059156 228.14 \nL 158.059156 10.7 \n\" style=\"fill:none;stroke:#b0b0b0;stroke-linecap:square;stroke-width:0.8;\"/>\n     </g>\n     <g id=\"line2d_10\">\n      <g>\n       <use style=\"stroke:#000000;stroke-width:0.8;\" x=\"158.059156\" xlink:href=\"#m8b144e0327\" y=\"228.14\"/>\n      </g>\n     </g>\n     <g id=\"text_5\">\n      <!-- 201607 -->\n      <g transform=\"translate(155.299781 235.14)rotate(-270)scale(0.1 -0.1)\">\n       <use xlink:href=\"#DejaVuSans-50\"/>\n       <use x=\"63.623047\" xlink:href=\"#DejaVuSans-48\"/>\n       <use x=\"127.246094\" xlink:href=\"#DejaVuSans-49\"/>\n       <use x=\"190.869141\" xlink:href=\"#DejaVuSans-54\"/>\n       <use x=\"254.492188\" xlink:href=\"#DejaVuSans-48\"/>\n       <use x=\"318.115234\" xlink:href=\"#DejaVuSans-55\"/>\n      </g>\n     </g>\n    </g>\n    <g id=\"xtick_6\">\n     <g id=\"line2d_11\">\n      <path clip-path=\"url(#p91d5979641)\" d=\"M 181.471744 228.14 \nL 181.471744 10.7 \n\" style=\"fill:none;stroke:#b0b0b0;stroke-linecap:square;stroke-width:0.8;\"/>\n     </g>\n     <g id=\"line2d_12\">\n      <g>\n       <use style=\"stroke:#000000;stroke-width:0.8;\" x=\"181.471744\" xlink:href=\"#m8b144e0327\" y=\"228.14\"/>\n      </g>\n     </g>\n     <g id=\"text_6\">\n      <!-- 201701 -->\n      <g transform=\"translate(178.712369 235.14)rotate(-270)scale(0.1 -0.1)\">\n       <use xlink:href=\"#DejaVuSans-50\"/>\n       <use x=\"63.623047\" xlink:href=\"#DejaVuSans-48\"/>\n       <use x=\"127.246094\" xlink:href=\"#DejaVuSans-49\"/>\n       <use x=\"190.869141\" xlink:href=\"#DejaVuSans-55\"/>\n       <use x=\"254.492188\" xlink:href=\"#DejaVuSans-48\"/>\n       <use x=\"318.115234\" xlink:href=\"#DejaVuSans-49\"/>\n      </g>\n     </g>\n    </g>\n    <g id=\"xtick_7\">\n     <g id=\"line2d_13\">\n      <path clip-path=\"url(#p91d5979641)\" d=\"M 204.884331 228.14 \nL 204.884331 10.7 \n\" style=\"fill:none;stroke:#b0b0b0;stroke-linecap:square;stroke-width:0.8;\"/>\n     </g>\n     <g id=\"line2d_14\">\n      <g>\n       <use style=\"stroke:#000000;stroke-width:0.8;\" x=\"204.884331\" xlink:href=\"#m8b144e0327\" y=\"228.14\"/>\n      </g>\n     </g>\n     <g id=\"text_7\">\n      <!-- 201707 -->\n      <g transform=\"translate(202.124956 235.14)rotate(-270)scale(0.1 -0.1)\">\n       <use xlink:href=\"#DejaVuSans-50\"/>\n       <use x=\"63.623047\" xlink:href=\"#DejaVuSans-48\"/>\n       <use x=\"127.246094\" xlink:href=\"#DejaVuSans-49\"/>\n       <use x=\"190.869141\" xlink:href=\"#DejaVuSans-55\"/>\n       <use x=\"254.492188\" xlink:href=\"#DejaVuSans-48\"/>\n       <use x=\"318.115234\" xlink:href=\"#DejaVuSans-55\"/>\n      </g>\n     </g>\n    </g>\n    <g id=\"xtick_8\">\n     <g id=\"line2d_15\">\n      <path clip-path=\"url(#p91d5979641)\" d=\"M 228.296919 228.14 \nL 228.296919 10.7 \n\" style=\"fill:none;stroke:#b0b0b0;stroke-linecap:square;stroke-width:0.8;\"/>\n     </g>\n     <g id=\"line2d_16\">\n      <g>\n       <use style=\"stroke:#000000;stroke-width:0.8;\" x=\"228.296919\" xlink:href=\"#m8b144e0327\" y=\"228.14\"/>\n      </g>\n     </g>\n     <g id=\"text_8\">\n      <!-- 201801 -->\n      <defs>\n       <path d=\"M 31.78125 34.625 \nQ 24.75 34.625 20.71875 30.859375 \nQ 16.703125 27.09375 16.703125 20.515625 \nQ 16.703125 13.921875 20.71875 10.15625 \nQ 24.75 6.390625 31.78125 6.390625 \nQ 38.8125 6.390625 42.859375 10.171875 \nQ 46.921875 13.96875 46.921875 20.515625 \nQ 46.921875 27.09375 42.890625 30.859375 \nQ 38.875 34.625 31.78125 34.625 \nz\nM 21.921875 38.8125 \nQ 15.578125 40.375 12.03125 44.71875 \nQ 8.5 49.078125 8.5 55.328125 \nQ 8.5 64.0625 14.71875 69.140625 \nQ 20.953125 74.21875 31.78125 74.21875 \nQ 42.671875 74.21875 48.875 69.140625 \nQ 55.078125 64.0625 55.078125 55.328125 \nQ 55.078125 49.078125 51.53125 44.71875 \nQ 48 40.375 41.703125 38.8125 \nQ 48.828125 37.15625 52.796875 32.3125 \nQ 56.78125 27.484375 56.78125 20.515625 \nQ 56.78125 9.90625 50.3125 4.234375 \nQ 43.84375 -1.421875 31.78125 -1.421875 \nQ 19.734375 -1.421875 13.25 4.234375 \nQ 6.78125 9.90625 6.78125 20.515625 \nQ 6.78125 27.484375 10.78125 32.3125 \nQ 14.796875 37.15625 21.921875 38.8125 \nz\nM 18.3125 54.390625 \nQ 18.3125 48.734375 21.84375 45.5625 \nQ 25.390625 42.390625 31.78125 42.390625 \nQ 38.140625 42.390625 41.71875 45.5625 \nQ 45.3125 48.734375 45.3125 54.390625 \nQ 45.3125 60.0625 41.71875 63.234375 \nQ 38.140625 66.40625 31.78125 66.40625 \nQ 25.390625 66.40625 21.84375 63.234375 \nQ 18.3125 60.0625 18.3125 54.390625 \nz\n\" id=\"DejaVuSans-56\"/>\n      </defs>\n      <g transform=\"translate(225.537544 235.14)rotate(-270)scale(0.1 -0.1)\">\n       <use xlink:href=\"#DejaVuSans-50\"/>\n       <use x=\"63.623047\" xlink:href=\"#DejaVuSans-48\"/>\n       <use x=\"127.246094\" xlink:href=\"#DejaVuSans-49\"/>\n       <use x=\"190.869141\" xlink:href=\"#DejaVuSans-56\"/>\n       <use x=\"254.492188\" xlink:href=\"#DejaVuSans-48\"/>\n       <use x=\"318.115234\" xlink:href=\"#DejaVuSans-49\"/>\n      </g>\n     </g>\n    </g>\n    <g id=\"xtick_9\">\n     <g id=\"line2d_17\">\n      <path clip-path=\"url(#p91d5979641)\" d=\"M 251.709506 228.14 \nL 251.709506 10.7 \n\" style=\"fill:none;stroke:#b0b0b0;stroke-linecap:square;stroke-width:0.8;\"/>\n     </g>\n     <g id=\"line2d_18\">\n      <g>\n       <use style=\"stroke:#000000;stroke-width:0.8;\" x=\"251.709506\" xlink:href=\"#m8b144e0327\" y=\"228.14\"/>\n      </g>\n     </g>\n     <g id=\"text_9\">\n      <!-- 201807 -->\n      <g transform=\"translate(248.950131 235.14)rotate(-270)scale(0.1 -0.1)\">\n       <use xlink:href=\"#DejaVuSans-50\"/>\n       <use x=\"63.623047\" xlink:href=\"#DejaVuSans-48\"/>\n       <use x=\"127.246094\" xlink:href=\"#DejaVuSans-49\"/>\n       <use x=\"190.869141\" xlink:href=\"#DejaVuSans-56\"/>\n       <use x=\"254.492188\" xlink:href=\"#DejaVuSans-48\"/>\n       <use x=\"318.115234\" xlink:href=\"#DejaVuSans-55\"/>\n      </g>\n     </g>\n    </g>\n    <g id=\"xtick_10\">\n     <g id=\"line2d_19\">\n      <path clip-path=\"url(#p91d5979641)\" d=\"M 275.122094 228.14 \nL 275.122094 10.7 \n\" style=\"fill:none;stroke:#b0b0b0;stroke-linecap:square;stroke-width:0.8;\"/>\n     </g>\n     <g id=\"line2d_20\">\n      <g>\n       <use style=\"stroke:#000000;stroke-width:0.8;\" x=\"275.122094\" xlink:href=\"#m8b144e0327\" y=\"228.14\"/>\n      </g>\n     </g>\n     <g id=\"text_10\">\n      <!-- 201901 -->\n      <defs>\n       <path d=\"M 10.984375 1.515625 \nL 10.984375 10.5 \nQ 14.703125 8.734375 18.5 7.8125 \nQ 22.3125 6.890625 25.984375 6.890625 \nQ 35.75 6.890625 40.890625 13.453125 \nQ 46.046875 20.015625 46.78125 33.40625 \nQ 43.953125 29.203125 39.59375 26.953125 \nQ 35.25 24.703125 29.984375 24.703125 \nQ 19.046875 24.703125 12.671875 31.3125 \nQ 6.296875 37.9375 6.296875 49.421875 \nQ 6.296875 60.640625 12.9375 67.421875 \nQ 19.578125 74.21875 30.609375 74.21875 \nQ 43.265625 74.21875 49.921875 64.515625 \nQ 56.59375 54.828125 56.59375 36.375 \nQ 56.59375 19.140625 48.40625 8.859375 \nQ 40.234375 -1.421875 26.421875 -1.421875 \nQ 22.703125 -1.421875 18.890625 -0.6875 \nQ 15.09375 0.046875 10.984375 1.515625 \nz\nM 30.609375 32.421875 \nQ 37.25 32.421875 41.125 36.953125 \nQ 45.015625 41.5 45.015625 49.421875 \nQ 45.015625 57.28125 41.125 61.84375 \nQ 37.25 66.40625 30.609375 66.40625 \nQ 23.96875 66.40625 20.09375 61.84375 \nQ 16.21875 57.28125 16.21875 49.421875 \nQ 16.21875 41.5 20.09375 36.953125 \nQ 23.96875 32.421875 30.609375 32.421875 \nz\n\" id=\"DejaVuSans-57\"/>\n      </defs>\n      <g transform=\"translate(272.362719 235.14)rotate(-270)scale(0.1 -0.1)\">\n       <use xlink:href=\"#DejaVuSans-50\"/>\n       <use x=\"63.623047\" xlink:href=\"#DejaVuSans-48\"/>\n       <use x=\"127.246094\" xlink:href=\"#DejaVuSans-49\"/>\n       <use x=\"190.869141\" xlink:href=\"#DejaVuSans-57\"/>\n       <use x=\"254.492188\" xlink:href=\"#DejaVuSans-48\"/>\n       <use x=\"318.115234\" xlink:href=\"#DejaVuSans-49\"/>\n      </g>\n     </g>\n    </g>\n    <g id=\"xtick_11\">\n     <g id=\"line2d_21\">\n      <path clip-path=\"url(#p91d5979641)\" d=\"M 298.534681 228.14 \nL 298.534681 10.7 \n\" style=\"fill:none;stroke:#b0b0b0;stroke-linecap:square;stroke-width:0.8;\"/>\n     </g>\n     <g id=\"line2d_22\">\n      <g>\n       <use style=\"stroke:#000000;stroke-width:0.8;\" x=\"298.534681\" xlink:href=\"#m8b144e0327\" y=\"228.14\"/>\n      </g>\n     </g>\n     <g id=\"text_11\">\n      <!-- 201907 -->\n      <g transform=\"translate(295.775306 235.14)rotate(-270)scale(0.1 -0.1)\">\n       <use xlink:href=\"#DejaVuSans-50\"/>\n       <use x=\"63.623047\" xlink:href=\"#DejaVuSans-48\"/>\n       <use x=\"127.246094\" xlink:href=\"#DejaVuSans-49\"/>\n       <use x=\"190.869141\" xlink:href=\"#DejaVuSans-57\"/>\n       <use x=\"254.492188\" xlink:href=\"#DejaVuSans-48\"/>\n       <use x=\"318.115234\" xlink:href=\"#DejaVuSans-55\"/>\n      </g>\n     </g>\n    </g>\n    <g id=\"xtick_12\">\n     <g id=\"line2d_23\">\n      <path clip-path=\"url(#p91d5979641)\" d=\"M 321.947268 228.14 \nL 321.947268 10.7 \n\" style=\"fill:none;stroke:#b0b0b0;stroke-linecap:square;stroke-width:0.8;\"/>\n     </g>\n     <g id=\"line2d_24\">\n      <g>\n       <use style=\"stroke:#000000;stroke-width:0.8;\" x=\"321.947268\" xlink:href=\"#m8b144e0327\" y=\"228.14\"/>\n      </g>\n     </g>\n     <g id=\"text_12\">\n      <!-- 202001 -->\n      <g transform=\"translate(319.187893 235.14)rotate(-270)scale(0.1 -0.1)\">\n       <use xlink:href=\"#DejaVuSans-50\"/>\n       <use x=\"63.623047\" xlink:href=\"#DejaVuSans-48\"/>\n       <use x=\"127.246094\" xlink:href=\"#DejaVuSans-50\"/>\n       <use x=\"190.869141\" xlink:href=\"#DejaVuSans-48\"/>\n       <use x=\"254.492188\" xlink:href=\"#DejaVuSans-48\"/>\n       <use x=\"318.115234\" xlink:href=\"#DejaVuSans-49\"/>\n      </g>\n     </g>\n    </g>\n    <g id=\"xtick_13\">\n     <g id=\"line2d_25\">\n      <path clip-path=\"url(#p91d5979641)\" d=\"M 345.359856 228.14 \nL 345.359856 10.7 \n\" style=\"fill:none;stroke:#b0b0b0;stroke-linecap:square;stroke-width:0.8;\"/>\n     </g>\n     <g id=\"line2d_26\">\n      <g>\n       <use style=\"stroke:#000000;stroke-width:0.8;\" x=\"345.359856\" xlink:href=\"#m8b144e0327\" y=\"228.14\"/>\n      </g>\n     </g>\n     <g id=\"text_13\">\n      <!-- 202007 -->\n      <g transform=\"translate(342.600481 235.14)rotate(-270)scale(0.1 -0.1)\">\n       <use xlink:href=\"#DejaVuSans-50\"/>\n       <use x=\"63.623047\" xlink:href=\"#DejaVuSans-48\"/>\n       <use x=\"127.246094\" xlink:href=\"#DejaVuSans-50\"/>\n       <use x=\"190.869141\" xlink:href=\"#DejaVuSans-48\"/>\n       <use x=\"254.492188\" xlink:href=\"#DejaVuSans-48\"/>\n       <use x=\"318.115234\" xlink:href=\"#DejaVuSans-55\"/>\n      </g>\n     </g>\n    </g>\n    <g id=\"xtick_14\">\n     <g id=\"line2d_27\">\n      <path clip-path=\"url(#p91d5979641)\" d=\"M 368.772443 228.14 \nL 368.772443 10.7 \n\" style=\"fill:none;stroke:#b0b0b0;stroke-linecap:square;stroke-width:0.8;\"/>\n     </g>\n     <g id=\"line2d_28\">\n      <g>\n       <use style=\"stroke:#000000;stroke-width:0.8;\" x=\"368.772443\" xlink:href=\"#m8b144e0327\" y=\"228.14\"/>\n      </g>\n     </g>\n     <g id=\"text_14\">\n      <!-- 202101 -->\n      <g transform=\"translate(366.013068 235.14)rotate(-270)scale(0.1 -0.1)\">\n       <use xlink:href=\"#DejaVuSans-50\"/>\n       <use x=\"63.623047\" xlink:href=\"#DejaVuSans-48\"/>\n       <use x=\"127.246094\" xlink:href=\"#DejaVuSans-50\"/>\n       <use x=\"190.869141\" xlink:href=\"#DejaVuSans-49\"/>\n       <use x=\"254.492188\" xlink:href=\"#DejaVuSans-48\"/>\n       <use x=\"318.115234\" xlink:href=\"#DejaVuSans-49\"/>\n      </g>\n     </g>\n    </g>\n   </g>\n   <g id=\"matplotlib.axis_2\">\n    <g id=\"ytick_1\">\n     <g id=\"line2d_29\">\n      <path clip-path=\"url(#p91d5979641)\" d=\"M 49.190625 201.121681 \nL 383.990625 201.121681 \n\" style=\"fill:none;stroke:#b0b0b0;stroke-linecap:square;stroke-width:0.8;\"/>\n     </g>\n     <g id=\"line2d_30\">\n      <defs>\n       <path d=\"M 0 0 \nL -3.5 0 \n\" id=\"mc2e6ec32c2\" style=\"stroke:#000000;stroke-width:0.8;\"/>\n      </defs>\n      <g>\n       <use style=\"stroke:#000000;stroke-width:0.8;\" x=\"49.190625\" xlink:href=\"#mc2e6ec32c2\" y=\"201.121681\"/>\n      </g>\n     </g>\n     <g id=\"text_15\">\n      <!-- 0.0002 -->\n      <defs>\n       <path d=\"M 10.6875 12.40625 \nL 21 12.40625 \nL 21 0 \nL 10.6875 0 \nz\n\" id=\"DejaVuSans-46\"/>\n      </defs>\n      <g transform=\"translate(7.2 204.9209)scale(0.1 -0.1)\">\n       <use xlink:href=\"#DejaVuSans-48\"/>\n       <use x=\"63.623047\" xlink:href=\"#DejaVuSans-46\"/>\n       <use x=\"95.410156\" xlink:href=\"#DejaVuSans-48\"/>\n       <use x=\"159.033203\" xlink:href=\"#DejaVuSans-48\"/>\n       <use x=\"222.65625\" xlink:href=\"#DejaVuSans-48\"/>\n       <use x=\"286.279297\" xlink:href=\"#DejaVuSans-50\"/>\n      </g>\n     </g>\n    </g>\n    <g id=\"ytick_2\">\n     <g id=\"line2d_31\">\n      <path clip-path=\"url(#p91d5979641)\" d=\"M 49.190625 166.621941 \nL 383.990625 166.621941 \n\" style=\"fill:none;stroke:#b0b0b0;stroke-linecap:square;stroke-width:0.8;\"/>\n     </g>\n     <g id=\"line2d_32\">\n      <g>\n       <use style=\"stroke:#000000;stroke-width:0.8;\" x=\"49.190625\" xlink:href=\"#mc2e6ec32c2\" y=\"166.621941\"/>\n      </g>\n     </g>\n     <g id=\"text_16\">\n      <!-- 0.0004 -->\n      <g transform=\"translate(7.2 170.421159)scale(0.1 -0.1)\">\n       <use xlink:href=\"#DejaVuSans-48\"/>\n       <use x=\"63.623047\" xlink:href=\"#DejaVuSans-46\"/>\n       <use x=\"95.410156\" xlink:href=\"#DejaVuSans-48\"/>\n       <use x=\"159.033203\" xlink:href=\"#DejaVuSans-48\"/>\n       <use x=\"222.65625\" xlink:href=\"#DejaVuSans-48\"/>\n       <use x=\"286.279297\" xlink:href=\"#DejaVuSans-52\"/>\n      </g>\n     </g>\n    </g>\n    <g id=\"ytick_3\">\n     <g id=\"line2d_33\">\n      <path clip-path=\"url(#p91d5979641)\" d=\"M 49.190625 132.1222 \nL 383.990625 132.1222 \n\" style=\"fill:none;stroke:#b0b0b0;stroke-linecap:square;stroke-width:0.8;\"/>\n     </g>\n     <g id=\"line2d_34\">\n      <g>\n       <use style=\"stroke:#000000;stroke-width:0.8;\" x=\"49.190625\" xlink:href=\"#mc2e6ec32c2\" y=\"132.1222\"/>\n      </g>\n     </g>\n     <g id=\"text_17\">\n      <!-- 0.0006 -->\n      <g transform=\"translate(7.2 135.921419)scale(0.1 -0.1)\">\n       <use xlink:href=\"#DejaVuSans-48\"/>\n       <use x=\"63.623047\" xlink:href=\"#DejaVuSans-46\"/>\n       <use x=\"95.410156\" xlink:href=\"#DejaVuSans-48\"/>\n       <use x=\"159.033203\" xlink:href=\"#DejaVuSans-48\"/>\n       <use x=\"222.65625\" xlink:href=\"#DejaVuSans-48\"/>\n       <use x=\"286.279297\" xlink:href=\"#DejaVuSans-54\"/>\n      </g>\n     </g>\n    </g>\n    <g id=\"ytick_4\">\n     <g id=\"line2d_35\">\n      <path clip-path=\"url(#p91d5979641)\" d=\"M 49.190625 97.622459 \nL 383.990625 97.622459 \n\" style=\"fill:none;stroke:#b0b0b0;stroke-linecap:square;stroke-width:0.8;\"/>\n     </g>\n     <g id=\"line2d_36\">\n      <g>\n       <use style=\"stroke:#000000;stroke-width:0.8;\" x=\"49.190625\" xlink:href=\"#mc2e6ec32c2\" y=\"97.622459\"/>\n      </g>\n     </g>\n     <g id=\"text_18\">\n      <!-- 0.0008 -->\n      <g transform=\"translate(7.2 101.421678)scale(0.1 -0.1)\">\n       <use xlink:href=\"#DejaVuSans-48\"/>\n       <use x=\"63.623047\" xlink:href=\"#DejaVuSans-46\"/>\n       <use x=\"95.410156\" xlink:href=\"#DejaVuSans-48\"/>\n       <use x=\"159.033203\" xlink:href=\"#DejaVuSans-48\"/>\n       <use x=\"222.65625\" xlink:href=\"#DejaVuSans-48\"/>\n       <use x=\"286.279297\" xlink:href=\"#DejaVuSans-56\"/>\n      </g>\n     </g>\n    </g>\n    <g id=\"ytick_5\">\n     <g id=\"line2d_37\">\n      <path clip-path=\"url(#p91d5979641)\" d=\"M 49.190625 63.122718 \nL 383.990625 63.122718 \n\" style=\"fill:none;stroke:#b0b0b0;stroke-linecap:square;stroke-width:0.8;\"/>\n     </g>\n     <g id=\"line2d_38\">\n      <g>\n       <use style=\"stroke:#000000;stroke-width:0.8;\" x=\"49.190625\" xlink:href=\"#mc2e6ec32c2\" y=\"63.122718\"/>\n      </g>\n     </g>\n     <g id=\"text_19\">\n      <!-- 0.0010 -->\n      <g transform=\"translate(7.2 66.921937)scale(0.1 -0.1)\">\n       <use xlink:href=\"#DejaVuSans-48\"/>\n       <use x=\"63.623047\" xlink:href=\"#DejaVuSans-46\"/>\n       <use x=\"95.410156\" xlink:href=\"#DejaVuSans-48\"/>\n       <use x=\"159.033203\" xlink:href=\"#DejaVuSans-48\"/>\n       <use x=\"222.65625\" xlink:href=\"#DejaVuSans-49\"/>\n       <use x=\"286.279297\" xlink:href=\"#DejaVuSans-48\"/>\n      </g>\n     </g>\n    </g>\n    <g id=\"ytick_6\">\n     <g id=\"line2d_39\">\n      <path clip-path=\"url(#p91d5979641)\" d=\"M 49.190625 28.622978 \nL 383.990625 28.622978 \n\" style=\"fill:none;stroke:#b0b0b0;stroke-linecap:square;stroke-width:0.8;\"/>\n     </g>\n     <g id=\"line2d_40\">\n      <g>\n       <use style=\"stroke:#000000;stroke-width:0.8;\" x=\"49.190625\" xlink:href=\"#mc2e6ec32c2\" y=\"28.622978\"/>\n      </g>\n     </g>\n     <g id=\"text_20\">\n      <!-- 0.0012 -->\n      <g transform=\"translate(7.2 32.422196)scale(0.1 -0.1)\">\n       <use xlink:href=\"#DejaVuSans-48\"/>\n       <use x=\"63.623047\" xlink:href=\"#DejaVuSans-46\"/>\n       <use x=\"95.410156\" xlink:href=\"#DejaVuSans-48\"/>\n       <use x=\"159.033203\" xlink:href=\"#DejaVuSans-48\"/>\n       <use x=\"222.65625\" xlink:href=\"#DejaVuSans-49\"/>\n       <use x=\"286.279297\" xlink:href=\"#DejaVuSans-50\"/>\n      </g>\n     </g>\n    </g>\n   </g>\n   <g id=\"line2d_41\">\n    <path clip-path=\"url(#p91d5979641)\" d=\"M 64.408807 20.583636 \nL 87.821394 33.349907 \nL 111.233982 91.790493 \nL 134.646569 122.76899 \nL 158.059156 118.812899 \nL 181.471744 172.30288 \nL 204.884331 179.314722 \nL 228.296919 198.838701 \nL 251.709506 217.792099 \nL 275.122094 218.238865 \nL 298.534681 206.684513 \nL 321.947268 212.594731 \nL 345.359856 218.256364 \nL 368.772443 217.860633 \n\" style=\"fill:none;stroke:#1f77b4;stroke-linecap:square;stroke-width:1.5;\"/>\n   </g>\n   <g id=\"patch_3\">\n    <path d=\"M 49.190625 228.14 \nL 49.190625 10.7 \n\" style=\"fill:none;stroke:#000000;stroke-linecap:square;stroke-linejoin:miter;stroke-width:0.8;\"/>\n   </g>\n   <g id=\"patch_4\">\n    <path d=\"M 383.990625 228.14 \nL 383.990625 10.7 \n\" style=\"fill:none;stroke:#000000;stroke-linecap:square;stroke-linejoin:miter;stroke-width:0.8;\"/>\n   </g>\n   <g id=\"patch_5\">\n    <path d=\"M 49.190625 228.14 \nL 383.990625 228.14 \n\" style=\"fill:none;stroke:#000000;stroke-linecap:square;stroke-linejoin:miter;stroke-width:0.8;\"/>\n   </g>\n   <g id=\"patch_6\">\n    <path d=\"M 49.190625 10.7 \nL 383.990625 10.7 \n\" style=\"fill:none;stroke:#000000;stroke-linecap:square;stroke-linejoin:miter;stroke-width:0.8;\"/>\n   </g>\n   <g id=\"legend_1\">\n    <g id=\"patch_7\">\n     <path d=\"M 269.840625 33.378125 \nL 376.990625 33.378125 \nQ 378.990625 33.378125 378.990625 31.378125 \nL 378.990625 17.7 \nQ 378.990625 15.7 376.990625 15.7 \nL 269.840625 15.7 \nQ 267.840625 15.7 267.840625 17.7 \nL 267.840625 31.378125 \nQ 267.840625 33.378125 269.840625 33.378125 \nz\n\" style=\"fill:#ffffff;opacity:0.8;stroke:#cccccc;stroke-linejoin:miter;\"/>\n    </g>\n    <g id=\"line2d_42\">\n     <path d=\"M 271.840625 23.798437 \nL 291.840625 23.798437 \n\" style=\"fill:none;stroke:#1f77b4;stroke-linecap:square;stroke-width:1.5;\"/>\n    </g>\n    <g id=\"line2d_43\"/>\n    <g id=\"text_21\">\n     <!-- linksalpha.com -->\n     <defs>\n      <path d=\"M 9.421875 75.984375 \nL 18.40625 75.984375 \nL 18.40625 0 \nL 9.421875 0 \nz\n\" id=\"DejaVuSans-108\"/>\n      <path d=\"M 9.421875 54.6875 \nL 18.40625 54.6875 \nL 18.40625 0 \nL 9.421875 0 \nz\nM 9.421875 75.984375 \nL 18.40625 75.984375 \nL 18.40625 64.59375 \nL 9.421875 64.59375 \nz\n\" id=\"DejaVuSans-105\"/>\n      <path d=\"M 54.890625 33.015625 \nL 54.890625 0 \nL 45.90625 0 \nL 45.90625 32.71875 \nQ 45.90625 40.484375 42.875 44.328125 \nQ 39.84375 48.1875 33.796875 48.1875 \nQ 26.515625 48.1875 22.3125 43.546875 \nQ 18.109375 38.921875 18.109375 30.90625 \nL 18.109375 0 \nL 9.078125 0 \nL 9.078125 54.6875 \nL 18.109375 54.6875 \nL 18.109375 46.1875 \nQ 21.34375 51.125 25.703125 53.5625 \nQ 30.078125 56 35.796875 56 \nQ 45.21875 56 50.046875 50.171875 \nQ 54.890625 44.34375 54.890625 33.015625 \nz\n\" id=\"DejaVuSans-110\"/>\n      <path d=\"M 9.078125 75.984375 \nL 18.109375 75.984375 \nL 18.109375 31.109375 \nL 44.921875 54.6875 \nL 56.390625 54.6875 \nL 27.390625 29.109375 \nL 57.625 0 \nL 45.90625 0 \nL 18.109375 26.703125 \nL 18.109375 0 \nL 9.078125 0 \nz\n\" id=\"DejaVuSans-107\"/>\n      <path d=\"M 44.28125 53.078125 \nL 44.28125 44.578125 \nQ 40.484375 46.53125 36.375 47.5 \nQ 32.28125 48.484375 27.875 48.484375 \nQ 21.1875 48.484375 17.84375 46.4375 \nQ 14.5 44.390625 14.5 40.28125 \nQ 14.5 37.15625 16.890625 35.375 \nQ 19.28125 33.59375 26.515625 31.984375 \nL 29.59375 31.296875 \nQ 39.15625 29.25 43.1875 25.515625 \nQ 47.21875 21.78125 47.21875 15.09375 \nQ 47.21875 7.46875 41.1875 3.015625 \nQ 35.15625 -1.421875 24.609375 -1.421875 \nQ 20.21875 -1.421875 15.453125 -0.5625 \nQ 10.6875 0.296875 5.421875 2 \nL 5.421875 11.28125 \nQ 10.40625 8.6875 15.234375 7.390625 \nQ 20.0625 6.109375 24.8125 6.109375 \nQ 31.15625 6.109375 34.5625 8.28125 \nQ 37.984375 10.453125 37.984375 14.40625 \nQ 37.984375 18.0625 35.515625 20.015625 \nQ 33.0625 21.96875 24.703125 23.78125 \nL 21.578125 24.515625 \nQ 13.234375 26.265625 9.515625 29.90625 \nQ 5.8125 33.546875 5.8125 39.890625 \nQ 5.8125 47.609375 11.28125 51.796875 \nQ 16.75 56 26.8125 56 \nQ 31.78125 56 36.171875 55.265625 \nQ 40.578125 54.546875 44.28125 53.078125 \nz\n\" id=\"DejaVuSans-115\"/>\n      <path d=\"M 34.28125 27.484375 \nQ 23.390625 27.484375 19.1875 25 \nQ 14.984375 22.515625 14.984375 16.5 \nQ 14.984375 11.71875 18.140625 8.90625 \nQ 21.296875 6.109375 26.703125 6.109375 \nQ 34.1875 6.109375 38.703125 11.40625 \nQ 43.21875 16.703125 43.21875 25.484375 \nL 43.21875 27.484375 \nz\nM 52.203125 31.203125 \nL 52.203125 0 \nL 43.21875 0 \nL 43.21875 8.296875 \nQ 40.140625 3.328125 35.546875 0.953125 \nQ 30.953125 -1.421875 24.3125 -1.421875 \nQ 15.921875 -1.421875 10.953125 3.296875 \nQ 6 8.015625 6 15.921875 \nQ 6 25.140625 12.171875 29.828125 \nQ 18.359375 34.515625 30.609375 34.515625 \nL 43.21875 34.515625 \nL 43.21875 35.40625 \nQ 43.21875 41.609375 39.140625 45 \nQ 35.0625 48.390625 27.6875 48.390625 \nQ 23 48.390625 18.546875 47.265625 \nQ 14.109375 46.140625 10.015625 43.890625 \nL 10.015625 52.203125 \nQ 14.9375 54.109375 19.578125 55.046875 \nQ 24.21875 56 28.609375 56 \nQ 40.484375 56 46.34375 49.84375 \nQ 52.203125 43.703125 52.203125 31.203125 \nz\n\" id=\"DejaVuSans-97\"/>\n      <path d=\"M 18.109375 8.203125 \nL 18.109375 -20.796875 \nL 9.078125 -20.796875 \nL 9.078125 54.6875 \nL 18.109375 54.6875 \nL 18.109375 46.390625 \nQ 20.953125 51.265625 25.265625 53.625 \nQ 29.59375 56 35.59375 56 \nQ 45.5625 56 51.78125 48.09375 \nQ 58.015625 40.1875 58.015625 27.296875 \nQ 58.015625 14.40625 51.78125 6.484375 \nQ 45.5625 -1.421875 35.59375 -1.421875 \nQ 29.59375 -1.421875 25.265625 0.953125 \nQ 20.953125 3.328125 18.109375 8.203125 \nz\nM 48.6875 27.296875 \nQ 48.6875 37.203125 44.609375 42.84375 \nQ 40.53125 48.484375 33.40625 48.484375 \nQ 26.265625 48.484375 22.1875 42.84375 \nQ 18.109375 37.203125 18.109375 27.296875 \nQ 18.109375 17.390625 22.1875 11.75 \nQ 26.265625 6.109375 33.40625 6.109375 \nQ 40.53125 6.109375 44.609375 11.75 \nQ 48.6875 17.390625 48.6875 27.296875 \nz\n\" id=\"DejaVuSans-112\"/>\n      <path d=\"M 54.890625 33.015625 \nL 54.890625 0 \nL 45.90625 0 \nL 45.90625 32.71875 \nQ 45.90625 40.484375 42.875 44.328125 \nQ 39.84375 48.1875 33.796875 48.1875 \nQ 26.515625 48.1875 22.3125 43.546875 \nQ 18.109375 38.921875 18.109375 30.90625 \nL 18.109375 0 \nL 9.078125 0 \nL 9.078125 75.984375 \nL 18.109375 75.984375 \nL 18.109375 46.1875 \nQ 21.34375 51.125 25.703125 53.5625 \nQ 30.078125 56 35.796875 56 \nQ 45.21875 56 50.046875 50.171875 \nQ 54.890625 44.34375 54.890625 33.015625 \nz\n\" id=\"DejaVuSans-104\"/>\n      <path d=\"M 48.78125 52.59375 \nL 48.78125 44.1875 \nQ 44.96875 46.296875 41.140625 47.34375 \nQ 37.3125 48.390625 33.40625 48.390625 \nQ 24.65625 48.390625 19.8125 42.84375 \nQ 14.984375 37.3125 14.984375 27.296875 \nQ 14.984375 17.28125 19.8125 11.734375 \nQ 24.65625 6.203125 33.40625 6.203125 \nQ 37.3125 6.203125 41.140625 7.25 \nQ 44.96875 8.296875 48.78125 10.40625 \nL 48.78125 2.09375 \nQ 45.015625 0.34375 40.984375 -0.53125 \nQ 36.96875 -1.421875 32.421875 -1.421875 \nQ 20.0625 -1.421875 12.78125 6.34375 \nQ 5.515625 14.109375 5.515625 27.296875 \nQ 5.515625 40.671875 12.859375 48.328125 \nQ 20.21875 56 33.015625 56 \nQ 37.15625 56 41.109375 55.140625 \nQ 45.0625 54.296875 48.78125 52.59375 \nz\n\" id=\"DejaVuSans-99\"/>\n      <path d=\"M 30.609375 48.390625 \nQ 23.390625 48.390625 19.1875 42.75 \nQ 14.984375 37.109375 14.984375 27.296875 \nQ 14.984375 17.484375 19.15625 11.84375 \nQ 23.34375 6.203125 30.609375 6.203125 \nQ 37.796875 6.203125 41.984375 11.859375 \nQ 46.1875 17.53125 46.1875 27.296875 \nQ 46.1875 37.015625 41.984375 42.703125 \nQ 37.796875 48.390625 30.609375 48.390625 \nz\nM 30.609375 56 \nQ 42.328125 56 49.015625 48.375 \nQ 55.71875 40.765625 55.71875 27.296875 \nQ 55.71875 13.875 49.015625 6.21875 \nQ 42.328125 -1.421875 30.609375 -1.421875 \nQ 18.84375 -1.421875 12.171875 6.21875 \nQ 5.515625 13.875 5.515625 27.296875 \nQ 5.515625 40.765625 12.171875 48.375 \nQ 18.84375 56 30.609375 56 \nz\n\" id=\"DejaVuSans-111\"/>\n      <path d=\"M 52 44.1875 \nQ 55.375 50.25 60.0625 53.125 \nQ 64.75 56 71.09375 56 \nQ 79.640625 56 84.28125 50.015625 \nQ 88.921875 44.046875 88.921875 33.015625 \nL 88.921875 0 \nL 79.890625 0 \nL 79.890625 32.71875 \nQ 79.890625 40.578125 77.09375 44.375 \nQ 74.3125 48.1875 68.609375 48.1875 \nQ 61.625 48.1875 57.5625 43.546875 \nQ 53.515625 38.921875 53.515625 30.90625 \nL 53.515625 0 \nL 44.484375 0 \nL 44.484375 32.71875 \nQ 44.484375 40.625 41.703125 44.40625 \nQ 38.921875 48.1875 33.109375 48.1875 \nQ 26.21875 48.1875 22.15625 43.53125 \nQ 18.109375 38.875 18.109375 30.90625 \nL 18.109375 0 \nL 9.078125 0 \nL 9.078125 54.6875 \nL 18.109375 54.6875 \nL 18.109375 46.1875 \nQ 21.1875 51.21875 25.484375 53.609375 \nQ 29.78125 56 35.6875 56 \nQ 41.65625 56 45.828125 52.96875 \nQ 50 49.953125 52 44.1875 \nz\n\" id=\"DejaVuSans-109\"/>\n     </defs>\n     <g transform=\"translate(299.840625 27.298437)scale(0.1 -0.1)\">\n      <use xlink:href=\"#DejaVuSans-108\"/>\n      <use x=\"27.783203\" xlink:href=\"#DejaVuSans-105\"/>\n      <use x=\"55.566406\" xlink:href=\"#DejaVuSans-110\"/>\n      <use x=\"118.945312\" xlink:href=\"#DejaVuSans-107\"/>\n      <use x=\"176.855469\" xlink:href=\"#DejaVuSans-115\"/>\n      <use x=\"228.955078\" xlink:href=\"#DejaVuSans-97\"/>\n      <use x=\"290.234375\" xlink:href=\"#DejaVuSans-108\"/>\n      <use x=\"318.017578\" xlink:href=\"#DejaVuSans-112\"/>\n      <use x=\"381.494141\" xlink:href=\"#DejaVuSans-104\"/>\n      <use x=\"444.873047\" xlink:href=\"#DejaVuSans-97\"/>\n      <use x=\"506.152344\" xlink:href=\"#DejaVuSans-46\"/>\n      <use x=\"537.939453\" xlink:href=\"#DejaVuSans-99\"/>\n      <use x=\"592.919922\" xlink:href=\"#DejaVuSans-111\"/>\n      <use x=\"654.101562\" xlink:href=\"#DejaVuSans-109\"/>\n     </g>\n    </g>\n   </g>\n  </g>\n </g>\n <defs>\n  <clipPath id=\"p91d5979641\">\n   <rect height=\"217.44\" width=\"334.8\" x=\"49.190625\" y=\"10.7\"/>\n  </clipPath>\n </defs>\n</svg>\n",
      "text/plain": [
       "<Figure size 432x288 with 1 Axes>"
      ]
     },
     "metadata": {
      "needs_background": "light"
     }
    },
    {
     "output_type": "display_data",
     "data": {
      "image/png": "[encoded data removed]",
      "image/svg+xml": "<?xml version=\"1.0\" encoding=\"utf-8\" standalone=\"no\"?>\n<!DOCTYPE svg PUBLIC \"-//W3C//DTD SVG 1.1//EN\"\n  \"http://www.w3.org/Graphics/SVG/1.1/DTD/svg11.dtd\">\n<!-- Created with matplotlib (https://matplotlib.org/) -->\n<svg height=\"280.515pt\" version=\"1.1\" viewBox=\"0 0 394.690625 280.515\" width=\"394.690625pt\" xmlns=\"http://www.w3.org/2000/svg\" xmlns:xlink=\"http://www.w3.org/1999/xlink\">\n <defs>\n  <style type=\"text/css\">\n*{stroke-linecap:butt;stroke-linejoin:round;}\n  </style>\n </defs>\n <g id=\"figure_1\">\n  <g id=\"patch_1\">\n   <path d=\"M 0 280.515 \nL 394.690625 280.515 \nL 394.690625 0 \nL 0 0 \nz\n\" style=\"fill:none;\"/>\n  </g>\n  <g id=\"axes_1\">\n   <g id=\"patch_2\">\n    <path d=\"M 49.190625 228.14 \nL 383.990625 228.14 \nL 383.990625 10.7 \nL 49.190625 10.7 \nz\n\" style=\"fill:#ffffff;\"/>\n   </g>\n   <g id=\"matplotlib.axis_1\">\n    <g id=\"xtick_1\">\n     <g id=\"line2d_1\">\n      <path clip-path=\"url(#p418a04b74e)\" d=\"M 64.408807 228.14 \nL 64.408807 10.7 \n\" style=\"fill:none;stroke:#b0b0b0;stroke-linecap:square;stroke-width:0.8;\"/>\n     </g>\n     <g id=\"line2d_2\">\n      <defs>\n       <path d=\"M 0 0 \nL 0 3.5 \n\" id=\"m4a743e8e16\" style=\"stroke:#000000;stroke-width:0.8;\"/>\n      </defs>\n      <g>\n       <use style=\"stroke:#000000;stroke-width:0.8;\" x=\"64.408807\" xlink:href=\"#m4a743e8e16\" y=\"228.14\"/>\n      </g>\n     </g>\n     <g id=\"text_1\">\n      <!-- 201407 -->\n      <defs>\n       <path d=\"M 19.1875 8.296875 \nL 53.609375 8.296875 \nL 53.609375 0 \nL 7.328125 0 \nL 7.328125 8.296875 \nQ 12.9375 14.109375 22.625 23.890625 \nQ 32.328125 33.6875 34.8125 36.53125 \nQ 39.546875 41.84375 41.421875 45.53125 \nQ 43.3125 49.21875 43.3125 52.78125 \nQ 43.3125 58.59375 39.234375 62.25 \nQ 35.15625 65.921875 28.609375 65.921875 \nQ 23.96875 65.921875 18.8125 64.3125 \nQ 13.671875 62.703125 7.8125 59.421875 \nL 7.8125 69.390625 \nQ 13.765625 71.78125 18.9375 73 \nQ 24.125 74.21875 28.421875 74.21875 \nQ 39.75 74.21875 46.484375 68.546875 \nQ 53.21875 62.890625 53.21875 53.421875 \nQ 53.21875 48.921875 51.53125 44.890625 \nQ 49.859375 40.875 45.40625 35.40625 \nQ 44.1875 33.984375 37.640625 27.21875 \nQ 31.109375 20.453125 19.1875 8.296875 \nz\n\" id=\"DejaVuSans-50\"/>\n       <path d=\"M 31.78125 66.40625 \nQ 24.171875 66.40625 20.328125 58.90625 \nQ 16.5 51.421875 16.5 36.375 \nQ 16.5 21.390625 20.328125 13.890625 \nQ 24.171875 6.390625 31.78125 6.390625 \nQ 39.453125 6.390625 43.28125 13.890625 \nQ 47.125 21.390625 47.125 36.375 \nQ 47.125 51.421875 43.28125 58.90625 \nQ 39.453125 66.40625 31.78125 66.40625 \nz\nM 31.78125 74.21875 \nQ 44.046875 74.21875 50.515625 64.515625 \nQ 56.984375 54.828125 56.984375 36.375 \nQ 56.984375 17.96875 50.515625 8.265625 \nQ 44.046875 -1.421875 31.78125 -1.421875 \nQ 19.53125 -1.421875 13.0625 8.265625 \nQ 6.59375 17.96875 6.59375 36.375 \nQ 6.59375 54.828125 13.0625 64.515625 \nQ 19.53125 74.21875 31.78125 74.21875 \nz\n\" id=\"DejaVuSans-48\"/>\n       <path d=\"M 12.40625 8.296875 \nL 28.515625 8.296875 \nL 28.515625 63.921875 \nL 10.984375 60.40625 \nL 10.984375 69.390625 \nL 28.421875 72.90625 \nL 38.28125 72.90625 \nL 38.28125 8.296875 \nL 54.390625 8.296875 \nL 54.390625 0 \nL 12.40625 0 \nz\n\" id=\"DejaVuSans-49\"/>\n       <path d=\"M 37.796875 64.3125 \nL 12.890625 25.390625 \nL 37.796875 25.390625 \nz\nM 35.203125 72.90625 \nL 47.609375 72.90625 \nL 47.609375 25.390625 \nL 58.015625 25.390625 \nL 58.015625 17.1875 \nL 47.609375 17.1875 \nL 47.609375 0 \nL 37.796875 0 \nL 37.796875 17.1875 \nL 4.890625 17.1875 \nL 4.890625 26.703125 \nz\n\" id=\"DejaVuSans-52\"/>\n       <path d=\"M 8.203125 72.90625 \nL 55.078125 72.90625 \nL 55.078125 68.703125 \nL 28.609375 0 \nL 18.3125 0 \nL 43.21875 64.59375 \nL 8.203125 64.59375 \nz\n\" id=\"DejaVuSans-55\"/>\n      </defs>\n      <g transform=\"translate(61.649432 235.14)rotate(-270)scale(0.1 -0.1)\">\n       <use xlink:href=\"#DejaVuSans-50\"/>\n       <use x=\"63.623047\" xlink:href=\"#DejaVuSans-48\"/>\n       <use x=\"127.246094\" xlink:href=\"#DejaVuSans-49\"/>\n       <use x=\"190.869141\" xlink:href=\"#DejaVuSans-52\"/>\n       <use x=\"254.492188\" xlink:href=\"#DejaVuSans-48\"/>\n       <use x=\"318.115234\" xlink:href=\"#DejaVuSans-55\"/>\n      </g>\n     </g>\n    </g>\n    <g id=\"xtick_2\">\n     <g id=\"line2d_3\">\n      <path clip-path=\"url(#p418a04b74e)\" d=\"M 87.821394 228.14 \nL 87.821394 10.7 \n\" style=\"fill:none;stroke:#b0b0b0;stroke-linecap:square;stroke-width:0.8;\"/>\n     </g>\n     <g id=\"line2d_4\">\n      <g>\n       <use style=\"stroke:#000000;stroke-width:0.8;\" x=\"87.821394\" xlink:href=\"#m4a743e8e16\" y=\"228.14\"/>\n      </g>\n     </g>\n     <g id=\"text_2\">\n      <!-- 201501 -->\n      <defs>\n       <path d=\"M 10.796875 72.90625 \nL 49.515625 72.90625 \nL 49.515625 64.59375 \nL 19.828125 64.59375 \nL 19.828125 46.734375 \nQ 21.96875 47.46875 24.109375 47.828125 \nQ 26.265625 48.1875 28.421875 48.1875 \nQ 40.625 48.1875 47.75 41.5 \nQ 54.890625 34.8125 54.890625 23.390625 \nQ 54.890625 11.625 47.5625 5.09375 \nQ 40.234375 -1.421875 26.90625 -1.421875 \nQ 22.3125 -1.421875 17.546875 -0.640625 \nQ 12.796875 0.140625 7.71875 1.703125 \nL 7.71875 11.625 \nQ 12.109375 9.234375 16.796875 8.0625 \nQ 21.484375 6.890625 26.703125 6.890625 \nQ 35.15625 6.890625 40.078125 11.328125 \nQ 45.015625 15.765625 45.015625 23.390625 \nQ 45.015625 31 40.078125 35.4375 \nQ 35.15625 39.890625 26.703125 39.890625 \nQ 22.75 39.890625 18.8125 39.015625 \nQ 14.890625 38.140625 10.796875 36.28125 \nz\n\" id=\"DejaVuSans-53\"/>\n      </defs>\n      <g transform=\"translate(85.062019 235.14)rotate(-270)scale(0.1 -0.1)\">\n       <use xlink:href=\"#DejaVuSans-50\"/>\n       <use x=\"63.623047\" xlink:href=\"#DejaVuSans-48\"/>\n       <use x=\"127.246094\" xlink:href=\"#DejaVuSans-49\"/>\n       <use x=\"190.869141\" xlink:href=\"#DejaVuSans-53\"/>\n       <use x=\"254.492188\" xlink:href=\"#DejaVuSans-48\"/>\n       <use x=\"318.115234\" xlink:href=\"#DejaVuSans-49\"/>\n      </g>\n     </g>\n    </g>\n    <g id=\"xtick_3\">\n     <g id=\"line2d_5\">\n      <path clip-path=\"url(#p418a04b74e)\" d=\"M 111.233982 228.14 \nL 111.233982 10.7 \n\" style=\"fill:none;stroke:#b0b0b0;stroke-linecap:square;stroke-width:0.8;\"/>\n     </g>\n     <g id=\"line2d_6\">\n      <g>\n       <use style=\"stroke:#000000;stroke-width:0.8;\" x=\"111.233982\" xlink:href=\"#m4a743e8e16\" y=\"228.14\"/>\n      </g>\n     </g>\n     <g id=\"text_3\">\n      <!-- 201507 -->\n      <g transform=\"translate(108.474607 235.14)rotate(-270)scale(0.1 -0.1)\">\n       <use xlink:href=\"#DejaVuSans-50\"/>\n       <use x=\"63.623047\" xlink:href=\"#DejaVuSans-48\"/>\n       <use x=\"127.246094\" xlink:href=\"#DejaVuSans-49\"/>\n       <use x=\"190.869141\" xlink:href=\"#DejaVuSans-53\"/>\n       <use x=\"254.492188\" xlink:href=\"#DejaVuSans-48\"/>\n       <use x=\"318.115234\" xlink:href=\"#DejaVuSans-55\"/>\n      </g>\n     </g>\n    </g>\n    <g id=\"xtick_4\">\n     <g id=\"line2d_7\">\n      <path clip-path=\"url(#p418a04b74e)\" d=\"M 134.646569 228.14 \nL 134.646569 10.7 \n\" style=\"fill:none;stroke:#b0b0b0;stroke-linecap:square;stroke-width:0.8;\"/>\n     </g>\n     <g id=\"line2d_8\">\n      <g>\n       <use style=\"stroke:#000000;stroke-width:0.8;\" x=\"134.646569\" xlink:href=\"#m4a743e8e16\" y=\"228.14\"/>\n      </g>\n     </g>\n     <g id=\"text_4\">\n      <!-- 201602 -->\n      <defs>\n       <path d=\"M 33.015625 40.375 \nQ 26.375 40.375 22.484375 35.828125 \nQ 18.609375 31.296875 18.609375 23.390625 \nQ 18.609375 15.53125 22.484375 10.953125 \nQ 26.375 6.390625 33.015625 6.390625 \nQ 39.65625 6.390625 43.53125 10.953125 \nQ 47.40625 15.53125 47.40625 23.390625 \nQ 47.40625 31.296875 43.53125 35.828125 \nQ 39.65625 40.375 33.015625 40.375 \nz\nM 52.59375 71.296875 \nL 52.59375 62.3125 \nQ 48.875 64.0625 45.09375 64.984375 \nQ 41.3125 65.921875 37.59375 65.921875 \nQ 27.828125 65.921875 22.671875 59.328125 \nQ 17.53125 52.734375 16.796875 39.40625 \nQ 19.671875 43.65625 24.015625 45.921875 \nQ 28.375 48.1875 33.59375 48.1875 \nQ 44.578125 48.1875 50.953125 41.515625 \nQ 57.328125 34.859375 57.328125 23.390625 \nQ 57.328125 12.15625 50.6875 5.359375 \nQ 44.046875 -1.421875 33.015625 -1.421875 \nQ 20.359375 -1.421875 13.671875 8.265625 \nQ 6.984375 17.96875 6.984375 36.375 \nQ 6.984375 53.65625 15.1875 63.9375 \nQ 23.390625 74.21875 37.203125 74.21875 \nQ 40.921875 74.21875 44.703125 73.484375 \nQ 48.484375 72.75 52.59375 71.296875 \nz\n\" id=\"DejaVuSans-54\"/>\n      </defs>\n      <g transform=\"translate(131.887194 235.14)rotate(-270)scale(0.1 -0.1)\">\n       <use xlink:href=\"#DejaVuSans-50\"/>\n       <use x=\"63.623047\" xlink:href=\"#DejaVuSans-48\"/>\n       <use x=\"127.246094\" xlink:href=\"#DejaVuSans-49\"/>\n       <use x=\"190.869141\" xlink:href=\"#DejaVuSans-54\"/>\n       <use x=\"254.492188\" xlink:href=\"#DejaVuSans-48\"/>\n       <use x=\"318.115234\" xlink:href=\"#DejaVuSans-50\"/>\n      </g>\n     </g>\n    </g>\n    <g id=\"xtick_5\">\n     <g id=\"line2d_9\">\n      <path clip-path=\"url(#p418a04b74e)\" d=\"M 158.059156 228.14 \nL 158.059156 10.7 \n\" style=\"fill:none;stroke:#b0b0b0;stroke-linecap:square;stroke-width:0.8;\"/>\n     </g>\n     <g id=\"line2d_10\">\n      <g>\n       <use style=\"stroke:#000000;stroke-width:0.8;\" x=\"158.059156\" xlink:href=\"#m4a743e8e16\" y=\"228.14\"/>\n      </g>\n     </g>\n     <g id=\"text_5\">\n      <!-- 201607 -->\n      <g transform=\"translate(155.299781 235.14)rotate(-270)scale(0.1 -0.1)\">\n       <use xlink:href=\"#DejaVuSans-50\"/>\n       <use x=\"63.623047\" xlink:href=\"#DejaVuSans-48\"/>\n       <use x=\"127.246094\" xlink:href=\"#DejaVuSans-49\"/>\n       <use x=\"190.869141\" xlink:href=\"#DejaVuSans-54\"/>\n       <use x=\"254.492188\" xlink:href=\"#DejaVuSans-48\"/>\n       <use x=\"318.115234\" xlink:href=\"#DejaVuSans-55\"/>\n      </g>\n     </g>\n    </g>\n    <g id=\"xtick_6\">\n     <g id=\"line2d_11\">\n      <path clip-path=\"url(#p418a04b74e)\" d=\"M 181.471744 228.14 \nL 181.471744 10.7 \n\" style=\"fill:none;stroke:#b0b0b0;stroke-linecap:square;stroke-width:0.8;\"/>\n     </g>\n     <g id=\"line2d_12\">\n      <g>\n       <use style=\"stroke:#000000;stroke-width:0.8;\" x=\"181.471744\" xlink:href=\"#m4a743e8e16\" y=\"228.14\"/>\n      </g>\n     </g>\n     <g id=\"text_6\">\n      <!-- 201701 -->\n      <g transform=\"translate(178.712369 235.14)rotate(-270)scale(0.1 -0.1)\">\n       <use xlink:href=\"#DejaVuSans-50\"/>\n       <use x=\"63.623047\" xlink:href=\"#DejaVuSans-48\"/>\n       <use x=\"127.246094\" xlink:href=\"#DejaVuSans-49\"/>\n       <use x=\"190.869141\" xlink:href=\"#DejaVuSans-55\"/>\n       <use x=\"254.492188\" xlink:href=\"#DejaVuSans-48\"/>\n       <use x=\"318.115234\" xlink:href=\"#DejaVuSans-49\"/>\n      </g>\n     </g>\n    </g>\n    <g id=\"xtick_7\">\n     <g id=\"line2d_13\">\n      <path clip-path=\"url(#p418a04b74e)\" d=\"M 204.884331 228.14 \nL 204.884331 10.7 \n\" style=\"fill:none;stroke:#b0b0b0;stroke-linecap:square;stroke-width:0.8;\"/>\n     </g>\n     <g id=\"line2d_14\">\n      <g>\n       <use style=\"stroke:#000000;stroke-width:0.8;\" x=\"204.884331\" xlink:href=\"#m4a743e8e16\" y=\"228.14\"/>\n      </g>\n     </g>\n     <g id=\"text_7\">\n      <!-- 201707 -->\n      <g transform=\"translate(202.124956 235.14)rotate(-270)scale(0.1 -0.1)\">\n       <use xlink:href=\"#DejaVuSans-50\"/>\n       <use x=\"63.623047\" xlink:href=\"#DejaVuSans-48\"/>\n       <use x=\"127.246094\" xlink:href=\"#DejaVuSans-49\"/>\n       <use x=\"190.869141\" xlink:href=\"#DejaVuSans-55\"/>\n       <use x=\"254.492188\" xlink:href=\"#DejaVuSans-48\"/>\n       <use x=\"318.115234\" xlink:href=\"#DejaVuSans-55\"/>\n      </g>\n     </g>\n    </g>\n    <g id=\"xtick_8\">\n     <g id=\"line2d_15\">\n      <path clip-path=\"url(#p418a04b74e)\" d=\"M 228.296919 228.14 \nL 228.296919 10.7 \n\" style=\"fill:none;stroke:#b0b0b0;stroke-linecap:square;stroke-width:0.8;\"/>\n     </g>\n     <g id=\"line2d_16\">\n      <g>\n       <use style=\"stroke:#000000;stroke-width:0.8;\" x=\"228.296919\" xlink:href=\"#m4a743e8e16\" y=\"228.14\"/>\n      </g>\n     </g>\n     <g id=\"text_8\">\n      <!-- 201801 -->\n      <defs>\n       <path d=\"M 31.78125 34.625 \nQ 24.75 34.625 20.71875 30.859375 \nQ 16.703125 27.09375 16.703125 20.515625 \nQ 16.703125 13.921875 20.71875 10.15625 \nQ 24.75 6.390625 31.78125 6.390625 \nQ 38.8125 6.390625 42.859375 10.171875 \nQ 46.921875 13.96875 46.921875 20.515625 \nQ 46.921875 27.09375 42.890625 30.859375 \nQ 38.875 34.625 31.78125 34.625 \nz\nM 21.921875 38.8125 \nQ 15.578125 40.375 12.03125 44.71875 \nQ 8.5 49.078125 8.5 55.328125 \nQ 8.5 64.0625 14.71875 69.140625 \nQ 20.953125 74.21875 31.78125 74.21875 \nQ 42.671875 74.21875 48.875 69.140625 \nQ 55.078125 64.0625 55.078125 55.328125 \nQ 55.078125 49.078125 51.53125 44.71875 \nQ 48 40.375 41.703125 38.8125 \nQ 48.828125 37.15625 52.796875 32.3125 \nQ 56.78125 27.484375 56.78125 20.515625 \nQ 56.78125 9.90625 50.3125 4.234375 \nQ 43.84375 -1.421875 31.78125 -1.421875 \nQ 19.734375 -1.421875 13.25 4.234375 \nQ 6.78125 9.90625 6.78125 20.515625 \nQ 6.78125 27.484375 10.78125 32.3125 \nQ 14.796875 37.15625 21.921875 38.8125 \nz\nM 18.3125 54.390625 \nQ 18.3125 48.734375 21.84375 45.5625 \nQ 25.390625 42.390625 31.78125 42.390625 \nQ 38.140625 42.390625 41.71875 45.5625 \nQ 45.3125 48.734375 45.3125 54.390625 \nQ 45.3125 60.0625 41.71875 63.234375 \nQ 38.140625 66.40625 31.78125 66.40625 \nQ 25.390625 66.40625 21.84375 63.234375 \nQ 18.3125 60.0625 18.3125 54.390625 \nz\n\" id=\"DejaVuSans-56\"/>\n      </defs>\n      <g transform=\"translate(225.537544 235.14)rotate(-270)scale(0.1 -0.1)\">\n       <use xlink:href=\"#DejaVuSans-50\"/>\n       <use x=\"63.623047\" xlink:href=\"#DejaVuSans-48\"/>\n       <use x=\"127.246094\" xlink:href=\"#DejaVuSans-49\"/>\n       <use x=\"190.869141\" xlink:href=\"#DejaVuSans-56\"/>\n       <use x=\"254.492188\" xlink:href=\"#DejaVuSans-48\"/>\n       <use x=\"318.115234\" xlink:href=\"#DejaVuSans-49\"/>\n      </g>\n     </g>\n    </g>\n    <g id=\"xtick_9\">\n     <g id=\"line2d_17\">\n      <path clip-path=\"url(#p418a04b74e)\" d=\"M 251.709506 228.14 \nL 251.709506 10.7 \n\" style=\"fill:none;stroke:#b0b0b0;stroke-linecap:square;stroke-width:0.8;\"/>\n     </g>\n     <g id=\"line2d_18\">\n      <g>\n       <use style=\"stroke:#000000;stroke-width:0.8;\" x=\"251.709506\" xlink:href=\"#m4a743e8e16\" y=\"228.14\"/>\n      </g>\n     </g>\n     <g id=\"text_9\">\n      <!-- 201807 -->\n      <g transform=\"translate(248.950131 235.14)rotate(-270)scale(0.1 -0.1)\">\n       <use xlink:href=\"#DejaVuSans-50\"/>\n       <use x=\"63.623047\" xlink:href=\"#DejaVuSans-48\"/>\n       <use x=\"127.246094\" xlink:href=\"#DejaVuSans-49\"/>\n       <use x=\"190.869141\" xlink:href=\"#DejaVuSans-56\"/>\n       <use x=\"254.492188\" xlink:href=\"#DejaVuSans-48\"/>\n       <use x=\"318.115234\" xlink:href=\"#DejaVuSans-55\"/>\n      </g>\n     </g>\n    </g>\n    <g id=\"xtick_10\">\n     <g id=\"line2d_19\">\n      <path clip-path=\"url(#p418a04b74e)\" d=\"M 275.122094 228.14 \nL 275.122094 10.7 \n\" style=\"fill:none;stroke:#b0b0b0;stroke-linecap:square;stroke-width:0.8;\"/>\n     </g>\n     <g id=\"line2d_20\">\n      <g>\n       <use style=\"stroke:#000000;stroke-width:0.8;\" x=\"275.122094\" xlink:href=\"#m4a743e8e16\" y=\"228.14\"/>\n      </g>\n     </g>\n     <g id=\"text_10\">\n      <!-- 201901 -->\n      <defs>\n       <path d=\"M 10.984375 1.515625 \nL 10.984375 10.5 \nQ 14.703125 8.734375 18.5 7.8125 \nQ 22.3125 6.890625 25.984375 6.890625 \nQ 35.75 6.890625 40.890625 13.453125 \nQ 46.046875 20.015625 46.78125 33.40625 \nQ 43.953125 29.203125 39.59375 26.953125 \nQ 35.25 24.703125 29.984375 24.703125 \nQ 19.046875 24.703125 12.671875 31.3125 \nQ 6.296875 37.9375 6.296875 49.421875 \nQ 6.296875 60.640625 12.9375 67.421875 \nQ 19.578125 74.21875 30.609375 74.21875 \nQ 43.265625 74.21875 49.921875 64.515625 \nQ 56.59375 54.828125 56.59375 36.375 \nQ 56.59375 19.140625 48.40625 8.859375 \nQ 40.234375 -1.421875 26.421875 -1.421875 \nQ 22.703125 -1.421875 18.890625 -0.6875 \nQ 15.09375 0.046875 10.984375 1.515625 \nz\nM 30.609375 32.421875 \nQ 37.25 32.421875 41.125 36.953125 \nQ 45.015625 41.5 45.015625 49.421875 \nQ 45.015625 57.28125 41.125 61.84375 \nQ 37.25 66.40625 30.609375 66.40625 \nQ 23.96875 66.40625 20.09375 61.84375 \nQ 16.21875 57.28125 16.21875 49.421875 \nQ 16.21875 41.5 20.09375 36.953125 \nQ 23.96875 32.421875 30.609375 32.421875 \nz\n\" id=\"DejaVuSans-57\"/>\n      </defs>\n      <g transform=\"translate(272.362719 235.14)rotate(-270)scale(0.1 -0.1)\">\n       <use xlink:href=\"#DejaVuSans-50\"/>\n       <use x=\"63.623047\" xlink:href=\"#DejaVuSans-48\"/>\n       <use x=\"127.246094\" xlink:href=\"#DejaVuSans-49\"/>\n       <use x=\"190.869141\" xlink:href=\"#DejaVuSans-57\"/>\n       <use x=\"254.492188\" xlink:href=\"#DejaVuSans-48\"/>\n       <use x=\"318.115234\" xlink:href=\"#DejaVuSans-49\"/>\n      </g>\n     </g>\n    </g>\n    <g id=\"xtick_11\">\n     <g id=\"line2d_21\">\n      <path clip-path=\"url(#p418a04b74e)\" d=\"M 298.534681 228.14 \nL 298.534681 10.7 \n\" style=\"fill:none;stroke:#b0b0b0;stroke-linecap:square;stroke-width:0.8;\"/>\n     </g>\n     <g id=\"line2d_22\">\n      <g>\n       <use style=\"stroke:#000000;stroke-width:0.8;\" x=\"298.534681\" xlink:href=\"#m4a743e8e16\" y=\"228.14\"/>\n      </g>\n     </g>\n     <g id=\"text_11\">\n      <!-- 201907 -->\n      <g transform=\"translate(295.775306 235.14)rotate(-270)scale(0.1 -0.1)\">\n       <use xlink:href=\"#DejaVuSans-50\"/>\n       <use x=\"63.623047\" xlink:href=\"#DejaVuSans-48\"/>\n       <use x=\"127.246094\" xlink:href=\"#DejaVuSans-49\"/>\n       <use x=\"190.869141\" xlink:href=\"#DejaVuSans-57\"/>\n       <use x=\"254.492188\" xlink:href=\"#DejaVuSans-48\"/>\n       <use x=\"318.115234\" xlink:href=\"#DejaVuSans-55\"/>\n      </g>\n     </g>\n    </g>\n    <g id=\"xtick_12\">\n     <g id=\"line2d_23\">\n      <path clip-path=\"url(#p418a04b74e)\" d=\"M 321.947268 228.14 \nL 321.947268 10.7 \n\" style=\"fill:none;stroke:#b0b0b0;stroke-linecap:square;stroke-width:0.8;\"/>\n     </g>\n     <g id=\"line2d_24\">\n      <g>\n       <use style=\"stroke:#000000;stroke-width:0.8;\" x=\"321.947268\" xlink:href=\"#m4a743e8e16\" y=\"228.14\"/>\n      </g>\n     </g>\n     <g id=\"text_12\">\n      <!-- 202001 -->\n      <g transform=\"translate(319.187893 235.14)rotate(-270)scale(0.1 -0.1)\">\n       <use xlink:href=\"#DejaVuSans-50\"/>\n       <use x=\"63.623047\" xlink:href=\"#DejaVuSans-48\"/>\n       <use x=\"127.246094\" xlink:href=\"#DejaVuSans-50\"/>\n       <use x=\"190.869141\" xlink:href=\"#DejaVuSans-48\"/>\n       <use x=\"254.492188\" xlink:href=\"#DejaVuSans-48\"/>\n       <use x=\"318.115234\" xlink:href=\"#DejaVuSans-49\"/>\n      </g>\n     </g>\n    </g>\n    <g id=\"xtick_13\">\n     <g id=\"line2d_25\">\n      <path clip-path=\"url(#p418a04b74e)\" d=\"M 345.359856 228.14 \nL 345.359856 10.7 \n\" style=\"fill:none;stroke:#b0b0b0;stroke-linecap:square;stroke-width:0.8;\"/>\n     </g>\n     <g id=\"line2d_26\">\n      <g>\n       <use style=\"stroke:#000000;stroke-width:0.8;\" x=\"345.359856\" xlink:href=\"#m4a743e8e16\" y=\"228.14\"/>\n      </g>\n     </g>\n     <g id=\"text_13\">\n      <!-- 202007 -->\n      <g transform=\"translate(342.600481 235.14)rotate(-270)scale(0.1 -0.1)\">\n       <use xlink:href=\"#DejaVuSans-50\"/>\n       <use x=\"63.623047\" xlink:href=\"#DejaVuSans-48\"/>\n       <use x=\"127.246094\" xlink:href=\"#DejaVuSans-50\"/>\n       <use x=\"190.869141\" xlink:href=\"#DejaVuSans-48\"/>\n       <use x=\"254.492188\" xlink:href=\"#DejaVuSans-48\"/>\n       <use x=\"318.115234\" xlink:href=\"#DejaVuSans-55\"/>\n      </g>\n     </g>\n    </g>\n    <g id=\"xtick_14\">\n     <g id=\"line2d_27\">\n      <path clip-path=\"url(#p418a04b74e)\" d=\"M 368.772443 228.14 \nL 368.772443 10.7 \n\" style=\"fill:none;stroke:#b0b0b0;stroke-linecap:square;stroke-width:0.8;\"/>\n     </g>\n     <g id=\"line2d_28\">\n      <g>\n       <use style=\"stroke:#000000;stroke-width:0.8;\" x=\"368.772443\" xlink:href=\"#m4a743e8e16\" y=\"228.14\"/>\n      </g>\n     </g>\n     <g id=\"text_14\">\n      <!-- 202101 -->\n      <g transform=\"translate(366.013068 235.14)rotate(-270)scale(0.1 -0.1)\">\n       <use xlink:href=\"#DejaVuSans-50\"/>\n       <use x=\"63.623047\" xlink:href=\"#DejaVuSans-48\"/>\n       <use x=\"127.246094\" xlink:href=\"#DejaVuSans-50\"/>\n       <use x=\"190.869141\" xlink:href=\"#DejaVuSans-49\"/>\n       <use x=\"254.492188\" xlink:href=\"#DejaVuSans-48\"/>\n       <use x=\"318.115234\" xlink:href=\"#DejaVuSans-49\"/>\n      </g>\n     </g>\n    </g>\n   </g>\n   <g id=\"matplotlib.axis_2\">\n    <g id=\"ytick_1\">\n     <g id=\"line2d_29\">\n      <path clip-path=\"url(#p418a04b74e)\" d=\"M 49.190625 220.917624 \nL 383.990625 220.917624 \n\" style=\"fill:none;stroke:#b0b0b0;stroke-linecap:square;stroke-width:0.8;\"/>\n     </g>\n     <g id=\"line2d_30\">\n      <defs>\n       <path d=\"M 0 0 \nL -3.5 0 \n\" id=\"m112f7b13e2\" style=\"stroke:#000000;stroke-width:0.8;\"/>\n      </defs>\n      <g>\n       <use style=\"stroke:#000000;stroke-width:0.8;\" x=\"49.190625\" xlink:href=\"#m112f7b13e2\" y=\"220.917624\"/>\n      </g>\n     </g>\n     <g id=\"text_15\">\n      <!-- 0.0000 -->\n      <defs>\n       <path d=\"M 10.6875 12.40625 \nL 21 12.40625 \nL 21 0 \nL 10.6875 0 \nz\n\" id=\"DejaVuSans-46\"/>\n      </defs>\n      <g transform=\"translate(7.2 224.716843)scale(0.1 -0.1)\">\n       <use xlink:href=\"#DejaVuSans-48\"/>\n       <use x=\"63.623047\" xlink:href=\"#DejaVuSans-46\"/>\n       <use x=\"95.410156\" xlink:href=\"#DejaVuSans-48\"/>\n       <use x=\"159.033203\" xlink:href=\"#DejaVuSans-48\"/>\n       <use x=\"222.65625\" xlink:href=\"#DejaVuSans-48\"/>\n       <use x=\"286.279297\" xlink:href=\"#DejaVuSans-48\"/>\n      </g>\n     </g>\n    </g>\n    <g id=\"ytick_2\">\n     <g id=\"line2d_31\">\n      <path clip-path=\"url(#p418a04b74e)\" d=\"M 49.190625 181.256861 \nL 383.990625 181.256861 \n\" style=\"fill:none;stroke:#b0b0b0;stroke-linecap:square;stroke-width:0.8;\"/>\n     </g>\n     <g id=\"line2d_32\">\n      <g>\n       <use style=\"stroke:#000000;stroke-width:0.8;\" x=\"49.190625\" xlink:href=\"#m112f7b13e2\" y=\"181.256861\"/>\n      </g>\n     </g>\n     <g id=\"text_16\">\n      <!-- 0.0005 -->\n      <g transform=\"translate(7.2 185.056079)scale(0.1 -0.1)\">\n       <use xlink:href=\"#DejaVuSans-48\"/>\n       <use x=\"63.623047\" xlink:href=\"#DejaVuSans-46\"/>\n       <use x=\"95.410156\" xlink:href=\"#DejaVuSans-48\"/>\n       <use x=\"159.033203\" xlink:href=\"#DejaVuSans-48\"/>\n       <use x=\"222.65625\" xlink:href=\"#DejaVuSans-48\"/>\n       <use x=\"286.279297\" xlink:href=\"#DejaVuSans-53\"/>\n      </g>\n     </g>\n    </g>\n    <g id=\"ytick_3\">\n     <g id=\"line2d_33\">\n      <path clip-path=\"url(#p418a04b74e)\" d=\"M 49.190625 141.596097 \nL 383.990625 141.596097 \n\" style=\"fill:none;stroke:#b0b0b0;stroke-linecap:square;stroke-width:0.8;\"/>\n     </g>\n     <g id=\"line2d_34\">\n      <g>\n       <use style=\"stroke:#000000;stroke-width:0.8;\" x=\"49.190625\" xlink:href=\"#m112f7b13e2\" y=\"141.596097\"/>\n      </g>\n     </g>\n     <g id=\"text_17\">\n      <!-- 0.0010 -->\n      <g transform=\"translate(7.2 145.395316)scale(0.1 -0.1)\">\n       <use xlink:href=\"#DejaVuSans-48\"/>\n       <use x=\"63.623047\" xlink:href=\"#DejaVuSans-46\"/>\n       <use x=\"95.410156\" xlink:href=\"#DejaVuSans-48\"/>\n       <use x=\"159.033203\" xlink:href=\"#DejaVuSans-48\"/>\n       <use x=\"222.65625\" xlink:href=\"#DejaVuSans-49\"/>\n       <use x=\"286.279297\" xlink:href=\"#DejaVuSans-48\"/>\n      </g>\n     </g>\n    </g>\n    <g id=\"ytick_4\">\n     <g id=\"line2d_35\">\n      <path clip-path=\"url(#p418a04b74e)\" d=\"M 49.190625 101.935334 \nL 383.990625 101.935334 \n\" style=\"fill:none;stroke:#b0b0b0;stroke-linecap:square;stroke-width:0.8;\"/>\n     </g>\n     <g id=\"line2d_36\">\n      <g>\n       <use style=\"stroke:#000000;stroke-width:0.8;\" x=\"49.190625\" xlink:href=\"#m112f7b13e2\" y=\"101.935334\"/>\n      </g>\n     </g>\n     <g id=\"text_18\">\n      <!-- 0.0015 -->\n      <g transform=\"translate(7.2 105.734552)scale(0.1 -0.1)\">\n       <use xlink:href=\"#DejaVuSans-48\"/>\n       <use x=\"63.623047\" xlink:href=\"#DejaVuSans-46\"/>\n       <use x=\"95.410156\" xlink:href=\"#DejaVuSans-48\"/>\n       <use x=\"159.033203\" xlink:href=\"#DejaVuSans-48\"/>\n       <use x=\"222.65625\" xlink:href=\"#DejaVuSans-49\"/>\n       <use x=\"286.279297\" xlink:href=\"#DejaVuSans-53\"/>\n      </g>\n     </g>\n    </g>\n    <g id=\"ytick_5\">\n     <g id=\"line2d_37\">\n      <path clip-path=\"url(#p418a04b74e)\" d=\"M 49.190625 62.27457 \nL 383.990625 62.27457 \n\" style=\"fill:none;stroke:#b0b0b0;stroke-linecap:square;stroke-width:0.8;\"/>\n     </g>\n     <g id=\"line2d_38\">\n      <g>\n       <use style=\"stroke:#000000;stroke-width:0.8;\" x=\"49.190625\" xlink:href=\"#m112f7b13e2\" y=\"62.27457\"/>\n      </g>\n     </g>\n     <g id=\"text_19\">\n      <!-- 0.0020 -->\n      <g transform=\"translate(7.2 66.073789)scale(0.1 -0.1)\">\n       <use xlink:href=\"#DejaVuSans-48\"/>\n       <use x=\"63.623047\" xlink:href=\"#DejaVuSans-46\"/>\n       <use x=\"95.410156\" xlink:href=\"#DejaVuSans-48\"/>\n       <use x=\"159.033203\" xlink:href=\"#DejaVuSans-48\"/>\n       <use x=\"222.65625\" xlink:href=\"#DejaVuSans-50\"/>\n       <use x=\"286.279297\" xlink:href=\"#DejaVuSans-48\"/>\n      </g>\n     </g>\n    </g>\n    <g id=\"ytick_6\">\n     <g id=\"line2d_39\">\n      <path clip-path=\"url(#p418a04b74e)\" d=\"M 49.190625 22.613807 \nL 383.990625 22.613807 \n\" style=\"fill:none;stroke:#b0b0b0;stroke-linecap:square;stroke-width:0.8;\"/>\n     </g>\n     <g id=\"line2d_40\">\n      <g>\n       <use style=\"stroke:#000000;stroke-width:0.8;\" x=\"49.190625\" xlink:href=\"#m112f7b13e2\" y=\"22.613807\"/>\n      </g>\n     </g>\n     <g id=\"text_20\">\n      <!-- 0.0025 -->\n      <g transform=\"translate(7.2 26.413025)scale(0.1 -0.1)\">\n       <use xlink:href=\"#DejaVuSans-48\"/>\n       <use x=\"63.623047\" xlink:href=\"#DejaVuSans-46\"/>\n       <use x=\"95.410156\" xlink:href=\"#DejaVuSans-48\"/>\n       <use x=\"159.033203\" xlink:href=\"#DejaVuSans-48\"/>\n       <use x=\"222.65625\" xlink:href=\"#DejaVuSans-50\"/>\n       <use x=\"286.279297\" xlink:href=\"#DejaVuSans-53\"/>\n      </g>\n     </g>\n    </g>\n   </g>\n   <g id=\"line2d_41\">\n    <path clip-path=\"url(#p418a04b74e)\" d=\"M 64.408807 40.809976 \nL 87.821394 20.583636 \nL 111.233982 22.500674 \nL 134.646569 37.559244 \nL 158.059156 43.980539 \nL 181.471744 54.954733 \nL 204.884331 77.073277 \nL 228.296919 77.147709 \nL 251.709506 103.404251 \nL 275.122094 95.691338 \nL 298.534681 133.096031 \nL 321.947268 122.973473 \nL 345.359856 103.802521 \nL 368.772443 114.745419 \n\" style=\"fill:none;stroke:#1f77b4;stroke-linecap:square;stroke-width:1.5;\"/>\n   </g>\n   <g id=\"line2d_42\">\n    <path clip-path=\"url(#p418a04b74e)\" d=\"M 64.408807 114.971949 \nL 87.821394 110.018452 \nL 111.233982 102.563654 \nL 134.646569 120.589454 \nL 158.059156 122.970309 \nL 181.471744 133.568734 \nL 204.884331 140.364789 \nL 228.296919 141.985122 \nL 251.709506 149.863026 \nL 275.122094 159.636675 \nL 298.534681 157.047375 \nL 321.947268 149.444865 \nL 345.359856 154.374952 \nL 368.772443 155.580882 \n\" style=\"fill:none;stroke:#ff7f0e;stroke-linecap:square;stroke-width:1.5;\"/>\n   </g>\n   <g id=\"line2d_43\">\n    <path clip-path=\"url(#p418a04b74e)\" d=\"M 64.408807 199.728489 \nL 87.821394 199.453268 \nL 111.233982 206.993628 \nL 134.646569 203.619664 \nL 158.059156 201.960079 \nL 181.471744 206.359476 \nL 204.884331 212.286963 \nL 228.296919 209.641552 \nL 251.709506 209.986147 \nL 275.122094 215.588846 \nL 298.534681 212.933843 \nL 321.947268 215.623346 \nL 345.359856 215.59421 \nL 368.772443 212.750531 \n\" style=\"fill:none;stroke:#2ca02c;stroke-linecap:square;stroke-width:1.5;\"/>\n   </g>\n   <g id=\"line2d_44\">\n    <path clip-path=\"url(#p418a04b74e)\" d=\"M 64.408807 203.260012 \nL 87.821394 206.608053 \nL 111.233982 206.993628 \nL 134.646569 203.619664 \nL 158.059156 201.960079 \nL 181.471744 203.447846 \nL 204.884331 209.410076 \nL 228.296919 204.003516 \nL 251.709506 207.253278 \nL 275.122094 215.588846 \nL 298.534681 218.256364 \nL 321.947268 212.976206 \nL 345.359856 215.59421 \nL 368.772443 218.19526 \n\" style=\"fill:none;stroke:#d62728;stroke-linecap:square;stroke-width:1.5;\"/>\n   </g>\n   <g id=\"line2d_45\">\n    <path clip-path=\"url(#p418a04b74e)\" d=\"M 64.408807 210.323057 \nL 87.821394 213.762839 \nL 111.233982 217.436625 \nL 134.646569 213.99844 \nL 158.059156 208.279261 \nL 181.471744 212.182735 \nL 204.884331 209.410076 \nL 228.296919 209.641552 \nL 251.709506 209.986147 \nL 275.122094 204.93129 \nL 298.534681 202.288801 \nL 321.947268 207.681928 \nL 345.359856 194.300555 \nL 368.772443 199.13871 \n\" style=\"fill:none;stroke:#9467bd;stroke-linecap:square;stroke-width:1.5;\"/>\n   </g>\n   <g id=\"patch_3\">\n    <path d=\"M 49.190625 228.14 \nL 49.190625 10.7 \n\" style=\"fill:none;stroke:#000000;stroke-linecap:square;stroke-linejoin:miter;stroke-width:0.8;\"/>\n   </g>\n   <g id=\"patch_4\">\n    <path d=\"M 383.990625 228.14 \nL 383.990625 10.7 \n\" style=\"fill:none;stroke:#000000;stroke-linecap:square;stroke-linejoin:miter;stroke-width:0.8;\"/>\n   </g>\n   <g id=\"patch_5\">\n    <path d=\"M 49.190625 228.14 \nL 383.990625 228.14 \n\" style=\"fill:none;stroke:#000000;stroke-linecap:square;stroke-linejoin:miter;stroke-width:0.8;\"/>\n   </g>\n   <g id=\"patch_6\">\n    <path d=\"M 49.190625 10.7 \nL 383.990625 10.7 \n\" style=\"fill:none;stroke:#000000;stroke-linecap:square;stroke-linejoin:miter;stroke-width:0.8;\"/>\n   </g>\n   <g id=\"legend_1\">\n    <g id=\"patch_7\">\n     <path d=\"M 246.175 92.090625 \nL 376.990625 92.090625 \nQ 378.990625 92.090625 378.990625 90.090625 \nL 378.990625 17.7 \nQ 378.990625 15.7 376.990625 15.7 \nL 246.175 15.7 \nQ 244.175 15.7 244.175 17.7 \nL 244.175 90.090625 \nQ 244.175 92.090625 246.175 92.090625 \nz\n\" style=\"fill:#ffffff;opacity:0.8;stroke:#cccccc;stroke-linejoin:miter;\"/>\n    </g>\n    <g id=\"line2d_46\">\n     <path d=\"M 248.175 23.798437 \nL 268.175 23.798437 \n\" style=\"fill:none;stroke:#1f77b4;stroke-linecap:square;stroke-width:1.5;\"/>\n    </g>\n    <g id=\"line2d_47\"/>\n    <g id=\"text_21\">\n     <!-- revolvermaps.com -->\n     <defs>\n      <path d=\"M 41.109375 46.296875 \nQ 39.59375 47.171875 37.8125 47.578125 \nQ 36.03125 48 33.890625 48 \nQ 26.265625 48 22.1875 43.046875 \nQ 18.109375 38.09375 18.109375 28.8125 \nL 18.109375 0 \nL 9.078125 0 \nL 9.078125 54.6875 \nL 18.109375 54.6875 \nL 18.109375 46.1875 \nQ 20.953125 51.171875 25.484375 53.578125 \nQ 30.03125 56 36.53125 56 \nQ 37.453125 56 38.578125 55.875 \nQ 39.703125 55.765625 41.0625 55.515625 \nz\n\" id=\"DejaVuSans-114\"/>\n      <path d=\"M 56.203125 29.59375 \nL 56.203125 25.203125 \nL 14.890625 25.203125 \nQ 15.484375 15.921875 20.484375 11.0625 \nQ 25.484375 6.203125 34.421875 6.203125 \nQ 39.59375 6.203125 44.453125 7.46875 \nQ 49.3125 8.734375 54.109375 11.28125 \nL 54.109375 2.78125 \nQ 49.265625 0.734375 44.1875 -0.34375 \nQ 39.109375 -1.421875 33.890625 -1.421875 \nQ 20.796875 -1.421875 13.15625 6.1875 \nQ 5.515625 13.8125 5.515625 26.8125 \nQ 5.515625 40.234375 12.765625 48.109375 \nQ 20.015625 56 32.328125 56 \nQ 43.359375 56 49.78125 48.890625 \nQ 56.203125 41.796875 56.203125 29.59375 \nz\nM 47.21875 32.234375 \nQ 47.125 39.59375 43.09375 43.984375 \nQ 39.0625 48.390625 32.421875 48.390625 \nQ 24.90625 48.390625 20.390625 44.140625 \nQ 15.875 39.890625 15.1875 32.171875 \nz\n\" id=\"DejaVuSans-101\"/>\n      <path d=\"M 2.984375 54.6875 \nL 12.5 54.6875 \nL 29.59375 8.796875 \nL 46.6875 54.6875 \nL 56.203125 54.6875 \nL 35.6875 0 \nL 23.484375 0 \nz\n\" id=\"DejaVuSans-118\"/>\n      <path d=\"M 30.609375 48.390625 \nQ 23.390625 48.390625 19.1875 42.75 \nQ 14.984375 37.109375 14.984375 27.296875 \nQ 14.984375 17.484375 19.15625 11.84375 \nQ 23.34375 6.203125 30.609375 6.203125 \nQ 37.796875 6.203125 41.984375 11.859375 \nQ 46.1875 17.53125 46.1875 27.296875 \nQ 46.1875 37.015625 41.984375 42.703125 \nQ 37.796875 48.390625 30.609375 48.390625 \nz\nM 30.609375 56 \nQ 42.328125 56 49.015625 48.375 \nQ 55.71875 40.765625 55.71875 27.296875 \nQ 55.71875 13.875 49.015625 6.21875 \nQ 42.328125 -1.421875 30.609375 -1.421875 \nQ 18.84375 -1.421875 12.171875 6.21875 \nQ 5.515625 13.875 5.515625 27.296875 \nQ 5.515625 40.765625 12.171875 48.375 \nQ 18.84375 56 30.609375 56 \nz\n\" id=\"DejaVuSans-111\"/>\n      <path d=\"M 9.421875 75.984375 \nL 18.40625 75.984375 \nL 18.40625 0 \nL 9.421875 0 \nz\n\" id=\"DejaVuSans-108\"/>\n      <path d=\"M 52 44.1875 \nQ 55.375 50.25 60.0625 53.125 \nQ 64.75 56 71.09375 56 \nQ 79.640625 56 84.28125 50.015625 \nQ 88.921875 44.046875 88.921875 33.015625 \nL 88.921875 0 \nL 79.890625 0 \nL 79.890625 32.71875 \nQ 79.890625 40.578125 77.09375 44.375 \nQ 74.3125 48.1875 68.609375 48.1875 \nQ 61.625 48.1875 57.5625 43.546875 \nQ 53.515625 38.921875 53.515625 30.90625 \nL 53.515625 0 \nL 44.484375 0 \nL 44.484375 32.71875 \nQ 44.484375 40.625 41.703125 44.40625 \nQ 38.921875 48.1875 33.109375 48.1875 \nQ 26.21875 48.1875 22.15625 43.53125 \nQ 18.109375 38.875 18.109375 30.90625 \nL 18.109375 0 \nL 9.078125 0 \nL 9.078125 54.6875 \nL 18.109375 54.6875 \nL 18.109375 46.1875 \nQ 21.1875 51.21875 25.484375 53.609375 \nQ 29.78125 56 35.6875 56 \nQ 41.65625 56 45.828125 52.96875 \nQ 50 49.953125 52 44.1875 \nz\n\" id=\"DejaVuSans-109\"/>\n      <path d=\"M 34.28125 27.484375 \nQ 23.390625 27.484375 19.1875 25 \nQ 14.984375 22.515625 14.984375 16.5 \nQ 14.984375 11.71875 18.140625 8.90625 \nQ 21.296875 6.109375 26.703125 6.109375 \nQ 34.1875 6.109375 38.703125 11.40625 \nQ 43.21875 16.703125 43.21875 25.484375 \nL 43.21875 27.484375 \nz\nM 52.203125 31.203125 \nL 52.203125 0 \nL 43.21875 0 \nL 43.21875 8.296875 \nQ 40.140625 3.328125 35.546875 0.953125 \nQ 30.953125 -1.421875 24.3125 -1.421875 \nQ 15.921875 -1.421875 10.953125 3.296875 \nQ 6 8.015625 6 15.921875 \nQ 6 25.140625 12.171875 29.828125 \nQ 18.359375 34.515625 30.609375 34.515625 \nL 43.21875 34.515625 \nL 43.21875 35.40625 \nQ 43.21875 41.609375 39.140625 45 \nQ 35.0625 48.390625 27.6875 48.390625 \nQ 23 48.390625 18.546875 47.265625 \nQ 14.109375 46.140625 10.015625 43.890625 \nL 10.015625 52.203125 \nQ 14.9375 54.109375 19.578125 55.046875 \nQ 24.21875 56 28.609375 56 \nQ 40.484375 56 46.34375 49.84375 \nQ 52.203125 43.703125 52.203125 31.203125 \nz\n\" id=\"DejaVuSans-97\"/>\n      <path d=\"M 18.109375 8.203125 \nL 18.109375 -20.796875 \nL 9.078125 -20.796875 \nL 9.078125 54.6875 \nL 18.109375 54.6875 \nL 18.109375 46.390625 \nQ 20.953125 51.265625 25.265625 53.625 \nQ 29.59375 56 35.59375 56 \nQ 45.5625 56 51.78125 48.09375 \nQ 58.015625 40.1875 58.015625 27.296875 \nQ 58.015625 14.40625 51.78125 6.484375 \nQ 45.5625 -1.421875 35.59375 -1.421875 \nQ 29.59375 -1.421875 25.265625 0.953125 \nQ 20.953125 3.328125 18.109375 8.203125 \nz\nM 48.6875 27.296875 \nQ 48.6875 37.203125 44.609375 42.84375 \nQ 40.53125 48.484375 33.40625 48.484375 \nQ 26.265625 48.484375 22.1875 42.84375 \nQ 18.109375 37.203125 18.109375 27.296875 \nQ 18.109375 17.390625 22.1875 11.75 \nQ 26.265625 6.109375 33.40625 6.109375 \nQ 40.53125 6.109375 44.609375 11.75 \nQ 48.6875 17.390625 48.6875 27.296875 \nz\n\" id=\"DejaVuSans-112\"/>\n      <path d=\"M 44.28125 53.078125 \nL 44.28125 44.578125 \nQ 40.484375 46.53125 36.375 47.5 \nQ 32.28125 48.484375 27.875 48.484375 \nQ 21.1875 48.484375 17.84375 46.4375 \nQ 14.5 44.390625 14.5 40.28125 \nQ 14.5 37.15625 16.890625 35.375 \nQ 19.28125 33.59375 26.515625 31.984375 \nL 29.59375 31.296875 \nQ 39.15625 29.25 43.1875 25.515625 \nQ 47.21875 21.78125 47.21875 15.09375 \nQ 47.21875 7.46875 41.1875 3.015625 \nQ 35.15625 -1.421875 24.609375 -1.421875 \nQ 20.21875 -1.421875 15.453125 -0.5625 \nQ 10.6875 0.296875 5.421875 2 \nL 5.421875 11.28125 \nQ 10.40625 8.6875 15.234375 7.390625 \nQ 20.0625 6.109375 24.8125 6.109375 \nQ 31.15625 6.109375 34.5625 8.28125 \nQ 37.984375 10.453125 37.984375 14.40625 \nQ 37.984375 18.0625 35.515625 20.015625 \nQ 33.0625 21.96875 24.703125 23.78125 \nL 21.578125 24.515625 \nQ 13.234375 26.265625 9.515625 29.90625 \nQ 5.8125 33.546875 5.8125 39.890625 \nQ 5.8125 47.609375 11.28125 51.796875 \nQ 16.75 56 26.8125 56 \nQ 31.78125 56 36.171875 55.265625 \nQ 40.578125 54.546875 44.28125 53.078125 \nz\n\" id=\"DejaVuSans-115\"/>\n      <path d=\"M 48.78125 52.59375 \nL 48.78125 44.1875 \nQ 44.96875 46.296875 41.140625 47.34375 \nQ 37.3125 48.390625 33.40625 48.390625 \nQ 24.65625 48.390625 19.8125 42.84375 \nQ 14.984375 37.3125 14.984375 27.296875 \nQ 14.984375 17.28125 19.8125 11.734375 \nQ 24.65625 6.203125 33.40625 6.203125 \nQ 37.3125 6.203125 41.140625 7.25 \nQ 44.96875 8.296875 48.78125 10.40625 \nL 48.78125 2.09375 \nQ 45.015625 0.34375 40.984375 -0.53125 \nQ 36.96875 -1.421875 32.421875 -1.421875 \nQ 20.0625 -1.421875 12.78125 6.34375 \nQ 5.515625 14.109375 5.515625 27.296875 \nQ 5.515625 40.671875 12.859375 48.328125 \nQ 20.21875 56 33.015625 56 \nQ 37.15625 56 41.109375 55.140625 \nQ 45.0625 54.296875 48.78125 52.59375 \nz\n\" id=\"DejaVuSans-99\"/>\n     </defs>\n     <g transform=\"translate(276.175 27.298437)scale(0.1 -0.1)\">\n      <use xlink:href=\"#DejaVuSans-114\"/>\n      <use x=\"41.082031\" xlink:href=\"#DejaVuSans-101\"/>\n      <use x=\"102.605469\" xlink:href=\"#DejaVuSans-118\"/>\n      <use x=\"161.785156\" xlink:href=\"#DejaVuSans-111\"/>\n      <use x=\"222.966797\" xlink:href=\"#DejaVuSans-108\"/>\n      <use x=\"250.75\" xlink:href=\"#DejaVuSans-118\"/>\n      <use x=\"309.929688\" xlink:href=\"#DejaVuSans-101\"/>\n      <use x=\"371.453125\" xlink:href=\"#DejaVuSans-114\"/>\n      <use x=\"412.550781\" xlink:href=\"#DejaVuSans-109\"/>\n      <use x=\"509.962891\" xlink:href=\"#DejaVuSans-97\"/>\n      <use x=\"571.242188\" xlink:href=\"#DejaVuSans-112\"/>\n      <use x=\"634.71875\" xlink:href=\"#DejaVuSans-115\"/>\n      <use x=\"686.818359\" xlink:href=\"#DejaVuSans-46\"/>\n      <use x=\"718.605469\" xlink:href=\"#DejaVuSans-99\"/>\n      <use x=\"773.585938\" xlink:href=\"#DejaVuSans-111\"/>\n      <use x=\"834.767578\" xlink:href=\"#DejaVuSans-109\"/>\n     </g>\n    </g>\n    <g id=\"line2d_48\">\n     <path d=\"M 248.175 38.476562 \nL 268.175 38.476562 \n\" style=\"fill:none;stroke:#ff7f0e;stroke-linecap:square;stroke-width:1.5;\"/>\n    </g>\n    <g id=\"line2d_49\"/>\n    <g id=\"text_22\">\n     <!-- etracker.com -->\n     <defs>\n      <path d=\"M 18.3125 70.21875 \nL 18.3125 54.6875 \nL 36.8125 54.6875 \nL 36.8125 47.703125 \nL 18.3125 47.703125 \nL 18.3125 18.015625 \nQ 18.3125 11.328125 20.140625 9.421875 \nQ 21.96875 7.515625 27.59375 7.515625 \nL 36.8125 7.515625 \nL 36.8125 0 \nL 27.59375 0 \nQ 17.1875 0 13.234375 3.875 \nQ 9.28125 7.765625 9.28125 18.015625 \nL 9.28125 47.703125 \nL 2.6875 47.703125 \nL 2.6875 54.6875 \nL 9.28125 54.6875 \nL 9.28125 70.21875 \nz\n\" id=\"DejaVuSans-116\"/>\n      <path d=\"M 9.078125 75.984375 \nL 18.109375 75.984375 \nL 18.109375 31.109375 \nL 44.921875 54.6875 \nL 56.390625 54.6875 \nL 27.390625 29.109375 \nL 57.625 0 \nL 45.90625 0 \nL 18.109375 26.703125 \nL 18.109375 0 \nL 9.078125 0 \nz\n\" id=\"DejaVuSans-107\"/>\n     </defs>\n     <g transform=\"translate(276.175 41.976562)scale(0.1 -0.1)\">\n      <use xlink:href=\"#DejaVuSans-101\"/>\n      <use x=\"61.523438\" xlink:href=\"#DejaVuSans-116\"/>\n      <use x=\"100.732422\" xlink:href=\"#DejaVuSans-114\"/>\n      <use x=\"141.845703\" xlink:href=\"#DejaVuSans-97\"/>\n      <use x=\"203.125\" xlink:href=\"#DejaVuSans-99\"/>\n      <use x=\"258.105469\" xlink:href=\"#DejaVuSans-107\"/>\n      <use x=\"315.96875\" xlink:href=\"#DejaVuSans-101\"/>\n      <use x=\"377.492188\" xlink:href=\"#DejaVuSans-114\"/>\n      <use x=\"418.464844\" xlink:href=\"#DejaVuSans-46\"/>\n      <use x=\"450.251953\" xlink:href=\"#DejaVuSans-99\"/>\n      <use x=\"505.232422\" xlink:href=\"#DejaVuSans-111\"/>\n      <use x=\"566.414062\" xlink:href=\"#DejaVuSans-109\"/>\n     </g>\n    </g>\n    <g id=\"line2d_50\">\n     <path d=\"M 248.175 53.154687 \nL 268.175 53.154687 \n\" style=\"fill:none;stroke:#2ca02c;stroke-linecap:square;stroke-width:1.5;\"/>\n    </g>\n    <g id=\"line2d_51\"/>\n    <g id=\"text_23\">\n     <!-- motigo.com -->\n     <defs>\n      <path d=\"M 9.421875 54.6875 \nL 18.40625 54.6875 \nL 18.40625 0 \nL 9.421875 0 \nz\nM 9.421875 75.984375 \nL 18.40625 75.984375 \nL 18.40625 64.59375 \nL 9.421875 64.59375 \nz\n\" id=\"DejaVuSans-105\"/>\n      <path d=\"M 45.40625 27.984375 \nQ 45.40625 37.75 41.375 43.109375 \nQ 37.359375 48.484375 30.078125 48.484375 \nQ 22.859375 48.484375 18.828125 43.109375 \nQ 14.796875 37.75 14.796875 27.984375 \nQ 14.796875 18.265625 18.828125 12.890625 \nQ 22.859375 7.515625 30.078125 7.515625 \nQ 37.359375 7.515625 41.375 12.890625 \nQ 45.40625 18.265625 45.40625 27.984375 \nz\nM 54.390625 6.78125 \nQ 54.390625 -7.171875 48.1875 -13.984375 \nQ 42 -20.796875 29.203125 -20.796875 \nQ 24.46875 -20.796875 20.265625 -20.09375 \nQ 16.0625 -19.390625 12.109375 -17.921875 \nL 12.109375 -9.1875 \nQ 16.0625 -11.328125 19.921875 -12.34375 \nQ 23.78125 -13.375 27.78125 -13.375 \nQ 36.625 -13.375 41.015625 -8.765625 \nQ 45.40625 -4.15625 45.40625 5.171875 \nL 45.40625 9.625 \nQ 42.625 4.78125 38.28125 2.390625 \nQ 33.9375 0 27.875 0 \nQ 17.828125 0 11.671875 7.65625 \nQ 5.515625 15.328125 5.515625 27.984375 \nQ 5.515625 40.671875 11.671875 48.328125 \nQ 17.828125 56 27.875 56 \nQ 33.9375 56 38.28125 53.609375 \nQ 42.625 51.21875 45.40625 46.390625 \nL 45.40625 54.6875 \nL 54.390625 54.6875 \nz\n\" id=\"DejaVuSans-103\"/>\n     </defs>\n     <g transform=\"translate(276.175 56.654687)scale(0.1 -0.1)\">\n      <use xlink:href=\"#DejaVuSans-109\"/>\n      <use x=\"97.412109\" xlink:href=\"#DejaVuSans-111\"/>\n      <use x=\"158.59375\" xlink:href=\"#DejaVuSans-116\"/>\n      <use x=\"197.802734\" xlink:href=\"#DejaVuSans-105\"/>\n      <use x=\"225.585938\" xlink:href=\"#DejaVuSans-103\"/>\n      <use x=\"289.0625\" xlink:href=\"#DejaVuSans-111\"/>\n      <use x=\"350.228516\" xlink:href=\"#DejaVuSans-46\"/>\n      <use x=\"382.015625\" xlink:href=\"#DejaVuSans-99\"/>\n      <use x=\"436.996094\" xlink:href=\"#DejaVuSans-111\"/>\n      <use x=\"498.177734\" xlink:href=\"#DejaVuSans-109\"/>\n     </g>\n    </g>\n    <g id=\"line2d_52\">\n     <path d=\"M 248.175 67.832812 \nL 268.175 67.832812 \n\" style=\"fill:none;stroke:#d62728;stroke-linecap:square;stroke-width:1.5;\"/>\n    </g>\n    <g id=\"line2d_53\"/>\n    <g id=\"text_24\">\n     <!-- zanox.com -->\n     <defs>\n      <path d=\"M 5.515625 54.6875 \nL 48.1875 54.6875 \nL 48.1875 46.484375 \nL 14.40625 7.171875 \nL 48.1875 7.171875 \nL 48.1875 0 \nL 4.296875 0 \nL 4.296875 8.203125 \nL 38.09375 47.515625 \nL 5.515625 47.515625 \nz\n\" id=\"DejaVuSans-122\"/>\n      <path d=\"M 54.890625 33.015625 \nL 54.890625 0 \nL 45.90625 0 \nL 45.90625 32.71875 \nQ 45.90625 40.484375 42.875 44.328125 \nQ 39.84375 48.1875 33.796875 48.1875 \nQ 26.515625 48.1875 22.3125 43.546875 \nQ 18.109375 38.921875 18.109375 30.90625 \nL 18.109375 0 \nL 9.078125 0 \nL 9.078125 54.6875 \nL 18.109375 54.6875 \nL 18.109375 46.1875 \nQ 21.34375 51.125 25.703125 53.5625 \nQ 30.078125 56 35.796875 56 \nQ 45.21875 56 50.046875 50.171875 \nQ 54.890625 44.34375 54.890625 33.015625 \nz\n\" id=\"DejaVuSans-110\"/>\n      <path d=\"M 54.890625 54.6875 \nL 35.109375 28.078125 \nL 55.90625 0 \nL 45.3125 0 \nL 29.390625 21.484375 \nL 13.484375 0 \nL 2.875 0 \nL 24.125 28.609375 \nL 4.6875 54.6875 \nL 15.28125 54.6875 \nL 29.78125 35.203125 \nL 44.28125 54.6875 \nz\n\" id=\"DejaVuSans-120\"/>\n     </defs>\n     <g transform=\"translate(276.175 71.332812)scale(0.1 -0.1)\">\n      <use xlink:href=\"#DejaVuSans-122\"/>\n      <use x=\"52.490234\" xlink:href=\"#DejaVuSans-97\"/>\n      <use x=\"113.769531\" xlink:href=\"#DejaVuSans-110\"/>\n      <use x=\"177.148438\" xlink:href=\"#DejaVuSans-111\"/>\n      <use x=\"238.283203\" xlink:href=\"#DejaVuSans-120\"/>\n      <use x=\"297.462891\" xlink:href=\"#DejaVuSans-46\"/>\n      <use x=\"329.25\" xlink:href=\"#DejaVuSans-99\"/>\n      <use x=\"384.230469\" xlink:href=\"#DejaVuSans-111\"/>\n      <use x=\"445.412109\" xlink:href=\"#DejaVuSans-109\"/>\n     </g>\n    </g>\n    <g id=\"line2d_54\">\n     <path d=\"M 248.175 82.510937 \nL 268.175 82.510937 \n\" style=\"fill:none;stroke:#9467bd;stroke-linecap:square;stroke-width:1.5;\"/>\n    </g>\n    <g id=\"line2d_55\"/>\n    <g id=\"text_25\">\n     <!-- browser-update.org -->\n     <defs>\n      <path d=\"M 48.6875 27.296875 \nQ 48.6875 37.203125 44.609375 42.84375 \nQ 40.53125 48.484375 33.40625 48.484375 \nQ 26.265625 48.484375 22.1875 42.84375 \nQ 18.109375 37.203125 18.109375 27.296875 \nQ 18.109375 17.390625 22.1875 11.75 \nQ 26.265625 6.109375 33.40625 6.109375 \nQ 40.53125 6.109375 44.609375 11.75 \nQ 48.6875 17.390625 48.6875 27.296875 \nz\nM 18.109375 46.390625 \nQ 20.953125 51.265625 25.265625 53.625 \nQ 29.59375 56 35.59375 56 \nQ 45.5625 56 51.78125 48.09375 \nQ 58.015625 40.1875 58.015625 27.296875 \nQ 58.015625 14.40625 51.78125 6.484375 \nQ 45.5625 -1.421875 35.59375 -1.421875 \nQ 29.59375 -1.421875 25.265625 0.953125 \nQ 20.953125 3.328125 18.109375 8.203125 \nL 18.109375 0 \nL 9.078125 0 \nL 9.078125 75.984375 \nL 18.109375 75.984375 \nz\n\" id=\"DejaVuSans-98\"/>\n      <path d=\"M 4.203125 54.6875 \nL 13.1875 54.6875 \nL 24.421875 12.015625 \nL 35.59375 54.6875 \nL 46.1875 54.6875 \nL 57.421875 12.015625 \nL 68.609375 54.6875 \nL 77.59375 54.6875 \nL 63.28125 0 \nL 52.6875 0 \nL 40.921875 44.828125 \nL 29.109375 0 \nL 18.5 0 \nz\n\" id=\"DejaVuSans-119\"/>\n      <path d=\"M 4.890625 31.390625 \nL 31.203125 31.390625 \nL 31.203125 23.390625 \nL 4.890625 23.390625 \nz\n\" id=\"DejaVuSans-45\"/>\n      <path d=\"M 8.5 21.578125 \nL 8.5 54.6875 \nL 17.484375 54.6875 \nL 17.484375 21.921875 \nQ 17.484375 14.15625 20.5 10.265625 \nQ 23.53125 6.390625 29.59375 6.390625 \nQ 36.859375 6.390625 41.078125 11.03125 \nQ 45.3125 15.671875 45.3125 23.6875 \nL 45.3125 54.6875 \nL 54.296875 54.6875 \nL 54.296875 0 \nL 45.3125 0 \nL 45.3125 8.40625 \nQ 42.046875 3.421875 37.71875 1 \nQ 33.40625 -1.421875 27.6875 -1.421875 \nQ 18.265625 -1.421875 13.375 4.4375 \nQ 8.5 10.296875 8.5 21.578125 \nz\nM 31.109375 56 \nz\n\" id=\"DejaVuSans-117\"/>\n      <path d=\"M 45.40625 46.390625 \nL 45.40625 75.984375 \nL 54.390625 75.984375 \nL 54.390625 0 \nL 45.40625 0 \nL 45.40625 8.203125 \nQ 42.578125 3.328125 38.25 0.953125 \nQ 33.9375 -1.421875 27.875 -1.421875 \nQ 17.96875 -1.421875 11.734375 6.484375 \nQ 5.515625 14.40625 5.515625 27.296875 \nQ 5.515625 40.1875 11.734375 48.09375 \nQ 17.96875 56 27.875 56 \nQ 33.9375 56 38.25 53.625 \nQ 42.578125 51.265625 45.40625 46.390625 \nz\nM 14.796875 27.296875 \nQ 14.796875 17.390625 18.875 11.75 \nQ 22.953125 6.109375 30.078125 6.109375 \nQ 37.203125 6.109375 41.296875 11.75 \nQ 45.40625 17.390625 45.40625 27.296875 \nQ 45.40625 37.203125 41.296875 42.84375 \nQ 37.203125 48.484375 30.078125 48.484375 \nQ 22.953125 48.484375 18.875 42.84375 \nQ 14.796875 37.203125 14.796875 27.296875 \nz\n\" id=\"DejaVuSans-100\"/>\n     </defs>\n     <g transform=\"translate(276.175 86.010937)scale(0.1 -0.1)\">\n      <use xlink:href=\"#DejaVuSans-98\"/>\n      <use x=\"63.476562\" xlink:href=\"#DejaVuSans-114\"/>\n      <use x=\"104.558594\" xlink:href=\"#DejaVuSans-111\"/>\n      <use x=\"165.740234\" xlink:href=\"#DejaVuSans-119\"/>\n      <use x=\"247.527344\" xlink:href=\"#DejaVuSans-115\"/>\n      <use x=\"299.626953\" xlink:href=\"#DejaVuSans-101\"/>\n      <use x=\"361.150391\" xlink:href=\"#DejaVuSans-114\"/>\n      <use x=\"402.169922\" xlink:href=\"#DejaVuSans-45\"/>\n      <use x=\"438.253906\" xlink:href=\"#DejaVuSans-117\"/>\n      <use x=\"501.632812\" xlink:href=\"#DejaVuSans-112\"/>\n      <use x=\"565.109375\" xlink:href=\"#DejaVuSans-100\"/>\n      <use x=\"628.585938\" xlink:href=\"#DejaVuSans-97\"/>\n      <use x=\"689.865234\" xlink:href=\"#DejaVuSans-116\"/>\n      <use x=\"729.074219\" xlink:href=\"#DejaVuSans-101\"/>\n      <use x=\"790.597656\" xlink:href=\"#DejaVuSans-46\"/>\n      <use x=\"822.384766\" xlink:href=\"#DejaVuSans-111\"/>\n      <use x=\"883.566406\" xlink:href=\"#DejaVuSans-114\"/>\n      <use x=\"924.664062\" xlink:href=\"#DejaVuSans-103\"/>\n     </g>\n    </g>\n   </g>\n  </g>\n </g>\n <defs>\n  <clipPath id=\"p418a04b74e\">\n   <rect height=\"217.44\" width=\"334.8\" x=\"49.190625\" y=\"10.7\"/>\n  </clipPath>\n </defs>\n</svg>\n",
      "text/plain": [
       "<Figure size 432x288 with 1 Axes>"
      ]
     },
     "metadata": {
      "needs_background": "light"
     }
    }
   ],
   "metadata": {}
  },
  {
   "cell_type": "code",
   "execution_count": 8,
   "source": [
    "### 判断一下各个品类的trackers在\n",
    "\n",
    "def categorical_trackers(group, trackers_year):\n",
    "    count = 0\n",
    "    for domain in group['domain']:\n",
    "        count += trackers_year[domain]\n",
    "    return count\n",
    "# return pd.Series({'tracker_list':group['domain'].to_list()})\n",
    "\n",
    "df_picture = df_domain[['category','domain']].groupby('category').apply(categorical_trackers,trackers_2021).reset_index()\n",
    "df_picture.columns = ['category','count']\n",
    "print(df_picture)\n",
    "# print(df_domain[['category','domain']].groupby('category').apply(categorical_trackers,trackers_2020).reset_index())\n",
    "# print(df_domain[['category','domain']].groupby('category').apply(categorical_trackers,trackers_2019).reset_index())\n",
    "# print(df_domain[['category','domain']].groupby('category').apply(categorical_trackers,trackers_2018).reset_index())\n",
    "# print(df_domain[['category','domain']].groupby('category').apply(categorical_trackers,trackers_2017).reset_index())"
   ],
   "outputs": [
    {
     "output_type": "stream",
     "name": "stdout",
     "text": [
      "                 category  count\n",
      "0                       #   1651\n",
      "1             Advertising   1083\n",
      "2               Analytics     61\n",
      "3   Analytics,Advertising      2\n",
      "4                  Beacon     13\n",
      "5                 Captcha      0\n",
      "6         ContentDelivery    146\n",
      "7           DomainParking      0\n",
      "8          EmailMarketing      3\n",
      "9             FormBuilder      0\n",
      "10                Hosting      0\n",
      "11            ImageHoster     21\n",
      "12          LinkShortener     30\n",
      "13                Malware      0\n",
      "14                Payment      0\n",
      "15                Toolbar      0\n",
      "16                Weather      0\n",
      "17            WebServices      0\n",
      "18         WebsiteBuilder      2\n",
      "19                 Widget    104\n"
     ]
    }
   ],
   "metadata": {}
  },
  {
   "cell_type": "code",
   "execution_count": 16,
   "source": [
    "# 计算各个网站的glocality\n",
    "\n",
    "def glocality_cal(l, trackers_count):\n",
    "    T_w = len(l)\n",
    "    idf_sim = sum([1 / (trackers_count[t]) for t in l])\n",
    "    return 1 / T_w * idf_sim\n",
    "\n",
    "# print(frame_2021.head())\n",
    "for _,row in frame_2021.iterrows():\n",
    "    url = row['url']\n",
    "    trackers_list = row['tracker_list']\n",
    "\n",
    "    print(glocality_cal(trackers_list, trackers_2021))\n",
    "# trackers_2021"
   ],
   "outputs": [
    {
     "output_type": "stream",
     "name": "stdout",
     "text": [
      "0.01236260787294645\n",
      "0.10127877237851662\n",
      "0.35185185185185186\n",
      "0.1388888888888889\n",
      "0.6666666666666666\n",
      "0.26111111111111107\n",
      "0.13049395498734429\n",
      "0.0149726062456602\n",
      "0.007597532372075441\n",
      "0.004680556269437947\n",
      "0.004500414559396918\n",
      "0.09432060651401997\n",
      "0.10202020202020201\n",
      "0.2609903556862762\n",
      "0.006700676832951416\n",
      "0.00827419454285432\n",
      "0.0030838265301411727\n",
      "0.16792294807370184\n",
      "0.1\n",
      "0.018206763717102295\n",
      "0.004830917874396135\n",
      "0.14966959365582735\n",
      "0.00671550851404272\n",
      "0.18239689205650275\n",
      "0.10084033613445378\n",
      "0.06473651914083792\n",
      "0.011046139155034013\n",
      "0.03167676090082953\n",
      "0.004982357586344716\n",
      "0.03571428571428571\n",
      "0.045952346600573804\n",
      "0.10537240681123419\n",
      "0.003477420548199379\n",
      "0.010612180248673478\n",
      "0.05707655364990431\n",
      "0.0683567025237012\n",
      "0.02585041418196362\n",
      "0.021545836644094814\n",
      "0.006147600609683789\n",
      "0.020275168364296547\n",
      "0.21290032642378143\n",
      "0.0025350537855518\n",
      "0.3994708994708994\n",
      "0.5\n",
      "0.33537422370577313\n",
      "0.01639344262295082\n",
      "0.006381223911962519\n",
      "0.2622537813807589\n",
      "0.00313904621665019\n",
      "0.01639344262295082\n",
      "0.01639344262295082\n",
      "0.004982357586344716\n",
      "0.004982357586344716\n",
      "0.17471174509681442\n",
      "0.06974775187897807\n",
      "0.055360643884098906\n",
      "0.04014478513576342\n",
      "0.020439355965671754\n",
      "0.25\n",
      "0.5026246719160105\n",
      "0.004982357586344716\n",
      "0.625\n",
      "0.26111111111111107\n",
      "0.0199669493147754\n",
      "0.013003305723224834\n",
      "0.00313904621665019\n",
      "0.006268414624325879\n",
      "0.016841551008549685\n",
      "0.5089285714285714\n",
      "0.05752576387234723\n",
      "0.02741545893719807\n",
      "0.004086040122926452\n",
      "0.018246842003650683\n",
      "0.047619047619047616\n",
      "0.2132716012923204\n",
      "0.05\n",
      "0.21143834707029852\n",
      "0.042958644252881026\n",
      "0.07209224561570064\n",
      "0.11830745650712993\n",
      "0.004830917874396135\n",
      "0.01818181818181818\n",
      "0.32113095238095235\n",
      "0.004982357586344716\n",
      "0.035614212675711326\n",
      "0.25217005396858816\n",
      "0.2597524792924186\n",
      "0.05456561102779173\n",
      "0.014647598261840741\n",
      "0.08502336919036786\n",
      "0.05896058899132759\n",
      "0.059027777777777776\n",
      "0.003875968992248062\n",
      "0.004277029899356066\n",
      "0.05555555555555555\n",
      "0.5\n",
      "0.27922448042350323\n",
      "0.052511236973320156\n",
      "0.0064738072764311365\n",
      "0.01639344262295082\n",
      "0.01818181818181818\n",
      "0.027328946559957122\n",
      "0.14617700750239318\n",
      "0.0372366153455102\n",
      "0.1\n",
      "0.20728792784981656\n",
      "0.10591843218160585\n",
      "0.03571428571428571\n",
      "0.01639344262295082\n",
      "0.06752004776165296\n",
      "0.2\n",
      "0.006830610203546051\n",
      "0.16956451712349946\n",
      "0.022175017685356263\n",
      "0.013003305723224834\n",
      "0.3371764866970569\n",
      "0.009815631365502439\n",
      "0.013388739013988021\n",
      "0.02761266933278306\n",
      "0.0059010674817947285\n",
      "0.0625\n",
      "0.016644179657810173\n",
      "0.3851851851851852\n",
      "0.002893405291450899\n",
      "0.002893405291450899\n",
      "0.25\n",
      "0.00313904621665019\n",
      "0.020439355965671754\n",
      "1.0\n",
      "0.014516144546883153\n",
      "0.006229892192834189\n",
      "0.054390650305865436\n",
      "0.24202363953750544\n",
      "0.08623118379016616\n",
      "0.12625628140703518\n",
      "0.006433360454692028\n",
      "0.10994620586142101\n",
      "0.75\n",
      "0.24410927147365427\n",
      "0.25209269747776675\n",
      "0.013157894736842105\n",
      "0.006340742134788352\n",
      "0.007223151244890376\n",
      "0.01550751879699248\n",
      "0.08502336919036786\n",
      "0.225\n",
      "0.01944058437893872\n",
      "0.004205023077845789\n",
      "0.014823361992566512\n",
      "0.13618343512268294\n",
      "0.3350233691903679\n",
      "0.5409919202337975\n",
      "0.0064738072764311365\n",
      "0.01429793383787317\n",
      "0.0029820255211172202\n",
      "0.16666666666666666\n",
      "0.0168005528405606\n",
      "1.0\n",
      "0.0025575447570332483\n",
      "0.5\n",
      "0.05716586151368759\n",
      "0.244047619047619\n",
      "0.019883842382504464\n",
      "0.16666666666666666\n",
      "0.03101380860756155\n",
      "0.06473651914083792\n",
      "0.012140828543910215\n",
      "0.2601960983213473\n",
      "0.019288464673533987\n",
      "0.2207674635306214\n",
      "0.08676149560118336\n",
      "0.004138557905596048\n",
      "0.35119047619047616\n",
      "0.4017892153126703\n",
      "0.017857142857142856\n",
      "0.01605894285747706\n",
      "0.021297878994289435\n",
      "0.10270222674974978\n",
      "0.04650497303493563\n",
      "0.013157894736842105\n",
      "0.004500414559396918\n",
      "0.0059010674817947285\n",
      "0.0982884883828817\n",
      "0.008366776496531673\n",
      "0.005789925497910316\n",
      "0.01818181818181818\n",
      "0.06137092518166686\n",
      "0.006408743215920478\n",
      "0.509090909090909\n",
      "0.07184571248781157\n",
      "0.04259272185391772\n",
      "0.006219465748711374\n",
      "0.1561304753891062\n",
      "0.01911449356282216\n",
      "0.06757278724454754\n",
      "0.052511236973320156\n",
      "0.04504292212220548\n",
      "0.06360063398570329\n",
      "0.0857487922705314\n",
      "0.04015085299658975\n",
      "0.0461530711322944\n",
      "0.06321875530225464\n",
      "0.013119995522361585\n",
      "0.024962581837830844\n",
      "0.004205023077845789\n",
      "0.1481970504510007\n",
      "0.004769176499104268\n",
      "0.75\n",
      "0.03571428571428571\n",
      "0.013402221287290603\n",
      "0.058823529411764705\n",
      "0.03823789942213732\n",
      "0.031632197505133346\n",
      "0.1481970504510007\n",
      "0.021297878994289435\n",
      "0.01550751879699248\n",
      "0.013003305723224834\n",
      "0.0727034726030004\n",
      "0.003477420548199379\n",
      "0.0625\n",
      "0.2522365191408379\n",
      "0.04105527692793183\n",
      "0.004205023077845789\n",
      "0.004086040122926452\n",
      "1.0\n",
      "0.1305048150283691\n",
      "0.096693657219973\n",
      "0.00313904621665019\n",
      "0.015172103378595557\n",
      "0.0030613355586597245\n",
      "0.011117401134382771\n",
      "0.08683250504967106\n",
      "0.17014385350168826\n",
      "0.1309937108318172\n",
      "0.0625\n",
      "0.03039021827917213\n",
      "0.006408518601932051\n",
      "0.004830917874396135\n",
      "0.07164311237779114\n",
      "0.05446226467702484\n",
      "0.034556187036872764\n",
      "0.06473651914083792\n",
      "0.0535186027198071\n",
      "0.005211065800193985\n",
      "0.010980791011529618\n",
      "0.0627612820186944\n",
      "0.023333952681778767\n",
      "0.10866639468858018\n",
      "0.07203282578250546\n",
      "0.014624065035888737\n",
      "0.0030613355586597245\n",
      "0.05888114932363984\n",
      "0.15476190476190477\n",
      "0.08046539280030773\n",
      "0.06473651914083792\n",
      "0.4488304093567251\n",
      "0.03845920701667845\n",
      "0.019141923028041602\n",
      "0.003875968992248062\n",
      "0.06353878325995069\n",
      "0.19625350140056022\n",
      "0.004665562288450315\n",
      "0.20370370370370372\n",
      "0.16792294807370184\n",
      "0.004086040122926452\n",
      "0.10649835503836279\n",
      "0.01639344262295082\n",
      "0.045311837920533574\n",
      "0.06293701928360265\n",
      "0.11143834707029854\n",
      "0.1271700539685882\n",
      "0.05851888525118055\n",
      "0.16666666666666666\n",
      "0.004138557905596048\n",
      "0.058823529411764705\n",
      "1.0\n",
      "0.020189044775291223\n",
      "0.0025350537855518\n",
      "0.006407342104181394\n",
      "0.0062788056998220555\n",
      "0.008926922978145825\n",
      "0.25\n",
      "0.08349391535651303\n",
      "0.004678475810626483\n",
      "0.1527777777777778\n",
      "0.008186502522773116\n",
      "0.04331084632447685\n",
      "0.14285714285714285\n",
      "0.2\n",
      "0.5238095238095238\n",
      "0.5\n",
      "0.0062788056998220555\n",
      "0.042447349381624255\n",
      "0.004277029899356066\n",
      "0.14285714285714285\n",
      "0.022393685530119962\n",
      "0.0171566021905472\n",
      "0.004500414559396918\n",
      "0.07777777777777778\n",
      "0.019436388398569097\n",
      "0.234625322997416\n",
      "0.061313961738531764\n",
      "0.04266602443320536\n",
      "0.010453703467333982\n",
      "0.004086040122926452\n",
      "0.04703526120615013\n",
      "0.06666666666666667\n",
      "0.0172073995049426\n",
      "0.04519359306368589\n",
      "0.00711053869096929\n",
      "0.5\n",
      "0.07179254035001179\n",
      "0.04051258505021062\n",
      "0.017755079598456205\n",
      "0.04237377090038616\n",
      "1.0\n",
      "0.04739252995066949\n",
      "0.017041113173263844\n",
      "0.032528772378516625\n",
      "0.008821862948914842\n",
      "0.014949388472843493\n",
      "0.01429793383787317\n",
      "0.0030838265301411727\n",
      "1.0\n",
      "0.009201399075540951\n",
      "0.004138557905596049\n",
      "0.3333333333333333\n",
      "0.1792250233426704\n",
      "0.019359866694214634\n",
      "0.004982357586344716\n",
      "0.1592906254322384\n",
      "0.06666666666666667\n",
      "0.10267857142857142\n",
      "0.75\n",
      "0.004138557905596049\n",
      "1.0\n",
      "0.0051428159206885725\n",
      "0.008959539010095318\n",
      "0.0029820255211172202\n",
      "0.05338212356126266\n",
      "0.15625\n",
      "0.5048076923076923\n",
      "0.506578947368421\n",
      "0.18160464912419494\n",
      "0.07715366727235802\n",
      "0.3333333333333333\n",
      "0.33623562895554804\n",
      "0.5161290322580645\n",
      "0.2553658875485136\n",
      "0.021810915055746363\n",
      "0.04673331783306208\n",
      "0.0025575447570332483\n",
      "0.1684717208182912\n",
      "0.005789925497910317\n",
      "0.2631722887975378\n",
      "0.015669856459330143\n",
      "0.006589534849067003\n",
      "0.01020128200094677\n",
      "0.2\n",
      "0.05555555555555555\n",
      "0.27777777777777773\n",
      "0.005722709213894962\n",
      "0.005211065800193985\n",
      "0.12235674537244809\n",
      "0.14864976007796538\n",
      "0.34637769944377483\n",
      "0.007874015748031496\n",
      "0.03851589889801193\n",
      "0.006586660164514044\n",
      "0.1700717001024387\n",
      "0.054671603077868385\n",
      "0.3333333333333333\n",
      "0.013157894736842105\n",
      "0.006296432019955191\n",
      "0.015844570306653486\n",
      "0.019976418145654914\n",
      "0.17052108639402222\n",
      "0.008465793124644364\n",
      "0.003477420548199379\n",
      "0.003477420548199379\n",
      "0.0025350537855518\n",
      "0.3333333333333333\n",
      "0.12967241914462563\n",
      "0.004138557905596049\n",
      "0.2\n",
      "0.08814102564102563\n",
      "0.00313904621665019\n",
      "0.016578760481419184\n",
      "0.025479965974701025\n",
      "0.004830917874396135\n",
      "0.10084033613445378\n",
      "0.028396020243846326\n",
      "0.013813337860860878\n",
      "0.029152119266117636\n",
      "0.02284363244570275\n",
      "0.0025575447570332483\n",
      "0.033838383838383834\n",
      "0.16666666666666666\n",
      "0.0062788056998220555\n",
      "0.08502336919036786\n",
      "0.014275942855673095\n",
      "0.3333333333333333\n",
      "0.013003305723224834\n",
      "0.013874541876768967\n",
      "0.25\n",
      "0.5\n",
      "0.1545138888888889\n",
      "0.003875968992248062\n",
      "1.0\n",
      "0.028651545941710044\n",
      "0.501267526892776\n",
      "0.013003305723224834\n",
      "0.004086040122926452\n",
      "0.08125\n",
      "0.02130546178528491\n",
      "0.013157894736842105\n",
      "0.059454285397744285\n",
      "0.002893405291450899\n",
      "0.23128047101757918\n",
      "0.2601960983213473\n",
      "0.26111111111111107\n",
      "1.0\n",
      "0.16666666666666666\n",
      "0.0029820255211172202\n",
      "0.004830917874396135\n",
      "0.002512562814070352\n",
      "0.27150513421005223\n",
      "0.007781485375238319\n",
      "0.007939050693667533\n",
      "0.16666666666666666\n",
      "0.0062788056998220555\n",
      "0.1271700539685882\n",
      "0.0625\n",
      "0.1792250233426704\n",
      "0.013574306477795214\n",
      "0.01756697408871322\n",
      "0.005333805697118187\n",
      "0.006147600609683789\n",
      "0.07679954495424685\n",
      "0.0025350537855518\n",
      "0.016841551008549685\n",
      "0.10923555462062393\n",
      "0.08458961474036851\n",
      "0.024458361645359798\n",
      "0.0066792784844177215\n",
      "0.011046028989497712\n",
      "0.05344496959374113\n",
      "0.1111111111111111\n",
      "0.003666190311559493\n",
      "1.0\n",
      "0.023208548633118657\n",
      "0.0025575447570332483\n",
      "0.014089601502534594\n",
      "0.007801128391115739\n",
      "0.005153488887515774\n",
      "0.11315200148355092\n",
      "0.3077085089061116\n",
      "1.0\n",
      "0.11477556540751688\n",
      "0.3333333333333333\n",
      "0.05\n",
      "0.030541580830470833\n",
      "0.07285423732644382\n",
      "0.013957082293328742\n",
      "0.01639344262295082\n",
      "0.019424288986179306\n",
      "0.13817123701120979\n",
      "0.0030838265301411727\n",
      "0.056098270319905844\n",
      "0.006076000769315235\n",
      "0.016977140381309506\n",
      "0.007912307770472436\n",
      "0.004086040122926452\n",
      "0.12083333333333335\n",
      "0.057611439908983\n",
      "0.002893405291450899\n",
      "0.05555555555555555\n",
      "0.007939050693667533\n",
      "0.06524964273366962\n",
      "0.12621239413972138\n",
      "0.05555555555555555\n",
      "0.12941176470588237\n",
      "0.75\n",
      "0.07568438003220611\n",
      "0.010347190497944267\n",
      "0.00313904621665019\n",
      "0.2907492504331586\n",
      "0.27435418611889195\n",
      "0.2935025368387833\n",
      "0.09253536589261506\n",
      "0.10331084632447685\n",
      "0.00313904621665019\n",
      "1.0\n",
      "0.0059010674817947285\n",
      "0.007223151244890376\n",
      "0.21280053657008238\n",
      "0.010612180248673478\n",
      "0.00313904621665019\n",
      "0.016728300823047555\n",
      "0.01693594616001479\n",
      "0.004314707773045032\n",
      "0.07666167972323747\n",
      "0.013157894736842105\n",
      "0.005789925497910316\n",
      "0.0625\n",
      "0.03974140380789997\n",
      "0.2\n",
      "0.1111111111111111\n",
      "0.11363636363636362\n",
      "0.03772849732320877\n",
      "0.2772727272727272\n",
      "0.004879102515221088\n",
      "0.006407342104181394\n",
      "1.0\n",
      "0.03571428571428571\n",
      "0.017857142857142856\n",
      "0.21666666666666667\n",
      "0.0800004645113341\n",
      "0.051227778831765956\n",
      "0.14098158636665567\n",
      "0.029458288923852542\n",
      "0.03225806451612903\n",
      "0.014428988850005204\n",
      "0.009336184984412195\n",
      "0.20960086022610924\n",
      "0.08343826393846315\n",
      "0.21150401461290946\n",
      "0.0025575447570332483\n",
      "0.05555555555555555\n",
      "0.013003305723224834\n",
      "0.1348515446697913\n",
      "0.16956451712349946\n",
      "0.0249791283520642\n",
      "0.023203052952651477\n",
      "0.01818181818181818\n",
      "0.0059010674817947285\n",
      "0.18828257297019746\n",
      "0.0029820255211172202\n",
      "0.16666666666666666\n",
      "0.015319714121059189\n",
      "0.0603709897188158\n",
      "0.006630970279347205\n",
      "0.006634339682873888\n",
      "0.25\n",
      "0.3698717948717949\n",
      "0.014935027097487173\n",
      "0.0059010674817947285\n",
      "0.013697004679389887\n",
      "0.026335746996093513\n",
      "0.2524154589371981\n",
      "0.004830917874396135\n",
      "0.10434735484755407\n",
      "0.4666666666666666\n",
      "0.02795815295815296\n",
      "0.0304939549873443\n",
      "0.17433757868540478\n",
      "0.014567652700915774\n",
      "0.03968630552344331\n",
      "0.222752126832471\n",
      "0.05737179487179487\n",
      "0.007440106079270749\n",
      "0.07282691990192225\n",
      "0.02994783174636595\n",
      "0.009615384615384616\n",
      "0.0033777834371872084\n",
      "0.0025350537855518\n",
      "0.002512562814070352\n",
      "0.010019408381518253\n",
      "0.015309795340533946\n",
      "0.004138557905596049\n",
      "0.25\n",
      "0.012941645124271182\n",
      "0.04285714285714286\n",
      "0.00794785926513197\n",
      "0.022561167661670174\n",
      "0.20512587368334512\n",
      "1.0\n",
      "0.06666666666666667\n",
      "0.3333333333333333\n",
      "0.16666666666666666\n",
      "0.07595061838214355\n",
      "0.01639344262295082\n",
      "0.03225806451612903\n",
      "0.022419303203018257\n",
      "0.19444444444444442\n",
      "0.03782894736842105\n",
      "0.0025350537855518\n",
      "0.02222471487327546\n",
      "0.5012787723785166\n",
      "0.37516339869281046\n",
      "0.24547212430471846\n",
      "0.2532360308297838\n",
      "1.0\n",
      "0.004205023077845789\n",
      "0.002893405291450899\n",
      "0.002893405291450899\n",
      "0.25217005396858816\n",
      "0.2\n",
      "0.1527777777777778\n",
      "0.14746563441744653\n",
      "0.06282964456581498\n",
      "0.1464658740698612\n",
      "0.04185247120029728\n",
      "0.1781959482164406\n",
      "0.0992063492063492\n",
      "0.003875968992248062\n",
      "0.06346292121973648\n",
      "0.13234224735761665\n",
      "0.1111111111111111\n",
      "0.38641410963636197\n",
      "0.21143834707029852\n",
      "0.008096885535474722\n",
      "0.01429793383787317\n",
      "0.01429793383787317\n",
      "0.11957895912808464\n",
      "0.005722709213894962\n",
      "0.17446865010060156\n",
      "0.004500414559396918\n",
      "0.004982357586344716\n",
      "0.002893405291450899\n",
      "0.04563492063492063\n",
      "0.1700717001024387\n",
      "0.05555555555555555\n",
      "0.006147600609683789\n",
      "0.01639344262295082\n",
      "0.006381223911962519\n",
      "0.045040485829959516\n",
      "0.35\n",
      "0.016729699819687166\n",
      "0.014544419794482732\n",
      "0.11280114696814564\n",
      "1.0\n",
      "0.06331380886334932\n",
      "0.007874015748031496\n",
      "0.016074929598384618\n",
      "0.40173604317487055\n",
      "0.00313904621665019\n",
      "1.0\n",
      "0.05\n",
      "0.014074815873350079\n",
      "0.004138557905596048\n",
      "0.1\n",
      "0.28125\n",
      "0.0767684790224293\n",
      "0.012452617494658919\n",
      "0.21143834707029852\n",
      "0.2558129814382304\n",
      "0.3070028011204482\n",
      "0.006076000769315235\n",
      "0.27522931303669007\n",
      "0.1\n",
      "1.0\n",
      "0.006784878574315981\n",
      "0.007750641917640593\n",
      "0.0030838265301411727\n",
      "0.004830917874396135\n",
      "0.175159533096001\n",
      "0.01990269749645044\n",
      "0.2833333333333333\n",
      "0.2524154589371981\n",
      "0.002893405291450899\n",
      "0.012403135765245637\n",
      "0.003377783437187208\n",
      "0.004830917874396135\n",
      "0.39661915048039265\n",
      "0.5\n",
      "0.021400823199357405\n",
      "0.021297878994289435\n",
      "0.0450717001024387\n",
      "0.17027824228911184\n",
      "0.04703183593332392\n",
      "0.10483996251741305\n",
      "0.11326268347272128\n",
      "0.41666666666666663\n",
      "0.00313904621665019\n",
      "0.2107142857142857\n",
      "0.5012787723785166\n",
      "0.004205023077845789\n",
      "0.005737197441889087\n",
      "0.004830917874396135\n",
      "0.02321571687405711\n",
      "0.017872406811234177\n",
      "0.15286293204184942\n",
      "0.06917790363998681\n",
      "0.019270745863235544\n",
      "0.06558476096983028\n",
      "0.007520365227744388\n",
      "0.037097719522591645\n"
     ]
    }
   ],
   "metadata": {}
  },
  {
   "cell_type": "code",
   "execution_count": null,
   "source": [
    "# 计算2021年各个网站的glocality\n",
    "\n"
   ],
   "outputs": [],
   "metadata": {}
  },
  {
   "cell_type": "markdown",
   "source": [],
   "metadata": {}
  },
  {
   "cell_type": "markdown",
   "source": [
    "## 回归分析\n",
    "\n",
    "对trackers进行回归分析"
   ],
   "metadata": {}
  },
  {
   "cell_type": "code",
   "execution_count": 12,
   "source": [
    "\n",
    "headlines = frame_2021['trackers'].tolist()\n",
    "headlines = [headline.split(',') for headline in headlines]\n",
    "headlines[0:5]"
   ],
   "outputs": [
    {
     "output_type": "execute_result",
     "data": {
      "text/plain": [
       "[['facebook.com', 'wikipedia.org'],\n",
       " ['wordpress.com',\n",
       "  'facebook.com',\n",
       "  'youtube.com',\n",
       "  'sharethis.com',\n",
       "  'twitter.com',\n",
       "  'linkedin.com',\n",
       "  'bit.ly'],\n",
       " ['facebook.com',\n",
       "  'googlesyndication.com',\n",
       "  'twitter.com',\n",
       "  'instagram.com',\n",
       "  'googleapis.com'],\n",
       " ['google.com', 'googleapis.com'],\n",
       " ['google.com',\n",
       "  'facebook.com',\n",
       "  'youtube.com',\n",
       "  'reddit.com',\n",
       "  'googletagservices.com',\n",
       "  'twitter.com',\n",
       "  'linkedin.com',\n",
       "  'icio.us',\n",
       "  'digg.com']]"
      ]
     },
     "metadata": {},
     "execution_count": 12
    }
   ],
   "metadata": {}
  },
  {
   "cell_type": "code",
   "execution_count": 38,
   "source": [
    "unigram_counts = Counter()\n",
    "for ii, headline in enumerate(headlines):\n",
    "    if ii % 200 == 0:\n",
    "        print(f'finished {ii/len(headlines):.2%} of headlines')\n",
    "    for token in headline:\n",
    "        unigram_counts[token] += 1\n",
    "\n",
    "tok2indx = {tok: indx for indx, tok in enumerate(unigram_counts.keys())}\n",
    "\n",
    "indx2tok = {indx: tok for tok,indx in tok2indx.items()}\n",
    "print('done')\n",
    "print('vocabulary size: {}'.format(len(unigram_counts)))\n",
    "print('most common: {}'.format(unigram_counts.most_common(10)))\n",
    "\n",
    "df_indx2tok = pd.DataFrame(indx2tok.items(),columns=['id','label'])\n",
    "df_indx2tok.to_csv(\"node.csv\",index = None)\n",
    "print(df_indx2tok)\n"
   ],
   "outputs": [
    {
     "output_type": "stream",
     "name": "stdout",
     "text": [
      "finished 0.00% of headlines\n",
      "finished 24.10% of headlines\n",
      "finished 48.19% of headlines\n",
      "finished 72.29% of headlines\n",
      "finished 96.39% of headlines\n",
      "done\n",
      "vocabulary size: 185\n",
      "most common: [('facebook.com', 453), ('twitter.com', 432), ('youtube.com', 282), ('google.com', 266), ('instagram.com', 200), ('linkedin.com', 198), ('googleapis.com', 107), ('cloudflare.com', 75), ('googlesyndication.com', 64), ('creativecommons.org', 51)]\n",
      "      id                    label\n",
      "0      0             facebook.com\n",
      "1      1            wikipedia.org\n",
      "2      2            wordpress.com\n",
      "3      3              youtube.com\n",
      "4      4            sharethis.com\n",
      "5      5              twitter.com\n",
      "6      6             linkedin.com\n",
      "7      7                   bit.ly\n",
      "8      8    googlesyndication.com\n",
      "9      9            instagram.com\n",
      "10    10           googleapis.com\n",
      "11    11               google.com\n",
      "12    12               reddit.com\n",
      "13    13    googletagservices.com\n",
      "14    14                  icio.us\n",
      "15    15                 digg.com\n",
      "16    16          doubleclick.net\n",
      "17    17                twimg.com\n",
      "18    18               amazon.com\n",
      "19    19                   vk.com\n",
      "20    20            aspnetcdn.com\n",
      "21    21           cloudflare.com\n",
      "22    22                vimeo.com\n",
      "23    23                apple.com\n",
      "24    24           cloudfront.net\n",
      "25    25     google-analytics.com\n",
      "26    26             etracker.com\n",
      "27    27      creativecommons.org\n",
      "28    28                   w3.org\n",
      "29    29               jquery.com\n",
      "..   ...                      ...\n",
      "155  155            chartbeat.com\n",
      "156  156          list-manage.com\n",
      "157  157             blogspot.com\n",
      "158  158             sitelock.com\n",
      "159  159                ytimg.com\n",
      "160  160            getclicky.com\n",
      "161  161              tinyurl.com\n",
      "162  162             blogblog.com\n",
      "163  163              harvard.edu\n",
      "164  164                gmail.com\n",
      "165  165             vkontakte.ru\n",
      "166  166                google.cz\n",
      "167  167                seznam.cz\n",
      "168  168                 nazwa.pl\n",
      "169  169                  cdc.gov\n",
      "170  170        starfieldtech.com\n",
      "171  171                  cnn.com\n",
      "172  172              foxnews.com\n",
      "173  173             outbrain.com\n",
      "174  174            anrdoezrs.net\n",
      "175  175            over-blog.com\n",
      "176  176  microsofttranslator.com\n",
      "177  177              typepad.com\n",
      "178  178           indiatimes.com\n",
      "179  179                imgur.com\n",
      "180  180            cafepress.com\n",
      "181  181                  2o7.net\n",
      "182  182              histats.com\n",
      "183  183                   qq.com\n",
      "184  184            xinhuanet.com\n",
      "\n",
      "[185 rows x 2 columns]\n"
     ]
    }
   ],
   "metadata": {}
  },
  {
   "cell_type": "code",
   "execution_count": 1,
   "source": [
    "# Skipgrams\n",
    "\n",
    "back_window = 2\n",
    "front_window = 2\n",
    "\n",
    "skipgram_counts = Counter()\n",
    "for iheadline, headline in enumerate(headlines):\n",
    "    tokens = [tok2indx[tok] for tok in headline]\n",
    "    for ii_word, word in enumerate(tokens):\n",
    "        ii_context_min = max(0, ii_word - back_window)\n",
    "        ii_context_max = min(len(headline) - 1, ii_word + front_window)\n",
    "        ii_contexts = [\n",
    "            ii for ii in range(ii_context_min, ii_context_max + 1) \n",
    "            if ii != ii_word]\n",
    "        for ii_context in ii_contexts:\n",
    "            skipgram = (tokens[ii_word], tokens[ii_context])\n",
    "            skipgram_counts[skipgram] += 1    \n",
    "    if iheadline % 200 == 0:\n",
    "        print(f'finished {iheadline/len(headlines):.2%} of headlines')\n",
    "        \n",
    "print('done')\n",
    "print('number of skipgrams: {}'.format(len(skipgram_counts)))\n",
    "most_common = [\n",
    "    (indx2tok[sg[0][0]], indx2tok[sg[0][1]], sg[1]) \n",
    "    for sg in skipgram_counts.most_common(20)]\n",
    "print('most common: {}'.format(most_common))\n",
    "\n",
    "edge_list = [(sg[0],sg[1],skipgram_counts[sg]) for sg in skipgram_counts]\n",
    "print(edge_list[:5])\n",
    "df_picture = pd.DataFrame(edge_list,columns=['Source','Target','weight'])\n",
    "df_picture.to_csv(\"edu_trackers_occurrence.csv\",index = None)\n",
    "print(df_picture.head())\n"
   ],
   "outputs": [
    {
     "output_type": "error",
     "ename": "NameError",
     "evalue": "name 'Counter' is not defined",
     "traceback": [
      "\u001b[0;31m---------------------------------------------------------------------------\u001b[0m",
      "\u001b[0;31mNameError\u001b[0m                                 Traceback (most recent call last)",
      "\u001b[0;32m<ipython-input-1-904ac531ad8e>\u001b[0m in \u001b[0;36m<module>\u001b[0;34m\u001b[0m\n\u001b[1;32m      4\u001b[0m \u001b[0mfront_window\u001b[0m \u001b[0;34m=\u001b[0m \u001b[0;36m2\u001b[0m\u001b[0;34m\u001b[0m\u001b[0;34m\u001b[0m\u001b[0m\n\u001b[1;32m      5\u001b[0m \u001b[0;34m\u001b[0m\u001b[0m\n\u001b[0;32m----> 6\u001b[0;31m \u001b[0mskipgram_counts\u001b[0m \u001b[0;34m=\u001b[0m \u001b[0mCounter\u001b[0m\u001b[0;34m(\u001b[0m\u001b[0;34m)\u001b[0m\u001b[0;34m\u001b[0m\u001b[0;34m\u001b[0m\u001b[0m\n\u001b[0m\u001b[1;32m      7\u001b[0m \u001b[0;32mfor\u001b[0m \u001b[0miheadline\u001b[0m\u001b[0;34m,\u001b[0m \u001b[0mheadline\u001b[0m \u001b[0;32min\u001b[0m \u001b[0menumerate\u001b[0m\u001b[0;34m(\u001b[0m\u001b[0mheadlines\u001b[0m\u001b[0;34m)\u001b[0m\u001b[0;34m:\u001b[0m\u001b[0;34m\u001b[0m\u001b[0;34m\u001b[0m\u001b[0m\n\u001b[1;32m      8\u001b[0m     \u001b[0mtokens\u001b[0m \u001b[0;34m=\u001b[0m \u001b[0;34m[\u001b[0m\u001b[0mtok2indx\u001b[0m\u001b[0;34m[\u001b[0m\u001b[0mtok\u001b[0m\u001b[0;34m]\u001b[0m \u001b[0;32mfor\u001b[0m \u001b[0mtok\u001b[0m \u001b[0;32min\u001b[0m \u001b[0mheadline\u001b[0m\u001b[0;34m]\u001b[0m\u001b[0;34m\u001b[0m\u001b[0;34m\u001b[0m\u001b[0m\n",
      "\u001b[0;31mNameError\u001b[0m: name 'Counter' is not defined"
     ]
    }
   ],
   "metadata": {}
  }
 ]
}