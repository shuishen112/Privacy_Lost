{
 "metadata": {
  "language_info": {
   "codemirror_mode": {
    "name": "ipython",
    "version": 3
   },
   "file_extension": ".py",
   "mimetype": "text/x-python",
   "name": "python",
   "nbconvert_exporter": "python",
   "pygments_lexer": "ipython3",
   "version": "3.7.3"
  },
  "orig_nbformat": 4,
  "kernelspec": {
   "name": "python3",
   "display_name": "Python 3.7.3 64-bit ('anaconda3': virtualenv)"
  },
  "interpreter": {
   "hash": "398dc28c06ad810e77de546bbdfa897a6ee0b83e59a5207339dda01a7843e01d"
  }
 },
 "nbformat": 4,
 "nbformat_minor": 2,
 "cells": [
  {
   "source": [
    "# Analyse the develop of the trackers in edu websites"
   ],
   "cell_type": "markdown",
   "metadata": {}
  },
  {
   "cell_type": "code",
   "execution_count": 48,
   "metadata": {},
   "outputs": [
    {
     "output_type": "stream",
     "name": "stdout",
     "text": [
      "url         830\ntrackers    830\ndtype: int64\n"
     ]
    }
   ],
   "source": [
    "import pandas as pd \n",
    "\n",
    "import glob \n",
    "\n",
    "def frame_construct(time):\n",
    "\n",
    "    filenames = glob.glob('edu_trackers_{}/*.csv'.format(time))\n",
    "    li = []\n",
    "    for filename in filenames:\n",
    "        df = pd.read_csv(filename,index_col=None,header = 0)\n",
    "        li.append(df)\n",
    "\n",
    "    frame = pd.concat(li,axis = 0,ignore_index=True)\n",
    "    return frame\n",
    "\n",
    "frame_2021 = frame_construct('202105')\n",
    "print(frame_2021.count())\n"
   ]
  },
  {
   "cell_type": "code",
   "execution_count": 54,
   "metadata": {},
   "outputs": [
    {
     "output_type": "stream",
     "name": "stdout",
     "text": [
      "[929, 861, 849, 840, 830]\n"
     ]
    }
   ],
   "source": [
    "# 载入历史的\n",
    "frame_2019 = frame_construct('201905')\n",
    "frame_2020 = frame_construct('202005')\n",
    "frame_2018 = frame_construct('201805')\n",
    "frame_2017 = frame_construct('201705')\n",
    "\n",
    "frame_list = [frame_2017,frame_2018,frame_2019,frame_2020,frame_2021]\n",
    "\n",
    "len_list = [len(frame) for frame in frame_list]\n",
    "print(len_list)"
   ]
  },
  {
   "source": [
    "## 数量分析"
   ],
   "cell_type": "markdown",
   "metadata": {}
  },
  {
   "cell_type": "code",
   "execution_count": 55,
   "metadata": {},
   "outputs": [
    {
     "output_type": "stream",
     "name": "stdout",
     "text": [
      "[3878, 3336, 3151, 3183, 3116]\n"
     ]
    }
   ],
   "source": [
    "def count_trackers(row):\n",
    "    return len(row.split(','))\n",
    "\n",
    "frame_2017['count_2017'] = frame_2017['trackers'].apply(count_trackers)\n",
    "frame_2018['count_2018'] = frame_2018['trackers'].apply(count_trackers)\n",
    "frame_2019['count_2019'] = frame_2019['trackers'].apply(count_trackers)\n",
    "frame_2020['count_2020'] = frame_2020['trackers'].apply(count_trackers)\n",
    "frame_2021['count_2021'] = frame_2021['trackers'].apply(count_trackers)\n",
    "\n",
    "trackers_count = [frame['trackers'].apply(count_trackers).sum() for frame in frame_list]\n",
    "print(trackers_count)"
   ]
  },
  {
   "source": [
    "## 第三方库的标识"
   ],
   "cell_type": "markdown",
   "metadata": {}
  },
  {
   "cell_type": "code",
   "execution_count": 57,
   "metadata": {
    "tags": []
   },
   "outputs": [
    {
     "output_type": "stream",
     "name": "stdout",
     "text": [
      "                  domain registration_org registration_country  \\\n0   google-analytics.com      Google Inc.                   US   \n1  googlesyndication.com      Google Inc.                   US   \n2             google.com      Google Inc.                   US   \n3         googleapis.com      Google Inc.                   US   \n4           facebook.com   Facebook, Inc.                   US   \n\n   num_embeddings  num_embeddings_javascript  num_embeddings_iframe  \\\n0        11571952                   11571778                      2   \n1         4331482                    4306202                   3914   \n2         4223810                    3130181                1051507   \n3         3085323                    2601946                    733   \n4         2146944                     344751                1683414   \n\n   num_embeddings_image  num_embeddings_link     category   company  \n0                  2596                  332    Analytics    Google  \n1                 40399                   75  Advertising    Google  \n2                532599               232362            #    Google  \n3                 16591               813470            #    Google  \n4                257448                 4871  Advertising  Facebook  \n"
     ]
    }
   ],
   "source": [
    "df_domain = pd.read_csv(\"labeled-thirdparties.csv\",sep = '\\t', names = ['domain','registration_org','registration_country','num_embeddings','num_embeddings_javascript','num_embeddings_iframe','num_embeddings_image','num_embeddings_link','category','company'])\n",
    "print(df_domain.head())"
   ]
  },
  {
   "source": [
    "## 数据分析"
   ],
   "cell_type": "markdown",
   "metadata": {}
  },
  {
   "source": [
    "### 获得每一个trackres中的使用率并逆序排\n",
    "\n"
   ],
   "cell_type": "markdown",
   "metadata": {}
  },
  {
   "cell_type": "code",
   "execution_count": 58,
   "metadata": {},
   "outputs": [],
   "source": [
    "from collections import Counter\n",
    "\n",
    "frame_2021['tracker_list_2021'] = frame_2021['trackers'].str.split(',')\n",
    "frame_2020['tracker_list_2020'] = frame_2020['trackers'].str.split(',')\n",
    "frame_2019['tracker_list_2019'] = frame_2019['trackers'].str.split(',')\n",
    "frame_2018['tracker_list_2018'] = frame_2018['trackers'].str.split(',')\n",
    "frame_2017['tracker_list_2017'] = frame_2017['trackers'].str.split(',')\n",
    "\n",
    "# 所有的trackers domain\n",
    "\n",
    "trackers = df_domain['domain'].to_list()\n",
    "\n",
    "def trackers_count(trackers,web_list):\n",
    "    trackers_count_dict = Counter()\n",
    "    for t in trackers:\n",
    "        for l in web_list:\n",
    "            if t in l:\n",
    "                if t in trackers_count_dict:\n",
    "                    trackers_count_dict[t] += 1\n",
    "                else:\n",
    "                    trackers_count_dict[t] = 1\n",
    "\n",
    "    return trackers_count_dict\n",
    "\n",
    "trackers_2021 = trackers_count(trackers, frame_2021['tracker_list_2021'])\n",
    "trackers_2021_most_100 = trackers_2021.most_common(100)\n",
    "\n",
    "trackers_2020 = trackers_count(trackers, frame_2020['tracker_list_2020'])\n",
    "trackers_2020_most_100 = trackers_2020.most_common(100)\n",
    "\n",
    "trackers_2019 = trackers_count(trackers, frame_2019['tracker_list_2019'])\n",
    "trackers_2019_most_100 = trackers_2019.most_common(100)\n",
    "\n",
    "trackers_2018 = trackers_count(trackers, frame_2018['tracker_list_2018'])\n",
    "trackers_2018_most_100 = trackers_2018.most_common(100)\n",
    "\n",
    "trackers_2017 = trackers_count(trackers, frame_2017['tracker_list_2017'])\n",
    "trackers_2017_most_100 = trackers_2017.most_common(100)\n",
    "\n"
   ]
  },
  {
   "cell_type": "code",
   "execution_count": 59,
   "metadata": {},
   "outputs": [
    {
     "output_type": "stream",
     "name": "stdout",
     "text": [
      "len df is:830\n                  tracker  tracker_count  tracker_rate\n0            facebook.com            453      0.545783\n1             twitter.com            432      0.520482\n2             youtube.com            282      0.339759\n3              google.com            266      0.320482\n4           instagram.com            200      0.240964\n5            linkedin.com            198      0.238554\n6          googleapis.com            107      0.128916\n7          cloudflare.com             75      0.090361\n8   googlesyndication.com             64      0.077108\n9     creativecommons.org             51      0.061446\n10             jquery.com             50      0.060241\n11            addthis.com             49      0.059036\n12         cloudfront.net             49      0.059036\n13          pinterest.com             49      0.059036\n14              apple.com             41      0.049398\n15        doubleclick.net             34      0.040964\n16                nih.gov             27      0.032530\n17             github.com             23      0.027711\n18  googletagservices.com             23      0.027711\n19   google-analytics.com             22      0.026506\n20              yandex.ru             22      0.026506\n21          amazonaws.com             22      0.026506\n22             flickr.com             21      0.025301\n23          wikipedia.org             21      0.025301\n24          sharethis.com             18      0.021687\n25              vimeo.com             15      0.018072\n26   googleadservices.com             15      0.018072\n27             reddit.com             15      0.018072\n28            gstatic.com             14      0.016867\n29             amazon.com             13      0.015663\n..                    ...            ...           ...\n70            mozilla.org              3      0.003614\n71         soundcloud.com              3      0.003614\n72            nytimes.com              3      0.003614\n73         brightcove.com              3      0.003614\n74            harvard.edu              3      0.003614\n75            godaddy.com              2      0.002410\n76              twimg.com              2      0.002410\n77  googleusercontent.com              2      0.002410\n78              ytimg.com              2      0.002410\n79          wikimedia.org              2      0.002410\n80    constantcontact.com              2      0.002410\n81              skype.com              2      0.002410\n82        stumbleupon.com              2      0.002410\n83              google.de              2      0.002410\n84              google.fr              2      0.002410\n85               xiti.com              2      0.002410\n86               live.com              2      0.002410\n87              jimdo.com              2      0.002410\n88           akamaihd.net              2      0.002410\n89            rackcdn.com              2      0.002410\n90        livejournal.com              2      0.002410\n91             indeed.com              2      0.002410\n92            smugmug.com              2      0.002410\n93                gnu.org              2      0.002410\n94  ssl-images-amazon.com              2      0.002410\n95               noaa.gov              2      0.002410\n96               nasa.gov              2      0.002410\n97     barnesandnoble.com              2      0.002410\n98          bufferapp.com              2      0.002410\n99           evernote.com              2      0.002410\n\n[100 rows x 3 columns]\nlen df is:840\n                  tracker  tracker_count  tracker_rate\n0            facebook.com            474      0.564286\n1             twitter.com            452      0.538095\n2              google.com            283      0.336905\n3             youtube.com            265      0.315476\n4            linkedin.com            196      0.233333\n5           instagram.com            190      0.226190\n6          googleapis.com            128      0.152381\n7          cloudflare.com             77      0.091667\n8             addthis.com             65      0.077381\n9   googlesyndication.com             56      0.066667\n10          pinterest.com             55      0.065476\n11    creativecommons.org             54      0.064286\n12             jquery.com             48      0.057143\n13              apple.com             42      0.050000\n14         cloudfront.net             41      0.048810\n15             flickr.com             29      0.034524\n16        doubleclick.net             29      0.034524\n17  googletagservices.com             25      0.029762\n18   google-analytics.com             22      0.026190\n19   googleadservices.com             22      0.026190\n20             github.com             19      0.022619\n21              yandex.ru             18      0.021429\n22          wordpress.org             18      0.021429\n23                 vk.com             18      0.021429\n24                 w3.org             16      0.019048\n25           gravatar.com             15      0.017857\n26         quantserve.com             15      0.017857\n27              vimeo.com             15      0.017857\n28                nih.gov             15      0.017857\n29          sharethis.com             14      0.016667\n..                    ...            ...           ...\n70              google.es              3      0.003571\n71          infolinks.com              3      0.003571\n72        dailymotion.com              3      0.003571\n73         technorati.com              3      0.003571\n74                bbb.org              3      0.003571\n75              imgur.com              3      0.003571\n76            mozilla.org              3      0.003571\n77            dropbox.com              3      0.003571\n78            nytimes.com              3      0.003571\n79         brightcove.com              3      0.003571\n80                gnu.org              3      0.003571\n81            harvard.edu              3      0.003571\n82         macromedia.com              2      0.002381\n83             paypal.com              2      0.002381\n84              twimg.com              2      0.002381\n85                mail.ru              2      0.002381\n86           blogblog.com              2      0.002381\n87             disqus.com              2      0.002381\n88          getclicky.com              2      0.002381\n89          mailchimp.com              2      0.002381\n90             weebly.com              2      0.002381\n91          delicious.com              2      0.002381\n92            webnode.com              2      0.002381\n93          cafepress.com              2      0.002381\n94                cnn.com              2      0.002381\n95              opera.com              2      0.002381\n96          goodreads.com              2      0.002381\n97               nasa.gov              2      0.002381\n98             webnode.cz              2      0.002381\n99     washingtonpost.com              2      0.002381\n\n[100 rows x 3 columns]\nlen df is:849\n                  tracker  tracker_count  tracker_rate\n0            facebook.com            459      0.540636\n1             twitter.com            444      0.522968\n2              google.com            285      0.335689\n3             youtube.com            252      0.296820\n4           instagram.com            178      0.209658\n5            linkedin.com            164      0.193168\n6          googleapis.com            133      0.156655\n7          cloudflare.com             69      0.081272\n8             addthis.com             65      0.076561\n9   googlesyndication.com             61      0.071849\n10    creativecommons.org             59      0.069494\n11          pinterest.com             54      0.063604\n12              apple.com             44      0.051826\n13         cloudfront.net             43      0.050648\n14             jquery.com             41      0.048292\n15             flickr.com             33      0.038869\n16   googleadservices.com             27      0.031802\n17        doubleclick.net             27      0.031802\n18              yandex.ru             26      0.030624\n19          wikipedia.org             25      0.029446\n20          amazonaws.com             24      0.028269\n21                nih.gov             23      0.027091\n22   google-analytics.com             20      0.023557\n23                 vk.com             20      0.023557\n24          wordpress.com             19      0.022379\n25  googletagservices.com             16      0.018846\n26                 w3.org             15      0.017668\n27          wordpress.org             15      0.017668\n28             github.com             14      0.016490\n29         quantserve.com             13      0.015312\n..                    ...            ...           ...\n70               youtu.be              4      0.004711\n71       surveymonkey.com              4      0.004711\n72             paypal.com              3      0.003534\n73              twimg.com              3      0.003534\n74      paypalobjects.com              3      0.003534\n75  googleusercontent.com              3      0.003534\n76    constantcontact.com              3      0.003534\n77               digg.com              3      0.003534\n78                list.ru              3      0.003534\n79              yandex.st              3      0.003534\n80               bing.com              3      0.003534\n81           etracker.com              3      0.003534\n82           vkontakte.ru              3      0.003534\n83                bbb.org              3      0.003534\n84               webs.com              3      0.003534\n85            nytimes.com              3      0.003534\n86         brightcove.com              3      0.003534\n87                gnu.org              3      0.003534\n88            zendesk.com              3      0.003534\n89           newsvine.com              3      0.003534\n90            godaddy.com              2      0.002356\n91               cnzz.com              2      0.002356\n92            blogger.com              2      0.002356\n93             rambler.ru              2      0.002356\n94            typekit.com              2      0.002356\n95              google.fr              2      0.002356\n96              google.es              2      0.002356\n97            typepad.com              2      0.002356\n98                free.fr              2      0.002356\n99             bigmir.net              2      0.002356\n\n[100 rows x 3 columns]\nlen df is:861\n                  tracker  tracker_count  tracker_rate\n0            facebook.com            474      0.550523\n1             twitter.com            439      0.509872\n2              google.com            346      0.401858\n3             youtube.com            197      0.228804\n4            linkedin.com            152      0.176539\n5          googleapis.com            146      0.169570\n6           instagram.com            120      0.139373\n7   googlesyndication.com            100      0.116144\n8             addthis.com             69      0.080139\n9          cloudflare.com             64      0.074332\n10          pinterest.com             61      0.070848\n11             jquery.com             52      0.060395\n12         cloudfront.net             48      0.055749\n13   googleadservices.com             47      0.054588\n14              apple.com             45      0.052265\n15        doubleclick.net             42      0.048780\n16    creativecommons.org             38      0.044135\n17             flickr.com             30      0.034843\n18              yandex.ru             30      0.034843\n19          amazonaws.com             25      0.029036\n20  googletagservices.com             24      0.027875\n21         quantserve.com             23      0.026713\n22   google-analytics.com             22      0.025552\n23           gravatar.com             21      0.024390\n24  scorecardresearch.com             21      0.024390\n25                nih.gov             21      0.024390\n26          wordpress.org             20      0.023229\n27                 vk.com             20      0.023229\n28          sharethis.com             19      0.022067\n29          wikipedia.org             19      0.022067\n..                    ...            ...           ...\n70        statcounter.com              3      0.003484\n71             paypal.com              3      0.003484\n72              twimg.com              3      0.003484\n73  googleusercontent.com              3      0.003484\n74              google.fr              3      0.003484\n75              alexa.com              3      0.003484\n76               xiti.com              3      0.003484\n77                list.ru              3      0.003484\n78              google.es              3      0.003484\n79              yandex.st              3      0.003484\n80             bigmir.net              3      0.003484\n81         technorati.com              3      0.003484\n82       imrworldwide.com              3      0.003484\n83            mozilla.org              3      0.003484\n84                 bit.ly              3      0.003484\n85         clustrmaps.com              3      0.003484\n86   youtube-nocookie.com              3      0.003484\n87            rackcdn.com              3      0.003484\n88            godaddy.com              2      0.002323\n89               yimg.com              2      0.002323\n90            blogger.com              2      0.002323\n91              google.de              2      0.002323\n92            histats.com              2      0.002323\n93             toplist.cz              2      0.002323\n94             weebly.com              2      0.002323\n95        dailymotion.com              2      0.002323\n96             spylog.com              2      0.002323\n97           etracker.com              2      0.002323\n98                bbb.org              2      0.002323\n99              imgur.com              2      0.002323\n\n[100 rows x 3 columns]\nlen df is:929\n                  tracker  tracker_count  tracker_rate\n0            facebook.com            518      0.557589\n1             twitter.com            492      0.529602\n2              google.com            378      0.406889\n3             youtube.com            210      0.226050\n4            linkedin.com            173      0.186222\n5          googleapis.com            172      0.185145\n6   googlesyndication.com            137      0.147470\n7             addthis.com            116      0.124865\n8           instagram.com             98      0.105490\n9           pinterest.com             90      0.096878\n10   googleadservices.com             58      0.062433\n11         cloudfront.net             51      0.054898\n12        doubleclick.net             51      0.054898\n13              apple.com             46      0.049516\n14         cloudflare.com             41      0.044133\n15             jquery.com             40      0.043057\n16    creativecommons.org             40      0.043057\n17              yandex.ru             36      0.038751\n18   google-analytics.com             35      0.037675\n19                nih.gov             34      0.036598\n20         quantserve.com             33      0.035522\n21                 vk.com             31      0.033369\n22          sharethis.com             29      0.031216\n23  googletagservices.com             29      0.031216\n24  scorecardresearch.com             27      0.029064\n25          amazonaws.com             26      0.027987\n26          wikipedia.org             26      0.027987\n27           gravatar.com             22      0.023681\n28         feedburner.com             22      0.023681\n29          wordpress.com             20      0.021529\n..                    ...            ...           ...\n70         brightcove.com              5      0.005382\n71              weibo.com              5      0.005382\n72                mit.edu              5      0.005382\n73            zendesk.com              5      0.005382\n74             paypal.com              4      0.004306\n75               cnzz.com              4      0.004306\n76        photobucket.com              4      0.004306\n77            blogger.com              4      0.004306\n78      paypalobjects.com              4      0.004306\n79               live.com              4      0.004306\n80          infolinks.com              4      0.004306\n81             weebly.com              4      0.004306\n82                bbb.org              4      0.004306\n83         slideshare.net              4      0.004306\n84            nytimes.com              4      0.004306\n85               nasa.gov              4      0.004306\n86               youtu.be              4      0.004306\n87            harvard.edu              4      0.004306\n88              fbcdn.net              3      0.003229\n89           blogblog.com              3      0.003229\n90          yahooapis.com              3      0.003229\n91              ytimg.com              3      0.003229\n92          wikimedia.org              3      0.003229\n93       staticflickr.com              3      0.003229\n94            histats.com              3      0.003229\n95        linksynergy.com              3      0.003229\n96                msn.com              3      0.003229\n97                free.fr              3      0.003229\n98             bigmir.net              3      0.003229\n99        list-manage.com              3      0.003229\n\n[100 rows x 3 columns]\n"
     ]
    }
   ],
   "source": [
    "# 计算比例\n",
    "\n",
    "def trackers_crawl_rate(trackers, list_len):\n",
    "    print(\"len df is:{}\".format(list_len))\n",
    "    tracker, tracker_count = zip(*trackers)\n",
    "    tracker_rate = list(map(lambda x:x[1] / list_len, trackers))\n",
    "\n",
    "    df = pd.DataFrame({\"tracker\":tracker,\"tracker_count\":tracker_count,'tracker_rate':tracker_rate})\n",
    "    return df\n",
    "\n",
    "\n",
    "df_2021 = trackers_crawl_rate(trackers_2021_most_100,len(frame_2021))\n",
    "print(df_2021)\n",
    "\n",
    "df_2020 = trackers_crawl_rate(trackers_2020_most_100,len(frame_2020))\n",
    "print(df_2020)\n",
    "# df_2021.to_csv(\"trackers_2021.csv\",index = None)\n",
    "\n",
    "df_2019 = trackers_crawl_rate(trackers_2019_most_100,len(frame_2019))\n",
    "print(df_2019)\n",
    "\n",
    "df_2018 = trackers_crawl_rate(trackers_2018_most_100,len(frame_2018))\n",
    "print(df_2018)\n",
    "\n",
    "df_2017 = trackers_crawl_rate(trackers_2017_most_100,len(frame_2017))\n",
    "print(df_2017)\n",
    "# df_2019.to_csv(\"trackers_2019_csv\",index = None)\n"
   ]
  },
  {
   "cell_type": "code",
   "execution_count": 62,
   "metadata": {},
   "outputs": [
    {
     "output_type": "stream",
     "name": "stdout",
     "text": [
      "                 category     0\n0                       #  1651\n1             Advertising  1083\n2               Analytics    61\n3   Analytics,Advertising     2\n4                  Beacon    13\n5                 Captcha     0\n6         ContentDelivery   146\n7           DomainParking     0\n8          EmailMarketing     3\n9             FormBuilder     0\n10                Hosting     0\n11            ImageHoster    21\n12          LinkShortener    30\n13                Malware     0\n14                Payment     0\n15                Toolbar     0\n16                Weather     0\n17            WebServices     0\n18         WebsiteBuilder     2\n19                 Widget   104\n                 category     0\n0                       #  1657\n1             Advertising  1128\n2               Analytics    61\n3   Analytics,Advertising     1\n4                  Beacon    17\n5                 Captcha     1\n6         ContentDelivery   127\n7           DomainParking     0\n8          EmailMarketing     1\n9             FormBuilder     0\n10                Hosting     0\n11            ImageHoster    33\n12          LinkShortener    30\n13                Malware     0\n14                Payment     0\n15                Toolbar     0\n16                Weather     1\n17            WebServices     0\n18         WebsiteBuilder     5\n19                 Widget   121\n                 category     0\n0                       #  1629\n1             Advertising  1108\n2               Analytics    55\n3   Analytics,Advertising     2\n4                  Beacon    20\n5                 Captcha     0\n6         ContentDelivery   136\n7           DomainParking     0\n8          EmailMarketing     4\n9             FormBuilder     1\n10                Hosting     0\n11            ImageHoster    33\n12          LinkShortener    21\n13                Malware     0\n14                Payment     0\n15                Toolbar     0\n16                Weather     1\n17            WebServices     0\n18         WebsiteBuilder     6\n19                 Widget   135\n                 category     0\n0                       #  1620\n1             Advertising  1229\n2               Analytics    68\n3   Analytics,Advertising     2\n4                  Beacon    44\n5                 Captcha     1\n6         ContentDelivery   151\n7           DomainParking     1\n8          EmailMarketing     7\n9             FormBuilder     0\n10                Hosting     0\n11            ImageHoster    32\n12          LinkShortener    22\n13                Malware     1\n14                Payment     1\n15                Toolbar     0\n16                Weather     0\n17            WebServices     1\n18         WebsiteBuilder     6\n19                 Widget   150\n                 category     0\n0                       #  1804\n1             Advertising  1440\n2               Analytics    98\n3   Analytics,Advertising     1\n4                  Beacon    51\n5                 Captcha     0\n6         ContentDelivery   165\n7           DomainParking     0\n8          EmailMarketing    11\n9             FormBuilder     0\n10                Hosting     0\n11            ImageHoster    26\n12          LinkShortener    28\n13                Malware     1\n14                Payment     3\n15                Toolbar     0\n16                Weather     1\n17            WebServices     3\n18         WebsiteBuilder     9\n19                 Widget   237\n"
     ]
    }
   ],
   "source": [
    "### 判断一下各个品类的trackers在\n",
    "\n",
    "def categorical_trackers(group, trackers_year):\n",
    "    count = 0\n",
    "    for domain in group['domain']:\n",
    "        count += trackers_year[domain]\n",
    "    return count\n",
    "# return pd.Series({'tracker_list':group['domain'].to_list()})\n",
    "\n",
    "print(df_domain[['category','domain']].groupby('category').apply(categorical_trackers,trackers_2021).reset_index())\n",
    "print(df_domain[['category','domain']].groupby('category').apply(categorical_trackers,trackers_2020).reset_index())\n",
    "print(df_domain[['category','domain']].groupby('category').apply(categorical_trackers,trackers_2019).reset_index())\n",
    "print(df_domain[['category','domain']].groupby('category').apply(categorical_trackers,trackers_2018).reset_index())\n",
    "print(df_domain[['category','domain']].groupby('category').apply(categorical_trackers,trackers_2017).reset_index())"
   ]
  },
  {
   "cell_type": "code",
   "execution_count": 22,
   "metadata": {},
   "outputs": [
    {
     "output_type": "stream",
     "name": "stdout",
     "text": [
      "0       2.796898\n1       0.162243\n2       7.080357\n3       3.078159\n4       0.156015\n5       0.151157\n6       1.000000\n7       0.685885\n8       0.333333\n9       1.044314\n10      0.028571\n11      1.609576\n12      3.207634\n13      6.194691\n14      6.886840\n15      0.333333\n16     22.958795\n17      4.000000\n18      0.162243\n19      0.028571\n20      0.015152\n21      1.000000\n22     68.103929\n23      8.976405\n24     16.914364\n25      3.518042\n26      0.136072\n27      0.035714\n28      0.685885\n29      0.086443\n         ...    \n381     4.207234\n382     2.202169\n383     2.621801\n384     3.434790\n385     0.572145\n386     0.675357\n387    12.648948\n388     1.071429\n389     0.016641\n390     3.422630\n391     0.052637\n392     9.354610\n393     0.296834\n394     0.016641\n395     0.866795\n396     1.005414\n397     0.006711\n398     0.183811\n399    18.210693\n400     0.151157\n401     0.037037\n402     2.092091\n403     0.015152\n404     0.045095\n405     0.274145\n406     0.986629\n407     0.310127\n408     2.138167\n409     0.200000\n410     0.086443\nName: glocality_2021, Length: 411, dtype: float64\n"
     ]
    }
   ],
   "source": [
    "# 计算各个网站的glocality\n",
    "\n",
    "def glocality_cal(l, trackers_count):\n",
    "    T_w = len(l)\n",
    "    idf_sim = sum([1 / (trackers_count[t]) for t in l])\n",
    "    return T_w * idf_sim\n",
    "\n",
    "\n",
    "df_merge['glocality_2021'] = df_merge['tracker_list_2021'].apply(glocality_cal,trackers_count = trackers_2021)\n",
    "print(df_merge['glocality_2021'])\n"
   ]
  },
  {
   "cell_type": "code",
   "execution_count": null,
   "metadata": {},
   "outputs": [],
   "source": []
  }
 ]
}