{
 "cells": [
  {
   "cell_type": "code",
   "execution_count": 100,
   "metadata": {},
   "outputs": [
    {
     "data": {
      "text/plain": [
       "20209"
      ]
     },
     "execution_count": 100,
     "metadata": {},
     "output_type": "execute_result"
    }
   ],
   "source": [
    "import pandas as pd \n",
    "\n",
    "df_domain = pd.read_csv('domain_page_rank_2022.csv')\n",
    "\n",
    "# count the number of nan in the page_rank column\n",
    "df_domain.page_rank.isnull().sum() "
   ]
  },
  {
   "cell_type": "code",
   "execution_count": 101,
   "metadata": {},
   "outputs": [
    {
     "data": {
      "text/plain": [
       "135427"
      ]
     },
     "execution_count": 101,
     "metadata": {},
     "output_type": "execute_result"
    }
   ],
   "source": [
    "df_domain.head()\n",
    "len(df_domain)"
   ]
  },
  {
   "cell_type": "code",
   "execution_count": 102,
   "metadata": {},
   "outputs": [
    {
     "data": {
      "text/plain": [
       "52903"
      ]
     },
     "execution_count": 102,
     "metadata": {},
     "output_type": "execute_result"
    }
   ],
   "source": [
    "df_host = pd.read_csv('host_name_page_rank_2022.csv')\n",
    "df_host.page_rank.isnull().sum()"
   ]
  },
  {
   "cell_type": "code",
   "execution_count": 103,
   "metadata": {},
   "outputs": [
    {
     "data": {
      "text/html": [
       "<div>\n",
       "<style scoped>\n",
       "    .dataframe tbody tr th:only-of-type {\n",
       "        vertical-align: middle;\n",
       "    }\n",
       "\n",
       "    .dataframe tbody tr th {\n",
       "        vertical-align: top;\n",
       "    }\n",
       "\n",
       "    .dataframe thead th {\n",
       "        text-align: right;\n",
       "    }\n",
       "</style>\n",
       "<table border=\"1\" class=\"dataframe\">\n",
       "  <thead>\n",
       "    <tr style=\"text-align: right;\">\n",
       "      <th></th>\n",
       "      <th>hostnames</th>\n",
       "      <th>country</th>\n",
       "      <th>alpha2</th>\n",
       "      <th>alpha3</th>\n",
       "      <th>hostnames_reverse</th>\n",
       "      <th>domain</th>\n",
       "      <th>page_rank</th>\n",
       "    </tr>\n",
       "  </thead>\n",
       "  <tbody>\n",
       "    <tr>\n",
       "      <th>0</th>\n",
       "      <td>services.iacad.gov.ae</td>\n",
       "      <td>United Arab Emirates (UAE)</td>\n",
       "      <td>AE</td>\n",
       "      <td>ARE</td>\n",
       "      <td>ae.gov.iacad.services</td>\n",
       "      <td>ae.gov.iacad.services</td>\n",
       "      <td>15860617.0</td>\n",
       "    </tr>\n",
       "    <tr>\n",
       "      <th>1</th>\n",
       "      <td>eservices.nmc.gov.ae</td>\n",
       "      <td>United Arab Emirates (UAE)</td>\n",
       "      <td>AE</td>\n",
       "      <td>ARE</td>\n",
       "      <td>ae.gov.nmc.eservices</td>\n",
       "      <td>ae.gov.nmc.eservices</td>\n",
       "      <td>71243866.0</td>\n",
       "    </tr>\n",
       "    <tr>\n",
       "      <th>2</th>\n",
       "      <td>www.ajmanport.gov.ae</td>\n",
       "      <td>United Arab Emirates (UAE)</td>\n",
       "      <td>AE</td>\n",
       "      <td>ARE</td>\n",
       "      <td>ae.gov.ajmanport.www</td>\n",
       "      <td>ae.gov.ajmanport</td>\n",
       "      <td>NaN</td>\n",
       "    </tr>\n",
       "    <tr>\n",
       "      <th>3</th>\n",
       "      <td>dc.gov.ae</td>\n",
       "      <td>United Arab Emirates (UAE)</td>\n",
       "      <td>AE</td>\n",
       "      <td>ARE</td>\n",
       "      <td>ae.gov.dc</td>\n",
       "      <td>ae.gov.dc</td>\n",
       "      <td>741114.0</td>\n",
       "    </tr>\n",
       "    <tr>\n",
       "      <th>4</th>\n",
       "      <td>sdg.gov.ae</td>\n",
       "      <td>United Arab Emirates (UAE)</td>\n",
       "      <td>AE</td>\n",
       "      <td>ARE</td>\n",
       "      <td>ae.gov.sdg</td>\n",
       "      <td>ae.gov.sdg</td>\n",
       "      <td>15288081.0</td>\n",
       "    </tr>\n",
       "  </tbody>\n",
       "</table>\n",
       "</div>"
      ],
      "text/plain": [
       "               hostnames                     country alpha2 alpha3  \\\n",
       "0  services.iacad.gov.ae  United Arab Emirates (UAE)     AE    ARE   \n",
       "1   eservices.nmc.gov.ae  United Arab Emirates (UAE)     AE    ARE   \n",
       "2   www.ajmanport.gov.ae  United Arab Emirates (UAE)     AE    ARE   \n",
       "3              dc.gov.ae  United Arab Emirates (UAE)     AE    ARE   \n",
       "4             sdg.gov.ae  United Arab Emirates (UAE)     AE    ARE   \n",
       "\n",
       "       hostnames_reverse                 domain   page_rank  \n",
       "0  ae.gov.iacad.services  ae.gov.iacad.services  15860617.0  \n",
       "1   ae.gov.nmc.eservices   ae.gov.nmc.eservices  71243866.0  \n",
       "2   ae.gov.ajmanport.www       ae.gov.ajmanport         NaN  \n",
       "3              ae.gov.dc              ae.gov.dc    741114.0  \n",
       "4             ae.gov.sdg             ae.gov.sdg  15288081.0  "
      ]
     },
     "execution_count": 103,
     "metadata": {},
     "output_type": "execute_result"
    }
   ],
   "source": [
    "df_host.head()"
   ]
  },
  {
   "cell_type": "code",
   "execution_count": 104,
   "metadata": {},
   "outputs": [
    {
     "data": {
      "text/plain": [
       "19735"
      ]
     },
     "execution_count": 104,
     "metadata": {},
     "output_type": "execute_result"
    }
   ],
   "source": [
    "# how to merge two dataframes, fill out the missing values in the page_rank column\n",
    "df_domain = df_domain.merge(df_host, on='hostnames', how='left')\n",
    "# we fill out the missing values in the page_rank_x column with the values in the page_rank_y column\n",
    "df_domain.page_rank_x.fillna(df_domain.page_rank_y, inplace=True)\n",
    "df_domain.drop('page_rank_y', axis=1, inplace=True)\n",
    "df_domain.rename(columns={'page_rank_x':'page_rank'}, inplace=True)\n",
    "df_domain.page_rank.isnull().sum()"
   ]
  },
  {
   "cell_type": "code",
   "execution_count": 105,
   "metadata": {},
   "outputs": [
    {
     "data": {
      "text/html": [
       "<div>\n",
       "<style scoped>\n",
       "    .dataframe tbody tr th:only-of-type {\n",
       "        vertical-align: middle;\n",
       "    }\n",
       "\n",
       "    .dataframe tbody tr th {\n",
       "        vertical-align: top;\n",
       "    }\n",
       "\n",
       "    .dataframe thead th {\n",
       "        text-align: right;\n",
       "    }\n",
       "</style>\n",
       "<table border=\"1\" class=\"dataframe\">\n",
       "  <thead>\n",
       "    <tr style=\"text-align: right;\">\n",
       "      <th></th>\n",
       "      <th>hostnames</th>\n",
       "      <th>country</th>\n",
       "      <th>alpha2</th>\n",
       "      <th>alpha3</th>\n",
       "      <th>hostnames_reverse</th>\n",
       "      <th>domain</th>\n",
       "      <th>page_rank</th>\n",
       "    </tr>\n",
       "  </thead>\n",
       "  <tbody>\n",
       "    <tr>\n",
       "      <th>0</th>\n",
       "      <td>www.govern.ad</td>\n",
       "      <td>Andorra</td>\n",
       "      <td>AD</td>\n",
       "      <td>AND</td>\n",
       "      <td>ad.govern.www</td>\n",
       "      <td>ad.govern</td>\n",
       "      <td>170739.0</td>\n",
       "    </tr>\n",
       "    <tr>\n",
       "      <th>1</th>\n",
       "      <td>www.tramits.ad</td>\n",
       "      <td>Andorra</td>\n",
       "      <td>AD</td>\n",
       "      <td>AND</td>\n",
       "      <td>ad.tramits.www</td>\n",
       "      <td>ad.tramits</td>\n",
       "      <td>4127309.0</td>\n",
       "    </tr>\n",
       "    <tr>\n",
       "      <th>2</th>\n",
       "      <td>www.protecciocivil.ad</td>\n",
       "      <td>Andorra</td>\n",
       "      <td>AD</td>\n",
       "      <td>AND</td>\n",
       "      <td>ad.protecciocivil.www</td>\n",
       "      <td>ad.protecciocivil</td>\n",
       "      <td>2244704.0</td>\n",
       "    </tr>\n",
       "    <tr>\n",
       "      <th>3</th>\n",
       "      <td>ia.gov.ae</td>\n",
       "      <td>United Arab Emirates (UAE)</td>\n",
       "      <td>AE</td>\n",
       "      <td>ARE</td>\n",
       "      <td>ae.gov.ia</td>\n",
       "      <td>ae.gov.ia</td>\n",
       "      <td>759105.0</td>\n",
       "    </tr>\n",
       "    <tr>\n",
       "      <th>4</th>\n",
       "      <td>wsn.hw.gov.ae</td>\n",
       "      <td>United Arab Emirates (UAE)</td>\n",
       "      <td>AE</td>\n",
       "      <td>ARE</td>\n",
       "      <td>ae.gov.hw.wsn</td>\n",
       "      <td>ae.gov.hw.wsn</td>\n",
       "      <td>26547208.0</td>\n",
       "    </tr>\n",
       "  </tbody>\n",
       "</table>\n",
       "</div>"
      ],
      "text/plain": [
       "               hostnames                     country alpha2 alpha3  \\\n",
       "0          www.govern.ad                     Andorra     AD    AND   \n",
       "1         www.tramits.ad                     Andorra     AD    AND   \n",
       "2  www.protecciocivil.ad                     Andorra     AD    AND   \n",
       "3              ia.gov.ae  United Arab Emirates (UAE)     AE    ARE   \n",
       "4          wsn.hw.gov.ae  United Arab Emirates (UAE)     AE    ARE   \n",
       "\n",
       "       hostnames_reverse             domain   page_rank  \n",
       "0          ad.govern.www          ad.govern    170739.0  \n",
       "1         ad.tramits.www         ad.tramits   4127309.0  \n",
       "2  ad.protecciocivil.www  ad.protecciocivil   2244704.0  \n",
       "3              ae.gov.ia          ae.gov.ia    759105.0  \n",
       "4          ae.gov.hw.wsn      ae.gov.hw.wsn  26547208.0  "
      ]
     },
     "execution_count": 105,
     "metadata": {},
     "output_type": "execute_result"
    }
   ],
   "source": [
    "# drop the columns that end with _y\n",
    "df_domain.drop(df_domain.filter(regex='_y$').columns.tolist(),axis=1, inplace=True)\n",
    "# rename the columns that end with _x\n",
    "df_domain.rename(columns=lambda x: x.replace('_x', ''), inplace=True)\n",
    "df_domain.head()\n"
   ]
  },
  {
   "cell_type": "code",
   "execution_count": 107,
   "metadata": {},
   "outputs": [
    {
     "name": "stdout",
     "output_type": "stream",
     "text": [
      "135392\n"
     ]
    },
    {
     "data": {
      "text/plain": [
       "114998"
      ]
     },
     "execution_count": 107,
     "metadata": {},
     "output_type": "execute_result"
    }
   ],
   "source": [
    "# clearn the dataset\n",
    "df_domain = df_domain[df_domain['alpha2'].notna()]\n",
    "print(len(df_domain))\n",
    "\n",
    "# remove the noise dataset for alpha2_code\n",
    "df_domain = df_domain[df_domain['alpha2'].str.len() == 2]\n",
    "len(df_domain)"
   ]
  },
  {
   "cell_type": "code",
   "execution_count": 108,
   "metadata": {},
   "outputs": [],
   "source": [
    "# write the file to csv\n",
    "df_domain.to_csv('government_websites_page_rank_2022.csv', index=False)\n"
   ]
  },
  {
   "cell_type": "code",
   "execution_count": 109,
   "metadata": {},
   "outputs": [
    {
     "name": "stdout",
     "output_type": "stream",
     "text": [
      "114998\n"
     ]
    }
   ],
   "source": [
    "print(len(df_domain))   "
   ]
  },
  {
   "cell_type": "code",
   "execution_count": null,
   "metadata": {},
   "outputs": [],
   "source": []
  },
  {
   "cell_type": "code",
   "execution_count": 110,
   "metadata": {},
   "outputs": [
    {
     "name": "stdout",
     "output_type": "stream",
     "text": [
      "              hostnames      country alpha2 alpha3     hostnames_reverse  \\\n",
      "0      president.gov.af  Afghanistan     AF    AFG      af.gov.president   \n",
      "1  www.president.gov.af  Afghanistan     AF    AFG  af.gov.president.www   \n",
      "2            mfa.gov.af  Afghanistan     AF    AFG            af.gov.mfa   \n",
      "3        www.mfa.gov.af  Afghanistan     AF    AFG        af.gov.mfa.www   \n",
      "4        www.mof.gov.af  Afghanistan     AF    AFG        af.gov.mof.www   \n",
      "\n",
      "             domain  page_rank  \n",
      "0  af.gov.president   303963.0  \n",
      "1  af.gov.president   303963.0  \n",
      "2        af.gov.mfa   391095.0  \n",
      "3        af.gov.mfa   391095.0  \n",
      "4        af.gov.mof   525054.0  \n",
      "30845\n"
     ]
    }
   ],
   "source": [
    "# group by country and select the top 500 based on page_rank\n",
    "# df_domain['page_rank'].fillna(0, inplace=True)\n",
    "df_group_country = df_domain.groupby('country').apply(lambda x: x.nsmallest(500, 'page_rank')).reset_index(drop=True)\n",
    "print(df_group_country.head())\n",
    "print(len(df_group_country))"
   ]
  },
  {
   "cell_type": "code",
   "execution_count": 115,
   "metadata": {},
   "outputs": [
    {
     "data": {
      "text/plain": [
       "1236"
      ]
     },
     "execution_count": 115,
     "metadata": {},
     "output_type": "execute_result"
    }
   ],
   "source": [
    "# write file to csv\n",
    "df_group_country.to_csv('government_websites_page_rank_2022_top_500.csv', index=False)\n",
    "df_group_country.page_rank.isnull().sum()"
   ]
  },
  {
   "cell_type": "code",
   "execution_count": 111,
   "metadata": {},
   "outputs": [
    {
     "data": {
      "text/plain": [
       "Thailand             500\n",
       "Ukraine              500\n",
       "South Korea          500\n",
       "Pakistan             500\n",
       "Colombia             500\n",
       "                    ... \n",
       "Equatorial Guinea      3\n",
       "Niger                  3\n",
       "Togo                   2\n",
       "Guinea-Bissau          2\n",
       "Grenada                1\n",
       "Name: country, Length: 197, dtype: int64"
      ]
     },
     "execution_count": 111,
     "metadata": {},
     "output_type": "execute_result"
    }
   ],
   "source": [
    "# count the numer of domains per country\n",
    "df_group_country.country.value_counts()"
   ]
  },
  {
   "cell_type": "code",
   "execution_count": 112,
   "metadata": {},
   "outputs": [],
   "source": [
    "df_country_clean = df_group_country['alpha3']"
   ]
  },
  {
   "cell_type": "code",
   "execution_count": 83,
   "metadata": {},
   "outputs": [
    {
     "data": {
      "text/plain": [
       "0                    af.gov.afghanpost.webmail\n",
       "1                     af.gov.superemecourt.www\n",
       "2                            af.gov.dgsd.ncmis\n",
       "3                           af.gov.pcu-mew.mis\n",
       "4                             af.gov.mcit.jobs\n",
       "                         ...                  \n",
       "30840                   zw.gov.testdomain4.www\n",
       "30841    zw.gov.postelectionviolencecommission\n",
       "30842                         zw.gov.women.www\n",
       "30843                      zw.gov.auditgen.www\n",
       "30844                           zw.gov.ddf.www\n",
       "Name: hostnames_reverse, Length: 30845, dtype: object"
      ]
     },
     "execution_count": 83,
     "metadata": {},
     "output_type": "execute_result"
    }
   ],
   "source": [
    "# rm the noise the country"
   ]
  },
  {
   "cell_type": "code",
   "execution_count": 84,
   "metadata": {},
   "outputs": [
    {
     "data": {
      "text/plain": [
       "30845"
      ]
     },
     "execution_count": 84,
     "metadata": {},
     "output_type": "execute_result"
    }
   ],
   "source": [
    "len(df_group_country)"
   ]
  },
  {
   "cell_type": "code",
   "execution_count": 113,
   "metadata": {},
   "outputs": [],
   "source": [
    "# filter the country that has great than 500 domains\n",
    "\n",
    "df_group_country.country.value_counts().reindex().to_csv('country_count.csv')"
   ]
  },
  {
   "cell_type": "code",
   "execution_count": null,
   "metadata": {},
   "outputs": [],
   "source": []
  },
  {
   "cell_type": "code",
   "execution_count": null,
   "metadata": {},
   "outputs": [],
   "source": []
  }
 ],
 "metadata": {
  "kernelspec": {
   "display_name": "base",
   "language": "python",
   "name": "python3"
  },
  "language_info": {
   "codemirror_mode": {
    "name": "ipython",
    "version": 3
   },
   "file_extension": ".py",
   "mimetype": "text/x-python",
   "name": "python",
   "nbconvert_exporter": "python",
   "pygments_lexer": "ipython3",
   "version": "3.9.5"
  }
 },
 "nbformat": 4,
 "nbformat_minor": 2
}
