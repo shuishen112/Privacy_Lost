{
 "cells": [
  {
   "cell_type": "code",
   "execution_count": 20,
   "metadata": {},
   "outputs": [
    {
     "data": {
      "text/plain": [
       "44254"
      ]
     },
     "execution_count": 20,
     "metadata": {},
     "output_type": "execute_result"
    }
   ],
   "source": [
    "import pandas as pd \n",
    "\n",
    "df_domain = pd.read_csv('domain_page_rank_2017.csv')\n",
    "\n",
    "# count the number of nan in the page_rank column\n",
    "df_domain.page_rank.isnull().sum()  "
   ]
  },
  {
   "cell_type": "code",
   "execution_count": 22,
   "metadata": {},
   "outputs": [
    {
     "data": {
      "text/html": [
       "<div>\n",
       "<style scoped>\n",
       "    .dataframe tbody tr th:only-of-type {\n",
       "        vertical-align: middle;\n",
       "    }\n",
       "\n",
       "    .dataframe tbody tr th {\n",
       "        vertical-align: top;\n",
       "    }\n",
       "\n",
       "    .dataframe thead th {\n",
       "        text-align: right;\n",
       "    }\n",
       "</style>\n",
       "<table border=\"1\" class=\"dataframe\">\n",
       "  <thead>\n",
       "    <tr style=\"text-align: right;\">\n",
       "      <th></th>\n",
       "      <th>hostnames</th>\n",
       "      <th>country</th>\n",
       "      <th>alpha2</th>\n",
       "      <th>alpha3</th>\n",
       "      <th>hostnames_reverse</th>\n",
       "      <th>domain</th>\n",
       "      <th>page_rank</th>\n",
       "    </tr>\n",
       "  </thead>\n",
       "  <tbody>\n",
       "    <tr>\n",
       "      <th>0</th>\n",
       "      <td>www.moh.gov.ae</td>\n",
       "      <td>United Arab Emirates (UAE)</td>\n",
       "      <td>AE</td>\n",
       "      <td>ARE</td>\n",
       "      <td>ae.gov.moh.www</td>\n",
       "      <td>ae.gov.moh</td>\n",
       "      <td>11450.0</td>\n",
       "    </tr>\n",
       "    <tr>\n",
       "      <th>1</th>\n",
       "      <td>services.moid.gov.ae</td>\n",
       "      <td>United Arab Emirates (UAE)</td>\n",
       "      <td>AE</td>\n",
       "      <td>ARE</td>\n",
       "      <td>ae.gov.moid.services</td>\n",
       "      <td>ae.gov.moid.services</td>\n",
       "      <td>20930590.0</td>\n",
       "    </tr>\n",
       "    <tr>\n",
       "      <th>2</th>\n",
       "      <td>moh.gov.ae</td>\n",
       "      <td>United Arab Emirates (UAE)</td>\n",
       "      <td>AE</td>\n",
       "      <td>ARE</td>\n",
       "      <td>ae.gov.moh</td>\n",
       "      <td>ae.gov.moh</td>\n",
       "      <td>11450.0</td>\n",
       "    </tr>\n",
       "    <tr>\n",
       "      <th>3</th>\n",
       "      <td>webmail.moi.gov.ae</td>\n",
       "      <td>United Arab Emirates (UAE)</td>\n",
       "      <td>AE</td>\n",
       "      <td>ARE</td>\n",
       "      <td>ae.gov.moi.webmail</td>\n",
       "      <td>ae.gov.moi.webmail</td>\n",
       "      <td>21177815.0</td>\n",
       "    </tr>\n",
       "    <tr>\n",
       "      <th>4</th>\n",
       "      <td>academy.adjd.gov.ae</td>\n",
       "      <td>United Arab Emirates (UAE)</td>\n",
       "      <td>AE</td>\n",
       "      <td>ARE</td>\n",
       "      <td>ae.gov.adjd.academy</td>\n",
       "      <td>ae.gov.adjd.academy</td>\n",
       "      <td>NaN</td>\n",
       "    </tr>\n",
       "  </tbody>\n",
       "</table>\n",
       "</div>"
      ],
      "text/plain": [
       "              hostnames                     country alpha2 alpha3  \\\n",
       "0        www.moh.gov.ae  United Arab Emirates (UAE)     AE    ARE   \n",
       "1  services.moid.gov.ae  United Arab Emirates (UAE)     AE    ARE   \n",
       "2            moh.gov.ae  United Arab Emirates (UAE)     AE    ARE   \n",
       "3    webmail.moi.gov.ae  United Arab Emirates (UAE)     AE    ARE   \n",
       "4   academy.adjd.gov.ae  United Arab Emirates (UAE)     AE    ARE   \n",
       "\n",
       "      hostnames_reverse                domain   page_rank  \n",
       "0        ae.gov.moh.www            ae.gov.moh     11450.0  \n",
       "1  ae.gov.moid.services  ae.gov.moid.services  20930590.0  \n",
       "2            ae.gov.moh            ae.gov.moh     11450.0  \n",
       "3    ae.gov.moi.webmail    ae.gov.moi.webmail  21177815.0  \n",
       "4   ae.gov.adjd.academy   ae.gov.adjd.academy         NaN  "
      ]
     },
     "execution_count": 22,
     "metadata": {},
     "output_type": "execute_result"
    }
   ],
   "source": [
    "df_domain.head()"
   ]
  },
  {
   "cell_type": "code",
   "execution_count": 23,
   "metadata": {},
   "outputs": [
    {
     "data": {
      "text/plain": [
       "75212"
      ]
     },
     "execution_count": 23,
     "metadata": {},
     "output_type": "execute_result"
    }
   ],
   "source": [
    "df_host = pd.read_csv('host_name_page_rank_2017.csv')\n",
    "df_host.page_rank.isnull().sum()"
   ]
  },
  {
   "cell_type": "code",
   "execution_count": 24,
   "metadata": {},
   "outputs": [
    {
     "data": {
      "text/html": [
       "<div>\n",
       "<style scoped>\n",
       "    .dataframe tbody tr th:only-of-type {\n",
       "        vertical-align: middle;\n",
       "    }\n",
       "\n",
       "    .dataframe tbody tr th {\n",
       "        vertical-align: top;\n",
       "    }\n",
       "\n",
       "    .dataframe thead th {\n",
       "        text-align: right;\n",
       "    }\n",
       "</style>\n",
       "<table border=\"1\" class=\"dataframe\">\n",
       "  <thead>\n",
       "    <tr style=\"text-align: right;\">\n",
       "      <th></th>\n",
       "      <th>hostnames</th>\n",
       "      <th>country</th>\n",
       "      <th>alpha2</th>\n",
       "      <th>alpha3</th>\n",
       "      <th>hostnames_reverse</th>\n",
       "      <th>domain</th>\n",
       "      <th>page_rank</th>\n",
       "    </tr>\n",
       "  </thead>\n",
       "  <tbody>\n",
       "    <tr>\n",
       "      <th>0</th>\n",
       "      <td>www.filmdubai.gov.ae</td>\n",
       "      <td>United Arab Emirates (UAE)</td>\n",
       "      <td>AE</td>\n",
       "      <td>ARE</td>\n",
       "      <td>ae.gov.filmdubai.www</td>\n",
       "      <td>ae.gov.filmdubai</td>\n",
       "      <td>NaN</td>\n",
       "    </tr>\n",
       "    <tr>\n",
       "      <th>1</th>\n",
       "      <td>www.am.gov.ae</td>\n",
       "      <td>United Arab Emirates (UAE)</td>\n",
       "      <td>AE</td>\n",
       "      <td>ARE</td>\n",
       "      <td>ae.gov.am.www</td>\n",
       "      <td>ae.gov.am</td>\n",
       "      <td>NaN</td>\n",
       "    </tr>\n",
       "    <tr>\n",
       "      <th>2</th>\n",
       "      <td>mocd.gov.ae</td>\n",
       "      <td>United Arab Emirates (UAE)</td>\n",
       "      <td>AE</td>\n",
       "      <td>ARE</td>\n",
       "      <td>ae.gov.mocd</td>\n",
       "      <td>ae.gov.mocd</td>\n",
       "      <td>67438003.0</td>\n",
       "    </tr>\n",
       "    <tr>\n",
       "      <th>3</th>\n",
       "      <td>careers.drydocks.gov.ae</td>\n",
       "      <td>United Arab Emirates (UAE)</td>\n",
       "      <td>AE</td>\n",
       "      <td>ARE</td>\n",
       "      <td>ae.gov.drydocks.careers</td>\n",
       "      <td>ae.gov.drydocks.careers</td>\n",
       "      <td>19974452.0</td>\n",
       "    </tr>\n",
       "    <tr>\n",
       "      <th>4</th>\n",
       "      <td>summer.youth.gov.ae</td>\n",
       "      <td>United Arab Emirates (UAE)</td>\n",
       "      <td>AE</td>\n",
       "      <td>ARE</td>\n",
       "      <td>ae.gov.youth.summer</td>\n",
       "      <td>ae.gov.youth.summer</td>\n",
       "      <td>NaN</td>\n",
       "    </tr>\n",
       "  </tbody>\n",
       "</table>\n",
       "</div>"
      ],
      "text/plain": [
       "                 hostnames                     country alpha2 alpha3  \\\n",
       "0     www.filmdubai.gov.ae  United Arab Emirates (UAE)     AE    ARE   \n",
       "1            www.am.gov.ae  United Arab Emirates (UAE)     AE    ARE   \n",
       "2              mocd.gov.ae  United Arab Emirates (UAE)     AE    ARE   \n",
       "3  careers.drydocks.gov.ae  United Arab Emirates (UAE)     AE    ARE   \n",
       "4      summer.youth.gov.ae  United Arab Emirates (UAE)     AE    ARE   \n",
       "\n",
       "         hostnames_reverse                   domain   page_rank  \n",
       "0     ae.gov.filmdubai.www         ae.gov.filmdubai         NaN  \n",
       "1            ae.gov.am.www                ae.gov.am         NaN  \n",
       "2              ae.gov.mocd              ae.gov.mocd  67438003.0  \n",
       "3  ae.gov.drydocks.careers  ae.gov.drydocks.careers  19974452.0  \n",
       "4      ae.gov.youth.summer      ae.gov.youth.summer         NaN  "
      ]
     },
     "execution_count": 24,
     "metadata": {},
     "output_type": "execute_result"
    }
   ],
   "source": [
    "df_host.head()"
   ]
  },
  {
   "cell_type": "code",
   "execution_count": 25,
   "metadata": {},
   "outputs": [
    {
     "data": {
      "text/plain": [
       "43855"
      ]
     },
     "execution_count": 25,
     "metadata": {},
     "output_type": "execute_result"
    }
   ],
   "source": [
    "# how to merge two dataframes, fill out the missing values in the page_rank column\n",
    "df_domain = df_domain.merge(df_host, on='hostnames', how='left')\n",
    "# we fill out the missing values in the page_rank_x column with the values in the page_rank_y column\n",
    "df_domain.page_rank_x.fillna(df_domain.page_rank_y, inplace=True)\n",
    "df_domain.drop('page_rank_y', axis=1, inplace=True)\n",
    "df_domain.rename(columns={'page_rank_x':'page_rank'}, inplace=True)\n",
    "df_domain.page_rank.isnull().sum()"
   ]
  },
  {
   "cell_type": "code",
   "execution_count": 26,
   "metadata": {},
   "outputs": [
    {
     "data": {
      "text/html": [
       "<div>\n",
       "<style scoped>\n",
       "    .dataframe tbody tr th:only-of-type {\n",
       "        vertical-align: middle;\n",
       "    }\n",
       "\n",
       "    .dataframe tbody tr th {\n",
       "        vertical-align: top;\n",
       "    }\n",
       "\n",
       "    .dataframe thead th {\n",
       "        text-align: right;\n",
       "    }\n",
       "</style>\n",
       "<table border=\"1\" class=\"dataframe\">\n",
       "  <thead>\n",
       "    <tr style=\"text-align: right;\">\n",
       "      <th></th>\n",
       "      <th>hostnames</th>\n",
       "      <th>country</th>\n",
       "      <th>alpha2</th>\n",
       "      <th>alpha3</th>\n",
       "      <th>hostnames_reverse</th>\n",
       "      <th>domain</th>\n",
       "      <th>page_rank</th>\n",
       "    </tr>\n",
       "  </thead>\n",
       "  <tbody>\n",
       "    <tr>\n",
       "      <th>0</th>\n",
       "      <td>www.moh.gov.ae</td>\n",
       "      <td>United Arab Emirates (UAE)</td>\n",
       "      <td>AE</td>\n",
       "      <td>ARE</td>\n",
       "      <td>ae.gov.moh.www</td>\n",
       "      <td>ae.gov.moh</td>\n",
       "      <td>11450.0</td>\n",
       "    </tr>\n",
       "    <tr>\n",
       "      <th>1</th>\n",
       "      <td>services.moid.gov.ae</td>\n",
       "      <td>United Arab Emirates (UAE)</td>\n",
       "      <td>AE</td>\n",
       "      <td>ARE</td>\n",
       "      <td>ae.gov.moid.services</td>\n",
       "      <td>ae.gov.moid.services</td>\n",
       "      <td>20930590.0</td>\n",
       "    </tr>\n",
       "    <tr>\n",
       "      <th>2</th>\n",
       "      <td>moh.gov.ae</td>\n",
       "      <td>United Arab Emirates (UAE)</td>\n",
       "      <td>AE</td>\n",
       "      <td>ARE</td>\n",
       "      <td>ae.gov.moh</td>\n",
       "      <td>ae.gov.moh</td>\n",
       "      <td>11450.0</td>\n",
       "    </tr>\n",
       "    <tr>\n",
       "      <th>3</th>\n",
       "      <td>webmail.moi.gov.ae</td>\n",
       "      <td>United Arab Emirates (UAE)</td>\n",
       "      <td>AE</td>\n",
       "      <td>ARE</td>\n",
       "      <td>ae.gov.moi.webmail</td>\n",
       "      <td>ae.gov.moi.webmail</td>\n",
       "      <td>21177815.0</td>\n",
       "    </tr>\n",
       "    <tr>\n",
       "      <th>4</th>\n",
       "      <td>academy.adjd.gov.ae</td>\n",
       "      <td>United Arab Emirates (UAE)</td>\n",
       "      <td>AE</td>\n",
       "      <td>ARE</td>\n",
       "      <td>ae.gov.adjd.academy</td>\n",
       "      <td>ae.gov.adjd.academy</td>\n",
       "      <td>NaN</td>\n",
       "    </tr>\n",
       "  </tbody>\n",
       "</table>\n",
       "</div>"
      ],
      "text/plain": [
       "              hostnames                     country alpha2 alpha3  \\\n",
       "0        www.moh.gov.ae  United Arab Emirates (UAE)     AE    ARE   \n",
       "1  services.moid.gov.ae  United Arab Emirates (UAE)     AE    ARE   \n",
       "2            moh.gov.ae  United Arab Emirates (UAE)     AE    ARE   \n",
       "3    webmail.moi.gov.ae  United Arab Emirates (UAE)     AE    ARE   \n",
       "4   academy.adjd.gov.ae  United Arab Emirates (UAE)     AE    ARE   \n",
       "\n",
       "      hostnames_reverse                domain   page_rank  \n",
       "0        ae.gov.moh.www            ae.gov.moh     11450.0  \n",
       "1  ae.gov.moid.services  ae.gov.moid.services  20930590.0  \n",
       "2            ae.gov.moh            ae.gov.moh     11450.0  \n",
       "3    ae.gov.moi.webmail    ae.gov.moi.webmail  21177815.0  \n",
       "4   ae.gov.adjd.academy   ae.gov.adjd.academy         NaN  "
      ]
     },
     "execution_count": 26,
     "metadata": {},
     "output_type": "execute_result"
    }
   ],
   "source": [
    "# drop the columns that end with _y\n",
    "df_domain.drop(df_domain.filter(regex='_y$').columns.tolist(),axis=1, inplace=True)\n",
    "# rename the columns that end with _x\n",
    "df_domain.rename(columns=lambda x: x.replace('_x', ''), inplace=True)\n",
    "df_domain.head()\n"
   ]
  },
  {
   "cell_type": "code",
   "execution_count": 31,
   "metadata": {},
   "outputs": [],
   "source": [
    "# write the file to csv\n",
    "df_domain.to_csv('government_websites_page_rank_2017.csv', index=False)"
   ]
  },
  {
   "cell_type": "code",
   "execution_count": 27,
   "metadata": {},
   "outputs": [
    {
     "data": {
      "text/html": [
       "<div>\n",
       "<style scoped>\n",
       "    .dataframe tbody tr th:only-of-type {\n",
       "        vertical-align: middle;\n",
       "    }\n",
       "\n",
       "    .dataframe tbody tr th {\n",
       "        vertical-align: top;\n",
       "    }\n",
       "\n",
       "    .dataframe thead th {\n",
       "        text-align: right;\n",
       "    }\n",
       "</style>\n",
       "<table border=\"1\" class=\"dataframe\">\n",
       "  <thead>\n",
       "    <tr style=\"text-align: right;\">\n",
       "      <th></th>\n",
       "      <th>hostnames</th>\n",
       "      <th>country</th>\n",
       "      <th>alpha2</th>\n",
       "      <th>alpha3</th>\n",
       "      <th>hostnames_reverse</th>\n",
       "      <th>domain</th>\n",
       "      <th>page_rank</th>\n",
       "    </tr>\n",
       "  </thead>\n",
       "  <tbody>\n",
       "    <tr>\n",
       "      <th>0</th>\n",
       "      <td>budget.gouv.cd</td>\n",
       "      <td>\"Congo</td>\n",
       "      <td>Democratic Republic of the\"</td>\n",
       "      <td>CD</td>\n",
       "      <td>COD</td>\n",
       "      <td>cd.gouv.budget</td>\n",
       "      <td>12237363.0</td>\n",
       "    </tr>\n",
       "    <tr>\n",
       "      <th>1</th>\n",
       "      <td>medd.gouv.cd</td>\n",
       "      <td>\"Congo</td>\n",
       "      <td>Democratic Republic of the\"</td>\n",
       "      <td>CD</td>\n",
       "      <td>COD</td>\n",
       "      <td>cd.gouv.medd</td>\n",
       "      <td>16589174.0</td>\n",
       "    </tr>\n",
       "    <tr>\n",
       "      <th>2</th>\n",
       "      <td>www.senat.cd</td>\n",
       "      <td>\"Congo</td>\n",
       "      <td>Democratic Republic of the\"</td>\n",
       "      <td>CD</td>\n",
       "      <td>COD</td>\n",
       "      <td>cd.senat.www</td>\n",
       "      <td>NaN</td>\n",
       "    </tr>\n",
       "    <tr>\n",
       "      <th>3</th>\n",
       "      <td>www.investindrc.cd</td>\n",
       "      <td>\"Congo</td>\n",
       "      <td>Democratic Republic of the\"</td>\n",
       "      <td>CD</td>\n",
       "      <td>COD</td>\n",
       "      <td>cd.investindrc.www</td>\n",
       "      <td>NaN</td>\n",
       "    </tr>\n",
       "    <tr>\n",
       "      <th>4</th>\n",
       "      <td>www.budget.gouv.cd</td>\n",
       "      <td>\"Congo</td>\n",
       "      <td>Democratic Republic of the\"</td>\n",
       "      <td>CD</td>\n",
       "      <td>COD</td>\n",
       "      <td>cd.gouv.budget.www</td>\n",
       "      <td>NaN</td>\n",
       "    </tr>\n",
       "  </tbody>\n",
       "</table>\n",
       "</div>"
      ],
      "text/plain": [
       "            hostnames country                        alpha2 alpha3  \\\n",
       "0      budget.gouv.cd  \"Congo   Democratic Republic of the\"     CD   \n",
       "1        medd.gouv.cd  \"Congo   Democratic Republic of the\"     CD   \n",
       "2        www.senat.cd  \"Congo   Democratic Republic of the\"     CD   \n",
       "3  www.investindrc.cd  \"Congo   Democratic Republic of the\"     CD   \n",
       "4  www.budget.gouv.cd  \"Congo   Democratic Republic of the\"     CD   \n",
       "\n",
       "  hostnames_reverse              domain   page_rank  \n",
       "0               COD      cd.gouv.budget  12237363.0  \n",
       "1               COD        cd.gouv.medd  16589174.0  \n",
       "2               COD        cd.senat.www         NaN  \n",
       "3               COD  cd.investindrc.www         NaN  \n",
       "4               COD  cd.gouv.budget.www         NaN  "
      ]
     },
     "execution_count": 27,
     "metadata": {},
     "output_type": "execute_result"
    }
   ],
   "source": [
    "# group by country and select the top 500 based on page_rank\n",
    "\n",
    "df_group_country = df_domain.groupby('country').apply(lambda x: x.nsmallest(500, 'page_rank')).reset_index(drop=True)\n",
    "df_group_country.head()"
   ]
  },
  {
   "cell_type": "code",
   "execution_count": 28,
   "metadata": {},
   "outputs": [
    {
     "data": {
      "text/plain": [
       "Tanzania               500\n",
       "Kazakhstan             500\n",
       "Peru                   500\n",
       "Pakistan               500\n",
       "Nepal                  500\n",
       "                      ... \n",
       "Country                  1\n",
       "\"sk.gov.vlada            1\n",
       "dps.staging.nv.gov\"      1\n",
       "nwsb.go.ke\"              1\n",
       "perpusnas.go.id\"         1\n",
       "Name: country, Length: 209, dtype: int64"
      ]
     },
     "execution_count": 28,
     "metadata": {},
     "output_type": "execute_result"
    }
   ],
   "source": [
    "# count the numer of domains per country\n",
    "df_group_country.country.value_counts()"
   ]
  },
  {
   "cell_type": "code",
   "execution_count": 30,
   "metadata": {},
   "outputs": [],
   "source": [
    "# filter the country that has great than 500 domains\n",
    "\n",
    "df_group_country.country.value_counts().reindex().to_csv('country_count.csv')"
   ]
  },
  {
   "cell_type": "code",
   "execution_count": null,
   "metadata": {},
   "outputs": [],
   "source": []
  }
 ],
 "metadata": {
  "kernelspec": {
   "display_name": "base",
   "language": "python",
   "name": "python3"
  },
  "language_info": {
   "codemirror_mode": {
    "name": "ipython",
    "version": 3
   },
   "file_extension": ".py",
   "mimetype": "text/x-python",
   "name": "python",
   "nbconvert_exporter": "python",
   "pygments_lexer": "ipython3",
   "version": "3.9.5"
  }
 },
 "nbformat": 4,
 "nbformat_minor": 2
}
