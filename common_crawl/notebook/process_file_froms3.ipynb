{
 "cells": [
  {
   "cell_type": "code",
   "execution_count": 1,
   "metadata": {},
   "outputs": [
    {
     "name": "stdout",
     "output_type": "stream",
     "text": [
      "Existing buckets:\n",
      "  aws-emr-resources-235671948910-us-east-1\n",
      "  aws-logs-235671948910-us-east-1\n",
      "  privacylost\n",
      "  zhan-commoncrawl\n"
     ]
    }
   ],
   "source": [
    "import boto3\n",
    "# Retrieve the list of existing buckets\n",
    "s3 = boto3.client('s3')\n",
    "response = s3.list_buckets()\n",
    "\n",
    "# Output the bucket names\n",
    "print('Existing buckets:')\n",
    "for bucket in response['Buckets']:\n",
    "    print(f'  {bucket[\"Name\"]}')"
   ]
  },
  {
   "cell_type": "code",
   "execution_count": 2,
   "metadata": {},
   "outputs": [
    {
     "name": "stdout",
     "output_type": "stream",
     "text": [
      "{'ResponseMetadata': {'RequestId': 'BZM2KCKH4326JQVA', 'HostId': '1kB7SvVhYRd2xqGUTpjbXa8OuGGILV6SXjTBTok+zqtGnSDBrXt1uC1LuzZKn+qYlgMCNRVVv7A=', 'HTTPStatusCode': 200, 'HTTPHeaders': {'x-amz-id-2': '1kB7SvVhYRd2xqGUTpjbXa8OuGGILV6SXjTBTok+zqtGnSDBrXt1uC1LuzZKn+qYlgMCNRVVv7A=', 'x-amz-request-id': 'BZM2KCKH4326JQVA', 'date': 'Mon, 23 Jan 2023 09:12:03 GMT', 'content-type': 'application/xml', 'transfer-encoding': 'chunked', 'server': 'AmazonS3'}, 'RetryAttempts': 0}, 'Owner': {'DisplayName': 'sara', 'ID': 'fc504895e3c44cbe2a063212bf4f392a0c24a398910f6f535ec911c404ee8347'}, 'Grants': [{'Grantee': {'DisplayName': 'sara', 'ID': 'fc504895e3c44cbe2a063212bf4f392a0c24a398910f6f535ec911c404ee8347', 'Type': 'CanonicalUser'}, 'Permission': 'FULL_CONTROL'}]}\n"
     ]
    }
   ],
   "source": [
    "# Retrieve a bucket's ACL\n",
    "result = s3.get_bucket_acl(Bucket='commoncrawl')\n",
    "print(result)"
   ]
  },
  {
   "cell_type": "code",
   "execution_count": 5,
   "metadata": {},
   "outputs": [],
   "source": [
    "file_name = 'crawl-data/CC-MAIN-2015-14/segments/1427131298015.2/warc/CC-MAIN-20150323172138-00061-ip-10-168-14-71.ec2.internal.warc.gz'\n",
    "\n",
    "offset = 882944732\n",
    "length = 10489\n",
    "offset_end = offset + length - 1\n",
    "byte_range = \"bytes={offset}-{end}\".format(offset=offset, end=offset_end)\n",
    "resp = s3.get_object(Bucket=\"commoncrawl\", Key=file_name, Range=byte_range)[\"Body\"]"
   ]
  },
  {
   "cell_type": "code",
   "execution_count": 7,
   "metadata": {},
   "outputs": [],
   "source": [
    "from warcio.archiveiterator import ArchiveIterator\n",
    "for record in ArchiveIterator(resp):\n",
    "    url = record.rec_headers.get_header(\"WARC-Target-URI\")\n",
    "    text = record.content_stream().read()"
   ]
  },
  {
   "cell_type": "code",
   "execution_count": 1,
   "metadata": {},
   "outputs": [],
   "source": [
    "# analysis \n",
    "import re\n",
    "from validators import ValidationFailure\n",
    "import validators\n",
    "from selectolax.parser import HTMLParser\n",
    "from urllib.parse import urlparse\n",
    "import tldextract\n",
    "\n",
    "regex = \"((?<=[^a-zA-Z0-9])(?:https?\\:\\/\\/|[a-zA-Z0-9]{1,}\\.{1}|\\b)(?:\\w{1,}\\.{1}){1,5}(?:com|org|edu|gov|uk|net|ca|de|jp|fr|au|us|ru|ch|it|nl|se|no|es|mil|iq|io|ac|ly|sm){1}(?:\\/[a-zA-Z0-9]{1,})*)\"\n",
    "\n",
    "def is_string_an_url(url_string: str) -> bool:\n",
    "    result = validators.url(url_string)\n",
    "\n",
    "    if isinstance(result, ValidationFailure):\n",
    "        return False\n",
    "\n",
    "    return result\n",
    "\n",
    "\n",
    "def get_domain_from_cc(url):\n",
    "    \"\"\"\n",
    "    extract the domain from Common Crawl\n",
    "\n",
    "    Args:\n",
    "        url (_type_): _description_\n",
    "\n",
    "    Returns:\n",
    "        _type_: _description_\n",
    "    \"\"\"\n",
    "    if not url:\n",
    "        return None\n",
    "    if is_string_an_url(url):\n",
    "        domain = str(urlparse(url).netloc)\n",
    "        domain = tldextract.extract(str(urlparse(url).netloc)).domain\n",
    "\n",
    "    else:\n",
    "        domain = None\n",
    "    return domain\n",
    "\n",
    "def get_text_selectolax(html):\n",
    "    \"\"\"extracting the tracker domain from html file\n",
    "\n",
    "    Args:\n",
    "        html (_type_): _description_\n",
    "\n",
    "    Returns:\n",
    "        _type_: _description_\n",
    "    \"\"\"\n",
    "    trackers = []\n",
    "    # try:\n",
    "    tree = HTMLParser(html)\n",
    "    if tree.body is None:\n",
    "        return trackers\n",
    "    for node in tree.tags(\"style\"):\n",
    "        node.decompose()\n",
    "\n",
    "    #         找到a\n",
    "    try:\n",
    "        for node in tree.css(\"a,link,script,iframe,img\"):\n",
    "            text = node.text()\n",
    "            # if \"google-analytics\" in text:\n",
    "            #     trackers.append(\"google-analytics\")\n",
    "            if \"href\" in node.attributes:\n",
    "                url = node.attributes[\"href\"]\n",
    "                # domain = get_domain_from_cc(url)\n",
    "            if \"onclick\" in node.attributes:\n",
    "                url = node.attributes['onclick']\n",
    "                # if is_string_an_url(url):\n",
    "                if \"window.open\" in url:\n",
    "                    url = url.replace(\"window.open(\",\"\")\n",
    "                    url = url.replace(\"+\",\"\")\n",
    "                    url = url.replace(\")\",\"\")\n",
    "                    url = url.replace(\"'\", \"\")\n",
    "                    url = url.replace(' ',\"\")\n",
    "                    url = url.split(\";\")[0]\n",
    "                    url\n",
    "                    print(url)\n",
    "                \n",
    "               \n",
    "            # if \"src\" in node.attributes:\n",
    "            #     url = node.attributes[\"src\"]\n",
    "            #     domain = get_domain_from_cc(url)\n",
    "\n",
    "            #     if domain:\n",
    "            #         print(domain)\n",
    "                    \n",
    "\n",
    "            # if (\n",
    "            #     \"type\" in node.attributes\n",
    "            #     and node.attributes[\"type\"] == \"text/javascript\"\n",
    "            # ):\n",
    "\n",
    "            #     result = re.findall(regex, text)\n",
    "            #     print(result)\n",
    "    \n",
    "                   \n",
    "    except Exception as e:\n",
    "        print(e)\n",
    "    return trackers\n",
    "\n",
    "    # except Exception as e:\n",
    "    #     print(e)\n",
    "    # finally:\n",
    "    #     return trackers\n"
   ]
  },
  {
   "cell_type": "code",
   "execution_count": 4,
   "metadata": {},
   "outputs": [
    {
     "name": "stdout",
     "output_type": "stream",
     "text": [
      "['http://www.cmati.xunta.es/portada', 'http://www.cmati.xunta.es/web/guest', 'http://www.cmati.xunta.es/html/js/barebone', 'jQuery.ui.tabs.de', 'Liferay.Notice.prototype.se', 'http://www.cmati.xunta.es/tema']\n",
      "http://www.cmati.xunta.es/portada True\n",
      "http://www.cmati.xunta.es/web/guest True\n",
      "http://www.cmati.xunta.es/html/js/barebone True\n",
      "jQuery.ui.tabs.de False\n",
      "Liferay.Notice.prototype.se False\n",
      "http://www.cmati.xunta.es/tema True\n"
     ]
    }
   ],
   "source": [
    "text = '<script type=\"text/javascript\">/*<![CDATA[*/var Liferay={Browser:{acceptsGzip:function(){return false},getMajorVersion:function(){return 0},getRevision:function(){return\"\"},getVersion:function(){return\"\"},isAir:function(){return false},isChrome:function(){return false},isFirefox:function(){return false},isGecko:function(){return false},isIe:function(){return false},isIphone:function(){return false},isLinux:function(){return false},isMac:function(){return false},isMobile:function(){return false},isMozilla:function(){return false},isOpera:function(){return false},isRtf:function(){return false},isSafari:function(){return false},isSun:function(){return false},isWap:function(){return false},isWapXhtml:function(){return false},isWebKit:function(){return false},isWindows:function(){return false},isWml:function(){return false}},ThemeDisplay:{getCompanyId:function(){return\"1\"},getUserId:function(){return\"5\"},getDoAsUserIdEncoded:function(){return\"\"},getPlid:function(){return\"23\"},getLayoutId:function(){return\"1\"},getLayoutURL:function(){return\"http://www.cmati.xunta.es/portada\"},isPrivateLayout:function(){return\"false\"},getParentLayoutId:function(){return\"0\"},getScopeGroupId:function(){return\"20\"},isSignedIn:function(){return false},getLanguageId:function(){return\"gl_ES\"},isFreeformLayout:function(){return false},isStateExclusive:function(){return false},isStateMaximized:function(){return false},isStatePopUp:function(){return false},getPathContext:function(){return\"\"},getPathImage:function(){return\"/image\"},getPathMain:function(){return\"/c\"},getPathThemeImages:function(){return\"/tema-portal-cmati/images\"},getPathThemeRoot:function(){return\"/tema-portal-cmati/\"},getURLHome:function(){return\"http://www.cmati.xunta.es/web/guest\"},getSessionId:function(){return\"F8F304978CEF5625216063C0828B7C21.vmprd41\"},getPortletSetupShowBordersDefault:function(){return false}}};var themeDisplay=Liferay.ThemeDisplay;/*]]>*/</script><script src=\"/web/20151217041141js_/http://www.cmati.xunta.es/html/js/barebone.jsp?browserId=other&amp;themeId=temaportadacmati_WAR_temaportalcmati&amp;colorSchemeId=01&amp;minifierType=js&amp;minifierBundleId=javascript.barebone.files&amp;t=1348207478000\" type=\"text/javascript\"></script><script type=\"text/javascript\">/*<![CDATA[*/Liferay.currentURL=\"\\u002f\";Liferay.currentURLEncoded=\"%2F\";jQuery(function(){Liferay.Util.addInputType();Liferay.Util.addInputFocus()});Liferay.Portlet.ready(function(b,a){Liferay.Util.addInputType(b,a);if(Liferay.Menu){new Liferay.Menu({button:\".lfr-actions\",context:a[0],trigger:\".lfr-trigger\"})}});Liferay.Portlet.list=[\"ipecos_opencms_portlet_INSTANCE_q17K\",\"ipecos_opencms_portlet_INSTANCE_B1hq\",\"ipecos_opencms_portlet_INSTANCE_9noY\",\"RSSPortlet_WAR_RSSPortlet\",\"ipecos_multi_opencms_portlet_INSTANCE_4FPy\",\"ipecos_opencms_portlet_INSTANCE_t9I1\",\"ipecos_opencms_portlet_INSTANCE_Zrt1\",\"ipecos_opencms_portlet_INSTANCE_T2uC\",\"caire_portada_WAR_caire\"];if(jQuery.ui&&jQuery.ui.tabs){jQuery.extend(jQuery.ui.tabs.defaults,{navClass:\"ui-tabs tabs\",selectedClass:\"current\"})}jQuery(function(){if(Liferay.Dock){Liferay.Dock.init()}if(Liferay.Menu){new Liferay.Menu()}if(Liferay.Notice){Liferay.Notice.prototype.setClosing()}});/*]]>*/</script><link href=\"/web/20151217041141cs_/http://www.cmati.xunta.es/tema-portal-cmati/css_cmati/main.css?browserId=other&amp;minifierType=css&amp;t=1448349584000\" rel=\"stylesheet\" type=\"text/css\"/>'\n",
    "urls = re.findall(regex, text)\n",
    "print(urls)\n",
    "for url in urls:\n",
    "    print(url,is_string_an_url(url))\n",
    "\n"
   ]
  },
  {
   "cell_type": "code",
   "execution_count": 6,
   "metadata": {},
   "outputs": [
    {
     "data": {
      "text/plain": [
       "True"
      ]
     },
     "execution_count": 6,
     "metadata": {},
     "output_type": "execute_result"
    }
   ],
   "source": [
    "is_string_an_url(\"https://web.archive.org/web/20151217041141/http://www.cmati.xunta.es/avisos?content=/Portal-Web/Contidos/Aviso/aviso_0296.html\")"
   ]
  },
  {
   "cell_type": "code",
   "execution_count": 55,
   "metadata": {},
   "outputs": [
    {
     "name": "stdout",
     "output_type": "stream",
     "text": [
      "http://u.to/SGwhAg\n",
      "http://u.to/DYXIBA\n",
      "http://u.to/MeHABA\n",
      "http://u.to/A3HRAQ\n",
      "http://u.to/Do_1Ag\n",
      "http://u.to/HucPAQ\n",
      "http://u.to/qgIVCA\n",
      "http://u.to/CSURBQ\n",
      "http://u.to/SAWL\n",
      "http://u.to/Z7hn\n",
      "http://u.to/TgWL\n",
      "http://u.to/7Jaw\n",
      "http://u.to/Ov_K\n",
      "http://u.to/GD5M\n",
      "http://u.to/jv_K\n",
      "http://u.to/n6A4AQ\n",
      "http://u.to/HOt6\n",
      "http://u.to/qv_K\n",
      "http://u.to/rf_K\n",
      "http://u.to/wP_K\n",
      "http://u.to/JbTDAg\n",
      "http://u.to/FDKnBA\n",
      "http://u.to/49CLAw\n",
      "http://u.to/HtvABA\n",
      "http://u.to/6WnHAg\n",
      "http://u.to/oeDDAg\n",
      "http://u.to/qNvABA\n",
      "http://u.to/oeDDAg\n",
      "http://u.to/wkNZAg\n",
      "http://u.to/wkNZAg\n",
      "http://u.to/CSURBQ\n",
      "http://u.to/AGsnAg\n",
      "http://u.to/MeHABA\n",
      "http://u.to/-dvABA\n",
      "http://blog.ucoz.ro/\n",
      "http://forum.ucoz.ro/\n",
      "http://www.facebook.com/ucoz.servicii.web\n",
      "http://twitter.com/ucoz_ro\n",
      "http://faq.ucoz.ro/\n"
     ]
    },
    {
     "data": {
      "text/plain": [
       "[]"
      ]
     },
     "execution_count": 55,
     "metadata": {},
     "output_type": "execute_result"
    }
   ],
   "source": [
    "get_text_selectolax(text)"
   ]
  },
  {
   "cell_type": "markdown",
   "metadata": {},
   "source": [
    "## analyse dataset"
   ]
  },
  {
   "cell_type": "code",
   "execution_count": 4,
   "metadata": {},
   "outputs": [],
   "source": [
    "import pandas as pd\n",
    "from ast import literal_eval \n",
    "\n",
    "# df = pd.read_csv(\"../parsed_cc_results_10.txt\",'\\t',names = ['url','cc_path'],converters={\"cc_path\": literal_eval})\n",
    "\n",
    "df = pd.read_csv(\"../parsed_cc_results_10.txt\",names = ['url','cc_path','year','offset','length'])"
   ]
  },
  {
   "cell_type": "code",
   "execution_count": 5,
   "metadata": {},
   "outputs": [
    {
     "data": {
      "text/html": [
       "<div>\n",
       "<style scoped>\n",
       "    .dataframe tbody tr th:only-of-type {\n",
       "        vertical-align: middle;\n",
       "    }\n",
       "\n",
       "    .dataframe tbody tr th {\n",
       "        vertical-align: top;\n",
       "    }\n",
       "\n",
       "    .dataframe thead th {\n",
       "        text-align: right;\n",
       "    }\n",
       "</style>\n",
       "<table border=\"1\" class=\"dataframe\">\n",
       "  <thead>\n",
       "    <tr style=\"text-align: right;\">\n",
       "      <th></th>\n",
       "      <th>url</th>\n",
       "      <th>cc_path</th>\n",
       "      <th>year</th>\n",
       "      <th>offset</th>\n",
       "      <th>length</th>\n",
       "    </tr>\n",
       "  </thead>\n",
       "  <tbody>\n",
       "    <tr>\n",
       "      <th>0</th>\n",
       "      <td>www.izoa.fr</td>\n",
       "      <td>crawl-data/CC-MAIN-2021-49/segments/1637964362...</td>\n",
       "      <td>2021</td>\n",
       "      <td>896784718</td>\n",
       "      <td>62792</td>\n",
       "    </tr>\n",
       "    <tr>\n",
       "      <th>1</th>\n",
       "      <td>www.izoa.fr</td>\n",
       "      <td>crawl-data/CC-MAIN-2016-50/segments/1480698542...</td>\n",
       "      <td>2016</td>\n",
       "      <td>529101936</td>\n",
       "      <td>27042</td>\n",
       "    </tr>\n",
       "    <tr>\n",
       "      <th>2</th>\n",
       "      <td>www.izoa.fr</td>\n",
       "      <td>crawl-data/CC-MAIN-2014-41/segments/1410657137...</td>\n",
       "      <td>2014</td>\n",
       "      <td>591070386</td>\n",
       "      <td>30082</td>\n",
       "    </tr>\n",
       "    <tr>\n",
       "      <th>3</th>\n",
       "      <td>www.izoa.fr</td>\n",
       "      <td>crawl-data/CC-MAIN-2019-51/segments/1575540551...</td>\n",
       "      <td>2019</td>\n",
       "      <td>738781671</td>\n",
       "      <td>20978</td>\n",
       "    </tr>\n",
       "    <tr>\n",
       "      <th>4</th>\n",
       "      <td>www.izoa.fr</td>\n",
       "      <td>crawl-data/CC-MAIN-2015-35/segments/1440644064...</td>\n",
       "      <td>2015</td>\n",
       "      <td>505830628</td>\n",
       "      <td>22798</td>\n",
       "    </tr>\n",
       "  </tbody>\n",
       "</table>\n",
       "</div>"
      ],
      "text/plain": [
       "           url                                            cc_path  year  \\\n",
       "0  www.izoa.fr  crawl-data/CC-MAIN-2021-49/segments/1637964362...  2021   \n",
       "1  www.izoa.fr  crawl-data/CC-MAIN-2016-50/segments/1480698542...  2016   \n",
       "2  www.izoa.fr  crawl-data/CC-MAIN-2014-41/segments/1410657137...  2014   \n",
       "3  www.izoa.fr  crawl-data/CC-MAIN-2019-51/segments/1575540551...  2019   \n",
       "4  www.izoa.fr  crawl-data/CC-MAIN-2015-35/segments/1440644064...  2015   \n",
       "\n",
       "      offset  length  \n",
       "0  896784718   62792  \n",
       "1  529101936   27042  \n",
       "2  591070386   30082  \n",
       "3  738781671   20978  \n",
       "4  505830628   22798  "
      ]
     },
     "execution_count": 5,
     "metadata": {},
     "output_type": "execute_result"
    }
   ],
   "source": [
    "df.head()"
   ]
  },
  {
   "cell_type": "code",
   "execution_count": null,
   "metadata": {},
   "outputs": [],
   "source": []
  }
 ],
 "metadata": {
  "kernelspec": {
   "display_name": "base",
   "language": "python",
   "name": "python3"
  },
  "language_info": {
   "codemirror_mode": {
    "name": "ipython",
    "version": 3
   },
   "file_extension": ".py",
   "mimetype": "text/x-python",
   "name": "python",
   "nbconvert_exporter": "python",
   "pygments_lexer": "ipython3",
   "version": "3.9.5"
  },
  "orig_nbformat": 4,
  "vscode": {
   "interpreter": {
    "hash": "d8ed0073c41b023cdd22b6268c6b3f0c9b6d97a6234cf243afa672a36c79f6c6"
   }
  }
 },
 "nbformat": 4,
 "nbformat_minor": 2
}
