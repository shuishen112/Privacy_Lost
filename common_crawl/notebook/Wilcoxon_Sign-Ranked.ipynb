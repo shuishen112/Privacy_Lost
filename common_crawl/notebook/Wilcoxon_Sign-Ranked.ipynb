{
 "cells": [
  {
   "cell_type": "code",
   "execution_count": 1,
   "metadata": {},
   "outputs": [],
   "source": [
    "from scipy import stats\n",
    "import matplotlib.pyplot as plt\n",
    "\n",
    "SMALL_SIZE = 12\n",
    "MEDIUM_SIZE = 10\n",
    "BIGGER_SIZE = 12\n",
    "\n",
    "plt.rc('font', size=SMALL_SIZE)          # controls default text sizes\n",
    "plt.rc('axes', titlesize=SMALL_SIZE)     # fontsize of the axes title\n",
    "plt.rc('axes', labelsize=MEDIUM_SIZE)    # fontsize of the x and y labels\n",
    "plt.rc('xtick', labelsize=SMALL_SIZE)    # fontsize of the tick labels\n",
    "plt.rc('ytick', labelsize=SMALL_SIZE)    # fontsize of the tick labels\n",
    "plt.rc('legend', fontsize=SMALL_SIZE)    # legend fontsize\n",
    "plt.rc('figure', titlesize=BIGGER_SIZE)  # fontsize of the figure title"
   ]
  },
  {
   "attachments": {},
   "cell_type": "markdown",
   "metadata": {},
   "source": [
    "## WS rank test over edu and non-edu"
   ]
  },
  {
   "cell_type": "code",
   "execution_count": 3,
   "metadata": {},
   "outputs": [
    {
     "name": "stdout",
     "output_type": "stream",
     "text": [
      "17975\n",
      "17975\n",
      "17975\n",
      "17975\n"
     ]
    }
   ],
   "source": [
    "# read the file\n",
    "import pandas as pd \n",
    "\n",
    "df_count_control = pd.read_csv(\"../dataset_archive/frame_control_count_who.csv\",sep = \"\\t\")\n",
    "df_count_edu = pd.read_csv(\"../dataset_archive/frame_edu_count_who.csv\",sep = \"\\t\")\n",
    "print(len(df_count_edu))\n",
    "print(len(df_count_control))\n",
    "print(len(df_count_edu['edu_domain'].unique()))\n",
    "print(len(df_count_control['control_domain'].unique()))\n"
   ]
  },
  {
   "cell_type": "code",
   "execution_count": 4,
   "metadata": {},
   "outputs": [
    {
     "data": {
      "text/html": [
       "<div>\n",
       "<style scoped>\n",
       "    .dataframe tbody tr th:only-of-type {\n",
       "        vertical-align: middle;\n",
       "    }\n",
       "\n",
       "    .dataframe tbody tr th {\n",
       "        vertical-align: top;\n",
       "    }\n",
       "\n",
       "    .dataframe thead th {\n",
       "        text-align: right;\n",
       "    }\n",
       "</style>\n",
       "<table border=\"1\" class=\"dataframe\">\n",
       "  <thead>\n",
       "    <tr style=\"text-align: right;\">\n",
       "      <th></th>\n",
       "      <th>edu_url</th>\n",
       "      <th>edu_url_index</th>\n",
       "      <th>control_url</th>\n",
       "      <th>control_url_index</th>\n",
       "    </tr>\n",
       "  </thead>\n",
       "  <tbody>\n",
       "    <tr>\n",
       "      <th>0</th>\n",
       "      <td>jetaanc.org</td>\n",
       "      <td>2856677</td>\n",
       "      <td>judysoncherry.com</td>\n",
       "      <td>2856678</td>\n",
       "    </tr>\n",
       "    <tr>\n",
       "      <th>1</th>\n",
       "      <td>concordsch.vic.edu.au</td>\n",
       "      <td>6771379</td>\n",
       "      <td>alexmac.biz</td>\n",
       "      <td>6771380</td>\n",
       "    </tr>\n",
       "    <tr>\n",
       "      <th>2</th>\n",
       "      <td>lincoln.ox.ac.uk</td>\n",
       "      <td>361991</td>\n",
       "      <td>umista.ca</td>\n",
       "      <td>361992</td>\n",
       "    </tr>\n",
       "    <tr>\n",
       "      <th>3</th>\n",
       "      <td>gosoutheast.com</td>\n",
       "      <td>578597</td>\n",
       "      <td>ncip.gov.ph</td>\n",
       "      <td>578598</td>\n",
       "    </tr>\n",
       "    <tr>\n",
       "      <th>4</th>\n",
       "      <td>lalumiere.org</td>\n",
       "      <td>2857735</td>\n",
       "      <td>ashland.k12.or.us</td>\n",
       "      <td>2857736</td>\n",
       "    </tr>\n",
       "  </tbody>\n",
       "</table>\n",
       "</div>"
      ],
      "text/plain": [
       "                 edu_url  edu_url_index        control_url  control_url_index\n",
       "0            jetaanc.org        2856677  judysoncherry.com            2856678\n",
       "1  concordsch.vic.edu.au        6771379        alexmac.biz            6771380\n",
       "2       lincoln.ox.ac.uk         361991          umista.ca             361992\n",
       "3        gosoutheast.com         578597        ncip.gov.ph             578598\n",
       "4          lalumiere.org        2857735  ashland.k12.or.us            2857736"
      ]
     },
     "execution_count": 4,
     "metadata": {},
     "output_type": "execute_result"
    }
   ],
   "source": [
    "# get the rank of domain\n",
    "\n",
    "# df_edu_no_edu = pd.read_csv(\"../resource/available-control-urls.txt\",names = ['edu_domain','control_domain','non-url'], sep = \"\\t\")\n",
    "# df_edu_no_edu.head()\n",
    "# df_edu_no_edu['rank'] = range(len(df_edu_no_edu))\n",
    "# df_edu_no_edu.head()\n",
    "\n",
    "df_websites_rank = pd.read_csv(\"../resource/url_index.txt\", sep = \"\\t\")\n",
    "df_websites_rank.head()\n",
    "# df_dict = dict(zip(df_edu_no_edu['edu'].to_list(), df_edu_no_edu['non-edu'].to_list()))\n"
   ]
  },
  {
   "cell_type": "code",
   "execution_count": 5,
   "metadata": {},
   "outputs": [
    {
     "name": "stdout",
     "output_type": "stream",
     "text": [
      "17975\n",
      "17975\n"
     ]
    }
   ],
   "source": [
    "# change the name\n",
    "\n",
    "df_websites_rank.rename(columns={\"edu_url\":\"edu_domain\", \"control_url\":\"control_domain\"}, inplace=True)\n",
    "df_count_edu['edu_domain'] = df_count_edu['edu_domain'].replace(\".edu.tw\",\"edu.tw\")\n",
    "df_count_edu['edu_domain'] = df_count_edu['edu_domain'].replace(\".schools.nsw.edu.au\",\"schools.nsw.edu.au\")\n",
    "print(len(df_websites_rank['edu_domain'].unique()))\n",
    "print(len(df_websites_rank['control_domain'].unique()))"
   ]
  },
  {
   "cell_type": "code",
   "execution_count": 6,
   "metadata": {},
   "outputs": [
    {
     "data": {
      "text/plain": [
       "set()"
      ]
     },
     "execution_count": 6,
     "metadata": {},
     "output_type": "execute_result"
    }
   ],
   "source": [
    "set(df_websites_rank[\"edu_domain\"].unique()) - set(df_count_edu['edu_domain'].unique())"
   ]
  },
  {
   "cell_type": "code",
   "execution_count": 7,
   "metadata": {},
   "outputs": [
    {
     "data": {
      "text/plain": [
       "set()"
      ]
     },
     "execution_count": 7,
     "metadata": {},
     "output_type": "execute_result"
    }
   ],
   "source": [
    "set(df_count_edu['edu_domain'].unique()) - set(df_websites_rank[\"edu_domain\"].unique())"
   ]
  },
  {
   "cell_type": "code",
   "execution_count": 8,
   "metadata": {},
   "outputs": [
    {
     "name": "stdout",
     "output_type": "stream",
     "text": [
      "17975\n"
     ]
    }
   ],
   "source": [
    "df_merge_edu = df_websites_rank.merge(df_count_edu, on=\"edu_domain\", how=\"inner\")\n",
    "df_merge_edu.head()\n",
    "print(len(df_merge_edu))"
   ]
  },
  {
   "cell_type": "code",
   "execution_count": 9,
   "metadata": {},
   "outputs": [
    {
     "name": "stdout",
     "output_type": "stream",
     "text": [
      "17975\n"
     ]
    }
   ],
   "source": [
    "df_count_control['control_domain'] = df_count_control['control_domain'].replace([\"no\",\"psychcom\",\"vis-cs.umass.edu\",\"wmysite.com\"],[\"www.no\",\"psychwww.com\",\"vis-www.cs.umass.edu\",\"wwww.mysite.com\"])\n",
    "df_merge_control = df_websites_rank.merge(df_count_control, on = \"control_domain\", how = \"inner\")\n",
    "df_merge_control.head()\n",
    "print(len(df_merge_control))"
   ]
  },
  {
   "cell_type": "code",
   "execution_count": 10,
   "metadata": {},
   "outputs": [
    {
     "data": {
      "text/plain": [
       "set()"
      ]
     },
     "execution_count": 10,
     "metadata": {},
     "output_type": "execute_result"
    }
   ],
   "source": [
    "set(df_websites_rank[\"control_domain\"].unique()) - set(df_count_control['control_domain'].unique())"
   ]
  },
  {
   "cell_type": "code",
   "execution_count": 11,
   "metadata": {},
   "outputs": [
    {
     "data": {
      "text/plain": [
       "set()"
      ]
     },
     "execution_count": 11,
     "metadata": {},
     "output_type": "execute_result"
    }
   ],
   "source": [
    "set(df_count_control['control_domain'].unique()) -  set(df_websites_rank[\"control_domain\"].unique())"
   ]
  },
  {
   "cell_type": "code",
   "execution_count": 12,
   "metadata": {},
   "outputs": [
    {
     "data": {
      "text/html": [
       "<div>\n",
       "<style scoped>\n",
       "    .dataframe tbody tr th:only-of-type {\n",
       "        vertical-align: middle;\n",
       "    }\n",
       "\n",
       "    .dataframe tbody tr th {\n",
       "        vertical-align: top;\n",
       "    }\n",
       "\n",
       "    .dataframe thead th {\n",
       "        text-align: right;\n",
       "    }\n",
       "</style>\n",
       "<table border=\"1\" class=\"dataframe\">\n",
       "  <thead>\n",
       "    <tr style=\"text-align: right;\">\n",
       "      <th></th>\n",
       "      <th>edu_domain</th>\n",
       "      <th>edu_domain_rank</th>\n",
       "      <th>control_domain</th>\n",
       "      <th>control_domain_rank</th>\n",
       "      <th>tracker_2012_x</th>\n",
       "      <th>tracker_2013_x</th>\n",
       "      <th>tracker_2014_x</th>\n",
       "      <th>tracker_2015_x</th>\n",
       "      <th>tracker_2016_x</th>\n",
       "      <th>tracker_2017_x</th>\n",
       "      <th>...</th>\n",
       "      <th>tracker_2012_y</th>\n",
       "      <th>tracker_2013_y</th>\n",
       "      <th>tracker_2014_y</th>\n",
       "      <th>tracker_2015_y</th>\n",
       "      <th>tracker_2016_y</th>\n",
       "      <th>tracker_2017_y</th>\n",
       "      <th>tracker_2018_y</th>\n",
       "      <th>tracker_2019_y</th>\n",
       "      <th>tracker_2020_y</th>\n",
       "      <th>tracker_2021_y</th>\n",
       "    </tr>\n",
       "  </thead>\n",
       "  <tbody>\n",
       "    <tr>\n",
       "      <th>7934</th>\n",
       "      <td>slate.com</td>\n",
       "      <td>251</td>\n",
       "      <td>nbcnews.com</td>\n",
       "      <td>252</td>\n",
       "      <td>6</td>\n",
       "      <td>6</td>\n",
       "      <td>5</td>\n",
       "      <td>7</td>\n",
       "      <td>6</td>\n",
       "      <td>4</td>\n",
       "      <td>...</td>\n",
       "      <td>5</td>\n",
       "      <td>8</td>\n",
       "      <td>5</td>\n",
       "      <td>2</td>\n",
       "      <td>3</td>\n",
       "      <td>3</td>\n",
       "      <td>3</td>\n",
       "      <td>2</td>\n",
       "      <td>1</td>\n",
       "      <td>1</td>\n",
       "    </tr>\n",
       "    <tr>\n",
       "      <th>1508</th>\n",
       "      <td>purdue.edu</td>\n",
       "      <td>407</td>\n",
       "      <td>google.com.au</td>\n",
       "      <td>408</td>\n",
       "      <td>3</td>\n",
       "      <td>3</td>\n",
       "      <td>3</td>\n",
       "      <td>2</td>\n",
       "      <td>2</td>\n",
       "      <td>1</td>\n",
       "      <td>...</td>\n",
       "      <td>0</td>\n",
       "      <td>0</td>\n",
       "      <td>0</td>\n",
       "      <td>1</td>\n",
       "      <td>1</td>\n",
       "      <td>0</td>\n",
       "      <td>1</td>\n",
       "      <td>1</td>\n",
       "      <td>1</td>\n",
       "      <td>1</td>\n",
       "    </tr>\n",
       "    <tr>\n",
       "      <th>3281</th>\n",
       "      <td>timeshighereducation.com</td>\n",
       "      <td>416</td>\n",
       "      <td>epa.gov</td>\n",
       "      <td>417</td>\n",
       "      <td>0</td>\n",
       "      <td>4</td>\n",
       "      <td>4</td>\n",
       "      <td>1</td>\n",
       "      <td>1</td>\n",
       "      <td>4</td>\n",
       "      <td>...</td>\n",
       "      <td>2</td>\n",
       "      <td>2</td>\n",
       "      <td>2</td>\n",
       "      <td>4</td>\n",
       "      <td>4</td>\n",
       "      <td>3</td>\n",
       "      <td>2</td>\n",
       "      <td>1</td>\n",
       "      <td>2</td>\n",
       "      <td>1</td>\n",
       "    </tr>\n",
       "    <tr>\n",
       "      <th>3578</th>\n",
       "      <td>sciencedaily.com</td>\n",
       "      <td>546</td>\n",
       "      <td>blog.twitter.com</td>\n",
       "      <td>547</td>\n",
       "      <td>7</td>\n",
       "      <td>0</td>\n",
       "      <td>3</td>\n",
       "      <td>10</td>\n",
       "      <td>0</td>\n",
       "      <td>5</td>\n",
       "      <td>...</td>\n",
       "      <td>12</td>\n",
       "      <td>11</td>\n",
       "      <td>2</td>\n",
       "      <td>2</td>\n",
       "      <td>2</td>\n",
       "      <td>2</td>\n",
       "      <td>2</td>\n",
       "      <td>2</td>\n",
       "      <td>2</td>\n",
       "      <td>2</td>\n",
       "    </tr>\n",
       "    <tr>\n",
       "      <th>11127</th>\n",
       "      <td>coursera.org</td>\n",
       "      <td>582</td>\n",
       "      <td>katyperry.com</td>\n",
       "      <td>583</td>\n",
       "      <td>0</td>\n",
       "      <td>1</td>\n",
       "      <td>1</td>\n",
       "      <td>0</td>\n",
       "      <td>2</td>\n",
       "      <td>2</td>\n",
       "      <td>...</td>\n",
       "      <td>4</td>\n",
       "      <td>9</td>\n",
       "      <td>6</td>\n",
       "      <td>7</td>\n",
       "      <td>8</td>\n",
       "      <td>7</td>\n",
       "      <td>6</td>\n",
       "      <td>6</td>\n",
       "      <td>6</td>\n",
       "      <td>0</td>\n",
       "    </tr>\n",
       "  </tbody>\n",
       "</table>\n",
       "<p>5 rows × 27 columns</p>\n",
       "</div>"
      ],
      "text/plain": [
       "                     edu_domain  edu_domain_rank    control_domain  \\\n",
       "7934                  slate.com              251       nbcnews.com   \n",
       "1508                 purdue.edu              407     google.com.au   \n",
       "3281   timeshighereducation.com              416           epa.gov   \n",
       "3578           sciencedaily.com              546  blog.twitter.com   \n",
       "11127              coursera.org              582     katyperry.com   \n",
       "\n",
       "       control_domain_rank  tracker_2012_x  tracker_2013_x  tracker_2014_x  \\\n",
       "7934                   252               6               6               5   \n",
       "1508                   408               3               3               3   \n",
       "3281                   417               0               4               4   \n",
       "3578                   547               7               0               3   \n",
       "11127                  583               0               1               1   \n",
       "\n",
       "       tracker_2015_x  tracker_2016_x  tracker_2017_x  ...  tracker_2012_y  \\\n",
       "7934                7               6               4  ...               5   \n",
       "1508                2               2               1  ...               0   \n",
       "3281                1               1               4  ...               2   \n",
       "3578               10               0               5  ...              12   \n",
       "11127               0               2               2  ...               4   \n",
       "\n",
       "       tracker_2013_y  tracker_2014_y  tracker_2015_y  tracker_2016_y  \\\n",
       "7934                8               5               2               3   \n",
       "1508                0               0               1               1   \n",
       "3281                2               2               4               4   \n",
       "3578               11               2               2               2   \n",
       "11127               9               6               7               8   \n",
       "\n",
       "      tracker_2017_y  tracker_2018_y  tracker_2019_y  tracker_2020_y  \\\n",
       "7934               3               3               2               1   \n",
       "1508               0               1               1               1   \n",
       "3281               3               2               1               2   \n",
       "3578               2               2               2               2   \n",
       "11127              7               6               6               6   \n",
       "\n",
       "       tracker_2021_y  \n",
       "7934                1  \n",
       "1508                1  \n",
       "3281                1  \n",
       "3578                2  \n",
       "11127               0  \n",
       "\n",
       "[5 rows x 27 columns]"
      ]
     },
     "execution_count": 12,
     "metadata": {},
     "output_type": "execute_result"
    }
   ],
   "source": [
    "df_merge_all = df_merge_edu.merge(df_merge_control, on = \"edu_domain\",how = \"inner\").dropna().sort_values(by=\"edu_url_index_x\")\n",
    "\n",
    "df_merge_all = df_merge_all.rename(columns={'edu_url_index_x':'edu_domain_rank','control_domain_x':'control_domain',\"control_url_index_x\":\"control_domain_rank\"})\n",
    "\n",
    "namelist = ['edu_domain','control_domain','edu_domain_rank','control_domain_rank','tracker_2016_x','tracker_2016_y','tracker_2017_x','tracker_2017_y','tracker_2018_x',\\\n",
    "'tracker_2018_y','tracker_2019_x','tracker_2019_y','tracker_2020_x','tracker_2020_y','tracker_2021_x','tracker_2021_y']\n",
    "df_merge_all[namelist].to_csv(\"merge_all_who.csv\",index = None)\n",
    "\n",
    "df_merge_all.head()\n"
   ]
  },
  {
   "cell_type": "code",
   "execution_count": 13,
   "metadata": {},
   "outputs": [
    {
     "name": "stdout",
     "output_type": "stream",
     "text": [
      "17975\n",
      "17975\n",
      "17975\n"
     ]
    }
   ],
   "source": [
    "print(len(df_merge_all['edu_domain'].unique()))\n",
    "print(len(df_merge_all['control_domain'].unique()))\n",
    "print(len(df_merge_all))"
   ]
  },
  {
   "cell_type": "code",
   "execution_count": 13,
   "metadata": {},
   "outputs": [],
   "source": [
    "# df_merge_all = df_merge_all.astype({'edu_url_index_x': 'int32', \"control_url_index_x\": \"int32\"})\n",
    "# df_merge_all.head()\n",
    "# df_merge_all.to_csv(\"temp.csv\")"
   ]
  },
  {
   "attachments": {},
   "cell_type": "markdown",
   "metadata": {},
   "source": [
    "# analyse what happens to 2017 year\n"
   ]
  },
  {
   "cell_type": "code",
   "execution_count": 14,
   "metadata": {},
   "outputs": [],
   "source": [
    "from sklearn.model_selection import train_test_split\n",
    "import numpy as np \n",
    "df_merge_all[\"2017_gap\"] = df_merge_all['tracker_2017_x'] - df_merge_all['tracker_2017_y']\n",
    "df_merge_all[\"2017_gap\"].describe()\n",
    "# df_merge_all[df_merge_all['2017_gap'] == 129]\n",
    "# df_merge_all = df_merge_all.drop(1971)\n",
    "df_merge_all = df_merge_all.sample(frac=1)\n",
    "test1 = df_merge_all[:int(len(df_merge_all) * 0.25)]\n",
    "test2 = df_merge_all[int(len(df_merge_all) * 0.25):int(len(df_merge_all) * 0.50)]\n",
    "test3 = df_merge_all[int(len(df_merge_all) * 0.50):int(len(df_merge_all) * 0.75)]\n",
    "test4 = df_merge_all[int(len(df_merge_all) * 0.75):]\n",
    "\n"
   ]
  },
  {
   "cell_type": "code",
   "execution_count": 15,
   "metadata": {},
   "outputs": [
    {
     "data": {
      "text/plain": [
       "WilcoxonResult(statistic=3325381.5, pvalue=0.019948439267828764)"
      ]
     },
     "execution_count": 15,
     "metadata": {},
     "output_type": "execute_result"
    }
   ],
   "source": [
    "stats.wilcoxon(test1['tracker_2017_x'], test1['tracker_2017_y'])\n",
    "stats.wilcoxon(test2['tracker_2017_x'], test2['tracker_2017_y'])\n",
    "stats.wilcoxon(test3['tracker_2017_x'], test3['tracker_2017_y'])\n",
    "stats.wilcoxon(test4['tracker_2017_x'], test4['tracker_2017_y'])"
   ]
  },
  {
   "cell_type": "code",
   "execution_count": 16,
   "metadata": {},
   "outputs": [
    {
     "name": "stdout",
     "output_type": "stream",
     "text": [
      "0 WilcoxonResult(statistic=151191.0, pvalue=0.023943629940420694)\n",
      "1000 WilcoxonResult(statistic=161997.0, pvalue=0.023807804522717222)\n",
      "2000 WilcoxonResult(statistic=169657.5, pvalue=0.6856314272729773)\n",
      "3000 WilcoxonResult(statistic=171333.0, pvalue=0.22159441005505476)\n",
      "4000 WilcoxonResult(statistic=164291.5, pvalue=0.05272799793050578)\n",
      "5000 WilcoxonResult(statistic=157832.0, pvalue=0.05020983161359525)\n",
      "6000 WilcoxonResult(statistic=158426.0, pvalue=0.12681527656691138)\n",
      "7000 WilcoxonResult(statistic=171299.5, pvalue=0.6000593758541464)\n",
      "8000 WilcoxonResult(statistic=165378.5, pvalue=0.3031896029340395)\n",
      "9000 WilcoxonResult(statistic=168445.5, pvalue=0.16099687955711783)\n",
      "10000 WilcoxonResult(statistic=162311.5, pvalue=0.5144803076108093)\n",
      "11000 WilcoxonResult(statistic=162941.5, pvalue=0.618994714230384)\n",
      "12000 WilcoxonResult(statistic=164425.0, pvalue=0.3822833201586022)\n"
     ]
    }
   ],
   "source": [
    "\n",
    "for i in range(0,13000,1000):\n",
    "    print(i,stats.wilcoxon(df_merge_all[\"tracker_2016_x\"][i:i + 1000], df_merge_all['tracker_2016_y'][i:i + 1000]))"
   ]
  },
  {
   "cell_type": "code",
   "execution_count": 17,
   "metadata": {},
   "outputs": [
    {
     "data": {
      "text/plain": [
       "count    17975.000000\n",
       "mean        -0.193880\n",
       "std          2.933836\n",
       "min        -18.000000\n",
       "25%         -2.000000\n",
       "50%          0.000000\n",
       "75%          2.000000\n",
       "max         13.000000\n",
       "Name: 2016_gap, dtype: float64"
      ]
     },
     "execution_count": 17,
     "metadata": {},
     "output_type": "execute_result"
    }
   ],
   "source": [
    "# df_merge_all = df_merge_all.drop(4989)\n",
    "\n",
    "df_merge_all[\"2016_gap\"] = df_merge_all['tracker_2016_x'] - df_merge_all['tracker_2016_y']\n",
    "df_merge_all[\"2016_gap\"].describe()\n"
   ]
  },
  {
   "cell_type": "code",
   "execution_count": 18,
   "metadata": {},
   "outputs": [
    {
     "data": {
      "text/plain": [
       "count    17975.000000\n",
       "mean        -0.193880\n",
       "std          2.933836\n",
       "min        -18.000000\n",
       "25%         -2.000000\n",
       "50%          0.000000\n",
       "75%          2.000000\n",
       "max         13.000000\n",
       "Name: 2016_gap, dtype: float64"
      ]
     },
     "execution_count": 18,
     "metadata": {},
     "output_type": "execute_result"
    }
   ],
   "source": [
    "df_merge_all[\"2016_gap\"].describe()"
   ]
  },
  {
   "cell_type": "code",
   "execution_count": 19,
   "metadata": {},
   "outputs": [],
   "source": [
    "# print(df_merge_all[df_merge_all['2017_gap'] > 10])\n",
    "# df_merge_all_remove = df_merge_all[df_merge_all['2017_gap'] >= 10]\n",
    "# print(len(df_merge_all_remove))\n",
    "# df_merge_all = df_merge_all[df_merge_all['2017_gap'] < 10]\n",
    "# df_merge_all_remove.to_csv(\"remove_all.csv\",index = None)\n",
    "# temp = pd.read_csv(\"../dataset_archive/edu_archive_ali_all_2017.csv\")\n",
    "# temp[temp.url.isin(df_merge_all['edu_domain'])].to_csv(\"temp.csv\")"
   ]
  },
  {
   "cell_type": "code",
   "execution_count": 19,
   "metadata": {},
   "outputs": [
    {
     "data": {
      "text/plain": [
       "count    17975.000000\n",
       "mean        -0.092907\n",
       "std          2.997429\n",
       "min        -20.000000\n",
       "25%         -2.000000\n",
       "50%          0.000000\n",
       "75%          2.000000\n",
       "max         15.000000\n",
       "Name: 2017_gap, dtype: float64"
      ]
     },
     "execution_count": 19,
     "metadata": {},
     "output_type": "execute_result"
    }
   ],
   "source": [
    "df_merge_all[\"2017_gap\"] = df_merge_all['tracker_2017_x'] - df_merge_all['tracker_2017_y']\n",
    "df_merge_all[\"2017_gap\"].describe()"
   ]
  },
  {
   "cell_type": "code",
   "execution_count": 20,
   "metadata": {},
   "outputs": [
    {
     "data": {
      "text/plain": [
       "count    17975.000000\n",
       "mean        -0.193880\n",
       "std          2.933836\n",
       "min        -18.000000\n",
       "25%         -2.000000\n",
       "50%          0.000000\n",
       "75%          2.000000\n",
       "max         13.000000\n",
       "Name: 2016_gap, dtype: float64"
      ]
     },
     "execution_count": 20,
     "metadata": {},
     "output_type": "execute_result"
    }
   ],
   "source": [
    "\n",
    "df_merge_all[\"2016_gap\"] = df_merge_all['tracker_2016_x'] - df_merge_all['tracker_2016_y']\n",
    "df_merge_all[\"2016_gap\"].describe()\n"
   ]
  },
  {
   "attachments": {},
   "cell_type": "markdown",
   "metadata": {},
   "source": [
    "# Calculate WS-rank "
   ]
  },
  {
   "cell_type": "code",
   "execution_count": 21,
   "metadata": {},
   "outputs": [
    {
     "name": "stdout",
     "output_type": "stream",
     "text": [
      "-19.66\n",
      "-15.6\n",
      "-14.32\n",
      "-10.95\n",
      "-6.52\n",
      "-1.84\n",
      "-4.33\n",
      "-8.59\n",
      "-9.21\n",
      "-11.45\n"
     ]
    }
   ],
   "source": [
    "stat = []\n",
    "p_value = []\n",
    "z_value = []\n",
    "import scipy \n",
    "\n",
    "for year in range(2012,2022):\n",
    "    \n",
    "    result = stats.wilcoxon(df_merge_all[f'tracker_{year}_x'], df_merge_all[f'tracker_{year}_y'],method=\"approx\")\n",
    "    # z = abs(scipy.stats.norm.ppf(result.pvalue/2))\n",
    "    print(round(result.zstatistic, 2))\n",
    "    z_value.append(round(result.zstatistic, 2))\n",
    "    stat.append(result.statistic)\n",
    "    p_value.append(float(\"%.2g\" % result.pvalue))"
   ]
  },
  {
   "cell_type": "code",
   "execution_count": 22,
   "metadata": {},
   "outputs": [
    {
     "name": "stdout",
     "output_type": "stream",
     "text": [
      "[5.2e-86, 6.8e-55, 1.6e-46, 6.7e-28, 7.1e-11, 0.066, 1.5e-05, 8.7e-18, 3.2e-20, 2.3e-30]\n"
     ]
    },
    {
     "data": {
      "image/png": "[encoded data removed]",
      "text/plain": [
       "<Figure size 432x288 with 1 Axes>"
      ]
     },
     "metadata": {
      "needs_background": "light"
     },
     "output_type": "display_data"
    }
   ],
   "source": [
    "print(p_value)\n",
    "years = list(range(2012,2022))\n",
    "df_result = pd.DataFrame({\"year\": years, \"statistic\": stat, \"pvalue\": p_value,\"zvalue\": z_value})\n",
    "df_result[['year','statistic','pvalue','zvalue']].to_csv(\"p_values_ws.csv\",index = None)\n",
    "plt.plot(df_result['year'],df_result['pvalue'],marker='o',label = \"pvalue\", linestyle=':',linewidth = 2)\n",
    "# plt.plot(df_result['year'],df_result['statistic'],marker='o',label = \"statistic\", linestyle=':',linewidth = 2,color = \"red\")\n",
    "plt.axhline(y = 0.05, color = 'green', linestyle = ':')\n",
    "plt.legend()\n",
    "plt.savefig(\"../images/section4/WS_test_who.png\",dpi = 200)\n",
    "# plt.savefig(\"../images/section4/WS_test_all.png\",dpi = 200)"
   ]
  },
  {
   "attachments": {},
   "cell_type": "markdown",
   "metadata": {},
   "source": [
    "# draw figure"
   ]
  },
  {
   "cell_type": "code",
   "execution_count": 23,
   "metadata": {},
   "outputs": [
    {
     "name": "stderr",
     "output_type": "stream",
     "text": [
      "/tmp/ipykernel_3601324/101805713.py:4: SettingWithCopyWarning: \n",
      "A value is trying to be set on a copy of a slice from a DataFrame.\n",
      "Try using .loc[row_indexer,col_indexer] = value instead\n",
      "\n",
      "See the caveats in the documentation: https://pandas.pydata.org/pandas-docs/stable/user_guide/indexing.html#returning-a-view-versus-a-copy\n",
      "  df_year[\"year\"] = [str(year)]*len(df_year)\n",
      "/tmp/ipykernel_3601324/101805713.py:4: SettingWithCopyWarning: \n",
      "A value is trying to be set on a copy of a slice from a DataFrame.\n",
      "Try using .loc[row_indexer,col_indexer] = value instead\n",
      "\n",
      "See the caveats in the documentation: https://pandas.pydata.org/pandas-docs/stable/user_guide/indexing.html#returning-a-view-versus-a-copy\n",
      "  df_year[\"year\"] = [str(year)]*len(df_year)\n",
      "/tmp/ipykernel_3601324/101805713.py:4: SettingWithCopyWarning: \n",
      "A value is trying to be set on a copy of a slice from a DataFrame.\n",
      "Try using .loc[row_indexer,col_indexer] = value instead\n",
      "\n",
      "See the caveats in the documentation: https://pandas.pydata.org/pandas-docs/stable/user_guide/indexing.html#returning-a-view-versus-a-copy\n",
      "  df_year[\"year\"] = [str(year)]*len(df_year)\n",
      "/tmp/ipykernel_3601324/101805713.py:4: SettingWithCopyWarning: \n",
      "A value is trying to be set on a copy of a slice from a DataFrame.\n",
      "Try using .loc[row_indexer,col_indexer] = value instead\n",
      "\n",
      "See the caveats in the documentation: https://pandas.pydata.org/pandas-docs/stable/user_guide/indexing.html#returning-a-view-versus-a-copy\n",
      "  df_year[\"year\"] = [str(year)]*len(df_year)\n",
      "/tmp/ipykernel_3601324/101805713.py:4: SettingWithCopyWarning: \n",
      "A value is trying to be set on a copy of a slice from a DataFrame.\n",
      "Try using .loc[row_indexer,col_indexer] = value instead\n",
      "\n",
      "See the caveats in the documentation: https://pandas.pydata.org/pandas-docs/stable/user_guide/indexing.html#returning-a-view-versus-a-copy\n",
      "  df_year[\"year\"] = [str(year)]*len(df_year)\n",
      "/tmp/ipykernel_3601324/101805713.py:4: SettingWithCopyWarning: \n",
      "A value is trying to be set on a copy of a slice from a DataFrame.\n",
      "Try using .loc[row_indexer,col_indexer] = value instead\n",
      "\n",
      "See the caveats in the documentation: https://pandas.pydata.org/pandas-docs/stable/user_guide/indexing.html#returning-a-view-versus-a-copy\n",
      "  df_year[\"year\"] = [str(year)]*len(df_year)\n",
      "/tmp/ipykernel_3601324/101805713.py:4: SettingWithCopyWarning: \n",
      "A value is trying to be set on a copy of a slice from a DataFrame.\n",
      "Try using .loc[row_indexer,col_indexer] = value instead\n",
      "\n",
      "See the caveats in the documentation: https://pandas.pydata.org/pandas-docs/stable/user_guide/indexing.html#returning-a-view-versus-a-copy\n",
      "  df_year[\"year\"] = [str(year)]*len(df_year)\n",
      "/tmp/ipykernel_3601324/101805713.py:4: SettingWithCopyWarning: \n",
      "A value is trying to be set on a copy of a slice from a DataFrame.\n",
      "Try using .loc[row_indexer,col_indexer] = value instead\n",
      "\n",
      "See the caveats in the documentation: https://pandas.pydata.org/pandas-docs/stable/user_guide/indexing.html#returning-a-view-versus-a-copy\n",
      "  df_year[\"year\"] = [str(year)]*len(df_year)\n",
      "/tmp/ipykernel_3601324/101805713.py:4: SettingWithCopyWarning: \n",
      "A value is trying to be set on a copy of a slice from a DataFrame.\n",
      "Try using .loc[row_indexer,col_indexer] = value instead\n",
      "\n",
      "See the caveats in the documentation: https://pandas.pydata.org/pandas-docs/stable/user_guide/indexing.html#returning-a-view-versus-a-copy\n",
      "  df_year[\"year\"] = [str(year)]*len(df_year)\n",
      "/tmp/ipykernel_3601324/101805713.py:4: SettingWithCopyWarning: \n",
      "A value is trying to be set on a copy of a slice from a DataFrame.\n",
      "Try using .loc[row_indexer,col_indexer] = value instead\n",
      "\n",
      "See the caveats in the documentation: https://pandas.pydata.org/pandas-docs/stable/user_guide/indexing.html#returning-a-view-versus-a-copy\n",
      "  df_year[\"year\"] = [str(year)]*len(df_year)\n"
     ]
    },
    {
     "data": {
      "text/html": [
       "<div>\n",
       "<style scoped>\n",
       "    .dataframe tbody tr th:only-of-type {\n",
       "        vertical-align: middle;\n",
       "    }\n",
       "\n",
       "    .dataframe tbody tr th {\n",
       "        vertical-align: top;\n",
       "    }\n",
       "\n",
       "    .dataframe thead th {\n",
       "        text-align: right;\n",
       "    }\n",
       "</style>\n",
       "<table border=\"1\" class=\"dataframe\">\n",
       "  <thead>\n",
       "    <tr style=\"text-align: right;\">\n",
       "      <th></th>\n",
       "      <th>edu_domain</th>\n",
       "      <th>trackers</th>\n",
       "      <th>year</th>\n",
       "    </tr>\n",
       "  </thead>\n",
       "  <tbody>\n",
       "    <tr>\n",
       "      <th>11991</th>\n",
       "      <td>ceiich.unam.mx</td>\n",
       "      <td>1</td>\n",
       "      <td>2012</td>\n",
       "    </tr>\n",
       "    <tr>\n",
       "      <th>16906</th>\n",
       "      <td>ftschool.org</td>\n",
       "      <td>0</td>\n",
       "      <td>2012</td>\n",
       "    </tr>\n",
       "    <tr>\n",
       "      <th>3045</th>\n",
       "      <td>pcdazero.it</td>\n",
       "      <td>3</td>\n",
       "      <td>2012</td>\n",
       "    </tr>\n",
       "    <tr>\n",
       "      <th>17838</th>\n",
       "      <td>musikurlaub.com</td>\n",
       "      <td>1</td>\n",
       "      <td>2012</td>\n",
       "    </tr>\n",
       "    <tr>\n",
       "      <th>11115</th>\n",
       "      <td>stiwl.de</td>\n",
       "      <td>0</td>\n",
       "      <td>2012</td>\n",
       "    </tr>\n",
       "    <tr>\n",
       "      <th>...</th>\n",
       "      <td>...</td>\n",
       "      <td>...</td>\n",
       "      <td>...</td>\n",
       "    </tr>\n",
       "    <tr>\n",
       "      <th>6721</th>\n",
       "      <td>wcniradio.org</td>\n",
       "      <td>3</td>\n",
       "      <td>2021</td>\n",
       "    </tr>\n",
       "    <tr>\n",
       "      <th>6364</th>\n",
       "      <td>ringwoodsc.vic.edu.au</td>\n",
       "      <td>5</td>\n",
       "      <td>2021</td>\n",
       "    </tr>\n",
       "    <tr>\n",
       "      <th>9936</th>\n",
       "      <td>history.rice.edu</td>\n",
       "      <td>5</td>\n",
       "      <td>2021</td>\n",
       "    </tr>\n",
       "    <tr>\n",
       "      <th>11870</th>\n",
       "      <td>21.edu.ar</td>\n",
       "      <td>4</td>\n",
       "      <td>2021</td>\n",
       "    </tr>\n",
       "    <tr>\n",
       "      <th>5371</th>\n",
       "      <td>cnahes.org</td>\n",
       "      <td>3</td>\n",
       "      <td>2021</td>\n",
       "    </tr>\n",
       "  </tbody>\n",
       "</table>\n",
       "<p>179750 rows × 3 columns</p>\n",
       "</div>"
      ],
      "text/plain": [
       "                  edu_domain  trackers  year\n",
       "11991         ceiich.unam.mx         1  2012\n",
       "16906           ftschool.org         0  2012\n",
       "3045             pcdazero.it         3  2012\n",
       "17838        musikurlaub.com         1  2012\n",
       "11115               stiwl.de         0  2012\n",
       "...                      ...       ...   ...\n",
       "6721           wcniradio.org         3  2021\n",
       "6364   ringwoodsc.vic.edu.au         5  2021\n",
       "9936        history.rice.edu         5  2021\n",
       "11870              21.edu.ar         4  2021\n",
       "5371              cnahes.org         3  2021\n",
       "\n",
       "[179750 rows x 3 columns]"
      ]
     },
     "execution_count": 23,
     "metadata": {},
     "output_type": "execute_result"
    }
   ],
   "source": [
    "df_list = []\n",
    "for year in range(2012,2022):\n",
    "    df_year = df_merge_all[['edu_domain',f'tracker_{year}_x']]\n",
    "    df_year[\"year\"] = [str(year)]*len(df_year)\n",
    "    df_year.columns = ['edu_domain',\"trackers\",\"year\"]\n",
    "    df_list.append(df_year)\n",
    "\n",
    "df_draw = pd.concat(df_list)\n",
    "# df_2013\n",
    "df_draw"
   ]
  },
  {
   "cell_type": "code",
   "execution_count": 24,
   "metadata": {},
   "outputs": [
    {
     "data": {
      "image/png": "[encoded data removed]",
      "text/plain": [
       "<Figure size 2600x2000 with 1 Axes>"
      ]
     },
     "metadata": {
      "needs_background": "light"
     },
     "output_type": "display_data"
    }
   ],
   "source": [
    "# Import Data\n",
    "import seaborn  as sns\n",
    "\n",
    "# Draw Plot\n",
    "plt.figure(figsize=(13,10), dpi= 200)\n",
    "plt.rc('xtick', labelsize=25)    # fontsize of the tick labels\n",
    "plt.rc('ytick', labelsize=25)    # fontsize of the tick labels\n",
    "g1 = sns.boxplot(x='year', y='trackers', data=df_draw, notch=False)\n",
    "g1.set(xlabel = None)\n",
    "g1.set(ylabel = None)\n",
    "# Add N Obs inside boxplot (optional)\n",
    "def add_n_obs(df,group_col,y):\n",
    "    medians_dict = {grp[0]:grp[1][y].median() for grp in df.groupby(group_col)}\n",
    "    print(medians_dict)\n",
    "    xticklabels = [x.get_text() for x in plt.gca().get_xticklabels()]\n",
    "    n_obs = df.groupby(group_col)[y].size().values\n",
    "    for (x, xticklabel), n_ob in zip(enumerate(xticklabels), n_obs):\n",
    "        plt.text(x, medians_dict[xticklabel]*1.01, \"#median : \"+str(medians_dict[xticklabel]), horizontalalignment='center', fontdict={'size':8}, color='white')\n",
    "# add_n_obs(df_draw,group_col='year',y='trackers')    \n",
    "\n",
    "# Decoration\n",
    "# plt.title('Box Plot of Tracker Numbers in Each year', fontsize=22)\n",
    "# plt.ylim(10, 40)\n",
    "plt.savefig(\"../images/section4/boxplot_edu.png\",dpi = 600)\n",
    "plt.show()\n"
   ]
  },
  {
   "cell_type": "code",
   "execution_count": 25,
   "metadata": {},
   "outputs": [
    {
     "name": "stderr",
     "output_type": "stream",
     "text": [
      "/tmp/ipykernel_3601324/1471902089.py:4: SettingWithCopyWarning: \n",
      "A value is trying to be set on a copy of a slice from a DataFrame.\n",
      "Try using .loc[row_indexer,col_indexer] = value instead\n",
      "\n",
      "See the caveats in the documentation: https://pandas.pydata.org/pandas-docs/stable/user_guide/indexing.html#returning-a-view-versus-a-copy\n",
      "  df_year[\"year\"] = [str(year)]*len(df_year)\n",
      "/tmp/ipykernel_3601324/1471902089.py:4: SettingWithCopyWarning: \n",
      "A value is trying to be set on a copy of a slice from a DataFrame.\n",
      "Try using .loc[row_indexer,col_indexer] = value instead\n",
      "\n",
      "See the caveats in the documentation: https://pandas.pydata.org/pandas-docs/stable/user_guide/indexing.html#returning-a-view-versus-a-copy\n",
      "  df_year[\"year\"] = [str(year)]*len(df_year)\n",
      "/tmp/ipykernel_3601324/1471902089.py:4: SettingWithCopyWarning: \n",
      "A value is trying to be set on a copy of a slice from a DataFrame.\n",
      "Try using .loc[row_indexer,col_indexer] = value instead\n",
      "\n",
      "See the caveats in the documentation: https://pandas.pydata.org/pandas-docs/stable/user_guide/indexing.html#returning-a-view-versus-a-copy\n",
      "  df_year[\"year\"] = [str(year)]*len(df_year)\n",
      "/tmp/ipykernel_3601324/1471902089.py:4: SettingWithCopyWarning: \n",
      "A value is trying to be set on a copy of a slice from a DataFrame.\n",
      "Try using .loc[row_indexer,col_indexer] = value instead\n",
      "\n",
      "See the caveats in the documentation: https://pandas.pydata.org/pandas-docs/stable/user_guide/indexing.html#returning-a-view-versus-a-copy\n",
      "  df_year[\"year\"] = [str(year)]*len(df_year)\n",
      "/tmp/ipykernel_3601324/1471902089.py:4: SettingWithCopyWarning: \n",
      "A value is trying to be set on a copy of a slice from a DataFrame.\n",
      "Try using .loc[row_indexer,col_indexer] = value instead\n",
      "\n",
      "See the caveats in the documentation: https://pandas.pydata.org/pandas-docs/stable/user_guide/indexing.html#returning-a-view-versus-a-copy\n",
      "  df_year[\"year\"] = [str(year)]*len(df_year)\n",
      "/tmp/ipykernel_3601324/1471902089.py:4: SettingWithCopyWarning: \n",
      "A value is trying to be set on a copy of a slice from a DataFrame.\n",
      "Try using .loc[row_indexer,col_indexer] = value instead\n",
      "\n",
      "See the caveats in the documentation: https://pandas.pydata.org/pandas-docs/stable/user_guide/indexing.html#returning-a-view-versus-a-copy\n",
      "  df_year[\"year\"] = [str(year)]*len(df_year)\n",
      "/tmp/ipykernel_3601324/1471902089.py:4: SettingWithCopyWarning: \n",
      "A value is trying to be set on a copy of a slice from a DataFrame.\n",
      "Try using .loc[row_indexer,col_indexer] = value instead\n",
      "\n",
      "See the caveats in the documentation: https://pandas.pydata.org/pandas-docs/stable/user_guide/indexing.html#returning-a-view-versus-a-copy\n",
      "  df_year[\"year\"] = [str(year)]*len(df_year)\n",
      "/tmp/ipykernel_3601324/1471902089.py:4: SettingWithCopyWarning: \n",
      "A value is trying to be set on a copy of a slice from a DataFrame.\n",
      "Try using .loc[row_indexer,col_indexer] = value instead\n",
      "\n",
      "See the caveats in the documentation: https://pandas.pydata.org/pandas-docs/stable/user_guide/indexing.html#returning-a-view-versus-a-copy\n",
      "  df_year[\"year\"] = [str(year)]*len(df_year)\n",
      "/tmp/ipykernel_3601324/1471902089.py:4: SettingWithCopyWarning: \n",
      "A value is trying to be set on a copy of a slice from a DataFrame.\n",
      "Try using .loc[row_indexer,col_indexer] = value instead\n",
      "\n",
      "See the caveats in the documentation: https://pandas.pydata.org/pandas-docs/stable/user_guide/indexing.html#returning-a-view-versus-a-copy\n",
      "  df_year[\"year\"] = [str(year)]*len(df_year)\n",
      "/tmp/ipykernel_3601324/1471902089.py:4: SettingWithCopyWarning: \n",
      "A value is trying to be set on a copy of a slice from a DataFrame.\n",
      "Try using .loc[row_indexer,col_indexer] = value instead\n",
      "\n",
      "See the caveats in the documentation: https://pandas.pydata.org/pandas-docs/stable/user_guide/indexing.html#returning-a-view-versus-a-copy\n",
      "  df_year[\"year\"] = [str(year)]*len(df_year)\n"
     ]
    },
    {
     "data": {
      "text/html": [
       "<div>\n",
       "<style scoped>\n",
       "    .dataframe tbody tr th:only-of-type {\n",
       "        vertical-align: middle;\n",
       "    }\n",
       "\n",
       "    .dataframe tbody tr th {\n",
       "        vertical-align: top;\n",
       "    }\n",
       "\n",
       "    .dataframe thead th {\n",
       "        text-align: right;\n",
       "    }\n",
       "</style>\n",
       "<table border=\"1\" class=\"dataframe\">\n",
       "  <thead>\n",
       "    <tr style=\"text-align: right;\">\n",
       "      <th></th>\n",
       "      <th>control_domain</th>\n",
       "      <th>trackers</th>\n",
       "      <th>year</th>\n",
       "    </tr>\n",
       "  </thead>\n",
       "  <tbody>\n",
       "    <tr>\n",
       "      <th>11991</th>\n",
       "      <td>azymuth.net</td>\n",
       "      <td>2</td>\n",
       "      <td>2012</td>\n",
       "    </tr>\n",
       "    <tr>\n",
       "      <th>16906</th>\n",
       "      <td>brasserieblazer.nl</td>\n",
       "      <td>0</td>\n",
       "      <td>2012</td>\n",
       "    </tr>\n",
       "    <tr>\n",
       "      <th>3045</th>\n",
       "      <td>starcanada.techwell.com</td>\n",
       "      <td>2</td>\n",
       "      <td>2012</td>\n",
       "    </tr>\n",
       "    <tr>\n",
       "      <th>17838</th>\n",
       "      <td>pariscapitaledelacreation.com</td>\n",
       "      <td>0</td>\n",
       "      <td>2012</td>\n",
       "    </tr>\n",
       "    <tr>\n",
       "      <th>11115</th>\n",
       "      <td>savourandsave.com</td>\n",
       "      <td>6</td>\n",
       "      <td>2012</td>\n",
       "    </tr>\n",
       "    <tr>\n",
       "      <th>...</th>\n",
       "      <td>...</td>\n",
       "      <td>...</td>\n",
       "      <td>...</td>\n",
       "    </tr>\n",
       "    <tr>\n",
       "      <th>6721</th>\n",
       "      <td>librairie-voyage.com</td>\n",
       "      <td>2</td>\n",
       "      <td>2021</td>\n",
       "    </tr>\n",
       "    <tr>\n",
       "      <th>6364</th>\n",
       "      <td>silentcinema.com</td>\n",
       "      <td>0</td>\n",
       "      <td>2021</td>\n",
       "    </tr>\n",
       "    <tr>\n",
       "      <th>9936</th>\n",
       "      <td>histmed.org</td>\n",
       "      <td>2</td>\n",
       "      <td>2021</td>\n",
       "    </tr>\n",
       "    <tr>\n",
       "      <th>11870</th>\n",
       "      <td>bff.fm</td>\n",
       "      <td>1</td>\n",
       "      <td>2021</td>\n",
       "    </tr>\n",
       "    <tr>\n",
       "      <th>5371</th>\n",
       "      <td>lib.usfeu.ru</td>\n",
       "      <td>7</td>\n",
       "      <td>2021</td>\n",
       "    </tr>\n",
       "  </tbody>\n",
       "</table>\n",
       "<p>179750 rows × 3 columns</p>\n",
       "</div>"
      ],
      "text/plain": [
       "                      control_domain  trackers  year\n",
       "11991                    azymuth.net         2  2012\n",
       "16906             brasserieblazer.nl         0  2012\n",
       "3045         starcanada.techwell.com         2  2012\n",
       "17838  pariscapitaledelacreation.com         0  2012\n",
       "11115              savourandsave.com         6  2012\n",
       "...                              ...       ...   ...\n",
       "6721            librairie-voyage.com         2  2021\n",
       "6364                silentcinema.com         0  2021\n",
       "9936                     histmed.org         2  2021\n",
       "11870                         bff.fm         1  2021\n",
       "5371                    lib.usfeu.ru         7  2021\n",
       "\n",
       "[179750 rows x 3 columns]"
      ]
     },
     "execution_count": 25,
     "metadata": {},
     "output_type": "execute_result"
    }
   ],
   "source": [
    "df_list_control = []\n",
    "for year in range(2012,2022):\n",
    "    df_year = df_merge_all[['control_domain',f'tracker_{year}_y']]\n",
    "    df_year[\"year\"] = [str(year)]*len(df_year)\n",
    "    df_year.columns = ['control_domain',\"trackers\",\"year\"]\n",
    "    df_list_control.append(df_year)\n",
    "\n",
    "df_draw_control = pd.concat(df_list_control)\n",
    "# df_2013\n",
    "df_draw_control"
   ]
  },
  {
   "cell_type": "code",
   "execution_count": 26,
   "metadata": {},
   "outputs": [
    {
     "data": {
      "image/png": "[encoded data removed]",
      "text/plain": [
       "<Figure size 2600x2000 with 1 Axes>"
      ]
     },
     "metadata": {
      "needs_background": "light"
     },
     "output_type": "display_data"
    }
   ],
   "source": [
    "plt.figure(figsize=(13,10), dpi= 200)\n",
    "plt.rc('xtick', labelsize=25)    # fontsize of the tick labels\n",
    "plt.rc('ytick', labelsize=25)    # fontsize of the tick labels\n",
    "g2 = sns.boxplot(x='year', y='trackers', data=df_draw_control, notch=False)\n",
    "g2.set(xlabel = None)\n",
    "g2.set(ylabel = None)\n",
    "# add_n_obs(df_draw_control,group_col='year',y='trackers')    \n",
    "\n",
    "# Decoration\n",
    "# plt.title('Box Plot of Tracker Numbers in Each year', fontsize=22)\n",
    "# plt.ylim(10, 40)\n",
    "plt.savefig(\"../images/section4/boxplot_control.png\",dpi = 600)\n",
    "plt.show()"
   ]
  },
  {
   "cell_type": "code",
   "execution_count": 28,
   "metadata": {},
   "outputs": [
    {
     "data": {
      "text/plain": [
       "Text(0, 0.5, 'Average number of trackers')"
      ]
     },
     "execution_count": 28,
     "metadata": {},
     "output_type": "execute_result"
    },
    {
     "data": {
      "image/png": "[encoded data removed]",
      "text/plain": [
       "<Figure size 432x288 with 1 Axes>"
      ]
     },
     "metadata": {
      "needs_background": "light"
     },
     "output_type": "display_data"
    }
   ],
   "source": [
    "mean_score = [item['trackers'].mean() for item in df_list_control]\n",
    "\n",
    "# df_draw_control['trackers']\n",
    "Year = list(range(2012,2022))\n",
    "\n",
    "\n",
    "plt.plot(Year, mean_score, color='blue', marker='+',label = \"non-edu\")\n",
    "plt.yticks(np.arange(0, 2.8, step=0.3))\n",
    "# plt.title('Average number of trackers', fontsize=14)\n",
    "# plt.xlabel('Year', fontsize=14)\n",
    "plt.ylabel('Average number of trackers', fontsize=14)\n",
    "# plt.axvline(x = 2018, color = 'green', linestyle = ':')"
   ]
  },
  {
   "cell_type": "code",
   "execution_count": null,
   "metadata": {},
   "outputs": [],
   "source": []
  }
 ],
 "metadata": {
  "kernelspec": {
   "display_name": "Python 3.9.5 ('base')",
   "language": "python",
   "name": "python3"
  },
  "language_info": {
   "codemirror_mode": {
    "name": "ipython",
    "version": 3
   },
   "file_extension": ".py",
   "mimetype": "text/x-python",
   "name": "python",
   "nbconvert_exporter": "python",
   "pygments_lexer": "ipython3",
   "version": "3.9.5"
  },
  "orig_nbformat": 4,
  "vscode": {
   "interpreter": {
    "hash": "d8ed0073c41b023cdd22b6268c6b3f0c9b6d97a6234cf243afa672a36c79f6c6"
   }
  }
 },
 "nbformat": 4,
 "nbformat_minor": 2
}
