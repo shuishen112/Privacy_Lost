{
 "cells": [
  {
   "cell_type": "code",
   "execution_count": 2,
   "metadata": {},
   "outputs": [
    {
     "data": {
      "text/plain": [
       "'baidu'"
      ]
     },
     "execution_count": 2,
     "metadata": {},
     "output_type": "execute_result"
    }
   ],
   "source": [
    "import pandas as pd \n",
    "import tldextract\n",
    "\n",
    "df = pd.read_csv(\"../resource/whotracksme_trackers.txt\",names = ['tracker_registered_domain'])\n",
    "tldextract.extract(\"www.baidu.com\").domain"
   ]
  },
  {
   "cell_type": "code",
   "execution_count": 3,
   "metadata": {},
   "outputs": [
    {
     "data": {
      "text/html": [
       "<div>\n",
       "<style scoped>\n",
       "    .dataframe tbody tr th:only-of-type {\n",
       "        vertical-align: middle;\n",
       "    }\n",
       "\n",
       "    .dataframe tbody tr th {\n",
       "        vertical-align: top;\n",
       "    }\n",
       "\n",
       "    .dataframe thead th {\n",
       "        text-align: right;\n",
       "    }\n",
       "</style>\n",
       "<table border=\"1\" class=\"dataframe\">\n",
       "  <thead>\n",
       "    <tr style=\"text-align: right;\">\n",
       "      <th></th>\n",
       "      <th>tracker_registered_domain</th>\n",
       "      <th>domain</th>\n",
       "    </tr>\n",
       "  </thead>\n",
       "  <tbody>\n",
       "    <tr>\n",
       "      <th>0</th>\n",
       "      <td>dtym7iokkjlif.cloudfront.net</td>\n",
       "      <td>cloudfront</td>\n",
       "    </tr>\n",
       "    <tr>\n",
       "      <th>1</th>\n",
       "      <td>shareaholic.com</td>\n",
       "      <td>shareaholic</td>\n",
       "    </tr>\n",
       "    <tr>\n",
       "      <th>2</th>\n",
       "      <td>33across.com</td>\n",
       "      <td>33across</td>\n",
       "    </tr>\n",
       "    <tr>\n",
       "      <th>3</th>\n",
       "      <td>accesstrade.net</td>\n",
       "      <td>accesstrade</td>\n",
       "    </tr>\n",
       "    <tr>\n",
       "      <th>4</th>\n",
       "      <td>scupio.com</td>\n",
       "      <td>scupio</td>\n",
       "    </tr>\n",
       "    <tr>\n",
       "      <th>...</th>\n",
       "      <td>...</td>\n",
       "      <td>...</td>\n",
       "    </tr>\n",
       "    <tr>\n",
       "      <th>1280</th>\n",
       "      <td>y-track.com</td>\n",
       "      <td>y-track</td>\n",
       "    </tr>\n",
       "    <tr>\n",
       "      <th>1281</th>\n",
       "      <td>zalan.do</td>\n",
       "      <td>zalan</td>\n",
       "    </tr>\n",
       "    <tr>\n",
       "      <th>1282</th>\n",
       "      <td>zalando.de</td>\n",
       "      <td>zalando</td>\n",
       "    </tr>\n",
       "    <tr>\n",
       "      <th>1283</th>\n",
       "      <td>zencdn.net</td>\n",
       "      <td>zencdn</td>\n",
       "    </tr>\n",
       "    <tr>\n",
       "      <th>1284</th>\n",
       "      <td>ztat.net</td>\n",
       "      <td>ztat</td>\n",
       "    </tr>\n",
       "  </tbody>\n",
       "</table>\n",
       "<p>1285 rows × 2 columns</p>\n",
       "</div>"
      ],
      "text/plain": [
       "         tracker_registered_domain       domain\n",
       "0     dtym7iokkjlif.cloudfront.net   cloudfront\n",
       "1                  shareaholic.com  shareaholic\n",
       "2                     33across.com     33across\n",
       "3                  accesstrade.net  accesstrade\n",
       "4                       scupio.com       scupio\n",
       "...                            ...          ...\n",
       "1280                   y-track.com      y-track\n",
       "1281                      zalan.do        zalan\n",
       "1282                    zalando.de      zalando\n",
       "1283                    zencdn.net       zencdn\n",
       "1284                      ztat.net         ztat\n",
       "\n",
       "[1285 rows x 2 columns]"
      ]
     },
     "execution_count": 3,
     "metadata": {},
     "output_type": "execute_result"
    }
   ],
   "source": [
    "def get_domain(row):\n",
    "    return tldextract.extract(row['tracker_registered_domain']).domain\n",
    "df['domain'] = df.apply(get_domain,axis = 1)\n",
    "df"
   ]
  },
  {
   "cell_type": "code",
   "execution_count": 4,
   "metadata": {},
   "outputs": [
    {
     "data": {
      "text/plain": [
       "1091"
      ]
     },
     "execution_count": 4,
     "metadata": {},
     "output_type": "execute_result"
    }
   ],
   "source": [
    "len(df['domain'].unique())"
   ]
  },
  {
   "cell_type": "code",
   "execution_count": 5,
   "metadata": {},
   "outputs": [],
   "source": [
    "df_trackers_edu = pd.read_csv(\"../dataset_archive/df_rate_merge_edu_whoexclude.csv\")\n",
    "df_trackers_control = pd.read_csv(\"../dataset_archive/df_rate_merge_base_whoexclude.csv\")"
   ]
  },
  {
   "cell_type": "code",
   "execution_count": 6,
   "metadata": {},
   "outputs": [],
   "source": [
    "from matplotlib_venn import venn2, venn2_circles\n",
    "import matplotlib.pyplot as plt"
   ]
  },
  {
   "cell_type": "code",
   "execution_count": 7,
   "metadata": {},
   "outputs": [
    {
     "data": {
      "image/png": "[encoded data removed]",
      "text/plain": [
       "<Figure size 432x288 with 1 Axes>"
      ]
     },
     "metadata": {},
     "output_type": "display_data"
    }
   ],
   "source": [
    "year = 2012\n",
    "edu_trackers = set(df_trackers_edu[df_trackers_edu[str(year)].notna()]['trackers'].to_list())\n",
    "control_trackers = set(df_trackers_control[df_trackers_control[str(year)].notna()]['trackers'].to_list())\n",
    "venn2([edu_trackers, control_trackers],set_labels =('edu','non-edu'),alpha=0.75)\n",
    "venn2_circles([edu_trackers, control_trackers],lw = 0.7)\n",
    "plt.axis(True)\n",
    "plt.savefig(\"../images/unique_trackers/2012_interaction.png\",dpi = 200)\n",
    "plt.show()\n"
   ]
  },
  {
   "cell_type": "code",
   "execution_count": 8,
   "metadata": {},
   "outputs": [
    {
     "data": {
      "image/png": "[encoded data removed]",
      "text/plain": [
       "<Figure size 432x288 with 1 Axes>"
      ]
     },
     "metadata": {},
     "output_type": "display_data"
    }
   ],
   "source": [
    "year = 2021\n",
    "edu_trackers = set(df_trackers_edu[df_trackers_edu[str(year)].notna()]['trackers'].to_list())\n",
    "control_trackers = set(df_trackers_control[df_trackers_control[str(year)].notna()]['trackers'].to_list())\n",
    "venn2([edu_trackers, control_trackers],set_colors=('#3E64AF', '#3EAF5D'),set_labels =('edu','non-edu'),alpha=0.75)\n",
    "venn2_circles([edu_trackers, control_trackers],lw = 0.2)\n",
    "# plt.axis(True)\n",
    "plt.savefig(\"../images/unique_trackers/2021_interaction.png\",dpi = 200)\n",
    "plt.show()"
   ]
  },
  {
   "cell_type": "code",
   "execution_count": 9,
   "metadata": {},
   "outputs": [
    {
     "data": {
      "text/plain": [
       "191"
      ]
     },
     "execution_count": 9,
     "metadata": {},
     "output_type": "execute_result"
    }
   ],
   "source": [
    "len(edu_trackers.union(control_trackers))"
   ]
  },
  {
   "cell_type": "markdown",
   "metadata": {},
   "source": [
    "## What uniques trakcesr in educational websites"
   ]
  },
  {
   "cell_type": "code",
   "execution_count": 10,
   "metadata": {},
   "outputs": [
    {
     "name": "stdout",
     "output_type": "stream",
     "text": [
      "2012\n",
      "special trackers in educational websites {'hitbox', 'luxup', 'mlstatic'}\n",
      "2013\n",
      "special trackers in educational websites {'mlstatic', 'nedstat', 'qksz'}\n",
      "2014\n",
      "special trackers in educational websites {'hitbox', 'nedstat', 'qksz'}\n",
      "2015\n",
      "special trackers in educational websites {'hitbox', 'tkqlhce', 'mixmarket', 'nedstat'}\n",
      "2016\n",
      "special trackers in educational websites {'hitbox', 'mlstatic', 'mixmarket', 'nedstat'}\n",
      "2017\n",
      "special trackers in educational websites {'pantherssl', 'hitbox', 'iperceptions', 'nedstat'}\n",
      "2018\n",
      "special trackers in educational websites {'nedstat', 'iperceptions', 'mlstatic', 'llnwd', 'pantherssl', 'hitbox'}\n",
      "2019\n",
      "special trackers in educational websites {'nedstat', 'mlstatic', 'plista', 'llnwd', 'hitbox'}\n",
      "2020\n",
      "special trackers in educational websites {'hitbox', 'casalemedia', 'mlstatic', 'nedstat'}\n",
      "2021\n",
      "special trackers in educational websites {'nedstat', 'list-manage', 'casalemedia', 'mlstatic', 'hitbox'}\n"
     ]
    }
   ],
   "source": [
    "list_special_trackers = []\n",
    "\n",
    "for year in range(2012,2022):\n",
    "    print(year)\n",
    "    edu_trackers = set(df_trackers_edu[df_trackers_edu[str(year)].notna()]['trackers'].to_list())\n",
    "    control_trackers = set(df_trackers_control[df_trackers_control[str(year)].notna()]['trackers'].to_list())\n",
    "    print(\"special trackers in educational websites\",edu_trackers - control_trackers)\n",
    "    list_special_trackers.extend(list(edu_trackers - control_trackers))\n",
    "    # print(\"special trackers in non-educational websites\",control_trackers - edu_trackers)"
   ]
  },
  {
   "cell_type": "code",
   "execution_count": 16,
   "metadata": {},
   "outputs": [
    {
     "data": {
      "text/plain": [
       "[('hitbox', 9),\n",
       " ('nedstat', 9),\n",
       " ('mlstatic', 7),\n",
       " ('qksz', 2),\n",
       " ('mixmarket', 2),\n",
       " ('pantherssl', 2),\n",
       " ('iperceptions', 2),\n",
       " ('llnwd', 2),\n",
       " ('casalemedia', 2),\n",
       " ('luxup', 1),\n",
       " ('tkqlhce', 1),\n",
       " ('plista', 1),\n",
       " ('list-manage', 1)]"
      ]
     },
     "execution_count": 16,
     "metadata": {},
     "output_type": "execute_result"
    }
   ],
   "source": [
    "from collections import Counter\n",
    "tracker_count = Counter(list_special_trackers)\n",
    "tracker_count.most_common()"
   ]
  },
  {
   "cell_type": "code",
   "execution_count": 12,
   "metadata": {},
   "outputs": [
    {
     "data": {
      "text/html": [
       "<div>\n",
       "<style scoped>\n",
       "    .dataframe tbody tr th:only-of-type {\n",
       "        vertical-align: middle;\n",
       "    }\n",
       "\n",
       "    .dataframe tbody tr th {\n",
       "        vertical-align: top;\n",
       "    }\n",
       "\n",
       "    .dataframe thead th {\n",
       "        text-align: right;\n",
       "    }\n",
       "</style>\n",
       "<table border=\"1\" class=\"dataframe\">\n",
       "  <thead>\n",
       "    <tr style=\"text-align: right;\">\n",
       "      <th></th>\n",
       "      <th>trackers</th>\n",
       "      <th>2012</th>\n",
       "      <th>2013</th>\n",
       "      <th>2014</th>\n",
       "      <th>2015</th>\n",
       "      <th>2016</th>\n",
       "      <th>2017</th>\n",
       "      <th>2018</th>\n",
       "      <th>2019</th>\n",
       "      <th>2020</th>\n",
       "      <th>2021</th>\n",
       "    </tr>\n",
       "  </thead>\n",
       "  <tbody>\n",
       "    <tr>\n",
       "      <th>73</th>\n",
       "      <td>pantherssl</td>\n",
       "      <td>0.000723</td>\n",
       "      <td>0.000612</td>\n",
       "      <td>0.000389</td>\n",
       "      <td>0.000334</td>\n",
       "      <td>0.000167</td>\n",
       "      <td>0.000167</td>\n",
       "      <td>0.000056</td>\n",
       "      <td>NaN</td>\n",
       "      <td>NaN</td>\n",
       "      <td>NaN</td>\n",
       "    </tr>\n",
       "    <tr>\n",
       "      <th>87</th>\n",
       "      <td>casalemedia</td>\n",
       "      <td>0.000501</td>\n",
       "      <td>0.000668</td>\n",
       "      <td>0.000111</td>\n",
       "      <td>0.000056</td>\n",
       "      <td>NaN</td>\n",
       "      <td>NaN</td>\n",
       "      <td>NaN</td>\n",
       "      <td>0.000056</td>\n",
       "      <td>0.000056</td>\n",
       "      <td>0.000056</td>\n",
       "    </tr>\n",
       "    <tr>\n",
       "      <th>92</th>\n",
       "      <td>iperceptions</td>\n",
       "      <td>0.000445</td>\n",
       "      <td>0.000445</td>\n",
       "      <td>0.000501</td>\n",
       "      <td>0.000501</td>\n",
       "      <td>0.000111</td>\n",
       "      <td>0.000111</td>\n",
       "      <td>0.000111</td>\n",
       "      <td>NaN</td>\n",
       "      <td>NaN</td>\n",
       "      <td>NaN</td>\n",
       "    </tr>\n",
       "    <tr>\n",
       "      <th>134</th>\n",
       "      <td>hitbox</td>\n",
       "      <td>0.000167</td>\n",
       "      <td>0.000056</td>\n",
       "      <td>0.000056</td>\n",
       "      <td>0.000056</td>\n",
       "      <td>0.000056</td>\n",
       "      <td>0.000056</td>\n",
       "      <td>0.000056</td>\n",
       "      <td>0.000056</td>\n",
       "      <td>0.000056</td>\n",
       "      <td>0.000056</td>\n",
       "    </tr>\n",
       "    <tr>\n",
       "      <th>142</th>\n",
       "      <td>qksz</td>\n",
       "      <td>0.000167</td>\n",
       "      <td>0.000167</td>\n",
       "      <td>0.000111</td>\n",
       "      <td>NaN</td>\n",
       "      <td>NaN</td>\n",
       "      <td>NaN</td>\n",
       "      <td>NaN</td>\n",
       "      <td>NaN</td>\n",
       "      <td>NaN</td>\n",
       "      <td>NaN</td>\n",
       "    </tr>\n",
       "    <tr>\n",
       "      <th>148</th>\n",
       "      <td>nedstat</td>\n",
       "      <td>0.000111</td>\n",
       "      <td>0.000167</td>\n",
       "      <td>0.000056</td>\n",
       "      <td>0.000056</td>\n",
       "      <td>0.000056</td>\n",
       "      <td>0.000056</td>\n",
       "      <td>0.000056</td>\n",
       "      <td>0.000056</td>\n",
       "      <td>0.000056</td>\n",
       "      <td>0.000056</td>\n",
       "    </tr>\n",
       "    <tr>\n",
       "      <th>156</th>\n",
       "      <td>llnwd</td>\n",
       "      <td>0.000056</td>\n",
       "      <td>0.000056</td>\n",
       "      <td>NaN</td>\n",
       "      <td>0.000111</td>\n",
       "      <td>0.000056</td>\n",
       "      <td>NaN</td>\n",
       "      <td>0.000056</td>\n",
       "      <td>0.000056</td>\n",
       "      <td>NaN</td>\n",
       "      <td>NaN</td>\n",
       "    </tr>\n",
       "    <tr>\n",
       "      <th>160</th>\n",
       "      <td>mlstatic</td>\n",
       "      <td>0.000056</td>\n",
       "      <td>0.000056</td>\n",
       "      <td>NaN</td>\n",
       "      <td>NaN</td>\n",
       "      <td>0.000056</td>\n",
       "      <td>NaN</td>\n",
       "      <td>0.000056</td>\n",
       "      <td>0.000056</td>\n",
       "      <td>0.000056</td>\n",
       "      <td>0.000056</td>\n",
       "    </tr>\n",
       "    <tr>\n",
       "      <th>162</th>\n",
       "      <td>mixmarket</td>\n",
       "      <td>0.000056</td>\n",
       "      <td>0.000056</td>\n",
       "      <td>0.000056</td>\n",
       "      <td>0.000056</td>\n",
       "      <td>0.000056</td>\n",
       "      <td>NaN</td>\n",
       "      <td>NaN</td>\n",
       "      <td>NaN</td>\n",
       "      <td>NaN</td>\n",
       "      <td>NaN</td>\n",
       "    </tr>\n",
       "    <tr>\n",
       "      <th>169</th>\n",
       "      <td>luxup</td>\n",
       "      <td>0.000056</td>\n",
       "      <td>0.000056</td>\n",
       "      <td>NaN</td>\n",
       "      <td>NaN</td>\n",
       "      <td>NaN</td>\n",
       "      <td>NaN</td>\n",
       "      <td>NaN</td>\n",
       "      <td>NaN</td>\n",
       "      <td>NaN</td>\n",
       "      <td>NaN</td>\n",
       "    </tr>\n",
       "    <tr>\n",
       "      <th>175</th>\n",
       "      <td>list-manage</td>\n",
       "      <td>NaN</td>\n",
       "      <td>0.000056</td>\n",
       "      <td>0.000056</td>\n",
       "      <td>0.000111</td>\n",
       "      <td>0.000056</td>\n",
       "      <td>0.000056</td>\n",
       "      <td>0.000111</td>\n",
       "      <td>0.000111</td>\n",
       "      <td>0.000111</td>\n",
       "      <td>0.000111</td>\n",
       "    </tr>\n",
       "    <tr>\n",
       "      <th>184</th>\n",
       "      <td>tkqlhce</td>\n",
       "      <td>NaN</td>\n",
       "      <td>NaN</td>\n",
       "      <td>NaN</td>\n",
       "      <td>0.000056</td>\n",
       "      <td>NaN</td>\n",
       "      <td>NaN</td>\n",
       "      <td>NaN</td>\n",
       "      <td>NaN</td>\n",
       "      <td>NaN</td>\n",
       "      <td>NaN</td>\n",
       "    </tr>\n",
       "    <tr>\n",
       "      <th>196</th>\n",
       "      <td>plista</td>\n",
       "      <td>NaN</td>\n",
       "      <td>NaN</td>\n",
       "      <td>NaN</td>\n",
       "      <td>NaN</td>\n",
       "      <td>NaN</td>\n",
       "      <td>NaN</td>\n",
       "      <td>NaN</td>\n",
       "      <td>0.000056</td>\n",
       "      <td>NaN</td>\n",
       "      <td>NaN</td>\n",
       "    </tr>\n",
       "  </tbody>\n",
       "</table>\n",
       "</div>"
      ],
      "text/plain": [
       "         trackers      2012      2013      2014      2015      2016      2017  \\\n",
       "73     pantherssl  0.000723  0.000612  0.000389  0.000334  0.000167  0.000167   \n",
       "87    casalemedia  0.000501  0.000668  0.000111  0.000056       NaN       NaN   \n",
       "92   iperceptions  0.000445  0.000445  0.000501  0.000501  0.000111  0.000111   \n",
       "134        hitbox  0.000167  0.000056  0.000056  0.000056  0.000056  0.000056   \n",
       "142          qksz  0.000167  0.000167  0.000111       NaN       NaN       NaN   \n",
       "148       nedstat  0.000111  0.000167  0.000056  0.000056  0.000056  0.000056   \n",
       "156         llnwd  0.000056  0.000056       NaN  0.000111  0.000056       NaN   \n",
       "160      mlstatic  0.000056  0.000056       NaN       NaN  0.000056       NaN   \n",
       "162     mixmarket  0.000056  0.000056  0.000056  0.000056  0.000056       NaN   \n",
       "169         luxup  0.000056  0.000056       NaN       NaN       NaN       NaN   \n",
       "175   list-manage       NaN  0.000056  0.000056  0.000111  0.000056  0.000056   \n",
       "184       tkqlhce       NaN       NaN       NaN  0.000056       NaN       NaN   \n",
       "196        plista       NaN       NaN       NaN       NaN       NaN       NaN   \n",
       "\n",
       "         2018      2019      2020      2021  \n",
       "73   0.000056       NaN       NaN       NaN  \n",
       "87        NaN  0.000056  0.000056  0.000056  \n",
       "92   0.000111       NaN       NaN       NaN  \n",
       "134  0.000056  0.000056  0.000056  0.000056  \n",
       "142       NaN       NaN       NaN       NaN  \n",
       "148  0.000056  0.000056  0.000056  0.000056  \n",
       "156  0.000056  0.000056       NaN       NaN  \n",
       "160  0.000056  0.000056  0.000056  0.000056  \n",
       "162       NaN       NaN       NaN       NaN  \n",
       "169       NaN       NaN       NaN       NaN  \n",
       "175  0.000111  0.000111  0.000111  0.000111  \n",
       "184       NaN       NaN       NaN       NaN  \n",
       "196       NaN  0.000056       NaN       NaN  "
      ]
     },
     "execution_count": 12,
     "metadata": {},
     "output_type": "execute_result"
    }
   ],
   "source": [
    "df_heat_map = df_trackers_edu[df_trackers_edu['trackers'].isin(list_special_trackers)]\n",
    "df_heat_map"
   ]
  },
  {
   "cell_type": "code",
   "execution_count": 13,
   "metadata": {},
   "outputs": [],
   "source": [
    "import matplotlib\n",
    "import matplotlib.pyplot as plt\n",
    "def heatmap(data, row_labels, col_labels, ax=None,\n",
    "            cbar_kw={}, cbarlabel=\"\", **kwargs):\n",
    "    \"\"\"\n",
    "    Create a heatmap from a numpy array and two lists of labels.\n",
    "\n",
    "    Parameters\n",
    "    ----------\n",
    "    data\n",
    "        A 2D numpy array of shape (M, N).\n",
    "    row_labels\n",
    "        A list or array of length M with the labels for the rows.\n",
    "    col_labels\n",
    "        A list or array of length N with the labels for the columns.\n",
    "    ax\n",
    "        A `matplotlib.axes.Axes` instance to which the heatmap is plotted.  If\n",
    "        not provided, use current axes or create a new one.  Optional.\n",
    "    cbar_kw\n",
    "        A dictionary with arguments to `matplotlib.Figure.colorbar`.  Optional.\n",
    "    cbarlabel\n",
    "        The label for the colorbar.  Optional.\n",
    "    **kwargs\n",
    "        All other arguments are forwarded to `imshow`.\n",
    "    \"\"\"\n",
    "\n",
    "    if not ax:\n",
    "        ax = plt.gca()\n",
    "\n",
    "    # Plot the heatmap\n",
    "    im = ax.imshow(data, **kwargs)\n",
    "\n",
    "    # Create colorbar\n",
    "    cbar = ax.figure.colorbar(im, ax=ax, **cbar_kw)\n",
    "    cbar.ax.set_ylabel(cbarlabel, rotation=-90, va=\"bottom\")\n",
    "\n",
    "    # Show all ticks and label them with the respective list entries.\n",
    "    ax.set_xticks(np.arange(data.shape[1]), labels=col_labels)\n",
    "    ax.set_yticks(np.arange(data.shape[0]), labels=row_labels)\n",
    "\n",
    "    # Let the horizontal axes labeling appear on top.\n",
    "    ax.tick_params(top=True, bottom=False,\n",
    "                   labeltop=True, labelbottom=False)\n",
    "\n",
    "    # Rotate the tick labels and set their alignment.\n",
    "    plt.setp(ax.get_xticklabels(), rotation=-30, ha=\"right\",\n",
    "             rotation_mode=\"anchor\")\n",
    "\n",
    "    # Turn spines off and create white grid.\n",
    "    ax.spines[:].set_visible(False)\n",
    "\n",
    "    ax.set_xticks(np.arange(data.shape[1]+1)-.5, minor=True)\n",
    "    ax.set_yticks(np.arange(data.shape[0]+1)-.5, minor=True)\n",
    "    ax.grid(which=\"minor\", color=\"w\", linestyle='-', linewidth=3)\n",
    "    ax.tick_params(which=\"minor\", bottom=False, left=False)\n",
    "\n",
    "    return im, cbar\n",
    "\n",
    "\n",
    "def annotate_heatmap(im, data=None, valfmt=\"{x:.2f}\",\n",
    "                     textcolors=(\"black\", \"white\"),\n",
    "                     threshold=None, **textkw):\n",
    "    \"\"\"\n",
    "    A function to annotate a heatmap.\n",
    "\n",
    "    Parameters\n",
    "    ----------\n",
    "    im\n",
    "        The AxesImage to be labeled.\n",
    "    data\n",
    "        Data used to annotate.  If None, the image's data is used.  Optional.\n",
    "    valfmt\n",
    "        The format of the annotations inside the heatmap.  This should either\n",
    "        use the string format method, e.g. \"$ {x:.2f}\", or be a\n",
    "        `matplotlib.ticker.Formatter`.  Optional.\n",
    "    textcolors\n",
    "        A pair of colors.  The first is used for values below a threshold,\n",
    "        the second for those above.  Optional.\n",
    "    threshold\n",
    "        Value in data units according to which the colors from textcolors are\n",
    "        applied.  If None (the default) uses the middle of the colormap as\n",
    "        separation.  Optional.\n",
    "    **kwargs\n",
    "        All other arguments are forwarded to each call to `text` used to create\n",
    "        the text labels.\n",
    "    \"\"\"\n",
    "\n",
    "    if not isinstance(data, (list, np.ndarray)):\n",
    "        data = im.get_array()\n",
    "\n",
    "    # Normalize the threshold to the images color range.\n",
    "    if threshold is not None:\n",
    "        threshold = im.norm(threshold)\n",
    "    else:\n",
    "        threshold = im.norm(data.max())/2.\n",
    "\n",
    "    # Set default alignment to center, but allow it to be\n",
    "    # overwritten by textkw.\n",
    "    kw = dict(horizontalalignment=\"center\",\n",
    "              verticalalignment=\"center\")\n",
    "    kw.update(textkw)\n",
    "\n",
    "    # Get the formatter in case a string is supplied\n",
    "    if isinstance(valfmt, str):\n",
    "        valfmt = matplotlib.ticker.StrMethodFormatter(valfmt)\n",
    "\n",
    "    # Loop over the data and create a `Text` for each \"pixel\".\n",
    "    # Change the text's color depending on the data.\n",
    "    texts = []\n",
    "    for i in range(data.shape[0]):\n",
    "        for j in range(data.shape[1]):\n",
    "            kw.update(color=textcolors[int(im.norm(data[i, j]) > threshold)])\n",
    "            text = im.axes.text(j, i, valfmt(data[i, j], None), **kw)\n",
    "            texts.append(text)\n",
    "\n",
    "    return texts"
   ]
  },
  {
   "cell_type": "code",
   "execution_count": 14,
   "metadata": {},
   "outputs": [
    {
     "data": {
      "text/plain": [
       "array([[1., 1., 1., 1., 1., 1., 1., 0., 0., 0.],\n",
       "       [1., 1., 1., 1., 0., 0., 0., 1., 1., 1.],\n",
       "       [1., 1., 1., 1., 1., 1., 1., 0., 0., 0.],\n",
       "       [1., 1., 1., 1., 1., 1., 1., 1., 1., 1.],\n",
       "       [1., 1., 1., 0., 0., 0., 0., 0., 0., 0.],\n",
       "       [1., 1., 1., 1., 1., 1., 1., 1., 1., 1.],\n",
       "       [1., 1., 0., 1., 1., 0., 1., 1., 0., 0.],\n",
       "       [1., 1., 0., 0., 1., 0., 1., 1., 1., 1.],\n",
       "       [1., 1., 1., 1., 1., 0., 0., 0., 0., 0.],\n",
       "       [1., 1., 0., 0., 0., 0., 0., 0., 0., 0.],\n",
       "       [0., 1., 1., 1., 1., 1., 1., 1., 1., 1.],\n",
       "       [0., 0., 0., 1., 0., 0., 0., 0., 0., 0.],\n",
       "       [0., 0., 0., 0., 0., 0., 0., 1., 0., 0.]])"
      ]
     },
     "execution_count": 14,
     "metadata": {},
     "output_type": "execute_result"
    }
   ],
   "source": [
    "import numpy as np \n",
    "# vegetables = [\"cucumber\", \"tomato\", \"lettuce\", \"asparagus\",\n",
    "#               \"potato\", \"wheat\", \"barley\"]\n",
    "# farmers = [\"Farmer Joe\", \"Upland Bros.\", \"Smith Gardening\",\n",
    "#            \"Agrifun\", \"Organiculture\", \"BioGoods Ltd.\", \"Cornylee Corp.\"]\n",
    "\n",
    "# harvest = np.array([[0.8, 2.4, 2.5, 3.9, 0.0, 4.0, 0.0],\n",
    "#                     [2.4, 0.0, 4.0, 1.0, 2.7, 0.0, 0.0],\n",
    "#                     [1.1, 2.4, 0.8, 4.3, 1.9, 4.4, 0.0],\n",
    "#                     [0.6, 0.0, 0.3, 0.0, 3.1, 0.0, 0.0],\n",
    "#                     [0.7, 1.7, 0.6, 2.6, 2.2, 6.2, 0.0],\n",
    "#                     [1.3, 1.2, 0.0, 0.0, 0.0, 3.2, 5.1],\n",
    "#                     [0.1, 2.0, 0.0, 1.4, 0.0, 1.9, 6.3]])\n",
    "trackers_names = df_heat_map['trackers'].to_list()\n",
    "years = list(map(str,list(range(2012,2022))))\n",
    "occurance = df_heat_map[years].notna().astype(float)\n",
    "occurance.values"
   ]
  },
  {
   "cell_type": "code",
   "execution_count": 15,
   "metadata": {},
   "outputs": [
    {
     "data": {
      "image/png": "[encoded data removed]",
      "text/plain": [
       "<Figure size 432x288 with 2 Axes>"
      ]
     },
     "metadata": {
      "needs_background": "light"
     },
     "output_type": "display_data"
    }
   ],
   "source": [
    "fig, ax = plt.subplots()\n",
    "\n",
    "im, cbar = heatmap(occurance, trackers_names, years, ax=ax,\n",
    "                   cmap=\"YlGn\", cbarlabel=None)\n",
    "# texts = annotate_heatmap(im, valfmt=\"{x:.1f} t\")\n",
    "\n",
    "fig.tight_layout()\n",
    "# plt.xlabel('years')\n",
    "plt.ylabel('special trackers in educational websites ')\n",
    "plt.savefig(\"../images/unique_trackers/heatmap.png\",dpi = 200)"
   ]
  },
  {
   "cell_type": "code",
   "execution_count": null,
   "metadata": {},
   "outputs": [],
   "source": []
  }
 ],
 "metadata": {
  "kernelspec": {
   "display_name": "Python 3.9.5 ('base')",
   "language": "python",
   "name": "python3"
  },
  "language_info": {
   "codemirror_mode": {
    "name": "ipython",
    "version": 3
   },
   "file_extension": ".py",
   "mimetype": "text/x-python",
   "name": "python",
   "nbconvert_exporter": "python",
   "pygments_lexer": "ipython3",
   "version": "3.9.5"
  },
  "orig_nbformat": 4,
  "vscode": {
   "interpreter": {
    "hash": "d8ed0073c41b023cdd22b6268c6b3f0c9b6d97a6234cf243afa672a36c79f6c6"
   }
  }
 },
 "nbformat": 4,
 "nbformat_minor": 2
}
