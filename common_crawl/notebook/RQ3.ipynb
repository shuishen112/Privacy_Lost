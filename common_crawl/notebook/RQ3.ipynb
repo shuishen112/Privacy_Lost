{
    "cells": [
        {
            "cell_type": "code",
            "execution_count": 1,
            "source": [
                "import pandas as pd \n",
                "\n",
                "import glob \n",
                "\n",
                "def frame_construct(time):\n",
                "\n",
                "    filenames = glob.glob('global_file_list_alexa_{}/*.csv'.format(time))\n",
                "    li = []\n",
                "    for filename in filenames:\n",
                "        df = pd.read_csv(filename,index_col=None,header = 0)\n",
                "        li.append(df)\n",
                "\n",
                "    frame = pd.concat(li,axis = 0,ignore_index=True)\n",
                "    return frame\n",
                "\n",
                "frame_202105 = frame_construct(\"202105\")\n",
                "frame_202105['tracker_list'] = frame_202105.trackers.str.split(',')\n"
            ],
            "outputs": [
                {
                    "output_type": "stream",
                    "name": "stderr",
                    "text": [
                        "/Users/zhansu/anaconda3/lib/python3.7/site-packages/pandas/compat/_optional.py:138: UserWarning: Pandas requires version '2.7.0' or newer of 'numexpr' (version '2.6.9' currently installed).\n",
                        "  warnings.warn(msg, UserWarning)\n"
                    ]
                }
            ],
            "metadata": {}
        },
        {
            "cell_type": "code",
            "execution_count": 2,
            "source": [
                "# 第三库标识\n",
                "\n",
                "import numpy as np\n",
                "df_domain_third_party = pd.read_csv(\"labeled-thirdparties.csv\",sep = '\\t', names = ['domain','registration_org','registration_country','num_embeddings','num_embeddings_javascript','num_embeddings_iframe','num_embeddings_image','num_embeddings_link','category','company'])\n",
                "\n",
                "df_domain = pd.read_csv(\"trackers_domain.csv\")\n",
                "\n",
                "df_domain = df_domain.merge(df_domain_third_party,how = \"left\",on = \"domain\")[['domain',\"registration_country\",\"category\"]]\n",
                "print(df_domain.head())\n",
                "\n",
                "from collections import Counter\n",
                "trackers = df_domain['domain'].to_list()\n",
                "\n",
                "# 计算glocality\n",
                "\n",
                "def trackers_count(trackers,web_list):\n",
                "    trackers_count_dict = Counter()\n",
                "    try:\n",
                "        for t in trackers:\n",
                "            for e,l in enumerate(web_list):\n",
                "                if t in l:\n",
                "                    if t in trackers_count_dict:\n",
                "                        trackers_count_dict[t] += 1\n",
                "                    else:\n",
                "                        trackers_count_dict[t] = 1\n",
                "    except Exception as e:\n",
                "        print(e)\n",
                "    return trackers_count_dict\n",
                "\n",
                "def get_trackers_count(frame):\n",
                "    \"\"\"\n",
                "    获得每个frame中trackers的字典\n",
                "        :param frame: \n",
                "    \"\"\"\n",
                "    frame['trackers_list'] = frame['trackers'].str.split(',')\n",
                "\n",
                "    trackers_count_dict = trackers_count(trackers, frame['trackers_list'])\n",
                "\n",
                "    return trackers_count_dict\n",
                "# 获得世界级别的tracker count\n",
                "\n",
                "def get_glocality(frame):\n",
                "    tracker_count = get_trackers_count(frame)\n",
                "    def glocality_cal(l, tracker_count):\n",
                "        T_w = len(l) # set of\n",
                "        idf_sim = sum([1 / (tracker_count[t]) for t in l])\n",
                "        return 1 / T_w * idf_sim\n",
                "    def glocality_index_cal(frame):\n",
                "        value = []\n",
                "        for _,row in frame.iterrows():\n",
                "            url = row['url']\n",
                "            trackers_list = row['tracker_list']\n",
                "            v = glocality_cal(trackers_list, tracker_count)\n",
                "            value.append(v)\n",
                "        return np.mean(value)\n",
                "\n",
                "    return glocality_index_cal(frame)\n",
                "\n"
            ],
            "outputs": [
                {
                    "output_type": "stream",
                    "name": "stdout",
                    "text": [
                        "               domain registration_country   category\n",
                        "0  123contactform.com                   RO     Widget\n",
                        "1             2o7.net                   US  Analytics\n",
                        "2           4stats.de                    #     Beacon\n",
                        "3               4u.pl                    #  Analytics\n",
                        "4               51.la                   CN  Analytics\n"
                    ]
                }
            ],
            "metadata": {}
        },
        {
            "cell_type": "markdown",
            "source": [
                "## 获得每个国家的domain list\n",
                "\n",
                "获得国家的domain list之后我们重新计算每个国家的glocality"
            ],
            "metadata": {}
        },
        {
            "cell_type": "code",
            "execution_count": 3,
            "source": [
                "filename = glob.glob(\"/Users/zhansu/program/code/phd_privacy_lost/webXray/page_lists/*.txt\")\n",
                "\n",
                "countries = []\n",
                "glocalities = []\n",
                "for file in filename:\n",
                "    country_code = file.split(\"/\")[-1].split(\".\")[0].split('_')[-1]\n",
                "    web_list = open(file).read().split(\"\\n\")\n",
                "    web_list = list(map(lambda x:x.split(\"//\")[-1],web_list))\n",
                "    # print(web_list)\n",
                "    frame = frame_202105[frame_202105['url'].isin(web_list)]\n",
                "    if len(frame) > 0:\n",
                "        countries.append(country_code)\n",
                "        glocalities.append(get_glocality(frame))\n",
                "\n",
                "df_glocality = pd.DataFrame({\"country\":countries,\"glocality\":glocalities})\n",
                "df_glocality.columns = ['alpha_2',\"glocality\"]\n",
                "print(df_glocality.sort_values(by = ['glocality'],ascending =False))\n",
                "    # print(web_list)"
            ],
            "outputs": [
                {
                    "output_type": "stream",
                    "name": "stderr",
                    "text": [
                        "/Users/zhansu/anaconda3/lib/python3.7/site-packages/pandas/core/frame.py:3607: SettingWithCopyWarning: \n",
                        "A value is trying to be set on a copy of a slice from a DataFrame.\n",
                        "Try using .loc[row_indexer,col_indexer] = value instead\n",
                        "\n",
                        "See the caveats in the documentation: https://pandas.pydata.org/pandas-docs/stable/user_guide/indexing.html#returning-a-view-versus-a-copy\n",
                        "  self._set_item(key, value)\n"
                    ]
                },
                {
                    "output_type": "stream",
                    "name": "stdout",
                    "text": [
                        "   alpha_2  glocality\n",
                        "14      RW   0.073052\n",
                        "85      BR   0.072118\n",
                        "84      BS   0.065000\n",
                        "3       KR   0.064534\n",
                        "78      ZW   0.062742\n",
                        "..     ...        ...\n",
                        "82      NP   0.029388\n",
                        "93      KZ   0.024174\n",
                        "9       GR   0.023896\n",
                        "26      RU   0.022735\n",
                        "51      BY   0.022433\n",
                        "\n",
                        "[116 rows x 2 columns]\n"
                    ]
                }
            ],
            "metadata": {}
        },
        {
            "cell_type": "code",
            "execution_count": 4,
            "source": [
                "import pycountry\n",
                "\n",
                "def get_three_iso_alpha(row):\n",
                "    a2 = row['alpha_2']\n",
                "    c = pycountry.countries.get(alpha_2 = a2.upper())\n",
                "    return c.alpha_3\n",
                "\n",
                "def get_name(row):\n",
                "    a2 = row['alpha_2']\n",
                "    c = pycountry.countries.get(alpha_2 = a2.upper())\n",
                "    return c.name\n",
                "# print(len(pycountry.countries))\n",
                "\n",
                "df_glocality['alpha_3'] = df_glocality.apply(get_three_iso_alpha,axis = 1)\n",
                "df_glocality['name'] = df_glocality.apply(get_name,axis = 1)\n",
                "df_glocality = df_glocality.sort_values(by = ['glocality'],ascending=False)\n",
                "print(df_glocality.head())\n",
                "df_glocality.to_csv(\"glocality_country.csv\",index = None)\n"
            ],
            "outputs": [
                {
                    "output_type": "stream",
                    "name": "stdout",
                    "text": [
                        "   alpha_2  glocality alpha_3                name\n",
                        "14      RW   0.073052     RWA              Rwanda\n",
                        "85      BR   0.072118     BRA              Brazil\n",
                        "84      BS   0.065000     BHS             Bahamas\n",
                        "3       KR   0.064534     KOR  Korea, Republic of\n",
                        "78      ZW   0.062742     ZWE            Zimbabwe\n"
                    ]
                }
            ],
            "metadata": {}
        },
        {
            "cell_type": "code",
            "execution_count": 5,
            "source": [
                "import pandas as pd\n",
                "df_iii = pd.read_csv(\"iii_world.csv\")\n",
                "\n",
                "df_merge = df_iii.merge(df_glocality, how = \"inner\", on  = \"alpha_2\")\n",
                "df_merge.to_csv(\"glocality_country_merge.csv\",index=None)"
            ],
            "outputs": [],
            "metadata": {}
        },
        {
            "cell_type": "code",
            "execution_count": 8,
            "source": [
                "import plotly.express as px\n",
                "\n",
                "fig = px.line(x = df_merge['rank'],y = df_merge['score'])\n",
                "\n",
                "fig.show()\n",
                "\n",
                "fig_2 = px.line(x = df_merge['rank'],y = df_merge['glocality'])\n",
                "\n",
                "fig_2.show()"
            ],
            "outputs": [
                {
                    "output_type": "display_data",
                    "data": {
                        "application/vnd.plotly.v1+json": {
                            "config": {
                                "plotlyServerURL": "https://plot.ly"
                            },
                            "data": [
                                {
                                    "hovertemplate": "x=%{x}<br>y=%{y}<extra></extra>",
                                    "legendgroup": "",
                                    "line": {
                                        "color": "#636efa",
                                        "dash": "solid"
                                    },
                                    "marker": {
                                        "symbol": "circle"
                                    },
                                    "mode": "lines",
                                    "name": "",
                                    "orientation": "v",
                                    "showlegend": false,
                                    "type": "scatter",
                                    "x": [
                                        1,
                                        2,
                                        3,
                                        4,
                                        5,
                                        6,
                                        7,
                                        8,
                                        9,
                                        10,
                                        11,
                                        12,
                                        14,
                                        15,
                                        16,
                                        17,
                                        18,
                                        20,
                                        22,
                                        23,
                                        24,
                                        25,
                                        26,
                                        27,
                                        28,
                                        29,
                                        30,
                                        31,
                                        32,
                                        33,
                                        34,
                                        36,
                                        37,
                                        37,
                                        39,
                                        40,
                                        40,
                                        42,
                                        42,
                                        44,
                                        45,
                                        46,
                                        48,
                                        49,
                                        50,
                                        51,
                                        52,
                                        53,
                                        55,
                                        56,
                                        58,
                                        59,
                                        61,
                                        62,
                                        64,
                                        67,
                                        68,
                                        70,
                                        73,
                                        73,
                                        73,
                                        77,
                                        77,
                                        79,
                                        80,
                                        81,
                                        82,
                                        83,
                                        84,
                                        85,
                                        86,
                                        87,
                                        88,
                                        89,
                                        90,
                                        91,
                                        96,
                                        97,
                                        99,
                                        102,
                                        103,
                                        104,
                                        109,
                                        111,
                                        114,
                                        117
                                    ],
                                    "xaxis": "x",
                                    "y": [
                                        95.8,
                                        94.7,
                                        93.6,
                                        92.5,
                                        92.3,
                                        91.9,
                                        91.3,
                                        90.7,
                                        90.1,
                                        89.3,
                                        89.1,
                                        88.9,
                                        88.3,
                                        87.9,
                                        86.5,
                                        86.2,
                                        85.8,
                                        85.7,
                                        84.4,
                                        83.8,
                                        83.5,
                                        83,
                                        82.9,
                                        82.6,
                                        81.9,
                                        81.7,
                                        79.5,
                                        78.8,
                                        78.6,
                                        78.4,
                                        78.1,
                                        77.7,
                                        76.5,
                                        76.5,
                                        76.1,
                                        75.8,
                                        75.8,
                                        75.7,
                                        75.7,
                                        75.5,
                                        75.3,
                                        75.1,
                                        74.2,
                                        73.7,
                                        73.4,
                                        73.2,
                                        72.8,
                                        72.7,
                                        71.5,
                                        71.4,
                                        70.2,
                                        70,
                                        69.9,
                                        69.4,
                                        67.8,
                                        67,
                                        66.7,
                                        65.8,
                                        64.5,
                                        64.5,
                                        64.5,
                                        64.2,
                                        64.2,
                                        63.4,
                                        63.1,
                                        63,
                                        62.9,
                                        62.4,
                                        62.3,
                                        62.2,
                                        61.3,
                                        60.6,
                                        60.4,
                                        60.3,
                                        59.8,
                                        59.2,
                                        57.1,
                                        56.8,
                                        56.2,
                                        55.4,
                                        55.1,
                                        53.7,
                                        50.3,
                                        48.1,
                                        45.3,
                                        40.4
                                    ],
                                    "yaxis": "y"
                                }
                            ],
                            "layout": {
                                "legend": {
                                    "tracegroupgap": 0
                                },
                                "margin": {
                                    "t": 60
                                },
                                "template": {
                                    "data": {
                                        "bar": [
                                            {
                                                "error_x": {
                                                    "color": "#2a3f5f"
                                                },
                                                "error_y": {
                                                    "color": "#2a3f5f"
                                                },
                                                "marker": {
                                                    "line": {
                                                        "color": "#E5ECF6",
                                                        "width": 0.5
                                                    },
                                                    "pattern": {
                                                        "fillmode": "overlay",
                                                        "size": 10,
                                                        "solidity": 0.2
                                                    }
                                                },
                                                "type": "bar"
                                            }
                                        ],
                                        "barpolar": [
                                            {
                                                "marker": {
                                                    "line": {
                                                        "color": "#E5ECF6",
                                                        "width": 0.5
                                                    },
                                                    "pattern": {
                                                        "fillmode": "overlay",
                                                        "size": 10,
                                                        "solidity": 0.2
                                                    }
                                                },
                                                "type": "barpolar"
                                            }
                                        ],
                                        "carpet": [
                                            {
                                                "aaxis": {
                                                    "endlinecolor": "#2a3f5f",
                                                    "gridcolor": "white",
                                                    "linecolor": "white",
                                                    "minorgridcolor": "white",
                                                    "startlinecolor": "#2a3f5f"
                                                },
                                                "baxis": {
                                                    "endlinecolor": "#2a3f5f",
                                                    "gridcolor": "white",
                                                    "linecolor": "white",
                                                    "minorgridcolor": "white",
                                                    "startlinecolor": "#2a3f5f"
                                                },
                                                "type": "carpet"
                                            }
                                        ],
                                        "choropleth": [
                                            {
                                                "colorbar": {
                                                    "outlinewidth": 0,
                                                    "ticks": ""
                                                },
                                                "type": "choropleth"
                                            }
                                        ],
                                        "contour": [
                                            {
                                                "colorbar": {
                                                    "outlinewidth": 0,
                                                    "ticks": ""
                                                },
                                                "colorscale": [
                                                    [
                                                        0,
                                                        "#0d0887"
                                                    ],
                                                    [
                                                        0.1111111111111111,
                                                        "#46039f"
                                                    ],
                                                    [
                                                        0.2222222222222222,
                                                        "#7201a8"
                                                    ],
                                                    [
                                                        0.3333333333333333,
                                                        "#9c179e"
                                                    ],
                                                    [
                                                        0.4444444444444444,
                                                        "#bd3786"
                                                    ],
                                                    [
                                                        0.5555555555555556,
                                                        "#d8576b"
                                                    ],
                                                    [
                                                        0.6666666666666666,
                                                        "#ed7953"
                                                    ],
                                                    [
                                                        0.7777777777777778,
                                                        "#fb9f3a"
                                                    ],
                                                    [
                                                        0.8888888888888888,
                                                        "#fdca26"
                                                    ],
                                                    [
                                                        1,
                                                        "#f0f921"
                                                    ]
                                                ],
                                                "type": "contour"
                                            }
                                        ],
                                        "contourcarpet": [
                                            {
                                                "colorbar": {
                                                    "outlinewidth": 0,
                                                    "ticks": ""
                                                },
                                                "type": "contourcarpet"
                                            }
                                        ],
                                        "heatmap": [
                                            {
                                                "colorbar": {
                                                    "outlinewidth": 0,
                                                    "ticks": ""
                                                },
                                                "colorscale": [
                                                    [
                                                        0,
                                                        "#0d0887"
                                                    ],
                                                    [
                                                        0.1111111111111111,
                                                        "#46039f"
                                                    ],
                                                    [
                                                        0.2222222222222222,
                                                        "#7201a8"
                                                    ],
                                                    [
                                                        0.3333333333333333,
                                                        "#9c179e"
                                                    ],
                                                    [
                                                        0.4444444444444444,
                                                        "#bd3786"
                                                    ],
                                                    [
                                                        0.5555555555555556,
                                                        "#d8576b"
                                                    ],
                                                    [
                                                        0.6666666666666666,
                                                        "#ed7953"
                                                    ],
                                                    [
                                                        0.7777777777777778,
                                                        "#fb9f3a"
                                                    ],
                                                    [
                                                        0.8888888888888888,
                                                        "#fdca26"
                                                    ],
                                                    [
                                                        1,
                                                        "#f0f921"
                                                    ]
                                                ],
                                                "type": "heatmap"
                                            }
                                        ],
                                        "heatmapgl": [
                                            {
                                                "colorbar": {
                                                    "outlinewidth": 0,
                                                    "ticks": ""
                                                },
                                                "colorscale": [
                                                    [
                                                        0,
                                                        "#0d0887"
                                                    ],
                                                    [
                                                        0.1111111111111111,
                                                        "#46039f"
                                                    ],
                                                    [
                                                        0.2222222222222222,
                                                        "#7201a8"
                                                    ],
                                                    [
                                                        0.3333333333333333,
                                                        "#9c179e"
                                                    ],
                                                    [
                                                        0.4444444444444444,
                                                        "#bd3786"
                                                    ],
                                                    [
                                                        0.5555555555555556,
                                                        "#d8576b"
                                                    ],
                                                    [
                                                        0.6666666666666666,
                                                        "#ed7953"
                                                    ],
                                                    [
                                                        0.7777777777777778,
                                                        "#fb9f3a"
                                                    ],
                                                    [
                                                        0.8888888888888888,
                                                        "#fdca26"
                                                    ],
                                                    [
                                                        1,
                                                        "#f0f921"
                                                    ]
                                                ],
                                                "type": "heatmapgl"
                                            }
                                        ],
                                        "histogram": [
                                            {
                                                "marker": {
                                                    "pattern": {
                                                        "fillmode": "overlay",
                                                        "size": 10,
                                                        "solidity": 0.2
                                                    }
                                                },
                                                "type": "histogram"
                                            }
                                        ],
                                        "histogram2d": [
                                            {
                                                "colorbar": {
                                                    "outlinewidth": 0,
                                                    "ticks": ""
                                                },
                                                "colorscale": [
                                                    [
                                                        0,
                                                        "#0d0887"
                                                    ],
                                                    [
                                                        0.1111111111111111,
                                                        "#46039f"
                                                    ],
                                                    [
                                                        0.2222222222222222,
                                                        "#7201a8"
                                                    ],
                                                    [
                                                        0.3333333333333333,
                                                        "#9c179e"
                                                    ],
                                                    [
                                                        0.4444444444444444,
                                                        "#bd3786"
                                                    ],
                                                    [
                                                        0.5555555555555556,
                                                        "#d8576b"
                                                    ],
                                                    [
                                                        0.6666666666666666,
                                                        "#ed7953"
                                                    ],
                                                    [
                                                        0.7777777777777778,
                                                        "#fb9f3a"
                                                    ],
                                                    [
                                                        0.8888888888888888,
                                                        "#fdca26"
                                                    ],
                                                    [
                                                        1,
                                                        "#f0f921"
                                                    ]
                                                ],
                                                "type": "histogram2d"
                                            }
                                        ],
                                        "histogram2dcontour": [
                                            {
                                                "colorbar": {
                                                    "outlinewidth": 0,
                                                    "ticks": ""
                                                },
                                                "colorscale": [
                                                    [
                                                        0,
                                                        "#0d0887"
                                                    ],
                                                    [
                                                        0.1111111111111111,
                                                        "#46039f"
                                                    ],
                                                    [
                                                        0.2222222222222222,
                                                        "#7201a8"
                                                    ],
                                                    [
                                                        0.3333333333333333,
                                                        "#9c179e"
                                                    ],
                                                    [
                                                        0.4444444444444444,
                                                        "#bd3786"
                                                    ],
                                                    [
                                                        0.5555555555555556,
                                                        "#d8576b"
                                                    ],
                                                    [
                                                        0.6666666666666666,
                                                        "#ed7953"
                                                    ],
                                                    [
                                                        0.7777777777777778,
                                                        "#fb9f3a"
                                                    ],
                                                    [
                                                        0.8888888888888888,
                                                        "#fdca26"
                                                    ],
                                                    [
                                                        1,
                                                        "#f0f921"
                                                    ]
                                                ],
                                                "type": "histogram2dcontour"
                                            }
                                        ],
                                        "mesh3d": [
                                            {
                                                "colorbar": {
                                                    "outlinewidth": 0,
                                                    "ticks": ""
                                                },
                                                "type": "mesh3d"
                                            }
                                        ],
                                        "parcoords": [
                                            {
                                                "line": {
                                                    "colorbar": {
                                                        "outlinewidth": 0,
                                                        "ticks": ""
                                                    }
                                                },
                                                "type": "parcoords"
                                            }
                                        ],
                                        "pie": [
                                            {
                                                "automargin": true,
                                                "type": "pie"
                                            }
                                        ],
                                        "scatter": [
                                            {
                                                "marker": {
                                                    "colorbar": {
                                                        "outlinewidth": 0,
                                                        "ticks": ""
                                                    }
                                                },
                                                "type": "scatter"
                                            }
                                        ],
                                        "scatter3d": [
                                            {
                                                "line": {
                                                    "colorbar": {
                                                        "outlinewidth": 0,
                                                        "ticks": ""
                                                    }
                                                },
                                                "marker": {
                                                    "colorbar": {
                                                        "outlinewidth": 0,
                                                        "ticks": ""
                                                    }
                                                },
                                                "type": "scatter3d"
                                            }
                                        ],
                                        "scattercarpet": [
                                            {
                                                "marker": {
                                                    "colorbar": {
                                                        "outlinewidth": 0,
                                                        "ticks": ""
                                                    }
                                                },
                                                "type": "scattercarpet"
                                            }
                                        ],
                                        "scattergeo": [
                                            {
                                                "marker": {
                                                    "colorbar": {
                                                        "outlinewidth": 0,
                                                        "ticks": ""
                                                    }
                                                },
                                                "type": "scattergeo"
                                            }
                                        ],
                                        "scattergl": [
                                            {
                                                "marker": {
                                                    "colorbar": {
                                                        "outlinewidth": 0,
                                                        "ticks": ""
                                                    }
                                                },
                                                "type": "scattergl"
                                            }
                                        ],
                                        "scattermapbox": [
                                            {
                                                "marker": {
                                                    "colorbar": {
                                                        "outlinewidth": 0,
                                                        "ticks": ""
                                                    }
                                                },
                                                "type": "scattermapbox"
                                            }
                                        ],
                                        "scatterpolar": [
                                            {
                                                "marker": {
                                                    "colorbar": {
                                                        "outlinewidth": 0,
                                                        "ticks": ""
                                                    }
                                                },
                                                "type": "scatterpolar"
                                            }
                                        ],
                                        "scatterpolargl": [
                                            {
                                                "marker": {
                                                    "colorbar": {
                                                        "outlinewidth": 0,
                                                        "ticks": ""
                                                    }
                                                },
                                                "type": "scatterpolargl"
                                            }
                                        ],
                                        "scatterternary": [
                                            {
                                                "marker": {
                                                    "colorbar": {
                                                        "outlinewidth": 0,
                                                        "ticks": ""
                                                    }
                                                },
                                                "type": "scatterternary"
                                            }
                                        ],
                                        "surface": [
                                            {
                                                "colorbar": {
                                                    "outlinewidth": 0,
                                                    "ticks": ""
                                                },
                                                "colorscale": [
                                                    [
                                                        0,
                                                        "#0d0887"
                                                    ],
                                                    [
                                                        0.1111111111111111,
                                                        "#46039f"
                                                    ],
                                                    [
                                                        0.2222222222222222,
                                                        "#7201a8"
                                                    ],
                                                    [
                                                        0.3333333333333333,
                                                        "#9c179e"
                                                    ],
                                                    [
                                                        0.4444444444444444,
                                                        "#bd3786"
                                                    ],
                                                    [
                                                        0.5555555555555556,
                                                        "#d8576b"
                                                    ],
                                                    [
                                                        0.6666666666666666,
                                                        "#ed7953"
                                                    ],
                                                    [
                                                        0.7777777777777778,
                                                        "#fb9f3a"
                                                    ],
                                                    [
                                                        0.8888888888888888,
                                                        "#fdca26"
                                                    ],
                                                    [
                                                        1,
                                                        "#f0f921"
                                                    ]
                                                ],
                                                "type": "surface"
                                            }
                                        ],
                                        "table": [
                                            {
                                                "cells": {
                                                    "fill": {
                                                        "color": "#EBF0F8"
                                                    },
                                                    "line": {
                                                        "color": "white"
                                                    }
                                                },
                                                "header": {
                                                    "fill": {
                                                        "color": "#C8D4E3"
                                                    },
                                                    "line": {
                                                        "color": "white"
                                                    }
                                                },
                                                "type": "table"
                                            }
                                        ]
                                    },
                                    "layout": {
                                        "annotationdefaults": {
                                            "arrowcolor": "#2a3f5f",
                                            "arrowhead": 0,
                                            "arrowwidth": 1
                                        },
                                        "autotypenumbers": "strict",
                                        "coloraxis": {
                                            "colorbar": {
                                                "outlinewidth": 0,
                                                "ticks": ""
                                            }
                                        },
                                        "colorscale": {
                                            "diverging": [
                                                [
                                                    0,
                                                    "#8e0152"
                                                ],
                                                [
                                                    0.1,
                                                    "#c51b7d"
                                                ],
                                                [
                                                    0.2,
                                                    "#de77ae"
                                                ],
                                                [
                                                    0.3,
                                                    "#f1b6da"
                                                ],
                                                [
                                                    0.4,
                                                    "#fde0ef"
                                                ],
                                                [
                                                    0.5,
                                                    "#f7f7f7"
                                                ],
                                                [
                                                    0.6,
                                                    "#e6f5d0"
                                                ],
                                                [
                                                    0.7,
                                                    "#b8e186"
                                                ],
                                                [
                                                    0.8,
                                                    "#7fbc41"
                                                ],
                                                [
                                                    0.9,
                                                    "#4d9221"
                                                ],
                                                [
                                                    1,
                                                    "#276419"
                                                ]
                                            ],
                                            "sequential": [
                                                [
                                                    0,
                                                    "#0d0887"
                                                ],
                                                [
                                                    0.1111111111111111,
                                                    "#46039f"
                                                ],
                                                [
                                                    0.2222222222222222,
                                                    "#7201a8"
                                                ],
                                                [
                                                    0.3333333333333333,
                                                    "#9c179e"
                                                ],
                                                [
                                                    0.4444444444444444,
                                                    "#bd3786"
                                                ],
                                                [
                                                    0.5555555555555556,
                                                    "#d8576b"
                                                ],
                                                [
                                                    0.6666666666666666,
                                                    "#ed7953"
                                                ],
                                                [
                                                    0.7777777777777778,
                                                    "#fb9f3a"
                                                ],
                                                [
                                                    0.8888888888888888,
                                                    "#fdca26"
                                                ],
                                                [
                                                    1,
                                                    "#f0f921"
                                                ]
                                            ],
                                            "sequentialminus": [
                                                [
                                                    0,
                                                    "#0d0887"
                                                ],
                                                [
                                                    0.1111111111111111,
                                                    "#46039f"
                                                ],
                                                [
                                                    0.2222222222222222,
                                                    "#7201a8"
                                                ],
                                                [
                                                    0.3333333333333333,
                                                    "#9c179e"
                                                ],
                                                [
                                                    0.4444444444444444,
                                                    "#bd3786"
                                                ],
                                                [
                                                    0.5555555555555556,
                                                    "#d8576b"
                                                ],
                                                [
                                                    0.6666666666666666,
                                                    "#ed7953"
                                                ],
                                                [
                                                    0.7777777777777778,
                                                    "#fb9f3a"
                                                ],
                                                [
                                                    0.8888888888888888,
                                                    "#fdca26"
                                                ],
                                                [
                                                    1,
                                                    "#f0f921"
                                                ]
                                            ]
                                        },
                                        "colorway": [
                                            "#636efa",
                                            "#EF553B",
                                            "#00cc96",
                                            "#ab63fa",
                                            "#FFA15A",
                                            "#19d3f3",
                                            "#FF6692",
                                            "#B6E880",
                                            "#FF97FF",
                                            "#FECB52"
                                        ],
                                        "font": {
                                            "color": "#2a3f5f"
                                        },
                                        "geo": {
                                            "bgcolor": "white",
                                            "lakecolor": "white",
                                            "landcolor": "#E5ECF6",
                                            "showlakes": true,
                                            "showland": true,
                                            "subunitcolor": "white"
                                        },
                                        "hoverlabel": {
                                            "align": "left"
                                        },
                                        "hovermode": "closest",
                                        "mapbox": {
                                            "style": "light"
                                        },
                                        "paper_bgcolor": "white",
                                        "plot_bgcolor": "#E5ECF6",
                                        "polar": {
                                            "angularaxis": {
                                                "gridcolor": "white",
                                                "linecolor": "white",
                                                "ticks": ""
                                            },
                                            "bgcolor": "#E5ECF6",
                                            "radialaxis": {
                                                "gridcolor": "white",
                                                "linecolor": "white",
                                                "ticks": ""
                                            }
                                        },
                                        "scene": {
                                            "xaxis": {
                                                "backgroundcolor": "#E5ECF6",
                                                "gridcolor": "white",
                                                "gridwidth": 2,
                                                "linecolor": "white",
                                                "showbackground": true,
                                                "ticks": "",
                                                "zerolinecolor": "white"
                                            },
                                            "yaxis": {
                                                "backgroundcolor": "#E5ECF6",
                                                "gridcolor": "white",
                                                "gridwidth": 2,
                                                "linecolor": "white",
                                                "showbackground": true,
                                                "ticks": "",
                                                "zerolinecolor": "white"
                                            },
                                            "zaxis": {
                                                "backgroundcolor": "#E5ECF6",
                                                "gridcolor": "white",
                                                "gridwidth": 2,
                                                "linecolor": "white",
                                                "showbackground": true,
                                                "ticks": "",
                                                "zerolinecolor": "white"
                                            }
                                        },
                                        "shapedefaults": {
                                            "line": {
                                                "color": "#2a3f5f"
                                            }
                                        },
                                        "ternary": {
                                            "aaxis": {
                                                "gridcolor": "white",
                                                "linecolor": "white",
                                                "ticks": ""
                                            },
                                            "baxis": {
                                                "gridcolor": "white",
                                                "linecolor": "white",
                                                "ticks": ""
                                            },
                                            "bgcolor": "#E5ECF6",
                                            "caxis": {
                                                "gridcolor": "white",
                                                "linecolor": "white",
                                                "ticks": ""
                                            }
                                        },
                                        "title": {
                                            "x": 0.05
                                        },
                                        "xaxis": {
                                            "automargin": true,
                                            "gridcolor": "white",
                                            "linecolor": "white",
                                            "ticks": "",
                                            "title": {
                                                "standoff": 15
                                            },
                                            "zerolinecolor": "white",
                                            "zerolinewidth": 2
                                        },
                                        "yaxis": {
                                            "automargin": true,
                                            "gridcolor": "white",
                                            "linecolor": "white",
                                            "ticks": "",
                                            "title": {
                                                "standoff": 15
                                            },
                                            "zerolinecolor": "white",
                                            "zerolinewidth": 2
                                        }
                                    }
                                },
                                "xaxis": {
                                    "anchor": "y",
                                    "domain": [
                                        0,
                                        1
                                    ],
                                    "title": {
                                        "text": "x"
                                    }
                                },
                                "yaxis": {
                                    "anchor": "x",
                                    "domain": [
                                        0,
                                        1
                                    ],
                                    "title": {
                                        "text": "y"
                                    }
                                }
                            }
                        }
                    },
                    "metadata": {}
                },
                {
                    "output_type": "display_data",
                    "data": {
                        "application/vnd.plotly.v1+json": {
                            "config": {
                                "plotlyServerURL": "https://plot.ly"
                            },
                            "data": [
                                {
                                    "hovertemplate": "x=%{x}<br>y=%{y}<extra></extra>",
                                    "legendgroup": "",
                                    "line": {
                                        "color": "#636efa",
                                        "dash": "solid"
                                    },
                                    "marker": {
                                        "symbol": "circle"
                                    },
                                    "mode": "lines",
                                    "name": "",
                                    "orientation": "v",
                                    "showlegend": false,
                                    "type": "scatter",
                                    "x": [
                                        1,
                                        2,
                                        3,
                                        4,
                                        5,
                                        6,
                                        7,
                                        8,
                                        9,
                                        10,
                                        11,
                                        12,
                                        14,
                                        15,
                                        16,
                                        17,
                                        18,
                                        20,
                                        22,
                                        23,
                                        24,
                                        25,
                                        26,
                                        27,
                                        28,
                                        29,
                                        30,
                                        31,
                                        32,
                                        33,
                                        34,
                                        36,
                                        37,
                                        37,
                                        39,
                                        40,
                                        40,
                                        42,
                                        42,
                                        44,
                                        45,
                                        46,
                                        48,
                                        49,
                                        50,
                                        51,
                                        52,
                                        53,
                                        55,
                                        56,
                                        58,
                                        59,
                                        61,
                                        62,
                                        64,
                                        67,
                                        68,
                                        70,
                                        73,
                                        73,
                                        73,
                                        77,
                                        77,
                                        79,
                                        80,
                                        81,
                                        82,
                                        83,
                                        84,
                                        85,
                                        86,
                                        87,
                                        88,
                                        89,
                                        90,
                                        91,
                                        96,
                                        97,
                                        99,
                                        102,
                                        103,
                                        104,
                                        109,
                                        111,
                                        114,
                                        117
                                    ],
                                    "xaxis": "x",
                                    "y": [
                                        0.038686568172287446,
                                        0.04339558145574019,
                                        0.04771246702187823,
                                        0.04852203452145288,
                                        0.034759372633517804,
                                        0.04177192983590852,
                                        0.0439397550007217,
                                        0.0553765388646566,
                                        0.05320876800005822,
                                        0.022734852799114743,
                                        0.03513800728260855,
                                        0.04755868845658576,
                                        0.038878913114044365,
                                        0.059684762557454224,
                                        0.07211757196606111,
                                        0.03926424346178443,
                                        0.0544013053347794,
                                        0.03824011297741219,
                                        0.04264159952163835,
                                        0.03667806916317882,
                                        0.054509643417708455,
                                        0.055229423387409236,
                                        0.03884768719064838,
                                        0.04539795126268834,
                                        0.049517691647441624,
                                        0.04030380942658012,
                                        0.04404925536867202,
                                        0.03052771357879277,
                                        0.042755439053064725,
                                        0.04986386078645052,
                                        0.0481701596245413,
                                        0.057500872884652915,
                                        0.0549699365796586,
                                        0.06220175601479534,
                                        0.02389556109544184,
                                        0.04909646718526107,
                                        0.036129646552236994,
                                        0.049007118610665514,
                                        0.04404696910279581,
                                        0.03315411598255383,
                                        0.03809498189369036,
                                        0.052989522662211255,
                                        0.04262592483604089,
                                        0.048649155399415306,
                                        0.05067722350936962,
                                        0.04218068855239526,
                                        0.04767386081474793,
                                        0.054644083152051624,
                                        0.046928159417296965,
                                        0.044086798229812464,
                                        0.04296192920315224,
                                        0.034479298055022416,
                                        0.05341552600483383,
                                        0.031677607174805104,
                                        0.06270581037607385,
                                        0.042765466815156535,
                                        0.024173987840067485,
                                        0.052842283726398306,
                                        0.03491590703539475,
                                        0.0329018623939315,
                                        0.03142990996741102,
                                        0.029387870191822534,
                                        0.037781588932512246,
                                        0.041318086194796454,
                                        0.038311648388167245,
                                        0.03300095819044956,
                                        0.04975695864713365,
                                        0.03223268745507694,
                                        0.04050197446452544,
                                        0.03420682765528128,
                                        0.03755132969530449,
                                        0.0392576281389966,
                                        0.038002103546598325,
                                        0.03878382231920667,
                                        0.049207938396554615,
                                        0.048694871107995474,
                                        0.0395035904429723,
                                        0.05782382768011279,
                                        0.03911093168800378,
                                        0.04829718968196259,
                                        0.03952755743397131,
                                        0.036931544297668,
                                        0.0730521056444352,
                                        0.05012998068806542,
                                        0.058610367690279226,
                                        0.06274154776634386
                                    ],
                                    "yaxis": "y"
                                }
                            ],
                            "layout": {
                                "legend": {
                                    "tracegroupgap": 0
                                },
                                "margin": {
                                    "t": 60
                                },
                                "template": {
                                    "data": {
                                        "bar": [
                                            {
                                                "error_x": {
                                                    "color": "#2a3f5f"
                                                },
                                                "error_y": {
                                                    "color": "#2a3f5f"
                                                },
                                                "marker": {
                                                    "line": {
                                                        "color": "#E5ECF6",
                                                        "width": 0.5
                                                    },
                                                    "pattern": {
                                                        "fillmode": "overlay",
                                                        "size": 10,
                                                        "solidity": 0.2
                                                    }
                                                },
                                                "type": "bar"
                                            }
                                        ],
                                        "barpolar": [
                                            {
                                                "marker": {
                                                    "line": {
                                                        "color": "#E5ECF6",
                                                        "width": 0.5
                                                    },
                                                    "pattern": {
                                                        "fillmode": "overlay",
                                                        "size": 10,
                                                        "solidity": 0.2
                                                    }
                                                },
                                                "type": "barpolar"
                                            }
                                        ],
                                        "carpet": [
                                            {
                                                "aaxis": {
                                                    "endlinecolor": "#2a3f5f",
                                                    "gridcolor": "white",
                                                    "linecolor": "white",
                                                    "minorgridcolor": "white",
                                                    "startlinecolor": "#2a3f5f"
                                                },
                                                "baxis": {
                                                    "endlinecolor": "#2a3f5f",
                                                    "gridcolor": "white",
                                                    "linecolor": "white",
                                                    "minorgridcolor": "white",
                                                    "startlinecolor": "#2a3f5f"
                                                },
                                                "type": "carpet"
                                            }
                                        ],
                                        "choropleth": [
                                            {
                                                "colorbar": {
                                                    "outlinewidth": 0,
                                                    "ticks": ""
                                                },
                                                "type": "choropleth"
                                            }
                                        ],
                                        "contour": [
                                            {
                                                "colorbar": {
                                                    "outlinewidth": 0,
                                                    "ticks": ""
                                                },
                                                "colorscale": [
                                                    [
                                                        0,
                                                        "#0d0887"
                                                    ],
                                                    [
                                                        0.1111111111111111,
                                                        "#46039f"
                                                    ],
                                                    [
                                                        0.2222222222222222,
                                                        "#7201a8"
                                                    ],
                                                    [
                                                        0.3333333333333333,
                                                        "#9c179e"
                                                    ],
                                                    [
                                                        0.4444444444444444,
                                                        "#bd3786"
                                                    ],
                                                    [
                                                        0.5555555555555556,
                                                        "#d8576b"
                                                    ],
                                                    [
                                                        0.6666666666666666,
                                                        "#ed7953"
                                                    ],
                                                    [
                                                        0.7777777777777778,
                                                        "#fb9f3a"
                                                    ],
                                                    [
                                                        0.8888888888888888,
                                                        "#fdca26"
                                                    ],
                                                    [
                                                        1,
                                                        "#f0f921"
                                                    ]
                                                ],
                                                "type": "contour"
                                            }
                                        ],
                                        "contourcarpet": [
                                            {
                                                "colorbar": {
                                                    "outlinewidth": 0,
                                                    "ticks": ""
                                                },
                                                "type": "contourcarpet"
                                            }
                                        ],
                                        "heatmap": [
                                            {
                                                "colorbar": {
                                                    "outlinewidth": 0,
                                                    "ticks": ""
                                                },
                                                "colorscale": [
                                                    [
                                                        0,
                                                        "#0d0887"
                                                    ],
                                                    [
                                                        0.1111111111111111,
                                                        "#46039f"
                                                    ],
                                                    [
                                                        0.2222222222222222,
                                                        "#7201a8"
                                                    ],
                                                    [
                                                        0.3333333333333333,
                                                        "#9c179e"
                                                    ],
                                                    [
                                                        0.4444444444444444,
                                                        "#bd3786"
                                                    ],
                                                    [
                                                        0.5555555555555556,
                                                        "#d8576b"
                                                    ],
                                                    [
                                                        0.6666666666666666,
                                                        "#ed7953"
                                                    ],
                                                    [
                                                        0.7777777777777778,
                                                        "#fb9f3a"
                                                    ],
                                                    [
                                                        0.8888888888888888,
                                                        "#fdca26"
                                                    ],
                                                    [
                                                        1,
                                                        "#f0f921"
                                                    ]
                                                ],
                                                "type": "heatmap"
                                            }
                                        ],
                                        "heatmapgl": [
                                            {
                                                "colorbar": {
                                                    "outlinewidth": 0,
                                                    "ticks": ""
                                                },
                                                "colorscale": [
                                                    [
                                                        0,
                                                        "#0d0887"
                                                    ],
                                                    [
                                                        0.1111111111111111,
                                                        "#46039f"
                                                    ],
                                                    [
                                                        0.2222222222222222,
                                                        "#7201a8"
                                                    ],
                                                    [
                                                        0.3333333333333333,
                                                        "#9c179e"
                                                    ],
                                                    [
                                                        0.4444444444444444,
                                                        "#bd3786"
                                                    ],
                                                    [
                                                        0.5555555555555556,
                                                        "#d8576b"
                                                    ],
                                                    [
                                                        0.6666666666666666,
                                                        "#ed7953"
                                                    ],
                                                    [
                                                        0.7777777777777778,
                                                        "#fb9f3a"
                                                    ],
                                                    [
                                                        0.8888888888888888,
                                                        "#fdca26"
                                                    ],
                                                    [
                                                        1,
                                                        "#f0f921"
                                                    ]
                                                ],
                                                "type": "heatmapgl"
                                            }
                                        ],
                                        "histogram": [
                                            {
                                                "marker": {
                                                    "pattern": {
                                                        "fillmode": "overlay",
                                                        "size": 10,
                                                        "solidity": 0.2
                                                    }
                                                },
                                                "type": "histogram"
                                            }
                                        ],
                                        "histogram2d": [
                                            {
                                                "colorbar": {
                                                    "outlinewidth": 0,
                                                    "ticks": ""
                                                },
                                                "colorscale": [
                                                    [
                                                        0,
                                                        "#0d0887"
                                                    ],
                                                    [
                                                        0.1111111111111111,
                                                        "#46039f"
                                                    ],
                                                    [
                                                        0.2222222222222222,
                                                        "#7201a8"
                                                    ],
                                                    [
                                                        0.3333333333333333,
                                                        "#9c179e"
                                                    ],
                                                    [
                                                        0.4444444444444444,
                                                        "#bd3786"
                                                    ],
                                                    [
                                                        0.5555555555555556,
                                                        "#d8576b"
                                                    ],
                                                    [
                                                        0.6666666666666666,
                                                        "#ed7953"
                                                    ],
                                                    [
                                                        0.7777777777777778,
                                                        "#fb9f3a"
                                                    ],
                                                    [
                                                        0.8888888888888888,
                                                        "#fdca26"
                                                    ],
                                                    [
                                                        1,
                                                        "#f0f921"
                                                    ]
                                                ],
                                                "type": "histogram2d"
                                            }
                                        ],
                                        "histogram2dcontour": [
                                            {
                                                "colorbar": {
                                                    "outlinewidth": 0,
                                                    "ticks": ""
                                                },
                                                "colorscale": [
                                                    [
                                                        0,
                                                        "#0d0887"
                                                    ],
                                                    [
                                                        0.1111111111111111,
                                                        "#46039f"
                                                    ],
                                                    [
                                                        0.2222222222222222,
                                                        "#7201a8"
                                                    ],
                                                    [
                                                        0.3333333333333333,
                                                        "#9c179e"
                                                    ],
                                                    [
                                                        0.4444444444444444,
                                                        "#bd3786"
                                                    ],
                                                    [
                                                        0.5555555555555556,
                                                        "#d8576b"
                                                    ],
                                                    [
                                                        0.6666666666666666,
                                                        "#ed7953"
                                                    ],
                                                    [
                                                        0.7777777777777778,
                                                        "#fb9f3a"
                                                    ],
                                                    [
                                                        0.8888888888888888,
                                                        "#fdca26"
                                                    ],
                                                    [
                                                        1,
                                                        "#f0f921"
                                                    ]
                                                ],
                                                "type": "histogram2dcontour"
                                            }
                                        ],
                                        "mesh3d": [
                                            {
                                                "colorbar": {
                                                    "outlinewidth": 0,
                                                    "ticks": ""
                                                },
                                                "type": "mesh3d"
                                            }
                                        ],
                                        "parcoords": [
                                            {
                                                "line": {
                                                    "colorbar": {
                                                        "outlinewidth": 0,
                                                        "ticks": ""
                                                    }
                                                },
                                                "type": "parcoords"
                                            }
                                        ],
                                        "pie": [
                                            {
                                                "automargin": true,
                                                "type": "pie"
                                            }
                                        ],
                                        "scatter": [
                                            {
                                                "marker": {
                                                    "colorbar": {
                                                        "outlinewidth": 0,
                                                        "ticks": ""
                                                    }
                                                },
                                                "type": "scatter"
                                            }
                                        ],
                                        "scatter3d": [
                                            {
                                                "line": {
                                                    "colorbar": {
                                                        "outlinewidth": 0,
                                                        "ticks": ""
                                                    }
                                                },
                                                "marker": {
                                                    "colorbar": {
                                                        "outlinewidth": 0,
                                                        "ticks": ""
                                                    }
                                                },
                                                "type": "scatter3d"
                                            }
                                        ],
                                        "scattercarpet": [
                                            {
                                                "marker": {
                                                    "colorbar": {
                                                        "outlinewidth": 0,
                                                        "ticks": ""
                                                    }
                                                },
                                                "type": "scattercarpet"
                                            }
                                        ],
                                        "scattergeo": [
                                            {
                                                "marker": {
                                                    "colorbar": {
                                                        "outlinewidth": 0,
                                                        "ticks": ""
                                                    }
                                                },
                                                "type": "scattergeo"
                                            }
                                        ],
                                        "scattergl": [
                                            {
                                                "marker": {
                                                    "colorbar": {
                                                        "outlinewidth": 0,
                                                        "ticks": ""
                                                    }
                                                },
                                                "type": "scattergl"
                                            }
                                        ],
                                        "scattermapbox": [
                                            {
                                                "marker": {
                                                    "colorbar": {
                                                        "outlinewidth": 0,
                                                        "ticks": ""
                                                    }
                                                },
                                                "type": "scattermapbox"
                                            }
                                        ],
                                        "scatterpolar": [
                                            {
                                                "marker": {
                                                    "colorbar": {
                                                        "outlinewidth": 0,
                                                        "ticks": ""
                                                    }
                                                },
                                                "type": "scatterpolar"
                                            }
                                        ],
                                        "scatterpolargl": [
                                            {
                                                "marker": {
                                                    "colorbar": {
                                                        "outlinewidth": 0,
                                                        "ticks": ""
                                                    }
                                                },
                                                "type": "scatterpolargl"
                                            }
                                        ],
                                        "scatterternary": [
                                            {
                                                "marker": {
                                                    "colorbar": {
                                                        "outlinewidth": 0,
                                                        "ticks": ""
                                                    }
                                                },
                                                "type": "scatterternary"
                                            }
                                        ],
                                        "surface": [
                                            {
                                                "colorbar": {
                                                    "outlinewidth": 0,
                                                    "ticks": ""
                                                },
                                                "colorscale": [
                                                    [
                                                        0,
                                                        "#0d0887"
                                                    ],
                                                    [
                                                        0.1111111111111111,
                                                        "#46039f"
                                                    ],
                                                    [
                                                        0.2222222222222222,
                                                        "#7201a8"
                                                    ],
                                                    [
                                                        0.3333333333333333,
                                                        "#9c179e"
                                                    ],
                                                    [
                                                        0.4444444444444444,
                                                        "#bd3786"
                                                    ],
                                                    [
                                                        0.5555555555555556,
                                                        "#d8576b"
                                                    ],
                                                    [
                                                        0.6666666666666666,
                                                        "#ed7953"
                                                    ],
                                                    [
                                                        0.7777777777777778,
                                                        "#fb9f3a"
                                                    ],
                                                    [
                                                        0.8888888888888888,
                                                        "#fdca26"
                                                    ],
                                                    [
                                                        1,
                                                        "#f0f921"
                                                    ]
                                                ],
                                                "type": "surface"
                                            }
                                        ],
                                        "table": [
                                            {
                                                "cells": {
                                                    "fill": {
                                                        "color": "#EBF0F8"
                                                    },
                                                    "line": {
                                                        "color": "white"
                                                    }
                                                },
                                                "header": {
                                                    "fill": {
                                                        "color": "#C8D4E3"
                                                    },
                                                    "line": {
                                                        "color": "white"
                                                    }
                                                },
                                                "type": "table"
                                            }
                                        ]
                                    },
                                    "layout": {
                                        "annotationdefaults": {
                                            "arrowcolor": "#2a3f5f",
                                            "arrowhead": 0,
                                            "arrowwidth": 1
                                        },
                                        "autotypenumbers": "strict",
                                        "coloraxis": {
                                            "colorbar": {
                                                "outlinewidth": 0,
                                                "ticks": ""
                                            }
                                        },
                                        "colorscale": {
                                            "diverging": [
                                                [
                                                    0,
                                                    "#8e0152"
                                                ],
                                                [
                                                    0.1,
                                                    "#c51b7d"
                                                ],
                                                [
                                                    0.2,
                                                    "#de77ae"
                                                ],
                                                [
                                                    0.3,
                                                    "#f1b6da"
                                                ],
                                                [
                                                    0.4,
                                                    "#fde0ef"
                                                ],
                                                [
                                                    0.5,
                                                    "#f7f7f7"
                                                ],
                                                [
                                                    0.6,
                                                    "#e6f5d0"
                                                ],
                                                [
                                                    0.7,
                                                    "#b8e186"
                                                ],
                                                [
                                                    0.8,
                                                    "#7fbc41"
                                                ],
                                                [
                                                    0.9,
                                                    "#4d9221"
                                                ],
                                                [
                                                    1,
                                                    "#276419"
                                                ]
                                            ],
                                            "sequential": [
                                                [
                                                    0,
                                                    "#0d0887"
                                                ],
                                                [
                                                    0.1111111111111111,
                                                    "#46039f"
                                                ],
                                                [
                                                    0.2222222222222222,
                                                    "#7201a8"
                                                ],
                                                [
                                                    0.3333333333333333,
                                                    "#9c179e"
                                                ],
                                                [
                                                    0.4444444444444444,
                                                    "#bd3786"
                                                ],
                                                [
                                                    0.5555555555555556,
                                                    "#d8576b"
                                                ],
                                                [
                                                    0.6666666666666666,
                                                    "#ed7953"
                                                ],
                                                [
                                                    0.7777777777777778,
                                                    "#fb9f3a"
                                                ],
                                                [
                                                    0.8888888888888888,
                                                    "#fdca26"
                                                ],
                                                [
                                                    1,
                                                    "#f0f921"
                                                ]
                                            ],
                                            "sequentialminus": [
                                                [
                                                    0,
                                                    "#0d0887"
                                                ],
                                                [
                                                    0.1111111111111111,
                                                    "#46039f"
                                                ],
                                                [
                                                    0.2222222222222222,
                                                    "#7201a8"
                                                ],
                                                [
                                                    0.3333333333333333,
                                                    "#9c179e"
                                                ],
                                                [
                                                    0.4444444444444444,
                                                    "#bd3786"
                                                ],
                                                [
                                                    0.5555555555555556,
                                                    "#d8576b"
                                                ],
                                                [
                                                    0.6666666666666666,
                                                    "#ed7953"
                                                ],
                                                [
                                                    0.7777777777777778,
                                                    "#fb9f3a"
                                                ],
                                                [
                                                    0.8888888888888888,
                                                    "#fdca26"
                                                ],
                                                [
                                                    1,
                                                    "#f0f921"
                                                ]
                                            ]
                                        },
                                        "colorway": [
                                            "#636efa",
                                            "#EF553B",
                                            "#00cc96",
                                            "#ab63fa",
                                            "#FFA15A",
                                            "#19d3f3",
                                            "#FF6692",
                                            "#B6E880",
                                            "#FF97FF",
                                            "#FECB52"
                                        ],
                                        "font": {
                                            "color": "#2a3f5f"
                                        },
                                        "geo": {
                                            "bgcolor": "white",
                                            "lakecolor": "white",
                                            "landcolor": "#E5ECF6",
                                            "showlakes": true,
                                            "showland": true,
                                            "subunitcolor": "white"
                                        },
                                        "hoverlabel": {
                                            "align": "left"
                                        },
                                        "hovermode": "closest",
                                        "mapbox": {
                                            "style": "light"
                                        },
                                        "paper_bgcolor": "white",
                                        "plot_bgcolor": "#E5ECF6",
                                        "polar": {
                                            "angularaxis": {
                                                "gridcolor": "white",
                                                "linecolor": "white",
                                                "ticks": ""
                                            },
                                            "bgcolor": "#E5ECF6",
                                            "radialaxis": {
                                                "gridcolor": "white",
                                                "linecolor": "white",
                                                "ticks": ""
                                            }
                                        },
                                        "scene": {
                                            "xaxis": {
                                                "backgroundcolor": "#E5ECF6",
                                                "gridcolor": "white",
                                                "gridwidth": 2,
                                                "linecolor": "white",
                                                "showbackground": true,
                                                "ticks": "",
                                                "zerolinecolor": "white"
                                            },
                                            "yaxis": {
                                                "backgroundcolor": "#E5ECF6",
                                                "gridcolor": "white",
                                                "gridwidth": 2,
                                                "linecolor": "white",
                                                "showbackground": true,
                                                "ticks": "",
                                                "zerolinecolor": "white"
                                            },
                                            "zaxis": {
                                                "backgroundcolor": "#E5ECF6",
                                                "gridcolor": "white",
                                                "gridwidth": 2,
                                                "linecolor": "white",
                                                "showbackground": true,
                                                "ticks": "",
                                                "zerolinecolor": "white"
                                            }
                                        },
                                        "shapedefaults": {
                                            "line": {
                                                "color": "#2a3f5f"
                                            }
                                        },
                                        "ternary": {
                                            "aaxis": {
                                                "gridcolor": "white",
                                                "linecolor": "white",
                                                "ticks": ""
                                            },
                                            "baxis": {
                                                "gridcolor": "white",
                                                "linecolor": "white",
                                                "ticks": ""
                                            },
                                            "bgcolor": "#E5ECF6",
                                            "caxis": {
                                                "gridcolor": "white",
                                                "linecolor": "white",
                                                "ticks": ""
                                            }
                                        },
                                        "title": {
                                            "x": 0.05
                                        },
                                        "xaxis": {
                                            "automargin": true,
                                            "gridcolor": "white",
                                            "linecolor": "white",
                                            "ticks": "",
                                            "title": {
                                                "standoff": 15
                                            },
                                            "zerolinecolor": "white",
                                            "zerolinewidth": 2
                                        },
                                        "yaxis": {
                                            "automargin": true,
                                            "gridcolor": "white",
                                            "linecolor": "white",
                                            "ticks": "",
                                            "title": {
                                                "standoff": 15
                                            },
                                            "zerolinecolor": "white",
                                            "zerolinewidth": 2
                                        }
                                    }
                                },
                                "xaxis": {
                                    "anchor": "y",
                                    "domain": [
                                        0,
                                        1
                                    ],
                                    "title": {
                                        "text": "x"
                                    }
                                },
                                "yaxis": {
                                    "anchor": "x",
                                    "domain": [
                                        0,
                                        1
                                    ],
                                    "title": {
                                        "text": "y"
                                    }
                                }
                            }
                        }
                    },
                    "metadata": {}
                }
            ],
            "metadata": {}
        },
        {
            "cell_type": "code",
            "execution_count": 20,
            "source": [
                "# 对common crawl 和 webxray的数据进行比较\n",
                "import pandas as pd \n",
                "df_webxray = pd.read_csv(\"dk_domain_trackers_from_webxray.csv\")\n",
                "# print(df_webxray.head())\n",
                "def get_tracker_list(group):\n",
                "    return group['domain'].to_list()\n",
                "\n",
                "df_webxray_group = df_webxray.groupby(\"start_url\").apply(get_tracker_list).reset_index()\n",
                "print(df_webxray_group.head())\n",
                "\n",
                "df_webxray_group.to_csv(\"dk_webxray_group.csv\",index = None)"
            ],
            "outputs": [
                {
                    "output_type": "stream",
                    "name": "stdout",
                    "text": [
                        "                start_url                                                  0\n",
                        "0         http://1337x.to                                              [nan]\n",
                        "1       http://22pixx.xyz                                              [nan]\n",
                        "2  http://3byggetilbud.dk  [cloudflare.com, 3bt.dk, trustpilot.com, cooki...\n",
                        "3            http://3f.dk  [responsivevoice.org, 3f-design.dk, cookiebot....\n",
                        "4        http://4chan.org        [google-analytics.com, adtng.com, 4cdn.org]\n"
                    ]
                }
            ],
            "metadata": {}
        },
        {
            "cell_type": "code",
            "execution_count": 24,
            "source": [
                "df_commoncrawl = pd.read_csv(\"dk_domain_trackers_from_commoncrawl.csv\")\n",
                "\n",
                "df_commoncrawl.sort_values(by = \"url\").to_csv(\"dk_domain_trackers_from_commoncrawl_sort.csv\",index = None)"
            ],
            "outputs": [],
            "metadata": {}
        },
        {
            "cell_type": "code",
            "execution_count": 30,
            "source": [
                "# 按照国家来分析trackers\n",
                "\n",
                "import pandas as pd \n",
                "df_domain_third_party = pd.read_csv(\"labeled-thirdparties.csv\",sep = '\\t', names = ['domain','registration_org','registration_country','num_embeddings','num_embeddings_javascript','num_embeddings_iframe','num_embeddings_image','num_embeddings_link','category','company'])\n",
                "df_domain_third_party.groupby(\"registration_country\").count().reset_index().sort_values(by = \"domain\",ascending = False)"
            ],
            "outputs": [
                {
                    "output_type": "execute_result",
                    "data": {
                        "text/html": [
                            "<div>\n",
                            "<style scoped>\n",
                            "    .dataframe tbody tr th:only-of-type {\n",
                            "        vertical-align: middle;\n",
                            "    }\n",
                            "\n",
                            "    .dataframe tbody tr th {\n",
                            "        vertical-align: top;\n",
                            "    }\n",
                            "\n",
                            "    .dataframe thead th {\n",
                            "        text-align: right;\n",
                            "    }\n",
                            "</style>\n",
                            "<table border=\"1\" class=\"dataframe\">\n",
                            "  <thead>\n",
                            "    <tr style=\"text-align: right;\">\n",
                            "      <th></th>\n",
                            "      <th>registration_country</th>\n",
                            "      <th>domain</th>\n",
                            "      <th>registration_org</th>\n",
                            "      <th>num_embeddings</th>\n",
                            "      <th>num_embeddings_javascript</th>\n",
                            "      <th>num_embeddings_iframe</th>\n",
                            "      <th>num_embeddings_image</th>\n",
                            "      <th>num_embeddings_link</th>\n",
                            "      <th>category</th>\n",
                            "      <th>company</th>\n",
                            "    </tr>\n",
                            "  </thead>\n",
                            "  <tbody>\n",
                            "    <tr>\n",
                            "      <th>52</th>\n",
                            "      <td>US</td>\n",
                            "      <td>548</td>\n",
                            "      <td>547</td>\n",
                            "      <td>548</td>\n",
                            "      <td>548</td>\n",
                            "      <td>548</td>\n",
                            "      <td>548</td>\n",
                            "      <td>548</td>\n",
                            "      <td>548</td>\n",
                            "      <td>548</td>\n",
                            "    </tr>\n",
                            "    <tr>\n",
                            "      <th>0</th>\n",
                            "      <td>#</td>\n",
                            "      <td>523</td>\n",
                            "      <td>523</td>\n",
                            "      <td>523</td>\n",
                            "      <td>523</td>\n",
                            "      <td>523</td>\n",
                            "      <td>523</td>\n",
                            "      <td>523</td>\n",
                            "      <td>523</td>\n",
                            "      <td>523</td>\n",
                            "    </tr>\n",
                            "    <tr>\n",
                            "      <th>13</th>\n",
                            "      <td>DE</td>\n",
                            "      <td>37</td>\n",
                            "      <td>37</td>\n",
                            "      <td>37</td>\n",
                            "      <td>37</td>\n",
                            "      <td>37</td>\n",
                            "      <td>37</td>\n",
                            "      <td>37</td>\n",
                            "      <td>36</td>\n",
                            "      <td>37</td>\n",
                            "    </tr>\n",
                            "    <tr>\n",
                            "      <th>18</th>\n",
                            "      <td>FR</td>\n",
                            "      <td>34</td>\n",
                            "      <td>34</td>\n",
                            "      <td>34</td>\n",
                            "      <td>34</td>\n",
                            "      <td>34</td>\n",
                            "      <td>34</td>\n",
                            "      <td>34</td>\n",
                            "      <td>34</td>\n",
                            "      <td>34</td>\n",
                            "    </tr>\n",
                            "    <tr>\n",
                            "      <th>9</th>\n",
                            "      <td>CN</td>\n",
                            "      <td>31</td>\n",
                            "      <td>31</td>\n",
                            "      <td>31</td>\n",
                            "      <td>31</td>\n",
                            "      <td>31</td>\n",
                            "      <td>31</td>\n",
                            "      <td>31</td>\n",
                            "      <td>31</td>\n",
                            "      <td>31</td>\n",
                            "    </tr>\n",
                            "    <tr>\n",
                            "      <th>28</th>\n",
                            "      <td>JP</td>\n",
                            "      <td>26</td>\n",
                            "      <td>26</td>\n",
                            "      <td>26</td>\n",
                            "      <td>26</td>\n",
                            "      <td>26</td>\n",
                            "      <td>26</td>\n",
                            "      <td>26</td>\n",
                            "      <td>26</td>\n",
                            "      <td>26</td>\n",
                            "    </tr>\n",
                            "    <tr>\n",
                            "      <th>7</th>\n",
                            "      <td>CA</td>\n",
                            "      <td>21</td>\n",
                            "      <td>21</td>\n",
                            "      <td>21</td>\n",
                            "      <td>21</td>\n",
                            "      <td>21</td>\n",
                            "      <td>21</td>\n",
                            "      <td>21</td>\n",
                            "      <td>21</td>\n",
                            "      <td>21</td>\n",
                            "    </tr>\n",
                            "    <tr>\n",
                            "      <th>20</th>\n",
                            "      <td>GB</td>\n",
                            "      <td>20</td>\n",
                            "      <td>20</td>\n",
                            "      <td>20</td>\n",
                            "      <td>20</td>\n",
                            "      <td>20</td>\n",
                            "      <td>20</td>\n",
                            "      <td>20</td>\n",
                            "      <td>20</td>\n",
                            "      <td>20</td>\n",
                            "    </tr>\n",
                            "    <tr>\n",
                            "      <th>34</th>\n",
                            "      <td>NL</td>\n",
                            "      <td>12</td>\n",
                            "      <td>12</td>\n",
                            "      <td>12</td>\n",
                            "      <td>12</td>\n",
                            "      <td>12</td>\n",
                            "      <td>12</td>\n",
                            "      <td>12</td>\n",
                            "      <td>12</td>\n",
                            "      <td>12</td>\n",
                            "    </tr>\n",
                            "    <tr>\n",
                            "      <th>42</th>\n",
                            "      <td>RU</td>\n",
                            "      <td>10</td>\n",
                            "      <td>10</td>\n",
                            "      <td>10</td>\n",
                            "      <td>10</td>\n",
                            "      <td>10</td>\n",
                            "      <td>10</td>\n",
                            "      <td>10</td>\n",
                            "      <td>10</td>\n",
                            "      <td>10</td>\n",
                            "    </tr>\n",
                            "    <tr>\n",
                            "      <th>8</th>\n",
                            "      <td>CH</td>\n",
                            "      <td>10</td>\n",
                            "      <td>10</td>\n",
                            "      <td>10</td>\n",
                            "      <td>10</td>\n",
                            "      <td>10</td>\n",
                            "      <td>10</td>\n",
                            "      <td>10</td>\n",
                            "      <td>10</td>\n",
                            "      <td>10</td>\n",
                            "    </tr>\n",
                            "    <tr>\n",
                            "      <th>44</th>\n",
                            "      <td>SE</td>\n",
                            "      <td>8</td>\n",
                            "      <td>8</td>\n",
                            "      <td>8</td>\n",
                            "      <td>8</td>\n",
                            "      <td>8</td>\n",
                            "      <td>8</td>\n",
                            "      <td>8</td>\n",
                            "      <td>8</td>\n",
                            "      <td>8</td>\n",
                            "    </tr>\n",
                            "    <tr>\n",
                            "      <th>51</th>\n",
                            "      <td>UK</td>\n",
                            "      <td>8</td>\n",
                            "      <td>8</td>\n",
                            "      <td>8</td>\n",
                            "      <td>8</td>\n",
                            "      <td>8</td>\n",
                            "      <td>8</td>\n",
                            "      <td>8</td>\n",
                            "      <td>8</td>\n",
                            "      <td>8</td>\n",
                            "    </tr>\n",
                            "    <tr>\n",
                            "      <th>10</th>\n",
                            "      <td>CY</td>\n",
                            "      <td>5</td>\n",
                            "      <td>5</td>\n",
                            "      <td>5</td>\n",
                            "      <td>5</td>\n",
                            "      <td>5</td>\n",
                            "      <td>5</td>\n",
                            "      <td>5</td>\n",
                            "      <td>5</td>\n",
                            "      <td>5</td>\n",
                            "    </tr>\n",
                            "    <tr>\n",
                            "      <th>26</th>\n",
                            "      <td>IN</td>\n",
                            "      <td>5</td>\n",
                            "      <td>5</td>\n",
                            "      <td>5</td>\n",
                            "      <td>5</td>\n",
                            "      <td>5</td>\n",
                            "      <td>5</td>\n",
                            "      <td>5</td>\n",
                            "      <td>5</td>\n",
                            "      <td>5</td>\n",
                            "    </tr>\n",
                            "    <tr>\n",
                            "      <th>25</th>\n",
                            "      <td>IL</td>\n",
                            "      <td>5</td>\n",
                            "      <td>5</td>\n",
                            "      <td>5</td>\n",
                            "      <td>5</td>\n",
                            "      <td>5</td>\n",
                            "      <td>5</td>\n",
                            "      <td>5</td>\n",
                            "      <td>5</td>\n",
                            "      <td>5</td>\n",
                            "    </tr>\n",
                            "    <tr>\n",
                            "      <th>16</th>\n",
                            "      <td>ES</td>\n",
                            "      <td>5</td>\n",
                            "      <td>5</td>\n",
                            "      <td>5</td>\n",
                            "      <td>5</td>\n",
                            "      <td>5</td>\n",
                            "      <td>5</td>\n",
                            "      <td>5</td>\n",
                            "      <td>5</td>\n",
                            "      <td>5</td>\n",
                            "    </tr>\n",
                            "    <tr>\n",
                            "      <th>29</th>\n",
                            "      <td>KR</td>\n",
                            "      <td>4</td>\n",
                            "      <td>4</td>\n",
                            "      <td>4</td>\n",
                            "      <td>4</td>\n",
                            "      <td>4</td>\n",
                            "      <td>4</td>\n",
                            "      <td>4</td>\n",
                            "      <td>4</td>\n",
                            "      <td>4</td>\n",
                            "    </tr>\n",
                            "    <tr>\n",
                            "      <th>54</th>\n",
                            "      <td>VG</td>\n",
                            "      <td>4</td>\n",
                            "      <td>4</td>\n",
                            "      <td>4</td>\n",
                            "      <td>4</td>\n",
                            "      <td>4</td>\n",
                            "      <td>4</td>\n",
                            "      <td>4</td>\n",
                            "      <td>4</td>\n",
                            "      <td>4</td>\n",
                            "    </tr>\n",
                            "    <tr>\n",
                            "      <th>2</th>\n",
                            "      <td>AU</td>\n",
                            "      <td>4</td>\n",
                            "      <td>4</td>\n",
                            "      <td>4</td>\n",
                            "      <td>4</td>\n",
                            "      <td>4</td>\n",
                            "      <td>4</td>\n",
                            "      <td>4</td>\n",
                            "      <td>4</td>\n",
                            "      <td>4</td>\n",
                            "    </tr>\n",
                            "    <tr>\n",
                            "      <th>21</th>\n",
                            "      <td>GI</td>\n",
                            "      <td>3</td>\n",
                            "      <td>3</td>\n",
                            "      <td>3</td>\n",
                            "      <td>3</td>\n",
                            "      <td>3</td>\n",
                            "      <td>3</td>\n",
                            "      <td>3</td>\n",
                            "      <td>3</td>\n",
                            "      <td>3</td>\n",
                            "    </tr>\n",
                            "    <tr>\n",
                            "      <th>23</th>\n",
                            "      <td>HU</td>\n",
                            "      <td>3</td>\n",
                            "      <td>3</td>\n",
                            "      <td>3</td>\n",
                            "      <td>3</td>\n",
                            "      <td>3</td>\n",
                            "      <td>3</td>\n",
                            "      <td>3</td>\n",
                            "      <td>3</td>\n",
                            "      <td>3</td>\n",
                            "    </tr>\n",
                            "    <tr>\n",
                            "      <th>4</th>\n",
                            "      <td>BR</td>\n",
                            "      <td>3</td>\n",
                            "      <td>3</td>\n",
                            "      <td>3</td>\n",
                            "      <td>3</td>\n",
                            "      <td>3</td>\n",
                            "      <td>3</td>\n",
                            "      <td>3</td>\n",
                            "      <td>3</td>\n",
                            "      <td>3</td>\n",
                            "    </tr>\n",
                            "    <tr>\n",
                            "      <th>17</th>\n",
                            "      <td>FI</td>\n",
                            "      <td>3</td>\n",
                            "      <td>3</td>\n",
                            "      <td>3</td>\n",
                            "      <td>3</td>\n",
                            "      <td>3</td>\n",
                            "      <td>3</td>\n",
                            "      <td>3</td>\n",
                            "      <td>3</td>\n",
                            "      <td>3</td>\n",
                            "    </tr>\n",
                            "    <tr>\n",
                            "      <th>45</th>\n",
                            "      <td>SG</td>\n",
                            "      <td>3</td>\n",
                            "      <td>3</td>\n",
                            "      <td>3</td>\n",
                            "      <td>3</td>\n",
                            "      <td>3</td>\n",
                            "      <td>3</td>\n",
                            "      <td>3</td>\n",
                            "      <td>3</td>\n",
                            "      <td>3</td>\n",
                            "    </tr>\n",
                            "    <tr>\n",
                            "      <th>27</th>\n",
                            "      <td>IT</td>\n",
                            "      <td>2</td>\n",
                            "      <td>2</td>\n",
                            "      <td>2</td>\n",
                            "      <td>2</td>\n",
                            "      <td>2</td>\n",
                            "      <td>2</td>\n",
                            "      <td>2</td>\n",
                            "      <td>2</td>\n",
                            "      <td>2</td>\n",
                            "    </tr>\n",
                            "    <tr>\n",
                            "      <th>48</th>\n",
                            "      <td>TR</td>\n",
                            "      <td>2</td>\n",
                            "      <td>2</td>\n",
                            "      <td>2</td>\n",
                            "      <td>2</td>\n",
                            "      <td>2</td>\n",
                            "      <td>2</td>\n",
                            "      <td>2</td>\n",
                            "      <td>2</td>\n",
                            "      <td>2</td>\n",
                            "    </tr>\n",
                            "    <tr>\n",
                            "      <th>39</th>\n",
                            "      <td>PL</td>\n",
                            "      <td>2</td>\n",
                            "      <td>2</td>\n",
                            "      <td>2</td>\n",
                            "      <td>2</td>\n",
                            "      <td>2</td>\n",
                            "      <td>2</td>\n",
                            "      <td>2</td>\n",
                            "      <td>2</td>\n",
                            "      <td>2</td>\n",
                            "    </tr>\n",
                            "    <tr>\n",
                            "      <th>35</th>\n",
                            "      <td>NO</td>\n",
                            "      <td>2</td>\n",
                            "      <td>2</td>\n",
                            "      <td>2</td>\n",
                            "      <td>2</td>\n",
                            "      <td>2</td>\n",
                            "      <td>2</td>\n",
                            "      <td>2</td>\n",
                            "      <td>2</td>\n",
                            "      <td>2</td>\n",
                            "    </tr>\n",
                            "    <tr>\n",
                            "      <th>32</th>\n",
                            "      <td>LU</td>\n",
                            "      <td>2</td>\n",
                            "      <td>2</td>\n",
                            "      <td>2</td>\n",
                            "      <td>2</td>\n",
                            "      <td>2</td>\n",
                            "      <td>2</td>\n",
                            "      <td>2</td>\n",
                            "      <td>2</td>\n",
                            "      <td>2</td>\n",
                            "    </tr>\n",
                            "    <tr>\n",
                            "      <th>30</th>\n",
                            "      <td>KY</td>\n",
                            "      <td>2</td>\n",
                            "      <td>2</td>\n",
                            "      <td>2</td>\n",
                            "      <td>2</td>\n",
                            "      <td>2</td>\n",
                            "      <td>2</td>\n",
                            "      <td>2</td>\n",
                            "      <td>2</td>\n",
                            "      <td>2</td>\n",
                            "    </tr>\n",
                            "    <tr>\n",
                            "      <th>11</th>\n",
                            "      <td>CZ</td>\n",
                            "      <td>2</td>\n",
                            "      <td>2</td>\n",
                            "      <td>2</td>\n",
                            "      <td>2</td>\n",
                            "      <td>2</td>\n",
                            "      <td>2</td>\n",
                            "      <td>2</td>\n",
                            "      <td>2</td>\n",
                            "      <td>2</td>\n",
                            "    </tr>\n",
                            "    <tr>\n",
                            "      <th>24</th>\n",
                            "      <td>IE</td>\n",
                            "      <td>2</td>\n",
                            "      <td>2</td>\n",
                            "      <td>2</td>\n",
                            "      <td>2</td>\n",
                            "      <td>2</td>\n",
                            "      <td>2</td>\n",
                            "      <td>2</td>\n",
                            "      <td>2</td>\n",
                            "      <td>2</td>\n",
                            "    </tr>\n",
                            "    <tr>\n",
                            "      <th>41</th>\n",
                            "      <td>RO</td>\n",
                            "      <td>2</td>\n",
                            "      <td>2</td>\n",
                            "      <td>2</td>\n",
                            "      <td>2</td>\n",
                            "      <td>2</td>\n",
                            "      <td>2</td>\n",
                            "      <td>2</td>\n",
                            "      <td>2</td>\n",
                            "      <td>2</td>\n",
                            "    </tr>\n",
                            "    <tr>\n",
                            "      <th>5</th>\n",
                            "      <td>BY</td>\n",
                            "      <td>1</td>\n",
                            "      <td>0</td>\n",
                            "      <td>1</td>\n",
                            "      <td>1</td>\n",
                            "      <td>1</td>\n",
                            "      <td>1</td>\n",
                            "      <td>1</td>\n",
                            "      <td>1</td>\n",
                            "      <td>1</td>\n",
                            "    </tr>\n",
                            "    <tr>\n",
                            "      <th>47</th>\n",
                            "      <td>Switzerland</td>\n",
                            "      <td>1</td>\n",
                            "      <td>1</td>\n",
                            "      <td>1</td>\n",
                            "      <td>1</td>\n",
                            "      <td>1</td>\n",
                            "      <td>1</td>\n",
                            "      <td>1</td>\n",
                            "      <td>1</td>\n",
                            "      <td>1</td>\n",
                            "    </tr>\n",
                            "    <tr>\n",
                            "      <th>46</th>\n",
                            "      <td>SK</td>\n",
                            "      <td>1</td>\n",
                            "      <td>1</td>\n",
                            "      <td>1</td>\n",
                            "      <td>1</td>\n",
                            "      <td>1</td>\n",
                            "      <td>1</td>\n",
                            "      <td>1</td>\n",
                            "      <td>1</td>\n",
                            "      <td>1</td>\n",
                            "    </tr>\n",
                            "    <tr>\n",
                            "      <th>49</th>\n",
                            "      <td>TW</td>\n",
                            "      <td>1</td>\n",
                            "      <td>1</td>\n",
                            "      <td>1</td>\n",
                            "      <td>1</td>\n",
                            "      <td>1</td>\n",
                            "      <td>1</td>\n",
                            "      <td>1</td>\n",
                            "      <td>1</td>\n",
                            "      <td>1</td>\n",
                            "    </tr>\n",
                            "    <tr>\n",
                            "      <th>50</th>\n",
                            "      <td>UA</td>\n",
                            "      <td>1</td>\n",
                            "      <td>1</td>\n",
                            "      <td>1</td>\n",
                            "      <td>1</td>\n",
                            "      <td>1</td>\n",
                            "      <td>1</td>\n",
                            "      <td>1</td>\n",
                            "      <td>1</td>\n",
                            "      <td>1</td>\n",
                            "    </tr>\n",
                            "    <tr>\n",
                            "      <th>3</th>\n",
                            "      <td>BE</td>\n",
                            "      <td>1</td>\n",
                            "      <td>1</td>\n",
                            "      <td>1</td>\n",
                            "      <td>1</td>\n",
                            "      <td>1</td>\n",
                            "      <td>1</td>\n",
                            "      <td>1</td>\n",
                            "      <td>1</td>\n",
                            "      <td>1</td>\n",
                            "    </tr>\n",
                            "    <tr>\n",
                            "      <th>53</th>\n",
                            "      <td>UY</td>\n",
                            "      <td>1</td>\n",
                            "      <td>1</td>\n",
                            "      <td>1</td>\n",
                            "      <td>1</td>\n",
                            "      <td>1</td>\n",
                            "      <td>1</td>\n",
                            "      <td>1</td>\n",
                            "      <td>1</td>\n",
                            "      <td>1</td>\n",
                            "    </tr>\n",
                            "    <tr>\n",
                            "      <th>43</th>\n",
                            "      <td>Russian Federation</td>\n",
                            "      <td>1</td>\n",
                            "      <td>1</td>\n",
                            "      <td>1</td>\n",
                            "      <td>1</td>\n",
                            "      <td>1</td>\n",
                            "      <td>1</td>\n",
                            "      <td>1</td>\n",
                            "      <td>1</td>\n",
                            "      <td>1</td>\n",
                            "    </tr>\n",
                            "    <tr>\n",
                            "      <th>19</th>\n",
                            "      <td>France</td>\n",
                            "      <td>1</td>\n",
                            "      <td>1</td>\n",
                            "      <td>1</td>\n",
                            "      <td>1</td>\n",
                            "      <td>1</td>\n",
                            "      <td>1</td>\n",
                            "      <td>1</td>\n",
                            "      <td>1</td>\n",
                            "      <td>1</td>\n",
                            "    </tr>\n",
                            "    <tr>\n",
                            "      <th>40</th>\n",
                            "      <td>PS</td>\n",
                            "      <td>1</td>\n",
                            "      <td>1</td>\n",
                            "      <td>1</td>\n",
                            "      <td>1</td>\n",
                            "      <td>1</td>\n",
                            "      <td>1</td>\n",
                            "      <td>1</td>\n",
                            "      <td>1</td>\n",
                            "      <td>1</td>\n",
                            "    </tr>\n",
                            "    <tr>\n",
                            "      <th>38</th>\n",
                            "      <td>PK</td>\n",
                            "      <td>1</td>\n",
                            "      <td>1</td>\n",
                            "      <td>1</td>\n",
                            "      <td>1</td>\n",
                            "      <td>1</td>\n",
                            "      <td>1</td>\n",
                            "      <td>1</td>\n",
                            "      <td>1</td>\n",
                            "      <td>1</td>\n",
                            "    </tr>\n",
                            "    <tr>\n",
                            "      <th>36</th>\n",
                            "      <td>PA</td>\n",
                            "      <td>1</td>\n",
                            "      <td>1</td>\n",
                            "      <td>1</td>\n",
                            "      <td>1</td>\n",
                            "      <td>1</td>\n",
                            "      <td>1</td>\n",
                            "      <td>1</td>\n",
                            "      <td>1</td>\n",
                            "      <td>1</td>\n",
                            "    </tr>\n",
                            "    <tr>\n",
                            "      <th>6</th>\n",
                            "      <td>Belize</td>\n",
                            "      <td>1</td>\n",
                            "      <td>1</td>\n",
                            "      <td>1</td>\n",
                            "      <td>1</td>\n",
                            "      <td>1</td>\n",
                            "      <td>1</td>\n",
                            "      <td>1</td>\n",
                            "      <td>1</td>\n",
                            "      <td>1</td>\n",
                            "    </tr>\n",
                            "    <tr>\n",
                            "      <th>33</th>\n",
                            "      <td>MY</td>\n",
                            "      <td>1</td>\n",
                            "      <td>1</td>\n",
                            "      <td>1</td>\n",
                            "      <td>1</td>\n",
                            "      <td>1</td>\n",
                            "      <td>1</td>\n",
                            "      <td>1</td>\n",
                            "      <td>1</td>\n",
                            "      <td>1</td>\n",
                            "    </tr>\n",
                            "    <tr>\n",
                            "      <th>31</th>\n",
                            "      <td>Korea, Republic of (South Korea)</td>\n",
                            "      <td>1</td>\n",
                            "      <td>1</td>\n",
                            "      <td>1</td>\n",
                            "      <td>1</td>\n",
                            "      <td>1</td>\n",
                            "      <td>1</td>\n",
                            "      <td>1</td>\n",
                            "      <td>1</td>\n",
                            "      <td>1</td>\n",
                            "    </tr>\n",
                            "    <tr>\n",
                            "      <th>12</th>\n",
                            "      <td>Cyprus</td>\n",
                            "      <td>1</td>\n",
                            "      <td>1</td>\n",
                            "      <td>1</td>\n",
                            "      <td>1</td>\n",
                            "      <td>1</td>\n",
                            "      <td>1</td>\n",
                            "      <td>1</td>\n",
                            "      <td>1</td>\n",
                            "      <td>1</td>\n",
                            "    </tr>\n",
                            "    <tr>\n",
                            "      <th>1</th>\n",
                            "      <td>AE</td>\n",
                            "      <td>1</td>\n",
                            "      <td>1</td>\n",
                            "      <td>1</td>\n",
                            "      <td>1</td>\n",
                            "      <td>1</td>\n",
                            "      <td>1</td>\n",
                            "      <td>1</td>\n",
                            "      <td>1</td>\n",
                            "      <td>1</td>\n",
                            "    </tr>\n",
                            "    <tr>\n",
                            "      <th>14</th>\n",
                            "      <td>DK</td>\n",
                            "      <td>1</td>\n",
                            "      <td>1</td>\n",
                            "      <td>1</td>\n",
                            "      <td>1</td>\n",
                            "      <td>1</td>\n",
                            "      <td>1</td>\n",
                            "      <td>1</td>\n",
                            "      <td>1</td>\n",
                            "      <td>1</td>\n",
                            "    </tr>\n",
                            "    <tr>\n",
                            "      <th>15</th>\n",
                            "      <td>DM</td>\n",
                            "      <td>1</td>\n",
                            "      <td>1</td>\n",
                            "      <td>1</td>\n",
                            "      <td>1</td>\n",
                            "      <td>1</td>\n",
                            "      <td>1</td>\n",
                            "      <td>1</td>\n",
                            "      <td>1</td>\n",
                            "      <td>1</td>\n",
                            "    </tr>\n",
                            "    <tr>\n",
                            "      <th>22</th>\n",
                            "      <td>HK</td>\n",
                            "      <td>1</td>\n",
                            "      <td>1</td>\n",
                            "      <td>1</td>\n",
                            "      <td>1</td>\n",
                            "      <td>1</td>\n",
                            "      <td>1</td>\n",
                            "      <td>1</td>\n",
                            "      <td>1</td>\n",
                            "      <td>1</td>\n",
                            "    </tr>\n",
                            "    <tr>\n",
                            "      <th>37</th>\n",
                            "      <td>PH</td>\n",
                            "      <td>1</td>\n",
                            "      <td>1</td>\n",
                            "      <td>1</td>\n",
                            "      <td>1</td>\n",
                            "      <td>1</td>\n",
                            "      <td>1</td>\n",
                            "      <td>1</td>\n",
                            "      <td>1</td>\n",
                            "      <td>1</td>\n",
                            "    </tr>\n",
                            "  </tbody>\n",
                            "</table>\n",
                            "</div>"
                        ],
                        "text/plain": [
                            "                registration_country  domain  registration_org  \\\n",
                            "52                                US     548               547   \n",
                            "0                                  #     523               523   \n",
                            "13                                DE      37                37   \n",
                            "18                                FR      34                34   \n",
                            "9                                 CN      31                31   \n",
                            "28                                JP      26                26   \n",
                            "7                                 CA      21                21   \n",
                            "20                                GB      20                20   \n",
                            "34                                NL      12                12   \n",
                            "42                                RU      10                10   \n",
                            "8                                 CH      10                10   \n",
                            "44                                SE       8                 8   \n",
                            "51                                UK       8                 8   \n",
                            "10                                CY       5                 5   \n",
                            "26                                IN       5                 5   \n",
                            "25                                IL       5                 5   \n",
                            "16                                ES       5                 5   \n",
                            "29                                KR       4                 4   \n",
                            "54                                VG       4                 4   \n",
                            "2                                 AU       4                 4   \n",
                            "21                                GI       3                 3   \n",
                            "23                                HU       3                 3   \n",
                            "4                                 BR       3                 3   \n",
                            "17                                FI       3                 3   \n",
                            "45                                SG       3                 3   \n",
                            "27                                IT       2                 2   \n",
                            "48                                TR       2                 2   \n",
                            "39                                PL       2                 2   \n",
                            "35                                NO       2                 2   \n",
                            "32                                LU       2                 2   \n",
                            "30                                KY       2                 2   \n",
                            "11                                CZ       2                 2   \n",
                            "24                                IE       2                 2   \n",
                            "41                                RO       2                 2   \n",
                            "5                                 BY       1                 0   \n",
                            "47                       Switzerland       1                 1   \n",
                            "46                                SK       1                 1   \n",
                            "49                                TW       1                 1   \n",
                            "50                                UA       1                 1   \n",
                            "3                                 BE       1                 1   \n",
                            "53                                UY       1                 1   \n",
                            "43                Russian Federation       1                 1   \n",
                            "19                            France       1                 1   \n",
                            "40                                PS       1                 1   \n",
                            "38                                PK       1                 1   \n",
                            "36                                PA       1                 1   \n",
                            "6                             Belize       1                 1   \n",
                            "33                                MY       1                 1   \n",
                            "31  Korea, Republic of (South Korea)       1                 1   \n",
                            "12                            Cyprus       1                 1   \n",
                            "1                                 AE       1                 1   \n",
                            "14                                DK       1                 1   \n",
                            "15                                DM       1                 1   \n",
                            "22                                HK       1                 1   \n",
                            "37                                PH       1                 1   \n",
                            "\n",
                            "    num_embeddings  num_embeddings_javascript  num_embeddings_iframe  \\\n",
                            "52             548                        548                    548   \n",
                            "0              523                        523                    523   \n",
                            "13              37                         37                     37   \n",
                            "18              34                         34                     34   \n",
                            "9               31                         31                     31   \n",
                            "28              26                         26                     26   \n",
                            "7               21                         21                     21   \n",
                            "20              20                         20                     20   \n",
                            "34              12                         12                     12   \n",
                            "42              10                         10                     10   \n",
                            "8               10                         10                     10   \n",
                            "44               8                          8                      8   \n",
                            "51               8                          8                      8   \n",
                            "10               5                          5                      5   \n",
                            "26               5                          5                      5   \n",
                            "25               5                          5                      5   \n",
                            "16               5                          5                      5   \n",
                            "29               4                          4                      4   \n",
                            "54               4                          4                      4   \n",
                            "2                4                          4                      4   \n",
                            "21               3                          3                      3   \n",
                            "23               3                          3                      3   \n",
                            "4                3                          3                      3   \n",
                            "17               3                          3                      3   \n",
                            "45               3                          3                      3   \n",
                            "27               2                          2                      2   \n",
                            "48               2                          2                      2   \n",
                            "39               2                          2                      2   \n",
                            "35               2                          2                      2   \n",
                            "32               2                          2                      2   \n",
                            "30               2                          2                      2   \n",
                            "11               2                          2                      2   \n",
                            "24               2                          2                      2   \n",
                            "41               2                          2                      2   \n",
                            "5                1                          1                      1   \n",
                            "47               1                          1                      1   \n",
                            "46               1                          1                      1   \n",
                            "49               1                          1                      1   \n",
                            "50               1                          1                      1   \n",
                            "3                1                          1                      1   \n",
                            "53               1                          1                      1   \n",
                            "43               1                          1                      1   \n",
                            "19               1                          1                      1   \n",
                            "40               1                          1                      1   \n",
                            "38               1                          1                      1   \n",
                            "36               1                          1                      1   \n",
                            "6                1                          1                      1   \n",
                            "33               1                          1                      1   \n",
                            "31               1                          1                      1   \n",
                            "12               1                          1                      1   \n",
                            "1                1                          1                      1   \n",
                            "14               1                          1                      1   \n",
                            "15               1                          1                      1   \n",
                            "22               1                          1                      1   \n",
                            "37               1                          1                      1   \n",
                            "\n",
                            "    num_embeddings_image  num_embeddings_link  category  company  \n",
                            "52                   548                  548       548      548  \n",
                            "0                    523                  523       523      523  \n",
                            "13                    37                   37        36       37  \n",
                            "18                    34                   34        34       34  \n",
                            "9                     31                   31        31       31  \n",
                            "28                    26                   26        26       26  \n",
                            "7                     21                   21        21       21  \n",
                            "20                    20                   20        20       20  \n",
                            "34                    12                   12        12       12  \n",
                            "42                    10                   10        10       10  \n",
                            "8                     10                   10        10       10  \n",
                            "44                     8                    8         8        8  \n",
                            "51                     8                    8         8        8  \n",
                            "10                     5                    5         5        5  \n",
                            "26                     5                    5         5        5  \n",
                            "25                     5                    5         5        5  \n",
                            "16                     5                    5         5        5  \n",
                            "29                     4                    4         4        4  \n",
                            "54                     4                    4         4        4  \n",
                            "2                      4                    4         4        4  \n",
                            "21                     3                    3         3        3  \n",
                            "23                     3                    3         3        3  \n",
                            "4                      3                    3         3        3  \n",
                            "17                     3                    3         3        3  \n",
                            "45                     3                    3         3        3  \n",
                            "27                     2                    2         2        2  \n",
                            "48                     2                    2         2        2  \n",
                            "39                     2                    2         2        2  \n",
                            "35                     2                    2         2        2  \n",
                            "32                     2                    2         2        2  \n",
                            "30                     2                    2         2        2  \n",
                            "11                     2                    2         2        2  \n",
                            "24                     2                    2         2        2  \n",
                            "41                     2                    2         2        2  \n",
                            "5                      1                    1         1        1  \n",
                            "47                     1                    1         1        1  \n",
                            "46                     1                    1         1        1  \n",
                            "49                     1                    1         1        1  \n",
                            "50                     1                    1         1        1  \n",
                            "3                      1                    1         1        1  \n",
                            "53                     1                    1         1        1  \n",
                            "43                     1                    1         1        1  \n",
                            "19                     1                    1         1        1  \n",
                            "40                     1                    1         1        1  \n",
                            "38                     1                    1         1        1  \n",
                            "36                     1                    1         1        1  \n",
                            "6                      1                    1         1        1  \n",
                            "33                     1                    1         1        1  \n",
                            "31                     1                    1         1        1  \n",
                            "12                     1                    1         1        1  \n",
                            "1                      1                    1         1        1  \n",
                            "14                     1                    1         1        1  \n",
                            "15                     1                    1         1        1  \n",
                            "22                     1                    1         1        1  \n",
                            "37                     1                    1         1        1  "
                        ]
                    },
                    "metadata": {},
                    "execution_count": 30
                }
            ],
            "metadata": {}
        },
        {
            "cell_type": "code",
            "execution_count": null,
            "source": [],
            "outputs": [],
            "metadata": {}
        }
    ],
    "metadata": {
        "orig_nbformat": 4,
        "language_info": {
            "name": "python",
            "version": "3.7.3",
            "mimetype": "text/x-python",
            "codemirror_mode": {
                "name": "ipython",
                "version": 3
            },
            "pygments_lexer": "ipython3",
            "nbconvert_exporter": "python",
            "file_extension": ".py"
        },
        "kernelspec": {
            "name": "python3",
            "display_name": "Python 3.7.3 64-bit ('base': conda)"
        },
        "interpreter": {
            "hash": "d3241af192ca6bbb2a07d95a604a33d4ce752c1755b28e9e828d9c6d67377320"
        }
    },
    "nbformat": 4,
    "nbformat_minor": 2
}