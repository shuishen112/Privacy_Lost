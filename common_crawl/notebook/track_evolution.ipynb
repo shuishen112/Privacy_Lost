{
 "cells": [
  {
   "cell_type": "markdown",
   "metadata": {},
   "source": [
    "# Notebook for the Evolution of trackers."
   ]
  },
  {
   "cell_type": "code",
   "execution_count": null,
   "metadata": {},
   "outputs": [],
   "source": [
    "# compute the mean change of different trackers. \n",
    "import pandas as pd \n",
    "import numpy as np \n",
    "\n",
    "import matplotlib.pyplot as plt\n",
    "df_control = pd.read_csv(\"../dataset_archive/frame_control_count_who.csv\",sep = '\\t')\n",
    "df_edu = pd.read_csv(\"../dataset_archive/frame_edu_count_who.csv\",sep = '\\t')\n",
    "\n",
    "SMALL_SIZE = 12\n",
    "MEDIUM_SIZE = 10\n",
    "BIGGER_SIZE = 12\n",
    "\n",
    "plt.rc('font', size=SMALL_SIZE)          # controls default text sizes\n",
    "plt.rc('axes', titlesize=SMALL_SIZE)     # fontsize of the axes title\n",
    "plt.rc('axes', labelsize=MEDIUM_SIZE)    # fontsize of the x and y labels\n",
    "plt.rc('xtick', labelsize=SMALL_SIZE)    # fontsize of the tick labels\n",
    "plt.rc('ytick', labelsize=SMALL_SIZE)    # fontsize of the tick labels\n",
    "plt.rc('legend', fontsize=SMALL_SIZE)    # legend fontsize\n",
    "plt.rc('figure', titlesize=BIGGER_SIZE)  # fontsize of the figure title\n"
   ]
  },
  {
   "cell_type": "code",
   "execution_count": null,
   "metadata": {},
   "outputs": [],
   "source": [
    "df_control_des = df_control.describe()\n",
    "df_edu_des = df_edu.describe()\n",
    "df_edu_des"
   ]
  },
  {
   "cell_type": "code",
   "execution_count": null,
   "metadata": {},
   "outputs": [],
   "source": [
    "df_control_des"
   ]
  },
  {
   "cell_type": "code",
   "execution_count": null,
   "metadata": {},
   "outputs": [],
   "source": [
    "# df_edu_des['10_years_increased'] = (df_edu_des['tracker_2021'] - df_edu_des['tracker_2012']) / df_edu_des['tracker_2012']\n",
    "# df_edu_des"
   ]
  },
  {
   "cell_type": "code",
   "execution_count": null,
   "metadata": {},
   "outputs": [],
   "source": [
    "# df_control_des['10_years_increased'] = (df_control_des['tracker_2021'] - df_control_des['tracker_2012']) / df_control_des['tracker_2012']\n",
    "# df_control_des"
   ]
  },
  {
   "cell_type": "markdown",
   "metadata": {},
   "source": [
    "# 2018 decrease"
   ]
  },
  {
   "cell_type": "code",
   "execution_count": null,
   "metadata": {},
   "outputs": [],
   "source": [
    "# df_edu_des['18_decreased'] = (df_edu_des['tracker_2021'] - df_edu_des['tracker_2018']) / df_edu_des['tracker_2018']\n",
    "# df_edu_des"
   ]
  },
  {
   "cell_type": "code",
   "execution_count": null,
   "metadata": {},
   "outputs": [],
   "source": [
    "# df_control_des['18_decreased'] = (df_control_des['tracker_2021'] - df_control_des['tracker_2018']) / df_control_des['tracker_2018']\n",
    "# df_control_des"
   ]
  },
  {
   "cell_type": "code",
   "execution_count": null,
   "metadata": {},
   "outputs": [],
   "source": [
    "# avg number change\n",
    "\n",
    "   \n",
    "Year = list(range(2012,2022))\n",
    "\n",
    "  \n",
    "plt.plot(Year, df_edu_des.loc['mean'], color='red', marker='o',label = 'edu')\n",
    "plt.plot(Year, df_control_des.loc['mean'], color='blue', marker='+',label = \"non-edu\")\n",
    "\n",
    "# plt.title('Average number of trackers', fontsize=14)\n",
    "# plt.xlabel('Year', fontsize=14)\n",
    "plt.ylabel('Average number of trackers', fontsize=14)\n",
    "plt.axvline(x = 2018, color = 'green', linestyle = ':')\n",
    "plt.yticks(np.arange(0, 2.8, step=0.3))\n",
    "plt.legend()\n",
    "plt.annotate('2.338', xy=(2018, 2.55),\n",
    "             bbox=dict( boxstyle='square',  fc='blue'),\n",
    "             arrowprops=dict(facecolor='steelblue', shrink=0.01), fontsize=10, color='white')\n",
    "plt.annotate('2.443', xy=(2020, 2.6),\n",
    "             bbox=dict(boxstyle='square', fc='red'),\n",
    "             arrowprops=dict(facecolor='steelblue', shrink=0.01), fontsize=10, color='white')\n",
    "\n",
    "plt.annotate('GDPR rules', xy=(2018, 0.3),\n",
    "             bbox=dict(boxstyle='square', fc='firebrick'),\n",
    "             arrowprops=dict(facecolor='steelblue', shrink=0.01), fontsize=10, color='white')\n",
    "plt.grid(alpha = 0.5)\n",
    "plt.savefig(\"../images/section4/avg_number.png\",dpi = 200)\n",
    "plt.show()\n"
   ]
  },
  {
   "cell_type": "code",
   "execution_count": null,
   "metadata": {},
   "outputs": [],
   "source": [
    "# max\n",
    "\n",
    "plt.plot(Year, df_edu_des.loc['max'], color='red', marker='o',label = 'edu')\n",
    "plt.plot(Year, df_control_des.loc['max'], color='blue', marker='+',label = \"non-edu\")\n",
    "plt.xlabel('Year', fontsize=14)\n",
    "plt.ylabel('Max number of trackers', fontsize=14)\n",
    "plt.legend()\n",
    "plt.savefig(\"../images/section4/max_number.png\",dpi = 200)"
   ]
  },
  {
   "cell_type": "code",
   "execution_count": null,
   "metadata": {},
   "outputs": [],
   "source": [
    "# std \n",
    "plt.plot(Year, df_edu_des.loc['std'], color='red', marker='o',label = 'edu')\n",
    "plt.plot(Year, df_control_des.loc['std'], color='blue', marker='+',label = \"non-edu\")\n",
    "plt.xlabel('Year', fontsize=14)\n",
    "plt.ylabel('std of trackers number', fontsize=14)\n",
    "plt.legend()\n",
    "plt.savefig(\"../images/section4/max_number.png\",dpi = 200)"
   ]
  },
  {
   "cell_type": "markdown",
   "metadata": {},
   "source": [
    "## Analyze the develop of tracker rate"
   ]
  },
  {
   "cell_type": "code",
   "execution_count": null,
   "metadata": {},
   "outputs": [],
   "source": [
    "df_rate_edu = pd.read_csv(\"../dataset_archive/df_rate_merge_edu_whoexclude.csv\").fillna(0)\n",
    "df_rate_control = pd.read_csv(\"../dataset_archive/df_rate_merge_base_whoexclude.csv\").fillna(0)\n",
    "\n",
    "df_rate_edu.head()\n",
    "\n",
    "df_rate_edu.loc[df_rate_edu.trackers == 'cloudflare']\n",
    "df_rate_control.loc[df_rate_control.trackers == \"cloudflare\"]"
   ]
  },
  {
   "cell_type": "code",
   "execution_count": null,
   "metadata": {},
   "outputs": [],
   "source": [
    "tracker_list = []\n",
    "for year in range(2012, 2022):\n",
    "    list_e = df_rate_edu.sort_values(by = str(year),ascending = False).head(10)['trackers'].to_list()\n",
    "    print(list_e)\n",
    "    tracker_list.extend(df_rate_edu.sort_values(by = str(year),ascending = False).head(10)['trackers'].to_list())\n",
    "\n",
    "set(tracker_list)"
   ]
  },
  {
   "cell_type": "code",
   "execution_count": null,
   "metadata": {},
   "outputs": [],
   "source": [
    "# get the top 10 for each year\n"
   ]
  },
  {
   "cell_type": "code",
   "execution_count": null,
   "metadata": {},
   "outputs": [],
   "source": [
    "# draw figure\n",
    "years = list(range(2012,2022))\n",
    "years"
   ]
  },
  {
   "cell_type": "markdown",
   "metadata": {},
   "source": [
    "# Heat map of the tracker number evoluation "
   ]
  },
  {
   "cell_type": "code",
   "execution_count": null,
   "metadata": {},
   "outputs": [],
   "source": [
    "import seaborn as sns\n",
    "\n",
    "tracker_names_list = list(map(str,list(range(2012,2022))))\n",
    "print(tracker_names_list)\n",
    "df_rate_edu_draw = df_rate_edu[:10]\n",
    "plt.figure(figsize=(12,10), dpi= 200)\n",
    "sns.heatmap(df_rate_edu_draw[tracker_names_list], xticklabels=range(2012,2022), yticklabels=df_rate_edu_draw.trackers, cmap='BrBG', center=0, annot=True)\n",
    "\n",
    "# Decorations\n",
    "# plt.title('Different Categorical Evolution', fontsize=22)\n",
    "plt.xticks(fontsize=25)\n",
    "plt.yticks(fontsize=25)\n",
    "plt.show()"
   ]
  },
  {
   "cell_type": "code",
   "execution_count": null,
   "metadata": {},
   "outputs": [],
   "source": [
    "for trackers in ['google-analytics','google','facebook','twitter','linkedin']:\n",
    "    rate_edu_l = df_rate_edu.loc[df_rate_edu.trackers == trackers].values.flatten().tolist()\n",
    "    plt.plot(years,rate_edu_l[1:11],marker='o',label = trackers, linestyle=':',linewidth = 2)\n",
    "plt.xlabel('Year', fontsize=14)\n",
    "plt.ylabel('tracker rate in edu websites', fontsize=14)\n",
    "plt.yticks(np.arange(0, 0.7, step=0.1))\n",
    "plt.legend()\n",
    "plt.savefig(\"../images/section4/tracker_rate_change_edu.png\",dpi = 200)"
   ]
  },
  {
   "cell_type": "code",
   "execution_count": null,
   "metadata": {},
   "outputs": [],
   "source": [
    "for trackers in ['google-analytics','google','facebook','twitter','linkedin']:\n",
    "    rate_control_l = df_rate_control.loc[df_rate_control.trackers == trackers].values.flatten().tolist()\n",
    "    plt.plot(years,rate_control_l[1:11],marker='+',label = trackers,linestyle=':',linewidth = 2)\n",
    "plt.xlabel('Year', fontsize=14)\n",
    "plt.ylabel('tracker rate in non-edu websites', fontsize=14)\n",
    "plt.yticks(np.arange(0, 0.7, step=0.1))\n",
    "plt.savefig(\"../images/section4/tracker_rate_change_non-edu.png\",dpi = 200)\n",
    "plt.legend()"
   ]
  },
  {
   "cell_type": "code",
   "execution_count": null,
   "metadata": {},
   "outputs": [],
   "source": [
    "\n",
    "color_map = {\"facebook\":\"red\",\"twitter\":\"blue\",\"linkedin\":\"green\",\"google\":\"orange\",\"google-analytics\":\"green\"}\n",
    "\n",
    "for trackers in ['facebook','twitter']:\n",
    "    rate_edu_l = df_rate_edu.loc[df_rate_edu.trackers == trackers].values.flatten().tolist()\n",
    "    rate_control_l = df_rate_control.loc[df_rate_control.trackers == trackers].values.flatten().tolist()\n",
    "    plt.plot(years,rate_edu_l[1:11],marker='o',label = f'{trackers}(edu)',linewidth = 2,color =color_map[trackers] )\n",
    "    plt.plot(years,rate_control_l[1:],marker='o',label = f'{trackers}(non-edu)',linestyle=':',linewidth = 2,color =color_map[trackers])\n",
    "# plt.xlabel('Year', fontsize=14) \n",
    "plt.ylabel('Usage rate of trackers', fontsize=14)\n",
    "plt.yticks(np.arange(0, 0.3, step=0.1))\n",
    "plt.legend()\n",
    "plt.grid(alpha=0.5)\n",
    "plt.savefig(\"../images/section4/usage_rate_trackers_comparision.png\",dpi = 600)"
   ]
  },
  {
   "cell_type": "code",
   "execution_count": null,
   "metadata": {},
   "outputs": [],
   "source": [
    "# color_map['twimg'] = \"red\"\n",
    "for trackers in ['google','google-analytics']:\n",
    "    rate_edu_l = df_rate_edu.loc[df_rate_edu.trackers == trackers].values.flatten().tolist()\n",
    "    rate_control_l = df_rate_control.loc[df_rate_control.trackers == trackers].values.flatten().tolist()\n",
    "    plt.plot(years,rate_edu_l[1:],marker='o',label = f'{trackers}(edu)',linewidth = 2,color =color_map[trackers] )\n",
    "    plt.plot(years,rate_control_l[1:],marker='o',label = f'{trackers}(non-edu)',linestyle=':',linewidth = 2,color =color_map[trackers])\n",
    "# plt.xlabel('Year', fontsize=14) \n",
    "plt.ylabel('Usage rate of trackers', fontsize=14)\n",
    "plt.yticks(np.arange(0, 0.6, step=0.1))\n",
    "plt.legend()\n",
    "plt.grid(alpha=0.5)\n",
    "plt.savefig(\"../images/section4/usage_rate_trackers_comparision_2.png\",dpi = 600)"
   ]
  },
  {
   "cell_type": "code",
   "execution_count": null,
   "metadata": {},
   "outputs": [],
   "source": [
    "df_rate_edu[:10]"
   ]
  },
  {
   "cell_type": "code",
   "execution_count": null,
   "metadata": {},
   "outputs": [],
   "source": [
    "df_rate_control[:10]"
   ]
  },
  {
   "cell_type": "markdown",
   "metadata": {},
   "source": [
    "# plot the increase rate in the last 10 years"
   ]
  },
  {
   "cell_type": "code",
   "execution_count": null,
   "metadata": {},
   "outputs": [],
   "source": [
    "\n",
    "# df_rate_edu['10_year_change'] = (df_rate_edu['2021'] - df_rate_edu['2012']) / df_rate_edu['2012']\n",
    "# df_rate_control['10_year_change'] = (df_rate_control['2021'] - df_rate_control['2012']) / df_rate_control['2012']\n",
    "\n",
    "# # creat a dictionary\n",
    "# edu_k_v = dict(zip(df_rate_edu['trackers'].to_list(),df_rate_edu['10_year_change'].to_list()))\n",
    "# control_k_v = dict(zip(df_rate_control['trackers'].to_list(), df_rate_control['10_year_change'].to_list()))\n",
    "\n",
    "# fig, ax = plt.subplots(figsize=(16,10), facecolor='white', dpi= 80)\n",
    "\n",
    "\n",
    "# x = df_rate_edu['trackers'][:10].to_list()\n",
    "# y_edu = [edu_k_v[key] for key in x]\n",
    "# y_control = [control_k_v[key]for key in x]\n",
    "\n",
    "# bar_width = 0.35\n",
    "# # ax.rc(\"font\", size=\"25\")\n",
    "\n",
    "# rects1 = ax.barh(x, y_edu, label=\"educational websites\", color=\"red\")\n",
    "# rects2 = ax.barh(x, y_control , label=\"non-educationl websites\", color=\"blue\", left = y_edu)\n",
    "# plt.gca().xaxis.set_major_formatter(ticker.PercentFormatter(xmax=1, decimals=1))\n",
    "\n",
    "# ax.bar_label(rects1, padding=3)\n",
    "# ax.bar_label(rects2, padding=3)\n",
    "\n",
    "\n",
    "# # plt.xticks(rotation=45)\n",
    "# ax.legend(fontsize = 20)\n",
    "# # plt.savefig(\n",
    "# #     \"images/{}_rate_{}{}.png\".format(draw_type, tracker_type, element_type),bbox_inches='tight', dpi=200\n",
    "# # )\n",
    "\n",
    "# ax.grid(alpha=0.5)\n",
    "# plt.savefig(\"../images/section4/usage_rate_trackers_top_10.png\",dpi = 600)\n",
    "# plt.show()\n"
   ]
  },
  {
   "cell_type": "code",
   "execution_count": null,
   "metadata": {},
   "outputs": [],
   "source": [
    "df_rate_edu['10_year_change'] = (df_rate_edu['2021'] - df_rate_edu['2012']) / df_rate_edu['2012']\n",
    "df_rate_control['10_year_change'] = (df_rate_control['2021'] - df_rate_control['2012']) / df_rate_control['2012']\n",
    "df_rate_edu[['trackers','2012','2021','10_year_change']].head(30)"
   ]
  },
  {
   "cell_type": "code",
   "execution_count": null,
   "metadata": {},
   "outputs": [],
   "source": [
    "# creat a dictionary\n",
    "edu_k_v = dict(zip(df_rate_edu['trackers'].to_list(),df_rate_edu['10_year_change'].to_list()))\n",
    "control_k_v = dict(zip(df_rate_control['trackers'].to_list(), df_rate_control['10_year_change'].to_list()))\n",
    "labels = df_rate_edu['trackers'][:10].to_list()\n",
    "# labels = list(set(tracker_list))\n",
    "\n",
    "y_edu = {key: edu_k_v[key] for key in labels}\n",
    "y_control = {key: control_k_v[key]for key in labels}\n",
    "y_edu = dict(sorted(y_edu.items(), key=lambda item: item[1],reverse=False))\n",
    "y_edu\n"
   ]
  },
  {
   "cell_type": "code",
   "execution_count": null,
   "metadata": {},
   "outputs": [],
   "source": [
    "y_control"
   ]
  },
  {
   "cell_type": "code",
   "execution_count": null,
   "metadata": {},
   "outputs": [],
   "source": [
    "labels = y_edu.keys()\n",
    "y_edu_draw = y_edu.values()\n",
    "y_control_draw = [control_k_v[key] for key in labels]\n",
    "print(labels)"
   ]
  },
  {
   "cell_type": "code",
   "execution_count": null,
   "metadata": {},
   "outputs": [],
   "source": [
    "print(y_edu_draw)"
   ]
  },
  {
   "cell_type": "code",
   "execution_count": null,
   "metadata": {},
   "outputs": [],
   "source": [
    "print(y_control_draw)"
   ]
  },
  {
   "cell_type": "code",
   "execution_count": null,
   "metadata": {},
   "outputs": [],
   "source": [
    "\n",
    "from matplotlib import ticker\n",
    "\n",
    "import numpy as np \n",
    "\n",
    "\n",
    "\n",
    "# y_edu_labels = [f\"{100*round(edu_k_v[key],2)}%\" for key in labels]\n",
    "# y_control_labels = [f\"{100*round(control_k_v[key],2)}%\" for key in labels]\n",
    "# y_control_labels[1] = '29.0%'\n",
    "\n",
    "\n",
    "x = np.arange(len(labels))  # the label locations\n",
    "width = 0.4  # the width of the bars\n",
    "\n",
    "fig, ax = plt.subplots(figsize=(25,12), facecolor='white', dpi= 200)\n",
    "rects1 = ax.barh(x - width/2, y_edu_draw, width,label='educational websites', color = \"red\",linewidth = 2,edgecolor='black')\n",
    "rects2 = ax.barh(x + width/2, y_control_draw, width, label='non-educational websites', color = \"blue\", linewidth = 2,edgecolor='black')\n",
    "\n",
    "\n",
    "\n",
    "plt.gca().xaxis.set_major_formatter(ticker.PercentFormatter(xmax=1, decimals=1))\n",
    "\n",
    "\n",
    "# Add some text for labels, title and custom x-axis tick labels, etc.\n",
    "# ax.set_title('Scores by group and gender')\n",
    "ax.set_yticks(x, labels,fontsize = 40)\n",
    "\n",
    "\n",
    "ax.legend(fontsize = 40)\n",
    "# ax.bar_label(rects1, padding=0, labels = y_edu_labels,fmt='%.2f',fontsize = 20)\n",
    "# ax.bar_label(rects2, padding=0, labels = y_control_labels,fmt='%.2f',fontsize = 20)\n",
    "plt.rc('xtick', labelsize=40) \n",
    "fig.tight_layout()\n",
    "   # fontsize of the tick labels\n",
    "\n",
    "plt.show()"
   ]
  },
  {
   "cell_type": "code",
   "execution_count": null,
   "metadata": {},
   "outputs": [],
   "source": [
    "df_rate_edu[['trackers','10_year_change',\"2012\",\"2021\"]][:10]\n"
   ]
  },
  {
   "cell_type": "code",
   "execution_count": null,
   "metadata": {},
   "outputs": [],
   "source": [
    "df_rate_control[['trackers','10_year_change',\"2012\",\"2021\"]][:20]"
   ]
  },
  {
   "cell_type": "code",
   "execution_count": null,
   "metadata": {},
   "outputs": [],
   "source": []
  }
 ],
 "metadata": {
  "kernelspec": {
   "display_name": "Python 3.8.13",
   "language": "python",
   "name": "python3"
  },
  "language_info": {
   "codemirror_mode": {
    "name": "ipython",
    "version": 3
   },
   "file_extension": ".py",
   "mimetype": "text/x-python",
   "name": "python",
   "nbconvert_exporter": "python",
   "pygments_lexer": "ipython3",
   "version": "3.8.13 (default, Mar 28 2022, 11:38:47) \n[GCC 7.5.0]"
  },
  "orig_nbformat": 4,
  "vscode": {
   "interpreter": {
    "hash": "3a4641dabb502a09a6d8f2aaa091f42fb383761f2a90c85265180664c4c2386f"
   }
  }
 },
 "nbformat": 4,
 "nbformat_minor": 2
}
