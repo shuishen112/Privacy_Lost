{
 "metadata": {
  "language_info": {
   "codemirror_mode": {
    "name": "ipython",
    "version": 3
   },
   "file_extension": ".py",
   "mimetype": "text/x-python",
   "name": "python",
   "nbconvert_exporter": "python",
   "pygments_lexer": "ipython3",
   "version": "3.7.3"
  },
  "orig_nbformat": 2,
  "kernelspec": {
   "name": "python373jvsc74a57bd0398dc28c06ad810e77de546bbdfa897a6ee0b83e59a5207339dda01a7843e01d",
   "display_name": "Python 3.7.3 64-bit"
  }
 },
 "nbformat": 4,
 "nbformat_minor": 2,
 "cells": [
  {
   "source": [
    "# The notebook for feature_extracting and clustering"
   ],
   "cell_type": "markdown",
   "metadata": {}
  },
  {
   "source": [
    "## Understand the dataset"
   ],
   "cell_type": "markdown",
   "metadata": {}
  },
  {
   "cell_type": "code",
   "execution_count": 101,
   "metadata": {},
   "outputs": [
    {
     "output_type": "stream",
     "name": "stdout",
     "text": [
      "   id  page_id  domain_id         domain  expires_text  \\\n",
      "0   1        1          1    .google.com  1.619798e+09   \n",
      "1   2        1          1    .google.com  1.633017e+09   \n",
      "2   3        2        369     .google.dk  1.619798e+09   \n",
      "3   4        2        369     .google.dk  1.633017e+09   \n",
      "4   5        3         11  wikipedia.org  1.620039e+09   \n",
      "\n",
      "               expires_timestamp http_only is_3p  is_1p_3p             name  \\\n",
      "0     2021-04-30 15:49:33.807+00         f     f       NaN           1P_JAR   \n",
      "1  2021-09-30 15:49:33.492089+00         t     f       NaN              NID   \n",
      "2  2021-04-30 15:49:34.076979+00         f     f       NaN           1P_JAR   \n",
      "3   2021-09-30 15:49:33.75869+00         t     f       NaN              NID   \n",
      "4  2021-05-03 10:48:18.527784+00         t     f       NaN  WMF-Last-Access   \n",
      "\n",
      "  path same_site secure session  size  \\\n",
      "0    /      None      t       f    19   \n",
      "1    /      None      t       f   178   \n",
      "2    /      None      t       f    19   \n",
      "3    /      None      t       f   178   \n",
      "4    /       NaN      t       f    26   \n",
      "\n",
      "                                               value is_set_by_response  \n",
      "0                                      2021-03-31-15                  t  \n",
      "1  212=OBBSqEXSsYEJ62QZx2v0W735d9inF-lEIf9swKt7VD...                  t  \n",
      "2                                      2021-03-31-15                  t  \n",
      "3  212=kQ4MAmbkhEz-3qU9F0sD91AG9Klzxl4gvbg5FJ8Hho...                  t  \n",
      "4                                        31-Mar-2021                  f  \n",
      "b'Skipping line 36: expected 17 fields, saw 18\\nSkipping line 374: expected 17 fields, saw 23\\nSkipping line 563: expected 17 fields, saw 18\\nSkipping line 1613: expected 17 fields, saw 18\\nSkipping line 1754: expected 17 fields, saw 26\\nSkipping line 2088: expected 17 fields, saw 34\\nSkipping line 2090: expected 17 fields, saw 19\\nSkipping line 2091: expected 17 fields, saw 21\\nSkipping line 2579: expected 17 fields, saw 26\\nSkipping line 2580: expected 17 fields, saw 19\\nSkipping line 2581: expected 17 fields, saw 21\\nSkipping line 4168: expected 17 fields, saw 18\\nSkipping line 4200: expected 17 fields, saw 26\\nSkipping line 4395: expected 17 fields, saw 27\\nSkipping line 4707: expected 17 fields, saw 18\\nSkipping line 4708: expected 17 fields, saw 18\\nSkipping line 4709: expected 17 fields, saw 19\\nSkipping line 5915: expected 17 fields, saw 18\\nSkipping line 6134: expected 17 fields, saw 27\\nSkipping line 6317: expected 17 fields, saw 20\\nSkipping line 6334: expected 17 fields, saw 18\\nSkipping line 6335: expected 17 fields, saw 18\\nSkipping line 7099: expected 17 fields, saw 19\\nSkipping line 7281: expected 17 fields, saw 82\\nSkipping line 7409: expected 17 fields, saw 26\\nSkipping line 7448: expected 17 fields, saw 25\\nSkipping line 7963: expected 17 fields, saw 18\\nSkipping line 7997: expected 17 fields, saw 20\\nSkipping line 8425: expected 17 fields, saw 26\\nSkipping line 8724: expected 17 fields, saw 27\\nSkipping line 8771: expected 17 fields, saw 18\\nSkipping line 8772: expected 17 fields, saw 19\\nSkipping line 8773: expected 17 fields, saw 21\\nSkipping line 9285: expected 17 fields, saw 20\\nSkipping line 9470: expected 17 fields, saw 19\\nSkipping line 10219: expected 17 fields, saw 18\\nSkipping line 10220: expected 17 fields, saw 19\\nSkipping line 10221: expected 17 fields, saw 23\\nSkipping line 10465: expected 17 fields, saw 22\\nSkipping line 10581: expected 17 fields, saw 18\\nSkipping line 10583: expected 17 fields, saw 19\\nSkipping line 10584: expected 17 fields, saw 21\\nSkipping line 11005: expected 17 fields, saw 20\\nSkipping line 11009: expected 17 fields, saw 18\\nSkipping line 11010: expected 17 fields, saw 19\\nSkipping line 11011: expected 17 fields, saw 21\\nSkipping line 11250: expected 17 fields, saw 20\\nSkipping line 11313: expected 17 fields, saw 24\\nSkipping line 11499: expected 17 fields, saw 18\\nSkipping line 12688: expected 17 fields, saw 20\\nSkipping line 12690: expected 17 fields, saw 19\\nSkipping line 12691: expected 17 fields, saw 21\\nSkipping line 13363: expected 17 fields, saw 26\\nSkipping line 13569: expected 17 fields, saw 18\\nSkipping line 13570: expected 17 fields, saw 19\\nSkipping line 13571: expected 17 fields, saw 19\\nSkipping line 13779: expected 17 fields, saw 26\\nSkipping line 13780: expected 17 fields, saw 19\\nSkipping line 13781: expected 17 fields, saw 21\\nSkipping line 13809: expected 17 fields, saw 18\\nSkipping line 13812: expected 17 fields, saw 19\\nSkipping line 13813: expected 17 fields, saw 21\\nSkipping line 14033: expected 17 fields, saw 33\\nSkipping line 15064: expected 17 fields, saw 18\\nSkipping line 15079: expected 17 fields, saw 18\\nSkipping line 15083: expected 17 fields, saw 18\\nSkipping line 15087: expected 17 fields, saw 18\\nSkipping line 15089: expected 17 fields, saw 18\\nSkipping line 15524: expected 17 fields, saw 26\\nSkipping line 15527: expected 17 fields, saw 19\\nSkipping line 15528: expected 17 fields, saw 21\\nSkipping line 15553: expected 17 fields, saw 18\\nSkipping line 15556: expected 17 fields, saw 18\\nSkipping line 15560: expected 17 fields, saw 18\\nSkipping line 15564: expected 17 fields, saw 18\\nSkipping line 15566: expected 17 fields, saw 18\\nSkipping line 15568: expected 17 fields, saw 18\\nSkipping line 16200: expected 17 fields, saw 26\\nSkipping line 16201: expected 17 fields, saw 19\\nSkipping line 16202: expected 17 fields, saw 21\\nSkipping line 16383: expected 17 fields, saw 18\\nSkipping line 16448: expected 17 fields, saw 18\\nSkipping line 16449: expected 17 fields, saw 18\\n'\n"
     ]
    }
   ],
   "source": [
    "import pandas as pd\n",
    "# error_bad_lines = False means that I skip the noisy lines\n",
    "df = pd.read_csv(\"dk_cookie\",sep = ',',error_bad_lines = False)\n",
    "print(df.head())\n",
    "# select some useful features\n",
    "df = df[['domain_id','domain','http_only','is_3p','name','secure','session','size','is_set_by_response']]"
   ]
  },
  {
   "cell_type": "code",
   "execution_count": 102,
   "metadata": {},
   "outputs": [
    {
     "output_type": "execute_result",
     "data": {
      "text/plain": [
       "           domain  http_only  is_3p  name  secure  session  size  \\\n",
       "domain_id                                                          \n",
       "1              46         46     46    46      46       46    46   \n",
       "11              3          3      3     3       3        3     3   \n",
       "15              1          1      1     1       1        1     1   \n",
       "369             2          2      2     2       2        2     2   \n",
       "372             1          1      1     1       1        1     1   \n",
       "\n",
       "           is_set_by_response  \n",
       "domain_id                      \n",
       "1                          46  \n",
       "11                          3  \n",
       "15                          1  \n",
       "369                         2  \n",
       "372                         1  "
      ],
      "text/html": "<div>\n<style scoped>\n    .dataframe tbody tr th:only-of-type {\n        vertical-align: middle;\n    }\n\n    .dataframe tbody tr th {\n        vertical-align: top;\n    }\n\n    .dataframe thead th {\n        text-align: right;\n    }\n</style>\n<table border=\"1\" class=\"dataframe\">\n  <thead>\n    <tr style=\"text-align: right;\">\n      <th></th>\n      <th>domain</th>\n      <th>http_only</th>\n      <th>is_3p</th>\n      <th>name</th>\n      <th>secure</th>\n      <th>session</th>\n      <th>size</th>\n      <th>is_set_by_response</th>\n    </tr>\n    <tr>\n      <th>domain_id</th>\n      <th></th>\n      <th></th>\n      <th></th>\n      <th></th>\n      <th></th>\n      <th></th>\n      <th></th>\n      <th></th>\n    </tr>\n  </thead>\n  <tbody>\n    <tr>\n      <th>1</th>\n      <td>46</td>\n      <td>46</td>\n      <td>46</td>\n      <td>46</td>\n      <td>46</td>\n      <td>46</td>\n      <td>46</td>\n      <td>46</td>\n    </tr>\n    <tr>\n      <th>11</th>\n      <td>3</td>\n      <td>3</td>\n      <td>3</td>\n      <td>3</td>\n      <td>3</td>\n      <td>3</td>\n      <td>3</td>\n      <td>3</td>\n    </tr>\n    <tr>\n      <th>15</th>\n      <td>1</td>\n      <td>1</td>\n      <td>1</td>\n      <td>1</td>\n      <td>1</td>\n      <td>1</td>\n      <td>1</td>\n      <td>1</td>\n    </tr>\n    <tr>\n      <th>369</th>\n      <td>2</td>\n      <td>2</td>\n      <td>2</td>\n      <td>2</td>\n      <td>2</td>\n      <td>2</td>\n      <td>2</td>\n      <td>2</td>\n    </tr>\n    <tr>\n      <th>372</th>\n      <td>1</td>\n      <td>1</td>\n      <td>1</td>\n      <td>1</td>\n      <td>1</td>\n      <td>1</td>\n      <td>1</td>\n      <td>1</td>\n    </tr>\n  </tbody>\n</table>\n</div>"
     },
     "metadata": {},
     "execution_count": 102
    }
   ],
   "source": [
    "#  cookie num of domain_id\n",
    "df.groupby('domain_id').count().reindex().head()"
   ]
  },
  {
   "cell_type": "code",
   "execution_count": 103,
   "metadata": {},
   "outputs": [
    {
     "output_type": "stream",
     "name": "stdout",
     "text": [
      "1491\n3453\n"
     ]
    }
   ],
   "source": [
    "# domain_count\n",
    "print(len(df['domain_id'].unique()))\n",
    "# cookies num\n",
    "print(len(df['name'].unique()))"
   ]
  },
  {
   "source": [
    "## Preprocessing  the dataset"
   ],
   "cell_type": "markdown",
   "metadata": {}
  },
  {
   "cell_type": "code",
   "execution_count": 104,
   "metadata": {},
   "outputs": [
    {
     "output_type": "stream",
     "name": "stdout",
     "text": [
      "   size  domain_id  .ASPXANONYMOUS  .ASPXAUTH  \\\n0    19          1               0          0   \n1   178          1               0          0   \n2    19        369               0          0   \n3   178        369               0          0   \n4    26         11               0          0   \n\n   .AspNetCore.Antiforgery.-SzxaGM9wQc  .AspNetCore.Antiforgery.qccZu4b6Ivc  \\\n0                                    0                                    0   \n1                                    0                                    0   \n2                                    0                                    0   \n3                                    0                                    0   \n4                                    0                                    0   \n\n   .AspNetCore.GhostUserAuthentication  \\\n0                                    0   \n1                                    0   \n2                                    0   \n3                                    0   \n4                                    0   \n\n   .AspNetCore.Mvc.CookieTempDataProvider  .AspNetCore.Session  .Nop.Customer  \\\n0                                       0                    0              0   \n1                                       0                    0              0   \n2                                       0                    0              0   \n3                                       0                    0              0   \n4                                       0                    0              0   \n\n   ...  zuuid_k  zuuid_lu  f  t  f  t  f  t  f  t  \n0  ...        0         0  1  0  0  1  1  0  0  1  \n1  ...        0         0  1  0  0  1  1  0  0  1  \n2  ...        0         0  1  0  0  1  1  0  0  1  \n3  ...        0         0  1  0  0  1  1  0  0  1  \n4  ...        0         0  1  0  0  1  1  0  1  0  \n\n[5 rows x 3462 columns]\n"
     ]
    }
   ],
   "source": [
    "cookie_name_dump = pd.get_dummies(df['name'])\n",
    "is_3p_dump = pd.get_dummies(df['is_3p'])\n",
    "secure_dump = pd.get_dummies(df['secure'])\n",
    "session_dump = pd.get_dummies(df['session'])\n",
    "set_by_response_dump = pd.get_dummies(df['is_set_by_response'])\n",
    "\n",
    "cookie_domain_set = pd.concat([df['size'],df['domain_id'],cookie_name_dump,is_3p_dump,secure_dump,session_dump,set_by_response_dump],axis = 1)\n",
    "\n",
    "# del cookie_name_dump['name']\n",
    "# del cookie_name_dump['is_3p']\n",
    "# del cookie_name_dump['secure']\n",
    "# del cookie_name_dump['session']\n",
    "# del cookie_name_dump['is_set_by_response']\n",
    "\n",
    "print(cookie_domain_set.head())"
   ]
  },
  {
   "source": [
    "## normalization"
   ],
   "cell_type": "markdown",
   "metadata": {}
  },
  {
   "cell_type": "code",
   "execution_count": 105,
   "metadata": {},
   "outputs": [
    {
     "output_type": "stream",
     "name": "stderr",
     "text": [
      "/anaconda3/lib/python3.7/site-packages/sklearn/utils/validation.py:595: DataConversionWarning: Data with input dtype int64 was converted to float64 by MinMaxScaler.\n",
      "  warnings.warn(msg, DataConversionWarning)\n",
      "       size  domain_id  .ASPXANONYMOUS  .ASPXAUTH  \\\n",
      "0  0.004237   0.000000             0.0        0.0   \n",
      "1  0.043868   0.000000             0.0        0.0   \n",
      "2  0.004237   0.000946             0.0        0.0   \n",
      "3  0.043868   0.000946             0.0        0.0   \n",
      "4  0.005982   0.000026             0.0        0.0   \n",
      "\n",
      "   .AspNetCore.Antiforgery.-SzxaGM9wQc  .AspNetCore.Antiforgery.qccZu4b6Ivc  \\\n",
      "0                                  0.0                                  0.0   \n",
      "1                                  0.0                                  0.0   \n",
      "2                                  0.0                                  0.0   \n",
      "3                                  0.0                                  0.0   \n",
      "4                                  0.0                                  0.0   \n",
      "\n",
      "   .AspNetCore.GhostUserAuthentication  \\\n",
      "0                                  0.0   \n",
      "1                                  0.0   \n",
      "2                                  0.0   \n",
      "3                                  0.0   \n",
      "4                                  0.0   \n",
      "\n",
      "   .AspNetCore.Mvc.CookieTempDataProvider  .AspNetCore.Session  .Nop.Customer  \\\n",
      "0                                     0.0                  0.0            0.0   \n",
      "1                                     0.0                  0.0            0.0   \n",
      "2                                     0.0                  0.0            0.0   \n",
      "3                                     0.0                  0.0            0.0   \n",
      "4                                     0.0                  0.0            0.0   \n",
      "\n",
      "   ...  zuuid_k  zuuid_lu    f    t    f    t    f    t    f    t  \n",
      "0  ...      0.0       0.0  1.0  0.0  0.0  1.0  1.0  0.0  0.0  1.0  \n",
      "1  ...      0.0       0.0  1.0  0.0  0.0  1.0  1.0  0.0  0.0  1.0  \n",
      "2  ...      0.0       0.0  1.0  0.0  0.0  1.0  1.0  0.0  0.0  1.0  \n",
      "3  ...      0.0       0.0  1.0  0.0  0.0  1.0  1.0  0.0  0.0  1.0  \n",
      "4  ...      0.0       0.0  1.0  0.0  0.0  1.0  1.0  0.0  1.0  0.0  \n",
      "\n",
      "[5 rows x 3462 columns]\n"
     ]
    }
   ],
   "source": [
    "from sklearn import preprocessing\n",
    "cookie_values = cookie_domain_set.values\n",
    "min_max_scaler = preprocessing.MinMaxScaler()\n",
    "x_scaled = min_max_scaler.fit_transform(cookie_values)\n",
    "cookie_scaled = pd.DataFrame(x_scaled,columns=cookie_domain_set.columns)\n",
    "print(cookie_scaled.head())"
   ]
  },
  {
   "source": [
    "### dimension reduction"
   ],
   "cell_type": "markdown",
   "metadata": {}
  },
  {
   "cell_type": "code",
   "execution_count": 106,
   "metadata": {
    "tags": []
   },
   "outputs": [
    {
     "output_type": "stream",
     "name": "stdout",
     "text": [
      "(16977, 3462)\n",
      "(16977, 2)\n"
     ]
    }
   ],
   "source": [
    "from sklearn.decomposition import PCA\n",
    "pca = PCA(2)\n",
    "print(cookie_scaled.shape)\n",
    "pca_data = pca.fit_transform(cookie_scaled)\n",
    "print(pca_data.shape)"
   ]
  },
  {
   "source": [
    "## Modeling"
   ],
   "cell_type": "markdown",
   "metadata": {}
  },
  {
   "cell_type": "code",
   "execution_count": 107,
   "metadata": {},
   "outputs": [
    {
     "output_type": "stream",
     "name": "stdout",
     "text": [
      "[5 5 5 ... 9 9 9]\n16977\n"
     ]
    }
   ],
   "source": [
    "from sklearn.cluster import KMeans\n",
    "\n",
    "kmeans = KMeans(10)\n",
    "kfit = kmeans.fit(pca_data)\n",
    "identified_clusters = kfit.predict(pca_data)\n",
    "\n",
    "print(identified_clusters)\n",
    "print(len(identified_clusters))"
   ]
  },
  {
   "source": [
    "## plot the picture"
   ],
   "cell_type": "markdown",
   "metadata": {}
  },
  {
   "cell_type": "code",
   "execution_count": 108,
   "metadata": {},
   "outputs": [
    {
     "output_type": "display_data",
     "data": {
      "text/plain": "<Figure size 432x288 with 1 Axes>",
      "image/png": "[encoded data removed]"
     },
     "metadata": {
      "needs_background": "light"
     }
    }
   ],
   "source": [
    "import matplotlib.pyplot as plt \n",
    "import numpy as np \n",
    "u_labels = np.unique(identified_clusters)\n",
    "\n",
    "for i in u_labels:\n",
    "    plt.scatter(pca_data[identified_clusters == i, 0],pca_data[identified_clusters == i, 1],label = i)\n",
    "plt.legend()\n",
    "plt.show()\n"
   ]
  },
  {
   "source": [
    "## data view"
   ],
   "cell_type": "markdown",
   "metadata": {}
  },
  {
   "cell_type": "code",
   "execution_count": 115,
   "metadata": {
    "tags": []
   },
   "outputs": [
    {
     "output_type": "stream",
     "name": "stdout",
     "text": [
      "       domain_id                   domain http_only is_3p  \\\n5845      151426                  .aau.dk         f     f   \n2984       89863  www.conradelektronik.dk         f     f   \n13570     322598        platinumgod.co.uk         f     f   \n3240       96463                .xbox.com         f     f   \n3239       96463                .xbox.com         f     f   \n\n                         name secure session  size is_set_by_response  Cluster  \n5845   _dc_gtm_UA-13174199-13      t       f    23                  f        0  \n2984       conrad-cart-cookie      t       f   128                  f        0  \n13570            waldo_region      t       f    14                  f        0  \n3240                    _cs_s      t       f     8                  f        0  \n3239                   _cs_id      t       f   109                  f        0  \n       domain_id                domain http_only is_3p                  name  \\\n6676       56361         .linkedin.com         f     t               li_sugr   \n14181       7837            .adnxs.com         t     t                  uids   \n14187      20269  .amazon-adsystem.com         t     t            ad-privacy   \n6644       20500            .rlcdn.com         f     t                  pxrc   \n15588      56361         .linkedin.com         f     t  AnalyticsSyncHistory   \n\n      secure session  size is_set_by_response  Cluster  \n6676       t       f    43                  t        1  \n14181      t       f   172                  t        1  \n14187      t       f    11                  t        1  \n6644       t       f    32                  t        1  \n15588      t       f   106                  t        1  \n       domain_id              domain http_only is_3p               name  \\\n11161     158586          .ordnet.dk         f     f             __utmb   \n11835      62760       www.msnbc.com         f     f                _cb   \n14308       3491             .vk.com         f     f         tmr_lvidTS   \n11548     146910  .probuildstats.com         f     f            _pubcid   \n9874      173670   coinmarketcap.com         f     f  gtm_session_first   \n\n      secure session  size is_set_by_response  Cluster  \n11161      f       f    31                  f        2  \n11835      f       f    19                  f        2  \n14308      f       f    23                  f        2  \n11548      f       f    43                  f        2  \n9874       f       f    51                  f        2  \n       domain_id               domain http_only is_3p  name secure session  \\\n8430        6082         .youtube.com         t     t   YSC      t       t   \n15851      56361        .linkedin.com         f     t  lang      t       t   \n4039       26776  .rubiconproject.com         f     t  rsid      t       t   \n10142       6082         .youtube.com         t     t   YSC      t       t   \n1737        6082         .youtube.com         t     t   YSC      t       t   \n\n       size is_set_by_response  Cluster  \n8430     14                  t        3  \n15851    18                  t        3  \n4039    162                  t        3  \n10142    14                  t        3  \n1737     14                  t        3  \n       domain_id            domain http_only is_3p  \\\n44          1434   .trustpilot.com         f     f   \n3112       96154     animepahe.com         f     f   \n61          5122  hubt.pornhub.com         f     f   \n16967     388483    www2.bridge.dk         t     f   \n12800     309914          .krak.dk         f     f   \n\n                                      name secure session  size  \\\n44     amplitude_idundefinedtrustpilot.com      f       t   171   \n3112                              SERVERID      f       t    17   \n61                            RNLBSERVERID      f       t    19   \n16967                    ASP.NET_SessionId      f       t    41   \n12800                                onces      f       t    18   \n\n      is_set_by_response  Cluster  \n44                     f        4  \n3112                   f        4  \n61                     f        4  \n16967                  f        4  \n12800                  f        4  \n       domain_id                        domain http_only is_3p        name  \\\n16402     378275                 .banggood.com         f     f       _abck   \n16425     381222        r.remarketingpixel.com         f     t          ak   \n14502      75485      uk-script.dotmetrics.net         f     t  AWSALBCORS   \n15265      21519  beacon.lynx.cognitivlabs.com         f     t          ss   \n16423     381220          webtrafficsource.com         f     t        uxid   \n\n      secure session  size is_set_by_response  Cluster  \n16402      t       f   450                  t        5  \n16425      t       f    16                  f        5  \n14502      t       f   134                  f        5  \n15265      t       f    98                  f        5  \n16423      t       f    40                  f        5  \n       domain_id            domain http_only is_3p                   name  \\\n6755      176407    www.magasin.dk         f     f                 dw_dnt   \n12179     300705  buy.logitech.com         t     f             JSESSIONID   \n16740     385846     .bitstamp.net         f     f  incap_ses_951_2168970   \n16168     372596  www.jyskebank.dk         t     f             JSESSIONID   \n10349     263407   www.ihc-user.dk         t     f   ips4_IPSSessionFront   \n\n      secure session  size is_set_by_response  Cluster  \n6755       t       t     7                  f        6  \n12179      t       t    42                  f        6  \n16740      f       t    77                  t        6  \n16168      t       t    47                  f        6  \n10349      t       t    52                  f        6  \n       domain_id               domain http_only is_3p         name secure  \\\n14230      50558  ads.stickyadstv.com         f     t         pxId      t   \n14233      50558  ads.stickyadstv.com         f     t    sessionId      t   \n6198      163748        .rejsekort.dk         t     f  ARRAffinity      t   \n15816     365644           .www.qt.io         t     f     __cfruid      t   \n15053     353715     atlas.atsptp.com         t     t    sessionid      t   \n\n      session  size is_set_by_response  Cluster  \n14230       t     8                  f        7  \n14233       t    40                  f        7  \n6198        t    75                  t        7  \n15816       t    59                  t        7  \n15053       t    45                  f        7  \n       domain_id         domain http_only is_3p                        name  \\\n12790     309059        .ea.com         t     f                       bm_sv   \n192         9743      .imdb.com         f     f                  session-id   \n191         9743      .imdb.com         f     f                   ubid-main   \n10197     255102  .unilad.co.uk         f     f  exp-SBAsQ2dtRDOWG7xgRpv9dA   \n10196     255102  .unilad.co.uk         t     f                    __cfduid   \n\n      secure session  size is_set_by_response  Cluster  \n12790      f       f   190                  t        8  \n192        f       f    29                  t        8  \n191        f       f    28                  t        8  \n10197      f       f    27                  t        8  \n10196      f       f    51                  t        8  \n       domain_id                   domain http_only is_3p  \\\n16484     346748            .blizzard.com         f     f   \n5555      147213                  .sde.dk         f     f   \n15605     363088            .handyhand.dk         f     f   \n16935     387535  .thetappingsolution.com         f     f   \n16485     346748            .blizzard.com         f     f   \n\n                      name secure session  size is_set_by_response  Cluster  \n16484                 _gid      f       f    31                  f        9  \n5555                   _ga      f       f    29                  f        9  \n15605       _gat_tealium_0      f       f    15                  f        9  \n16935           _vis_opt_s      f       f    14                  f        9  \n16485  _gat_UA-50249600-47      f       f    20                  f        9  \n"
     ]
    }
   ],
   "source": [
    "clustered_data_scaled = df.copy()\n",
    "clustered_data_scaled['Cluster'] = identified_clusters\n",
    "\n",
    "df_sort = clustered_data_scaled.sort_values(by = 'Cluster')\n",
    "\n",
    "for i in u_labels:\n",
    "    print(df_sort[df_sort['Cluster'] == i].head())\n"
   ]
  },
  {
   "cell_type": "code",
   "execution_count": null,
   "metadata": {},
   "outputs": [],
   "source": []
  }
 ]
}