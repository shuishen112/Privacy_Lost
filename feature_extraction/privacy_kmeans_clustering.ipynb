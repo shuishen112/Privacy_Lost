{
 "metadata": {
  "language_info": {
   "codemirror_mode": {
    "name": "ipython",
    "version": 3
   },
   "file_extension": ".py",
   "mimetype": "text/x-python",
   "name": "python",
   "nbconvert_exporter": "python",
   "pygments_lexer": "ipython3",
   "version": "3.7.3"
  },
  "orig_nbformat": 2,
  "kernelspec": {
   "name": "python373jvsc74a57bd0398dc28c06ad810e77de546bbdfa897a6ee0b83e59a5207339dda01a7843e01d",
   "display_name": "Python 3.7.3 64-bit"
  }
 },
 "nbformat": 4,
 "nbformat_minor": 2,
 "cells": [
  {
   "source": [
    "# The notebook for feature_extracting and clustering"
   ],
   "cell_type": "markdown",
   "metadata": {}
  },
  {
   "source": [
    "## Understand the dataset"
   ],
   "cell_type": "markdown",
   "metadata": {}
  },
  {
   "cell_type": "code",
   "execution_count": 61,
   "metadata": {},
   "outputs": [
    {
     "output_type": "stream",
     "name": "stdout",
     "text": [
      "   id  page_id  domain_id         domain  expires_text  \\\n",
      "0   1        1          1    .google.com  1.619798e+09   \n",
      "1   2        1          1    .google.com  1.633017e+09   \n",
      "2   3        2        369     .google.dk  1.619798e+09   \n",
      "3   4        2        369     .google.dk  1.633017e+09   \n",
      "4   5        3         11  wikipedia.org  1.620039e+09   \n",
      "\n",
      "               expires_timestamp http_only is_3p  is_1p_3p             name  \\\n",
      "0     2021-04-30 15:49:33.807+00         f     f       NaN           1P_JAR   \n",
      "1  2021-09-30 15:49:33.492089+00         t     f       NaN              NID   \n",
      "2  2021-04-30 15:49:34.076979+00         f     f       NaN           1P_JAR   \n",
      "3   2021-09-30 15:49:33.75869+00         t     f       NaN              NID   \n",
      "4  2021-05-03 10:48:18.527784+00         t     f       NaN  WMF-Last-Access   \n",
      "\n",
      "  path same_site secure session  size  \\\n",
      "0    /      None      t       f    19   \n",
      "1    /      None      t       f   178   \n",
      "2    /      None      t       f    19   \n",
      "3    /      None      t       f   178   \n",
      "4    /       NaN      t       f    26   \n",
      "\n",
      "                                               value is_set_by_response  \n",
      "0                                      2021-03-31-15                  t  \n",
      "1  212=OBBSqEXSsYEJ62QZx2v0W735d9inF-lEIf9swKt7VD...                  t  \n",
      "2                                      2021-03-31-15                  t  \n",
      "3  212=kQ4MAmbkhEz-3qU9F0sD91AG9Klzxl4gvbg5FJ8Hho...                  t  \n",
      "4                                        31-Mar-2021                  f  \n",
      "b'Skipping line 36: expected 17 fields, saw 18\\nSkipping line 374: expected 17 fields, saw 23\\nSkipping line 563: expected 17 fields, saw 18\\nSkipping line 1613: expected 17 fields, saw 18\\nSkipping line 1754: expected 17 fields, saw 26\\nSkipping line 2088: expected 17 fields, saw 34\\nSkipping line 2090: expected 17 fields, saw 19\\nSkipping line 2091: expected 17 fields, saw 21\\nSkipping line 2579: expected 17 fields, saw 26\\nSkipping line 2580: expected 17 fields, saw 19\\nSkipping line 2581: expected 17 fields, saw 21\\nSkipping line 4168: expected 17 fields, saw 18\\nSkipping line 4200: expected 17 fields, saw 26\\nSkipping line 4395: expected 17 fields, saw 27\\nSkipping line 4707: expected 17 fields, saw 18\\nSkipping line 4708: expected 17 fields, saw 18\\nSkipping line 4709: expected 17 fields, saw 19\\nSkipping line 5915: expected 17 fields, saw 18\\nSkipping line 6134: expected 17 fields, saw 27\\nSkipping line 6317: expected 17 fields, saw 20\\nSkipping line 6334: expected 17 fields, saw 18\\nSkipping line 6335: expected 17 fields, saw 18\\nSkipping line 7099: expected 17 fields, saw 19\\nSkipping line 7281: expected 17 fields, saw 82\\nSkipping line 7409: expected 17 fields, saw 26\\nSkipping line 7448: expected 17 fields, saw 25\\nSkipping line 7963: expected 17 fields, saw 18\\nSkipping line 7997: expected 17 fields, saw 20\\nSkipping line 8425: expected 17 fields, saw 26\\nSkipping line 8724: expected 17 fields, saw 27\\nSkipping line 8771: expected 17 fields, saw 18\\nSkipping line 8772: expected 17 fields, saw 19\\nSkipping line 8773: expected 17 fields, saw 21\\nSkipping line 9285: expected 17 fields, saw 20\\nSkipping line 9470: expected 17 fields, saw 19\\nSkipping line 10219: expected 17 fields, saw 18\\nSkipping line 10220: expected 17 fields, saw 19\\nSkipping line 10221: expected 17 fields, saw 23\\nSkipping line 10465: expected 17 fields, saw 22\\nSkipping line 10581: expected 17 fields, saw 18\\nSkipping line 10583: expected 17 fields, saw 19\\nSkipping line 10584: expected 17 fields, saw 21\\nSkipping line 11005: expected 17 fields, saw 20\\nSkipping line 11009: expected 17 fields, saw 18\\nSkipping line 11010: expected 17 fields, saw 19\\nSkipping line 11011: expected 17 fields, saw 21\\nSkipping line 11250: expected 17 fields, saw 20\\nSkipping line 11313: expected 17 fields, saw 24\\nSkipping line 11499: expected 17 fields, saw 18\\nSkipping line 12688: expected 17 fields, saw 20\\nSkipping line 12690: expected 17 fields, saw 19\\nSkipping line 12691: expected 17 fields, saw 21\\nSkipping line 13363: expected 17 fields, saw 26\\nSkipping line 13569: expected 17 fields, saw 18\\nSkipping line 13570: expected 17 fields, saw 19\\nSkipping line 13571: expected 17 fields, saw 19\\nSkipping line 13779: expected 17 fields, saw 26\\nSkipping line 13780: expected 17 fields, saw 19\\nSkipping line 13781: expected 17 fields, saw 21\\nSkipping line 13809: expected 17 fields, saw 18\\nSkipping line 13812: expected 17 fields, saw 19\\nSkipping line 13813: expected 17 fields, saw 21\\nSkipping line 14033: expected 17 fields, saw 33\\nSkipping line 15064: expected 17 fields, saw 18\\nSkipping line 15079: expected 17 fields, saw 18\\nSkipping line 15083: expected 17 fields, saw 18\\nSkipping line 15087: expected 17 fields, saw 18\\nSkipping line 15089: expected 17 fields, saw 18\\nSkipping line 15524: expected 17 fields, saw 26\\nSkipping line 15527: expected 17 fields, saw 19\\nSkipping line 15528: expected 17 fields, saw 21\\nSkipping line 15553: expected 17 fields, saw 18\\nSkipping line 15556: expected 17 fields, saw 18\\nSkipping line 15560: expected 17 fields, saw 18\\nSkipping line 15564: expected 17 fields, saw 18\\nSkipping line 15566: expected 17 fields, saw 18\\nSkipping line 15568: expected 17 fields, saw 18\\nSkipping line 16200: expected 17 fields, saw 26\\nSkipping line 16201: expected 17 fields, saw 19\\nSkipping line 16202: expected 17 fields, saw 21\\nSkipping line 16383: expected 17 fields, saw 18\\nSkipping line 16448: expected 17 fields, saw 18\\nSkipping line 16449: expected 17 fields, saw 18\\n'\n"
     ]
    }
   ],
   "source": [
    "import pandas as pd\n",
    "df = pd.read_csv(\"dk_cookie\",sep = ',',error_bad_lines = False)\n",
    "print(df.head())\n",
    "df = df[['domain_id','http_only','is_3p','name','secure','session','size','is_set_by_response']]"
   ]
  },
  {
   "cell_type": "code",
   "execution_count": 60,
   "metadata": {},
   "outputs": [
    {
     "output_type": "execute_result",
     "data": {
      "text/plain": [
       "           http_only  is_3p  name  secure  session  size  is_set_by_response\n",
       "domain_id                                                                   \n",
       "1                 46     46    46      46       46    46                  46\n",
       "11                 3      3     3       3        3     3                   3\n",
       "15                 1      1     1       1        1     1                   1\n",
       "369                2      2     2       2        2     2                   2\n",
       "372                1      1     1       1        1     1                   1\n",
       "473                4      4     4       4        4     4                   4\n",
       "551               57     57    57      57       57    57                  57\n",
       "554               57     57    57      57       57    57                  57\n",
       "762                1      1     1       1        1     1                   1\n",
       "766                2      2     2       2        2     2                   2\n",
       "930                1      1     1       1        1     1                   1\n",
       "935                3      3     3       3        3     3                   3\n",
       "1087               5      5     5       5        5     5                   5\n",
       "1089               3      3     3       3        3     3                   3\n",
       "1345               2      2     2       2        2     2                   2\n",
       "1354               4      4     4       4        4     4                   4\n",
       "1434              11     11    11      11       11    11                  11\n",
       "1435               2      2     2       2        2     2                   2\n",
       "1581              11     11    11      11       11    11                  11\n",
       "1637               1      1     1       1        1     1                   1\n",
       "1639               1      1     1       1        1     1                   1\n",
       "2098               4      4     4       4        4     4                   4\n",
       "2099               2      2     2       2        2     2                   2\n",
       "2170               1      1     1       1        1     1                   1\n",
       "2223              11     11    11      11       11    11                  11\n",
       "2229               3      3     3       3        3     3                   3\n",
       "2244               4      4     4       4        4     4                   4\n",
       "2266               7      7     7       7        7     7                   7\n",
       "2294               1      1     1       1        1     1                   1\n",
       "2494               2      2     2       2        2     2                   2\n",
       "...              ...    ...   ...     ...      ...   ...                 ...\n",
       "378277            17     17    17      17       17    17                  17\n",
       "379794             8      8     8       8        8     8                   8\n",
       "380227             1      1     1       1        1     1                   1\n",
       "380576             1      1     1       1        1     1                   1\n",
       "381017             1      1     1       1        1     1                   1\n",
       "381042             2      2     2       2        2     2                   2\n",
       "381114             3      3     3       3        3     3                   3\n",
       "381220             1      1     1       1        1     1                   1\n",
       "381222             3      3     3       3        3     3                   3\n",
       "381784             2      2     2       2        2     2                   2\n",
       "381791             2      2     2       2        2     2                   2\n",
       "382283             7      7     7       7        7     7                   7\n",
       "382284             8      8     8       8        8     8                   8\n",
       "382792             1      1     1       1        1     1                   1\n",
       "383639            12     12    12      12       12    12                  12\n",
       "383640             1      1     1       1        1     1                   1\n",
       "384223             8      8     8       8        8     8                   8\n",
       "385375             2      2     2       2        2     2                   2\n",
       "385846             6      6     6       6        6     6                   6\n",
       "385847             2      2     2       2        2     2                   2\n",
       "386107             8      8     8       8        8     8                   8\n",
       "386108             7      7     7       7        7     7                   7\n",
       "386322             2      2     2       2        2     2                   2\n",
       "387535             9      9     9       9        9     9                   9\n",
       "387536             3      3     3       3        3     3                   3\n",
       "387958             1      1     1       1        1     1                   1\n",
       "388472             1      1     1       1        1     1                   1\n",
       "388482             3      3     3       3        3     3                   3\n",
       "388483             2      2     2       2        2     2                   2\n",
       "388919             5      5     5       5        5     5                   5\n",
       "\n",
       "[1491 rows x 7 columns]"
      ],
      "text/html": "<div>\n<style scoped>\n    .dataframe tbody tr th:only-of-type {\n        vertical-align: middle;\n    }\n\n    .dataframe tbody tr th {\n        vertical-align: top;\n    }\n\n    .dataframe thead th {\n        text-align: right;\n    }\n</style>\n<table border=\"1\" class=\"dataframe\">\n  <thead>\n    <tr style=\"text-align: right;\">\n      <th></th>\n      <th>http_only</th>\n      <th>is_3p</th>\n      <th>name</th>\n      <th>secure</th>\n      <th>session</th>\n      <th>size</th>\n      <th>is_set_by_response</th>\n    </tr>\n    <tr>\n      <th>domain_id</th>\n      <th></th>\n      <th></th>\n      <th></th>\n      <th></th>\n      <th></th>\n      <th></th>\n      <th></th>\n    </tr>\n  </thead>\n  <tbody>\n    <tr>\n      <th>1</th>\n      <td>46</td>\n      <td>46</td>\n      <td>46</td>\n      <td>46</td>\n      <td>46</td>\n      <td>46</td>\n      <td>46</td>\n    </tr>\n    <tr>\n      <th>11</th>\n      <td>3</td>\n      <td>3</td>\n      <td>3</td>\n      <td>3</td>\n      <td>3</td>\n      <td>3</td>\n      <td>3</td>\n    </tr>\n    <tr>\n      <th>15</th>\n      <td>1</td>\n      <td>1</td>\n      <td>1</td>\n      <td>1</td>\n      <td>1</td>\n      <td>1</td>\n      <td>1</td>\n    </tr>\n    <tr>\n      <th>369</th>\n      <td>2</td>\n      <td>2</td>\n      <td>2</td>\n      <td>2</td>\n      <td>2</td>\n      <td>2</td>\n      <td>2</td>\n    </tr>\n    <tr>\n      <th>372</th>\n      <td>1</td>\n      <td>1</td>\n      <td>1</td>\n      <td>1</td>\n      <td>1</td>\n      <td>1</td>\n      <td>1</td>\n    </tr>\n    <tr>\n      <th>473</th>\n      <td>4</td>\n      <td>4</td>\n      <td>4</td>\n      <td>4</td>\n      <td>4</td>\n      <td>4</td>\n      <td>4</td>\n    </tr>\n    <tr>\n      <th>551</th>\n      <td>57</td>\n      <td>57</td>\n      <td>57</td>\n      <td>57</td>\n      <td>57</td>\n      <td>57</td>\n      <td>57</td>\n    </tr>\n    <tr>\n      <th>554</th>\n      <td>57</td>\n      <td>57</td>\n      <td>57</td>\n      <td>57</td>\n      <td>57</td>\n      <td>57</td>\n      <td>57</td>\n    </tr>\n    <tr>\n      <th>762</th>\n      <td>1</td>\n      <td>1</td>\n      <td>1</td>\n      <td>1</td>\n      <td>1</td>\n      <td>1</td>\n      <td>1</td>\n    </tr>\n    <tr>\n      <th>766</th>\n      <td>2</td>\n      <td>2</td>\n      <td>2</td>\n      <td>2</td>\n      <td>2</td>\n      <td>2</td>\n      <td>2</td>\n    </tr>\n    <tr>\n      <th>930</th>\n      <td>1</td>\n      <td>1</td>\n      <td>1</td>\n      <td>1</td>\n      <td>1</td>\n      <td>1</td>\n      <td>1</td>\n    </tr>\n    <tr>\n      <th>935</th>\n      <td>3</td>\n      <td>3</td>\n      <td>3</td>\n      <td>3</td>\n      <td>3</td>\n      <td>3</td>\n      <td>3</td>\n    </tr>\n    <tr>\n      <th>1087</th>\n      <td>5</td>\n      <td>5</td>\n      <td>5</td>\n      <td>5</td>\n      <td>5</td>\n      <td>5</td>\n      <td>5</td>\n    </tr>\n    <tr>\n      <th>1089</th>\n      <td>3</td>\n      <td>3</td>\n      <td>3</td>\n      <td>3</td>\n      <td>3</td>\n      <td>3</td>\n      <td>3</td>\n    </tr>\n    <tr>\n      <th>1345</th>\n      <td>2</td>\n      <td>2</td>\n      <td>2</td>\n      <td>2</td>\n      <td>2</td>\n      <td>2</td>\n      <td>2</td>\n    </tr>\n    <tr>\n      <th>1354</th>\n      <td>4</td>\n      <td>4</td>\n      <td>4</td>\n      <td>4</td>\n      <td>4</td>\n      <td>4</td>\n      <td>4</td>\n    </tr>\n    <tr>\n      <th>1434</th>\n      <td>11</td>\n      <td>11</td>\n      <td>11</td>\n      <td>11</td>\n      <td>11</td>\n      <td>11</td>\n      <td>11</td>\n    </tr>\n    <tr>\n      <th>1435</th>\n      <td>2</td>\n      <td>2</td>\n      <td>2</td>\n      <td>2</td>\n      <td>2</td>\n      <td>2</td>\n      <td>2</td>\n    </tr>\n    <tr>\n      <th>1581</th>\n      <td>11</td>\n      <td>11</td>\n      <td>11</td>\n      <td>11</td>\n      <td>11</td>\n      <td>11</td>\n      <td>11</td>\n    </tr>\n    <tr>\n      <th>1637</th>\n      <td>1</td>\n      <td>1</td>\n      <td>1</td>\n      <td>1</td>\n      <td>1</td>\n      <td>1</td>\n      <td>1</td>\n    </tr>\n    <tr>\n      <th>1639</th>\n      <td>1</td>\n      <td>1</td>\n      <td>1</td>\n      <td>1</td>\n      <td>1</td>\n      <td>1</td>\n      <td>1</td>\n    </tr>\n    <tr>\n      <th>2098</th>\n      <td>4</td>\n      <td>4</td>\n      <td>4</td>\n      <td>4</td>\n      <td>4</td>\n      <td>4</td>\n      <td>4</td>\n    </tr>\n    <tr>\n      <th>2099</th>\n      <td>2</td>\n      <td>2</td>\n      <td>2</td>\n      <td>2</td>\n      <td>2</td>\n      <td>2</td>\n      <td>2</td>\n    </tr>\n    <tr>\n      <th>2170</th>\n      <td>1</td>\n      <td>1</td>\n      <td>1</td>\n      <td>1</td>\n      <td>1</td>\n      <td>1</td>\n      <td>1</td>\n    </tr>\n    <tr>\n      <th>2223</th>\n      <td>11</td>\n      <td>11</td>\n      <td>11</td>\n      <td>11</td>\n      <td>11</td>\n      <td>11</td>\n      <td>11</td>\n    </tr>\n    <tr>\n      <th>2229</th>\n      <td>3</td>\n      <td>3</td>\n      <td>3</td>\n      <td>3</td>\n      <td>3</td>\n      <td>3</td>\n      <td>3</td>\n    </tr>\n    <tr>\n      <th>2244</th>\n      <td>4</td>\n      <td>4</td>\n      <td>4</td>\n      <td>4</td>\n      <td>4</td>\n      <td>4</td>\n      <td>4</td>\n    </tr>\n    <tr>\n      <th>2266</th>\n      <td>7</td>\n      <td>7</td>\n      <td>7</td>\n      <td>7</td>\n      <td>7</td>\n      <td>7</td>\n      <td>7</td>\n    </tr>\n    <tr>\n      <th>2294</th>\n      <td>1</td>\n      <td>1</td>\n      <td>1</td>\n      <td>1</td>\n      <td>1</td>\n      <td>1</td>\n      <td>1</td>\n    </tr>\n    <tr>\n      <th>2494</th>\n      <td>2</td>\n      <td>2</td>\n      <td>2</td>\n      <td>2</td>\n      <td>2</td>\n      <td>2</td>\n      <td>2</td>\n    </tr>\n    <tr>\n      <th>...</th>\n      <td>...</td>\n      <td>...</td>\n      <td>...</td>\n      <td>...</td>\n      <td>...</td>\n      <td>...</td>\n      <td>...</td>\n    </tr>\n    <tr>\n      <th>378277</th>\n      <td>17</td>\n      <td>17</td>\n      <td>17</td>\n      <td>17</td>\n      <td>17</td>\n      <td>17</td>\n      <td>17</td>\n    </tr>\n    <tr>\n      <th>379794</th>\n      <td>8</td>\n      <td>8</td>\n      <td>8</td>\n      <td>8</td>\n      <td>8</td>\n      <td>8</td>\n      <td>8</td>\n    </tr>\n    <tr>\n      <th>380227</th>\n      <td>1</td>\n      <td>1</td>\n      <td>1</td>\n      <td>1</td>\n      <td>1</td>\n      <td>1</td>\n      <td>1</td>\n    </tr>\n    <tr>\n      <th>380576</th>\n      <td>1</td>\n      <td>1</td>\n      <td>1</td>\n      <td>1</td>\n      <td>1</td>\n      <td>1</td>\n      <td>1</td>\n    </tr>\n    <tr>\n      <th>381017</th>\n      <td>1</td>\n      <td>1</td>\n      <td>1</td>\n      <td>1</td>\n      <td>1</td>\n      <td>1</td>\n      <td>1</td>\n    </tr>\n    <tr>\n      <th>381042</th>\n      <td>2</td>\n      <td>2</td>\n      <td>2</td>\n      <td>2</td>\n      <td>2</td>\n      <td>2</td>\n      <td>2</td>\n    </tr>\n    <tr>\n      <th>381114</th>\n      <td>3</td>\n      <td>3</td>\n      <td>3</td>\n      <td>3</td>\n      <td>3</td>\n      <td>3</td>\n      <td>3</td>\n    </tr>\n    <tr>\n      <th>381220</th>\n      <td>1</td>\n      <td>1</td>\n      <td>1</td>\n      <td>1</td>\n      <td>1</td>\n      <td>1</td>\n      <td>1</td>\n    </tr>\n    <tr>\n      <th>381222</th>\n      <td>3</td>\n      <td>3</td>\n      <td>3</td>\n      <td>3</td>\n      <td>3</td>\n      <td>3</td>\n      <td>3</td>\n    </tr>\n    <tr>\n      <th>381784</th>\n      <td>2</td>\n      <td>2</td>\n      <td>2</td>\n      <td>2</td>\n      <td>2</td>\n      <td>2</td>\n      <td>2</td>\n    </tr>\n    <tr>\n      <th>381791</th>\n      <td>2</td>\n      <td>2</td>\n      <td>2</td>\n      <td>2</td>\n      <td>2</td>\n      <td>2</td>\n      <td>2</td>\n    </tr>\n    <tr>\n      <th>382283</th>\n      <td>7</td>\n      <td>7</td>\n      <td>7</td>\n      <td>7</td>\n      <td>7</td>\n      <td>7</td>\n      <td>7</td>\n    </tr>\n    <tr>\n      <th>382284</th>\n      <td>8</td>\n      <td>8</td>\n      <td>8</td>\n      <td>8</td>\n      <td>8</td>\n      <td>8</td>\n      <td>8</td>\n    </tr>\n    <tr>\n      <th>382792</th>\n      <td>1</td>\n      <td>1</td>\n      <td>1</td>\n      <td>1</td>\n      <td>1</td>\n      <td>1</td>\n      <td>1</td>\n    </tr>\n    <tr>\n      <th>383639</th>\n      <td>12</td>\n      <td>12</td>\n      <td>12</td>\n      <td>12</td>\n      <td>12</td>\n      <td>12</td>\n      <td>12</td>\n    </tr>\n    <tr>\n      <th>383640</th>\n      <td>1</td>\n      <td>1</td>\n      <td>1</td>\n      <td>1</td>\n      <td>1</td>\n      <td>1</td>\n      <td>1</td>\n    </tr>\n    <tr>\n      <th>384223</th>\n      <td>8</td>\n      <td>8</td>\n      <td>8</td>\n      <td>8</td>\n      <td>8</td>\n      <td>8</td>\n      <td>8</td>\n    </tr>\n    <tr>\n      <th>385375</th>\n      <td>2</td>\n      <td>2</td>\n      <td>2</td>\n      <td>2</td>\n      <td>2</td>\n      <td>2</td>\n      <td>2</td>\n    </tr>\n    <tr>\n      <th>385846</th>\n      <td>6</td>\n      <td>6</td>\n      <td>6</td>\n      <td>6</td>\n      <td>6</td>\n      <td>6</td>\n      <td>6</td>\n    </tr>\n    <tr>\n      <th>385847</th>\n      <td>2</td>\n      <td>2</td>\n      <td>2</td>\n      <td>2</td>\n      <td>2</td>\n      <td>2</td>\n      <td>2</td>\n    </tr>\n    <tr>\n      <th>386107</th>\n      <td>8</td>\n      <td>8</td>\n      <td>8</td>\n      <td>8</td>\n      <td>8</td>\n      <td>8</td>\n      <td>8</td>\n    </tr>\n    <tr>\n      <th>386108</th>\n      <td>7</td>\n      <td>7</td>\n      <td>7</td>\n      <td>7</td>\n      <td>7</td>\n      <td>7</td>\n      <td>7</td>\n    </tr>\n    <tr>\n      <th>386322</th>\n      <td>2</td>\n      <td>2</td>\n      <td>2</td>\n      <td>2</td>\n      <td>2</td>\n      <td>2</td>\n      <td>2</td>\n    </tr>\n    <tr>\n      <th>387535</th>\n      <td>9</td>\n      <td>9</td>\n      <td>9</td>\n      <td>9</td>\n      <td>9</td>\n      <td>9</td>\n      <td>9</td>\n    </tr>\n    <tr>\n      <th>387536</th>\n      <td>3</td>\n      <td>3</td>\n      <td>3</td>\n      <td>3</td>\n      <td>3</td>\n      <td>3</td>\n      <td>3</td>\n    </tr>\n    <tr>\n      <th>387958</th>\n      <td>1</td>\n      <td>1</td>\n      <td>1</td>\n      <td>1</td>\n      <td>1</td>\n      <td>1</td>\n      <td>1</td>\n    </tr>\n    <tr>\n      <th>388472</th>\n      <td>1</td>\n      <td>1</td>\n      <td>1</td>\n      <td>1</td>\n      <td>1</td>\n      <td>1</td>\n      <td>1</td>\n    </tr>\n    <tr>\n      <th>388482</th>\n      <td>3</td>\n      <td>3</td>\n      <td>3</td>\n      <td>3</td>\n      <td>3</td>\n      <td>3</td>\n      <td>3</td>\n    </tr>\n    <tr>\n      <th>388483</th>\n      <td>2</td>\n      <td>2</td>\n      <td>2</td>\n      <td>2</td>\n      <td>2</td>\n      <td>2</td>\n      <td>2</td>\n    </tr>\n    <tr>\n      <th>388919</th>\n      <td>5</td>\n      <td>5</td>\n      <td>5</td>\n      <td>5</td>\n      <td>5</td>\n      <td>5</td>\n      <td>5</td>\n    </tr>\n  </tbody>\n</table>\n<p>1491 rows × 7 columns</p>\n</div>"
     },
     "metadata": {},
     "execution_count": 60
    }
   ],
   "source": [
    "#  num of domain_id\n",
    "df.groupby('domain_id').count()"
   ]
  },
  {
   "cell_type": "code",
   "execution_count": 58,
   "metadata": {},
   "outputs": [
    {
     "output_type": "stream",
     "name": "stdout",
     "text": [
      "1491\n3453\n"
     ]
    }
   ],
   "source": [
    "# domain_count\n",
    "print(len(df['domain_id'].unique()))\n",
    "\n",
    "# cookies num\n",
    "print(len(df['name'].unique()))"
   ]
  },
  {
   "source": [
    "## Preprocessing  the dataset"
   ],
   "cell_type": "markdown",
   "metadata": {}
  },
  {
   "cell_type": "code",
   "execution_count": 65,
   "metadata": {},
   "outputs": [
    {
     "output_type": "stream",
     "name": "stdout",
     "text": [
      "   size  domain_id  .ASPXANONYMOUS  .ASPXAUTH  \\\n0    19          1               0          0   \n1   178          1               0          0   \n2    19        369               0          0   \n3   178        369               0          0   \n4    26         11               0          0   \n\n   .AspNetCore.Antiforgery.-SzxaGM9wQc  .AspNetCore.Antiforgery.qccZu4b6Ivc  \\\n0                                    0                                    0   \n1                                    0                                    0   \n2                                    0                                    0   \n3                                    0                                    0   \n4                                    0                                    0   \n\n   .AspNetCore.GhostUserAuthentication  \\\n0                                    0   \n1                                    0   \n2                                    0   \n3                                    0   \n4                                    0   \n\n   .AspNetCore.Mvc.CookieTempDataProvider  .AspNetCore.Session  .Nop.Customer  \\\n0                                       0                    0              0   \n1                                       0                    0              0   \n2                                       0                    0              0   \n3                                       0                    0              0   \n4                                       0                    0              0   \n\n   ...  zuuid_k  zuuid_lu  f  t  f  t  f  t  f  t  \n0  ...        0         0  1  0  0  1  1  0  0  1  \n1  ...        0         0  1  0  0  1  1  0  0  1  \n2  ...        0         0  1  0  0  1  1  0  0  1  \n3  ...        0         0  1  0  0  1  1  0  0  1  \n4  ...        0         0  1  0  0  1  1  0  1  0  \n\n[5 rows x 3462 columns]\n"
     ]
    }
   ],
   "source": [
    "cookie_name_dump = pd.get_dummies(df['name'])\n",
    "is_3p_dump = pd.get_dummies(df['is_3p'])\n",
    "secure_dump = pd.get_dummies(df['secure'])\n",
    "session_dump = pd.get_dummies(df['session'])\n",
    "set_by_response_dump = pd.get_dummies(df['is_set_by_response'])\n",
    "\n",
    "cookie_domain_set = pd.concat([df['size'],df['domain_id'],cookie_name_dump,is_3p_dump,secure_dump,session_dump,set_by_response_dump],axis = 1)\n",
    "\n",
    "# del cookie_name_dump['name']\n",
    "# del cookie_name_dump['is_3p']\n",
    "# del cookie_name_dump['secure']\n",
    "# del cookie_name_dump['session']\n",
    "# del cookie_name_dump['is_set_by_response']\n",
    "\n",
    "print(cookie_domain_set.head())"
   ]
  },
  {
   "source": [
    "## normalization"
   ],
   "cell_type": "markdown",
   "metadata": {}
  },
  {
   "cell_type": "code",
   "execution_count": 71,
   "metadata": {},
   "outputs": [
    {
     "output_type": "stream",
     "name": "stderr",
     "text": [
      "/anaconda3/lib/python3.7/site-packages/sklearn/utils/validation.py:595: DataConversionWarning: Data with input dtype int64 was converted to float64 by MinMaxScaler.\n",
      "  warnings.warn(msg, DataConversionWarning)\n",
      "       size  domain_id  .ASPXANONYMOUS  .ASPXAUTH  \\\n",
      "0  0.004237   0.000000             0.0        0.0   \n",
      "1  0.043868   0.000000             0.0        0.0   \n",
      "2  0.004237   0.000946             0.0        0.0   \n",
      "3  0.043868   0.000946             0.0        0.0   \n",
      "4  0.005982   0.000026             0.0        0.0   \n",
      "\n",
      "   .AspNetCore.Antiforgery.-SzxaGM9wQc  .AspNetCore.Antiforgery.qccZu4b6Ivc  \\\n",
      "0                                  0.0                                  0.0   \n",
      "1                                  0.0                                  0.0   \n",
      "2                                  0.0                                  0.0   \n",
      "3                                  0.0                                  0.0   \n",
      "4                                  0.0                                  0.0   \n",
      "\n",
      "   .AspNetCore.GhostUserAuthentication  \\\n",
      "0                                  0.0   \n",
      "1                                  0.0   \n",
      "2                                  0.0   \n",
      "3                                  0.0   \n",
      "4                                  0.0   \n",
      "\n",
      "   .AspNetCore.Mvc.CookieTempDataProvider  .AspNetCore.Session  .Nop.Customer  \\\n",
      "0                                     0.0                  0.0            0.0   \n",
      "1                                     0.0                  0.0            0.0   \n",
      "2                                     0.0                  0.0            0.0   \n",
      "3                                     0.0                  0.0            0.0   \n",
      "4                                     0.0                  0.0            0.0   \n",
      "\n",
      "   ...  zuuid_k  zuuid_lu    f    t    f    t    f    t    f    t  \n",
      "0  ...      0.0       0.0  1.0  0.0  0.0  1.0  1.0  0.0  0.0  1.0  \n",
      "1  ...      0.0       0.0  1.0  0.0  0.0  1.0  1.0  0.0  0.0  1.0  \n",
      "2  ...      0.0       0.0  1.0  0.0  0.0  1.0  1.0  0.0  0.0  1.0  \n",
      "3  ...      0.0       0.0  1.0  0.0  0.0  1.0  1.0  0.0  0.0  1.0  \n",
      "4  ...      0.0       0.0  1.0  0.0  0.0  1.0  1.0  0.0  1.0  0.0  \n",
      "\n",
      "[5 rows x 3462 columns]\n"
     ]
    }
   ],
   "source": [
    "from sklearn import preprocessing\n",
    "cookie_values = cookie_domain_set.values\n",
    "min_max_scaler = preprocessing.MinMaxScaler()\n",
    "x_scaled = min_max_scaler.fit_transform(cookie_values)\n",
    "cookie_scaled = pd.DataFrame(x_scaled,columns=cookie_domain_set.columns)\n",
    "print(cookie_scaled.head())"
   ]
  },
  {
   "source": [
    "### dimension reduction"
   ],
   "cell_type": "markdown",
   "metadata": {}
  },
  {
   "cell_type": "code",
   "execution_count": 72,
   "metadata": {
    "tags": []
   },
   "outputs": [
    {
     "output_type": "stream",
     "name": "stdout",
     "text": [
      "(16977, 3462)\n",
      "(16977, 2)\n"
     ]
    }
   ],
   "source": [
    "from sklearn.decomposition import PCA\n",
    "\n",
    "pca = PCA(2)\n",
    "print(cookie_scaled.shape)\n",
    "pca_data = pca.fit_transform(cookie_scaled)\n",
    "print(pca_data.shape)"
   ]
  },
  {
   "source": [
    "## Modeling"
   ],
   "cell_type": "markdown",
   "metadata": {}
  },
  {
   "cell_type": "code",
   "execution_count": 75,
   "metadata": {},
   "outputs": [
    {
     "output_type": "stream",
     "name": "stdout",
     "text": [
      "[3 3 3 ... 9 9 9]\n16977\n"
     ]
    }
   ],
   "source": [
    "from sklearn.cluster import KMeans\n",
    "\n",
    "kmeans = KMeans(10)\n",
    "kfit = kmeans.fit(pca_data)\n",
    "identified_clusters = kfit.predict(pca_data)\n",
    "\n",
    "print(identified_clusters)\n",
    "print(len(identified_clusters))"
   ]
  },
  {
   "source": [
    "## plot the picture"
   ],
   "cell_type": "markdown",
   "metadata": {}
  },
  {
   "cell_type": "code",
   "execution_count": 76,
   "metadata": {},
   "outputs": [
    {
     "output_type": "display_data",
     "data": {
      "text/plain": "<Figure size 432x288 with 1 Axes>",
      "image/png": "[encoded data removed]"
     },
     "metadata": {
      "needs_background": "light"
     }
    }
   ],
   "source": [
    "import matplotlib.pyplot as plt \n",
    "import numpy as np \n",
    "u_labels = np.unique(identified_clusters)\n",
    "\n",
    "for i in u_labels:\n",
    "    plt.scatter(pca_data[identified_clusters == i, 0],pca_data[identified_clusters == i, 1],label = i)\n",
    "plt.legend()\n",
    "plt.show()\n"
   ]
  },
  {
   "source": [
    "## data view"
   ],
   "cell_type": "markdown",
   "metadata": {}
  },
  {
   "cell_type": "code",
   "execution_count": 80,
   "metadata": {},
   "outputs": [
    {
     "output_type": "stream",
     "name": "stdout",
     "text": [
      "       domain_id http_only is_3p                          name secure session  \\\n11828      62760         f     f            BI_UI_previousPage      f       f   \n2118       73051         f     f                       _pubcid      f       f   \n2119       73051         f     f                     cto_bidid      f       f   \n2120       73051         f     f                    cto_bundle      f       f   \n4877      131967         t     f                     sessionid      f       f   \n2124       73051         f     f                        __gads      f       f   \n4875      131914         f     f                _ga_FBP7C61M6Z      f       f   \n4870        3950         f     f            outbrain_cid_fetch      f       f   \n2117       73051         f     f     _pbjs_userid_consent_data      f       f   \n4867      131914         f     f                   _biz_flagsA      f       f   \n4856      131914         f     f                      _lc2_fpi      f       f   \n4853      131914         f     f                  _biz_ABTestA      f       f   \n4852      131914         f     f                 _biz_pendingA      f       f   \n4850      131914         f     f                       _biz_nA      f       f   \n4849      131914         f     f                      _biz_sid      f       f   \n4848      131914         f     f                      _biz_uid      f       f   \n4847      131914         f     f                           _ga      f       f   \n4864      131914         f     f                          _fbp      f       f   \n4846        3950         f     f    _hjIncludedInSessionSample      f       f   \n2116       73051         f     f            outbrain_cid_fetch      f       f   \n4884      131966         f     f             awtracking_optout      f       f   \n2089       73938         f     f                          _gid      f       f   \n2090       73938         f     f                          _gat      f       f   \n2092       73938         f     f                         __asc      f       f   \n2093       73938         f     f                         __auc      f       f   \n2095       73938         f     f                         _hjid      f       f   \n2096       73938         f     f                  _hjFirstSeen      f       f   \n2097       73941         f     f    _hjIncludedInSessionSample      f       f   \n4883      131966         f     f               hello_retail_id      f       f   \n2098       73938         f     f  _hjAbsoluteSessionInProgress      f       f   \n...          ...       ...   ...                           ...    ...     ...   \n13732     327327         f     f                           _ga      f       f   \n13735     327327         f     f                _ga_26FEP9527K      f       f   \n13737     325647         f     f                         _hjid      f       f   \n13738     325647         f     f                  _hjFirstSeen      f       f   \n8401      209550         f     f                        __gads      f       f   \n13707     326754         f     f                          _gat      f       f   \n8645      221018         f     f                          _gid      f       f   \n13706     326754         f     f                          _gid      f       f   \n13703     325325         f     f                _v__chartbeat3      f       f   \n8622      215179         f     f                          _gid      f       f   \n8621      215179         f     f                           _ga      f       f   \n8567      218852         f     f                          _gat      f       f   \n16975     388919         f     f               _wsm_ses_1_7448      f       f   \n8478      218852         f     f                          _gid      f       f   \n8477      212520         f     f                          _gid      f       f   \n8476      212520         f     f                           _ga      f       f   \n8468      212021         f     f                           _ga      f       f   \n8450      212021         f     f                          _fbp      f       f   \n8439      212021         f     f                          _gid      f       f   \n13692     325325         f     f                           _cb      f       f   \n13695     325325         f     f                   _chartbeat2      f       f   \n13696     325325         f     f                     _cb_svref      f       f   \n13697     325325         f     f                          _gid      f       f   \n13698     325325         f     f                 _pk_id.1.90a2      f       f   \n13699     325325         f     f                _pk_ses.1.90a2      f       f   \n13700     325325         f     f                           _ga      f       f   \n13701     325325         f     f              _gat_UA-791526-1      f       f   \n13702     325325         f     f                _ga_WWC497R2VH      f       f   \n13705     326754         f     f                           _ga      f       f   \n16976     388919         f     f                _wsm_id_1_7448      f       f   \n\n       size is_set_by_response  Cluster  \n11828    24                  f        0  \n2118     43                  f        0  \n2119    173                  f        0  \n2120    244                  f        0  \n4877     41                  f        0  \n2124     92                  f        0  \n4875     47                  f        0  \n4870     22                  f        0  \n2117     41                  f        0  \n4867     90                  f        0  \n4856     48                  f        0  \n4853     29                  f        0  \n4852     19                  f        0  \n4850      8                  f        0  \n4849     14                  f        0  \n4848     40                  f        0  \n4847     30                  f        0  \n4864     32                  f        0  \n4846     27                  f        0  \n2116     22                  f        0  \n4884     21                  f        0  \n2089     30                  f        0  \n2090      5                  f        0  \n2092     32                  f        0  \n2093     32                  f        0  \n2095     41                  f        0  \n2096     13                  f        0  \n2097     27                  f        0  \n4883     39                  f        0  \n2098     29                  f        0  \n...     ...                ...      ...  \n13732    30                  f        9  \n13735    48                  f        9  \n13737    41                  f        9  \n13738    13                  f        9  \n8401     75                  f        9  \n13707     5                  f        9  \n8645     30                  f        9  \n13706    31                  f        9  \n13703    30                  f        9  \n8622     29                  f        9  \n8621     29                  f        9  \n8567      5                  f        9  \n16975    16                  f        9  \n8478     30                  f        9  \n8477     31                  f        9  \n8476     29                  f        9  \n8468     29                  f        9  \n8450     33                  f        9  \n8439     30                  f        9  \n13692    20                  f        9  \n13695    73                  f        9  \n13696    13                  f        9  \n13697    30                  f        9  \n13698    41                  f        9  \n13699    15                  f        9  \n13700    30                  f        9  \n13701    17                  f        9  \n13702    47                  f        9  \n13705    29                  f        9  \n16976    65                  f        9  \n\n[16977 rows x 9 columns]\n"
     ]
    }
   ],
   "source": [
    "clustered_data_scaled = df.copy()\n",
    "clustered_data_scaled['Cluster'] = identified_clusters\n",
    "\n",
    "df_sort = clustered_data_scaled.sort_values(by = 'Cluster')\n",
    "\n"
   ]
  },
  {
   "cell_type": "code",
   "execution_count": null,
   "metadata": {},
   "outputs": [],
   "source": []
  }
 ]
}