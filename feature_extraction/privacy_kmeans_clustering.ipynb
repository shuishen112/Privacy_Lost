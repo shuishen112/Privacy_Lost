{
 "metadata": {
  "language_info": {
   "codemirror_mode": {
    "name": "ipython",
    "version": 3
   },
   "file_extension": ".py",
   "mimetype": "text/x-python",
   "name": "python",
   "nbconvert_exporter": "python",
   "pygments_lexer": "ipython3",
   "version": "3.7.3"
  },
  "orig_nbformat": 2,
  "kernelspec": {
   "name": "python373jvsc74a57bd0398dc28c06ad810e77de546bbdfa897a6ee0b83e59a5207339dda01a7843e01d",
   "display_name": "Python 3.7.3 64-bit"
  }
 },
 "nbformat": 4,
 "nbformat_minor": 2,
 "cells": [
  {
   "source": [
    "# The notebook for feature_extracting and clustering"
   ],
   "cell_type": "markdown",
   "metadata": {}
  },
  {
   "source": [
    "## Understand the dataset"
   ],
   "cell_type": "markdown",
   "metadata": {}
  },
  {
   "cell_type": "code",
   "execution_count": 86,
   "metadata": {},
   "outputs": [
    {
     "output_type": "stream",
     "name": "stdout",
     "text": [
      "   id  page_id  domain_id        domain  expires_text  \\\n",
      "0   1        1        167  .zerodha.com  1.619815e+09   \n",
      "1   2        1        167  .zerodha.com  1.680295e+09   \n",
      "2   3        1        167  .zerodha.com  1.617309e+09   \n",
      "3   4        1        167  .zerodha.com  1.617223e+09   \n",
      "4   5        1        167   zerodha.com  1.617309e+09   \n",
      "\n",
      "               expires_timestamp http_only is_3p  is_1p_3p      name path  \\\n",
      "0  2021-04-30 20:36:40.794387+00         t     f       NaN  __cfduid    /   \n",
      "1         2023-03-31 20:36:41+00         f     f       NaN       _ga    /   \n",
      "2         2021-04-01 20:36:41+00         f     f       NaN      _gid    /   \n",
      "3         2021-03-31 20:37:41+00         f     f       NaN      _gat    /   \n",
      "4         2021-04-01 20:36:41+00         f     f       NaN       ref    /   \n",
      "\n",
      "  same_site secure session  size                                        value  \\\n",
      "0       Lax      f       f    51  d8e98e72138a8abc7c1cd7da3d66263cc1617223000   \n",
      "1       NaN      f       f    29                   GA1.2.392707316.1617223001   \n",
      "2       NaN      f       f    31                  GA1.2.1670774651.1617223001   \n",
      "3       NaN      f       f     5                                            1   \n",
      "4       NaN      f       f    10                                      zerodha   \n",
      "\n",
      "  is_set_by_response  \n",
      "0                  t  \n",
      "1                  f  \n",
      "2                  f  \n",
      "3                  f  \n",
      "4                  f  \n",
      "b'Skipping line 150: expected 17 fields, saw 18\\nSkipping line 355: expected 17 fields, saw 20\\nSkipping line 397: expected 17 fields, saw 83\\nSkipping line 2885: expected 17 fields, saw 83\\nSkipping line 3089: expected 17 fields, saw 19\\nSkipping line 3108: expected 17 fields, saw 26\\nSkipping line 4426: expected 17 fields, saw 19\\nSkipping line 4615: expected 17 fields, saw 19\\nSkipping line 5163: expected 17 fields, saw 19\\nSkipping line 5420: expected 17 fields, saw 21\\nSkipping line 5421: expected 17 fields, saw 18\\nSkipping line 5476: expected 17 fields, saw 83\\nSkipping line 5870: expected 17 fields, saw 26\\nSkipping line 5908: expected 17 fields, saw 29\\nSkipping line 6316: expected 17 fields, saw 26\\nSkipping line 7200: expected 17 fields, saw 26\\nSkipping line 7276: expected 17 fields, saw 83\\nSkipping line 7697: expected 17 fields, saw 25\\nSkipping line 7854: expected 17 fields, saw 26\\nSkipping line 8453: expected 17 fields, saw 21\\nSkipping line 8454: expected 17 fields, saw 18\\nSkipping line 8458: expected 17 fields, saw 18\\nSkipping line 10087: expected 17 fields, saw 19\\nSkipping line 10233: expected 17 fields, saw 19\\nSkipping line 10353: expected 17 fields, saw 26\\nSkipping line 10463: expected 17 fields, saw 18\\nSkipping line 10780: expected 17 fields, saw 83\\nSkipping line 10876: expected 17 fields, saw 20\\nSkipping line 10998: expected 17 fields, saw 20\\nSkipping line 10999: expected 17 fields, saw 21\\nSkipping line 11002: expected 17 fields, saw 21\\nSkipping line 11003: expected 17 fields, saw 21\\nSkipping line 11439: expected 17 fields, saw 26\\nSkipping line 11538: expected 17 fields, saw 19\\nSkipping line 11628: expected 17 fields, saw 21\\nSkipping line 11629: expected 17 fields, saw 18\\nSkipping line 12658: expected 17 fields, saw 18\\nSkipping line 12676: expected 17 fields, saw 25\\nSkipping line 13768: expected 17 fields, saw 21\\nSkipping line 13769: expected 17 fields, saw 18\\nSkipping line 13781: expected 17 fields, saw 18\\nSkipping line 13883: expected 17 fields, saw 19\\nSkipping line 15278: expected 17 fields, saw 27\\nSkipping line 15621: expected 17 fields, saw 34\\nSkipping line 15747: expected 17 fields, saw 24\\nSkipping line 16316: expected 17 fields, saw 26\\nSkipping line 16906: expected 17 fields, saw 19\\nSkipping line 17021: expected 17 fields, saw 23\\nSkipping line 17222: expected 17 fields, saw 18\\nSkipping line 17626: expected 17 fields, saw 19\\nSkipping line 19002: expected 17 fields, saw 19\\nSkipping line 19042: expected 17 fields, saw 26\\nSkipping line 19760: expected 17 fields, saw 29\\nSkipping line 20494: expected 17 fields, saw 83\\nSkipping line 20887: expected 17 fields, saw 19\\nSkipping line 20888: expected 17 fields, saw 19\\nSkipping line 20898: expected 17 fields, saw 21\\nSkipping line 21114: expected 17 fields, saw 26\\nSkipping line 21139: expected 17 fields, saw 24\\nSkipping line 21251: expected 17 fields, saw 20\\nSkipping line 21280: expected 17 fields, saw 19\\nSkipping line 21553: expected 17 fields, saw 26\\nSkipping line 21556: expected 17 fields, saw 21\\nSkipping line 21805: expected 17 fields, saw 21\\nSkipping line 21806: expected 17 fields, saw 18\\nSkipping line 22282: expected 17 fields, saw 21\\nSkipping line 22283: expected 17 fields, saw 19\\nSkipping line 22982: expected 17 fields, saw 26\\nSkipping line 23282: expected 17 fields, saw 18\\nSkipping line 23669: expected 17 fields, saw 24\\nSkipping line 23679: expected 17 fields, saw 26\\nSkipping line 24003: expected 17 fields, saw 18\\nSkipping line 25049: expected 17 fields, saw 18\\nSkipping line 25734: expected 17 fields, saw 24\\nSkipping line 25895: expected 17 fields, saw 25\\nSkipping line 26153: expected 17 fields, saw 20\\nSkipping line 26377: expected 17 fields, saw 19\\nSkipping line 26815: expected 17 fields, saw 83\\nSkipping line 27057: expected 17 fields, saw 26\\nSkipping line 27091: expected 17 fields, saw 19\\nSkipping line 27164: expected 17 fields, saw 26\\nSkipping line 27398: expected 17 fields, saw 18\\nSkipping line 27448: expected 17 fields, saw 19\\nSkipping line 27729: expected 17 fields, saw 83\\nSkipping line 27898: expected 17 fields, saw 83\\nSkipping line 28141: expected 17 fields, saw 24\\nSkipping line 28248: expected 17 fields, saw 18\\nSkipping line 28592: expected 17 fields, saw 22\\nSkipping line 28685: expected 17 fields, saw 18\\nSkipping line 29077: expected 17 fields, saw 19\\nSkipping line 29117: expected 17 fields, saw 83\\nSkipping line 29477: expected 17 fields, saw 23\\nSkipping line 29882: expected 17 fields, saw 24\\nSkipping line 29983: expected 17 fields, saw 18\\nSkipping line 30288: expected 17 fields, saw 20\\nSkipping line 30666: expected 17 fields, saw 33\\nSkipping line 31038: expected 17 fields, saw 21\\nSkipping line 31039: expected 17 fields, saw 18\\nSkipping line 31041: expected 17 fields, saw 18\\nSkipping line 31042: expected 17 fields, saw 21\\nSkipping line 31395: expected 17 fields, saw 27\\nSkipping line 31688: expected 17 fields, saw 18\\nSkipping line 31890: expected 17 fields, saw 19\\nSkipping line 31928: expected 17 fields, saw 20\\nSkipping line 32139: expected 17 fields, saw 26\\nSkipping line 32260: expected 17 fields, saw 23\\n'\n"
     ]
    }
   ],
   "source": [
    "import pandas as pd\n",
    "# error_bad_lines = False means that I skip the noisy lines\n",
    "filename = 'in_cookie'\n",
    "df = pd.read_csv(filename,sep = ',',error_bad_lines = False)\n",
    "print(df.head())\n",
    "# select some useful features\n",
    "df = df[['domain_id','domain','http_only','is_3p','name','secure','session','size','is_set_by_response']]"
   ]
  },
  {
   "cell_type": "code",
   "execution_count": 87,
   "metadata": {},
   "outputs": [
    {
     "output_type": "execute_result",
     "data": {
      "text/plain": [
       "           domain  http_only  is_3p  name  secure  session  size  \\\n",
       "domain_id                                                          \n",
       "1               3          3      3     3       3        3     3   \n",
       "2               1          1      1     1       1        1     1   \n",
       "167             5          5      5     5       5        5     5   \n",
       "214           680        680    680   680     680      680   680   \n",
       "216             1          1      1     1       1        1     1   \n",
       "\n",
       "           is_set_by_response  \n",
       "domain_id                      \n",
       "1                           3  \n",
       "2                           1  \n",
       "167                         5  \n",
       "214                       680  \n",
       "216                         1  "
      ],
      "text/html": "<div>\n<style scoped>\n    .dataframe tbody tr th:only-of-type {\n        vertical-align: middle;\n    }\n\n    .dataframe tbody tr th {\n        vertical-align: top;\n    }\n\n    .dataframe thead th {\n        text-align: right;\n    }\n</style>\n<table border=\"1\" class=\"dataframe\">\n  <thead>\n    <tr style=\"text-align: right;\">\n      <th></th>\n      <th>domain</th>\n      <th>http_only</th>\n      <th>is_3p</th>\n      <th>name</th>\n      <th>secure</th>\n      <th>session</th>\n      <th>size</th>\n      <th>is_set_by_response</th>\n    </tr>\n    <tr>\n      <th>domain_id</th>\n      <th></th>\n      <th></th>\n      <th></th>\n      <th></th>\n      <th></th>\n      <th></th>\n      <th></th>\n      <th></th>\n    </tr>\n  </thead>\n  <tbody>\n    <tr>\n      <th>1</th>\n      <td>3</td>\n      <td>3</td>\n      <td>3</td>\n      <td>3</td>\n      <td>3</td>\n      <td>3</td>\n      <td>3</td>\n      <td>3</td>\n    </tr>\n    <tr>\n      <th>2</th>\n      <td>1</td>\n      <td>1</td>\n      <td>1</td>\n      <td>1</td>\n      <td>1</td>\n      <td>1</td>\n      <td>1</td>\n      <td>1</td>\n    </tr>\n    <tr>\n      <th>167</th>\n      <td>5</td>\n      <td>5</td>\n      <td>5</td>\n      <td>5</td>\n      <td>5</td>\n      <td>5</td>\n      <td>5</td>\n      <td>5</td>\n    </tr>\n    <tr>\n      <th>214</th>\n      <td>680</td>\n      <td>680</td>\n      <td>680</td>\n      <td>680</td>\n      <td>680</td>\n      <td>680</td>\n      <td>680</td>\n      <td>680</td>\n    </tr>\n    <tr>\n      <th>216</th>\n      <td>1</td>\n      <td>1</td>\n      <td>1</td>\n      <td>1</td>\n      <td>1</td>\n      <td>1</td>\n      <td>1</td>\n      <td>1</td>\n    </tr>\n  </tbody>\n</table>\n</div>"
     },
     "metadata": {},
     "execution_count": 87
    }
   ],
   "source": [
    "#  cookie num of domain_id\n",
    "df.groupby('domain_id').count().reindex().head()"
   ]
  },
  {
   "cell_type": "code",
   "execution_count": 88,
   "metadata": {},
   "outputs": [
    {
     "output_type": "stream",
     "name": "stdout",
     "text": [
      "1925\n5075\n"
     ]
    }
   ],
   "source": [
    "# domain_count\n",
    "print(len(df['domain_id'].unique()))\n",
    "# cookies num\n",
    "print(len(df['name'].unique()))"
   ]
  },
  {
   "source": [
    "## Preprocessing  the dataset"
   ],
   "cell_type": "markdown",
   "metadata": {}
  },
  {
   "cell_type": "code",
   "execution_count": 89,
   "metadata": {},
   "outputs": [
    {
     "output_type": "stream",
     "name": "stdout",
     "text": [
      "   size  domain_id  $FC_Register_cookies$  .ASPXANONYMOUS  .c  \\\n0    51        167                      0               0   0   \n1    29        167                      0               0   0   \n2    31        167                      0               0   0   \n3     5        167                      0               0   0   \n4    10        167                      0               0   0   \n\n   05c5a38e3b061190d573779b0b75591e  0d269e8747  10_lang  \\\n0                                 0           0        0   \n1                                 0           0        0   \n2                                 0           0        0   \n3                                 0           0        0   \n4                                 0           0        0   \n\n   14c99d47e3e2ee047147ab253f9e68ae  15bbf1ab6e47faadecba0abdd65302f7  ...  \\\n0                                 0                                 0  ...   \n1                                 0                                 0  ...   \n2                                 0                                 0  ...   \n3                                 0                                 0  ...   \n4                                 0                                 0  ...   \n\n   zuuid_k  zuuid_lu  f  t  f  t  f  t  f  t  \n0        0         0  1  0  1  0  1  0  0  1  \n1        0         0  1  0  1  0  1  0  1  0  \n2        0         0  1  0  1  0  1  0  1  0  \n3        0         0  1  0  1  0  1  0  1  0  \n4        0         0  1  0  1  0  1  0  1  0  \n\n[5 rows x 5084 columns]\n"
     ]
    }
   ],
   "source": [
    "cookie_name_dump = pd.get_dummies(df['name'])\n",
    "is_3p_dump = pd.get_dummies(df['is_3p'])\n",
    "secure_dump = pd.get_dummies(df['secure'])\n",
    "session_dump = pd.get_dummies(df['session'])\n",
    "set_by_response_dump = pd.get_dummies(df['is_set_by_response'])\n",
    "\n",
    "cookie_domain_set = pd.concat([df['size'],df['domain_id'],cookie_name_dump,is_3p_dump,secure_dump,session_dump,set_by_response_dump],axis = 1)\n",
    "\n",
    "# del cookie_name_dump['name']\n",
    "# del cookie_name_dump['is_3p']\n",
    "# del cookie_name_dump['secure']\n",
    "# del cookie_name_dump['session']\n",
    "# del cookie_name_dump['is_set_by_response']\n",
    "\n",
    "print(cookie_domain_set.head())"
   ]
  },
  {
   "source": [
    "## normalization"
   ],
   "cell_type": "markdown",
   "metadata": {}
  },
  {
   "cell_type": "code",
   "execution_count": 90,
   "metadata": {},
   "outputs": [
    {
     "output_type": "stream",
     "name": "stderr",
     "text": [
      "/anaconda3/lib/python3.7/site-packages/sklearn/utils/validation.py:595: DataConversionWarning: Data with input dtype int64 was converted to float64 by MinMaxScaler.\n",
      "  warnings.warn(msg, DataConversionWarning)\n",
      "       size  domain_id  $FC_Register_cookies$  .ASPXANONYMOUS   .c  \\\n",
      "0  0.013492   0.000262                    0.0             0.0  0.0   \n",
      "1  0.007555   0.000262                    0.0             0.0  0.0   \n",
      "2  0.008095   0.000262                    0.0             0.0  0.0   \n",
      "3  0.001079   0.000262                    0.0             0.0  0.0   \n",
      "4  0.002428   0.000262                    0.0             0.0  0.0   \n",
      "\n",
      "   05c5a38e3b061190d573779b0b75591e  0d269e8747  10_lang  \\\n",
      "0                               0.0         0.0      0.0   \n",
      "1                               0.0         0.0      0.0   \n",
      "2                               0.0         0.0      0.0   \n",
      "3                               0.0         0.0      0.0   \n",
      "4                               0.0         0.0      0.0   \n",
      "\n",
      "   14c99d47e3e2ee047147ab253f9e68ae  15bbf1ab6e47faadecba0abdd65302f7  ...  \\\n",
      "0                               0.0                               0.0  ...   \n",
      "1                               0.0                               0.0  ...   \n",
      "2                               0.0                               0.0  ...   \n",
      "3                               0.0                               0.0  ...   \n",
      "4                               0.0                               0.0  ...   \n",
      "\n",
      "   zuuid_k  zuuid_lu    f    t    f    t    f    t    f    t  \n",
      "0      0.0       0.0  1.0  0.0  1.0  0.0  1.0  0.0  0.0  1.0  \n",
      "1      0.0       0.0  1.0  0.0  1.0  0.0  1.0  0.0  1.0  0.0  \n",
      "2      0.0       0.0  1.0  0.0  1.0  0.0  1.0  0.0  1.0  0.0  \n",
      "3      0.0       0.0  1.0  0.0  1.0  0.0  1.0  0.0  1.0  0.0  \n",
      "4      0.0       0.0  1.0  0.0  1.0  0.0  1.0  0.0  1.0  0.0  \n",
      "\n",
      "[5 rows x 5084 columns]\n"
     ]
    }
   ],
   "source": [
    "from sklearn import preprocessing\n",
    "cookie_values = cookie_domain_set.values\n",
    "min_max_scaler = preprocessing.MinMaxScaler()\n",
    "x_scaled = min_max_scaler.fit_transform(cookie_values)\n",
    "cookie_scaled = pd.DataFrame(x_scaled,columns=cookie_domain_set.columns)\n",
    "print(cookie_scaled.head())"
   ]
  },
  {
   "source": [
    "### dimension reduction"
   ],
   "cell_type": "markdown",
   "metadata": {}
  },
  {
   "cell_type": "code",
   "execution_count": 91,
   "metadata": {
    "tags": []
   },
   "outputs": [
    {
     "output_type": "stream",
     "name": "stdout",
     "text": [
      "(32377, 5084)\n",
      "(32377, 2)\n"
     ]
    }
   ],
   "source": [
    "from sklearn.decomposition import PCA\n",
    "pca = PCA(2)\n",
    "print(cookie_scaled.shape)\n",
    "pca_data = pca.fit_transform(cookie_scaled)\n",
    "print(pca_data.shape)"
   ]
  },
  {
   "source": [
    "## Modeling"
   ],
   "cell_type": "markdown",
   "metadata": {}
  },
  {
   "cell_type": "code",
   "execution_count": 92,
   "metadata": {},
   "outputs": [
    {
     "output_type": "stream",
     "name": "stdout",
     "text": [
      "[8 1 1 ... 0 1 5]\n32377\n"
     ]
    }
   ],
   "source": [
    "from sklearn.cluster import KMeans\n",
    "\n",
    "kmeans = KMeans(10)\n",
    "kfit = kmeans.fit(pca_data)\n",
    "identified_clusters = kfit.predict(pca_data)\n",
    "\n",
    "print(identified_clusters)\n",
    "print(len(identified_clusters))"
   ]
  },
  {
   "source": [
    "## plot the picture"
   ],
   "cell_type": "markdown",
   "metadata": {}
  },
  {
   "cell_type": "code",
   "execution_count": 93,
   "metadata": {},
   "outputs": [
    {
     "output_type": "display_data",
     "data": {
      "text/plain": "<Figure size 432x288 with 1 Axes>",
      "image/png": "[encoded data removed]"
     },
     "metadata": {
      "needs_background": "light"
     }
    }
   ],
   "source": [
    "import matplotlib.pyplot as plt \n",
    "import numpy as np \n",
    "u_labels = np.unique(identified_clusters)\n",
    "\n",
    "for i in u_labels:\n",
    "    plt.scatter(pca_data[identified_clusters == i, 0],pca_data[identified_clusters == i, 1],label = i)\n",
    "plt.legend()\n",
    "plt.savefig(filename)\n",
    "plt.show()\n"
   ]
  },
  {
   "source": [
    "## data view"
   ],
   "cell_type": "markdown",
   "metadata": {}
  },
  {
   "cell_type": "code",
   "execution_count": 94,
   "metadata": {
    "tags": []
   },
   "outputs": [
    {
     "output_type": "stream",
     "name": "stdout",
     "text": [
      "       domain_id                      domain http_only is_3p  \\\n16188       9311                  .yahoo.com         f     t   \n17725       5730               .pubmatic.com         f     t   \n17724       5730               .pubmatic.com         f     t   \n17723       5730               .pubmatic.com         f     t   \n17722       9855  .targeting.unrulymedia.com         t     t   \n\n                   name secure session  size is_set_by_response  Cluster  \n16188            APIDTS      t       f    16                  t        0  \n17725  chkChromeAb67Sec      t       f    17                  t        0  \n17724    KRTBCOOKIE_594      t       f   118                  t        0  \n17723              PugT      t       f    14                  t        0  \n17722           _rxuuid      t       f    78                  t        0  \n       domain_id                  domain http_only is_3p  \\\n22654     454745           .hdfcergo.com         f     f   \n539        10012            .freepik.com         f     f   \n22546     454670  .thebalancecareers.com         f     f   \n4543       61831           www.pcmag.com         f     f   \n31792     614814           www.chron.com         f     f   \n\n                       name secure session  size is_set_by_response  Cluster  \n22654  _dc_gtm_UA-7443114-1      f       f    21                  f        1  \n539             _pin_unauth      f       f    81                  f        1  \n22546   _gat_UA-40872762-28      f       f    20                  f        1  \n4543              _cb_svref      f       f    13                  f        1  \n31792                _cb_ls      f       f     7                  f        1  \n      domain_id          domain http_only is_3p      name secure session  \\\n863       15144      .apple.com         f     f   mk_epub      t       t   \n1633      23200     .amazon.com         f     f  aws_lang      f       t   \n1626      19747  www.reddit.com         t     f   session      t       t   \n1622      19747  www.reddit.com         f     f      aasd      t       t   \n9504     202872       .dell.com         f     f    cidlid      t       t   \n\n      size is_set_by_response  Cluster  \n863     78                  f        2  \n1633    10                  t        2  \n1626   159                  f        2  \n1622    21                  f        2  \n9504    12                  f        2  \n       domain_id                  domain http_only is_3p         name secure  \\\n10761      24657  eus.rubiconproject.com         f     t          pux      t   \n3727        9129    event.clientgear.com         f     t       mkuuid      t   \n6834      148731           my.rtmark.net         f     t           ID      t   \n3726        8716       .ads.pubmatic.com         f     t         repi      t   \n19440      12120     ads.stickyadstv.com         f     t  uid-bp-8225      t   \n\n      session  size is_set_by_response  Cluster  \n10761       f   134                  f        3  \n3727        f    44                  f        3  \n6834        f    34                  f        3  \n3726        f     5                  f        3  \n19440       f    31                  f        3  \n       domain_id             domain http_only is_3p  name secure session  \\\n7223        5699        .rfihub.com         f     t  euds      t       t   \n15964       5627  .ads.linkedin.com         f     t  lang      t       t   \n13540       5699        .rfihub.com         f     t  ruds      t       t   \n7713      166634   .dailymotion.com         f     t  dmvk      t       t   \n7226        5699        .rfihub.com         f     t  ruds      t       t   \n\n       size is_set_by_response  Cluster  \n7223     71                  t        4  \n15964    18                  t        4  \n13540    80                  t        4  \n7713     17                  t        4  \n7226     76                  t        4  \n       domain_id                  domain http_only is_3p              name  \\\n30405     594111                .box.com         f     f      sat_prevPage   \n30180     591436        www.airbnb.co.in         f     f       previousTab   \n29762     578052  www.divyabhaskar.co.in         f     f  MarketGidStorage   \n30407     594111                .box.com         f     f          at_check   \n30404     594111                .box.com         f     f              s_cc   \n\n      secure session  size is_set_by_response  Cluster  \n30405      f       t    26                  f        5  \n30180      f       t   124                  f        5  \n29762      f       t   106                  f        5  \n30407      f       t    12                  f        5  \n30404      f       t     8                  f        5  \n       domain_id                domain http_only is_3p  \\\n6290      135227      .livejournal.com         f     f   \n7610      163609  .americanexpress.com         f     f   \n724          633      outlook.live.com         f     f   \n13722     287996  www.nykaafashion.com         f     f   \n9321      200098          .grofers.com         f     f   \n\n                          name secure session  size is_set_by_response  \\\n6290                     _ym_d      t       f    15                  f   \n7610                     pznid      t       f    45                  f   \n724                      MSFPC      t       f    83                  f   \n13722  private_content_version      t       f    55                  f   \n9321               __insp_slim      t       f    24                  f   \n\n       Cluster  \n6290         6  \n7610         6  \n724          6  \n13722        6  \n9321         6  \n       domain_id                             domain http_only is_3p  \\\n21340     429133                        .upwork.com         f     f   \n21348     430038  fyrsbckgi-c.global.ssl.fastly.net         t     t   \n21349     429133                        .upwork.com         f     f   \n15096       8790                  bh.contextweb.com         t     t   \n6358      135745                      .yastatic.net         f     t   \n\n                    name secure session  size is_set_by_response  Cluster  \n21340     survey_allowed      t       t    18                  t        7  \n21348  UP4R77Y9ZJsABtest      t       t    18                  f        7  \n21349         XSRF-TOKEN      t       t    42                  t        7  \n15096      INGRESSCOOKIE      t       t    29                  f        7  \n6358                gdpr      t       t     5                  f        7  \n       domain_id               domain http_only is_3p      name secure  \\\n28691     566457       .bongacams.com         f     f  ts_type2      f   \n32293     632626    .teluguadda.co.in         f     f    ezepvv      f   \n5433      121335           .croma.com         f     f    s_ecid      f   \n32339     633803         .godaddy.com         f     f  currency      f   \n14540     309693  .boat-lifestyle.com         f     f        _y      f   \n\n      session  size is_set_by_response  Cluster  \n28691       f     9                  t        8  \n32293       f     7                  t        8  \n5433        f    52                  t        8  \n32339       f    11                  t        8  \n14540       f    38                  t        8  \n       domain_id          domain http_only is_3p             name secure  \\\n29164     574981       .cnbc.com         t     f           AKA_A2      t   \n10937     228469  .google.com.au         t     f              NID      t   \n10247     214780     .scribd.com         t     f  _scribd_session      t   \n30493     595932  .vistaprint.in         f     f            _abck      t   \n10936     228469  .google.com.au         f     f           1P_JAR      t   \n\n      session  size is_set_by_response  Cluster  \n29164       f     7                  t        9  \n10937       f   178                  t        9  \n10247       f   207                  t        9  \n30493       f   450                  t        9  \n10936       f    19                  t        9  \n"
     ]
    }
   ],
   "source": [
    "clustered_data_scaled = df.copy()\n",
    "clustered_data_scaled['Cluster'] = identified_clusters\n",
    "\n",
    "df_sort = clustered_data_scaled.sort_values(by = 'Cluster')\n",
    "\n",
    "for i in u_labels:\n",
    "    print(df_sort[df_sort['Cluster'] == i].head())\n"
   ]
  },
  {
   "cell_type": "code",
   "execution_count": null,
   "metadata": {},
   "outputs": [],
   "source": []
  }
 ]
}